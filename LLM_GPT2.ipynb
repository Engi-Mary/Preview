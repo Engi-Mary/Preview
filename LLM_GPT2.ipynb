{
 "cells": [
  {
   "cell_type": "markdown",
   "id": "180a827b-8be2-46db-aea6-ba0af9480e38",
   "metadata": {},
   "source": [
    "# 1. Read the Dataset "
   ]
  },
  {
   "cell_type": "code",
   "execution_count": 1,
   "id": "fc91d9e1-72c5-4bc3-b9c9-94b24a6c09c6",
   "metadata": {},
   "outputs": [],
   "source": [
    "import pandas as pd\n",
    "import numpy as np\n",
    "import datetime\n",
    "pd.set_option('display.max_colwidth',None)"
   ]
  },
  {
   "cell_type": "code",
   "execution_count": 2,
   "id": "bd62670b-b452-4029-8e71-79090fb96709",
   "metadata": {},
   "outputs": [
    {
     "data": {
      "text/html": [
       "<div>\n",
       "<style scoped>\n",
       "    .dataframe tbody tr th:only-of-type {\n",
       "        vertical-align: middle;\n",
       "    }\n",
       "\n",
       "    .dataframe tbody tr th {\n",
       "        vertical-align: top;\n",
       "    }\n",
       "\n",
       "    .dataframe thead th {\n",
       "        text-align: right;\n",
       "    }\n",
       "</style>\n",
       "<table border=\"1\" class=\"dataframe\">\n",
       "  <thead>\n",
       "    <tr style=\"text-align: right;\">\n",
       "      <th></th>\n",
       "      <th>companyName</th>\n",
       "      <th>description</th>\n",
       "    </tr>\n",
       "  </thead>\n",
       "  <tbody>\n",
       "    <tr>\n",
       "      <th>0</th>\n",
       "      <td>Traton SE</td>\n",
       "      <td>Traton SE manufactures commercial vehicles worldwide. It operates in Industrial Business and Financial Services segments. The company offers light and heavy-duty commercial vehicles, such as trucks and bus chassis; vans; construction vehicles; city buses; and intercity and travel coaches, as well as spare parts and services. It also provides a cloud-based platform for freight transportation under the RIO brand name. The company offers its products and services under the MAN, Scania, Navistar, and Volkswagen Caminhões e Ônibus brands. In addition, it provides a range of financial solutions, including dealer and customer finance, leasing, and insurance products. The company was founded in 2015 and is based in Munich, Germany. Traton SE is a subsidiary of Volkswagen Finance Luxemburg S.A.</td>\n",
       "    </tr>\n",
       "    <tr>\n",
       "      <th>1</th>\n",
       "      <td>2G Energy AG</td>\n",
       "      <td>2G Energy AG, together with its subsidiaries, develops, manufactures, and installs combined heat and power (CHP) systems, and other systems for the recovery of electrical energy in Germany and internationally. It offers decentralized power and heat through gas motors driven by natural gas, biomethane, biogas, sewage gas, landfill gas, or hydrogen with an electrical output of 20 to 4,500 kW. The company's products include g-box, a natural gas CHP plant with the electrical output of 20 kW to 50 kW; aura, a CHP plant with the output range from 100 kW to 420 kW; patruus, a biogas and natural gas CHP plant with the output range from 50 kW to 263 kW; agenitor, a CHP plant with a capacity of 220 kW to 450 kW; and avus, a CHP plant with the electrical output range of 400 kW to 4.000 kW. It also engages in the rental and leasing of CHP plants. The company's products are used for various applications, such as biogas plants, office and administrative buildings, chemical and pharmaceutical industries, landfills, shopping centers, horticultural and agricultural holdings, hotels, industry and trade, sewage treatment plants, hospitals, food industry, public institutions, data processing centers, schools and universities, swimming pools, senior citizen centers, sports and leisure centers, heat grids, hydrogen, and residential buildings. The company was formerly known as 2G Bio-Energietechnik AG and changed its name to 2G Energy AG in 2011. 2G Energy AG was founded in 1995 and is headquartered in Heek, Germany.</td>\n",
       "    </tr>\n",
       "    <tr>\n",
       "      <th>2</th>\n",
       "      <td>MTU Aero Engines AG</td>\n",
       "      <td>MTU Aero Engines AG, together with its subsidiaries, develops, manufactures, markets, and maintains commercial and military engines, and aero derivative industrial gas turbines in Germany, other European countries, North America, Asia, and internationally. It operates through two segments, Commercial and Military Engine Business; and Commercial Maintenance Business. The company offers commercial aircraft engines for wide body jets, narrow body and regional jets, and business jets; military aircraft engines for fighter aircraft, helicopters, and transport aircraft; and industrial gas turbines. It also maintains, repairs, and overhauls commercial and military engines; and manufactures and markets various brush seals. The company was formerly known as MTU Aero Engines Holding AG and changed its name to MTU Aero Engines AG in May 2013. MTU Aero Engines AG was founded in 1913 and is headquartered in Munich, Germany.</td>\n",
       "    </tr>\n",
       "    <tr>\n",
       "      <th>3</th>\n",
       "      <td>Deutsche Lufthansa AG</td>\n",
       "      <td>Deutsche Lufthansa AG operates as an aviation company in Germany and internationally. The company's Network Airlines segment offers passenger services. Its Eurowings segment provides passenger services through a route network of more than 100 destinations in over 50 countries. The company's Logistics Business segment offers transport services for various cargoes, including general cargo, dangerous goods, valuables, vulnerable, perishables, live animals, courier, emergency, airmail/e-commerce, and temperature sensitive goods services approximately 300 destinations in 100 countries. Its Maintenance, Repair and Overhaul Services (MRO) segment provides maintenance, repair, and overhaul services for civilian commercial aircraft serving original equipment manufacturers and aircraft leasing companies, operators of VIP jets, and airlines. The company's Catering Business segment engages in-flight services and convenience retail, as well as other areas, such as retail and food producers. As of December 31, 2021, it had a fleet of 713 aircraft. Deutsche Lufthansa AG was founded in 1926 and is headquartered in Cologne, Germany.</td>\n",
       "    </tr>\n",
       "    <tr>\n",
       "      <th>4</th>\n",
       "      <td>Siemens Energy AG</td>\n",
       "      <td>Siemens Energy AG operates as an energy technology company worldwide. It operates in two segments, Gas and Power; and Siemens Gamesa Renewable Energy. The company provides gas and steam turbines, generators, gas engines, instrumentation and controls, and electrical systems, as well as performance enhancement, maintenance, customer training, and professional consulting services for central and distributed power generation; and transformers, air and gas-insulated switchgears, AC transmission systems, offshore windfarm grid connections, high voltage direct current transmission systems, high voltage substations, digital solutions and components, and other products. It also offers rotating equipment that includes industrial and aero-derivative gas turbines, turbo- and reciprocating compressors, power generation products, and compression trains and modules, as well as solutions in the fields of electrification, automation and digitization, plant safety, plant security, and water treatment. In addition, the company develops technologies in the fields of decarbonized energy and storage systems. Further, it offers onshore wind turbine design, engineering, manufacturing, and installation solutions for onshore markets; offshore wind turbine equipment design, manufacturing, and installation solutions; and operation and maintenance services for wind farms. The company serves utilities, independent power producers, project developers, oil and gas, transmission and distribution system operators, and industrial and infrastructure customers. Siemens Energy AG was founded in 1866 and is based in Munich, Germany.</td>\n",
       "    </tr>\n",
       "  </tbody>\n",
       "</table>\n",
       "</div>"
      ],
      "text/plain": [
       "             companyName  \\\n",
       "0              Traton SE   \n",
       "1           2G Energy AG   \n",
       "2    MTU Aero Engines AG   \n",
       "3  Deutsche Lufthansa AG   \n",
       "4      Siemens Energy AG   \n",
       "\n",
       "                                                                                                                                                                                                                                                                                                                                                                                                                                                                                                                                                                                                                                                                                                                                                                                                                                                                                                                                                                                                                                                                                                                                                                                                                                                                                                                                                                                                                                                                                                                                                                                                                                                                             description  \n",
       "0                                                                                                                                                                                                                                                                                                                                                                                                                                                                                                                                                                                                                                                                                                                                                                                                                                                           Traton SE manufactures commercial vehicles worldwide. It operates in Industrial Business and Financial Services segments. The company offers light and heavy-duty commercial vehicles, such as trucks and bus chassis; vans; construction vehicles; city buses; and intercity and travel coaches, as well as spare parts and services. It also provides a cloud-based platform for freight transportation under the RIO brand name. The company offers its products and services under the MAN, Scania, Navistar, and Volkswagen Caminhões e Ônibus brands. In addition, it provides a range of financial solutions, including dealer and customer finance, leasing, and insurance products. The company was founded in 2015 and is based in Munich, Germany. Traton SE is a subsidiary of Volkswagen Finance Luxemburg S.A.  \n",
       "1                                                                                                        2G Energy AG, together with its subsidiaries, develops, manufactures, and installs combined heat and power (CHP) systems, and other systems for the recovery of electrical energy in Germany and internationally. It offers decentralized power and heat through gas motors driven by natural gas, biomethane, biogas, sewage gas, landfill gas, or hydrogen with an electrical output of 20 to 4,500 kW. The company's products include g-box, a natural gas CHP plant with the electrical output of 20 kW to 50 kW; aura, a CHP plant with the output range from 100 kW to 420 kW; patruus, a biogas and natural gas CHP plant with the output range from 50 kW to 263 kW; agenitor, a CHP plant with a capacity of 220 kW to 450 kW; and avus, a CHP plant with the electrical output range of 400 kW to 4.000 kW. It also engages in the rental and leasing of CHP plants. The company's products are used for various applications, such as biogas plants, office and administrative buildings, chemical and pharmaceutical industries, landfills, shopping centers, horticultural and agricultural holdings, hotels, industry and trade, sewage treatment plants, hospitals, food industry, public institutions, data processing centers, schools and universities, swimming pools, senior citizen centers, sports and leisure centers, heat grids, hydrogen, and residential buildings. The company was formerly known as 2G Bio-Energietechnik AG and changed its name to 2G Energy AG in 2011. 2G Energy AG was founded in 1995 and is headquartered in Heek, Germany.  \n",
       "2                                                                                                                                                                                                                                                                                                                                                                                                                                                                                                                                                                                                                                                                                                                           MTU Aero Engines AG, together with its subsidiaries, develops, manufactures, markets, and maintains commercial and military engines, and aero derivative industrial gas turbines in Germany, other European countries, North America, Asia, and internationally. It operates through two segments, Commercial and Military Engine Business; and Commercial Maintenance Business. The company offers commercial aircraft engines for wide body jets, narrow body and regional jets, and business jets; military aircraft engines for fighter aircraft, helicopters, and transport aircraft; and industrial gas turbines. It also maintains, repairs, and overhauls commercial and military engines; and manufactures and markets various brush seals. The company was formerly known as MTU Aero Engines Holding AG and changed its name to MTU Aero Engines AG in May 2013. MTU Aero Engines AG was founded in 1913 and is headquartered in Munich, Germany.  \n",
       "3                                                                                                                                                                                                                                                                                                                                                                                                                                                                                                          Deutsche Lufthansa AG operates as an aviation company in Germany and internationally. The company's Network Airlines segment offers passenger services. Its Eurowings segment provides passenger services through a route network of more than 100 destinations in over 50 countries. The company's Logistics Business segment offers transport services for various cargoes, including general cargo, dangerous goods, valuables, vulnerable, perishables, live animals, courier, emergency, airmail/e-commerce, and temperature sensitive goods services approximately 300 destinations in 100 countries. Its Maintenance, Repair and Overhaul Services (MRO) segment provides maintenance, repair, and overhaul services for civilian commercial aircraft serving original equipment manufacturers and aircraft leasing companies, operators of VIP jets, and airlines. The company's Catering Business segment engages in-flight services and convenience retail, as well as other areas, such as retail and food producers. As of December 31, 2021, it had a fleet of 713 aircraft. Deutsche Lufthansa AG was founded in 1926 and is headquartered in Cologne, Germany.  \n",
       "4  Siemens Energy AG operates as an energy technology company worldwide. It operates in two segments, Gas and Power; and Siemens Gamesa Renewable Energy. The company provides gas and steam turbines, generators, gas engines, instrumentation and controls, and electrical systems, as well as performance enhancement, maintenance, customer training, and professional consulting services for central and distributed power generation; and transformers, air and gas-insulated switchgears, AC transmission systems, offshore windfarm grid connections, high voltage direct current transmission systems, high voltage substations, digital solutions and components, and other products. It also offers rotating equipment that includes industrial and aero-derivative gas turbines, turbo- and reciprocating compressors, power generation products, and compression trains and modules, as well as solutions in the fields of electrification, automation and digitization, plant safety, plant security, and water treatment. In addition, the company develops technologies in the fields of decarbonized energy and storage systems. Further, it offers onshore wind turbine design, engineering, manufacturing, and installation solutions for onshore markets; offshore wind turbine equipment design, manufacturing, and installation solutions; and operation and maintenance services for wind farms. The company serves utilities, independent power producers, project developers, oil and gas, transmission and distribution system operators, and industrial and infrastructure customers. Siemens Energy AG was founded in 1866 and is based in Munich, Germany.  "
      ]
     },
     "execution_count": 2,
     "metadata": {},
     "output_type": "execute_result"
    }
   ],
   "source": [
    "df = pd.read_csv(\"datasets/NLP/companies_data.csv\")\n",
    "df.head()"
   ]
  },
  {
   "cell_type": "code",
   "execution_count": 3,
   "id": "741d8355-172b-4d4a-a47d-ba16cec496e9",
   "metadata": {},
   "outputs": [
    {
     "data": {
      "text/plain": [
       "(190, 2)"
      ]
     },
     "execution_count": 3,
     "metadata": {},
     "output_type": "execute_result"
    }
   ],
   "source": [
    "df.shape"
   ]
  },
  {
   "cell_type": "markdown",
   "id": "f9fc817b-5031-49ad-8fcb-7286a799100a",
   "metadata": {},
   "source": [
    "# 2. Text Preprocessing"
   ]
  },
  {
   "cell_type": "markdown",
   "id": "4d594e10-c761-4142-8e8b-2b55c09bc7ad",
   "metadata": {},
   "source": [
    "## 2.1 Punctuation Removal"
   ]
  },
  {
   "cell_type": "code",
   "execution_count": 4,
   "id": "15aa785f-11b1-4d94-af33-f2a24d0fdd04",
   "metadata": {},
   "outputs": [],
   "source": [
    "import string"
   ]
  },
  {
   "cell_type": "code",
   "execution_count": 5,
   "id": "dc3027f4-52e0-4542-a638-8e86dd536a81",
   "metadata": {},
   "outputs": [
    {
     "data": {
      "text/html": [
       "<div>\n",
       "<style scoped>\n",
       "    .dataframe tbody tr th:only-of-type {\n",
       "        vertical-align: middle;\n",
       "    }\n",
       "\n",
       "    .dataframe tbody tr th {\n",
       "        vertical-align: top;\n",
       "    }\n",
       "\n",
       "    .dataframe thead th {\n",
       "        text-align: right;\n",
       "    }\n",
       "</style>\n",
       "<table border=\"1\" class=\"dataframe\">\n",
       "  <thead>\n",
       "    <tr style=\"text-align: right;\">\n",
       "      <th></th>\n",
       "      <th>companyName</th>\n",
       "      <th>description</th>\n",
       "      <th>puncFree</th>\n",
       "    </tr>\n",
       "  </thead>\n",
       "  <tbody>\n",
       "    <tr>\n",
       "      <th>0</th>\n",
       "      <td>Traton SE</td>\n",
       "      <td>Traton SE manufactures commercial vehicles worldwide. It operates in Industrial Business and Financial Services segments. The company offers light and heavy-duty commercial vehicles, such as trucks and bus chassis; vans; construction vehicles; city buses; and intercity and travel coaches, as well as spare parts and services. It also provides a cloud-based platform for freight transportation under the RIO brand name. The company offers its products and services under the MAN, Scania, Navistar, and Volkswagen Caminhões e Ônibus brands. In addition, it provides a range of financial solutions, including dealer and customer finance, leasing, and insurance products. The company was founded in 2015 and is based in Munich, Germany. Traton SE is a subsidiary of Volkswagen Finance Luxemburg S.A.</td>\n",
       "      <td>Traton SE manufactures commercial vehicles worldwide It operates in Industrial Business and Financial Services segments The company offers light and heavyduty commercial vehicles such as trucks and bus chassis vans construction vehicles city buses and intercity and travel coaches as well as spare parts and services It also provides a cloudbased platform for freight transportation under the RIO brand name The company offers its products and services under the MAN Scania Navistar and Volkswagen Caminhões e Ônibus brands In addition it provides a range of financial solutions including dealer and customer finance leasing and insurance products The company was founded in 2015 and is based in Munich Germany Traton SE is a subsidiary of Volkswagen Finance Luxemburg SA</td>\n",
       "    </tr>\n",
       "  </tbody>\n",
       "</table>\n",
       "</div>"
      ],
      "text/plain": [
       "  companyName  \\\n",
       "0   Traton SE   \n",
       "\n",
       "                                                                                                                                                                                                                                                                                                                                                                                                                                                                                                                                                                                                                                                                                                                                                                                                                    description  \\\n",
       "0  Traton SE manufactures commercial vehicles worldwide. It operates in Industrial Business and Financial Services segments. The company offers light and heavy-duty commercial vehicles, such as trucks and bus chassis; vans; construction vehicles; city buses; and intercity and travel coaches, as well as spare parts and services. It also provides a cloud-based platform for freight transportation under the RIO brand name. The company offers its products and services under the MAN, Scania, Navistar, and Volkswagen Caminhões e Ônibus brands. In addition, it provides a range of financial solutions, including dealer and customer finance, leasing, and insurance products. The company was founded in 2015 and is based in Munich, Germany. Traton SE is a subsidiary of Volkswagen Finance Luxemburg S.A.   \n",
       "\n",
       "                                                                                                                                                                                                                                                                                                                                                                                                                                                                                                                                                                                                                                                                                                                                                                                              puncFree  \n",
       "0  Traton SE manufactures commercial vehicles worldwide It operates in Industrial Business and Financial Services segments The company offers light and heavyduty commercial vehicles such as trucks and bus chassis vans construction vehicles city buses and intercity and travel coaches as well as spare parts and services It also provides a cloudbased platform for freight transportation under the RIO brand name The company offers its products and services under the MAN Scania Navistar and Volkswagen Caminhões e Ônibus brands In addition it provides a range of financial solutions including dealer and customer finance leasing and insurance products The company was founded in 2015 and is based in Munich Germany Traton SE is a subsidiary of Volkswagen Finance Luxemburg SA  "
      ]
     },
     "execution_count": 5,
     "metadata": {},
     "output_type": "execute_result"
    }
   ],
   "source": [
    "def remove_punctuation(text):\n",
    "    punctuationFree = \"\".join([i for i in text if i not in string.punctuation])\n",
    "    return punctuationFree\n",
    "\n",
    "df[\"puncFree\"] = df['description'].apply(lambda x:remove_punctuation(x))\n",
    "df['companyName'] = df['companyName'].apply(lambda x:remove_punctuation(x))\n",
    "\n",
    "df.head(1)"
   ]
  },
  {
   "cell_type": "markdown",
   "id": "9ba06658-5a92-4fe8-b111-4d5ff8223106",
   "metadata": {},
   "source": [
    "## 2.2 Lowercasing"
   ]
  },
  {
   "cell_type": "code",
   "execution_count": 6,
   "id": "7c8da334-d61b-4eb5-9613-06614e0e75af",
   "metadata": {},
   "outputs": [
    {
     "data": {
      "text/html": [
       "<div>\n",
       "<style scoped>\n",
       "    .dataframe tbody tr th:only-of-type {\n",
       "        vertical-align: middle;\n",
       "    }\n",
       "\n",
       "    .dataframe tbody tr th {\n",
       "        vertical-align: top;\n",
       "    }\n",
       "\n",
       "    .dataframe thead th {\n",
       "        text-align: right;\n",
       "    }\n",
       "</style>\n",
       "<table border=\"1\" class=\"dataframe\">\n",
       "  <thead>\n",
       "    <tr style=\"text-align: right;\">\n",
       "      <th></th>\n",
       "      <th>companyName</th>\n",
       "      <th>description</th>\n",
       "      <th>puncFree</th>\n",
       "      <th>lowercased</th>\n",
       "    </tr>\n",
       "  </thead>\n",
       "  <tbody>\n",
       "    <tr>\n",
       "      <th>0</th>\n",
       "      <td>traton se</td>\n",
       "      <td>Traton SE manufactures commercial vehicles worldwide. It operates in Industrial Business and Financial Services segments. The company offers light and heavy-duty commercial vehicles, such as trucks and bus chassis; vans; construction vehicles; city buses; and intercity and travel coaches, as well as spare parts and services. It also provides a cloud-based platform for freight transportation under the RIO brand name. The company offers its products and services under the MAN, Scania, Navistar, and Volkswagen Caminhões e Ônibus brands. In addition, it provides a range of financial solutions, including dealer and customer finance, leasing, and insurance products. The company was founded in 2015 and is based in Munich, Germany. Traton SE is a subsidiary of Volkswagen Finance Luxemburg S.A.</td>\n",
       "      <td>Traton SE manufactures commercial vehicles worldwide It operates in Industrial Business and Financial Services segments The company offers light and heavyduty commercial vehicles such as trucks and bus chassis vans construction vehicles city buses and intercity and travel coaches as well as spare parts and services It also provides a cloudbased platform for freight transportation under the RIO brand name The company offers its products and services under the MAN Scania Navistar and Volkswagen Caminhões e Ônibus brands In addition it provides a range of financial solutions including dealer and customer finance leasing and insurance products The company was founded in 2015 and is based in Munich Germany Traton SE is a subsidiary of Volkswagen Finance Luxemburg SA</td>\n",
       "      <td>traton se manufactures commercial vehicles worldwide it operates in industrial business and financial services segments the company offers light and heavyduty commercial vehicles such as trucks and bus chassis vans construction vehicles city buses and intercity and travel coaches as well as spare parts and services it also provides a cloudbased platform for freight transportation under the rio brand name the company offers its products and services under the man scania navistar and volkswagen caminhões e ônibus brands in addition it provides a range of financial solutions including dealer and customer finance leasing and insurance products the company was founded in 2015 and is based in munich germany traton se is a subsidiary of volkswagen finance luxemburg sa</td>\n",
       "    </tr>\n",
       "  </tbody>\n",
       "</table>\n",
       "</div>"
      ],
      "text/plain": [
       "  companyName  \\\n",
       "0   traton se   \n",
       "\n",
       "                                                                                                                                                                                                                                                                                                                                                                                                                                                                                                                                                                                                                                                                                                                                                                                                                    description  \\\n",
       "0  Traton SE manufactures commercial vehicles worldwide. It operates in Industrial Business and Financial Services segments. The company offers light and heavy-duty commercial vehicles, such as trucks and bus chassis; vans; construction vehicles; city buses; and intercity and travel coaches, as well as spare parts and services. It also provides a cloud-based platform for freight transportation under the RIO brand name. The company offers its products and services under the MAN, Scania, Navistar, and Volkswagen Caminhões e Ônibus brands. In addition, it provides a range of financial solutions, including dealer and customer finance, leasing, and insurance products. The company was founded in 2015 and is based in Munich, Germany. Traton SE is a subsidiary of Volkswagen Finance Luxemburg S.A.   \n",
       "\n",
       "                                                                                                                                                                                                                                                                                                                                                                                                                                                                                                                                                                                                                                                                                                                                                                                              puncFree  \\\n",
       "0  Traton SE manufactures commercial vehicles worldwide It operates in Industrial Business and Financial Services segments The company offers light and heavyduty commercial vehicles such as trucks and bus chassis vans construction vehicles city buses and intercity and travel coaches as well as spare parts and services It also provides a cloudbased platform for freight transportation under the RIO brand name The company offers its products and services under the MAN Scania Navistar and Volkswagen Caminhões e Ônibus brands In addition it provides a range of financial solutions including dealer and customer finance leasing and insurance products The company was founded in 2015 and is based in Munich Germany Traton SE is a subsidiary of Volkswagen Finance Luxemburg SA   \n",
       "\n",
       "                                                                                                                                                                                                                                                                                                                                                                                                                                                                                                                                                                                                                                                                                                                                                                                            lowercased  \n",
       "0  traton se manufactures commercial vehicles worldwide it operates in industrial business and financial services segments the company offers light and heavyduty commercial vehicles such as trucks and bus chassis vans construction vehicles city buses and intercity and travel coaches as well as spare parts and services it also provides a cloudbased platform for freight transportation under the rio brand name the company offers its products and services under the man scania navistar and volkswagen caminhões e ônibus brands in addition it provides a range of financial solutions including dealer and customer finance leasing and insurance products the company was founded in 2015 and is based in munich germany traton se is a subsidiary of volkswagen finance luxemburg sa  "
      ]
     },
     "execution_count": 6,
     "metadata": {},
     "output_type": "execute_result"
    }
   ],
   "source": [
    "df[\"lowercased\"] = df[\"puncFree\"].apply(lambda x: x.lower())\n",
    "df['companyName'] = df['companyName'].apply(lambda x: x.lower())\n",
    "df.head(1)"
   ]
  },
  {
   "cell_type": "markdown",
   "id": "f8719a07-faa6-4ef3-afeb-3e90aca09424",
   "metadata": {},
   "source": [
    "## 2.3 Tokenization"
   ]
  },
  {
   "cell_type": "code",
   "execution_count": 7,
   "id": "630f5627-c5ce-4309-a009-290d2faddc4c",
   "metadata": {},
   "outputs": [],
   "source": [
    "import re"
   ]
  },
  {
   "cell_type": "code",
   "execution_count": 8,
   "id": "ca4f11ff-6c2f-4335-8c5a-5b39a86443c4",
   "metadata": {},
   "outputs": [
    {
     "data": {
      "text/html": [
       "<div>\n",
       "<style scoped>\n",
       "    .dataframe tbody tr th:only-of-type {\n",
       "        vertical-align: middle;\n",
       "    }\n",
       "\n",
       "    .dataframe tbody tr th {\n",
       "        vertical-align: top;\n",
       "    }\n",
       "\n",
       "    .dataframe thead th {\n",
       "        text-align: right;\n",
       "    }\n",
       "</style>\n",
       "<table border=\"1\" class=\"dataframe\">\n",
       "  <thead>\n",
       "    <tr style=\"text-align: right;\">\n",
       "      <th></th>\n",
       "      <th>companyName</th>\n",
       "      <th>description</th>\n",
       "      <th>puncFree</th>\n",
       "      <th>lowercased</th>\n",
       "      <th>tokenized</th>\n",
       "    </tr>\n",
       "  </thead>\n",
       "  <tbody>\n",
       "    <tr>\n",
       "      <th>0</th>\n",
       "      <td>[traton, se]</td>\n",
       "      <td>Traton SE manufactures commercial vehicles worldwide. It operates in Industrial Business and Financial Services segments. The company offers light and heavy-duty commercial vehicles, such as trucks and bus chassis; vans; construction vehicles; city buses; and intercity and travel coaches, as well as spare parts and services. It also provides a cloud-based platform for freight transportation under the RIO brand name. The company offers its products and services under the MAN, Scania, Navistar, and Volkswagen Caminhões e Ônibus brands. In addition, it provides a range of financial solutions, including dealer and customer finance, leasing, and insurance products. The company was founded in 2015 and is based in Munich, Germany. Traton SE is a subsidiary of Volkswagen Finance Luxemburg S.A.</td>\n",
       "      <td>Traton SE manufactures commercial vehicles worldwide It operates in Industrial Business and Financial Services segments The company offers light and heavyduty commercial vehicles such as trucks and bus chassis vans construction vehicles city buses and intercity and travel coaches as well as spare parts and services It also provides a cloudbased platform for freight transportation under the RIO brand name The company offers its products and services under the MAN Scania Navistar and Volkswagen Caminhões e Ônibus brands In addition it provides a range of financial solutions including dealer and customer finance leasing and insurance products The company was founded in 2015 and is based in Munich Germany Traton SE is a subsidiary of Volkswagen Finance Luxemburg SA</td>\n",
       "      <td>traton se manufactures commercial vehicles worldwide it operates in industrial business and financial services segments the company offers light and heavyduty commercial vehicles such as trucks and bus chassis vans construction vehicles city buses and intercity and travel coaches as well as spare parts and services it also provides a cloudbased platform for freight transportation under the rio brand name the company offers its products and services under the man scania navistar and volkswagen caminhões e ônibus brands in addition it provides a range of financial solutions including dealer and customer finance leasing and insurance products the company was founded in 2015 and is based in munich germany traton se is a subsidiary of volkswagen finance luxemburg sa</td>\n",
       "      <td>[traton, se, manufactures, commercial, vehicles, worldwide, it, operates, in, industrial, business, and, financial, services, segments, the, company, offers, light, and, heavyduty, commercial, vehicles, such, as, trucks, and, bus, chassis, vans, construction, vehicles, city, buses, and, intercity, and, travel, coaches, as, well, as, spare, parts, and, services, it, also, provides, a, cloudbased, platform, for, freight, transportation, under, the, rio, brand, name, the, company, offers, its, products, and, services, under, the, man, scania, navistar, and, volkswagen, caminhões, e, ônibus, brands, in, addition, it, provides, a, range, of, financial, solutions, including, dealer, and, customer, finance, leasing, and, insurance, products, the, company, was, founded, ...]</td>\n",
       "    </tr>\n",
       "  </tbody>\n",
       "</table>\n",
       "</div>"
      ],
      "text/plain": [
       "    companyName  \\\n",
       "0  [traton, se]   \n",
       "\n",
       "                                                                                                                                                                                                                                                                                                                                                                                                                                                                                                                                                                                                                                                                                                                                                                                                                    description  \\\n",
       "0  Traton SE manufactures commercial vehicles worldwide. It operates in Industrial Business and Financial Services segments. The company offers light and heavy-duty commercial vehicles, such as trucks and bus chassis; vans; construction vehicles; city buses; and intercity and travel coaches, as well as spare parts and services. It also provides a cloud-based platform for freight transportation under the RIO brand name. The company offers its products and services under the MAN, Scania, Navistar, and Volkswagen Caminhões e Ônibus brands. In addition, it provides a range of financial solutions, including dealer and customer finance, leasing, and insurance products. The company was founded in 2015 and is based in Munich, Germany. Traton SE is a subsidiary of Volkswagen Finance Luxemburg S.A.   \n",
       "\n",
       "                                                                                                                                                                                                                                                                                                                                                                                                                                                                                                                                                                                                                                                                                                                                                                                              puncFree  \\\n",
       "0  Traton SE manufactures commercial vehicles worldwide It operates in Industrial Business and Financial Services segments The company offers light and heavyduty commercial vehicles such as trucks and bus chassis vans construction vehicles city buses and intercity and travel coaches as well as spare parts and services It also provides a cloudbased platform for freight transportation under the RIO brand name The company offers its products and services under the MAN Scania Navistar and Volkswagen Caminhões e Ônibus brands In addition it provides a range of financial solutions including dealer and customer finance leasing and insurance products The company was founded in 2015 and is based in Munich Germany Traton SE is a subsidiary of Volkswagen Finance Luxemburg SA   \n",
       "\n",
       "                                                                                                                                                                                                                                                                                                                                                                                                                                                                                                                                                                                                                                                                                                                                                                                            lowercased  \\\n",
       "0  traton se manufactures commercial vehicles worldwide it operates in industrial business and financial services segments the company offers light and heavyduty commercial vehicles such as trucks and bus chassis vans construction vehicles city buses and intercity and travel coaches as well as spare parts and services it also provides a cloudbased platform for freight transportation under the rio brand name the company offers its products and services under the man scania navistar and volkswagen caminhões e ônibus brands in addition it provides a range of financial solutions including dealer and customer finance leasing and insurance products the company was founded in 2015 and is based in munich germany traton se is a subsidiary of volkswagen finance luxemburg sa   \n",
       "\n",
       "                                                                                                                                                                                                                                                                                                                                                                                                                                                                                                                                                                                                                                                                                                                                                                                                   tokenized  \n",
       "0  [traton, se, manufactures, commercial, vehicles, worldwide, it, operates, in, industrial, business, and, financial, services, segments, the, company, offers, light, and, heavyduty, commercial, vehicles, such, as, trucks, and, bus, chassis, vans, construction, vehicles, city, buses, and, intercity, and, travel, coaches, as, well, as, spare, parts, and, services, it, also, provides, a, cloudbased, platform, for, freight, transportation, under, the, rio, brand, name, the, company, offers, its, products, and, services, under, the, man, scania, navistar, and, volkswagen, caminhões, e, ônibus, brands, in, addition, it, provides, a, range, of, financial, solutions, including, dealer, and, customer, finance, leasing, and, insurance, products, the, company, was, founded, ...]  "
      ]
     },
     "execution_count": 8,
     "metadata": {},
     "output_type": "execute_result"
    }
   ],
   "source": [
    "def tokenization(text):\n",
    "    tokens = re.split(\"\\W+\",text)\n",
    "    return tokens\n",
    "\n",
    "df[\"tokenized\"] = df[\"lowercased\"].apply(lambda x: tokenization(x))\n",
    "df['companyName'] = df['companyName'].apply(lambda x: tokenization(x))\n",
    "df.head(1)"
   ]
  },
  {
   "cell_type": "markdown",
   "id": "934cec59-2ecb-40f7-b009-bc25e8a253a7",
   "metadata": {},
   "source": [
    "## 2.4 Stop-Word Removal"
   ]
  },
  {
   "cell_type": "code",
   "execution_count": 9,
   "id": "3f150fc3-6622-4bda-b33f-6417c6d407b9",
   "metadata": {},
   "outputs": [],
   "source": [
    "import nltk"
   ]
  },
  {
   "cell_type": "code",
   "execution_count": 10,
   "id": "4a61b869-1578-4339-9fc1-499433208e65",
   "metadata": {},
   "outputs": [],
   "source": [
    "# nltk.download()"
   ]
  },
  {
   "cell_type": "code",
   "execution_count": 11,
   "id": "16276eda-1f96-4df9-a440-7be1971bef51",
   "metadata": {},
   "outputs": [
    {
     "data": {
      "text/plain": [
       "['i', 'me', 'my', 'myself', 'we', 'our', 'ours', 'ourselves', 'you', \"you're\"]"
      ]
     },
     "execution_count": 11,
     "metadata": {},
     "output_type": "execute_result"
    }
   ],
   "source": [
    "stopWords = nltk.corpus.stopwords.words('english')\n",
    "stopWords[0:10]"
   ]
  },
  {
   "cell_type": "code",
   "execution_count": 12,
   "id": "cc3a23b8-4028-4447-9772-ef37780e84b2",
   "metadata": {},
   "outputs": [
    {
     "data": {
      "text/html": [
       "<div>\n",
       "<style scoped>\n",
       "    .dataframe tbody tr th:only-of-type {\n",
       "        vertical-align: middle;\n",
       "    }\n",
       "\n",
       "    .dataframe tbody tr th {\n",
       "        vertical-align: top;\n",
       "    }\n",
       "\n",
       "    .dataframe thead th {\n",
       "        text-align: right;\n",
       "    }\n",
       "</style>\n",
       "<table border=\"1\" class=\"dataframe\">\n",
       "  <thead>\n",
       "    <tr style=\"text-align: right;\">\n",
       "      <th></th>\n",
       "      <th>companyName</th>\n",
       "      <th>description</th>\n",
       "      <th>puncFree</th>\n",
       "      <th>lowercased</th>\n",
       "      <th>tokenized</th>\n",
       "      <th>no_stop_words</th>\n",
       "    </tr>\n",
       "  </thead>\n",
       "  <tbody>\n",
       "    <tr>\n",
       "      <th>0</th>\n",
       "      <td>[traton, se]</td>\n",
       "      <td>Traton SE manufactures commercial vehicles worldwide. It operates in Industrial Business and Financial Services segments. The company offers light and heavy-duty commercial vehicles, such as trucks and bus chassis; vans; construction vehicles; city buses; and intercity and travel coaches, as well as spare parts and services. It also provides a cloud-based platform for freight transportation under the RIO brand name. The company offers its products and services under the MAN, Scania, Navistar, and Volkswagen Caminhões e Ônibus brands. In addition, it provides a range of financial solutions, including dealer and customer finance, leasing, and insurance products. The company was founded in 2015 and is based in Munich, Germany. Traton SE is a subsidiary of Volkswagen Finance Luxemburg S.A.</td>\n",
       "      <td>Traton SE manufactures commercial vehicles worldwide It operates in Industrial Business and Financial Services segments The company offers light and heavyduty commercial vehicles such as trucks and bus chassis vans construction vehicles city buses and intercity and travel coaches as well as spare parts and services It also provides a cloudbased platform for freight transportation under the RIO brand name The company offers its products and services under the MAN Scania Navistar and Volkswagen Caminhões e Ônibus brands In addition it provides a range of financial solutions including dealer and customer finance leasing and insurance products The company was founded in 2015 and is based in Munich Germany Traton SE is a subsidiary of Volkswagen Finance Luxemburg SA</td>\n",
       "      <td>traton se manufactures commercial vehicles worldwide it operates in industrial business and financial services segments the company offers light and heavyduty commercial vehicles such as trucks and bus chassis vans construction vehicles city buses and intercity and travel coaches as well as spare parts and services it also provides a cloudbased platform for freight transportation under the rio brand name the company offers its products and services under the man scania navistar and volkswagen caminhões e ônibus brands in addition it provides a range of financial solutions including dealer and customer finance leasing and insurance products the company was founded in 2015 and is based in munich germany traton se is a subsidiary of volkswagen finance luxemburg sa</td>\n",
       "      <td>[traton, se, manufactures, commercial, vehicles, worldwide, it, operates, in, industrial, business, and, financial, services, segments, the, company, offers, light, and, heavyduty, commercial, vehicles, such, as, trucks, and, bus, chassis, vans, construction, vehicles, city, buses, and, intercity, and, travel, coaches, as, well, as, spare, parts, and, services, it, also, provides, a, cloudbased, platform, for, freight, transportation, under, the, rio, brand, name, the, company, offers, its, products, and, services, under, the, man, scania, navistar, and, volkswagen, caminhões, e, ônibus, brands, in, addition, it, provides, a, range, of, financial, solutions, including, dealer, and, customer, finance, leasing, and, insurance, products, the, company, was, founded, ...]</td>\n",
       "      <td>[traton, se, manufactures, commercial, vehicles, worldwide, operates, industrial, business, financial, services, segments, company, offers, light, heavyduty, commercial, vehicles, trucks, bus, chassis, vans, construction, vehicles, city, buses, intercity, travel, coaches, well, spare, parts, services, also, provides, cloudbased, platform, freight, transportation, rio, brand, name, company, offers, products, services, man, scania, navistar, volkswagen, caminhões, e, ônibus, brands, addition, provides, range, financial, solutions, including, dealer, customer, finance, leasing, insurance, products, company, founded, 2015, based, munich, germany, traton, se, subsidiary, volkswagen, finance, luxemburg, sa]</td>\n",
       "    </tr>\n",
       "  </tbody>\n",
       "</table>\n",
       "</div>"
      ],
      "text/plain": [
       "    companyName  \\\n",
       "0  [traton, se]   \n",
       "\n",
       "                                                                                                                                                                                                                                                                                                                                                                                                                                                                                                                                                                                                                                                                                                                                                                                                                    description  \\\n",
       "0  Traton SE manufactures commercial vehicles worldwide. It operates in Industrial Business and Financial Services segments. The company offers light and heavy-duty commercial vehicles, such as trucks and bus chassis; vans; construction vehicles; city buses; and intercity and travel coaches, as well as spare parts and services. It also provides a cloud-based platform for freight transportation under the RIO brand name. The company offers its products and services under the MAN, Scania, Navistar, and Volkswagen Caminhões e Ônibus brands. In addition, it provides a range of financial solutions, including dealer and customer finance, leasing, and insurance products. The company was founded in 2015 and is based in Munich, Germany. Traton SE is a subsidiary of Volkswagen Finance Luxemburg S.A.   \n",
       "\n",
       "                                                                                                                                                                                                                                                                                                                                                                                                                                                                                                                                                                                                                                                                                                                                                                                              puncFree  \\\n",
       "0  Traton SE manufactures commercial vehicles worldwide It operates in Industrial Business and Financial Services segments The company offers light and heavyduty commercial vehicles such as trucks and bus chassis vans construction vehicles city buses and intercity and travel coaches as well as spare parts and services It also provides a cloudbased platform for freight transportation under the RIO brand name The company offers its products and services under the MAN Scania Navistar and Volkswagen Caminhões e Ônibus brands In addition it provides a range of financial solutions including dealer and customer finance leasing and insurance products The company was founded in 2015 and is based in Munich Germany Traton SE is a subsidiary of Volkswagen Finance Luxemburg SA   \n",
       "\n",
       "                                                                                                                                                                                                                                                                                                                                                                                                                                                                                                                                                                                                                                                                                                                                                                                            lowercased  \\\n",
       "0  traton se manufactures commercial vehicles worldwide it operates in industrial business and financial services segments the company offers light and heavyduty commercial vehicles such as trucks and bus chassis vans construction vehicles city buses and intercity and travel coaches as well as spare parts and services it also provides a cloudbased platform for freight transportation under the rio brand name the company offers its products and services under the man scania navistar and volkswagen caminhões e ônibus brands in addition it provides a range of financial solutions including dealer and customer finance leasing and insurance products the company was founded in 2015 and is based in munich germany traton se is a subsidiary of volkswagen finance luxemburg sa   \n",
       "\n",
       "                                                                                                                                                                                                                                                                                                                                                                                                                                                                                                                                                                                                                                                                                                                                                                                                   tokenized  \\\n",
       "0  [traton, se, manufactures, commercial, vehicles, worldwide, it, operates, in, industrial, business, and, financial, services, segments, the, company, offers, light, and, heavyduty, commercial, vehicles, such, as, trucks, and, bus, chassis, vans, construction, vehicles, city, buses, and, intercity, and, travel, coaches, as, well, as, spare, parts, and, services, it, also, provides, a, cloudbased, platform, for, freight, transportation, under, the, rio, brand, name, the, company, offers, its, products, and, services, under, the, man, scania, navistar, and, volkswagen, caminhões, e, ônibus, brands, in, addition, it, provides, a, range, of, financial, solutions, including, dealer, and, customer, finance, leasing, and, insurance, products, the, company, was, founded, ...]   \n",
       "\n",
       "                                                                                                                                                                                                                                                                                                                                                                                                                                                                                                                                                                                                                                                                                                                            no_stop_words  \n",
       "0  [traton, se, manufactures, commercial, vehicles, worldwide, operates, industrial, business, financial, services, segments, company, offers, light, heavyduty, commercial, vehicles, trucks, bus, chassis, vans, construction, vehicles, city, buses, intercity, travel, coaches, well, spare, parts, services, also, provides, cloudbased, platform, freight, transportation, rio, brand, name, company, offers, products, services, man, scania, navistar, volkswagen, caminhões, e, ônibus, brands, addition, provides, range, financial, solutions, including, dealer, customer, finance, leasing, insurance, products, company, founded, 2015, based, munich, germany, traton, se, subsidiary, volkswagen, finance, luxemburg, sa]  "
      ]
     },
     "execution_count": 12,
     "metadata": {},
     "output_type": "execute_result"
    }
   ],
   "source": [
    "def remove_stopwords(text):\n",
    "    output = [i for i in text if i not in stopWords]\n",
    "    return output\n",
    "\n",
    "df[\"no_stop_words\"] = df[\"tokenized\"].apply(lambda x: remove_stopwords(x))\n",
    "df['companyName'] = df['companyName'].apply(lambda x: remove_stopwords(x))\n",
    "df.head(1)"
   ]
  },
  {
   "cell_type": "markdown",
   "id": "4dc2e9db-2ec8-45ce-aa45-65b6495ed7e0",
   "metadata": {},
   "source": [
    "## 2.5 Lemmatization "
   ]
  },
  {
   "cell_type": "code",
   "execution_count": 13,
   "id": "6f36ce42-3f4a-4c6a-bb28-b40f67cb089e",
   "metadata": {},
   "outputs": [],
   "source": [
    "from nltk.stem import WordNetLemmatizer"
   ]
  },
  {
   "cell_type": "code",
   "execution_count": 14,
   "id": "d480513a-bc10-40fc-8dff-04d4f8760ee0",
   "metadata": {},
   "outputs": [
    {
     "data": {
      "text/html": [
       "<div>\n",
       "<style scoped>\n",
       "    .dataframe tbody tr th:only-of-type {\n",
       "        vertical-align: middle;\n",
       "    }\n",
       "\n",
       "    .dataframe tbody tr th {\n",
       "        vertical-align: top;\n",
       "    }\n",
       "\n",
       "    .dataframe thead th {\n",
       "        text-align: right;\n",
       "    }\n",
       "</style>\n",
       "<table border=\"1\" class=\"dataframe\">\n",
       "  <thead>\n",
       "    <tr style=\"text-align: right;\">\n",
       "      <th></th>\n",
       "      <th>companyName</th>\n",
       "      <th>description</th>\n",
       "      <th>puncFree</th>\n",
       "      <th>lowercased</th>\n",
       "      <th>tokenized</th>\n",
       "      <th>no_stop_words</th>\n",
       "      <th>lemmatized</th>\n",
       "    </tr>\n",
       "  </thead>\n",
       "  <tbody>\n",
       "    <tr>\n",
       "      <th>0</th>\n",
       "      <td>[traton, se]</td>\n",
       "      <td>Traton SE manufactures commercial vehicles worldwide. It operates in Industrial Business and Financial Services segments. The company offers light and heavy-duty commercial vehicles, such as trucks and bus chassis; vans; construction vehicles; city buses; and intercity and travel coaches, as well as spare parts and services. It also provides a cloud-based platform for freight transportation under the RIO brand name. The company offers its products and services under the MAN, Scania, Navistar, and Volkswagen Caminhões e Ônibus brands. In addition, it provides a range of financial solutions, including dealer and customer finance, leasing, and insurance products. The company was founded in 2015 and is based in Munich, Germany. Traton SE is a subsidiary of Volkswagen Finance Luxemburg S.A.</td>\n",
       "      <td>Traton SE manufactures commercial vehicles worldwide It operates in Industrial Business and Financial Services segments The company offers light and heavyduty commercial vehicles such as trucks and bus chassis vans construction vehicles city buses and intercity and travel coaches as well as spare parts and services It also provides a cloudbased platform for freight transportation under the RIO brand name The company offers its products and services under the MAN Scania Navistar and Volkswagen Caminhões e Ônibus brands In addition it provides a range of financial solutions including dealer and customer finance leasing and insurance products The company was founded in 2015 and is based in Munich Germany Traton SE is a subsidiary of Volkswagen Finance Luxemburg SA</td>\n",
       "      <td>traton se manufactures commercial vehicles worldwide it operates in industrial business and financial services segments the company offers light and heavyduty commercial vehicles such as trucks and bus chassis vans construction vehicles city buses and intercity and travel coaches as well as spare parts and services it also provides a cloudbased platform for freight transportation under the rio brand name the company offers its products and services under the man scania navistar and volkswagen caminhões e ônibus brands in addition it provides a range of financial solutions including dealer and customer finance leasing and insurance products the company was founded in 2015 and is based in munich germany traton se is a subsidiary of volkswagen finance luxemburg sa</td>\n",
       "      <td>[traton, se, manufactures, commercial, vehicles, worldwide, it, operates, in, industrial, business, and, financial, services, segments, the, company, offers, light, and, heavyduty, commercial, vehicles, such, as, trucks, and, bus, chassis, vans, construction, vehicles, city, buses, and, intercity, and, travel, coaches, as, well, as, spare, parts, and, services, it, also, provides, a, cloudbased, platform, for, freight, transportation, under, the, rio, brand, name, the, company, offers, its, products, and, services, under, the, man, scania, navistar, and, volkswagen, caminhões, e, ônibus, brands, in, addition, it, provides, a, range, of, financial, solutions, including, dealer, and, customer, finance, leasing, and, insurance, products, the, company, was, founded, ...]</td>\n",
       "      <td>[traton, se, manufactures, commercial, vehicles, worldwide, operates, industrial, business, financial, services, segments, company, offers, light, heavyduty, commercial, vehicles, trucks, bus, chassis, vans, construction, vehicles, city, buses, intercity, travel, coaches, well, spare, parts, services, also, provides, cloudbased, platform, freight, transportation, rio, brand, name, company, offers, products, services, man, scania, navistar, volkswagen, caminhões, e, ônibus, brands, addition, provides, range, financial, solutions, including, dealer, customer, finance, leasing, insurance, products, company, founded, 2015, based, munich, germany, traton, se, subsidiary, volkswagen, finance, luxemburg, sa]</td>\n",
       "      <td>[traton, se, manufacture, commercial, vehicle, worldwide, operates, industrial, business, financial, service, segment, company, offer, light, heavyduty, commercial, vehicle, truck, bus, chassis, van, construction, vehicle, city, bus, intercity, travel, coach, well, spare, part, service, also, provides, cloudbased, platform, freight, transportation, rio, brand, name, company, offer, product, service, man, scania, navistar, volkswagen, caminhões, e, ônibus, brand, addition, provides, range, financial, solution, including, dealer, customer, finance, leasing, insurance, product, company, founded, 2015, based, munich, germany, traton, se, subsidiary, volkswagen, finance, luxemburg, sa]</td>\n",
       "    </tr>\n",
       "  </tbody>\n",
       "</table>\n",
       "</div>"
      ],
      "text/plain": [
       "    companyName  \\\n",
       "0  [traton, se]   \n",
       "\n",
       "                                                                                                                                                                                                                                                                                                                                                                                                                                                                                                                                                                                                                                                                                                                                                                                                                    description  \\\n",
       "0  Traton SE manufactures commercial vehicles worldwide. It operates in Industrial Business and Financial Services segments. The company offers light and heavy-duty commercial vehicles, such as trucks and bus chassis; vans; construction vehicles; city buses; and intercity and travel coaches, as well as spare parts and services. It also provides a cloud-based platform for freight transportation under the RIO brand name. The company offers its products and services under the MAN, Scania, Navistar, and Volkswagen Caminhões e Ônibus brands. In addition, it provides a range of financial solutions, including dealer and customer finance, leasing, and insurance products. The company was founded in 2015 and is based in Munich, Germany. Traton SE is a subsidiary of Volkswagen Finance Luxemburg S.A.   \n",
       "\n",
       "                                                                                                                                                                                                                                                                                                                                                                                                                                                                                                                                                                                                                                                                                                                                                                                              puncFree  \\\n",
       "0  Traton SE manufactures commercial vehicles worldwide It operates in Industrial Business and Financial Services segments The company offers light and heavyduty commercial vehicles such as trucks and bus chassis vans construction vehicles city buses and intercity and travel coaches as well as spare parts and services It also provides a cloudbased platform for freight transportation under the RIO brand name The company offers its products and services under the MAN Scania Navistar and Volkswagen Caminhões e Ônibus brands In addition it provides a range of financial solutions including dealer and customer finance leasing and insurance products The company was founded in 2015 and is based in Munich Germany Traton SE is a subsidiary of Volkswagen Finance Luxemburg SA   \n",
       "\n",
       "                                                                                                                                                                                                                                                                                                                                                                                                                                                                                                                                                                                                                                                                                                                                                                                            lowercased  \\\n",
       "0  traton se manufactures commercial vehicles worldwide it operates in industrial business and financial services segments the company offers light and heavyduty commercial vehicles such as trucks and bus chassis vans construction vehicles city buses and intercity and travel coaches as well as spare parts and services it also provides a cloudbased platform for freight transportation under the rio brand name the company offers its products and services under the man scania navistar and volkswagen caminhões e ônibus brands in addition it provides a range of financial solutions including dealer and customer finance leasing and insurance products the company was founded in 2015 and is based in munich germany traton se is a subsidiary of volkswagen finance luxemburg sa   \n",
       "\n",
       "                                                                                                                                                                                                                                                                                                                                                                                                                                                                                                                                                                                                                                                                                                                                                                                                   tokenized  \\\n",
       "0  [traton, se, manufactures, commercial, vehicles, worldwide, it, operates, in, industrial, business, and, financial, services, segments, the, company, offers, light, and, heavyduty, commercial, vehicles, such, as, trucks, and, bus, chassis, vans, construction, vehicles, city, buses, and, intercity, and, travel, coaches, as, well, as, spare, parts, and, services, it, also, provides, a, cloudbased, platform, for, freight, transportation, under, the, rio, brand, name, the, company, offers, its, products, and, services, under, the, man, scania, navistar, and, volkswagen, caminhões, e, ônibus, brands, in, addition, it, provides, a, range, of, financial, solutions, including, dealer, and, customer, finance, leasing, and, insurance, products, the, company, was, founded, ...]   \n",
       "\n",
       "                                                                                                                                                                                                                                                                                                                                                                                                                                                                                                                                                                                                                                                                                                                            no_stop_words  \\\n",
       "0  [traton, se, manufactures, commercial, vehicles, worldwide, operates, industrial, business, financial, services, segments, company, offers, light, heavyduty, commercial, vehicles, trucks, bus, chassis, vans, construction, vehicles, city, buses, intercity, travel, coaches, well, spare, parts, services, also, provides, cloudbased, platform, freight, transportation, rio, brand, name, company, offers, products, services, man, scania, navistar, volkswagen, caminhões, e, ônibus, brands, addition, provides, range, financial, solutions, including, dealer, customer, finance, leasing, insurance, products, company, founded, 2015, based, munich, germany, traton, se, subsidiary, volkswagen, finance, luxemburg, sa]   \n",
       "\n",
       "                                                                                                                                                                                                                                                                                                                                                                                                                                                                                                                                                                                                                                                                                                          lemmatized  \n",
       "0  [traton, se, manufacture, commercial, vehicle, worldwide, operates, industrial, business, financial, service, segment, company, offer, light, heavyduty, commercial, vehicle, truck, bus, chassis, van, construction, vehicle, city, bus, intercity, travel, coach, well, spare, part, service, also, provides, cloudbased, platform, freight, transportation, rio, brand, name, company, offer, product, service, man, scania, navistar, volkswagen, caminhões, e, ônibus, brand, addition, provides, range, financial, solution, including, dealer, customer, finance, leasing, insurance, product, company, founded, 2015, based, munich, germany, traton, se, subsidiary, volkswagen, finance, luxemburg, sa]  "
      ]
     },
     "execution_count": 14,
     "metadata": {},
     "output_type": "execute_result"
    }
   ],
   "source": [
    "wordnet_lemmatizer = WordNetLemmatizer()\n",
    "def lemmatizer(text):\n",
    "    lemm_text = [wordnet_lemmatizer.lemmatize(word) for word in text]\n",
    "    return lemm_text\n",
    "\n",
    "df['lemmatized'] = df['no_stop_words'].apply(lambda x:lemmatizer(x))\n",
    "df['companyName'] = df['companyName'].apply(lambda x: lemmatizer(x))\n",
    "df.head(1)"
   ]
  },
  {
   "cell_type": "code",
   "execution_count": 15,
   "id": "5e4f1dc3-ffa6-4af9-ad2c-b1d68b101c1e",
   "metadata": {},
   "outputs": [
    {
     "data": {
      "text/html": [
       "<div>\n",
       "<style scoped>\n",
       "    .dataframe tbody tr th:only-of-type {\n",
       "        vertical-align: middle;\n",
       "    }\n",
       "\n",
       "    .dataframe tbody tr th {\n",
       "        vertical-align: top;\n",
       "    }\n",
       "\n",
       "    .dataframe thead th {\n",
       "        text-align: right;\n",
       "    }\n",
       "</style>\n",
       "<table border=\"1\" class=\"dataframe\">\n",
       "  <thead>\n",
       "    <tr style=\"text-align: right;\">\n",
       "      <th></th>\n",
       "      <th>companyName</th>\n",
       "      <th>lemmatized</th>\n",
       "    </tr>\n",
       "  </thead>\n",
       "  <tbody>\n",
       "    <tr>\n",
       "      <th>0</th>\n",
       "      <td>[traton, se]</td>\n",
       "      <td>[traton, se, manufacture, commercial, vehicle, worldwide, operates, industrial, business, financial, service, segment, company, offer, light, heavyduty, commercial, vehicle, truck, bus, chassis, van, construction, vehicle, city, bus, intercity, travel, coach, well, spare, part, service, also, provides, cloudbased, platform, freight, transportation, rio, brand, name, company, offer, product, service, man, scania, navistar, volkswagen, caminhões, e, ônibus, brand, addition, provides, range, financial, solution, including, dealer, customer, finance, leasing, insurance, product, company, founded, 2015, based, munich, germany, traton, se, subsidiary, volkswagen, finance, luxemburg, sa]</td>\n",
       "    </tr>\n",
       "  </tbody>\n",
       "</table>\n",
       "</div>"
      ],
      "text/plain": [
       "    companyName  \\\n",
       "0  [traton, se]   \n",
       "\n",
       "                                                                                                                                                                                                                                                                                                                                                                                                                                                                                                                                                                                                                                                                                                          lemmatized  \n",
       "0  [traton, se, manufacture, commercial, vehicle, worldwide, operates, industrial, business, financial, service, segment, company, offer, light, heavyduty, commercial, vehicle, truck, bus, chassis, van, construction, vehicle, city, bus, intercity, travel, coach, well, spare, part, service, also, provides, cloudbased, platform, freight, transportation, rio, brand, name, company, offer, product, service, man, scania, navistar, volkswagen, caminhões, e, ônibus, brand, addition, provides, range, financial, solution, including, dealer, customer, finance, leasing, insurance, product, company, founded, 2015, based, munich, germany, traton, se, subsidiary, volkswagen, finance, luxemburg, sa]  "
      ]
     },
     "execution_count": 15,
     "metadata": {},
     "output_type": "execute_result"
    }
   ],
   "source": [
    "df_new = df.copy()\n",
    "df_new = df_new.drop(columns=['description','puncFree','lowercased','tokenized','no_stop_words'])\n",
    "df_new.head(1)"
   ]
  },
  {
   "cell_type": "code",
   "execution_count": 16,
   "id": "356824ea-2630-408a-bf0f-7f04bb8dc769",
   "metadata": {},
   "outputs": [],
   "source": [
    "# df_new.to_csv(\"datasets/NLP/FinalDataset.csv\")\n",
    "# df_new = pd.read_csv(\"datasets/NLP/FinalDataset.csv\")\n",
    "# df_new.head(1)"
   ]
  },
  {
   "cell_type": "markdown",
   "id": "3580ffe5-2e33-4b82-a912-c3f1f14022c8",
   "metadata": {},
   "source": [
    "# 3. Prepare the Data for Training"
   ]
  },
  {
   "cell_type": "markdown",
   "id": "56201251-867f-4f76-8c1a-9138b4f11d4c",
   "metadata": {},
   "source": [
    "## 3.1 Data Spliting"
   ]
  },
  {
   "cell_type": "code",
   "execution_count": 17,
   "id": "45e6e3c8-0a47-4088-b609-0ae610553594",
   "metadata": {},
   "outputs": [],
   "source": [
    "from sklearn.model_selection import train_test_split"
   ]
  },
  {
   "cell_type": "code",
   "execution_count": 18,
   "id": "e05254f5-625e-4355-bf1e-d1b2ed800173",
   "metadata": {},
   "outputs": [],
   "source": [
    "x_train, x_test, y_train, y_test = train_test_split(df_new['lemmatized'], df_new['companyName'],\n",
    "                                                   test_size=0.1, random_state=0)\n",
    "\n",
    "# x_train, x_test, y_train, y_test = train_test_split(df_new['lemmatized'], df_new['companyName'])"
   ]
  },
  {
   "cell_type": "code",
   "execution_count": 19,
   "id": "773929ea-08fe-4278-a94e-d720724cb73f",
   "metadata": {},
   "outputs": [
    {
     "data": {
      "text/plain": [
       "131    [heidelberger, druckmaschinen, aktiengesellschaft]\n",
       "56                                       [ringmetall, se]\n",
       "101                     [müller, die, lila, logistik, ag]\n",
       "134                                    [osram, licht, ag]\n",
       "180                            [kuka, aktiengesellschaft]\n",
       "                              ...                        \n",
       "103                           [baywa, aktiengesellschaft]\n",
       "67              [khd, humboldt, wedag, international, ag]\n",
       "117                        [rational, aktiengesellschaft]\n",
       "47                                      [technotrans, se]\n",
       "172                                 [dvs, technology, ag]\n",
       "Name: companyName, Length: 171, dtype: object"
      ]
     },
     "execution_count": 19,
     "metadata": {},
     "output_type": "execute_result"
    }
   ],
   "source": [
    "y_train"
   ]
  },
  {
   "cell_type": "markdown",
   "id": "57a97ff7-0f7c-4466-bdcb-600e0d456b64",
   "metadata": {},
   "source": [
    "## 3.2 Update the internal Vocabulary"
   ]
  },
  {
   "cell_type": "code",
   "execution_count": 20,
   "id": "646ece2b-4991-4fcb-b43a-959b14777d04",
   "metadata": {},
   "outputs": [
    {
     "name": "stderr",
     "output_type": "stream",
     "text": [
      "2023-08-25 18:17:11.129621: I tensorflow/core/util/port.cc:110] oneDNN custom operations are on. You may see slightly different numerical results due to floating-point round-off errors from different computation orders. To turn them off, set the environment variable `TF_ENABLE_ONEDNN_OPTS=0`.\n",
      "2023-08-25 18:17:11.147166: I tensorflow/tsl/cuda/cudart_stub.cc:28] Could not find cuda drivers on your machine, GPU will not be used.\n",
      "2023-08-25 18:17:11.235725: I tensorflow/tsl/cuda/cudart_stub.cc:28] Could not find cuda drivers on your machine, GPU will not be used.\n",
      "2023-08-25 18:17:11.236494: I tensorflow/core/platform/cpu_feature_guard.cc:182] This TensorFlow binary is optimized to use available CPU instructions in performance-critical operations.\n",
      "To enable the following instructions: AVX2 AVX512F AVX512_VNNI FMA, in other operations, rebuild TensorFlow with the appropriate compiler flags.\n",
      "2023-08-25 18:17:11.866517: W tensorflow/compiler/tf2tensorrt/utils/py_utils.cc:38] TF-TRT Warning: Could not find TensorRT\n"
     ]
    },
    {
     "data": {
      "text/plain": [
       "{'company': 1,\n",
       " 'system': 2,\n",
       " 'service': 3,\n",
       " 'segment': 4,\n",
       " 'solution': 5,\n",
       " 'germany': 6,\n",
       " 'provides': 7,\n",
       " 'ag': 8,\n",
       " 'offer': 9,\n",
       " 'product': 10}"
      ]
     },
     "execution_count": 20,
     "metadata": {},
     "output_type": "execute_result"
    }
   ],
   "source": [
    "from tensorflow.keras.preprocessing.text import Tokenizer\n",
    "\n",
    "# x_train = df_new['lemmatized']\n",
    "# y_train = df_new['companyName']\n",
    "#Tokenize the sentences\n",
    "tokenizer_x_train = Tokenizer()\n",
    "#Updates internal vocabulary based on a list of texts.\n",
    "tokenizer_x_train.fit_on_texts(x_train)\n",
    "\n",
    "tokenizer_y_train = Tokenizer()\n",
    "tokenizer_y_train.word_index = tokenizer_x_train.word_index\n",
    "\n",
    "first2pairs = {k: tokenizer_x_train.word_index[k] for k in list(tokenizer_x_train.word_index)[:10]}\n",
    "first2pairs"
   ]
  },
  {
   "cell_type": "code",
   "execution_count": 21,
   "id": "84bfc325-f5fa-4cd1-ae14-a99033b8c14e",
   "metadata": {},
   "outputs": [
    {
     "data": {
      "text/plain": [
       "{'company': 1,\n",
       " 'system': 2,\n",
       " 'service': 3,\n",
       " 'segment': 4,\n",
       " 'solution': 5,\n",
       " 'germany': 6,\n",
       " 'provides': 7,\n",
       " 'ag': 8,\n",
       " 'offer': 9,\n",
       " 'product': 10}"
      ]
     },
     "execution_count": 21,
     "metadata": {},
     "output_type": "execute_result"
    }
   ],
   "source": [
    "y_tok = {k: tokenizer_y_train.word_index[k] for k in list(tokenizer_y_train.word_index)[:10]}\n",
    "y_tok"
   ]
  },
  {
   "cell_type": "code",
   "execution_count": 22,
   "id": "54748ba2-4e46-446b-907c-0369af746c32",
   "metadata": {},
   "outputs": [
    {
     "data": {
      "text/plain": [
       "2746"
      ]
     },
     "execution_count": 22,
     "metadata": {},
     "output_type": "execute_result"
    }
   ],
   "source": [
    "len(list(tokenizer_x_train.word_index))"
   ]
  },
  {
   "cell_type": "code",
   "execution_count": 23,
   "id": "e13f0840-d3d7-41cd-b268-23ce4c375bda",
   "metadata": {},
   "outputs": [
    {
     "data": {
      "text/plain": [
       "2746"
      ]
     },
     "execution_count": 23,
     "metadata": {},
     "output_type": "execute_result"
    }
   ],
   "source": [
    "len(list(tokenizer_y_train.word_index))"
   ]
  },
  {
   "cell_type": "markdown",
   "id": "9c86092a-c5f7-4b8b-bcc8-73d4256bb85e",
   "metadata": {},
   "source": [
    "## 3.3 Sequencing and Padding"
   ]
  },
  {
   "cell_type": "code",
   "execution_count": 24,
   "id": "27e78d4e-b9b0-4f06-a40c-c585dc35cd83",
   "metadata": {},
   "outputs": [
    {
     "data": {
      "text/plain": [
       "array([[ 348,  349,   26, ...,    0,    0,    0],\n",
       "       [ 702,   30,   22, ...,    0,    0,    0],\n",
       "       [1856,  901,  707, ...,    0,    0,    0],\n",
       "       ...,\n",
       "       [ 594,   26,   62, ...,    0,    0,    0],\n",
       "       [ 866,   30,   13, ...,    0,    0,    0],\n",
       "       [1280,   12,    8, ...,    0,    0,    0]], dtype=int32)"
      ]
     },
     "execution_count": 24,
     "metadata": {},
     "output_type": "execute_result"
    }
   ],
   "source": [
    "from tensorflow.keras.utils import pad_sequences\n",
    "\n",
    "#Transforms each text in texts to a sequence of integers.\n",
    "x_train_seq = tokenizer_x_train.texts_to_sequences(x_train)\n",
    "y_train_seq = tokenizer_y_train.texts_to_sequences(y_train)\n",
    "\n",
    "#Pads sequences to the same length.\n",
    "x_train_pad = pad_sequences(x_train_seq, padding='post')\n",
    "y_train_pad = pad_sequences(y_train_seq, padding='post', maxlen=197)\n",
    "\n",
    "\n",
    "x_train_pad"
   ]
  },
  {
   "cell_type": "code",
   "execution_count": 25,
   "id": "2c247913-37da-4d1b-b258-5acc3f591103",
   "metadata": {},
   "outputs": [
    {
     "data": {
      "text/plain": [
       "171"
      ]
     },
     "execution_count": 25,
     "metadata": {},
     "output_type": "execute_result"
    }
   ],
   "source": [
    "len(x_train_seq)"
   ]
  },
  {
   "cell_type": "code",
   "execution_count": 26,
   "id": "0a294b6c-d7ba-4afb-83ea-97ebaad4c692",
   "metadata": {},
   "outputs": [],
   "source": [
    "# x_train_seq"
   ]
  },
  {
   "cell_type": "code",
   "execution_count": 27,
   "id": "5f80d934-09e8-4d97-8d49-4c46d6bad0bc",
   "metadata": {},
   "outputs": [
    {
     "data": {
      "text/plain": [
       "171"
      ]
     },
     "execution_count": 27,
     "metadata": {},
     "output_type": "execute_result"
    }
   ],
   "source": [
    "len(y_train_seq)"
   ]
  },
  {
   "cell_type": "code",
   "execution_count": 28,
   "id": "d855f060-9d5d-4d5d-bd39-bc01288258c1",
   "metadata": {},
   "outputs": [],
   "source": [
    "# y_train_seq"
   ]
  },
  {
   "cell_type": "code",
   "execution_count": 29,
   "id": "48cacbdc-fcca-4fe3-8bbe-97ee98b56a4e",
   "metadata": {},
   "outputs": [
    {
     "data": {
      "text/plain": [
       "array([[ 348,  349,   26, ...,    0,    0,    0],\n",
       "       [ 702,   30,   22, ...,    0,    0,    0],\n",
       "       [1856,  901,  707, ...,    0,    0,    0],\n",
       "       ...,\n",
       "       [ 594,   26,   62, ...,    0,    0,    0],\n",
       "       [ 866,   30,   13, ...,    0,    0,    0],\n",
       "       [1280,   12,    8, ...,    0,    0,    0]], dtype=int32)"
      ]
     },
     "execution_count": 29,
     "metadata": {},
     "output_type": "execute_result"
    }
   ],
   "source": [
    "x_train_pad"
   ]
  },
  {
   "cell_type": "code",
   "execution_count": 30,
   "id": "54881de9-754a-47d7-8b83-cdbba2f3c432",
   "metadata": {},
   "outputs": [
    {
     "data": {
      "text/plain": [
       "197"
      ]
     },
     "execution_count": 30,
     "metadata": {},
     "output_type": "execute_result"
    }
   ],
   "source": [
    "x_train_pad[0].size"
   ]
  },
  {
   "cell_type": "code",
   "execution_count": 31,
   "id": "2ac9db22-0cf2-48f8-99c0-499d28f80cbf",
   "metadata": {},
   "outputs": [
    {
     "data": {
      "text/plain": [
       "array([[ 348,  349,   26, ...,    0,    0,    0],\n",
       "       [ 702,   30,    0, ...,    0,    0,    0],\n",
       "       [1856,  901,  707, ...,    0,    0,    0],\n",
       "       ...,\n",
       "       [ 594,   26,    0, ...,    0,    0,    0],\n",
       "       [ 866,   30,    0, ...,    0,    0,    0],\n",
       "       [1280,   12,    8, ...,    0,    0,    0]], dtype=int32)"
      ]
     },
     "execution_count": 31,
     "metadata": {},
     "output_type": "execute_result"
    }
   ],
   "source": [
    "y_train_pad"
   ]
  },
  {
   "cell_type": "code",
   "execution_count": 32,
   "id": "e43e27cd-09fb-4fbc-9bf7-63e6295d3684",
   "metadata": {},
   "outputs": [
    {
     "data": {
      "text/plain": [
       "197"
      ]
     },
     "execution_count": 32,
     "metadata": {},
     "output_type": "execute_result"
    }
   ],
   "source": [
    "y_train_pad[0].size"
   ]
  },
  {
   "cell_type": "code",
   "execution_count": 33,
   "id": "d0cdf211-53a6-47b1-90c0-89a449f0f8dc",
   "metadata": {},
   "outputs": [
    {
     "data": {
      "text/plain": [
       "numpy.ndarray"
      ]
     },
     "execution_count": 33,
     "metadata": {},
     "output_type": "execute_result"
    }
   ],
   "source": [
    "type(x_train_pad)"
   ]
  },
  {
   "cell_type": "markdown",
   "id": "a6d8d48e-e701-41c5-97cc-8d620c72c71b",
   "metadata": {},
   "source": [
    "## 3.4 Create Attention Mask"
   ]
  },
  {
   "cell_type": "code",
   "execution_count": 34,
   "id": "05a91c47-c0ad-4ee8-8a9b-07284574ccb5",
   "metadata": {},
   "outputs": [
    {
     "name": "stdout",
     "output_type": "stream",
     "text": [
      "x_train_attention_mask:\n",
      "[[1 1 1 ... 0 0 0]\n",
      " [1 1 1 ... 0 0 0]\n",
      " [1 1 1 ... 0 0 0]\n",
      " ...\n",
      " [1 1 1 ... 0 0 0]\n",
      " [1 1 1 ... 0 0 0]\n",
      " [1 1 1 ... 0 0 0]]\n",
      "\n",
      "y_train_attention_mask:\n",
      "[1 1 1 0 0 0 0 0 0 0 0 0 0 0 0 0 0 0 0 0 0 0 0 0 0 0 0 0 0 0 0 0 0 0 0 0 0\n",
      " 0 0 0 0 0 0 0 0 0 0 0 0 0 0 0 0 0 0 0 0 0 0 0 0 0 0 0 0 0 0 0 0 0 0 0 0 0\n",
      " 0 0 0 0 0 0 0 0 0 0 0 0 0 0 0 0 0 0 0 0 0 0 0 0 0 0 0 0 0 0 0 0 0 0 0 0 0\n",
      " 0 0 0 0 0 0 0 0 0 0 0 0 0 0 0 0 0 0 0 0 0 0 0 0 0 0 0 0 0 0 0 0 0 0 0 0 0\n",
      " 0 0 0 0 0 0 0 0 0 0 0 0 0 0 0 0 0 0 0 0 0 0 0 0 0 0 0 0 0 0 0 0 0 0 0 0 0\n",
      " 0 0 0 0 0 0 0 0 0 0 0 0]\n"
     ]
    },
    {
     "name": "stderr",
     "output_type": "stream",
     "text": [
      "2023-08-25 18:17:18.274218: E tensorflow/compiler/xla/stream_executor/cuda/cuda_driver.cc:266] failed call to cuInit: CUDA_ERROR_NO_DEVICE: no CUDA-capable device is detected\n"
     ]
    }
   ],
   "source": [
    "import tensorflow as tf\n",
    "\n",
    "# Function to create attention masks\n",
    "def create_attention_mask(sequences):\n",
    "    attention_masks = tf.math.not_equal(sequences, 0)\n",
    "    return tf.cast(attention_masks, dtype=tf.int32)\n",
    "\n",
    "# Create attention masks for both x_train_pad and y_train_pad\n",
    "x_train_attention_mask = create_attention_mask(x_train_pad).numpy()\n",
    "y_train_attention_mask = create_attention_mask(y_train_pad).numpy()\n",
    "\n",
    "# Print the attention masks for verification\n",
    "print(\"x_train_attention_mask:\")\n",
    "print(x_train_attention_mask)\n",
    "\n",
    "print(\"\\ny_train_attention_mask:\")\n",
    "print(y_train_attention_mask[0])\n"
   ]
  },
  {
   "cell_type": "code",
   "execution_count": 35,
   "id": "862774b7-6798-4a70-be0c-a170e591cb74",
   "metadata": {},
   "outputs": [],
   "source": [
    "# x_train_attention_mask = x_train_attention_mask.numpy()"
   ]
  },
  {
   "cell_type": "code",
   "execution_count": 36,
   "id": "0bd6a60d-46c9-4642-903f-615a9bc645bf",
   "metadata": {},
   "outputs": [
    {
     "data": {
      "text/plain": [
       "numpy.ndarray"
      ]
     },
     "execution_count": 36,
     "metadata": {},
     "output_type": "execute_result"
    }
   ],
   "source": [
    "type(x_train_attention_mask)"
   ]
  },
  {
   "cell_type": "code",
   "execution_count": 37,
   "id": "11c9a540-efc2-4e5f-9779-761cbaab5478",
   "metadata": {},
   "outputs": [],
   "source": [
    "# import numpy as np\n",
    "\n",
    "# Shift input sequences one step to the right to create targets\n",
    "y_train_pad_shift = np.roll(y_train_pad, shift=-1, axis=1)\n",
    "\n",
    "# Shift attention masks one step to the right for targets\n",
    "y_train_attention_mask_shift = np.roll(y_train_attention_mask, shift=-1, axis=1)\n"
   ]
  },
  {
   "cell_type": "code",
   "execution_count": 38,
   "id": "a7907655-1a4b-440e-8d31-5b8dea8412f9",
   "metadata": {},
   "outputs": [],
   "source": [
    "x_input = {\n",
    "    \"token_ids\": x_train_pad,\n",
    "    \"padding_mask\": x_train_attention_mask,\n",
    "}\n",
    "\n",
    "\n",
    "target_data = {\n",
    "    \"reverse_embedding\": y_train_pad_shift,\n",
    "}"
   ]
  },
  {
   "cell_type": "markdown",
   "id": "60e63fcd-8b78-48d0-b380-0d6b071ffbd2",
   "metadata": {},
   "source": [
    "# 4. Create the ML Model"
   ]
  },
  {
   "cell_type": "code",
   "execution_count": 39,
   "id": "91efbee1-c99c-4f75-95a4-8e9e43ac2ed7",
   "metadata": {},
   "outputs": [
    {
     "name": "stdout",
     "output_type": "stream",
     "text": [
      "Using TensorFlow backend\n"
     ]
    }
   ],
   "source": [
    "import os\n",
    "import keras_nlp\n",
    "import keras_core as keras\n",
    "import time\n",
    "# os.environ[\"KERAS_BACKEND\"] = \"tensorflow\""
   ]
  },
  {
   "cell_type": "code",
   "execution_count": 40,
   "id": "387ed0ec-1791-444c-8783-f4f5410bf4cd",
   "metadata": {},
   "outputs": [],
   "source": [
    "# model = keras_nlp.models.GPT2CausalLM.backbone(\n",
    "#     vocabulary_size=50257,\n",
    "#     num_layers=12,\n",
    "#     num_heads=12,\n",
    "#     hidden_dim=2478,\n",
    "#     intermediate_dim=3072,\n",
    "#     max_sequence_length=128,\n",
    "# )"
   ]
  },
  {
   "cell_type": "code",
   "execution_count": 41,
   "id": "a48f8e0c-b4b2-4f82-b2f6-4102579446d4",
   "metadata": {},
   "outputs": [],
   "source": [
    "backbone = keras_nlp.models.GPT2Backbone(\n",
    "    vocabulary_size=50257,\n",
    "    num_layers=12,\n",
    "    num_heads=12,\n",
    "    hidden_dim=2478,\n",
    "    intermediate_dim=3072,\n",
    "    max_sequence_length=197,\n",
    ")"
   ]
  },
  {
   "cell_type": "code",
   "execution_count": 42,
   "id": "24730660-c49b-42ca-809f-2b73f01390c1",
   "metadata": {},
   "outputs": [],
   "source": [
    "# model.summary()"
   ]
  },
  {
   "cell_type": "code",
   "execution_count": 43,
   "id": "19dee092-bf87-420c-b5ca-978f71341b4d",
   "metadata": {},
   "outputs": [],
   "source": [
    "model = keras_nlp.models.GPT2CausalLM(backbone=backbone, preprocessor=None)"
   ]
  },
  {
   "cell_type": "code",
   "execution_count": 44,
   "id": "3a2cccd1-c93d-48c3-b477-f040a135345f",
   "metadata": {},
   "outputs": [
    {
     "data": {
      "text/html": [
       "<pre style=\"white-space:pre;overflow-x:auto;line-height:normal;font-family:Menlo,'DejaVu Sans Mono',consolas,'Courier New',monospace\"><span style=\"font-weight: bold\">Model: \"gpt2_causal_lm\"</span>\n",
       "</pre>\n"
      ],
      "text/plain": [
       "\u001b[1mModel: \"gpt2_causal_lm\"\u001b[0m\n"
      ]
     },
     "metadata": {},
     "output_type": "display_data"
    },
    {
     "data": {
      "text/html": [
       "<pre style=\"white-space:pre;overflow-x:auto;line-height:normal;font-family:Menlo,'DejaVu Sans Mono',consolas,'Courier New',monospace\">┏━━━━━━━━━━━━━━━━━━━━━━━━━━━━━━━━━━━━━━━━━━━━━━━┳━━━━━━━━━━━━━━━━━━━━━━━━━━━━━━━━━━━━━━━━┳━━━━━━━━━━━━━━━━━┓\n",
       "┃<span style=\"font-weight: bold\"> Layer (type)                                  </span>┃<span style=\"font-weight: bold\"> Output Shape                           </span>┃<span style=\"font-weight: bold\">         Param # </span>┃\n",
       "┡━━━━━━━━━━━━━━━━━━━━━━━━━━━━━━━━━━━━━━━━━━━━━━━╇━━━━━━━━━━━━━━━━━━━━━━━━━━━━━━━━━━━━━━━━╇━━━━━━━━━━━━━━━━━┩\n",
       "│ padding_mask (<span style=\"color: #0087ff; text-decoration-color: #0087ff\">InputLayer</span>)                     │ (<span style=\"color: #00d7ff; text-decoration-color: #00d7ff\">None</span>, <span style=\"color: #00d7ff; text-decoration-color: #00d7ff\">None</span>)                           │               <span style=\"color: #00af00; text-decoration-color: #00af00\">0</span> │\n",
       "├───────────────────────────────────────────────┼────────────────────────────────────────┼─────────────────┤\n",
       "│ token_ids (<span style=\"color: #0087ff; text-decoration-color: #0087ff\">InputLayer</span>)                        │ (<span style=\"color: #00d7ff; text-decoration-color: #00d7ff\">None</span>, <span style=\"color: #00d7ff; text-decoration-color: #00d7ff\">None</span>)                           │               <span style=\"color: #00af00; text-decoration-color: #00af00\">0</span> │\n",
       "├───────────────────────────────────────────────┼────────────────────────────────────────┼─────────────────┤\n",
       "│ gpt2_backbone (<span style=\"color: #0087ff; text-decoration-color: #0087ff\">GPT2Backbone</span>)                  │ (<span style=\"color: #00d7ff; text-decoration-color: #00d7ff\">None</span>, <span style=\"color: #00d7ff; text-decoration-color: #00d7ff\">None</span>, <span style=\"color: #00af00; text-decoration-color: #00af00\">2478</span>)                     │     <span style=\"color: #00af00; text-decoration-color: #00af00\">602,061,792</span> │\n",
       "├───────────────────────────────────────────────┼────────────────────────────────────────┼─────────────────┤\n",
       "│ reverse_embedding (<span style=\"color: #0087ff; text-decoration-color: #0087ff\">ReverseEmbedding</span>)          │ (<span style=\"color: #00d7ff; text-decoration-color: #00d7ff\">None</span>, <span style=\"color: #00d7ff; text-decoration-color: #00d7ff\">None</span>, <span style=\"color: #00af00; text-decoration-color: #00af00\">50257</span>)                    │     <span style=\"color: #00af00; text-decoration-color: #00af00\">124,536,846</span> │\n",
       "└───────────────────────────────────────────────┴────────────────────────────────────────┴─────────────────┘\n",
       "</pre>\n"
      ],
      "text/plain": [
       "┏━━━━━━━━━━━━━━━━━━━━━━━━━━━━━━━━━━━━━━━━━━━━━━━┳━━━━━━━━━━━━━━━━━━━━━━━━━━━━━━━━━━━━━━━━┳━━━━━━━━━━━━━━━━━┓\n",
       "┃\u001b[1m \u001b[0m\u001b[1mLayer (type)                                 \u001b[0m\u001b[1m \u001b[0m┃\u001b[1m \u001b[0m\u001b[1mOutput Shape                          \u001b[0m\u001b[1m \u001b[0m┃\u001b[1m \u001b[0m\u001b[1m        Param #\u001b[0m\u001b[1m \u001b[0m┃\n",
       "┡━━━━━━━━━━━━━━━━━━━━━━━━━━━━━━━━━━━━━━━━━━━━━━━╇━━━━━━━━━━━━━━━━━━━━━━━━━━━━━━━━━━━━━━━━╇━━━━━━━━━━━━━━━━━┩\n",
       "│ padding_mask (\u001b[38;5;33mInputLayer\u001b[0m)                     │ (\u001b[38;5;45mNone\u001b[0m, \u001b[38;5;45mNone\u001b[0m)                           │               \u001b[38;5;34m0\u001b[0m │\n",
       "├───────────────────────────────────────────────┼────────────────────────────────────────┼─────────────────┤\n",
       "│ token_ids (\u001b[38;5;33mInputLayer\u001b[0m)                        │ (\u001b[38;5;45mNone\u001b[0m, \u001b[38;5;45mNone\u001b[0m)                           │               \u001b[38;5;34m0\u001b[0m │\n",
       "├───────────────────────────────────────────────┼────────────────────────────────────────┼─────────────────┤\n",
       "│ gpt2_backbone (\u001b[38;5;33mGPT2Backbone\u001b[0m)                  │ (\u001b[38;5;45mNone\u001b[0m, \u001b[38;5;45mNone\u001b[0m, \u001b[38;5;34m2478\u001b[0m)                     │     \u001b[38;5;34m602,061,792\u001b[0m │\n",
       "├───────────────────────────────────────────────┼────────────────────────────────────────┼─────────────────┤\n",
       "│ reverse_embedding (\u001b[38;5;33mReverseEmbedding\u001b[0m)          │ (\u001b[38;5;45mNone\u001b[0m, \u001b[38;5;45mNone\u001b[0m, \u001b[38;5;34m50257\u001b[0m)                    │     \u001b[38;5;34m124,536,846\u001b[0m │\n",
       "└───────────────────────────────────────────────┴────────────────────────────────────────┴─────────────────┘\n"
      ]
     },
     "metadata": {},
     "output_type": "display_data"
    },
    {
     "data": {
      "text/html": [
       "<pre style=\"white-space:pre;overflow-x:auto;line-height:normal;font-family:Menlo,'DejaVu Sans Mono',consolas,'Courier New',monospace\"><span style=\"font-weight: bold\"> Total params: </span><span style=\"color: #00af00; text-decoration-color: #00af00\">602,061,792</span> (17.94 GB)\n",
       "</pre>\n"
      ],
      "text/plain": [
       "\u001b[1m Total params: \u001b[0m\u001b[38;5;34m602,061,792\u001b[0m (17.94 GB)\n"
      ]
     },
     "metadata": {},
     "output_type": "display_data"
    },
    {
     "data": {
      "text/html": [
       "<pre style=\"white-space:pre;overflow-x:auto;line-height:normal;font-family:Menlo,'DejaVu Sans Mono',consolas,'Courier New',monospace\"><span style=\"font-weight: bold\"> Trainable params: </span><span style=\"color: #00af00; text-decoration-color: #00af00\">602,061,792</span> (17.94 GB)\n",
       "</pre>\n"
      ],
      "text/plain": [
       "\u001b[1m Trainable params: \u001b[0m\u001b[38;5;34m602,061,792\u001b[0m (17.94 GB)\n"
      ]
     },
     "metadata": {},
     "output_type": "display_data"
    },
    {
     "data": {
      "text/html": [
       "<pre style=\"white-space:pre;overflow-x:auto;line-height:normal;font-family:Menlo,'DejaVu Sans Mono',consolas,'Courier New',monospace\"><span style=\"font-weight: bold\"> Non-trainable params: </span><span style=\"color: #00af00; text-decoration-color: #00af00\">0</span> (0.00 B)\n",
       "</pre>\n"
      ],
      "text/plain": [
       "\u001b[1m Non-trainable params: \u001b[0m\u001b[38;5;34m0\u001b[0m (0.00 B)\n"
      ]
     },
     "metadata": {},
     "output_type": "display_data"
    }
   ],
   "source": [
    "model.summary()"
   ]
  },
  {
   "cell_type": "code",
   "execution_count": 45,
   "id": "b5d0f2a5-f05e-4c75-b845-de56f66ffcce",
   "metadata": {},
   "outputs": [
    {
     "name": "stdout",
     "output_type": "stream",
     "text": [
      "(None, None) <dtype: 'int32'>\n",
      "(None, None) <dtype: 'int32'>\n"
     ]
    },
    {
     "data": {
      "text/plain": [
       "[None, None]"
      ]
     },
     "execution_count": 45,
     "metadata": {},
     "output_type": "execute_result"
    }
   ],
   "source": [
    "[print(i.shape, i.dtype) for i in model.inputs]"
   ]
  },
  {
   "cell_type": "markdown",
   "id": "421ed89a-682c-4a81-a4e8-8231202e8135",
   "metadata": {},
   "source": [
    "# 5. Train the Model"
   ]
  },
  {
   "cell_type": "code",
   "execution_count": 46,
   "id": "ee2476ae-0dcb-40fa-bc39-f7fb5ea7a595",
   "metadata": {},
   "outputs": [
    {
     "name": "stderr",
     "output_type": "stream",
     "text": [
      "2023-08-25 18:17:23.816966: I tensorflow/core/common_runtime/executor.cc:1197] [/device:CPU:0] (DEBUG INFO) Executor start aborting (this does not indicate an error and you can ignore this message): INVALID_ARGUMENT: You must feed a value for placeholder tensor 'Placeholder/_3' with dtype int32 and shape [171,197]\n",
      "\t [[{{node Placeholder/_3}}]]\n",
      "/home/wondermary/anaconda3/envs/NLP2/lib/python3.11/site-packages/tensorflow/python/framework/indexed_slices.py:459: UserWarning: Converting sparse IndexedSlices to a dense Tensor with 124536846 elements. This may consume a large amount of memory.\n",
      "  warnings.warn(\n",
      "2023-08-25 18:17:35.166376: I tensorflow/compiler/xla/service/service.cc:169] XLA service 0x7f747c028640 initialized for platform Host (this does not guarantee that XLA will be used). Devices:\n",
      "2023-08-25 18:17:35.166401: I tensorflow/compiler/xla/service/service.cc:177]   StreamExecutor device (0): Host, Default Version\n",
      "2023-08-25 18:17:35.628951: W tensorflow/compiler/tf2xla/kernels/random_ops.cc:57] Warning: Using tf.random.uniform with XLA compilation will ignore seeds; consider using tf.random.stateless_uniform instead if reproducible behavior is desired. gpt2_causal_lm/gpt2_backbone/embeddings_dropout/dropout/random_uniform/RandomUniform\n",
      "2023-08-25 18:17:35.638730: I tensorflow/compiler/mlir/tensorflow/utils/dump_mlir_util.cc:269] disabling MLIR crash reproducer, set env var `MLIR_CRASH_REPRODUCER_DIRECTORY` to enable.\n",
      "2023-08-25 18:17:36.275051: W tensorflow/compiler/tf2xla/kernels/assert_op.cc:38] Ignoring Assert operator sparse_categorical_crossentropy/sparse_categorical_crossentropy/SparseSoftmaxCrossEntropyWithLogits/assert_equal_1/Assert/Assert\n",
      "2023-08-25 18:18:06.936483: I ./tensorflow/compiler/jit/device_compiler.h:180] Compiled cluster using XLA!  This line is logged at most once for the lifetime of the process.\n"
     ]
    },
    {
     "name": "stdout",
     "output_type": "stream",
     "text": [
      "85/86 [============================>.] - ETA: 5s - loss: 0.0052 - accuracy: 0.0000e+00 "
     ]
    },
    {
     "name": "stderr",
     "output_type": "stream",
     "text": [
      "2023-08-25 18:25:23.492282: W tensorflow/compiler/tf2xla/kernels/assert_op.cc:38] Ignoring Assert operator sparse_categorical_crossentropy/sparse_categorical_crossentropy/SparseSoftmaxCrossEntropyWithLogits/assert_equal_1/Assert/Assert\n"
     ]
    },
    {
     "name": "stdout",
     "output_type": "stream",
     "text": [
      "86/86 [==============================] - 510s 5s/step - loss: 0.0052 - accuracy: 0.0000e+00\n"
     ]
    },
    {
     "data": {
      "text/plain": [
       "<keras.callbacks.History at 0x7f747447cf50>"
      ]
     },
     "execution_count": 46,
     "metadata": {},
     "output_type": "execute_result"
    }
   ],
   "source": [
    "x = x_input\n",
    "y = y_train_pad_shift\n",
    "num_epochs = 1\n",
    "sw = y_train_attention_mask_shift\n",
    "\n",
    "\n",
    "loss = keras.losses.SparseCategoricalCrossentropy(from_logits=True)\n",
    "\n",
    "model.compile(\n",
    "    optimizer=tf.keras.optimizers.Adam(),\n",
    "    loss=loss,\n",
    "    weighted_metrics=[\"accuracy\"])\n",
    "\n",
    "# Save the model weights\n",
    "model_path = \"datasets/weights/gpt2_weights\"+str(datetime.datetime.now())\n",
    "model.save_weights(model_path)\n",
    "\n",
    "\n",
    "model.fit(x=x, y=y, epochs=num_epochs, batch_size=2, sample_weight=sw)\n",
    "# model.fit(x=x, y=y, epochs=num_epochs)"
   ]
  },
  {
   "cell_type": "markdown",
   "id": "e7d1a066-f43e-40e5-a3ce-670a70a864a7",
   "metadata": {},
   "source": [
    "# 6. Inference"
   ]
  },
  {
   "cell_type": "code",
   "execution_count": 62,
   "id": "56fff6f4-1431-4a8a-a042-cdcf5e8ba39e",
   "metadata": {},
   "outputs": [
    {
     "name": "stderr",
     "output_type": "stream",
     "text": [
      "2023-08-25 18:34:36.321193: I tensorflow/core/common_runtime/executor.cc:1197] [/device:CPU:0] (DEBUG INFO) Executor start aborting (this does not indicate an error and you can ignore this message): INVALID_ARGUMENT: You must feed a value for placeholder tensor 'Placeholder/_1' with dtype int32 and shape [1,197]\n",
      "\t [[{{node Placeholder/_1}}]]\n"
     ]
    },
    {
     "name": "stdout",
     "output_type": "stream",
     "text": [
      "Generated text 1:\n",
      "siemens company system service segment solution germany ag provides offer product directly 31 satellitetosatellite covering satellitetosatellite covering brazing brazing covering satellitetosatellite covering brazing brazing satellitetosatellite covering covering satellitetosatellite covering covering satellitetosatellite satellitetosatellite satellitetosatellite satellitetosatellite satellitetosatellite satellitetosatellite covering satellitetosatellite covering covering covering covering brazing covering satellitetosatellite brazing brazing covering 31 satellitetosatellite 31 abrasive satellitetosatellite covering covering brazing covering satellitetosatellite satellitetosatellite abrasive covering\n",
      "\n"
     ]
    }
   ],
   "source": [
    "import tensorflow as tf\n",
    "\n",
    "# # Load the saved model weights\n",
    "model_path = \"datasets/weights/gpt2_weights2023-08-25 14:41:58.141187\"\n",
    "model.load_weights(model_path)\n",
    "\n",
    "# Example prompt and parameters\n",
    "prompt = \"Siemens company system service segment solution Germany AG provides offer product\"\n",
    "# prompt = \"Siemens\"\n",
    "# prompt = \"Deutsche Post AG operates as a company that deliver mail and packet. Its service and solution provide \"\n",
    "max_length = 400\n",
    "\n",
    "# Tokenize the prompt\n",
    "prompt_seq = tokenizer_x_train.texts_to_sequences([prompt])\n",
    "prompt_pad = pad_sequences(prompt_seq, padding='post', maxlen=197)\n",
    "\n",
    "# Create attention mask for the prompt\n",
    "prompt_attention_mask = create_attention_mask(prompt_pad).numpy()\n",
    "\n",
    "# Prepare input for the GPT-2 model\n",
    "prompt_input = {\n",
    "    \"token_ids\": prompt_pad,\n",
    "    \"padding_mask\": prompt_attention_mask,\n",
    "}\n",
    "\n",
    "# Convert the prompt input to a tf.data.Dataset\n",
    "prompt_dataset = tf.data.Dataset.from_tensor_slices(prompt_input)\n",
    "prompt_dataset = prompt_dataset.batch(1)  # Batch size of 1 since we have a single prompt\n",
    "\n",
    "# Generate text using the GPT-2 model\n",
    "generated_texts = []\n",
    "\n",
    "for prompt_batch in prompt_dataset:\n",
    "    generated_ids = model.generate(prompt_batch, max_length=max_length)\n",
    "    generated_text = tokenizer_x_train.sequences_to_texts(generated_ids['token_ids'])[0]\n",
    "    generated_texts.append(generated_text)\n",
    "\n",
    "# Print the generated text with appropriate formatting\n",
    "for idx, generated_text in enumerate(generated_texts):\n",
    "    print(f\"Generated text {idx + 1}:\\n{generated_text}\\n\")\n"
   ]
  },
  {
   "cell_type": "code",
   "execution_count": 63,
   "id": "18993bd0-0cac-4eca-ba39-0efa45c6311f",
   "metadata": {},
   "outputs": [
    {
     "name": "stderr",
     "output_type": "stream",
     "text": [
      "2023-08-25 18:36:44.220572: I tensorflow/core/common_runtime/executor.cc:1197] [/device:CPU:0] (DEBUG INFO) Executor start aborting (this does not indicate an error and you can ignore this message): INVALID_ARGUMENT: You must feed a value for placeholder tensor 'Placeholder/_1' with dtype int32 and shape [1,197]\n",
      "\t [[{{node Placeholder/_1}}]]\n"
     ]
    },
    {
     "name": "stdout",
     "output_type": "stream",
     "text": [
      "Generated text 1:\n",
      "deutsche post ag operates company mail service solution provide blow diagnostic covering covering estonia covering covering covering 31 covering covering 31 covering 31 covering 31 covering 31 covering covering 31 31 covering 31 31 covering covering 31 31 group 31 covering covering 31 31 31 covering\n",
      "\n"
     ]
    }
   ],
   "source": [
    "import tensorflow as tf\n",
    "\n",
    "# # Load the saved model weights\n",
    "model_path = \"datasets/weights/gpt2_weights2023-08-25 14:41:58.141187\"\n",
    "model.load_weights(model_path)\n",
    "\n",
    "# Example prompt and parameters\n",
    "# prompt = \"Siemens company system service segment solution Germany AG provides offer product\"\n",
    "prompt = \"Deutsche Post AG operates as a company that deliver mail and packet. Its service and solution provide \"\n",
    "max_length = 400\n",
    "\n",
    "# Tokenize the prompt\n",
    "prompt_seq = tokenizer_x_train.texts_to_sequences([prompt])\n",
    "prompt_pad = pad_sequences(prompt_seq, padding='post', maxlen=197)\n",
    "\n",
    "# Create attention mask for the prompt\n",
    "prompt_attention_mask = create_attention_mask(prompt_pad).numpy()\n",
    "\n",
    "# Prepare input for the GPT-2 model\n",
    "prompt_input = {\n",
    "    \"token_ids\": prompt_pad,\n",
    "    \"padding_mask\": prompt_attention_mask,\n",
    "}\n",
    "\n",
    "# Convert the prompt input to a tf.data.Dataset\n",
    "prompt_dataset = tf.data.Dataset.from_tensor_slices(prompt_input)\n",
    "prompt_dataset = prompt_dataset.batch(1)  # Batch size of 1 since we have a single prompt\n",
    "\n",
    "# Generate text using the GPT-2 model\n",
    "generated_texts = []\n",
    "\n",
    "for prompt_batch in prompt_dataset:\n",
    "    generated_ids = model.generate(prompt_batch, max_length=max_length)\n",
    "    generated_text = tokenizer_x_train.sequences_to_texts(generated_ids['token_ids'])[0]\n",
    "    generated_texts.append(generated_text)\n",
    "\n",
    "# Print the generated text with appropriate formatting\n",
    "for idx, generated_text in enumerate(generated_texts):\n",
    "    print(f\"Generated text {idx + 1}:\\n{generated_text}\\n\")\n"
   ]
  },
  {
   "cell_type": "code",
   "execution_count": 49,
   "id": "5c7627a8-337d-49a9-9b08-77f5fc2f9a82",
   "metadata": {},
   "outputs": [],
   "source": [
    "# # Load the saved model weights\n",
    "# model_path = \"datasets/weights/gpt2_weights\"\n",
    "# model.load_weights(model_path)\n",
    "\n",
    "# # Example prompt and parameters\n",
    "# # prompt = \"Deutsche Post AG operates as a company that deliver mails and packets to \"\n",
    "# prompt =\"Siemens company system service segment solution Germany ag provides offer product\" \n",
    "# max_length = 400\n",
    "\n",
    "# prompt_seq = tokenizer_x_train.texts_to_sequences([prompt])\n",
    "# prompt_pad = pad_sequences(prompt_seq, padding='post', maxlen=197)\n",
    "\n",
    "# def create_full_attention_mask(sequences):\n",
    "#     return tf.ones_like(sequences, dtype=tf.int32)\n",
    "    \n",
    "# prompt_attention_mask = create_full_attention_mask(prompt_pad).numpy()\n",
    "\n",
    "\n",
    "# prompt_input = {\n",
    "#     \"token_ids\": prompt_pad,\n",
    "#     \"padding_mask\": prompt_attention_mask,\n",
    "# }\n",
    "\n",
    "\n",
    "# # Generate text using the GPT-2 model\n",
    "# generated_ids = model.generate(prompt_input, max_length=max_length)\n",
    "\n",
    "# # Convert generated token IDs back to text using the appropriate tokenizer\n",
    "# generated_text = tokenizer_x_train.sequences_to_texts(generated_ids['token_ids'])[0]\n",
    "\n",
    "# # Print the generated text with appropriate formatting\n",
    "# print(\"\\nGPT-2 output:\")\n",
    "# print(generated_text)\n"
   ]
  },
  {
   "cell_type": "code",
   "execution_count": 50,
   "id": "51e08969-3e76-4d3f-b418-0872824bea90",
   "metadata": {},
   "outputs": [
    {
     "data": {
      "text/plain": [
       "['Deutsche Post AG operates as a company that deliver mail and packet. Its service and solution provide ']"
      ]
     },
     "execution_count": 50,
     "metadata": {},
     "output_type": "execute_result"
    }
   ],
   "source": [
    "[prompt]"
   ]
  },
  {
   "cell_type": "code",
   "execution_count": 51,
   "id": "0cf99ae2-d554-46b0-9ce1-1966e88f87c7",
   "metadata": {},
   "outputs": [
    {
     "data": {
      "text/plain": [
       "[[497, 587, 8, 13, 1, 586, 3, 5, 2123]]"
      ]
     },
     "execution_count": 51,
     "metadata": {},
     "output_type": "execute_result"
    }
   ],
   "source": [
    "prompt_seq"
   ]
  },
  {
   "cell_type": "code",
   "execution_count": 52,
   "id": "81bd774f-6334-4c28-b1f7-4f33343adcf8",
   "metadata": {},
   "outputs": [
    {
     "data": {
      "text/plain": [
       "array([[ 497,  587,    8,   13,    1,  586,    3,    5, 2123,    0,    0,\n",
       "           0,    0,    0,    0,    0,    0,    0,    0,    0,    0,    0,\n",
       "           0,    0,    0,    0,    0,    0,    0,    0,    0,    0,    0,\n",
       "           0,    0,    0,    0,    0,    0,    0,    0,    0,    0,    0,\n",
       "           0,    0,    0,    0,    0,    0,    0,    0,    0,    0,    0,\n",
       "           0,    0,    0,    0,    0,    0,    0,    0,    0,    0,    0,\n",
       "           0,    0,    0,    0,    0,    0,    0,    0,    0,    0,    0,\n",
       "           0,    0,    0,    0,    0,    0,    0,    0,    0,    0,    0,\n",
       "           0,    0,    0,    0,    0,    0,    0,    0,    0,    0,    0,\n",
       "           0,    0,    0,    0,    0,    0,    0,    0,    0,    0,    0,\n",
       "           0,    0,    0,    0,    0,    0,    0,    0,    0,    0,    0,\n",
       "           0,    0,    0,    0,    0,    0,    0,    0,    0,    0,    0,\n",
       "           0,    0,    0,    0,    0,    0,    0,    0,    0,    0,    0,\n",
       "           0,    0,    0,    0,    0,    0,    0,    0,    0,    0,    0,\n",
       "           0,    0,    0,    0,    0,    0,    0,    0,    0,    0,    0,\n",
       "           0,    0,    0,    0,    0,    0,    0,    0,    0,    0,    0,\n",
       "           0,    0,    0,    0,    0,    0,    0,    0,    0,    0,    0,\n",
       "           0,    0,    0,    0,    0,    0,    0,    0,    0,    0]],\n",
       "      dtype=int32)"
      ]
     },
     "execution_count": 52,
     "metadata": {},
     "output_type": "execute_result"
    }
   ],
   "source": [
    "prompt_pad"
   ]
  },
  {
   "cell_type": "code",
   "execution_count": 53,
   "id": "86695a06-22a6-4d26-8fa8-ab0a48562713",
   "metadata": {},
   "outputs": [
    {
     "data": {
      "text/plain": [
       "197"
      ]
     },
     "execution_count": 53,
     "metadata": {},
     "output_type": "execute_result"
    }
   ],
   "source": [
    "prompt_pad.size"
   ]
  },
  {
   "cell_type": "code",
   "execution_count": 54,
   "id": "8b87353b-3bb9-4ba1-b6fe-a0b55fcc5795",
   "metadata": {},
   "outputs": [
    {
     "data": {
      "text/plain": [
       "array([[1, 1, 1, 1, 1, 1, 1, 1, 1, 0, 0, 0, 0, 0, 0, 0, 0, 0, 0, 0, 0, 0,\n",
       "        0, 0, 0, 0, 0, 0, 0, 0, 0, 0, 0, 0, 0, 0, 0, 0, 0, 0, 0, 0, 0, 0,\n",
       "        0, 0, 0, 0, 0, 0, 0, 0, 0, 0, 0, 0, 0, 0, 0, 0, 0, 0, 0, 0, 0, 0,\n",
       "        0, 0, 0, 0, 0, 0, 0, 0, 0, 0, 0, 0, 0, 0, 0, 0, 0, 0, 0, 0, 0, 0,\n",
       "        0, 0, 0, 0, 0, 0, 0, 0, 0, 0, 0, 0, 0, 0, 0, 0, 0, 0, 0, 0, 0, 0,\n",
       "        0, 0, 0, 0, 0, 0, 0, 0, 0, 0, 0, 0, 0, 0, 0, 0, 0, 0, 0, 0, 0, 0,\n",
       "        0, 0, 0, 0, 0, 0, 0, 0, 0, 0, 0, 0, 0, 0, 0, 0, 0, 0, 0, 0, 0, 0,\n",
       "        0, 0, 0, 0, 0, 0, 0, 0, 0, 0, 0, 0, 0, 0, 0, 0, 0, 0, 0, 0, 0, 0,\n",
       "        0, 0, 0, 0, 0, 0, 0, 0, 0, 0, 0, 0, 0, 0, 0, 0, 0, 0, 0, 0, 0]],\n",
       "      dtype=int32)"
      ]
     },
     "execution_count": 54,
     "metadata": {},
     "output_type": "execute_result"
    }
   ],
   "source": [
    "prompt_attention_mask"
   ]
  },
  {
   "cell_type": "code",
   "execution_count": 55,
   "id": "95361703-f103-4362-8d08-67f75feb355d",
   "metadata": {},
   "outputs": [
    {
     "data": {
      "text/plain": [
       "197"
      ]
     },
     "execution_count": 55,
     "metadata": {},
     "output_type": "execute_result"
    }
   ],
   "source": [
    "prompt_attention_mask.size"
   ]
  },
  {
   "cell_type": "code",
   "execution_count": 56,
   "id": "dbbdca5f-e797-4aa7-a321-a2107409523a",
   "metadata": {},
   "outputs": [
    {
     "data": {
      "text/plain": [
       "{'token_ids': array([[ 497,  587,    8,   13,    1,  586,    3,    5, 2123,    0,    0,\n",
       "            0,    0,    0,    0,    0,    0,    0,    0,    0,    0,    0,\n",
       "            0,    0,    0,    0,    0,    0,    0,    0,    0,    0,    0,\n",
       "            0,    0,    0,    0,    0,    0,    0,    0,    0,    0,    0,\n",
       "            0,    0,    0,    0,    0,    0,    0,    0,    0,    0,    0,\n",
       "            0,    0,    0,    0,    0,    0,    0,    0,    0,    0,    0,\n",
       "            0,    0,    0,    0,    0,    0,    0,    0,    0,    0,    0,\n",
       "            0,    0,    0,    0,    0,    0,    0,    0,    0,    0,    0,\n",
       "            0,    0,    0,    0,    0,    0,    0,    0,    0,    0,    0,\n",
       "            0,    0,    0,    0,    0,    0,    0,    0,    0,    0,    0,\n",
       "            0,    0,    0,    0,    0,    0,    0,    0,    0,    0,    0,\n",
       "            0,    0,    0,    0,    0,    0,    0,    0,    0,    0,    0,\n",
       "            0,    0,    0,    0,    0,    0,    0,    0,    0,    0,    0,\n",
       "            0,    0,    0,    0,    0,    0,    0,    0,    0,    0,    0,\n",
       "            0,    0,    0,    0,    0,    0,    0,    0,    0,    0,    0,\n",
       "            0,    0,    0,    0,    0,    0,    0,    0,    0,    0,    0,\n",
       "            0,    0,    0,    0,    0,    0,    0,    0,    0,    0,    0,\n",
       "            0,    0,    0,    0,    0,    0,    0,    0,    0,    0]],\n",
       "       dtype=int32),\n",
       " 'padding_mask': array([[1, 1, 1, 1, 1, 1, 1, 1, 1, 0, 0, 0, 0, 0, 0, 0, 0, 0, 0, 0, 0, 0,\n",
       "         0, 0, 0, 0, 0, 0, 0, 0, 0, 0, 0, 0, 0, 0, 0, 0, 0, 0, 0, 0, 0, 0,\n",
       "         0, 0, 0, 0, 0, 0, 0, 0, 0, 0, 0, 0, 0, 0, 0, 0, 0, 0, 0, 0, 0, 0,\n",
       "         0, 0, 0, 0, 0, 0, 0, 0, 0, 0, 0, 0, 0, 0, 0, 0, 0, 0, 0, 0, 0, 0,\n",
       "         0, 0, 0, 0, 0, 0, 0, 0, 0, 0, 0, 0, 0, 0, 0, 0, 0, 0, 0, 0, 0, 0,\n",
       "         0, 0, 0, 0, 0, 0, 0, 0, 0, 0, 0, 0, 0, 0, 0, 0, 0, 0, 0, 0, 0, 0,\n",
       "         0, 0, 0, 0, 0, 0, 0, 0, 0, 0, 0, 0, 0, 0, 0, 0, 0, 0, 0, 0, 0, 0,\n",
       "         0, 0, 0, 0, 0, 0, 0, 0, 0, 0, 0, 0, 0, 0, 0, 0, 0, 0, 0, 0, 0, 0,\n",
       "         0, 0, 0, 0, 0, 0, 0, 0, 0, 0, 0, 0, 0, 0, 0, 0, 0, 0, 0, 0, 0]],\n",
       "       dtype=int32)}"
      ]
     },
     "execution_count": 56,
     "metadata": {},
     "output_type": "execute_result"
    }
   ],
   "source": [
    "prompt_input"
   ]
  },
  {
   "cell_type": "code",
   "execution_count": 57,
   "id": "13e8661f-da16-45ec-961b-a2f4dd4c8d08",
   "metadata": {},
   "outputs": [
    {
     "data": {
      "text/plain": [
       "{'token_ids': array([[  497,   587,     8,    13,     1,   586,     3,     5,  2123,\n",
       "         25385, 25385, 21881, 28339, 28339, 17761,  5208, 47143, 50230,\n",
       "         35771, 23814, 25385, 18368,  7812, 43226,  7812, 25385, 18368,\n",
       "         25385, 28339,  7812,  7812, 18368, 25920, 35771,  7812, 43226,\n",
       "          7812, 47143,  7812, 35771, 35771,  1791,  5208,  9321,   949,\n",
       "         18625,  5989, 22581, 50230,  1791,  1791, 16487, 46202,  1791,\n",
       "          1791, 46202, 13083, 39888,  1791,  5989, 18368, 22581,  1791,\n",
       "         43226, 50230, 18023,  1791,  1791, 43226, 50230, 39722, 39722,\n",
       "         25920, 50230, 50230, 43226, 28339, 29738, 46202, 43226, 22157,\n",
       "         50230, 50230,  1791,  7267, 50230, 22581, 34971,  7267,  7219,\n",
       "         36347, 22157, 22581, 44701, 48291,  1791, 48291, 37770,  7267,\n",
       "         42497,  1055, 22157, 47594, 47594, 39722, 50230, 16487, 50230,\n",
       "         22581, 22581,  7267, 46202, 44701, 39722, 44701,  7267, 50230,\n",
       "          7267, 46202,  9474, 47594, 22581, 22581,  7267, 32756, 22581,\n",
       "         47067, 22581, 25920, 39722, 46202, 44701, 47067, 22581, 22581,\n",
       "         46202, 46202, 47594, 46202, 22581, 22581, 22581,  9474, 47067,\n",
       "         46202,  1791,  7267, 46202, 22581, 46202,  7267,  7267,  7267,\n",
       "         22581, 22157, 47067, 46202,  3279,  9474, 36347, 22581, 22581,\n",
       "         47067,   297,  7267,  1791, 47067, 46202, 46202, 47067, 22157,\n",
       "         46202,  9474,  9474,  9474,  9474,  9474,  7267, 49417, 22157,\n",
       "          9474,  7267, 22581,  3279, 32756, 22581,  9474, 46202,  9474,\n",
       "         22157, 22157, 22581, 46202, 46202,  3279,  9474, 22581]],\n",
       "       dtype=int32),\n",
       " 'padding_mask': array([[ True,  True,  True,  True,  True,  True,  True,  True,  True,\n",
       "          True,  True,  True,  True,  True,  True,  True,  True,  True,\n",
       "          True,  True,  True,  True,  True,  True,  True,  True,  True,\n",
       "          True,  True,  True,  True,  True,  True,  True,  True,  True,\n",
       "          True,  True,  True,  True,  True,  True,  True,  True,  True,\n",
       "          True,  True,  True,  True,  True,  True,  True,  True,  True,\n",
       "          True,  True,  True,  True,  True,  True,  True,  True,  True,\n",
       "          True,  True,  True,  True,  True,  True,  True,  True,  True,\n",
       "          True,  True,  True,  True,  True,  True,  True,  True,  True,\n",
       "          True,  True,  True,  True,  True,  True,  True,  True,  True,\n",
       "          True,  True,  True,  True,  True,  True,  True,  True,  True,\n",
       "          True,  True,  True,  True,  True,  True,  True,  True,  True,\n",
       "          True,  True,  True,  True,  True,  True,  True,  True,  True,\n",
       "          True,  True,  True,  True,  True,  True,  True,  True,  True,\n",
       "          True,  True,  True,  True,  True,  True,  True,  True,  True,\n",
       "          True,  True,  True,  True,  True,  True,  True,  True,  True,\n",
       "          True,  True,  True,  True,  True,  True,  True,  True,  True,\n",
       "          True,  True,  True,  True,  True,  True,  True,  True,  True,\n",
       "          True,  True,  True,  True,  True,  True,  True,  True,  True,\n",
       "          True,  True,  True,  True,  True,  True,  True,  True,  True,\n",
       "          True,  True,  True,  True,  True,  True,  True,  True,  True,\n",
       "          True,  True,  True,  True,  True,  True,  True,  True]])}"
      ]
     },
     "execution_count": 57,
     "metadata": {},
     "output_type": "execute_result"
    }
   ],
   "source": [
    "generated_ids"
   ]
  },
  {
   "cell_type": "code",
   "execution_count": 58,
   "id": "3c178832-5090-40dc-8c74-2f2fbfd50ded",
   "metadata": {},
   "outputs": [
    {
     "data": {
      "text/plain": [
       "array([  497,   587,     8,    13,     1,   586,     3,     5,  2123,\n",
       "       25385, 25385, 21881, 28339, 28339, 17761,  5208, 47143, 50230,\n",
       "       35771, 23814, 25385, 18368,  7812, 43226,  7812, 25385, 18368,\n",
       "       25385, 28339,  7812,  7812, 18368, 25920, 35771,  7812, 43226,\n",
       "        7812, 47143,  7812, 35771, 35771,  1791,  5208,  9321,   949,\n",
       "       18625,  5989, 22581, 50230,  1791,  1791, 16487, 46202,  1791,\n",
       "        1791, 46202, 13083, 39888,  1791,  5989, 18368, 22581,  1791,\n",
       "       43226, 50230, 18023,  1791,  1791, 43226, 50230, 39722, 39722,\n",
       "       25920, 50230, 50230, 43226, 28339, 29738, 46202, 43226, 22157,\n",
       "       50230, 50230,  1791,  7267, 50230, 22581, 34971,  7267,  7219,\n",
       "       36347, 22157, 22581, 44701, 48291,  1791, 48291, 37770,  7267,\n",
       "       42497,  1055, 22157, 47594, 47594, 39722, 50230, 16487, 50230,\n",
       "       22581, 22581,  7267, 46202, 44701, 39722, 44701,  7267, 50230,\n",
       "        7267, 46202,  9474, 47594, 22581, 22581,  7267, 32756, 22581,\n",
       "       47067, 22581, 25920, 39722, 46202, 44701, 47067, 22581, 22581,\n",
       "       46202, 46202, 47594, 46202, 22581, 22581, 22581,  9474, 47067,\n",
       "       46202,  1791,  7267, 46202, 22581, 46202,  7267,  7267,  7267,\n",
       "       22581, 22157, 47067, 46202,  3279,  9474, 36347, 22581, 22581,\n",
       "       47067,   297,  7267,  1791, 47067, 46202, 46202, 47067, 22157,\n",
       "       46202,  9474,  9474,  9474,  9474,  9474,  7267, 49417, 22157,\n",
       "        9474,  7267, 22581,  3279, 32756, 22581,  9474, 46202,  9474,\n",
       "       22157, 22157, 22581, 46202, 46202,  3279,  9474, 22581],\n",
       "      dtype=int32)"
      ]
     },
     "execution_count": 58,
     "metadata": {},
     "output_type": "execute_result"
    }
   ],
   "source": [
    "generated_ids['token_ids'][0]"
   ]
  },
  {
   "cell_type": "code",
   "execution_count": 59,
   "id": "34d857e9-8b19-4437-a7cc-a87f6f45b66a",
   "metadata": {},
   "outputs": [
    {
     "data": {
      "text/plain": [
       "''"
      ]
     },
     "execution_count": 59,
     "metadata": {},
     "output_type": "execute_result"
    }
   ],
   "source": [
    "tokenizer_x_train.sequences_to_texts([generated_ids])[0]"
   ]
  }
 ],
 "metadata": {
  "kernelspec": {
   "display_name": "Python 3 (ipykernel)",
   "language": "python",
   "name": "python3"
  },
  "language_info": {
   "codemirror_mode": {
    "name": "ipython",
    "version": 3
   },
   "file_extension": ".py",
   "mimetype": "text/x-python",
   "name": "python",
   "nbconvert_exporter": "python",
   "pygments_lexer": "ipython3",
   "version": "3.11.4"
  }
 },
 "nbformat": 4,
 "nbformat_minor": 5
}
