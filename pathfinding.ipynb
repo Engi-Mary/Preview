{
 "cells": [
  {
   "cell_type": "markdown",
   "metadata": {},
   "source": [
    "# what happens behind the scenes: \n",
    "#     1. interaction between the device and the address data bank\n",
    "#     2. interaction between the device and the LEDs"
   ]
  },
  {
   "cell_type": "code",
   "execution_count": 1,
   "metadata": {},
   "outputs": [],
   "source": [
    "# import the required dependencies\n",
    "import random\n",
    "import pandas as pd\n",
    "from PIL import Image\n",
    "import matplotlib.pyplot as plt\n",
    "import numpy as np\n",
    "%matplotlib qt"
   ]
  },
  {
   "cell_type": "markdown",
   "metadata": {},
   "source": [
    "## create a data set of rooms and their address:"
   ]
  },
  {
   "cell_type": "markdown",
   "metadata": {},
   "source": [
    "### create a sample list of rooms' numbers"
   ]
  },
  {
   "cell_type": "code",
   "execution_count": 2,
   "metadata": {},
   "outputs": [],
   "source": [
    "#create a sample list of rooms' numbers\n",
    "\n",
    "room_number = [101,104]"
   ]
  },
  {
   "cell_type": "markdown",
   "metadata": {},
   "source": [
    "### create a sample list for LEDs' IDs and their coordination"
   ]
  },
  {
   "cell_type": "code",
   "execution_count": 3,
   "metadata": {},
   "outputs": [
    {
     "data": {
      "text/html": [
       "<div>\n",
       "<style scoped>\n",
       "    .dataframe tbody tr th:only-of-type {\n",
       "        vertical-align: middle;\n",
       "    }\n",
       "\n",
       "    .dataframe tbody tr th {\n",
       "        vertical-align: top;\n",
       "    }\n",
       "\n",
       "    .dataframe thead th {\n",
       "        text-align: right;\n",
       "    }\n",
       "</style>\n",
       "<table border=\"1\" class=\"dataframe\">\n",
       "  <thead>\n",
       "    <tr style=\"text-align: right;\">\n",
       "      <th></th>\n",
       "      <th>LED ID</th>\n",
       "      <th>X</th>\n",
       "      <th>Y</th>\n",
       "    </tr>\n",
       "  </thead>\n",
       "  <tbody>\n",
       "    <tr>\n",
       "      <th>0</th>\n",
       "      <td>0</td>\n",
       "      <td>2</td>\n",
       "      <td>10.0</td>\n",
       "    </tr>\n",
       "    <tr>\n",
       "      <th>1</th>\n",
       "      <td>1</td>\n",
       "      <td>3</td>\n",
       "      <td>10.0</td>\n",
       "    </tr>\n",
       "    <tr>\n",
       "      <th>2</th>\n",
       "      <td>2</td>\n",
       "      <td>4</td>\n",
       "      <td>10.0</td>\n",
       "    </tr>\n",
       "    <tr>\n",
       "      <th>3</th>\n",
       "      <td>3</td>\n",
       "      <td>5</td>\n",
       "      <td>10.0</td>\n",
       "    </tr>\n",
       "    <tr>\n",
       "      <th>4</th>\n",
       "      <td>4</td>\n",
       "      <td>6</td>\n",
       "      <td>10.0</td>\n",
       "    </tr>\n",
       "  </tbody>\n",
       "</table>\n",
       "</div>"
      ],
      "text/plain": [
       "   LED ID  X     Y\n",
       "0       0  2  10.0\n",
       "1       1  3  10.0\n",
       "2       2  4  10.0\n",
       "3       3  5  10.0\n",
       "4       4  6  10.0"
      ]
     },
     "execution_count": 3,
     "metadata": {},
     "output_type": "execute_result"
    }
   ],
   "source": [
    "#create a sample list for LEDs' IDs and their coordination\n",
    "\n",
    "LED_ID = range(0,28)\n",
    "X = [2,3,4,5,6,7,8,9,10,11,12,13,14,15,16,17,18,19,19,14,14,14,14,14,14,14,14,13]\n",
    "Y = [10,10,10,10,10,10,10,10,10,10,10,10,10,10,10,10,10,10,10.6,9,8,7,6,5,4,3,2,2]\n",
    "\n",
    "LED_dic = {\"LED ID\":LED_ID, \"X\":X, \"Y\":Y}\n",
    "LED_coordinate = pd.DataFrame(data=LED_dic)\n",
    "LED_coordinate.head()"
   ]
  },
  {
   "cell_type": "markdown",
   "metadata": {},
   "source": [
    "### create a sample dictionary of rooms' numbers and their address"
   ]
  },
  {
   "cell_type": "code",
   "execution_count": 5,
   "metadata": {},
   "outputs": [],
   "source": [
    "room_dic = {\"101\":[0,1,2,3,4,5,6,7,8,9,10,11,12,19,20,21,22,23,24,25,26,27], \n",
    "            \"104\":[0,1,2,3,4,5,6,7,8,9,10,11,12,13,14,15,16,17,18]}"
   ]
  },
  {
   "cell_type": "markdown",
   "metadata": {},
   "source": [
    "#     1. interaction between the device and the data bank"
   ]
  },
  {
   "cell_type": "markdown",
   "metadata": {},
   "source": [
    "### create a sample function to visualize the path to the desired room "
   ]
  },
  {
   "cell_type": "code",
   "execution_count": 12,
   "metadata": {},
   "outputs": [],
   "source": [
    "# create a sample function to visualize the path to the desired room \n",
    "\n",
    "def navigation(room_number):\n",
    "    \n",
    "    fig, ax = plt.subplots(figsize=(12,10))\n",
    "    img_red = plt.imread(\"pics/map_red.png\")\n",
    "    img_green = plt.imread(\"pics/map_green.png\")\n",
    "    \n",
    "    x = []\n",
    "    y = []\n",
    "\n",
    "    for key, value in room_dic.items():\n",
    "        if key == room_number:\n",
    "            for i in range(len(LED_coordinate)):\n",
    "                for item in value:\n",
    "                    if item == LED_coordinate['LED ID'][i]:\n",
    "                        x.append(LED_coordinate['X'][i])\n",
    "                        y.append(LED_coordinate['Y'][i])\n",
    "\n",
    "    if room_number == '101':\n",
    "\n",
    "        ax.imshow(img_green, extent=[0,20,0,15])\n",
    "        plt.plot(x,y,'go')\n",
    "        fig.savefig(\"room \"+room_number)\n",
    "                \n",
    "\n",
    "\n",
    "    elif room_number == '104':\n",
    "\n",
    "        ax.imshow(img_red, extent=[0,20,0,15])\n",
    "        plt.plot(x,y,'ro')\n",
    "        fig.savefig(\"room \"+room_number)\n",
    "\n",
    "    \n",
    "    ax.set_xticks(np.arange(0, 20, 1))\n",
    "    ax.set_yticks(np.arange(0, 15, 1))\n",
    "\n",
    "    plt.show()"
   ]
  },
  {
   "cell_type": "markdown",
   "metadata": {},
   "source": [
    "### input room number and receive the address"
   ]
  },
  {
   "cell_type": "code",
   "execution_count": 25,
   "metadata": {},
   "outputs": [
    {
     "name": "stdout",
     "output_type": "stream",
     "text": [
      "enter the room number101\n",
      "\n",
      "room address:  [0, 1, 2, 3, 4, 5, 6, 7, 8, 9, 10, 11, 12, 19, 20, 21, 22, 23, 24, 25, 26, 27]\n"
     ]
    }
   ],
   "source": [
    "#input a room number and get the address\n",
    "num = input(\"enter the room number\")\n",
    "\n",
    "for key, value in room_dic.items():\n",
    "    if key == num:\n",
    "        room_address = value\n",
    "        print(\"\\nroom address: \",room_address)\n",
    "        \n",
    "        \n",
    "navigation(num)"
   ]
  },
  {
   "cell_type": "markdown",
   "metadata": {},
   "source": [
    "#     2. interaction between the device and LEDs"
   ]
  },
  {
   "cell_type": "code",
   "execution_count": 15,
   "metadata": {},
   "outputs": [
    {
     "name": "stdout",
     "output_type": "stream",
     "text": [
      "bluetooth id:  6\n",
      "\n",
      "This LED should be red\n",
      "address:  [0, 1, 2, 3, 4, 5, 6, 7, 8, 9, 10, 11, 12, 19, 20, 21, 22, 23, 24, 25, 26, 27]\n"
     ]
    }
   ],
   "source": [
    "# compare each LED ID with the address which is given to the device \n",
    "# and if they match, turn on the corresponding LED with the corresponding color\n",
    "\n",
    "color = \"red\"\n",
    "\n",
    "bluetooth_id = random.randint(1,19)\n",
    "print(\"bluetooth id: \", bluetooth_id)\n",
    "\n",
    "for item in room_address:\n",
    "    if bluetooth_id == item:\n",
    "        print(\"\\nThis LED should be \" +color)\n",
    "        print(\"address: \", room_address)\n",
    "       "
   ]
  }
 ],
 "metadata": {
  "kernelspec": {
   "display_name": "Python 3",
   "language": "python",
   "name": "python3"
  },
  "language_info": {
   "codemirror_mode": {
    "name": "ipython",
    "version": 3
   },
   "file_extension": ".py",
   "mimetype": "text/x-python",
   "name": "python",
   "nbconvert_exporter": "python",
   "pygments_lexer": "ipython3",
   "version": "3.8.3"
  }
 },
 "nbformat": 4,
 "nbformat_minor": 4
}
