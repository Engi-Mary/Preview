{
 "cells": [
  {
   "cell_type": "code",
   "execution_count": 1,
   "id": "9cbe3793-7761-4496-993e-669381ec9b5b",
   "metadata": {},
   "outputs": [],
   "source": [
    "import pandas as pd\n",
    "import numpy as np\n",
    "import matplotlib.pyplot as plt\n",
    "\n",
    "# %matplotlib widget"
   ]
  },
  {
   "cell_type": "code",
   "execution_count": 22,
   "id": "f590e98f-2439-4245-bcdd-8c821310df9c",
   "metadata": {},
   "outputs": [],
   "source": [
    "df = pd.read_excel(\"datasets/Khurshid/RxPacketTrace.xls\")"
   ]
  },
  {
   "cell_type": "code",
   "execution_count": 23,
   "id": "adc3ef0e-efd9-4dc0-8edd-050670eec3b4",
   "metadata": {},
   "outputs": [
    {
     "data": {
      "text/html": [
       "<div>\n",
       "<style scoped>\n",
       "    .dataframe tbody tr th:only-of-type {\n",
       "        vertical-align: middle;\n",
       "    }\n",
       "\n",
       "    .dataframe tbody tr th {\n",
       "        vertical-align: top;\n",
       "    }\n",
       "\n",
       "    .dataframe thead th {\n",
       "        text-align: right;\n",
       "    }\n",
       "</style>\n",
       "<table border=\"1\" class=\"dataframe\">\n",
       "  <thead>\n",
       "    <tr style=\"text-align: right;\">\n",
       "      <th></th>\n",
       "      <th>Unnamed: 0</th>\n",
       "      <th>time</th>\n",
       "      <th>frame</th>\n",
       "      <th>subF</th>\n",
       "      <th>1stSym</th>\n",
       "      <th>symbol#</th>\n",
       "      <th>cellId</th>\n",
       "      <th>rnti</th>\n",
       "      <th>ccId</th>\n",
       "      <th>tbSize</th>\n",
       "      <th>mcs</th>\n",
       "      <th>rv</th>\n",
       "      <th>SINR(dB)</th>\n",
       "      <th>corrupt</th>\n",
       "      <th>TBler</th>\n",
       "    </tr>\n",
       "  </thead>\n",
       "  <tbody>\n",
       "    <tr>\n",
       "      <th>0</th>\n",
       "      <td>DL</td>\n",
       "      <td>0.058143</td>\n",
       "      <td>5</td>\n",
       "      <td>8</td>\n",
       "      <td>1</td>\n",
       "      <td>1</td>\n",
       "      <td>3</td>\n",
       "      <td>1</td>\n",
       "      <td>0</td>\n",
       "      <td>44</td>\n",
       "      <td>0</td>\n",
       "      <td>0</td>\n",
       "      <td>20.29530</td>\n",
       "      <td>NaN</td>\n",
       "      <td>0.0</td>\n",
       "    </tr>\n",
       "    <tr>\n",
       "      <th>1</th>\n",
       "      <td>DL</td>\n",
       "      <td>0.058143</td>\n",
       "      <td>5</td>\n",
       "      <td>8</td>\n",
       "      <td>1</td>\n",
       "      <td>1</td>\n",
       "      <td>4</td>\n",
       "      <td>1</td>\n",
       "      <td>0</td>\n",
       "      <td>44</td>\n",
       "      <td>0</td>\n",
       "      <td>0</td>\n",
       "      <td>33.74800</td>\n",
       "      <td>NaN</td>\n",
       "      <td>0.0</td>\n",
       "    </tr>\n",
       "    <tr>\n",
       "      <th>2</th>\n",
       "      <td>DL</td>\n",
       "      <td>0.058143</td>\n",
       "      <td>5</td>\n",
       "      <td>8</td>\n",
       "      <td>1</td>\n",
       "      <td>1</td>\n",
       "      <td>5</td>\n",
       "      <td>1</td>\n",
       "      <td>0</td>\n",
       "      <td>44</td>\n",
       "      <td>0</td>\n",
       "      <td>0</td>\n",
       "      <td>12.48130</td>\n",
       "      <td>NaN</td>\n",
       "      <td>0.0</td>\n",
       "    </tr>\n",
       "    <tr>\n",
       "      <th>3</th>\n",
       "      <td>DL</td>\n",
       "      <td>0.058143</td>\n",
       "      <td>5</td>\n",
       "      <td>8</td>\n",
       "      <td>1</td>\n",
       "      <td>1</td>\n",
       "      <td>7</td>\n",
       "      <td>1</td>\n",
       "      <td>0</td>\n",
       "      <td>44</td>\n",
       "      <td>0</td>\n",
       "      <td>0</td>\n",
       "      <td>6.09723</td>\n",
       "      <td>NaN</td>\n",
       "      <td>0.0</td>\n",
       "    </tr>\n",
       "    <tr>\n",
       "      <th>4</th>\n",
       "      <td>DL</td>\n",
       "      <td>0.058143</td>\n",
       "      <td>5</td>\n",
       "      <td>8</td>\n",
       "      <td>1</td>\n",
       "      <td>1</td>\n",
       "      <td>9</td>\n",
       "      <td>1</td>\n",
       "      <td>0</td>\n",
       "      <td>44</td>\n",
       "      <td>0</td>\n",
       "      <td>0</td>\n",
       "      <td>9.40202</td>\n",
       "      <td>NaN</td>\n",
       "      <td>0.0</td>\n",
       "    </tr>\n",
       "  </tbody>\n",
       "</table>\n",
       "</div>"
      ],
      "text/plain": [
       "  Unnamed: 0      time  frame  subF  1stSym  symbol#  cellId  rnti  ccId  \\\n",
       "0         DL  0.058143      5     8       1        1       3     1     0   \n",
       "1         DL  0.058143      5     8       1        1       4     1     0   \n",
       "2         DL  0.058143      5     8       1        1       5     1     0   \n",
       "3         DL  0.058143      5     8       1        1       7     1     0   \n",
       "4         DL  0.058143      5     8       1        1       9     1     0   \n",
       "\n",
       "   tbSize  mcs  rv  SINR(dB)  corrupt  TBler  \n",
       "0      44    0   0  20.29530      NaN    0.0  \n",
       "1      44    0   0  33.74800      NaN    0.0  \n",
       "2      44    0   0  12.48130      NaN    0.0  \n",
       "3      44    0   0   6.09723      NaN    0.0  \n",
       "4      44    0   0   9.40202      NaN    0.0  "
      ]
     },
     "execution_count": 23,
     "metadata": {},
     "output_type": "execute_result"
    }
   ],
   "source": [
    "df.head()"
   ]
  },
  {
   "cell_type": "code",
   "execution_count": 24,
   "id": "05e9096c-223b-43a2-a6fe-b1e75937ea7c",
   "metadata": {},
   "outputs": [
    {
     "data": {
      "text/plain": [
       "array([ 3,  4,  5,  7,  9, 10])"
      ]
     },
     "execution_count": 24,
     "metadata": {},
     "output_type": "execute_result"
    }
   ],
   "source": [
    "df['cellId'].unique()"
   ]
  },
  {
   "cell_type": "code",
   "execution_count": 29,
   "id": "ca3f09e1-1ae8-481d-957f-153aa9281024",
   "metadata": {},
   "outputs": [],
   "source": [
    "df = df.rename(columns={\"Unnamed: 0\" : \"status\"})"
   ]
  },
  {
   "cell_type": "code",
   "execution_count": 30,
   "id": "8dd0d961-7d70-42f5-bcba-693d5189e6d0",
   "metadata": {},
   "outputs": [
    {
     "data": {
      "text/html": [
       "<div>\n",
       "<style scoped>\n",
       "    .dataframe tbody tr th:only-of-type {\n",
       "        vertical-align: middle;\n",
       "    }\n",
       "\n",
       "    .dataframe tbody tr th {\n",
       "        vertical-align: top;\n",
       "    }\n",
       "\n",
       "    .dataframe thead th {\n",
       "        text-align: right;\n",
       "    }\n",
       "</style>\n",
       "<table border=\"1\" class=\"dataframe\">\n",
       "  <thead>\n",
       "    <tr style=\"text-align: right;\">\n",
       "      <th></th>\n",
       "      <th>status</th>\n",
       "      <th>time</th>\n",
       "      <th>frame</th>\n",
       "      <th>subF</th>\n",
       "      <th>1stSym</th>\n",
       "      <th>symbol#</th>\n",
       "      <th>cellId</th>\n",
       "      <th>rnti</th>\n",
       "      <th>ccId</th>\n",
       "      <th>tbSize</th>\n",
       "      <th>mcs</th>\n",
       "      <th>rv</th>\n",
       "      <th>SINR(dB)</th>\n",
       "      <th>corrupt</th>\n",
       "      <th>TBler</th>\n",
       "    </tr>\n",
       "  </thead>\n",
       "  <tbody>\n",
       "    <tr>\n",
       "      <th>0</th>\n",
       "      <td>DL</td>\n",
       "      <td>0.058143</td>\n",
       "      <td>5</td>\n",
       "      <td>8</td>\n",
       "      <td>1</td>\n",
       "      <td>1</td>\n",
       "      <td>3</td>\n",
       "      <td>1</td>\n",
       "      <td>0</td>\n",
       "      <td>44</td>\n",
       "      <td>0</td>\n",
       "      <td>0</td>\n",
       "      <td>20.29530</td>\n",
       "      <td>NaN</td>\n",
       "      <td>0.0</td>\n",
       "    </tr>\n",
       "    <tr>\n",
       "      <th>1</th>\n",
       "      <td>DL</td>\n",
       "      <td>0.058143</td>\n",
       "      <td>5</td>\n",
       "      <td>8</td>\n",
       "      <td>1</td>\n",
       "      <td>1</td>\n",
       "      <td>4</td>\n",
       "      <td>1</td>\n",
       "      <td>0</td>\n",
       "      <td>44</td>\n",
       "      <td>0</td>\n",
       "      <td>0</td>\n",
       "      <td>33.74800</td>\n",
       "      <td>NaN</td>\n",
       "      <td>0.0</td>\n",
       "    </tr>\n",
       "    <tr>\n",
       "      <th>2</th>\n",
       "      <td>DL</td>\n",
       "      <td>0.058143</td>\n",
       "      <td>5</td>\n",
       "      <td>8</td>\n",
       "      <td>1</td>\n",
       "      <td>1</td>\n",
       "      <td>5</td>\n",
       "      <td>1</td>\n",
       "      <td>0</td>\n",
       "      <td>44</td>\n",
       "      <td>0</td>\n",
       "      <td>0</td>\n",
       "      <td>12.48130</td>\n",
       "      <td>NaN</td>\n",
       "      <td>0.0</td>\n",
       "    </tr>\n",
       "    <tr>\n",
       "      <th>3</th>\n",
       "      <td>DL</td>\n",
       "      <td>0.058143</td>\n",
       "      <td>5</td>\n",
       "      <td>8</td>\n",
       "      <td>1</td>\n",
       "      <td>1</td>\n",
       "      <td>7</td>\n",
       "      <td>1</td>\n",
       "      <td>0</td>\n",
       "      <td>44</td>\n",
       "      <td>0</td>\n",
       "      <td>0</td>\n",
       "      <td>6.09723</td>\n",
       "      <td>NaN</td>\n",
       "      <td>0.0</td>\n",
       "    </tr>\n",
       "    <tr>\n",
       "      <th>4</th>\n",
       "      <td>DL</td>\n",
       "      <td>0.058143</td>\n",
       "      <td>5</td>\n",
       "      <td>8</td>\n",
       "      <td>1</td>\n",
       "      <td>1</td>\n",
       "      <td>9</td>\n",
       "      <td>1</td>\n",
       "      <td>0</td>\n",
       "      <td>44</td>\n",
       "      <td>0</td>\n",
       "      <td>0</td>\n",
       "      <td>9.40202</td>\n",
       "      <td>NaN</td>\n",
       "      <td>0.0</td>\n",
       "    </tr>\n",
       "  </tbody>\n",
       "</table>\n",
       "</div>"
      ],
      "text/plain": [
       "  status      time  frame  subF  1stSym  symbol#  cellId  rnti  ccId  tbSize  \\\n",
       "0     DL  0.058143      5     8       1        1       3     1     0      44   \n",
       "1     DL  0.058143      5     8       1        1       4     1     0      44   \n",
       "2     DL  0.058143      5     8       1        1       5     1     0      44   \n",
       "3     DL  0.058143      5     8       1        1       7     1     0      44   \n",
       "4     DL  0.058143      5     8       1        1       9     1     0      44   \n",
       "\n",
       "   mcs  rv  SINR(dB)  corrupt  TBler  \n",
       "0    0   0  20.29530      NaN    0.0  \n",
       "1    0   0  33.74800      NaN    0.0  \n",
       "2    0   0  12.48130      NaN    0.0  \n",
       "3    0   0   6.09723      NaN    0.0  \n",
       "4    0   0   9.40202      NaN    0.0  "
      ]
     },
     "execution_count": 30,
     "metadata": {},
     "output_type": "execute_result"
    }
   ],
   "source": [
    "df.head()"
   ]
  },
  {
   "cell_type": "code",
   "execution_count": 31,
   "id": "50ea38fe-112a-4287-9de7-bcb0a85a0c72",
   "metadata": {},
   "outputs": [
    {
     "data": {
      "image/png": "[encoded data removed]",
      "text/plain": [
       "<Figure size 576x324 with 1 Axes>"
      ]
     },
     "metadata": {
      "needs_background": "light"
     },
     "output_type": "display_data"
    },
    {
     "data": {
      "text/plain": [
       "<Figure size 432x288 with 0 Axes>"
      ]
     },
     "metadata": {},
     "output_type": "display_data"
    }
   ],
   "source": [
    "fig, ax = plt.subplots()\n",
    "fig.set_size_inches(8,4.5)\n",
    "fig.suptitle(\"Time vs. Signal to Noise Ratio\", fontweight='bold', fontsize=20)\n",
    "\n",
    "ax.plot(df['time'][df['status']=='DL'], df['SINR(dB)'][df['status']=='DL'], marker='.', \n",
    "        color='indigo', label='Download')\n",
    "ax.plot(df['time'][df['status']=='UL'], df['SINR(dB)'][df['status']=='UL'], marker='.', \n",
    "        color='turquoise', label='Upload')\n",
    "\n",
    "ax.set_xlabel(\"Time\", fontsize=15)\n",
    "ax.set_ylabel(\"SNR(dB)\", fontsize=15)\n",
    "\n",
    "plt.legend()\n",
    "\n",
    "plt.show()\n",
    "plt.savefig(\"time-snr.png\")"
   ]
  },
  {
   "cell_type": "code",
   "execution_count": 27,
   "id": "00e8c0c3-a908-4d74-8f46-71f922233ae0",
   "metadata": {},
   "outputs": [],
   "source": [
    "plt.close('all')"
   ]
  },
  {
   "cell_type": "code",
   "execution_count": 60,
   "id": "c44f88dd-33fd-4dbf-aefb-1a12d51676a9",
   "metadata": {},
   "outputs": [
    {
     "data": {
      "text/plain": [
       "0.0581429"
      ]
     },
     "execution_count": 60,
     "metadata": {},
     "output_type": "execute_result"
    }
   ],
   "source": [
    "df['time'].min()"
   ]
  },
  {
   "cell_type": "code",
   "execution_count": 61,
   "id": "4938c1bb-69c6-4c25-9d81-b270af612916",
   "metadata": {},
   "outputs": [
    {
     "data": {
      "text/plain": [
       "1.46921"
      ]
     },
     "execution_count": 61,
     "metadata": {},
     "output_type": "execute_result"
    }
   ],
   "source": [
    "df['time'].max()"
   ]
  },
  {
   "cell_type": "code",
   "execution_count": 16,
   "id": "8a06cd04-16b1-4e93-8fdc-79c4542c4793",
   "metadata": {},
   "outputs": [
    {
     "data": {
      "image/png": "[encoded data removed]",
      "text/plain": [
       "<Figure size 576x324 with 1 Axes>"
      ]
     },
     "metadata": {
      "needs_background": "light"
     },
     "output_type": "display_data"
    },
    {
     "data": {
      "text/plain": [
       "<Figure size 432x288 with 0 Axes>"
      ]
     },
     "metadata": {},
     "output_type": "display_data"
    }
   ],
   "source": [
    "fig, ax = plt.subplots()\n",
    "fig.set_size_inches(8,4.5)\n",
    "\n",
    "ax.scatter(df['cellId'], df['frame'], marker='x', color='seagreen', s=100)\n",
    "\n",
    "ax.set_title(\"Cell ID vs. Frame\", fontsize=20, fontweight='bold')\n",
    "ax.set_xlabel(\"Cell ID\", fontsize=15)\n",
    "ax.set_ylabel(\"Frame\", fontsize=15)\n",
    "\n",
    "plt.show()\n",
    "plt.savefig(\"cellid-frame.png\")"
   ]
  },
  {
   "cell_type": "code",
   "execution_count": 32,
   "id": "9367e8ef-63a3-4143-b9da-03ebb88f5faf",
   "metadata": {},
   "outputs": [],
   "source": [
    "plt.close('all')"
   ]
  },
  {
   "cell_type": "code",
   "execution_count": 17,
   "id": "14a8e32a-8ce2-47d2-a446-f4b9384a1aac",
   "metadata": {},
   "outputs": [
    {
     "data": {
      "image/png": "[encoded data removed]",
      "text/plain": [
       "<Figure size 576x324 with 1 Axes>"
      ]
     },
     "metadata": {
      "needs_background": "light"
     },
     "output_type": "display_data"
    },
    {
     "data": {
      "text/plain": [
       "<Figure size 432x288 with 0 Axes>"
      ]
     },
     "metadata": {},
     "output_type": "display_data"
    }
   ],
   "source": [
    "#The Modulation Coding Scheme (MCS) index is an existing industry metric based on \n",
    "#several parameters of a Wi-Fi connection between a client device and a wireless \n",
    "#access point, including data rate, channel width, and the number of antennas or \n",
    "#spatial streams in the device.\n",
    "\n",
    "fig, ax = plt.subplots()\n",
    "fig.set_size_inches(8,4.5)\n",
    "\n",
    "ax.scatter(df['cellId'], df['mcs'], marker='^', color='indianred', s=100)\n",
    "\n",
    "ax.set_title(\"Cell ID vs. Modulation Coding Scheme\", fontsize=20, fontweight='bold')\n",
    "ax.set_xlabel(\"Cell ID\", fontsize=15)\n",
    "ax.set_ylabel(\"MCS\", fontsize=15)\n",
    "\n",
    "plt.show()\n",
    "plt.savefig(\"cellid-mcs.png\")"
   ]
  },
  {
   "cell_type": "code",
   "execution_count": 18,
   "id": "5023136d-e9aa-4859-8297-a217c0480df7",
   "metadata": {},
   "outputs": [
    {
     "data": {
      "image/png": "[encoded data removed]",
      "text/plain": [
       "<Figure size 576x324 with 1 Axes>"
      ]
     },
     "metadata": {
      "needs_background": "light"
     },
     "output_type": "display_data"
    },
    {
     "data": {
      "text/plain": [
       "<Figure size 432x288 with 0 Axes>"
      ]
     },
     "metadata": {},
     "output_type": "display_data"
    }
   ],
   "source": [
    "#Transport Block is a packet of data which is passed between the MAC and Physical layers. \n",
    "#It is passed downwards at the transmitter and upwards at the receiver. \n",
    "\n",
    "fig, ax = plt.subplots()\n",
    "fig.set_size_inches(8,4.5)\n",
    "\n",
    "ax.scatter(df['cellId'], df['tbSize'], marker='*', color='mediumblue', s=100)\n",
    "\n",
    "ax.set_title(\"Cell ID vs. Transport Block Size\", fontsize=20, fontweight='bold')\n",
    "ax.set_xlabel(\"Cell ID\", fontsize=15)\n",
    "ax.set_ylabel(\"TBS\", fontsize=15)\n",
    "\n",
    "plt.show()\n",
    "plt.savefig(\"cellid-tbs.png\")"
   ]
  },
  {
   "cell_type": "code",
   "execution_count": 45,
   "id": "2785a5d3-05b2-4d87-a2bf-0a5bad6265a4",
   "metadata": {},
   "outputs": [],
   "source": [
    "plt.close('all')"
   ]
  },
  {
   "cell_type": "code",
   "execution_count": 19,
   "id": "ca2b9dd0-0a97-455a-804e-4df950312f55",
   "metadata": {},
   "outputs": [
    {
     "data": {
      "image/png": "[encoded data removed]",
      "text/plain": [
       "<Figure size 576x324 with 1 Axes>"
      ]
     },
     "metadata": {
      "needs_background": "light"
     },
     "output_type": "display_data"
    },
    {
     "data": {
      "text/plain": [
       "<Figure size 432x288 with 0 Axes>"
      ]
     },
     "metadata": {},
     "output_type": "display_data"
    }
   ],
   "source": [
    "#Runtime verification is a computing system analysis and execution approach based on \n",
    "#extracting information from a running system and using it to detect and possibly react \n",
    "#to observed behaviors satisfying or violating certain properties.\n",
    "\n",
    "fig, ax = plt.subplots()\n",
    "fig.set_size_inches(8,4.5)\n",
    "\n",
    "ax.scatter(df['cellId'], df['TBler'], marker='d', s=100, color='olivedrab')\n",
    "\n",
    "ax.set_title(\"Cell ID vs. TBler\", fontsize=20, fontweight='bold')\n",
    "ax.set_xlabel(\"Cell ID\", fontsize=15)\n",
    "ax.set_ylabel(\"TBler\", fontsize=15)\n",
    "\n",
    "plt.show()\n",
    "plt.savefig(\"cellid-tbler.png\")"
   ]
  }
 ],
 "metadata": {
  "kernelspec": {
   "display_name": "Python 3 (ipykernel)",
   "language": "python",
   "name": "python3"
  },
  "language_info": {
   "codemirror_mode": {
    "name": "ipython",
    "version": 3
   },
   "file_extension": ".py",
   "mimetype": "text/x-python",
   "name": "python",
   "nbconvert_exporter": "python",
   "pygments_lexer": "ipython3",
   "version": "3.8.10"
  }
 },
 "nbformat": 4,
 "nbformat_minor": 5
}
