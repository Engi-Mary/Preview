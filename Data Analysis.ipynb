{
 "cells": [
  {
   "cell_type": "code",
   "execution_count": 1,
   "id": "dfb87256-3a7d-4ce7-88f6-42d9718c95bf",
   "metadata": {},
   "outputs": [],
   "source": [
    "import sqlite3\n",
    "import pandas as pd\n",
    "import matplotlib.pyplot as plt\n",
    "import seaborn as sns\n",
    "import numpy as np\n",
    "from matplotlib.ticker import MaxNLocator\n",
    "\n",
    "%matplotlib inline"
   ]
  },
  {
   "cell_type": "code",
   "execution_count": 2,
   "id": "8f78e387-862b-4a4f-aace-9822ee722b11",
   "metadata": {},
   "outputs": [],
   "source": [
    "con = sqlite3.connect(\"default.db\")"
   ]
  },
  {
   "cell_type": "code",
   "execution_count": 3,
   "id": "6b975f6a-54ae-4523-a1a2-c4ceab5e0413",
   "metadata": {},
   "outputs": [],
   "source": [
    "cur = con.cursor()"
   ]
  },
  {
   "cell_type": "code",
   "execution_count": 4,
   "id": "89a1acd4-255c-42a6-a5c1-61d9203075c1",
   "metadata": {},
   "outputs": [],
   "source": [
    "table_list = [a for a in cur.execute(\"SELECT name FROM sqlite_master WHERE type = 'table'\")]"
   ]
  },
  {
   "cell_type": "code",
   "execution_count": 5,
   "id": "7fa41594-0390-42be-851e-1fee62318eef",
   "metadata": {},
   "outputs": [
    {
     "name": "stdout",
     "output_type": "stream",
     "text": [
      "[('sinr',), ('ueTxPower',), ('slotStats',), ('rbStats',), ('gnbRxPower',), ('e2e',)]\n"
     ]
    }
   ],
   "source": [
    "print(table_list)"
   ]
  },
  {
   "cell_type": "code",
   "execution_count": 6,
   "id": "b2ea43e6-7273-4ef9-b5b5-6f4b021de194",
   "metadata": {},
   "outputs": [],
   "source": [
    "con.close()"
   ]
  },
  {
   "cell_type": "code",
   "execution_count": 5,
   "id": "d8a76fd1-d7f7-4358-830d-4e80d9c21a10",
   "metadata": {},
   "outputs": [],
   "source": [
    "# cnx = sqlite3.connect('file.db')\n",
    "\n",
    "df1 = pd.read_sql_query(\"SELECT * FROM sinr\", con)\n",
    "df2 = pd.read_sql_query(\"SELECT * FROM ueTxPower\", con)\n",
    "df3 = pd.read_sql_query(\"SELECT * FROM slotStats\", con)\n",
    "df4 = pd.read_sql_query(\"SELECT * FROM rbStats\", con)\n",
    "df5 = pd.read_sql_query(\"SELECT * FROM gnbRxPower\", con)\n",
    "df6 = pd.read_sql_query(\"SELECT * FROM e2e\", con)"
   ]
  },
  {
   "cell_type": "code",
   "execution_count": 7,
   "id": "ed76b637-84d1-4232-b1c8-3af34f2def16",
   "metadata": {},
   "outputs": [
    {
     "data": {
      "text/html": [
       "<div>\n",
       "<style scoped>\n",
       "    .dataframe tbody tr th:only-of-type {\n",
       "        vertical-align: middle;\n",
       "    }\n",
       "\n",
       "    .dataframe tbody tr th {\n",
       "        vertical-align: top;\n",
       "    }\n",
       "\n",
       "    .dataframe thead th {\n",
       "        text-align: right;\n",
       "    }\n",
       "</style>\n",
       "<table border=\"1\" class=\"dataframe\">\n",
       "  <thead>\n",
       "    <tr style=\"text-align: right;\">\n",
       "      <th></th>\n",
       "      <th>CellId</th>\n",
       "      <th>BwpId</th>\n",
       "      <th>Rnti</th>\n",
       "      <th>AvgSinr</th>\n",
       "      <th>Seed</th>\n",
       "      <th>Run</th>\n",
       "    </tr>\n",
       "  </thead>\n",
       "  <tbody>\n",
       "    <tr>\n",
       "      <th>0</th>\n",
       "      <td>78</td>\n",
       "      <td>0</td>\n",
       "      <td>1</td>\n",
       "      <td>8908.413775</td>\n",
       "      <td>1</td>\n",
       "      <td>1</td>\n",
       "    </tr>\n",
       "    <tr>\n",
       "      <th>1</th>\n",
       "      <td>110</td>\n",
       "      <td>0</td>\n",
       "      <td>1</td>\n",
       "      <td>1584.186600</td>\n",
       "      <td>1</td>\n",
       "      <td>1</td>\n",
       "    </tr>\n",
       "    <tr>\n",
       "      <th>2</th>\n",
       "      <td>78</td>\n",
       "      <td>0</td>\n",
       "      <td>1</td>\n",
       "      <td>8908.413775</td>\n",
       "      <td>1</td>\n",
       "      <td>1</td>\n",
       "    </tr>\n",
       "    <tr>\n",
       "      <th>3</th>\n",
       "      <td>110</td>\n",
       "      <td>0</td>\n",
       "      <td>1</td>\n",
       "      <td>1584.186600</td>\n",
       "      <td>1</td>\n",
       "      <td>1</td>\n",
       "    </tr>\n",
       "    <tr>\n",
       "      <th>4</th>\n",
       "      <td>78</td>\n",
       "      <td>0</td>\n",
       "      <td>1</td>\n",
       "      <td>4757.686693</td>\n",
       "      <td>1</td>\n",
       "      <td>1</td>\n",
       "    </tr>\n",
       "  </tbody>\n",
       "</table>\n",
       "</div>"
      ],
      "text/plain": [
       "   CellId  BwpId  Rnti      AvgSinr  Seed  Run\n",
       "0      78      0     1  8908.413775     1    1\n",
       "1     110      0     1  1584.186600     1    1\n",
       "2      78      0     1  8908.413775     1    1\n",
       "3     110      0     1  1584.186600     1    1\n",
       "4      78      0     1  4757.686693     1    1"
      ]
     },
     "execution_count": 7,
     "metadata": {},
     "output_type": "execute_result"
    }
   ],
   "source": [
    "df1.head()"
   ]
  },
  {
   "cell_type": "code",
   "execution_count": 8,
   "id": "771a7b64-118d-4782-94f9-ae8272c6761d",
   "metadata": {},
   "outputs": [
    {
     "data": {
      "text/plain": [
       "39239"
      ]
     },
     "execution_count": 8,
     "metadata": {},
     "output_type": "execute_result"
    }
   ],
   "source": [
    "len(df1)"
   ]
  },
  {
   "cell_type": "code",
   "execution_count": 9,
   "id": "c5b3c556-7acf-40f3-9bac-f6273faa42ed",
   "metadata": {},
   "outputs": [
    {
     "data": {
      "text/plain": [
       "array([ 78, 110, 112,  34,  90, 100, 104,  14,  20,  12,  18,  30,  82,\n",
       "        16,  28, 114,  22,  32,  36, 106,  86,  10,  96,  24, 108,   6,\n",
       "         4,   2,  98, 102,  80,  94,  26,  88,  38,  84,   8,  92])"
      ]
     },
     "execution_count": 9,
     "metadata": {},
     "output_type": "execute_result"
    }
   ],
   "source": [
    "df1['CellId'].unique()"
   ]
  },
  {
   "cell_type": "code",
   "execution_count": 10,
   "id": "3ea85915-f9fa-4b3e-8ce2-400a42a59e0d",
   "metadata": {},
   "outputs": [
    {
     "data": {
      "text/plain": [
       "array([1])"
      ]
     },
     "execution_count": 10,
     "metadata": {},
     "output_type": "execute_result"
    }
   ],
   "source": [
    "df1['Rnti'].unique()"
   ]
  },
  {
   "cell_type": "code",
   "execution_count": 11,
   "id": "8870c40b-9844-46de-82e6-117398b3e18b",
   "metadata": {},
   "outputs": [
    {
     "data": {
      "text/plain": [
       "78"
      ]
     },
     "execution_count": 11,
     "metadata": {},
     "output_type": "execute_result"
    }
   ],
   "source": [
    "df1['CellId'][df1['AvgSinr'].idxmax()]"
   ]
  },
  {
   "cell_type": "code",
   "execution_count": 12,
   "id": "36e3f378-739d-4201-b99f-bf30c592d2cd",
   "metadata": {},
   "outputs": [],
   "source": [
    "df11 = (df1.groupby(['CellId']).mean())/10"
   ]
  },
  {
   "cell_type": "code",
   "execution_count": 13,
   "id": "8223fd99-b498-4355-b0f7-887a24ba9a3d",
   "metadata": {},
   "outputs": [
    {
     "data": {
      "text/html": [
       "<div>\n",
       "<style scoped>\n",
       "    .dataframe tbody tr th:only-of-type {\n",
       "        vertical-align: middle;\n",
       "    }\n",
       "\n",
       "    .dataframe tbody tr th {\n",
       "        vertical-align: top;\n",
       "    }\n",
       "\n",
       "    .dataframe thead th {\n",
       "        text-align: right;\n",
       "    }\n",
       "</style>\n",
       "<table border=\"1\" class=\"dataframe\">\n",
       "  <thead>\n",
       "    <tr style=\"text-align: right;\">\n",
       "      <th></th>\n",
       "      <th>BwpId</th>\n",
       "      <th>Rnti</th>\n",
       "      <th>AvgSinr</th>\n",
       "      <th>Seed</th>\n",
       "      <th>Run</th>\n",
       "    </tr>\n",
       "    <tr>\n",
       "      <th>CellId</th>\n",
       "      <th></th>\n",
       "      <th></th>\n",
       "      <th></th>\n",
       "      <th></th>\n",
       "      <th></th>\n",
       "    </tr>\n",
       "  </thead>\n",
       "  <tbody>\n",
       "    <tr>\n",
       "      <th>2</th>\n",
       "      <td>0.0</td>\n",
       "      <td>0.1</td>\n",
       "      <td>0.387900</td>\n",
       "      <td>0.1</td>\n",
       "      <td>0.1</td>\n",
       "    </tr>\n",
       "    <tr>\n",
       "      <th>4</th>\n",
       "      <td>0.0</td>\n",
       "      <td>0.1</td>\n",
       "      <td>3.404279</td>\n",
       "      <td>0.1</td>\n",
       "      <td>0.1</td>\n",
       "    </tr>\n",
       "    <tr>\n",
       "      <th>6</th>\n",
       "      <td>0.0</td>\n",
       "      <td>0.1</td>\n",
       "      <td>0.952365</td>\n",
       "      <td>0.1</td>\n",
       "      <td>0.1</td>\n",
       "    </tr>\n",
       "    <tr>\n",
       "      <th>8</th>\n",
       "      <td>0.0</td>\n",
       "      <td>0.1</td>\n",
       "      <td>4.995754</td>\n",
       "      <td>0.1</td>\n",
       "      <td>0.1</td>\n",
       "    </tr>\n",
       "    <tr>\n",
       "      <th>10</th>\n",
       "      <td>0.0</td>\n",
       "      <td>0.1</td>\n",
       "      <td>0.913506</td>\n",
       "      <td>0.1</td>\n",
       "      <td>0.1</td>\n",
       "    </tr>\n",
       "  </tbody>\n",
       "</table>\n",
       "</div>"
      ],
      "text/plain": [
       "        BwpId  Rnti   AvgSinr  Seed  Run\n",
       "CellId                                  \n",
       "2         0.0   0.1  0.387900   0.1  0.1\n",
       "4         0.0   0.1  3.404279   0.1  0.1\n",
       "6         0.0   0.1  0.952365   0.1  0.1\n",
       "8         0.0   0.1  4.995754   0.1  0.1\n",
       "10        0.0   0.1  0.913506   0.1  0.1"
      ]
     },
     "execution_count": 13,
     "metadata": {},
     "output_type": "execute_result"
    }
   ],
   "source": [
    "df11.head()"
   ]
  },
  {
   "cell_type": "code",
   "execution_count": 14,
   "id": "52fea7de-049f-4dbb-ae11-4c5525cbf8b9",
   "metadata": {},
   "outputs": [
    {
     "name": "stdout",
     "output_type": "stream",
     "text": [
      "Midum Signal to Noise Ratio\n",
      "Midum Signal to Noise Ratio\n",
      "Midum Signal to Noise Ratio\n",
      "Midum Signal to Noise Ratio\n",
      "Midum Signal to Noise Ratio\n",
      "Midum Signal to Noise Ratio\n",
      "Midum Signal to Noise Ratio\n",
      "Midum Signal to Noise Ratio\n",
      "Midum Signal to Noise Ratio\n",
      "Midum Signal to Noise Ratio\n",
      "Midum Signal to Noise Ratio\n",
      "Midum Signal to Noise Ratio\n",
      "Midum Signal to Noise Ratio\n",
      "Midum Signal to Noise Ratio\n",
      "Midum Signal to Noise Ratio\n",
      "Midum Signal to Noise Ratio\n",
      "Midum Signal to Noise Ratio\n",
      "Midum Signal to Noise Ratio\n",
      "Midum Signal to Noise Ratio\n",
      "Midum Signal to Noise Ratio\n",
      "Midum Signal to Noise Ratio\n",
      "Midum Signal to Noise Ratio\n",
      "Midum Signal to Noise Ratio\n",
      "Midum Signal to Noise Ratio\n",
      "Midum Signal to Noise Ratio\n",
      "Midum Signal to Noise Ratio\n",
      "Midum Signal to Noise Ratio\n",
      "Midum Signal to Noise Ratio\n",
      "Midum Signal to Noise Ratio\n",
      "Midum Signal to Noise Ratio\n",
      "Midum Signal to Noise Ratio\n",
      "Midum Signal to Noise Ratio\n",
      "Midum Signal to Noise Ratio\n",
      "Midum Signal to Noise Ratio\n",
      "Midum Signal to Noise Ratio\n",
      "Midum Signal to Noise Ratio\n",
      "Midum Signal to Noise Ratio\n",
      "Midum Signal to Noise Ratio\n"
     ]
    }
   ],
   "source": [
    "for i in df11['AvgSinr']:    \n",
    "    if (i >= 20):\n",
    "        print(\"Excellent Signal to Noise Ratio\")\n",
    "    elif (i > 13) and (i < 20):\n",
    "        print(\"Good Signal to Noise Ratio\")\n",
    "    elif (i > 0) and (i < 13):\n",
    "        print(\"Midum Signal to Noise Ratio\")\n",
    "    else:\n",
    "        print(\"weak Signal to Noise Ratio\")"
   ]
  },
  {
   "cell_type": "code",
   "execution_count": 6,
   "id": "b37aa42e-0001-464e-b48f-b31083446dd6",
   "metadata": {},
   "outputs": [
    {
     "data": {
      "text/plain": [
       "<matplotlib.image.AxesImage at 0x7f0280947dc0>"
      ]
     },
     "execution_count": 6,
     "metadata": {},
     "output_type": "execute_result"
    },
    {
     "data": {
      "image/png": "[encoded data removed]",
      "text/plain": [
       "<Figure size 432x288 with 1 Axes>"
      ]
     },
     "metadata": {
      "needs_background": "light"
     },
     "output_type": "display_data"
    }
   ],
   "source": [
    "im = plt.imread('snr_standard.png')\n",
    "plt.imshow(im)"
   ]
  },
  {
   "cell_type": "code",
   "execution_count": 23,
   "id": "d02ba009-569c-45df-94ff-4fa5f669b0ec",
   "metadata": {},
   "outputs": [
    {
     "data": {
      "image/png": "[encoded data removed]",
      "text/plain": [
       "<Figure size 720x432 with 1 Axes>"
      ]
     },
     "metadata": {
      "needs_background": "light"
     },
     "output_type": "display_data"
    }
   ],
   "source": [
    "fig, ax = plt.subplots()\n",
    "fig.set_size_inches(10,6)\n",
    "\n",
    "ax.scatter(df1['CellId'], df1['AvgSinr'], marker='.', c='limegreen', s=400, edgecolor='green')\n",
    "\n",
    "ax.set_title(\"Average Signal to Noise Ratio\", fontsize=20, fontweight='bold')\n",
    "ax.set_xlabel(\"Cell ID\", fontsize=15)\n",
    "ax.set_ylabel(\"Average S-N-R\", fontsize=15)\n",
    "\n",
    "ax.set_xticks(ticks=df1['CellId'].unique(), labels=df1['CellId'].unique(), rotation=90)\n",
    "ax.set_xticks(ax.get_xticks()[::2])\n",
    "\n",
    "ax.grid()\n",
    "plt.savefig(\"SNR.png\")\n",
    "plt.show()"
   ]
  },
  {
   "cell_type": "code",
   "execution_count": 167,
   "id": "830d7eaa-077b-4813-919c-7f5e21965d02",
   "metadata": {},
   "outputs": [
    {
     "data": {
      "text/html": [
       "<div>\n",
       "<style scoped>\n",
       "    .dataframe tbody tr th:only-of-type {\n",
       "        vertical-align: middle;\n",
       "    }\n",
       "\n",
       "    .dataframe tbody tr th {\n",
       "        vertical-align: top;\n",
       "    }\n",
       "\n",
       "    .dataframe thead th {\n",
       "        text-align: right;\n",
       "    }\n",
       "</style>\n",
       "<table border=\"1\" class=\"dataframe\">\n",
       "  <thead>\n",
       "    <tr style=\"text-align: right;\">\n",
       "      <th></th>\n",
       "      <th>Frame</th>\n",
       "      <th>SubFrame</th>\n",
       "      <th>Slot</th>\n",
       "      <th>Rnti</th>\n",
       "      <th>Imsi</th>\n",
       "      <th>BwpId</th>\n",
       "      <th>CellId</th>\n",
       "      <th>txPowerRb</th>\n",
       "      <th>txPowerTotal</th>\n",
       "      <th>rbNumActive</th>\n",
       "      <th>rbNumTotal</th>\n",
       "      <th>Seed</th>\n",
       "      <th>Run</th>\n",
       "    </tr>\n",
       "  </thead>\n",
       "  <tbody>\n",
       "    <tr>\n",
       "      <th>0</th>\n",
       "      <td>1</td>\n",
       "      <td>7</td>\n",
       "      <td>0</td>\n",
       "      <td>0</td>\n",
       "      <td>1</td>\n",
       "      <td>0</td>\n",
       "      <td>2</td>\n",
       "      <td>0.000937</td>\n",
       "      <td>0.199526</td>\n",
       "      <td>213</td>\n",
       "      <td>213</td>\n",
       "      <td>1</td>\n",
       "      <td>1</td>\n",
       "    </tr>\n",
       "    <tr>\n",
       "      <th>1</th>\n",
       "      <td>1</td>\n",
       "      <td>7</td>\n",
       "      <td>0</td>\n",
       "      <td>0</td>\n",
       "      <td>2</td>\n",
       "      <td>0</td>\n",
       "      <td>4</td>\n",
       "      <td>0.000937</td>\n",
       "      <td>0.199526</td>\n",
       "      <td>213</td>\n",
       "      <td>213</td>\n",
       "      <td>1</td>\n",
       "      <td>1</td>\n",
       "    </tr>\n",
       "    <tr>\n",
       "      <th>2</th>\n",
       "      <td>1</td>\n",
       "      <td>7</td>\n",
       "      <td>0</td>\n",
       "      <td>0</td>\n",
       "      <td>3</td>\n",
       "      <td>0</td>\n",
       "      <td>6</td>\n",
       "      <td>0.000937</td>\n",
       "      <td>0.199526</td>\n",
       "      <td>213</td>\n",
       "      <td>213</td>\n",
       "      <td>1</td>\n",
       "      <td>1</td>\n",
       "    </tr>\n",
       "    <tr>\n",
       "      <th>3</th>\n",
       "      <td>1</td>\n",
       "      <td>7</td>\n",
       "      <td>0</td>\n",
       "      <td>0</td>\n",
       "      <td>4</td>\n",
       "      <td>0</td>\n",
       "      <td>8</td>\n",
       "      <td>0.000937</td>\n",
       "      <td>0.199526</td>\n",
       "      <td>213</td>\n",
       "      <td>213</td>\n",
       "      <td>1</td>\n",
       "      <td>1</td>\n",
       "    </tr>\n",
       "    <tr>\n",
       "      <th>4</th>\n",
       "      <td>1</td>\n",
       "      <td>7</td>\n",
       "      <td>0</td>\n",
       "      <td>0</td>\n",
       "      <td>5</td>\n",
       "      <td>0</td>\n",
       "      <td>10</td>\n",
       "      <td>0.000937</td>\n",
       "      <td>0.199526</td>\n",
       "      <td>213</td>\n",
       "      <td>213</td>\n",
       "      <td>1</td>\n",
       "      <td>1</td>\n",
       "    </tr>\n",
       "  </tbody>\n",
       "</table>\n",
       "</div>"
      ],
      "text/plain": [
       "   Frame  SubFrame  Slot  Rnti  Imsi  BwpId  CellId  txPowerRb  txPowerTotal  \\\n",
       "0      1         7     0     0     1      0       2   0.000937      0.199526   \n",
       "1      1         7     0     0     2      0       4   0.000937      0.199526   \n",
       "2      1         7     0     0     3      0       6   0.000937      0.199526   \n",
       "3      1         7     0     0     4      0       8   0.000937      0.199526   \n",
       "4      1         7     0     0     5      0      10   0.000937      0.199526   \n",
       "\n",
       "   rbNumActive  rbNumTotal  Seed  Run  \n",
       "0          213         213     1    1  \n",
       "1          213         213     1    1  \n",
       "2          213         213     1    1  \n",
       "3          213         213     1    1  \n",
       "4          213         213     1    1  "
      ]
     },
     "execution_count": 167,
     "metadata": {},
     "output_type": "execute_result"
    }
   ],
   "source": [
    "#IMSI: International Mobile Subscriber Identitiy.\n",
    "#This refers to a unique number for identifying a mobile subscriber.\n",
    "\n",
    "#RNTI: Radio Network Temporary Identifier. \n",
    "#RNTIs are used to differentiate/identify a connected UE in the cell.\n",
    "\n",
    "#BWPID: Bandwidth Part. \n",
    "#part of the total channel bandwidth configured for a cell that is \n",
    "#used for a UE at a specific moment of operation.\n",
    "\n",
    "#Tx/Rx rate – displays the transmit/receive data rates (in Mbps).\n",
    "\n",
    "#Tx power indicates the device's worst-case transmit power.\n",
    "#the device is guaranteed to provide at least that much power.\n",
    "\n",
    "#RB: Resource Block\n",
    "\n",
    "df2.head()"
   ]
  },
  {
   "cell_type": "code",
   "execution_count": 27,
   "id": "770c8a04-cf83-44f5-b63c-91e6e5839691",
   "metadata": {},
   "outputs": [
    {
     "data": {
      "text/plain": [
       "39267"
      ]
     },
     "execution_count": 27,
     "metadata": {},
     "output_type": "execute_result"
    }
   ],
   "source": [
    "len(df2)"
   ]
  },
  {
   "cell_type": "code",
   "execution_count": 26,
   "id": "9b688891-b3aa-43eb-ad8e-db99f8dad50a",
   "metadata": {},
   "outputs": [
    {
     "data": {
      "text/plain": [
       "array([  1,  40,  41,  42,  43,  44,  45,  46,  47,  48,  49,  50,  51,\n",
       "        52,  53,  54,  55,  56,  57,  58,  59,  60,  61,  62,  63,  64,\n",
       "        65,  66,  67,  68,  69,  70,  71,  72,  73,  74,  75,  76,  77,\n",
       "        78,  79,  80,  81,  82,  83,  84,  85,  86,  87,  88,  89,  90,\n",
       "        91,  92,  93,  94,  95,  96,  97,  98,  99, 100, 101, 102, 103,\n",
       "       104, 105, 106, 107, 108, 109, 110, 111, 112, 113, 114, 115, 116,\n",
       "       117, 118, 119, 120, 121, 122, 123, 124, 125, 126, 127, 128, 129,\n",
       "       130, 131, 132, 133, 134, 135, 136, 137, 138, 139, 140, 141, 142,\n",
       "       143, 144, 145, 146, 147, 148, 149])"
      ]
     },
     "execution_count": 26,
     "metadata": {},
     "output_type": "execute_result"
    }
   ],
   "source": [
    "df2['Frame'].unique()"
   ]
  },
  {
   "cell_type": "code",
   "execution_count": 28,
   "id": "482db595-f1b2-4579-8204-934e6f7a1f6f",
   "metadata": {},
   "outputs": [
    {
     "data": {
      "text/plain": [
       "array([7, 5, 6, 8, 9, 0, 1, 2, 3, 4])"
      ]
     },
     "execution_count": 28,
     "metadata": {},
     "output_type": "execute_result"
    }
   ],
   "source": [
    "df2['SubFrame'].unique()"
   ]
  },
  {
   "cell_type": "code",
   "execution_count": 30,
   "id": "11a9c3d1-d479-493a-ad37-456006754c54",
   "metadata": {},
   "outputs": [
    {
     "data": {
      "text/plain": [
       "array([0])"
      ]
     },
     "execution_count": 30,
     "metadata": {},
     "output_type": "execute_result"
    }
   ],
   "source": [
    "df2['Slot'].unique()"
   ]
  },
  {
   "cell_type": "code",
   "execution_count": 32,
   "id": "44eb411e-a732-4264-a5f3-b70f9f01f432",
   "metadata": {},
   "outputs": [
    {
     "data": {
      "text/plain": [
       "array([0, 1])"
      ]
     },
     "execution_count": 32,
     "metadata": {},
     "output_type": "execute_result"
    }
   ],
   "source": [
    "df2['Rnti'].unique()"
   ]
  },
  {
   "cell_type": "code",
   "execution_count": 31,
   "id": "c8731e73-f306-4480-8f02-897bd47cf506",
   "metadata": {},
   "outputs": [
    {
     "data": {
      "text/plain": [
       "array([  1,   2,   3,   4,   5,   6,   7,   8,   9,  10,  11,  12,  13,\n",
       "        14,  15,  16,  17,  18,  19,  96,  97,  98,  99, 100, 101, 102,\n",
       "       103, 104, 105, 106, 107, 108, 109, 110, 111, 112, 113, 114])"
      ]
     },
     "execution_count": 31,
     "metadata": {},
     "output_type": "execute_result"
    }
   ],
   "source": [
    "df2['Imsi'].unique()"
   ]
  },
  {
   "cell_type": "code",
   "execution_count": 33,
   "id": "e46438a1-5c49-4b17-84b7-9f369f905706",
   "metadata": {},
   "outputs": [
    {
     "data": {
      "text/plain": [
       "array([0])"
      ]
     },
     "execution_count": 33,
     "metadata": {},
     "output_type": "execute_result"
    }
   ],
   "source": [
    "df2['BwpId'].unique()"
   ]
  },
  {
   "cell_type": "code",
   "execution_count": 34,
   "id": "cc13d402-a862-4cae-a70d-100562e235eb",
   "metadata": {},
   "outputs": [
    {
     "data": {
      "text/plain": [
       "array([  2,   4,   6,   8,  10,  12,  14,  16,  18,  20,  22,  24,  26,\n",
       "        28,  30,  32,  34,  36,  38,  78,  80,  82,  84,  86,  88,  90,\n",
       "        92,  94,  96,  98, 100, 102, 104, 106, 108, 110, 112, 114])"
      ]
     },
     "execution_count": 34,
     "metadata": {},
     "output_type": "execute_result"
    }
   ],
   "source": [
    "df2['CellId'].unique()"
   ]
  },
  {
   "cell_type": "code",
   "execution_count": 35,
   "id": "23d60ea7-9e4c-4d55-b8e5-b9a73c7440a1",
   "metadata": {},
   "outputs": [
    {
     "data": {
      "text/plain": [
       "0.0009367428708774095"
      ]
     },
     "execution_count": 35,
     "metadata": {},
     "output_type": "execute_result"
    }
   ],
   "source": [
    "df2['txPowerRb'].min()"
   ]
  },
  {
   "cell_type": "code",
   "execution_count": 36,
   "id": "caf7f0f1-613c-4fab-aa37-08a4ef05afa0",
   "metadata": {},
   "outputs": [
    {
     "data": {
      "text/plain": [
       "0.0009367428708774095"
      ]
     },
     "execution_count": 36,
     "metadata": {},
     "output_type": "execute_result"
    }
   ],
   "source": [
    "df2['txPowerRb'].max()"
   ]
  },
  {
   "cell_type": "code",
   "execution_count": 37,
   "id": "3906a190-5d6c-49b8-a889-e5d84c16199c",
   "metadata": {},
   "outputs": [
    {
     "data": {
      "text/plain": [
       "array([0.00093674])"
      ]
     },
     "execution_count": 37,
     "metadata": {},
     "output_type": "execute_result"
    }
   ],
   "source": [
    "df2['txPowerRb'].unique()"
   ]
  },
  {
   "cell_type": "code",
   "execution_count": 38,
   "id": "14a1e1e7-16c8-460f-9dd0-9fd28d113879",
   "metadata": {},
   "outputs": [
    {
     "data": {
      "text/plain": [
       "array([0.19952623])"
      ]
     },
     "execution_count": 38,
     "metadata": {},
     "output_type": "execute_result"
    }
   ],
   "source": [
    "df2['txPowerTotal'].unique()"
   ]
  },
  {
   "cell_type": "code",
   "execution_count": 39,
   "id": "a82378ce-2db1-4b20-ad43-bba944ceb01b",
   "metadata": {},
   "outputs": [
    {
     "data": {
      "text/plain": [
       "array([213])"
      ]
     },
     "execution_count": 39,
     "metadata": {},
     "output_type": "execute_result"
    }
   ],
   "source": [
    "df2['rbNumActive'].unique()"
   ]
  },
  {
   "cell_type": "code",
   "execution_count": 168,
   "id": "be8ba8c6-acc7-4314-b4fb-36be84eb7ed0",
   "metadata": {},
   "outputs": [],
   "source": [
    "dff = df2[df2['CellId']==2].filter(items=['Imsi'])"
   ]
  },
  {
   "cell_type": "code",
   "execution_count": 66,
   "id": "1352f460-3b70-45a5-aafb-468dc8c19127",
   "metadata": {},
   "outputs": [
    {
     "data": {
      "text/plain": [
       "array([1])"
      ]
     },
     "execution_count": 66,
     "metadata": {},
     "output_type": "execute_result"
    }
   ],
   "source": [
    "dff['Imsi'].unique()"
   ]
  },
  {
   "cell_type": "code",
   "execution_count": 71,
   "id": "636f3eef-727c-4f1b-8dd7-df151df586c5",
   "metadata": {},
   "outputs": [
    {
     "name": "stdout",
     "output_type": "stream",
     "text": [
      "CellId\n",
      "2      1\n",
      "4      1\n",
      "6      1\n",
      "8      1\n",
      "10     1\n",
      "12     1\n",
      "14     1\n",
      "16     1\n",
      "18     1\n",
      "20     1\n",
      "22     1\n",
      "24     1\n",
      "26     1\n",
      "28     1\n",
      "30     1\n",
      "32     1\n",
      "34     1\n",
      "36     1\n",
      "38     1\n",
      "78     1\n",
      "80     1\n",
      "82     1\n",
      "84     1\n",
      "86     1\n",
      "88     1\n",
      "90     1\n",
      "92     1\n",
      "94     1\n",
      "96     1\n",
      "98     1\n",
      "100    1\n",
      "102    1\n",
      "104    1\n",
      "106    1\n",
      "108    1\n",
      "110    1\n",
      "112    1\n",
      "114    1\n",
      "Name: Imsi, dtype: int64\n"
     ]
    }
   ],
   "source": [
    "print (df2.groupby('CellId')['Imsi'].nunique())"
   ]
  },
  {
   "cell_type": "code",
   "execution_count": 169,
   "id": "550cc59d-5085-4cfa-a245-31fc5ec98ccd",
   "metadata": {},
   "outputs": [],
   "source": [
    "df2_new = df2.drop(columns=['Frame', 'SubFrame', 'Slot', 'Rnti', 'BwpId', 'txPowerRb', 'txPowerTotal', \n",
    "                           'rbNumActive', 'Seed', 'Run', 'rbNumTotal'])"
   ]
  },
  {
   "cell_type": "code",
   "execution_count": 170,
   "id": "123e7cb5-d1da-4637-91af-225880bcdc35",
   "metadata": {},
   "outputs": [
    {
     "data": {
      "text/html": [
       "<div>\n",
       "<style scoped>\n",
       "    .dataframe tbody tr th:only-of-type {\n",
       "        vertical-align: middle;\n",
       "    }\n",
       "\n",
       "    .dataframe tbody tr th {\n",
       "        vertical-align: top;\n",
       "    }\n",
       "\n",
       "    .dataframe thead th {\n",
       "        text-align: right;\n",
       "    }\n",
       "</style>\n",
       "<table border=\"1\" class=\"dataframe\">\n",
       "  <thead>\n",
       "    <tr style=\"text-align: right;\">\n",
       "      <th></th>\n",
       "      <th>Imsi</th>\n",
       "      <th>CellId</th>\n",
       "    </tr>\n",
       "  </thead>\n",
       "  <tbody>\n",
       "    <tr>\n",
       "      <th>0</th>\n",
       "      <td>1</td>\n",
       "      <td>2</td>\n",
       "    </tr>\n",
       "    <tr>\n",
       "      <th>1</th>\n",
       "      <td>2</td>\n",
       "      <td>4</td>\n",
       "    </tr>\n",
       "    <tr>\n",
       "      <th>2</th>\n",
       "      <td>3</td>\n",
       "      <td>6</td>\n",
       "    </tr>\n",
       "    <tr>\n",
       "      <th>3</th>\n",
       "      <td>4</td>\n",
       "      <td>8</td>\n",
       "    </tr>\n",
       "    <tr>\n",
       "      <th>4</th>\n",
       "      <td>5</td>\n",
       "      <td>10</td>\n",
       "    </tr>\n",
       "  </tbody>\n",
       "</table>\n",
       "</div>"
      ],
      "text/plain": [
       "   Imsi  CellId\n",
       "0     1       2\n",
       "1     2       4\n",
       "2     3       6\n",
       "3     4       8\n",
       "4     5      10"
      ]
     },
     "execution_count": 170,
     "metadata": {},
     "output_type": "execute_result"
    }
   ],
   "source": [
    "df2_new.head()"
   ]
  },
  {
   "cell_type": "code",
   "execution_count": 171,
   "id": "9b4d62d3-1fd8-44c4-a664-5c119f90fe88",
   "metadata": {},
   "outputs": [],
   "source": [
    "table = df2_new.CellId.groupby([df2_new.Imsi, df2_new.CellId]).count().unstack().fillna(0).astype(int)"
   ]
  },
  {
   "cell_type": "code",
   "execution_count": 173,
   "id": "b84f2fc2-741a-4919-b17d-5bac3e5f358a",
   "metadata": {},
   "outputs": [
    {
     "data": {
      "image/png": "[encoded data removed]",
      "text/plain": [
       "<Figure size 720x576 with 2 Axes>"
      ]
     },
     "metadata": {
      "needs_background": "light"
     },
     "output_type": "display_data"
    }
   ],
   "source": [
    "fig, ax=plt.subplots()\n",
    "fig.set_size_inches(10,8)\n",
    "\n",
    "sns.heatmap(table, linewidth=0.5, xticklabels=True, yticklabels=True, cmap='Accent')\n",
    "\n",
    "ax.set_title(\"Cell IDs and their Subscribers\", fontsize=20, fontweight='bold')\n",
    "ax.set_xlabel(\"Cell ID\", fontsize=15)\n",
    "ax.set_ylabel(\"Subscriber Number\", fontsize=15)\n",
    "\n",
    "plt.savefig(\"CellId-Imsi\")\n",
    "plt.show()"
   ]
  },
  {
   "cell_type": "code",
   "execution_count": 127,
   "id": "5fac245c-d87e-4d58-9f97-078efb315e62",
   "metadata": {},
   "outputs": [
    {
     "data": {
      "text/html": [
       "<div>\n",
       "<style scoped>\n",
       "    .dataframe tbody tr th:only-of-type {\n",
       "        vertical-align: middle;\n",
       "    }\n",
       "\n",
       "    .dataframe tbody tr th {\n",
       "        vertical-align: top;\n",
       "    }\n",
       "\n",
       "    .dataframe thead th {\n",
       "        text-align: right;\n",
       "    }\n",
       "</style>\n",
       "<table border=\"1\" class=\"dataframe\">\n",
       "  <thead>\n",
       "    <tr style=\"text-align: right;\">\n",
       "      <th></th>\n",
       "      <th>Frame</th>\n",
       "      <th>SubFrame</th>\n",
       "      <th>Slot</th>\n",
       "      <th>BwpId</th>\n",
       "      <th>CellId</th>\n",
       "      <th>ScheduledUe</th>\n",
       "      <th>UsedReg</th>\n",
       "      <th>UsedSym</th>\n",
       "      <th>AvailableRb</th>\n",
       "      <th>AvailableSym</th>\n",
       "      <th>Seed</th>\n",
       "      <th>Run</th>\n",
       "    </tr>\n",
       "  </thead>\n",
       "  <tbody>\n",
       "    <tr>\n",
       "      <th>0</th>\n",
       "      <td>0</td>\n",
       "      <td>0</td>\n",
       "      <td>0</td>\n",
       "      <td>0</td>\n",
       "      <td>2</td>\n",
       "      <td>0</td>\n",
       "      <td>0</td>\n",
       "      <td>0</td>\n",
       "      <td>213</td>\n",
       "      <td>13</td>\n",
       "      <td>1</td>\n",
       "      <td>1</td>\n",
       "    </tr>\n",
       "    <tr>\n",
       "      <th>1</th>\n",
       "      <td>0</td>\n",
       "      <td>0</td>\n",
       "      <td>0</td>\n",
       "      <td>0</td>\n",
       "      <td>4</td>\n",
       "      <td>0</td>\n",
       "      <td>0</td>\n",
       "      <td>0</td>\n",
       "      <td>213</td>\n",
       "      <td>13</td>\n",
       "      <td>1</td>\n",
       "      <td>1</td>\n",
       "    </tr>\n",
       "    <tr>\n",
       "      <th>2</th>\n",
       "      <td>0</td>\n",
       "      <td>0</td>\n",
       "      <td>0</td>\n",
       "      <td>0</td>\n",
       "      <td>6</td>\n",
       "      <td>0</td>\n",
       "      <td>0</td>\n",
       "      <td>0</td>\n",
       "      <td>213</td>\n",
       "      <td>13</td>\n",
       "      <td>1</td>\n",
       "      <td>1</td>\n",
       "    </tr>\n",
       "    <tr>\n",
       "      <th>3</th>\n",
       "      <td>0</td>\n",
       "      <td>0</td>\n",
       "      <td>0</td>\n",
       "      <td>0</td>\n",
       "      <td>8</td>\n",
       "      <td>0</td>\n",
       "      <td>0</td>\n",
       "      <td>0</td>\n",
       "      <td>213</td>\n",
       "      <td>13</td>\n",
       "      <td>1</td>\n",
       "      <td>1</td>\n",
       "    </tr>\n",
       "    <tr>\n",
       "      <th>4</th>\n",
       "      <td>0</td>\n",
       "      <td>0</td>\n",
       "      <td>0</td>\n",
       "      <td>0</td>\n",
       "      <td>10</td>\n",
       "      <td>0</td>\n",
       "      <td>0</td>\n",
       "      <td>0</td>\n",
       "      <td>213</td>\n",
       "      <td>13</td>\n",
       "      <td>1</td>\n",
       "      <td>1</td>\n",
       "    </tr>\n",
       "  </tbody>\n",
       "</table>\n",
       "</div>"
      ],
      "text/plain": [
       "   Frame  SubFrame  Slot  BwpId  CellId  ScheduledUe  UsedReg  UsedSym  \\\n",
       "0      0         0     0      0       2            0        0        0   \n",
       "1      0         0     0      0       4            0        0        0   \n",
       "2      0         0     0      0       6            0        0        0   \n",
       "3      0         0     0      0       8            0        0        0   \n",
       "4      0         0     0      0      10            0        0        0   \n",
       "\n",
       "   AvailableRb  AvailableSym  Seed  Run  \n",
       "0          213            13     1    1  \n",
       "1          213            13     1    1  \n",
       "2          213            13     1    1  \n",
       "3          213            13     1    1  \n",
       "4          213            13     1    1  "
      ]
     },
     "execution_count": 127,
     "metadata": {},
     "output_type": "execute_result"
    }
   ],
   "source": [
    "#CORESET is a region (combination of Time & Frequency resources) on the resource grid \n",
    "#where PDCCH resources are located. \n",
    "#Min unit of a CORESET is REG (Resource element group) , \n",
    "#1 REG = 12 SC's on Freq Domain and Min 1 OFDM Symbol on Time Domain, i.e 1 REG = 1PRB.\n",
    "\n",
    "df3.head()"
   ]
  },
  {
   "cell_type": "code",
   "execution_count": 174,
   "id": "b9741eaf-8002-486a-92d3-f08bb18e7e52",
   "metadata": {},
   "outputs": [
    {
     "data": {
      "text/plain": [
       "85329"
      ]
     },
     "execution_count": 174,
     "metadata": {},
     "output_type": "execute_result"
    }
   ],
   "source": [
    "len(df3)"
   ]
  },
  {
   "cell_type": "code",
   "execution_count": 128,
   "id": "943143aa-58e1-43c2-8263-126bb06a550f",
   "metadata": {},
   "outputs": [
    {
     "data": {
      "text/plain": [
       "array([  0,   1,   2,   3,   4,   5,   6,   7,   8,   9,  10,  11,  12,\n",
       "        13,  14,  15,  16,  17,  18,  19,  20,  21,  22,  23,  24,  25,\n",
       "        26,  27,  28,  29,  30,  31,  32,  33,  34,  35,  36,  37,  38,\n",
       "        39,  40,  41,  42,  43,  44,  45,  46,  47,  48,  49,  50,  51,\n",
       "        52,  53,  54,  55,  56,  57,  58,  59,  60,  61,  62,  63,  64,\n",
       "        65,  66,  67,  68,  69,  70,  71,  72,  73,  74,  75,  76,  77,\n",
       "        78,  79,  80,  81,  82,  83,  84,  85,  86,  87,  88,  89,  90,\n",
       "        91,  92,  93,  94,  95,  96,  97,  98,  99, 100, 101, 102, 103,\n",
       "       104, 105, 106, 107, 108, 109, 110, 111, 112, 113, 114, 115, 116,\n",
       "       117, 118, 119, 120, 121, 122, 123, 124, 125, 126, 127, 128, 129,\n",
       "       130, 131, 132, 133, 134, 135, 136, 137, 138, 139, 140, 141, 142,\n",
       "       143, 144, 145, 146, 147, 148, 149])"
      ]
     },
     "execution_count": 128,
     "metadata": {},
     "output_type": "execute_result"
    }
   ],
   "source": [
    "df3['Frame'].unique()"
   ]
  },
  {
   "cell_type": "code",
   "execution_count": 132,
   "id": "5ce21d0a-2c28-4251-a548-52698d6e5f91",
   "metadata": {},
   "outputs": [
    {
     "data": {
      "text/plain": [
       "array([0, 2, 3, 4, 5, 6, 7, 8, 9, 1])"
      ]
     },
     "execution_count": 132,
     "metadata": {},
     "output_type": "execute_result"
    }
   ],
   "source": [
    "df3['SubFrame'].unique()"
   ]
  },
  {
   "cell_type": "code",
   "execution_count": 133,
   "id": "71565a1f-e251-41eb-9976-7b3fed8abfe8",
   "metadata": {},
   "outputs": [
    {
     "data": {
      "text/plain": [
       "array([0])"
      ]
     },
     "execution_count": 133,
     "metadata": {},
     "output_type": "execute_result"
    }
   ],
   "source": [
    "df3['Slot'].unique()"
   ]
  },
  {
   "cell_type": "code",
   "execution_count": 134,
   "id": "4739802f-f4b6-4050-b592-b123c736d2b2",
   "metadata": {},
   "outputs": [
    {
     "data": {
      "text/plain": [
       "array([0])"
      ]
     },
     "execution_count": 134,
     "metadata": {},
     "output_type": "execute_result"
    }
   ],
   "source": [
    "df3['BwpId'].unique()"
   ]
  },
  {
   "cell_type": "code",
   "execution_count": 135,
   "id": "47d96a0d-9f12-4ac3-a515-3a4dbe599643",
   "metadata": {},
   "outputs": [
    {
     "data": {
      "text/plain": [
       "array([  2,   4,   6,   8,  10,  12,  14,  16,  18,  20,  22,  24,  26,\n",
       "        28,  30,  32,  34,  36,  38,  40,  42,  44,  46,  48,  50,  52,\n",
       "        54,  56,  58,  60,  62,  64,  66,  68,  70,  72,  74,  76,  78,\n",
       "        80,  82,  84,  86,  88,  90,  92,  94,  96,  98, 100, 102, 104,\n",
       "       106, 108, 110, 112, 114])"
      ]
     },
     "execution_count": 135,
     "metadata": {},
     "output_type": "execute_result"
    }
   ],
   "source": [
    "df3['CellId'].unique()"
   ]
  },
  {
   "cell_type": "code",
   "execution_count": 136,
   "id": "9fff4a24-bc6c-4ab6-a51d-6b2eae43b537",
   "metadata": {},
   "outputs": [
    {
     "data": {
      "text/plain": [
       "array([0, 1])"
      ]
     },
     "execution_count": 136,
     "metadata": {},
     "output_type": "execute_result"
    }
   ],
   "source": [
    "df3['ScheduledUe'].unique()"
   ]
  },
  {
   "cell_type": "code",
   "execution_count": 137,
   "id": "8a1c975b-6885-427f-8856-9c4d4329739f",
   "metadata": {},
   "outputs": [
    {
     "data": {
      "text/plain": [
       "array([   0, 2556, 1008,  516,  612, 2244,  684, 1368, 1140, 1152, 2280,\n",
       "        840,  972, 1296, 2472,  552, 1608, 1536, 2016, 1740,  744, 2520,\n",
       "       1308, 1476, 2340, 1440, 1968, 1572, 2196, 1680, 1116, 2148, 1716,\n",
       "       2160, 1092, 1044, 1284, 2292, 2052, 1920, 2484, 1704, 2544, 2448,\n",
       "         36,  756, 1080])"
      ]
     },
     "execution_count": 137,
     "metadata": {},
     "output_type": "execute_result"
    }
   ],
   "source": [
    "df3['UsedReg'].unique()"
   ]
  },
  {
   "cell_type": "code",
   "execution_count": 138,
   "id": "e1ba69b1-320c-41c7-8520-1b8adaf7099e",
   "metadata": {},
   "outputs": [
    {
     "data": {
      "text/plain": [
       "array([ 0, 12])"
      ]
     },
     "execution_count": 138,
     "metadata": {},
     "output_type": "execute_result"
    }
   ],
   "source": [
    "df3['UsedSym'].unique()"
   ]
  },
  {
   "cell_type": "code",
   "execution_count": 139,
   "id": "436f9e70-5277-4c58-9d4c-02dd964d2253",
   "metadata": {},
   "outputs": [
    {
     "data": {
      "text/plain": [
       "array([213])"
      ]
     },
     "execution_count": 139,
     "metadata": {},
     "output_type": "execute_result"
    }
   ],
   "source": [
    "df3['AvailableRb'].unique()"
   ]
  },
  {
   "cell_type": "code",
   "execution_count": 140,
   "id": "8d02cb2c-9339-476e-86ad-861f2f7e7fd7",
   "metadata": {},
   "outputs": [
    {
     "data": {
      "text/plain": [
       "array([13, 12])"
      ]
     },
     "execution_count": 140,
     "metadata": {},
     "output_type": "execute_result"
    }
   ],
   "source": [
    "df3['AvailableSym'].unique()"
   ]
  },
  {
   "cell_type": "code",
   "execution_count": 178,
   "id": "c4b5bb9e-fc86-419d-8226-688aae91c253",
   "metadata": {},
   "outputs": [
    {
     "data": {
      "image/png": "[encoded data removed]",
      "text/plain": [
       "<Figure size 720x432 with 1 Axes>"
      ]
     },
     "metadata": {
      "needs_background": "light"
     },
     "output_type": "display_data"
    }
   ],
   "source": [
    "fig, ax = plt.subplots()\n",
    "fig.set_size_inches(10,6)\n",
    "\n",
    "ax.scatter(df3['ScheduledUe'], df3['UsedReg'], marker='1', c='deeppink', s=400)\n",
    "\n",
    "ax.set_title(\"UE's used Frequency\", fontsize=20, fontweight='bold')\n",
    "ax.set_xlabel(\"User Equipment\", fontsize=15)\n",
    "ax.set_ylabel(\"Used Frequency\", fontsize=15)\n",
    "\n",
    "ax.xaxis.set_major_locator(MaxNLocator(integer=True))\n",
    "\n",
    "plt.savefig(\"UE-Reg.png\")\n",
    "plt.show()"
   ]
  },
  {
   "cell_type": "code",
   "execution_count": 9,
   "id": "8c2c3cdf-5406-4cf8-8e75-7bb530fd6ca3",
   "metadata": {},
   "outputs": [
    {
     "data": {
      "text/html": [
       "<div>\n",
       "<style scoped>\n",
       "    .dataframe tbody tr th:only-of-type {\n",
       "        vertical-align: middle;\n",
       "    }\n",
       "\n",
       "    .dataframe tbody tr th {\n",
       "        vertical-align: top;\n",
       "    }\n",
       "\n",
       "    .dataframe thead th {\n",
       "        text-align: right;\n",
       "    }\n",
       "</style>\n",
       "<table border=\"1\" class=\"dataframe\">\n",
       "  <thead>\n",
       "    <tr style=\"text-align: right;\">\n",
       "      <th></th>\n",
       "      <th>Frame</th>\n",
       "      <th>SubFrame</th>\n",
       "      <th>Slot</th>\n",
       "      <th>Symbol</th>\n",
       "      <th>RBIndexActive</th>\n",
       "      <th>BwpId</th>\n",
       "      <th>CellId</th>\n",
       "      <th>Seed</th>\n",
       "      <th>Run</th>\n",
       "    </tr>\n",
       "  </thead>\n",
       "  <tbody>\n",
       "    <tr>\n",
       "      <th>0</th>\n",
       "      <td>40</td>\n",
       "      <td>3</td>\n",
       "      <td>0</td>\n",
       "      <td>1</td>\n",
       "      <td>0</td>\n",
       "      <td>0</td>\n",
       "      <td>78</td>\n",
       "      <td>1</td>\n",
       "      <td>1</td>\n",
       "    </tr>\n",
       "    <tr>\n",
       "      <th>1</th>\n",
       "      <td>40</td>\n",
       "      <td>3</td>\n",
       "      <td>0</td>\n",
       "      <td>1</td>\n",
       "      <td>1</td>\n",
       "      <td>0</td>\n",
       "      <td>78</td>\n",
       "      <td>1</td>\n",
       "      <td>1</td>\n",
       "    </tr>\n",
       "    <tr>\n",
       "      <th>2</th>\n",
       "      <td>40</td>\n",
       "      <td>3</td>\n",
       "      <td>0</td>\n",
       "      <td>1</td>\n",
       "      <td>2</td>\n",
       "      <td>0</td>\n",
       "      <td>78</td>\n",
       "      <td>1</td>\n",
       "      <td>1</td>\n",
       "    </tr>\n",
       "    <tr>\n",
       "      <th>3</th>\n",
       "      <td>40</td>\n",
       "      <td>3</td>\n",
       "      <td>0</td>\n",
       "      <td>1</td>\n",
       "      <td>3</td>\n",
       "      <td>0</td>\n",
       "      <td>78</td>\n",
       "      <td>1</td>\n",
       "      <td>1</td>\n",
       "    </tr>\n",
       "    <tr>\n",
       "      <th>4</th>\n",
       "      <td>40</td>\n",
       "      <td>3</td>\n",
       "      <td>0</td>\n",
       "      <td>1</td>\n",
       "      <td>4</td>\n",
       "      <td>0</td>\n",
       "      <td>78</td>\n",
       "      <td>1</td>\n",
       "      <td>1</td>\n",
       "    </tr>\n",
       "  </tbody>\n",
       "</table>\n",
       "</div>"
      ],
      "text/plain": [
       "   Frame  SubFrame  Slot  Symbol  RBIndexActive  BwpId  CellId  Seed  Run\n",
       "0     40         3     0       1              0      0      78     1    1\n",
       "1     40         3     0       1              1      0      78     1    1\n",
       "2     40         3     0       1              2      0      78     1    1\n",
       "3     40         3     0       1              3      0      78     1    1\n",
       "4     40         3     0       1              4      0      78     1    1"
      ]
     },
     "execution_count": 9,
     "metadata": {},
     "output_type": "execute_result"
    }
   ],
   "source": [
    "df4.head()"
   ]
  },
  {
   "cell_type": "code",
   "execution_count": 149,
   "id": "a0e70e5b-acb7-4b11-b57b-f53d5b5d025f",
   "metadata": {},
   "outputs": [
    {
     "data": {
      "text/plain": [
       "6374649"
      ]
     },
     "execution_count": 149,
     "metadata": {},
     "output_type": "execute_result"
    }
   ],
   "source": [
    "len(df4)"
   ]
  },
  {
   "cell_type": "code",
   "execution_count": 150,
   "id": "43a6f10c-504b-438d-82a6-83ab20a24aac",
   "metadata": {},
   "outputs": [
    {
     "data": {
      "text/plain": [
       "array([1])"
      ]
     },
     "execution_count": 150,
     "metadata": {},
     "output_type": "execute_result"
    }
   ],
   "source": [
    "df4['Symbol'].unique()"
   ]
  },
  {
   "cell_type": "code",
   "execution_count": 151,
   "id": "ad3c7db0-c66a-4064-858c-8b9c2c88c8c8",
   "metadata": {},
   "outputs": [
    {
     "data": {
      "text/plain": [
       "array([  0,   1,   2,   3,   4,   5,   6,   7,   8,   9,  10,  11,  12,\n",
       "        13,  14,  15,  16,  17,  18,  19,  20,  21,  22,  23,  24,  25,\n",
       "        26,  27,  28,  29,  30,  31,  32,  33,  34,  35,  36,  37,  38,\n",
       "        39,  40,  41,  42,  43,  44,  45,  46,  47,  48,  49,  50,  51,\n",
       "        52,  53,  54,  55,  56,  57,  58,  59,  60,  61,  62,  63,  64,\n",
       "        65,  66,  67,  68,  69,  70,  71,  72,  73,  74,  75,  76,  77,\n",
       "        78,  79,  80,  81,  82,  83,  84,  85,  86,  87,  88,  89,  90,\n",
       "        91,  92,  93,  94,  95,  96,  97,  98,  99, 100, 101, 102, 103,\n",
       "       104, 105, 106, 107, 108, 109, 110, 111, 112, 113, 114, 115, 116,\n",
       "       117, 118, 119, 120, 121, 122, 123, 124, 125, 126, 127, 128, 129,\n",
       "       130, 131, 132, 133, 134, 135, 136, 137, 138, 139, 140, 141, 142,\n",
       "       143, 144, 145, 146, 147, 148, 149, 150, 151, 152, 153, 154, 155,\n",
       "       156, 157, 158, 159, 160, 161, 162, 163, 164, 165, 166, 167, 168,\n",
       "       169, 170, 171, 172, 173, 174, 175, 176, 177, 178, 179, 180, 181,\n",
       "       182, 183, 184, 185, 186, 187, 188, 189, 190, 191, 192, 193, 194,\n",
       "       195, 196, 197, 198, 199, 200, 201, 202, 203, 204, 205, 206, 207,\n",
       "       208, 209, 210, 211, 212])"
      ]
     },
     "execution_count": 151,
     "metadata": {},
     "output_type": "execute_result"
    }
   ],
   "source": [
    "df4['RBIndexActive'].unique()"
   ]
  },
  {
   "cell_type": "code",
   "execution_count": 152,
   "id": "cab88351-df76-4b6c-895c-abb2421fd704",
   "metadata": {},
   "outputs": [
    {
     "data": {
      "text/plain": [
       "array([0])"
      ]
     },
     "execution_count": 152,
     "metadata": {},
     "output_type": "execute_result"
    }
   ],
   "source": [
    "df4['BwpId'].unique()"
   ]
  },
  {
   "cell_type": "code",
   "execution_count": 153,
   "id": "fd974455-44f5-4fc0-851d-ee634218e861",
   "metadata": {},
   "outputs": [
    {
     "data": {
      "text/plain": [
       "array([ 78, 110, 112,  34,  90, 100, 104,  14,  20,  12,  18,  30,  82,\n",
       "        16,  28, 114,  22,  32,  36, 106,  86,  10,  96,  24, 108,   6,\n",
       "         4,   2,  98, 102,  80,  94,  26,  88,  38,  84,   8,  92])"
      ]
     },
     "execution_count": 153,
     "metadata": {},
     "output_type": "execute_result"
    }
   ],
   "source": [
    "df4['CellId'].unique()"
   ]
  },
  {
   "cell_type": "code",
   "execution_count": 20,
   "id": "89cb0635-740f-4e3d-92a9-c65a10368eec",
   "metadata": {},
   "outputs": [
    {
     "data": {
      "image/png": "[encoded data removed]",
      "text/plain": [
       "<Figure size 720x432 with 1 Axes>"
      ]
     },
     "metadata": {
      "needs_background": "light"
     },
     "output_type": "display_data"
    }
   ],
   "source": [
    "fig, ax = plt.subplots()\n",
    "fig.set_size_inches(10,6)\n",
    "\n",
    "ax.scatter(df4['CellId'], df4['RBIndexActive'], marker='x', c='yellowgreen')\n",
    "\n",
    "ax.set_xticks(ticks=df4['CellId'].unique(), labels=df4['CellId'].unique(), rotation=90)\n",
    "\n",
    "ax.set_xlabel(\"Cell ID\", fontsize=15)\n",
    "ax.set_ylabel(\"Resource Block\", fontsize=15)\n",
    "ax.set_title(\"Cell ID vs. Resource Block\", fontsize=20, fontweight='bold')\n",
    "\n",
    "plt.savefig(\"CellId-RB\")\n",
    "plt.show()"
   ]
  },
  {
   "cell_type": "code",
   "execution_count": 7,
   "id": "355f3e6f-9451-48f9-8817-034df1f07627",
   "metadata": {},
   "outputs": [
    {
     "data": {
      "text/html": [
       "<div>\n",
       "<style scoped>\n",
       "    .dataframe tbody tr th:only-of-type {\n",
       "        vertical-align: middle;\n",
       "    }\n",
       "\n",
       "    .dataframe tbody tr th {\n",
       "        vertical-align: top;\n",
       "    }\n",
       "\n",
       "    .dataframe thead th {\n",
       "        text-align: right;\n",
       "    }\n",
       "</style>\n",
       "<table border=\"1\" class=\"dataframe\">\n",
       "  <thead>\n",
       "    <tr style=\"text-align: right;\">\n",
       "      <th></th>\n",
       "      <th>Frame</th>\n",
       "      <th>SubFrame</th>\n",
       "      <th>Slot</th>\n",
       "      <th>Rnti</th>\n",
       "      <th>Imsi</th>\n",
       "      <th>BwpId</th>\n",
       "      <th>CellId</th>\n",
       "      <th>txPowerRb</th>\n",
       "      <th>txPowerTotal</th>\n",
       "      <th>rbNumActive</th>\n",
       "      <th>rbNumTotal</th>\n",
       "      <th>Seed</th>\n",
       "      <th>Run</th>\n",
       "    </tr>\n",
       "  </thead>\n",
       "  <tbody>\n",
       "  </tbody>\n",
       "</table>\n",
       "</div>"
      ],
      "text/plain": [
       "Empty DataFrame\n",
       "Columns: [Frame, SubFrame, Slot, Rnti, Imsi, BwpId, CellId, txPowerRb, txPowerTotal, rbNumActive, rbNumTotal, Seed, Run]\n",
       "Index: []"
      ]
     },
     "execution_count": 7,
     "metadata": {},
     "output_type": "execute_result"
    }
   ],
   "source": [
    "df5.head()"
   ]
  },
  {
   "cell_type": "code",
   "execution_count": 8,
   "id": "c1ca972c-2cd0-4e28-991c-54a966e272ae",
   "metadata": {},
   "outputs": [
    {
     "data": {
      "text/html": [
       "<div>\n",
       "<style scoped>\n",
       "    .dataframe tbody tr th:only-of-type {\n",
       "        vertical-align: middle;\n",
       "    }\n",
       "\n",
       "    .dataframe tbody tr th {\n",
       "        vertical-align: top;\n",
       "    }\n",
       "\n",
       "    .dataframe thead th {\n",
       "        text-align: right;\n",
       "    }\n",
       "</style>\n",
       "<table border=\"1\" class=\"dataframe\">\n",
       "  <thead>\n",
       "    <tr style=\"text-align: right;\">\n",
       "      <th></th>\n",
       "      <th>FlowId</th>\n",
       "      <th>TxPackets</th>\n",
       "      <th>TxBytes</th>\n",
       "      <th>TxOfferedMbps</th>\n",
       "      <th>RxBytes</th>\n",
       "      <th>ThroughputMbps</th>\n",
       "      <th>MeanDelayMs</th>\n",
       "      <th>MeanJitterMs</th>\n",
       "      <th>RxPackets</th>\n",
       "      <th>SEED</th>\n",
       "      <th>RUN</th>\n",
       "    </tr>\n",
       "  </thead>\n",
       "  <tbody>\n",
       "    <tr>\n",
       "      <th>0</th>\n",
       "      <td>3</td>\n",
       "      <td>5000</td>\n",
       "      <td>5140000</td>\n",
       "      <td>41.128226</td>\n",
       "      <td>5140000</td>\n",
       "      <td>41.128226</td>\n",
       "      <td>3.725163</td>\n",
       "      <td>0.320600</td>\n",
       "      <td>5000</td>\n",
       "      <td>1</td>\n",
       "      <td>1</td>\n",
       "    </tr>\n",
       "    <tr>\n",
       "      <th>1</th>\n",
       "      <td>4</td>\n",
       "      <td>5000</td>\n",
       "      <td>5140000</td>\n",
       "      <td>41.128226</td>\n",
       "      <td>5070096</td>\n",
       "      <td>40.568882</td>\n",
       "      <td>22.192837</td>\n",
       "      <td>0.335158</td>\n",
       "      <td>4932</td>\n",
       "      <td>1</td>\n",
       "      <td>1</td>\n",
       "    </tr>\n",
       "    <tr>\n",
       "      <th>2</th>\n",
       "      <td>10</td>\n",
       "      <td>5000</td>\n",
       "      <td>5140000</td>\n",
       "      <td>41.128226</td>\n",
       "      <td>5140000</td>\n",
       "      <td>41.128226</td>\n",
       "      <td>3.700363</td>\n",
       "      <td>0.320200</td>\n",
       "      <td>5000</td>\n",
       "      <td>1</td>\n",
       "      <td>1</td>\n",
       "    </tr>\n",
       "    <tr>\n",
       "      <th>3</th>\n",
       "      <td>11</td>\n",
       "      <td>5000</td>\n",
       "      <td>5140000</td>\n",
       "      <td>41.128226</td>\n",
       "      <td>3315300</td>\n",
       "      <td>26.527706</td>\n",
       "      <td>228.444005</td>\n",
       "      <td>0.413023</td>\n",
       "      <td>3225</td>\n",
       "      <td>1</td>\n",
       "      <td>1</td>\n",
       "    </tr>\n",
       "    <tr>\n",
       "      <th>4</th>\n",
       "      <td>14</td>\n",
       "      <td>5000</td>\n",
       "      <td>5140000</td>\n",
       "      <td>41.128226</td>\n",
       "      <td>3474640</td>\n",
       "      <td>27.802681</td>\n",
       "      <td>241.978859</td>\n",
       "      <td>0.406036</td>\n",
       "      <td>3380</td>\n",
       "      <td>1</td>\n",
       "      <td>1</td>\n",
       "    </tr>\n",
       "  </tbody>\n",
       "</table>\n",
       "</div>"
      ],
      "text/plain": [
       "   FlowId  TxPackets  TxBytes  TxOfferedMbps  RxBytes  ThroughputMbps  \\\n",
       "0       3       5000  5140000      41.128226  5140000       41.128226   \n",
       "1       4       5000  5140000      41.128226  5070096       40.568882   \n",
       "2      10       5000  5140000      41.128226  5140000       41.128226   \n",
       "3      11       5000  5140000      41.128226  3315300       26.527706   \n",
       "4      14       5000  5140000      41.128226  3474640       27.802681   \n",
       "\n",
       "   MeanDelayMs  MeanJitterMs  RxPackets  SEED  RUN  \n",
       "0     3.725163      0.320600       5000     1    1  \n",
       "1    22.192837      0.335158       4932     1    1  \n",
       "2     3.700363      0.320200       5000     1    1  \n",
       "3   228.444005      0.413023       3225     1    1  \n",
       "4   241.978859      0.406036       3380     1    1  "
      ]
     },
     "execution_count": 8,
     "metadata": {},
     "output_type": "execute_result"
    }
   ],
   "source": [
    "#Maximum Throughput is the maximum rate at which data can be transmitted \n",
    "#through the network connection at given layer of OSI stack. \n",
    "#Jitter is the variation in time delay between when a signal is transmitted \n",
    "#3and when it's received over a network connection, measuring the variability in ping. \n",
    "#This is often caused by network congestion, poor hardware performance and \n",
    "#not implementing packet prioritization.\n",
    "\n",
    "df6.head()"
   ]
  },
  {
   "cell_type": "code",
   "execution_count": 14,
   "id": "9b641ba8-accc-4925-9e1f-d2b4b9f3a047",
   "metadata": {},
   "outputs": [
    {
     "data": {
      "text/plain": [
       "38"
      ]
     },
     "execution_count": 14,
     "metadata": {},
     "output_type": "execute_result"
    }
   ],
   "source": [
    "len(df6)"
   ]
  },
  {
   "cell_type": "code",
   "execution_count": 15,
   "id": "5f259181-5362-4dcb-89fa-e8be6e112506",
   "metadata": {},
   "outputs": [
    {
     "data": {
      "text/plain": [
       "array([  3,   4,  10,  11,  14,  15,  16,  19,  20,  23,  24,  25,  33,\n",
       "        34,  38,  40,  47,  48,  55,  58,  64,  66,  74,  76,  79,  80,\n",
       "        83,  85,  88,  89,  95, 101, 102, 105, 106, 107, 108, 113])"
      ]
     },
     "execution_count": 15,
     "metadata": {},
     "output_type": "execute_result"
    }
   ],
   "source": [
    "df6['FlowId'].unique()"
   ]
  },
  {
   "cell_type": "code",
   "execution_count": 16,
   "id": "6c0987f5-f815-41c3-ad64-c875d605e949",
   "metadata": {},
   "outputs": [
    {
     "data": {
      "text/plain": [
       "array([5000])"
      ]
     },
     "execution_count": 16,
     "metadata": {},
     "output_type": "execute_result"
    }
   ],
   "source": [
    "df6['TxPackets'].unique()"
   ]
  },
  {
   "cell_type": "code",
   "execution_count": 17,
   "id": "83b1216d-985f-4b62-a975-19ebccfbb4da",
   "metadata": {},
   "outputs": [
    {
     "data": {
      "text/plain": [
       "array([5140000])"
      ]
     },
     "execution_count": 17,
     "metadata": {},
     "output_type": "execute_result"
    }
   ],
   "source": [
    "df6['TxBytes'].unique()"
   ]
  },
  {
   "cell_type": "code",
   "execution_count": 18,
   "id": "7f0a240c-a451-43d3-a611-6613d4012b00",
   "metadata": {},
   "outputs": [
    {
     "data": {
      "text/plain": [
       "array([41.12822565, 41.12822565])"
      ]
     },
     "execution_count": 18,
     "metadata": {},
     "output_type": "execute_result"
    }
   ],
   "source": [
    "df6['TxOfferedMbps'].unique()"
   ]
  },
  {
   "cell_type": "code",
   "execution_count": 19,
   "id": "309da2e0-112d-4b0a-bd35-07f26ca96d67",
   "metadata": {},
   "outputs": [
    {
     "data": {
      "text/plain": [
       "array([5140000, 5070096, 3315300, 3474640, 5129720,  613716, 5114300,\n",
       "       1561532,  249804, 3322496,  873800, 3608280, 3302964, 3255676,\n",
       "       3658652, 1393968, 3227920,  428676, 1707508, 1372380])"
      ]
     },
     "execution_count": 19,
     "metadata": {},
     "output_type": "execute_result"
    }
   ],
   "source": [
    "df6['RxBytes'].unique()"
   ]
  },
  {
   "cell_type": "code",
   "execution_count": 38,
   "id": "b4d63cf3-ca25-435c-9afb-087629f6f287",
   "metadata": {},
   "outputs": [
    {
     "data": {
      "text/plain": [
       "array([41.12822565, 40.56888178, 26.52770554, 27.80268054, 41.04596919,\n",
       "        4.91071014, 40.92258452, 12.49475495,  1.99883177, 41.12822565,\n",
       "       26.58528506,  6.99179836, 28.8720144 , 26.4289978 , 40.92258452,\n",
       "       26.05061812, 29.27507101, 11.15397479, 25.82852571,  3.43009402,\n",
       "       13.66279656, 10.98123625])"
      ]
     },
     "execution_count": 38,
     "metadata": {},
     "output_type": "execute_result"
    }
   ],
   "source": [
    "df6['ThroughputMbps'].unique()"
   ]
  },
  {
   "cell_type": "code",
   "execution_count": 73,
   "id": "ce57054b-56c6-4424-b004-25606bdd4b11",
   "metadata": {},
   "outputs": [
    {
     "data": {
      "text/plain": [
       "array([  3.725163  ,  22.19283713,   3.700363  , 228.44400486,\n",
       "       241.97885886,   8.78708003, 361.91935027,  74.23278411,\n",
       "       443.21276313, 559.2195095 ,   3.648163  ,   9.247563  ,\n",
       "         3.892563  ,   7.398763  ,   3.648763  ,   3.787963  ,\n",
       "       218.22311746, 460.23915124,   3.649163  ,   3.706763  ,\n",
       "       250.00503024, 213.4675297 ,  15.64203034, 221.69853458,\n",
       "         3.774163  , 234.68992855,   3.650763  , 398.98873999,\n",
       "         3.714963  ,   3.719963  , 219.87792606, 492.17436636,\n",
       "         3.700763  , 458.38858708,   3.662963  ,   6.655963  ,\n",
       "       396.74017349])"
      ]
     },
     "execution_count": 73,
     "metadata": {},
     "output_type": "execute_result"
    }
   ],
   "source": [
    "df6['MeanDelayMs'].unique()"
   ]
  },
  {
   "cell_type": "code",
   "execution_count": 101,
   "id": "e3a3b8f6-98e7-4b0d-b359-2f1cc6c75774",
   "metadata": {},
   "outputs": [
    {
     "data": {
      "text/plain": [
       "array([0.3206    , 0.33515815, 0.3202    , 0.41302326, 0.4060355 ,\n",
       "       0.32853707, 1.7678392 , 0.3359598 , 0.65306122, 4.27736626,\n",
       "       0.3198    , 0.32068   , 0.32196   , 0.338     , 0.32028   ,\n",
       "       0.40123762, 1.104     , 0.32036   , 0.39356125, 0.40018674,\n",
       "       0.32832161, 0.40145248, 0.321     , 0.37892666, 0.66784661,\n",
       "       0.40146497, 2.32565947, 0.57965081, 0.31992   , 0.66786517])"
      ]
     },
     "execution_count": 101,
     "metadata": {},
     "output_type": "execute_result"
    }
   ],
   "source": [
    "df6['MeanJitterMs'].unique()"
   ]
  },
  {
   "cell_type": "code",
   "execution_count": 111,
   "id": "007accb2-43ef-4825-9f77-4ecfc4470285",
   "metadata": {},
   "outputs": [
    {
     "data": {
      "text/plain": [
       "array([5000, 4932, 3225, 3380, 4990,  597, 4975, 1519,  243, 3232,  850,\n",
       "       3510, 3213, 3167, 3559, 1356, 3140,  417, 1661, 1335])"
      ]
     },
     "execution_count": 111,
     "metadata": {},
     "output_type": "execute_result"
    }
   ],
   "source": [
    "df6['RxPackets'].unique()"
   ]
  },
  {
   "cell_type": "code",
   "execution_count": 16,
   "id": "e4a0da86-d1fa-40ec-ad6e-2d294ad6596d",
   "metadata": {},
   "outputs": [
    {
     "data": {
      "image/png": "[encoded data removed]",
      "text/plain": [
       "<Figure size 720x432 with 1 Axes>"
      ]
     },
     "metadata": {
      "needs_background": "light"
     },
     "output_type": "display_data"
    }
   ],
   "source": [
    "fig, ax = plt.subplots()\n",
    "fig.set_size_inches(10,6)\n",
    "\n",
    "ax.scatter(df6['TxBytes'], df6['RxBytes'], marker='_', s=300, c='darkorange')\n",
    "\n",
    "ax.set_title(\"Transmitter/Receiver Bytes\", fontsize=20, fontweight='bold')\n",
    "ax.set_xlabel(\"Transmitter Bytes\", fontsize=15)\n",
    "ax.set_ylabel(\"Receiver Bytes\", fontsize=15)\n",
    "\n",
    "plt.savefig(\"Transmitter-Receiver-Bytes.png\")\n",
    "plt.show()"
   ]
  },
  {
   "cell_type": "code",
   "execution_count": 17,
   "id": "33c8fdc6-8913-42ba-9e2d-3aacccfd723b",
   "metadata": {},
   "outputs": [
    {
     "data": {
      "image/png": "[encoded data removed]",
      "text/plain": [
       "<Figure size 720x432 with 1 Axes>"
      ]
     },
     "metadata": {
      "needs_background": "light"
     },
     "output_type": "display_data"
    }
   ],
   "source": [
    "fig, ax = plt.subplots()\n",
    "fig.set_size_inches(10,6)\n",
    "\n",
    "ax.scatter(df6['FlowId'], df6['ThroughputMbps'], marker='*', c='darkturquoise', s=150)\n",
    "\n",
    "ax.set_title(\"Flow ID vs. Throughput\", fontsize=20, fontweight='bold')\n",
    "ax.set_xlabel(\"Flow ID\", fontsize=15)\n",
    "ax.set_ylabel(\"Throughput\", fontsize=15)\n",
    "\n",
    "ax.set_xticks(ticks=df6['FlowId'].unique(), labels=df6['FlowId'].unique(), rotation=90)\n",
    "# plt.setp(ax.get_xticklabels(), rotation=270, horizontalalignment='right')\n",
    "# plt.gca().xaxis.set_major_locator(MaxNLocator(prune='lower'))\n",
    "ax.set_xticks(ax.get_xticks()[::2])\n",
    "\n",
    "plt.grid()\n",
    "plt.savefig(\"FlowId-Throughput.png\")\n",
    "plt.show()"
   ]
  },
  {
   "cell_type": "code",
   "execution_count": 20,
   "id": "acb2e942-bcce-4694-a2bd-137371fc30b3",
   "metadata": {},
   "outputs": [
    {
     "data": {
      "image/png": "[encoded data removed]",
      "text/plain": [
       "<Figure size 720x432 with 1 Axes>"
      ]
     },
     "metadata": {
      "needs_background": "light"
     },
     "output_type": "display_data"
    }
   ],
   "source": [
    "fig, ax = plt.subplots()\n",
    "fig.set_size_inches(10,6)\n",
    "\n",
    "ax.bar(df6['FlowId'], df6['MeanDelayMs'], width=1, color='salmon', edgecolor='firebrick')\n",
    "\n",
    "ax.set_title(\"Flow ID vs. Mean Delay\", fontsize=20, fontweight='bold')\n",
    "ax.set_xlabel(\"Flow ID\", fontsize=15)\n",
    "ax.set_ylabel(\"Mean Delay (ms)\", fontsize=15)\n",
    "\n",
    "ax.set_xticks(ticks=df6['FlowId'].unique(), labels=df6['FlowId'].unique(), rotation=90)\n",
    "ax.set_xticks(ax.get_xticks()[::2])\n",
    "\n",
    "plt.savefig(\"FlowId-MeanDelay.png\")\n",
    "plt.show()"
   ]
  },
  {
   "cell_type": "code",
   "execution_count": 21,
   "id": "be1810cd-9224-43e1-8360-2bfffbb4517b",
   "metadata": {},
   "outputs": [
    {
     "data": {
      "image/png": "[encoded data removed]",
      "text/plain": [
       "<Figure size 720x432 with 1 Axes>"
      ]
     },
     "metadata": {
      "needs_background": "light"
     },
     "output_type": "display_data"
    }
   ],
   "source": [
    "fig, ax = plt.subplots()\n",
    "fig.set_size_inches(10,6)\n",
    "\n",
    "ax.bar(df6['FlowId'], df6['MeanJitterMs'], width=1, color='mediumspringgreen', edgecolor='seagreen')\n",
    "\n",
    "ax.set_title(\"Flow ID vs. Mean Jitter\", fontsize=20, fontweight='bold')\n",
    "ax.set_xlabel(\"Flow ID\", fontsize=15)\n",
    "ax.set_ylabel(\"Mean Jitter (ms)\", fontsize=15)\n",
    "\n",
    "ax.set_xticks(ticks=df6['FlowId'].unique(), labels=df6['FlowId'].unique(), rotation=90)\n",
    "ax.set_xticks(ax.get_xticks()[::2])\n",
    "\n",
    "plt.savefig(\"FlowId-MeanJitter.png\")\n",
    "plt.show()"
   ]
  },
  {
   "cell_type": "code",
   "execution_count": 22,
   "id": "cb2f431e-a7ca-42a5-941d-913b5e5bbffe",
   "metadata": {},
   "outputs": [
    {
     "data": {
      "image/png": "[encoded data removed]",
      "text/plain": [
       "<Figure size 720x504 with 1 Axes>"
      ]
     },
     "metadata": {
      "needs_background": "light"
     },
     "output_type": "display_data"
    }
   ],
   "source": [
    "fig, ax = plt.subplots()\n",
    "fig.set_size_inches(10,7)\n",
    "\n",
    "ax.scatter(df6['TxPackets'], df6['RxPackets'], marker='x', s=400, c='darkorchid')\n",
    "\n",
    "ax.set_title(\"Tx/Rx Packets\", fontsize=20, fontweight='bold')\n",
    "ax.set_xlabel(\"Tx Packets\", fontsize=15)\n",
    "ax.set_ylabel(\"Rx Packets\", fontsize=15)\n",
    "\n",
    "plt.grid()\n",
    "plt.savefig(\"TxRx-Packets.png\")\n",
    "plt.show()"
   ]
  }
 ],
 "metadata": {
  "kernelspec": {
   "display_name": "Python 3 (ipykernel)",
   "language": "python",
   "name": "python3"
  },
  "language_info": {
   "codemirror_mode": {
    "name": "ipython",
    "version": 3
   },
   "file_extension": ".py",
   "mimetype": "text/x-python",
   "name": "python",
   "nbconvert_exporter": "python",
   "pygments_lexer": "ipython3",
   "version": "3.8.10"
  }
 },
 "nbformat": 4,
 "nbformat_minor": 5
}
