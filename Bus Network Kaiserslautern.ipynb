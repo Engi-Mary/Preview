{
 "cells": [
  {
   "cell_type": "code",
   "execution_count": 1,
   "id": "a5a70408-7f60-4fa1-bc5f-a36b0248ab18",
   "metadata": {},
   "outputs": [],
   "source": [
    "import pandas as pd\n",
    "import matplotlib.pyplot as plt\n",
    "import matplotlib.colors as mcolors\n",
    "# import gmplot\n",
    "# import IPython\n",
    "\n",
    "# %matplotlib widget\n",
    "pd.set_option('display.max_columns', None)"
   ]
  },
  {
   "cell_type": "markdown",
   "id": "e462b567-cdef-4724-856c-015e23c9125d",
   "metadata": {},
   "source": [
    "# Agency"
   ]
  },
  {
   "cell_type": "code",
   "execution_count": 5,
   "id": "5da7446b-ef9d-49fb-96c8-6fb9770ba9fe",
   "metadata": {},
   "outputs": [],
   "source": [
    "df_agency = pd.read_csv(\"datasets/Buses/agency.txt\")"
   ]
  },
  {
   "cell_type": "code",
   "execution_count": 6,
   "id": "a228bbb5-d2e0-4db0-a568-3c8f7664d5fb",
   "metadata": {},
   "outputs": [
    {
     "data": {
      "text/html": [
       "<div>\n",
       "<style scoped>\n",
       "    .dataframe tbody tr th:only-of-type {\n",
       "        vertical-align: middle;\n",
       "    }\n",
       "\n",
       "    .dataframe tbody tr th {\n",
       "        vertical-align: top;\n",
       "    }\n",
       "\n",
       "    .dataframe thead th {\n",
       "        text-align: right;\n",
       "    }\n",
       "</style>\n",
       "<table border=\"1\" class=\"dataframe\">\n",
       "  <thead>\n",
       "    <tr style=\"text-align: right;\">\n",
       "      <th></th>\n",
       "      <th>agency_id</th>\n",
       "      <th>agency_name</th>\n",
       "      <th>agency_url</th>\n",
       "      <th>agency_timezone</th>\n",
       "    </tr>\n",
       "  </thead>\n",
       "  <tbody>\n",
       "    <tr>\n",
       "      <th>0</th>\n",
       "      <td>vrn-99</td>\n",
       "      <td>Verkehrsunternehmen</td>\n",
       "      <td>https://vrn.de</td>\n",
       "      <td>Europe/Berlin</td>\n",
       "    </tr>\n",
       "    <tr>\n",
       "      <th>1</th>\n",
       "      <td>vrn-05</td>\n",
       "      <td>RNV Rhein-Neckar-Verkehr GmbH</td>\n",
       "      <td>https://vrn.de</td>\n",
       "      <td>Europe/Berlin</td>\n",
       "    </tr>\n",
       "    <tr>\n",
       "      <th>2</th>\n",
       "      <td>vrn-09</td>\n",
       "      <td>Rheinfähre Altrip  (www.rheinfaehre-altrip.com)</td>\n",
       "      <td>https://vrn.de</td>\n",
       "      <td>Europe/Berlin</td>\n",
       "    </tr>\n",
       "    <tr>\n",
       "      <th>3</th>\n",
       "      <td>vrn-03</td>\n",
       "      <td>SWEG Landesverkehrs-GmbH</td>\n",
       "      <td>https://vrn.de</td>\n",
       "      <td>Europe/Berlin</td>\n",
       "    </tr>\n",
       "    <tr>\n",
       "      <th>4</th>\n",
       "      <td>vrn-04</td>\n",
       "      <td>SWEG Bus Schwetzingen GmbH</td>\n",
       "      <td>https://vrn.de</td>\n",
       "      <td>Europe/Berlin</td>\n",
       "    </tr>\n",
       "  </tbody>\n",
       "</table>\n",
       "</div>"
      ],
      "text/plain": [
       "  agency_id                                      agency_name      agency_url  \\\n",
       "0    vrn-99                              Verkehrsunternehmen  https://vrn.de   \n",
       "1    vrn-05                    RNV Rhein-Neckar-Verkehr GmbH  https://vrn.de   \n",
       "2    vrn-09  Rheinfähre Altrip  (www.rheinfaehre-altrip.com)  https://vrn.de   \n",
       "3    vrn-03                         SWEG Landesverkehrs-GmbH  https://vrn.de   \n",
       "4    vrn-04                       SWEG Bus Schwetzingen GmbH  https://vrn.de   \n",
       "\n",
       "  agency_timezone  \n",
       "0   Europe/Berlin  \n",
       "1   Europe/Berlin  \n",
       "2   Europe/Berlin  \n",
       "3   Europe/Berlin  \n",
       "4   Europe/Berlin  "
      ]
     },
     "execution_count": 6,
     "metadata": {},
     "output_type": "execute_result"
    }
   ],
   "source": [
    "df_agency.head()"
   ]
  },
  {
   "cell_type": "code",
   "execution_count": 13,
   "id": "dff27ba4-6f77-43ec-a6f0-51b073e4d404",
   "metadata": {},
   "outputs": [
    {
     "data": {
      "text/plain": [
       "array(['vrn-99', 'vrn-05', 'vrn-09', 'vrn-03', 'vrn-04', 'vrn-114',\n",
       "       'vrn-10', 'vrn-11', 'vrn-12', 'vrn-33', 'vrn-14', 'vrn-110',\n",
       "       'vrn-97', 'vrn-52', 'vrn-17', 'vrn-19', 'vrn-22', 'vrn-23',\n",
       "       'vrn-81', 'vrn-86', 'vrn-26', 'vrn-40', 'vrn-56', 'vrn-95',\n",
       "       'vrn-90', 'vrn-109', 'vrn-92', 'vrn-88', 'vrn-102', 'vrn-106',\n",
       "       'vrn-96', 'vrn-67', 'vrn-82', 'vrn-39', 'vrn-94', 'Default',\n",
       "       'vrn-06', 'vrn-107', 'vrn-32', 'vrn-93', 'vrn-84', 'vrn-41',\n",
       "       'vrn-104', 'vrn-111', 'vrn-45', 'vrn-103', 'vrn-112', 'vrn-44',\n",
       "       'vrn-8', 'vrn-53', 'vrn-55', 'vrn-105'], dtype=object)"
      ]
     },
     "execution_count": 13,
     "metadata": {},
     "output_type": "execute_result"
    }
   ],
   "source": [
    "df_agency['agency_id'].unique()"
   ]
  },
  {
   "cell_type": "code",
   "execution_count": 14,
   "id": "ffeee163-f425-452d-b538-89507ac69f50",
   "metadata": {},
   "outputs": [
    {
     "data": {
      "text/plain": [
       "array(['Verkehrsunternehmen', 'RNV Rhein-Neckar-Verkehr GmbH',\n",
       "       'Rheinfähre Altrip  (www.rheinfaehre-altrip.com)',\n",
       "       'SWEG Landesverkehrs-GmbH', 'SWEG Bus Schwetzingen GmbH',\n",
       "       'Mittelhaardt Nahverkehrsgesellschaft mbH',\n",
       "       'Stadtwerke Bad Dürkheim GmbH', 'Stadtwerke Eberbach',\n",
       "       'VTL  Lampertheim', 'Hetzler & Pfadt GmbH & Co KG',\n",
       "       'Stadtwerke Viernheim GmbH', 'RBZ Regionalbus Zweibrücken GmbH',\n",
       "       'DB Regio Bus Mitte GmbH', 'PalatinaBus',\n",
       "       'Busverkehr Rhein-Neckar GmbH', 'Regiobus Stuttgart',\n",
       "       'Verkehrsg. Untermain', 'Georg Sauter GmbH',\n",
       "       'Verkehrsgesellschaft Gersprenztal mbH',\n",
       "       'Verkehrsbetriebe Leininger Land - Eistal-Bus GmbH',\n",
       "       'Walter Müller Reise GmbH & Co. KG', 'FA. Berberich GmbH', 'OREG',\n",
       "       'Verkehrsunternehmens-Verbund Mainfranken GmbH',\n",
       "       'VerkehrsGesellschaft Main-Tauber mbH (VGMT)',\n",
       "       'Seitz Bus GmbH & Co. KG', 'Omnibusverkehr Franken GmbH',\n",
       "       'Queichtal Nahverkehrsgesellschaft',\n",
       "       'Westpfalz Nahverkehrsgesellschaft GmbH',\n",
       "       'Südpfalz Nahverkehrsgesellschaft GmbH',\n",
       "       'Regionalbus Westpfalz GmbH', 'Holiday Park Gmbh',\n",
       "       'Jahnke GmbH & Co. Reisen KG',\n",
       "       'Omnibusunternehmen Paul Knühl e.K.', 'BASF - Interner Busverkehr',\n",
       "       'VRN', 'Heidelberger Straßen- und Bergbahn GmbH', 'Dürk-Reisen',\n",
       "       'Donnersberg VG', 'Busverkehr Imfeld',\n",
       "       'Nahverkehr-Service GmbH (NVS)', 'Mainzer Mobilität',\n",
       "       'Scherer Reisen Omnibus GmbH',\n",
       "       'Nahverkehrsbetriebe Birkenfeld GmbH', 'SV Ingelheim',\n",
       "       'Stadtbus Bad Kreuznach GmbH',\n",
       "       'KRN Kommunalverkehr Rhein-Nahe GmbH', 'Stadtwerke Bingen',\n",
       "       'Reisedienst Krauss & Wolff Reisen GmbH',\n",
       "       'Stadtwerke Kaiserslautern Verkehrs-AG', 'Stadtwerke Pirmasens',\n",
       "       'Stadtbus Zweibrücken GmbH'], dtype=object)"
      ]
     },
     "execution_count": 14,
     "metadata": {},
     "output_type": "execute_result"
    }
   ],
   "source": [
    "df_agency['agency_name'].unique()"
   ]
  },
  {
   "cell_type": "code",
   "execution_count": 9,
   "id": "e13eba38-93c8-4141-b87a-79633835d642",
   "metadata": {},
   "outputs": [
    {
     "data": {
      "text/plain": [
       "array(['https://vrn.de'], dtype=object)"
      ]
     },
     "execution_count": 9,
     "metadata": {},
     "output_type": "execute_result"
    }
   ],
   "source": [
    "df_agency['agency_url'].unique()"
   ]
  },
  {
   "cell_type": "markdown",
   "id": "8912832d-3f3e-467f-9405-efbf320c178e",
   "metadata": {},
   "source": [
    "# Calendar"
   ]
  },
  {
   "cell_type": "code",
   "execution_count": 15,
   "id": "3ad23d59-d700-4726-8343-91867aa891f1",
   "metadata": {},
   "outputs": [],
   "source": [
    "df_calendar = pd.read_csv(\"datasets/Buses/calendar.txt\")"
   ]
  },
  {
   "cell_type": "code",
   "execution_count": 16,
   "id": "e038a5b8-7068-4e1a-93fa-93a1b019de25",
   "metadata": {},
   "outputs": [
    {
     "data": {
      "text/html": [
       "<div>\n",
       "<style scoped>\n",
       "    .dataframe tbody tr th:only-of-type {\n",
       "        vertical-align: middle;\n",
       "    }\n",
       "\n",
       "    .dataframe tbody tr th {\n",
       "        vertical-align: top;\n",
       "    }\n",
       "\n",
       "    .dataframe thead th {\n",
       "        text-align: right;\n",
       "    }\n",
       "</style>\n",
       "<table border=\"1\" class=\"dataframe\">\n",
       "  <thead>\n",
       "    <tr style=\"text-align: right;\">\n",
       "      <th></th>\n",
       "      <th>service_id</th>\n",
       "      <th>monday</th>\n",
       "      <th>tuesday</th>\n",
       "      <th>wednesday</th>\n",
       "      <th>thursday</th>\n",
       "      <th>friday</th>\n",
       "      <th>saturday</th>\n",
       "      <th>sunday</th>\n",
       "      <th>start_date</th>\n",
       "      <th>end_date</th>\n",
       "    </tr>\n",
       "  </thead>\n",
       "  <tbody>\n",
       "    <tr>\n",
       "      <th>0</th>\n",
       "      <td>Special</td>\n",
       "      <td>0</td>\n",
       "      <td>0</td>\n",
       "      <td>0</td>\n",
       "      <td>0</td>\n",
       "      <td>0</td>\n",
       "      <td>0</td>\n",
       "      <td>0</td>\n",
       "      <td>20221212</td>\n",
       "      <td>20231208</td>\n",
       "    </tr>\n",
       "    <tr>\n",
       "      <th>1</th>\n",
       "      <td>Special#2</td>\n",
       "      <td>0</td>\n",
       "      <td>0</td>\n",
       "      <td>0</td>\n",
       "      <td>0</td>\n",
       "      <td>0</td>\n",
       "      <td>0</td>\n",
       "      <td>0</td>\n",
       "      <td>20221211</td>\n",
       "      <td>20231111</td>\n",
       "    </tr>\n",
       "    <tr>\n",
       "      <th>2</th>\n",
       "      <td>Special#3</td>\n",
       "      <td>0</td>\n",
       "      <td>0</td>\n",
       "      <td>0</td>\n",
       "      <td>0</td>\n",
       "      <td>0</td>\n",
       "      <td>0</td>\n",
       "      <td>0</td>\n",
       "      <td>20230401</td>\n",
       "      <td>20231209</td>\n",
       "    </tr>\n",
       "    <tr>\n",
       "      <th>3</th>\n",
       "      <td>Special#4</td>\n",
       "      <td>0</td>\n",
       "      <td>0</td>\n",
       "      <td>0</td>\n",
       "      <td>0</td>\n",
       "      <td>0</td>\n",
       "      <td>0</td>\n",
       "      <td>0</td>\n",
       "      <td>20221217</td>\n",
       "      <td>20230325</td>\n",
       "    </tr>\n",
       "    <tr>\n",
       "      <th>4</th>\n",
       "      <td>Special#5</td>\n",
       "      <td>0</td>\n",
       "      <td>0</td>\n",
       "      <td>0</td>\n",
       "      <td>0</td>\n",
       "      <td>0</td>\n",
       "      <td>0</td>\n",
       "      <td>0</td>\n",
       "      <td>20221211</td>\n",
       "      <td>20231111</td>\n",
       "    </tr>\n",
       "  </tbody>\n",
       "</table>\n",
       "</div>"
      ],
      "text/plain": [
       "  service_id  monday  tuesday  wednesday  thursday  friday  saturday  sunday  \\\n",
       "0    Special       0        0          0         0       0         0       0   \n",
       "1  Special#2       0        0          0         0       0         0       0   \n",
       "2  Special#3       0        0          0         0       0         0       0   \n",
       "3  Special#4       0        0          0         0       0         0       0   \n",
       "4  Special#5       0        0          0         0       0         0       0   \n",
       "\n",
       "   start_date  end_date  \n",
       "0    20221212  20231208  \n",
       "1    20221211  20231111  \n",
       "2    20230401  20231209  \n",
       "3    20221217  20230325  \n",
       "4    20221211  20231111  "
      ]
     },
     "execution_count": 16,
     "metadata": {},
     "output_type": "execute_result"
    }
   ],
   "source": [
    "df_calendar.head()"
   ]
  },
  {
   "cell_type": "code",
   "execution_count": 18,
   "id": "45c5ddff-947a-42e8-a15c-b31678e16295",
   "metadata": {},
   "outputs": [
    {
     "data": {
      "text/plain": [
       "2566"
      ]
     },
     "execution_count": 18,
     "metadata": {},
     "output_type": "execute_result"
    }
   ],
   "source": [
    "len(df_calendar['service_id'].unique())"
   ]
  },
  {
   "cell_type": "code",
   "execution_count": 19,
   "id": "8bac199b-ffab-46cf-9f38-21bc26262a86",
   "metadata": {},
   "outputs": [
    {
     "data": {
      "text/plain": [
       "array([0])"
      ]
     },
     "execution_count": 19,
     "metadata": {},
     "output_type": "execute_result"
    }
   ],
   "source": [
    "df_calendar['monday'].unique()"
   ]
  },
  {
   "cell_type": "code",
   "execution_count": 20,
   "id": "4701c947-84ba-4367-9cc1-46e61f7005b3",
   "metadata": {},
   "outputs": [
    {
     "data": {
      "text/plain": [
       "array([0])"
      ]
     },
     "execution_count": 20,
     "metadata": {},
     "output_type": "execute_result"
    }
   ],
   "source": [
    "df_calendar['tuesday'].unique()"
   ]
  },
  {
   "cell_type": "markdown",
   "id": "1e5fcb23-f664-4317-8ada-4e5a6b28cdda",
   "metadata": {},
   "source": [
    "# Calendar dates"
   ]
  },
  {
   "cell_type": "code",
   "execution_count": 21,
   "id": "cdf0f92e-fe14-4a94-b55e-94ff7d22942d",
   "metadata": {},
   "outputs": [
    {
     "data": {
      "text/html": [
       "<div>\n",
       "<style scoped>\n",
       "    .dataframe tbody tr th:only-of-type {\n",
       "        vertical-align: middle;\n",
       "    }\n",
       "\n",
       "    .dataframe tbody tr th {\n",
       "        vertical-align: top;\n",
       "    }\n",
       "\n",
       "    .dataframe thead th {\n",
       "        text-align: right;\n",
       "    }\n",
       "</style>\n",
       "<table border=\"1\" class=\"dataframe\">\n",
       "  <thead>\n",
       "    <tr style=\"text-align: right;\">\n",
       "      <th></th>\n",
       "      <th>service_id</th>\n",
       "      <th>date</th>\n",
       "      <th>exception_type</th>\n",
       "    </tr>\n",
       "  </thead>\n",
       "  <tbody>\n",
       "    <tr>\n",
       "      <th>0</th>\n",
       "      <td>Special</td>\n",
       "      <td>20221212</td>\n",
       "      <td>1</td>\n",
       "    </tr>\n",
       "    <tr>\n",
       "      <th>1</th>\n",
       "      <td>Special</td>\n",
       "      <td>20221213</td>\n",
       "      <td>1</td>\n",
       "    </tr>\n",
       "    <tr>\n",
       "      <th>2</th>\n",
       "      <td>Special</td>\n",
       "      <td>20221214</td>\n",
       "      <td>1</td>\n",
       "    </tr>\n",
       "    <tr>\n",
       "      <th>3</th>\n",
       "      <td>Special</td>\n",
       "      <td>20221215</td>\n",
       "      <td>1</td>\n",
       "    </tr>\n",
       "    <tr>\n",
       "      <th>4</th>\n",
       "      <td>Special</td>\n",
       "      <td>20221216</td>\n",
       "      <td>1</td>\n",
       "    </tr>\n",
       "  </tbody>\n",
       "</table>\n",
       "</div>"
      ],
      "text/plain": [
       "  service_id      date  exception_type\n",
       "0    Special  20221212               1\n",
       "1    Special  20221213               1\n",
       "2    Special  20221214               1\n",
       "3    Special  20221215               1\n",
       "4    Special  20221216               1"
      ]
     },
     "execution_count": 21,
     "metadata": {},
     "output_type": "execute_result"
    }
   ],
   "source": [
    "df_calendar_dates = pd.read_csv(\"datasets/Buses/calendar_dates.txt\")\n",
    "df_calendar_dates.head()"
   ]
  },
  {
   "cell_type": "code",
   "execution_count": 22,
   "id": "c6952b8e-ff7c-4c9e-92f1-b61b30661790",
   "metadata": {},
   "outputs": [
    {
     "data": {
      "text/plain": [
       "array(['Special', 'Special#2', 'Special#3', ..., 'Special#2564',\n",
       "       'Special#2565', 'Special#2566'], dtype=object)"
      ]
     },
     "execution_count": 22,
     "metadata": {},
     "output_type": "execute_result"
    }
   ],
   "source": [
    "df_calendar_dates['service_id'].unique()"
   ]
  },
  {
   "cell_type": "code",
   "execution_count": 23,
   "id": "f9922ce3-1cf7-41df-857e-0e3b64526f07",
   "metadata": {},
   "outputs": [
    {
     "data": {
      "text/plain": [
       "array([20221212, 20221213, 20221214, 20221215, 20221216, 20221219,\n",
       "       20221220, 20221221, 20221222, 20221223, 20221227, 20221228,\n",
       "       20221229, 20221230, 20230102, 20230103, 20230104, 20230105,\n",
       "       20230106, 20230109, 20230110, 20230111, 20230112, 20230113,\n",
       "       20230116, 20230117, 20230118, 20230119, 20230120, 20230123,\n",
       "       20230124, 20230125, 20230126, 20230127, 20230130, 20230131,\n",
       "       20230201, 20230202, 20230203, 20230206, 20230207, 20230208,\n",
       "       20230209, 20230210, 20230213, 20230214, 20230215, 20230216,\n",
       "       20230217, 20230220, 20230221, 20230222, 20230223, 20230224,\n",
       "       20230227, 20230228, 20230301, 20230302, 20230303, 20230306,\n",
       "       20230307, 20230308, 20230309, 20230310, 20230313, 20230314,\n",
       "       20230315, 20230316, 20230317, 20230320, 20230321, 20230322,\n",
       "       20230323, 20230324, 20230327, 20230328, 20230329, 20230330,\n",
       "       20230331, 20230403, 20230404, 20230405, 20230406, 20230411,\n",
       "       20230412, 20230413, 20230414, 20230417, 20230418, 20230419,\n",
       "       20230420, 20230421, 20230424, 20230425, 20230426, 20230427,\n",
       "       20230428, 20230502, 20230503, 20230504, 20230505, 20230509,\n",
       "       20230510, 20230511, 20230512, 20230515, 20230516, 20230517,\n",
       "       20230519, 20230522, 20230523, 20230524, 20230525, 20230526,\n",
       "       20230530, 20230531, 20230601, 20230602, 20230605, 20230606,\n",
       "       20230607, 20230608, 20230609, 20230612, 20230613, 20230614,\n",
       "       20230615, 20230616, 20230619, 20230620, 20230621, 20230622,\n",
       "       20230623, 20230626, 20230627, 20230628, 20230629, 20230630,\n",
       "       20230703, 20230704, 20230705, 20230706, 20230707, 20230710,\n",
       "       20230711, 20230712, 20230713, 20230717, 20230718, 20230719,\n",
       "       20230720, 20230721, 20230724, 20230725, 20230726, 20230727,\n",
       "       20230728, 20230731, 20230801, 20230802, 20230803, 20230804,\n",
       "       20230807, 20230808, 20230809, 20230810, 20230811, 20230814,\n",
       "       20230816, 20230817, 20230818, 20230821, 20230822, 20230823,\n",
       "       20230824, 20230825, 20230828, 20230829, 20230830, 20230831,\n",
       "       20230901, 20230904, 20230905, 20230906, 20230907, 20230908,\n",
       "       20230911, 20230912, 20230913, 20230914, 20230915, 20230918,\n",
       "       20230919, 20230920, 20230921, 20230922, 20230925, 20230926,\n",
       "       20230927, 20230928, 20230929, 20231002, 20231003, 20231004,\n",
       "       20231005, 20231006, 20231009, 20231010, 20231011, 20231012,\n",
       "       20231013, 20231016, 20231017, 20231018, 20231019, 20231020,\n",
       "       20231023, 20231024, 20231025, 20231026, 20231027, 20231030,\n",
       "       20231031, 20231102, 20231103, 20231106, 20231107, 20231108,\n",
       "       20231109, 20231110, 20231113, 20231114, 20231115, 20231116,\n",
       "       20231117, 20231120, 20231121, 20231122, 20231123, 20231124,\n",
       "       20231127, 20231128, 20231129, 20231130, 20231201, 20231204,\n",
       "       20231205, 20231206, 20231207, 20231208, 20221211, 20221218,\n",
       "       20221225, 20221226, 20230101, 20230108, 20230115, 20230122,\n",
       "       20230129, 20230205, 20230212, 20230219, 20230226, 20230305,\n",
       "       20230312, 20230319, 20230326, 20230407, 20230409, 20230410,\n",
       "       20230501, 20230508, 20230518, 20230528, 20230529, 20230714,\n",
       "       20230815, 20231101, 20231111, 20230401, 20230402, 20230408,\n",
       "       20230415, 20230416, 20230422, 20230423, 20230429, 20230430,\n",
       "       20230506, 20230507, 20230513, 20230514, 20230520, 20230521,\n",
       "       20230527, 20230603, 20230604, 20230610, 20230611, 20230617,\n",
       "       20230618, 20230624, 20230625, 20230701, 20230702, 20230708,\n",
       "       20230709, 20230715, 20230716, 20230722, 20230723, 20230729,\n",
       "       20230730, 20230805, 20230806, 20230812, 20230813, 20230819,\n",
       "       20230820, 20230826, 20230827, 20230902, 20230903, 20230909,\n",
       "       20230910, 20230916, 20230917, 20230923, 20230924, 20230930,\n",
       "       20231001, 20231007, 20231008, 20231014, 20231015, 20231021,\n",
       "       20231022, 20231028, 20231029, 20231104, 20231105, 20231112,\n",
       "       20231118, 20231119, 20231125, 20231126, 20231202, 20231203,\n",
       "       20231209, 20221217, 20221224, 20221231, 20230107, 20230114,\n",
       "       20230121, 20230128, 20230204, 20230211, 20230218, 20230225,\n",
       "       20230304, 20230311, 20230318, 20230325])"
      ]
     },
     "execution_count": 23,
     "metadata": {},
     "output_type": "execute_result"
    }
   ],
   "source": [
    "df_calendar_dates['date'].unique()"
   ]
  },
  {
   "cell_type": "code",
   "execution_count": 24,
   "id": "607f7ed6-355a-4114-9b92-aff241f0951e",
   "metadata": {},
   "outputs": [
    {
     "data": {
      "text/plain": [
       "array([1])"
      ]
     },
     "execution_count": 24,
     "metadata": {},
     "output_type": "execute_result"
    }
   ],
   "source": [
    "df_calendar_dates['exception_type'].unique()"
   ]
  },
  {
   "cell_type": "markdown",
   "id": "8cd87276-5d1c-40b5-81dc-b62a34f369c5",
   "metadata": {},
   "source": [
    "# Feed info"
   ]
  },
  {
   "cell_type": "code",
   "execution_count": 25,
   "id": "21bbff3b-8e1e-402c-b311-94d53aac2d18",
   "metadata": {},
   "outputs": [
    {
     "data": {
      "text/html": [
       "<div>\n",
       "<style scoped>\n",
       "    .dataframe tbody tr th:only-of-type {\n",
       "        vertical-align: middle;\n",
       "    }\n",
       "\n",
       "    .dataframe tbody tr th {\n",
       "        vertical-align: top;\n",
       "    }\n",
       "\n",
       "    .dataframe thead th {\n",
       "        text-align: right;\n",
       "    }\n",
       "</style>\n",
       "<table border=\"1\" class=\"dataframe\">\n",
       "  <thead>\n",
       "    <tr style=\"text-align: right;\">\n",
       "      <th></th>\n",
       "      <th>feed_publisher_name</th>\n",
       "      <th>feed_publisher_url</th>\n",
       "      <th>feed_lang</th>\n",
       "      <th>feed_start_date</th>\n",
       "      <th>feed_end_date</th>\n",
       "      <th>feed_version</th>\n",
       "    </tr>\n",
       "  </thead>\n",
       "  <tbody>\n",
       "    <tr>\n",
       "      <th>0</th>\n",
       "      <td>VRN</td>\n",
       "      <td>https://vrn.de</td>\n",
       "      <td>DE</td>\n",
       "      <td>20221211</td>\n",
       "      <td>20231209</td>\n",
       "      <td>20230623</td>\n",
       "    </tr>\n",
       "  </tbody>\n",
       "</table>\n",
       "</div>"
      ],
      "text/plain": [
       "  feed_publisher_name feed_publisher_url feed_lang  feed_start_date  \\\n",
       "0                 VRN     https://vrn.de        DE         20221211   \n",
       "\n",
       "   feed_end_date  feed_version  \n",
       "0       20231209      20230623  "
      ]
     },
     "execution_count": 25,
     "metadata": {},
     "output_type": "execute_result"
    }
   ],
   "source": [
    "df_feed = pd.read_csv(\"datasets/Buses/feed_info.txt\")\n",
    "df_feed.head()"
   ]
  },
  {
   "cell_type": "markdown",
   "id": "73d64465-507a-4c0e-ac36-7ffda65e5f77",
   "metadata": {},
   "source": [
    "# Kaiserslautern Stadt_HaltestellenkatasterExport"
   ]
  },
  {
   "cell_type": "code",
   "execution_count": 11,
   "id": "8e43867a-de23-40bf-a143-59c03dcce89f",
   "metadata": {},
   "outputs": [
    {
     "data": {
      "text/html": [
       "<div>\n",
       "<style scoped>\n",
       "    .dataframe tbody tr th:only-of-type {\n",
       "        vertical-align: middle;\n",
       "    }\n",
       "\n",
       "    .dataframe tbody tr th {\n",
       "        vertical-align: top;\n",
       "    }\n",
       "\n",
       "    .dataframe thead th {\n",
       "        text-align: right;\n",
       "    }\n",
       "</style>\n",
       "<table border=\"1\" class=\"dataframe\">\n",
       "  <thead>\n",
       "    <tr style=\"text-align: right;\">\n",
       "      <th></th>\n",
       "      <th>Ort</th>\n",
       "      <th>Name</th>\n",
       "      <th>GlobaleID</th>\n",
       "      <th>Tarifzone</th>\n",
       "      <th>Kategorie</th>\n",
       "      <th>Aktiv</th>\n",
       "      <th>Ruftaxihaltestelle</th>\n",
       "      <th>Steige</th>\n",
       "      <th>Sonstiges</th>\n",
       "      <th>Weitere Namen</th>\n",
       "      <th>AGS</th>\n",
       "      <th>PLZ</th>\n",
       "      <th>Aufbaudatum</th>\n",
       "      <th>Reinigungsaufträge</th>\n",
       "      <th>Winterdienst</th>\n",
       "      <th>WartungDurch</th>\n",
       "      <th>Haltestellen Bild 1</th>\n",
       "      <th>Haltestellen Bild 2</th>\n",
       "      <th>Haltestellen Bild 3</th>\n",
       "      <th>Erhebungszeitpunkt</th>\n",
       "      <th>Erheber</th>\n",
       "    </tr>\n",
       "    <tr>\n",
       "      <th>Nr</th>\n",
       "      <th></th>\n",
       "      <th></th>\n",
       "      <th></th>\n",
       "      <th></th>\n",
       "      <th></th>\n",
       "      <th></th>\n",
       "      <th></th>\n",
       "      <th></th>\n",
       "      <th></th>\n",
       "      <th></th>\n",
       "      <th></th>\n",
       "      <th></th>\n",
       "      <th></th>\n",
       "      <th></th>\n",
       "      <th></th>\n",
       "      <th></th>\n",
       "      <th></th>\n",
       "      <th></th>\n",
       "      <th></th>\n",
       "      <th></th>\n",
       "      <th></th>\n",
       "    </tr>\n",
       "  </thead>\n",
       "  <tbody>\n",
       "    <tr>\n",
       "      <th>6211</th>\n",
       "      <td>Kaiserslautern</td>\n",
       "      <td>Marienkirche</td>\n",
       "      <td>de:07312:6211</td>\n",
       "      <td>800</td>\n",
       "      <td>NaN</td>\n",
       "      <td>J</td>\n",
       "      <td>N</td>\n",
       "      <td>2</td>\n",
       "      <td>NaN</td>\n",
       "      <td>NaN</td>\n",
       "      <td>7312000</td>\n",
       "      <td>NaN</td>\n",
       "      <td>00:00:00</td>\n",
       "      <td>NaN</td>\n",
       "      <td>NaN</td>\n",
       "      <td>NaN</td>\n",
       "      <td>NaN</td>\n",
       "      <td>NaN</td>\n",
       "      <td>NaN</td>\n",
       "      <td>2018-06-21 12:03:34</td>\n",
       "      <td>Sabine Rumold</td>\n",
       "    </tr>\n",
       "    <tr>\n",
       "      <th>6213</th>\n",
       "      <td>Kaiserslautern</td>\n",
       "      <td>Synagogenplatz</td>\n",
       "      <td>de:07312:6213</td>\n",
       "      <td>800</td>\n",
       "      <td>NaN</td>\n",
       "      <td>J</td>\n",
       "      <td>N</td>\n",
       "      <td>1</td>\n",
       "      <td>NaN</td>\n",
       "      <td>NaN</td>\n",
       "      <td>7312000</td>\n",
       "      <td>NaN</td>\n",
       "      <td>00:00:00</td>\n",
       "      <td>NaN</td>\n",
       "      <td>NaN</td>\n",
       "      <td>NaN</td>\n",
       "      <td>NaN</td>\n",
       "      <td>NaN</td>\n",
       "      <td>NaN</td>\n",
       "      <td>2018-06-22 12:34:57</td>\n",
       "      <td>Sabine Rumold</td>\n",
       "    </tr>\n",
       "    <tr>\n",
       "      <th>6214</th>\n",
       "      <td>Kaiserslautern</td>\n",
       "      <td>Kennedyplatz</td>\n",
       "      <td>de:07312:6214</td>\n",
       "      <td>800</td>\n",
       "      <td>NaN</td>\n",
       "      <td>J</td>\n",
       "      <td>N</td>\n",
       "      <td>2</td>\n",
       "      <td>NaN</td>\n",
       "      <td>NaN</td>\n",
       "      <td>7312000</td>\n",
       "      <td>NaN</td>\n",
       "      <td>00:00:00</td>\n",
       "      <td>NaN</td>\n",
       "      <td>NaN</td>\n",
       "      <td>NaN</td>\n",
       "      <td>NaN</td>\n",
       "      <td>NaN</td>\n",
       "      <td>NaN</td>\n",
       "      <td>2018-06-22 12:45:26</td>\n",
       "      <td>Sabine Rumold</td>\n",
       "    </tr>\n",
       "    <tr>\n",
       "      <th>6215</th>\n",
       "      <td>Kaiserslautern</td>\n",
       "      <td>Nachtschicht</td>\n",
       "      <td>de:07312:6215</td>\n",
       "      <td>800</td>\n",
       "      <td>NaN</td>\n",
       "      <td>J</td>\n",
       "      <td>N</td>\n",
       "      <td>2</td>\n",
       "      <td>NaN</td>\n",
       "      <td>NaN</td>\n",
       "      <td>7312000</td>\n",
       "      <td>NaN</td>\n",
       "      <td>00:00:00</td>\n",
       "      <td>NaN</td>\n",
       "      <td>NaN</td>\n",
       "      <td>NaN</td>\n",
       "      <td>NaN</td>\n",
       "      <td>NaN</td>\n",
       "      <td>NaN</td>\n",
       "      <td>2017-08-07 08:49:07</td>\n",
       "      <td>Sabine Rumold</td>\n",
       "    </tr>\n",
       "    <tr>\n",
       "      <th>6221</th>\n",
       "      <td>Kaiserslautern</td>\n",
       "      <td>Pfaffplatz</td>\n",
       "      <td>de:07312:6221</td>\n",
       "      <td>800</td>\n",
       "      <td>NaN</td>\n",
       "      <td>J</td>\n",
       "      <td>N</td>\n",
       "      <td>4</td>\n",
       "      <td>NaN</td>\n",
       "      <td>NaN</td>\n",
       "      <td>7312000</td>\n",
       "      <td>NaN</td>\n",
       "      <td>00:00:00</td>\n",
       "      <td>NaN</td>\n",
       "      <td>NaN</td>\n",
       "      <td>NaN</td>\n",
       "      <td>NaN</td>\n",
       "      <td>NaN</td>\n",
       "      <td>NaN</td>\n",
       "      <td>2021-06-17 00:00:00</td>\n",
       "      <td>Brass</td>\n",
       "    </tr>\n",
       "  </tbody>\n",
       "</table>\n",
       "</div>"
      ],
      "text/plain": [
       "                 Ort            Name      GlobaleID  Tarifzone  Kategorie  \\\n",
       "Nr                                                                          \n",
       "6211  Kaiserslautern    Marienkirche  de:07312:6211        800        NaN   \n",
       "6213  Kaiserslautern  Synagogenplatz  de:07312:6213        800        NaN   \n",
       "6214  Kaiserslautern    Kennedyplatz  de:07312:6214        800        NaN   \n",
       "6215  Kaiserslautern    Nachtschicht  de:07312:6215        800        NaN   \n",
       "6221  Kaiserslautern      Pfaffplatz  de:07312:6221        800        NaN   \n",
       "\n",
       "     Aktiv Ruftaxihaltestelle  Steige Sonstiges  Weitere Namen      AGS  PLZ  \\\n",
       "Nr                                                                             \n",
       "6211     J                  N       2       NaN            NaN  7312000  NaN   \n",
       "6213     J                  N       1       NaN            NaN  7312000  NaN   \n",
       "6214     J                  N       2       NaN            NaN  7312000  NaN   \n",
       "6215     J                  N       2       NaN            NaN  7312000  NaN   \n",
       "6221     J                  N       4       NaN            NaN  7312000  NaN   \n",
       "\n",
       "     Aufbaudatum  Reinigungsaufträge  Winterdienst  WartungDurch  \\\n",
       "Nr                                                                 \n",
       "6211    00:00:00                 NaN           NaN           NaN   \n",
       "6213    00:00:00                 NaN           NaN           NaN   \n",
       "6214    00:00:00                 NaN           NaN           NaN   \n",
       "6215    00:00:00                 NaN           NaN           NaN   \n",
       "6221    00:00:00                 NaN           NaN           NaN   \n",
       "\n",
       "     Haltestellen Bild 1 Haltestellen Bild 2 Haltestellen Bild 3  \\\n",
       "Nr                                                                 \n",
       "6211                 NaN                 NaN                 NaN   \n",
       "6213                 NaN                 NaN                 NaN   \n",
       "6214                 NaN                 NaN                 NaN   \n",
       "6215                 NaN                 NaN                 NaN   \n",
       "6221                 NaN                 NaN                 NaN   \n",
       "\n",
       "       Erhebungszeitpunkt         Erheber  \n",
       "Nr                                         \n",
       "6211  2018-06-21 12:03:34  Sabine Rumold   \n",
       "6213  2018-06-22 12:34:57  Sabine Rumold   \n",
       "6214  2018-06-22 12:45:26  Sabine Rumold   \n",
       "6215  2017-08-07 08:49:07   Sabine Rumold  \n",
       "6221  2021-06-17 00:00:00           Brass  "
      ]
     },
     "execution_count": 11,
     "metadata": {},
     "output_type": "execute_result"
    }
   ],
   "source": [
    "df_kataster = pd.read_excel(\"datasets/Buses/Kaiserslautern Stadt_HaltestellenkatasterExport_12.04.2023_09-41-00.xlsx\",\n",
    "                           index_col=0)\n",
    "df_kataster.head()"
   ]
  },
  {
   "cell_type": "code",
   "execution_count": 18,
   "id": "403bf11f-ea9b-4cf3-a74f-6e449bc2b3a8",
   "metadata": {},
   "outputs": [
    {
     "data": {
      "text/html": [
       "<div>\n",
       "<style scoped>\n",
       "    .dataframe tbody tr th:only-of-type {\n",
       "        vertical-align: middle;\n",
       "    }\n",
       "\n",
       "    .dataframe tbody tr th {\n",
       "        vertical-align: top;\n",
       "    }\n",
       "\n",
       "    .dataframe thead th {\n",
       "        text-align: right;\n",
       "    }\n",
       "</style>\n",
       "<table border=\"1\" class=\"dataframe\">\n",
       "  <thead>\n",
       "    <tr style=\"text-align: right;\">\n",
       "      <th></th>\n",
       "      <th>Ort</th>\n",
       "      <th>Name</th>\n",
       "      <th>GlobaleID</th>\n",
       "      <th>Tarifzone</th>\n",
       "      <th>Kategorie</th>\n",
       "      <th>Aktiv</th>\n",
       "      <th>Ruftaxihaltestelle</th>\n",
       "      <th>Steige</th>\n",
       "      <th>Sonstiges</th>\n",
       "      <th>Weitere Namen</th>\n",
       "      <th>AGS</th>\n",
       "      <th>PLZ</th>\n",
       "      <th>Aufbaudatum</th>\n",
       "      <th>Reinigungsaufträge</th>\n",
       "      <th>Winterdienst</th>\n",
       "      <th>WartungDurch</th>\n",
       "      <th>Haltestellen Bild 1</th>\n",
       "      <th>Haltestellen Bild 2</th>\n",
       "      <th>Haltestellen Bild 3</th>\n",
       "      <th>Erhebungszeitpunkt</th>\n",
       "      <th>Erheber</th>\n",
       "    </tr>\n",
       "  </thead>\n",
       "  <tbody>\n",
       "    <tr>\n",
       "      <th>0</th>\n",
       "      <td>Kaiserslautern</td>\n",
       "      <td>Marienkirche</td>\n",
       "      <td>de:07312:6211</td>\n",
       "      <td>800</td>\n",
       "      <td>NaN</td>\n",
       "      <td>J</td>\n",
       "      <td>N</td>\n",
       "      <td>2</td>\n",
       "      <td>NaN</td>\n",
       "      <td>NaN</td>\n",
       "      <td>7312000</td>\n",
       "      <td>NaN</td>\n",
       "      <td>00:00:00</td>\n",
       "      <td>NaN</td>\n",
       "      <td>NaN</td>\n",
       "      <td>NaN</td>\n",
       "      <td>NaN</td>\n",
       "      <td>NaN</td>\n",
       "      <td>NaN</td>\n",
       "      <td>2018-06-21 12:03:34</td>\n",
       "      <td>Sabine Rumold</td>\n",
       "    </tr>\n",
       "    <tr>\n",
       "      <th>1</th>\n",
       "      <td>Kaiserslautern</td>\n",
       "      <td>Synagogenplatz</td>\n",
       "      <td>de:07312:6213</td>\n",
       "      <td>800</td>\n",
       "      <td>NaN</td>\n",
       "      <td>J</td>\n",
       "      <td>N</td>\n",
       "      <td>1</td>\n",
       "      <td>NaN</td>\n",
       "      <td>NaN</td>\n",
       "      <td>7312000</td>\n",
       "      <td>NaN</td>\n",
       "      <td>00:00:00</td>\n",
       "      <td>NaN</td>\n",
       "      <td>NaN</td>\n",
       "      <td>NaN</td>\n",
       "      <td>NaN</td>\n",
       "      <td>NaN</td>\n",
       "      <td>NaN</td>\n",
       "      <td>2018-06-22 12:34:57</td>\n",
       "      <td>Sabine Rumold</td>\n",
       "    </tr>\n",
       "    <tr>\n",
       "      <th>2</th>\n",
       "      <td>Kaiserslautern</td>\n",
       "      <td>Kennedyplatz</td>\n",
       "      <td>de:07312:6214</td>\n",
       "      <td>800</td>\n",
       "      <td>NaN</td>\n",
       "      <td>J</td>\n",
       "      <td>N</td>\n",
       "      <td>2</td>\n",
       "      <td>NaN</td>\n",
       "      <td>NaN</td>\n",
       "      <td>7312000</td>\n",
       "      <td>NaN</td>\n",
       "      <td>00:00:00</td>\n",
       "      <td>NaN</td>\n",
       "      <td>NaN</td>\n",
       "      <td>NaN</td>\n",
       "      <td>NaN</td>\n",
       "      <td>NaN</td>\n",
       "      <td>NaN</td>\n",
       "      <td>2018-06-22 12:45:26</td>\n",
       "      <td>Sabine Rumold</td>\n",
       "    </tr>\n",
       "    <tr>\n",
       "      <th>3</th>\n",
       "      <td>Kaiserslautern</td>\n",
       "      <td>Nachtschicht</td>\n",
       "      <td>de:07312:6215</td>\n",
       "      <td>800</td>\n",
       "      <td>NaN</td>\n",
       "      <td>J</td>\n",
       "      <td>N</td>\n",
       "      <td>2</td>\n",
       "      <td>NaN</td>\n",
       "      <td>NaN</td>\n",
       "      <td>7312000</td>\n",
       "      <td>NaN</td>\n",
       "      <td>00:00:00</td>\n",
       "      <td>NaN</td>\n",
       "      <td>NaN</td>\n",
       "      <td>NaN</td>\n",
       "      <td>NaN</td>\n",
       "      <td>NaN</td>\n",
       "      <td>NaN</td>\n",
       "      <td>2017-08-07 08:49:07</td>\n",
       "      <td>Sabine Rumold</td>\n",
       "    </tr>\n",
       "    <tr>\n",
       "      <th>4</th>\n",
       "      <td>Kaiserslautern</td>\n",
       "      <td>Pfaffplatz</td>\n",
       "      <td>de:07312:6221</td>\n",
       "      <td>800</td>\n",
       "      <td>NaN</td>\n",
       "      <td>J</td>\n",
       "      <td>N</td>\n",
       "      <td>4</td>\n",
       "      <td>NaN</td>\n",
       "      <td>NaN</td>\n",
       "      <td>7312000</td>\n",
       "      <td>NaN</td>\n",
       "      <td>00:00:00</td>\n",
       "      <td>NaN</td>\n",
       "      <td>NaN</td>\n",
       "      <td>NaN</td>\n",
       "      <td>NaN</td>\n",
       "      <td>NaN</td>\n",
       "      <td>NaN</td>\n",
       "      <td>2021-06-17 00:00:00</td>\n",
       "      <td>Brass</td>\n",
       "    </tr>\n",
       "  </tbody>\n",
       "</table>\n",
       "</div>"
      ],
      "text/plain": [
       "              Ort            Name      GlobaleID  Tarifzone  Kategorie Aktiv  \\\n",
       "0  Kaiserslautern    Marienkirche  de:07312:6211        800        NaN     J   \n",
       "1  Kaiserslautern  Synagogenplatz  de:07312:6213        800        NaN     J   \n",
       "2  Kaiserslautern    Kennedyplatz  de:07312:6214        800        NaN     J   \n",
       "3  Kaiserslautern    Nachtschicht  de:07312:6215        800        NaN     J   \n",
       "4  Kaiserslautern      Pfaffplatz  de:07312:6221        800        NaN     J   \n",
       "\n",
       "  Ruftaxihaltestelle  Steige Sonstiges  Weitere Namen      AGS  PLZ  \\\n",
       "0                  N       2       NaN            NaN  7312000  NaN   \n",
       "1                  N       1       NaN            NaN  7312000  NaN   \n",
       "2                  N       2       NaN            NaN  7312000  NaN   \n",
       "3                  N       2       NaN            NaN  7312000  NaN   \n",
       "4                  N       4       NaN            NaN  7312000  NaN   \n",
       "\n",
       "  Aufbaudatum  Reinigungsaufträge  Winterdienst  WartungDurch  \\\n",
       "0    00:00:00                 NaN           NaN           NaN   \n",
       "1    00:00:00                 NaN           NaN           NaN   \n",
       "2    00:00:00                 NaN           NaN           NaN   \n",
       "3    00:00:00                 NaN           NaN           NaN   \n",
       "4    00:00:00                 NaN           NaN           NaN   \n",
       "\n",
       "  Haltestellen Bild 1 Haltestellen Bild 2 Haltestellen Bild 3  \\\n",
       "0                 NaN                 NaN                 NaN   \n",
       "1                 NaN                 NaN                 NaN   \n",
       "2                 NaN                 NaN                 NaN   \n",
       "3                 NaN                 NaN                 NaN   \n",
       "4                 NaN                 NaN                 NaN   \n",
       "\n",
       "    Erhebungszeitpunkt         Erheber  \n",
       "0  2018-06-21 12:03:34  Sabine Rumold   \n",
       "1  2018-06-22 12:34:57  Sabine Rumold   \n",
       "2  2018-06-22 12:45:26  Sabine Rumold   \n",
       "3  2017-08-07 08:49:07   Sabine Rumold  \n",
       "4  2021-06-17 00:00:00           Brass  "
      ]
     },
     "execution_count": 18,
     "metadata": {},
     "output_type": "execute_result"
    }
   ],
   "source": [
    "df_kataster.index = pd.RangeIndex(len(df_kataster))\n",
    "df_kataster.index\n",
    "df_kataster.head()"
   ]
  },
  {
   "cell_type": "code",
   "execution_count": 32,
   "id": "c0c2805f-3415-43fe-9f69-0d6c5aac1831",
   "metadata": {},
   "outputs": [
    {
     "data": {
      "text/plain": [
       "296"
      ]
     },
     "execution_count": 32,
     "metadata": {},
     "output_type": "execute_result"
    }
   ],
   "source": [
    "len(df_kataster['Name'].unique())"
   ]
  },
  {
   "cell_type": "code",
   "execution_count": 34,
   "id": "fd9a71c5-db35-48b5-848e-ce7720691e7e",
   "metadata": {},
   "outputs": [
    {
     "data": {
      "text/plain": [
       "305"
      ]
     },
     "execution_count": 34,
     "metadata": {},
     "output_type": "execute_result"
    }
   ],
   "source": [
    "len(df_kataster['GlobaleID'].unique())"
   ]
  },
  {
   "cell_type": "code",
   "execution_count": 35,
   "id": "7c48f402-138d-4147-afbb-3d77b40755d4",
   "metadata": {},
   "outputs": [
    {
     "data": {
      "text/plain": [
       "array([800, 801, 822, 847])"
      ]
     },
     "execution_count": 35,
     "metadata": {},
     "output_type": "execute_result"
    }
   ],
   "source": [
    "df_kataster['Tarifzone'].unique()"
   ]
  },
  {
   "cell_type": "code",
   "execution_count": 36,
   "id": "534452af-5f0c-4ff4-838b-8cb6434543e2",
   "metadata": {},
   "outputs": [
    {
     "data": {
      "text/plain": [
       "array([nan])"
      ]
     },
     "execution_count": 36,
     "metadata": {},
     "output_type": "execute_result"
    }
   ],
   "source": [
    "df_kataster['Kategorie'].unique()"
   ]
  },
  {
   "cell_type": "code",
   "execution_count": 37,
   "id": "699a306b-815c-41e3-a8b5-3f7015d5581c",
   "metadata": {},
   "outputs": [
    {
     "data": {
      "text/plain": [
       "array(['J', 'N'], dtype=object)"
      ]
     },
     "execution_count": 37,
     "metadata": {},
     "output_type": "execute_result"
    }
   ],
   "source": [
    "df_kataster['Aktiv'].unique()"
   ]
  },
  {
   "cell_type": "code",
   "execution_count": 38,
   "id": "13c098ca-d4a0-4f53-885b-f4ec57d2c69a",
   "metadata": {},
   "outputs": [
    {
     "data": {
      "text/html": [
       "<div>\n",
       "<style scoped>\n",
       "    .dataframe tbody tr th:only-of-type {\n",
       "        vertical-align: middle;\n",
       "    }\n",
       "\n",
       "    .dataframe tbody tr th {\n",
       "        vertical-align: top;\n",
       "    }\n",
       "\n",
       "    .dataframe thead th {\n",
       "        text-align: right;\n",
       "    }\n",
       "</style>\n",
       "<table border=\"1\" class=\"dataframe\">\n",
       "  <thead>\n",
       "    <tr style=\"text-align: right;\">\n",
       "      <th></th>\n",
       "      <th>Name</th>\n",
       "    </tr>\n",
       "    <tr>\n",
       "      <th>Nr</th>\n",
       "      <th></th>\n",
       "    </tr>\n",
       "  </thead>\n",
       "  <tbody>\n",
       "    <tr>\n",
       "      <th>91170</th>\n",
       "      <td>Geschwister-Scholl-Schule</td>\n",
       "    </tr>\n",
       "    <tr>\n",
       "      <th>91297</th>\n",
       "      <td>Abzw.</td>\n",
       "    </tr>\n",
       "    <tr>\n",
       "      <th>91298</th>\n",
       "      <td>Sammelpunkt Stresemannschule</td>\n",
       "    </tr>\n",
       "    <tr>\n",
       "      <th>91301</th>\n",
       "      <td>Sammelpunkt Theo.-Heuss Schule</td>\n",
       "    </tr>\n",
       "    <tr>\n",
       "      <th>91342</th>\n",
       "      <td>Zentraler Betriebshof</td>\n",
       "    </tr>\n",
       "  </tbody>\n",
       "</table>\n",
       "</div>"
      ],
      "text/plain": [
       "                                 Name\n",
       "Nr                                   \n",
       "91170       Geschwister-Scholl-Schule\n",
       "91297                           Abzw.\n",
       "91298    Sammelpunkt Stresemannschule\n",
       "91301  Sammelpunkt Theo.-Heuss Schule\n",
       "91342           Zentraler Betriebshof"
      ]
     },
     "execution_count": 38,
     "metadata": {},
     "output_type": "execute_result"
    }
   ],
   "source": [
    "df_kataster[df_kataster['Aktiv']=='N'].filter(items=['Name'])"
   ]
  },
  {
   "cell_type": "code",
   "execution_count": 39,
   "id": "fa17f3a7-b341-4187-b24b-d1c8dffa85c5",
   "metadata": {},
   "outputs": [
    {
     "data": {
      "text/plain": [
       "array(['N'], dtype=object)"
      ]
     },
     "execution_count": 39,
     "metadata": {},
     "output_type": "execute_result"
    }
   ],
   "source": [
    "df_kataster['Ruftaxihaltestelle'].unique()"
   ]
  },
  {
   "cell_type": "code",
   "execution_count": 79,
   "id": "7caa134a-eaa9-43b2-9f62-7289a3869956",
   "metadata": {},
   "outputs": [
    {
     "data": {
      "text/plain": [
       "array([ 2,  1,  4,  7,  3, 26,  0])"
      ]
     },
     "execution_count": 79,
     "metadata": {},
     "output_type": "execute_result"
    }
   ],
   "source": [
    "df_kataster['Steige'].unique()"
   ]
  },
  {
   "cell_type": "code",
   "execution_count": 5,
   "id": "b93de56b-614f-4d8d-9648-3428bb7422b8",
   "metadata": {},
   "outputs": [
    {
     "data": {
      "application/vnd.jupyter.widget-view+json": {
       "model_id": "46f162ad6ac0456991182c80e4bb85c1",
       "version_major": 2,
       "version_minor": 0
      },
      "image/png": "[encoded data removed]",
      "text/html": [
       "\n",
       "            <div style=\"display: inline-block;\">\n",
       "                <div class=\"jupyter-widgets widget-label\" style=\"text-align: center;\">\n",
       "                    Figure\n",
       "                </div>\n",
       "                <img src='data:image/png;base64,iVBORw0KGgoAAAANSUhEUgAAAyAAAAGQCAYAAABWJQQ0AAAAOXRFWHRTb2Z0d2FyZQBNYXRwbG90bGliIHZlcnNpb24zLjQuMywgaHR0cHM6Ly9tYXRwbG90bGliLm9yZy/MnkTPAAAACXBIWXMAAA9hAAAPYQGoP6dpAACDoElEQVR4nO3dd3xTdd/G8U+S7kUnLWWWIXvLUpAhogwR1AICCqKiiKCiAnorCrciiiIiIuJWREEQUES8WYKDISBL9ixQRllldDfn+aPShw7oSnua9nr7ykuSk5xcmT3f/JbFMAwDERERERGRImA1O4CIiIiIiJQeKkBERERERKTIqAAREREREZEiowJERERERESKjAoQEREREREpMipARERERESkyKgAERERERGRIqMCRKSYeeWVV7BYLOmnzz//3OxIpvn111/p2rUrISEh2Gy29OfkqaeeMjtakRk4cGCG98Ovv/5qdiQx0ebNm4mMjCQ8PBwXF5f090WPHj0cej+//vprhvfdwIEDHbp/ESndXMwOIJIXFoslw/nQ0FAOHDiAl5dXhstfeeUVxo4dm37+5Zdf5pVXXimKiOIgS5YsoWvXrtjtdrOj5Mvnn3/OoUOH0s8/9dRT+Pv7m5YnP86fP8/kyZPTz1epUqVIDkTvvPNOFi1axO23386SJUsK/f5yUlxeyy1btnDTTTcRHx+f730sWLCAzZs3p58fOHAgVapUKXi4IvT555/z4IMPZrvN3d0df39/atSowa233sqQIUMIDQ0t4oQikhMVIOLUTp48yfTp0xkxYoTZUcTBXn311QzFh81mIygoCIvFgp+fn4nJcufzzz9n1apV6ecHDhyYr4PWMmXKZDiAcnNzc0S8XDl//nyGQr5t27aFXoDEx8ezfPlyIK0QKQ4c9VoW1MSJEzMUHxaLhaCgIGw2GwEBAbnax4IFC/jiiy/Sz7dr187pCpDrSUxM5OTJk5w8eZLff/+dyZMns2TJElq2bGl2NBG5igoQcXpvvvkmQ4YMwdPT0+wo4kB///13+r/d3d3Zu3cvFStWNDGROd59913effdds2MUmeXLl6cfZHfr1s3kNMXL1Z8JgHXr1tGsWTOT0hQfrq6uBAYGAnDhwoUMRVpsbCwPPvggO3fuNCueiGRDY0DE6V1pBZGSJS4uLv3fYWFhpbL4KI1+/PFHABo0aEDlypVNTlO8XP2ZAFR8/Oumm27ixIkTnDhxgsuXL2foNgiwa9cu9u3bZ044EcmWChApEd5888089Ytu165dhgGWV/fvhrQuF1dvzzx+JLvbL1q0iDZt2uDj40NoaCgDBw4kOjoaALvdzuTJk6lbty4eHh6UL1+eIUOGcPbs2VzlPXXqFEOGDKFChQp4eHhQs2ZNXnvtNRITE695m/379/P000/ToEEDypQpg4eHR3of/i1btmR7m+wGwO/fv5/777+fcuXKYbPZ8jyWZv369QwaNIgbbrgBHx8fPD09qVKlCn369GHp0qVZrl+lSpUsY30OHz6c74HYUVFRDBgwgNDQUDw9Palfvz6TJk0iNTU1x/cBQEpKCjNnzqRbt26UK1cONzc3AgICaN26NVOmTMnyGlwZNH51lx2AiIiIfD2GnAahX73tSleab775hptvvhlfX198fX3p0KEDq1evzu1Tlr7fiIiIDJetWrUq2/u7Wl5f76sZhsGiRYuA7LtfXTm4bN++PSEhIem/fLds2ZJx48Zx+vTpaz6W62W+1nPs6Nfyil27dvHEE09Qr149/Pz8cHd3p3z58vTo0YPvvvsuy7inK+/TzO/PvExWceWzfXX3K4D27dvnej/JyclMnDiRevXq4eHhQUhICH379s32c3PF+fPnmTBhAq1btyYoKAg3NzfCwsK48847Wbhw4XUz54fFYuHJJ5+kTJkyGS6PiYnJcL6gfwOSkpKYOnUq7dq1o2zZsri6uuLr60tERAQdO3bkpZdeYt26ddlmzM93M8APP/xAjx49qFSpEh4eHnh6elKhQgVatGjBk08+ybx583L/RImYzRBxIkCGU/ny5dP/PXny5PTrvfzyyxmu9/LLL2fYT9u2bTNsP3jwYIbtn332WZ5u/8QTT2TJBhiVKlUyTp06ZXTv3j3b7Q0bNjQSEhIy7Dtz9hdffNEoV65ctrdv27atER8fn+V5+uCDDww3N7dsbwMYVqvVmDRpUpbbZb7v4cOHG76+vtd9Lq7FbrcbI0aMuGaGK6c+ffpkeA4qV66c421WrlyZqwzbtm0zgoKCst1H165djZtvvvm674Po6GijRYsW181Sv35948iRI+m3GTBgQI758/IYMu8v8+2u3laxYkVj4MCB2d6fq6trru8z836vdapcuXL69fP7el9tw4YN6ddbu3Zthm1btmwxqlSpct19BwUFGcuXL7/uY7k6c07PsaNfS8MwjLffftuw2WzX3V+HDh2Ms2fPpt8m8/dNdqfPPvvsuveb+bOd035WrlyZ4fJ77rnHaN26dba3CQ8PN2JiYrLc5x9//GGEhYVd9/569+5tJCYm5vr5M4ys389t27bNsD01NdXw9vbOcJ2rP6PZPad5+RuQmppqdOjQIcfn8p577smS3VHfzdd6/4s4C7WAiFMbNWpU+r/feOMNEhISTMkxdepUgCyzcUVFRdG0aVN++OEHgCzjVLZs2ZLjL5fjx4/n+PHjuLm54eKScdjWqlWrsvwyN3fuXIYMGUJSUlL6ZS4uLnh7e6eft9vtjBgxgrlz5173vqdMmcLFixexWq15HnQ7fvx4Jk2alOEym82Gu7t7hsu+/fZbhg8fnn4+JCQky6w1VquV0NDQ9FNuBmInJyfTu3dvzpw5k+HyK6/BTz/9xB9//HHN2yclJdGtW7csv2L6+vpmaKHZtm0b3bt3T3++rwwad3V1zXC74ODgPD+GvDpy5Ej6+ynzey05OTnD5yUnoaGhBAcHZ7jM1dU1w2MICQlJ35bf1/tqV7pfhYaG0rx58/TLY2Ji6Ny5c5ZfqTN/3s6cOUOPHj3Ys2dP7h5kDhz9Wn799dc888wzpKampl9msViyvFYrVqygT58+6ecDAwMJDQ3Fas34J/vqDDmNgbvSMuvh4ZHh8oCAgFztZ968efz+++8AWfYRHR3NxIkTM1y2f/9+unbtyokTJzI81swTSMyePduhk4jExsby0ksvcfny5fTLunXrRoUKFRx2H4sXL2bFihUZLvPx8cnwHZud/H43nzt3jvHjx2fYl4eHR5ZWHhGnYnYFJJIXZPrFJyEhwQgPD08//+677xqGUfQtIAEBAcZvv/1mGIZhzJ49O0vOKlWqGDt27DAMwzBeeeWVDNvuvPPODPvO7peut99+20hISDDi4uKM5557LsM2Ly8v4/z584ZhGEZSUpJRqVKlDL+mvffee0ZSUpJhGIbx888/G56enhl+DU5OTr7ufffr1y/9182zZ88aO3fuzPF1OnXqlOHl5ZXlOYyLizOSkpKMGTNmZPgV2GKxGNu3b7/ma53dr9Y5mTVrVpbnacGCBUZqaqoRHR1ttGnTJstjvfp98OGHH2bY1rx5c2P37t3pz0PPnj0zbJ8xY0aG+8/pPZZbeWkBgbRWt02bNhmGYRhLly413N3dM2w/c+ZMru/74MGD1/2l+QpHvN6GYRhNmzY1AGPQoEEZLs/8nq9evbqxZcsWwzAM49ChQ1laqXr16nXN5ygvLSBXOOK1TExMzNBiCxgPP/ywERsba6SkpBjz58/P8qv94sWLM+wjc+tgfuT0WK/I3AICGB07djROnDhhpKSkGOPHj8+wrX79+hluf99992XYPmjQoPRWnZ07dxo1a9bM8D21a9euXD+GzN/P1zv16NHDOHfuXJZ9FORvwNWP3c3Nzfjrr7/St505c8ZYvXq1MXLkSGP06NHplxfku/nPP//MkGXq1KlGamqqYRiGcenSJWPLli3GG2+8YXTv3j3Xz6GI2VSAiFPJ/MfFMAxjypQp6efDw8ON+Pj4Ii9Axo0bl74tNTU1y0Hfl19+mb49Ojo6w7a6detm2Hfm7O3bt8+w3W63G9WrV89wnfnz5xuGYRirVq3KcHnv3r2zPIeDBw/OcJ1Vq1Zd874rVKiQ5+4R2T1/N954Y5br3HvvvRmuM3bs2AzbczpozEnfvn0z7GPEiBEZtu/du9ewWq3XfB+0b98+w7bMhVfm1zHz62RWAbJgwYIM2zN3Fbn6YCknuS1AHPF6Hzt2zLBYLBnez1dk7nq1aNGiDNu3bduWYbunp2eGbl45vZeKogDJfEAfHh6efvB5xbPPPpvhOg8++GCG7WYWIO7u7saJEyfSt6ekpGToSuTt7Z2+LSEhIcPBdHh4ePoB8xWZfyDI/H64nrwUIFWqVDF+/vnnLPsoyN+Aq//meHh4GOvXr88xc0G+m7du3Zrh8mnTphkpKSm5fr5EiiN1wRKn98gjjxAeHg6kdQX46KOPijxDhw4d0v9ttVoJCgrKsL19+/bp/87cvejqrgLZufXWWzOct1gstGvXLsNlO3bsAGDr1q0ZLp89e3aGgZQWi4UZM2ZkuM6GDRuued+9e/fOV1eh7du3ZzjfsWPHLNfJ/Li2bduW5/u5nivPyRW33XZbhvPVq1e/7voHmZ/L2rVrZ3ger7znrrje81hUbDYbXbt2zXBZ2bJlM5zP6f2WH454vRctWoRhGLi7u2d4rS5dupSl61XmfdWrVy/D5yo+Pr7YzXqU+Tm65ZZbsnTtKuzPREG0aNEiw3Nss9nSp76FjO+rvXv3ZpgUJDo6GpvNluHz07dv3wz7L8jn5+qugZm7eB06dIgePXo49Lns3LlzenfYhIQEmjdvTpkyZWjRogUDBw5k+vTpHD9+PMNtCvLdXLduXapWrZp++eOPP463tzf169enV69eTJgwIcv+RYo7FSDi9Dw8PLKMBbne7FDZMQwjw/nk5OQ83T5zUZH5wOLq7Zn7cWe+78yu7md/Rea++RcvXgTS+j/n1bVmDgLyvUBZ5hzZPYbMl+Un+/VceU6uyHwgfq3L8pvn4sWLGfp2myE0NDTLOKHMBWRO77f8cMTrfWX8R4cOHTL0ic98PV9f3yxjEHKz/yuye/x5/bznR3H4TBREdmMorvXjhKO/h3Jy9TS8sbGx7N27l0aNGqVvT0xMzHEtnbz8DahevTozZ87M8EPThQsXWL9+PV988QVDhgyhUqVKvP766+nbC/KcWK1W5s+fT506ddK3JSYmsn37dr777juef/55GjZsyD333JPnv30iZtFChFIiDB48mAkTJnD8+HGOHTvGV199dd3rZ57mNfOB49GjR/N0/5kP+jLLXJDkRXZ/mDNfduVXv8yDEn19fbMM1M0su4O5K3x8fHIbM4OcpsDM7jJHD6jM/Eto5sHo18p1dZ4rt7FYLNctVq5ISUkp0pXKM8vufZb5vV4YCvp6X2/188z7vnjxIgkJCVnet7l9P2VXJOb1854fxeEzURB5eW9lzu3u7p7jJBaZP68FUb16dZ5//nl69+6dftnmzZszXKegfwN69+7NXXfdxfLly1m3bh179+7ln3/+SW9pSUlJ4YUXXuCOO+6gcePGBf5ubtCgAdu3b2ft2rWsXr2aXbt2sWfPHjZs2JCe/fvvv+eDDz7gqaeeuu5+RYoDFSBSIlxpBbnyxXvs2LHrXj/zF//x48epWbNm+vkraxEUBytWrOCFF15IP28YRpZ1B2rXrg2k/ZG62l133XXdYswwjEI5QK1Xr16G88uWLcvwayCQfsB5Rf369R2aoU6dOhlWjl61alWGrj379+/n4MGD17x9gwYNWLlyJZD2PP3+++9Ur179mte32+0ZWrcyt3RdPfORs8jtYyjo671s2bJrrn7u4+NDlSpVMnTDWr58eYauZtu3b+fkyZPp5z09PTO8Vl5eXumL+J05c4bk5OT0A+pTp06xfv36bB/XFY54LTM/R6tXr86QAwr/MwFF876sUaMGnp6e6a9pWFgYBw4cyHLfV8u89klBZW7RyNz10BF/Azw8POjatWuG9+KMGTN49NFH08//+uuvNG7c2CHfzRaLhVatWtGqVav0y/bs2ZMh98qVK1WAiFNQFywpMR599FHKlSuXq+te3Z8WYOLEicTFxREXF8cLL7zApk2bCiNivixfvpzJkyeTlJREfHw8o0aNytC/3cvLK32MSatWrTKsGP7111/z+uuvc+7cufTLLl68yO+//85//vOfLAvNOUrXrl0zTOe5YcMGXnnlFeLj40lOTuajjz5i/vz56dstFgt33323QzNk/iX9vffe43//+x+GYXD8+HEGDRp03YOeXr16ZTgfGRnJ2rVr0w9sDMPg4MGDfPHFF9x1111ZDrgz/+KZeTE7Z5D5MezatYtTp05luV5BX+8rB3uNGjXKdsX7e++9N8P5p59+Or3P++HDh3n44YczbO/WrVuG6X+v/rwnJyczYcIE7HY7p06d4v77789x+m5HvJY33XRThnFD0dHRPP7441y4cAG73c7ChQv54IMPMtwm8+N2hMyPJa8LVOaGu7s73bt3Tz9/+PBh+vXrx4EDB9IvS0pKYuvWrbzzzju0aNGC3377zWH3v2/fviyfxxo1amQ4X5C/AUuWLKF///7Mnz8/wzTDcXFxWRYSvNKVqyDfzbGxsdx666188skn7Nu3L/17y263Z5kmvCi6E4o4hBkj30Xyi0wznGQ2efLkbGdCyTyL1c8//5zlOq6uroaLi0uubp/TDCo5zVZz9bbMs/Jca8EpNze3bPONGjUqw+3nzJmT7e3LlClj+Pn5Xfc5zHzfOS1udj2vvvpqlvuy2WxZZggDjEceeSRPz1FuJCUlGXXq1MlyX1dPF3tl1qXsXsfExESjcePGWW7v4uJiBAUFZVlMLPN7ZMyYMdm+BqGhoVmmLL2evMyClZ8ZnnJy9dShV17DkJAQIzQ01Hj11VfTr5ff19tut6dPpf3SSy9lm+HUqVPZLsaZedpawPDx8ckypeuoUaOyXO/qWZoynzI/R456Lb/66qss+7FYLNlm6dSpU5bbO2IWrE8//TTb5yw0NNQIDQ1Nnz0s8yxYAwYMyFOevXv3GmXKlMn28xcQEJBlMca8vC8zz1Dl6uqanj+7+wSMOXPmZNhHQf4GzJ8/P8t7KSgoKNvb/vrrr+m3y+9387lz57LkDAoKMjw8PLLc5pVXXsn18yhiJrWASImS21aQO+64gzvuuCPDZcnJyaSkpODv75+hCd1sw4cPx9/fn6SkJFJSUjJsa9u2bZaFCCMjI5k+fXqWBeBiY2O5cOFChstyWjirIF544QWefvrpDJelpqZmGSTZp08f3nvvPYffv6urK7Nnz84wUw+Q3hXn7rvv5qabbsqw7eouIm5ubvz0008ZujtAWt/uM2fOZOkznnm8zMCBA7N084iNjeXkyZPZtiIUV0OHDs1wPjU1lZiYGE6ePJlhoH9+X+9NmzYRHR0NZG21uiIkJISff/6ZypUrZ7g8c7eaoKAgFi5cmKFLCsBzzz1H+fLlM1x2pXtQgwYN6Ny5c7b3e4WjXsv+/fvz9ttvY7PZ0i8zDCPDjFGQNhD/22+/zfV+8+Luu+8mLCwsw2WXLl3i5MmTnDx50mGTFFSvXp3FixdnmS0uLi6Oc+fOZej6ZbPZclxI8XqSk5PT82c32PuJJ54gMjIyw2WO/BsQHx/PmTNnsnw/P/jgg7Rt2zb9vKO+m5OTkzlz5kyWlruGDRs6dFFHkcKkAkRKFA8PD0aOHJmr637//feMGjWKypUr4+rqSnh4OA8//DDbtm2jZcuWhZw09xo3bszmzZt54IEHCAsLw83NjRo1avDf//6XX375JdtB5I8++ii7du1i5MiRNG3aFH9/f2w2G35+ftSrV48BAwbw9ddfZ+g372gWi4VJkyaxbt06Bg4cSLVq1fD09MTd3Z2KFSvSq1cvlixZwjfffJPlD7Kj1KtXj02bNnH//fcTEhKCh4cH9erV49133+W7777L0H0C0laFvlq5cuX47bff+Pbbb+nZsycVKlTA3d0dNzc3wsPDufXWW3nllVfYsmULzz77bIbbRkRE8Ouvv9K1a1cCAwOLZDB4YXjuueeYMmUKjRo1uu5BYn5f7yuzX4WFhXHjjTdec/8NGzZk+/btvPPOO7Rt25agoCBcXFwoU6YMzZs355VXXmHXrl0ZpsS+IigoiD///JN+/foRHByMm5sbNWvW5JVXXmHt2rU5TjDgyNdyxIgRbNu2jaFDh1K7dm28vb1xdXWlXLly3HnnncyePZulS5dmeS86SpkyZVi1ahW9evXKdnV1R7rpppvYuXMnkyZNon379oSEhODi4oKnpydVq1alR48evPfee0RFRdGiRQuH3KfFYsHb25tatWrxwAMPsHLlymv+wJHfvwEdOnRg1qxZDB48mMaNGxMeHo6bm1v6e71Hjx7MmzePTz/9NMtt8/Pd7Ofnx+LFixk5ciQ333wzlStXxtvbGxcXF0JCQmjXrh2TJ09mzZo1+Pr6FvxJFCkCFsNRP3eIiDiRI0eOULVq1fRfLcuXL18ksyFJRk2bNmXTpk08/PDDpqzhIyIiRU8tICJSYv3000+88847WbplREdHM3DgwAxdJu65556ijlfqRUdHp89Udq3uVyIiUvKoBURESqzPP/+cBx98EDc3Nxo0aEBISAgnTpxg586dGfpPh4aGsnnz5ix940VERMTxtA6IiJR4SUlJbNiwIdtt1apVY968eSo+REREiohaQESkxIqKiuLTTz9lxYoVHDhwgDNnzmAYBsHBwTRq1IgePXrQr1+/As3AIyIiInmjAkRERERERIqMBqGLiIiIiEiRUQEiIiIiIiJFRgWIiIiIiIgUGRUgIiIiIiJSZFSAiIiIiIhIkVEBIiIiIiIiRUYFiIiIiIiIFBkVICIiIiIiUmRUgIiIiIiISJFRASIiIiIiIkVGBYiIiIiIiBQZFSAiIiIiIlJkVICIiIiIiEiRUQEiIiIiIiJFRgWIiIiIiIgUGRUgIiIiIiJSZFSAiIiIiIhIkVEBIiIiIiIiRUYFiIiIiIiIFBkVICIiIiIiUmRUgIiIiIiISJFRASIiIiIiIkVGBYiIiIiIiBQZFSAiIiIiIlJkVICIiIiIiEiRUQEiIiIiIiJFxsXsACIiIiIijmQYBikpKaSmppodpURydXXFZrPl+/YqQERERESkxEhKSuL48ePExcWZHaXEslgsVKhQAR8fn/zd3jAMw8GZRERERESKnN1uZ+/evdhsNkJCQnBzc8NisZgdq0QxDIOYmBji4uKoUaNGvlpC1AIiIiIiIiVCUlISdrudihUr4uXlZXacEiskJIRDhw6RnJysAkRERERExGrNOM9SVFQUp0+fdvj9BAcHU6lSJYfvt7graKuSChARERERKbGioqKoVbsm8XEJDt+3p5cHu3buvm4RkpCQQJ8+fdixYwdeXl6EhYUxffp0qlSpkuP+DcNg7NixzJo1Czc3N4KDg/n111/Tt0+bNo333nsPm82G1Wpl/fr1eHh4ZNhHdHQ0Dz74IIcOHcLd3Z1atWoxffp0AgMDSU5OJjIykoMHD1KtWjXmzJmDi4sLCQkJdOrUiYULFxIQEJDfp+eaVICIiIiISIl1+vRp4uMSeOi/VQiL8Mj5Brl04mACn7x0iNOnT+fYCjJ48GA6d+6MxWJh6tSpDB48mP/973853seUKVPYtm0b27dvx83NjePHj6dvW7hwIV9//TVr166lTJkynDp1CldX1yz7sNlsvPTSS7Ru3RqA5557jtGjRzNjxgx++eUXAgMDWbBgAYMGDWLJkiV069aNcePG8cQTTxRK8QEqQERERESkFAiL8KBy7aIfF+Lh4UGXLl3Sz7ds2ZLJkyfn6rYTJ07k119/xc3NDYBy5cpl2DZ27FjKlCkDQNmyZbPdR2hoKKGhoennW7RowfTp04G06XSvzBYWFxeHm5sb27ZtY/fu3YwfPz73DzKPVICIiBRAfHw8UVFRHDt2jNjYWGJjY7lw4UKWU+yFWGJjzxMXd5nMkw9aLBZcXV1xd3PH1c0NV1c3vL28CQoKIigoiODg4Gz/HRAQkKWfs4iIFG9TpkzhzjvvzPF6Fy5cICYmhvnz5zNv3jwAnn76aXr37g3Ajh072LBhAy+//DKJiYk88MADDB8+/Lr7TE1N5f3336dHjx4A3HbbbcydO5eGDRvSsmVLOnToQOfOnfnss88K9iBzoAJEROQ6YmNjOXjwIIcPH85wOnhoP4cPR3Hm9Nkst3H3cMHTxwVPbxse3jbcvS24e4FnGRu+oVYyD92zG5CaYpCUYhCfYpCaZJAUaxC32+DS+RQunU8m/nJylvuxWq2UDQ3mhho1qVHjBqpXr0716tWpUaMG1apVy/f87CIiUjjGjx/P3r1701sgric5OZmkpCTi4+NZu3YtUVFRtGrVirp161KvXj1SUlLYv38/q1evJjY2lrZt21K9evUMrS1XMwyDxx9/HH9/f4YNGwak/R356KOP0q8zefJkevToQUpKCn379iUxMZGhQ4fSoUMHxzwB/1IBIiJC2hfzoUOH2Lx5M5s3b+bvzX/z998bOXokOv06rm42gst5EBDmQmAFF25u5k5QucoElnMjoKwb3n423L1suLg6fs75lGQ7l86ncjk2hUuxKf8WJimcP5nMqaPbWbFmM9/MTiDu0v8XKmVDg6lRvQY33FCLBg0a0Lx5cxo3boynp6fD84mIyPW99dZbfP/99yxbtixXUwQHBQXh4+ND//79AahUqRI333wzGzZsoF69elSqVIn77rsPm81GYGAgnTt3Zv369dcsQIYPH86RI0dYsGBBtq3nhw8fZvHixSxZsoQBAwYwePBgmjZtSsuWLfnnn38K9uAzUQEiIqWOYRjs2LGD9evXpxUbf29ky9YtXIi9BIBfoDsVbvCgTnt3bq9RhZCK7gSVc8M30AWr1ZwFrVxcrfiHWPEPyTrA8ArDMLh0PpWYo4mcjEog5kgip47s4tf125n59ZckJ6Vis1mpW68OLZq3olmzZjRv3py6devi4qI/ByIihWXSpEl88803LFu2DH9//wzbnn/+ecqXL88TTzyR5Xb33XcfS5Ys4fHHH+fcuXOsX7+e0aNHA9C3b1+WLFlChw4dSEhIYNWqVenbMhs+fDj79u1jwYIF6eNJMnvyySd55513sFqtXL58GYvFkv5vR9NfHBEp8QzDYM+ePaxcuZKVK1ewcuUKYmLOYLFAWGVvytdw49b+flSoGUrFG7woE+zilCvnWiwWfANc8A1woWp97wzbUpLtHNuXwKEdlzn0z3GW/PoNn3zyMXa7gYenO40bNaJVq5vp2LEjbdu21QJeIlLinDjo2Gl4c7u/o0eP8swzz1C1alXat28PgLu7O+vWrQNg69atNG3aNNvbjh8/ngcffJBp06YBacVKkyZNgLTxII8++ih16tTBYrEQGRlJz549AZg+fTrR0dGMGzeOP/74g/fee49atWrRokULACIiIpg/f376/cyaNYuGDRtSt25dAEaPHs0jjzxCUlISL730Ul6fmhxZjMyjIUVESoCDBw+yYsUKVq5cyfIVSzlx/BRWm4WqdX2pcaMnNW/0pWp9bzy88r6Ca0mRGJ9K1K54Dv1zmYP/xHFwawJnTsTj7u5G69atueOOztx+++3Uq1fPKQsyESl9EhISOHjwIBEREenrYZi9Dsj12O12WrVqxZo1a5xqUpHsnue8UAEiIiVCamoqf/75J3PnzmXBwu+JOnwUiwUq1/blhn8LjhqNfPDwLr0FR04Mw+DEoQT+WXORHWsusnfTZRITUggrV5Y7bu/C7bffzm233UZQUJDZUUVEsnWtA2OthO5YKkBEpNRKSUlh1apVzJ07l++/n8upU6cJKOtBw3a+1Gnpyw1NfPDyVU/T/EpOtLP370vsWHuBnWvjOLL3EhaLhZtvbkXfvv259957CQkJMTumiEi6gh4YS+6oABGRUiUpKYnly5czb9485s+fx9mz5wkO96Rxe1+adPQnop63aQPFS7rzMUls//MCm5ZdYMe6WCxY6NixI3379qNHjx74+fmZHVFESjkVIEVDBYiIlHiGYbBhwwZmzJjBnO9mcyH2ImGVvWnU3oemHQOoVMtTYxSK2MVzyWxcdp4Nv8Sy5+8LuHu40a3bnfS9ry9dunTRH34RMYUKkKKhAkRESqzY2FhmzZrF9A8/YOuWbQSFedKyWxmadgygfHUPFR3FxJnjSWxYeo4Nv1zg8K6L+Pr5EHlvL5544gkaN25sdjwRKUVUgBQNFSAiUqIYhsH69ev58MMP+Xb2NyQmJtKgjT9tegZSt5UfVpuKjuLsxKEE1i85y5ofYzlzIp5WrVowfPhT3H333dece15ExFFUgBQNFSAiUiLExsYyc+ZMPvzwA7Zt+4fgcE9uvsufm+8Kwj9EB67OJjXFYOvqWFbOOcOuv2IJDQ3hscceZ/DgwYSHh5sdT0RKKM2CVTRUgIiIUzt16hSTJ09m6vvvcfnyZRre4k+buwOp00KtHSVF9P54Vs6JYd3i86QkGdxz770Me2IYN910k7rRiYhDXWsdkNo1axKX4Ph1QLw8PNi5O+d1QIYPH84PP/zA4cOH2bZtG/Xq1cvV/gcNGsQff/yBp6cnfn5+TJkyhUaNGgFw7733sm/fvvTrbt26lQULFtC9e/cM+4iOjubBBx/k0KFDuLu7U6tWLaZPn05gYCDJyclERkZy8OBBqlWrxpw5c3BxcSEhIYFOnTqxcOFCAgICsuRSASIiTikqKoq33nqLGR99iNVqcEtkILfeF6LWjhIs7mIKa348y6q5ZzlxOI4mTRrx8stjufPOO1WIiIhDZHdgvGnTJpo2bcpMoLYD72sn0B/YuHFj+urk17J69WqqVq1K69atWbRoUa4LkB9++IEuXbrg4uLCokWLGDFiBHv27MlyvQ0bNnDHHXdw7Ngx3N3dM2w7efIke/fupXXr1gA899xzxMbGMmPGDBYtWsT333/Pp59+yqBBg7j77rvp1q0bL7zwAo0aNaJXr17Z5ipoAaIJ8kWkSO3evZsJEyYwc+ZXeHjbuH1gEO17h+Dtp6+jks7L14Vb+5alfZ8Qdqy9wC+fH+Suu+6iceOGjB37X7p166ZCREQKTW3g+mVC4bnlllvydburWzNatmzJ4cOHsdvtWVZN//TTT+nfv3+W4gMgNDSU0NDQ9PMtWrRg+vTpALi6uhIXFwdAXFwcbm5ubNu2jd27dzN+/Ph8Zc4N51nzXUSc2t9//01kr0hq167NwsXf0nN4GOMX1abbI+VUfJQyVquFejeV4ZkZ1RgxvQaXOUj37t258cYmLFq0CDXMi4hk9e6779KlS5csxUdCQgLffPMNDz30UI77SE1N5f333+fOO+8E4LbbbsPX15eGDRtSpkwZOnTowIgRI3j33XcL5TFcob/6IlKoduzYwejRo/jxx0WUreBF/xcq0rJbIK5u+v1DoFYzX2re6MPuvy7x44wD3Hnnndx4YxPGjv0vnTt3VouIiAgwc+ZM5syZw2+//ZZl27x586hRowb169e/7j4Mw+Dxxx/H39+fYcOGAWC1Wvnoo4/SrzN58mR69OhBSkoKffv2JTExkaFDh9KhQweHPh4VICJSKKKjoxkzZgyfffYZQeXceei/VbixUwA2Fx1QSkYWi4VazX2p2cyHXX9dZNGH++jatSvNmjXltdde57bbbjM7ooiIaWbPns3YsWNZvnw5ZcuWzbL9k08+yVXrx/Dhwzly5AgLFizI0ooCcPjwYRYvXsySJUsYMGAAgwcPpmnTprRs2ZJ//vnHIY/lCv0EKSIOdenSJV566SWqVa/KnHlfETkinLHzatKiS6CKD7kui8VC7eZ+PPtxNZ6aVp1zSXvp1KkT3bp1Zffu3WbHExEpFM8//zxTp07NdtucOXN48cUXWbZsWbYzbR08eJD169dz3333Xfc+hg8fzr59+5g/f/4112R68skneeedd7BarVy+fBmLxZL+b0dTC4iIOITdbufLL79k9OiRnDt/llv7BnP7gDC8fG1mRxMnY7FYqNPCj9rNfdm0/DzfT1lJvXp1eeKJYYwZMybbKSFFRHKy08T9DR06lIULF3LixAk6duyIj49P+hS6W7dupWnTptnerl+/foSFhXHXXXelX7Z8+XKCgoKAtMHn99xzD35+fhluN336dKKjoxk3bhx//PEH7733HrVq1aJFixYAREREMH/+/PTrz5o1i4YNG1K3bl0ARo8ezSOPPEJSUhIvvfRSHh5p7mgaXhEpsD/++IMnnxzGxo1/06xTIHcPL0dQuawzcYjkR3KinWVfn2LJZzF4enrzxoSJDBo0KNsuBCJSuhXXdUCuxW6306pVK9asWeNU32laB0RETHP+/HmeffZZPvnkE6rU8SVyRDlqNPYxO5aUUOdjkpn/XjRrfjpDs2ZN+eCDD6/5q6GIlE5aCb1oqAAREVMsWLCAIUMe5cKlc/QcHkabnsFYrRrjIYVv79+X+PaNaI7uu8zgwYOZMGEC/v7+ZscSkWKgoAfGkjsFfZ6dp61HRIqFkydPEtkrkp49exJaI4mX59Sk7T0hKj6kyNRo7MMLM2vQa0R5vpz5KfXq1WHp0qVmxxIRkVxSASIiuWIYBl9++SW1at/A/5b9yMPjq/D4OxEEhGY/m4ZIYbK5WLi1b1nGzL4Bv/JxdOrUiSFDhnDp0iWzo4mISA5UgIhIjg4fPswdd9zOgAEDqNnShZe/q0nz2wO1SJyYLqicO0++X5W+oyry2RcfU79BPVavXm12LBERuQ5Nwysi12QYBh9//DFPPf0kHj7wxORqNGhTxuxYIhlYrRba9QqhTitfvnjlKO3ateOpp57itddew9PT0+x4IlIMaBB68aJB6CKSrQsXLjD40cHM/nY2rXsEE/l0eTx9tKaHFG/2VINls06xcNoJqlSJYOZXX9O8eXOzY4lIEbnmNLy1axIXVwjT8Hp5sHNn7qfhHTt2LK+88grbtm2jXr16OV5/0KBB/PHHH3h6euLn58eUKVNo1KhRtteNiopi6NCh7NmzB4vFwtChQxk2bBjnz5+nZ8+enD59mjZt2jBt2jQAYmJiiIyMZOnSpbi6uub6MUPBB6GrBUREsvj777+JjLyH6BNHeeT1KjTrFGh2JJFcsdosdLo/lPqt/fh8zFFatWrF2LFjeeGFF5xqjn0RcZzTp08TF5fAzDehdlXH7XfnAeg/MoHTp0/nqgDZtGkTa9euzVOLSY8ePZgxYwYuLi4sWrSIXr16sWfPnizXMwyDnj17Mnr0aCIjIzEMg5MnTwIwc+ZM2rdvz5gxY+jQoQPbt2+nXr16jBgxggkTJuS5+HAEFSAiks4wDKZNm8aIEU9Trpo7//m6BmUrahpDcT7lIjwZ+Vl1Fn10nDFjxrB27Rq++mqmVlEXKcVqV4Umdc2578TERIYOHcqsWbNo3759rm/XvXv39H+3bNmSw4cPY7fbs/ygsnz5cjw9PYmMjATAYrEQFhYGgKurK3FxcdjtdhITE3Fzc2PJkiUEBATQsmVLBzy6vNPPQSICpC0qeG/kPTzxxBO07unPyE+rq/gQp2ZzsXDXkHCemFyVVb8vo2nTxmzevNnsWCJSCo0ZM4b+/fsTERGR7328++67dOnSJdvW3B07dhASEkKfPn1o3LgxPXv25MCBAwD069ePffv20bhxYzp27Ej58uV57bXXeO211/KdpaDUAiIi/PXXX/TqdS+nzhznsYkRNOmgX4ml5KjfugwvfOXBhyMP07JVC6Z/8CEDBw40O5aIlBJr1qzhr7/+YsKECfnex8yZM5kzZw6//fZbttuTk5NZtmwZa9eupW7dusyYMYM+ffqwfv16fHx8mDt3bvp1n3rqKUaNGsW+ffsYP348AC+++CINGzbMd768UguISCn34YcfcvPNN2H1OceLX9+g4kNKpODy7jz3SXVuvN2PBx98kMGDB5OYmGh2LBEpBVatWsWuXbuIiIigSpUqHD16lNtvv52ff/45V7efPXs2Y8eOZenSpZQtWzbb61SuXJnGjRtTt25aH7P+/fuzceNGUlNTM1xv/fr1xMTE0K1bN4YPH87EiRN58803GT58eMEeZB6pABEppVJTUxkxYgSPPfYYN/cM4NmPqxFc3t3sWCKFxs3DyoAxlbj/xUp8/sWn3HxzKw4fPmx2LBEp4UaPHk10dDSHDh3i0KFDVKhQgV9++YXOnTsD8PzzzzN16tRsbztnzhxefPFFli1bdt3B6507d+bYsWMcO3YMgCVLllCvXj1stv+fvTI5OZmRI0cyadIkAC5fvozFYsFqtRb5Iq7qgiVSCl26dIm+fe/jp59+os/ICnTonf0vKiIlUZuewVSq5cWMUbto0rQRCxf8SOvWrc2OJSKFbOeB4rm/rVu30rRp02y39evXj7CwMO666670y5YvX05QUBBjxowhPDycxx57DG9vb6ZNm0bXrl0xDAN/f39mzZqVYV8TJ05kwIABhIaGAjBu3Di6dOmSvq0oaR0QkVLm6NGjdOvWhT17d/Hw65Wo31oLC0rpdDk2hQ9HHuLgtgS+/noW99xzj9mRRKSAivs6IJnZ7XZatWrFmjVrnGqq8IKuA6ICRKQU2bRpE926dSHJuMDQyZWpUMPL7EgipkpOsvP5K1Fs+N853n33XYYNG2Z2JBEpgGsdGGsldMfSQoQikisLFy7kvr59CItw5em3q+MfUvQLD4kUN65uVh56tTIBZV0YPnw4R44cYcKECU71S6SI5KxSpUqlslAorvQNK1IKTJ48mZ49e1KnlScjPqym4kPkKlarhXufqkDvZyrw1ltv0a9/P82QJSJSiNQCIlKCGYbB2LFjGTt2LLcPCKXnE+FYrRazY4kUS7f2LYt/WVc+fek7Tpw4zoL5CylTRmOkREQcTS0gIiWUYRi88MILjB07lp5PhHPP8PIqPkRy0LRjAE9Nq8ZfG9fQuvVN6VNaioiI46gAESmBDMNgxIgRTJgwgcgR5en8YJjZkUScRo3GPjz3STWOnz7ILbe0VhEiIuJg6oIlUsLY7XaGDh3K9OnT6TuqIu16hZgdScTphFf15JkZVZn06AHatruF1at+Izw83OxYIpJPmgWreFEBIlKCpKam8vDDD/PFF1/wwEuVaN0j2OxIIk4ruLw7T09PK0LatbuFVat+o1y5cmbHEpE8ioqKolbt2sTHxTl8355eXuzaufO6Rcj58+dp165d+vm4uDgOHDjAqVOnCAwMvO7+x48fzxdffMHevXv54Ycf6Nat2zWvGxUVxdChQ9mzZw8Wi4WhQ4cybNgwzp8/T8+ePTl9+jRt2rRh2rRpAMTExBAZGcnSpUtxdS3ayWlUgIiUECkpKTww4AFmf/stD46rRMsuQWZHEnF6IRWuFCH7ad++Lb/+upqwMHVpFHEmp0+fJj4ujl6vfk7ZiNoO2++pgzuZ8+JATp8+fd0CxN/fn82bN6eff+utt1i1alWOxQfArbfeSu/evXnooYeuez3DMOjZsyejR48mMjISwzA4efIkADNnzqR9+/aMGTOGDh06sH37durVq5feVbuoiw9QASJSIqSkpHBf3z7Mnz+fh8dX4cbbAsyOVIpZ8HQJxMs1BC/X4PT/e7r4Y7W6YcWG1WLDYnHBarFhGHbspGIYqdiNFOxGCkmpl4hLjiEu+TSXk2OI//f/diPZ7AdXKpWt+P8tIVeKkNDQULNjiUgelY2oTfnajc2OwWeffcZrr72Wq+u2aNEiV9dbvnw5np6eREZGAmCxWNJ/LHF1dSUuLg673U5iYiJubm4sWbKEgIAAWrZsmb8HUUAqQEScnGEYDBkyhO+//55H34igcXt/syOVeK5Wb4K8ahLiVZsy7pUzFhqugVgthfPVmpASm16YxCWf5lLScU7H7eJ03E4uJ58slPuUNKGVPBhxpQjp0I5fV66ibNmyZscSESezZs0azpw5c92uVPmxY8cOQkJC6NOnD7t376ZKlSq8/fbbVK1alX79+jFw4EAaN25Mjx49KF++PA899BCLFy92aIa8UAEi4uRefvllPv74Ywa+UlnFRyFwtXoT7FWLYK/a/55qUca9EhZL0U8i6OFSBg+XMgR6Vs+yLT75LKfjdv572kVM3E4uJ58o8owlWWhlD576oCrvPHaADh3asXLlKkJCNMmDiOTep59+ygMPPICLi2MPwZOTk1m2bBlr166lbt26zJgxgz59+rB+/Xp8fHyYO3du+nWfeuopRo0axb59+xg/fjwAL774Ig0bNnRoputRASLixN5//33++9//cvfwcG66U2M+HMHbNYzKZdoQ6tOIEK/a+LlXNKXYyCtP10AqlrmZimVuTr/sSlFyKu4fjsT+QUzcdhMTlgzlIjx4enoEkx49QLduXfj119V4enqaHUtEnMDly5eZPXs269evd/i+K1euTOPGjalbty4A/fv3Z8iQIaSmpmKz2dKvt379emJiYujWrRtt2rThq6++wjAMBg4cyKpVqxye61pUgIg4qe+++45hw4bRsV9Zbn9A/dELItirNpXLtKVymVsI8qppdhyHubooaVpuMHHJp4mK/Y3Dsas4dmE9qUai2RGdUrkIT4ZOrsLbgzfTr39fvpszN8MfeBGR7Hz33Xc0aNCAWrVqZbj8+eefp3z58jzxxBP53nfnzp0ZNWoUx44do3z58ixZsoR69epl+G5KTk5m5MiRzJ49G0griCwWCxaLhUuXLuX7vvNDBYiIE1qxYgX9+/ej2e0B3PtUeSwWrXCeFzaLG+G+zahc5hYqlmmDj1vpKOC8XIOpFdyTWsE9SbEncOzCOg7HriYqdjXxKWfNjudUqtTx5uHxlfjgmYWMHDmSt99+2+xIIpKDUwd3mrq/Tz75JNvZrLZu3UrTpk2zvc3rr7/O+++/T0xMDAMHDsTDw4O///6bkJAQxowZQ3h4OI899hje3t5MmzaNrl27YhgG/v7+zJo1K8O+Jk6cyIABA9In0Rg3bhxdunRJ31aULIZhGEV6jyJSIH///Te3tG1D5bouDJ0cgYtr8e8eVBxYsFHFvx3VAu+ggm9LXG1eZkcqNgzDzqm4fzh0bjl7zv5IQsp5syM5jRWzT/Htm0d57733CvTrpYg4RkJCAgcPHiQiIgIPDw/A/HVArsdut9OqVSvWrFmD1eo8f8+ze57zQgWIiBM5cOAArVq1wDskkaenV8XDS90+cuLlGkKt4LupFdQTbzcNGM5Jij2Rg+eXsyPmO05d3mp2HKcwZ9JRVnxzmvnz59O9e3ez44iUatc6MNZK6I6lAkSklLh48SItWjTj7OUjjPy0Gr4BRb9wkDMJ921OnZBIKpe5pdCmxS3pTsftYmfMXPad+5kUe4LZcYotu91gxqhD7Fwbz+pVv3HjjTeaHUmk1CrogbHkjgoQkVLAMAwie93LT4t/4Pkva1AuQrPuZMfV6sMNQXdSJ+Re/D2qmB2nxEhMucjesz+xI+Y7YhMPmR2nWEqMt/POkP1cOunOunV/UaVKFbMjiZRKKkCKhgoQkVLgjTfeYPTo0QyZWJXGHfzNjlPseLuG0ThsENUDu+BqU3FWmKIv/sXfJz4l+qLjp5F0dhfOJvPmg/sJ8q3I+vUb8PHxMTuSSKmjAqRoFPR5dp7RLiKl1P/+9z9eeOEFujwUpuIjE3ebPy3Lj6BX3e+pHXKPio8iEO7bjK41PqBL9WkEe9U2O06x4hfoytDJlTl4eD+PPvYo+n1PRCR76hgtUowdPHiQ3n0iqdPSj+6PljM7TrHhYvWkftn+NAjtj5tNvzKbobxfC3r4NuPg+eVsiJ5GbGKU2ZGKhXIRnvR7oQKfvDiLtre0ZfDgwWZHEhE0CL24UQEiUkzFxcXRo0d33LxTeOi16lhtWuvDggu1Q+6mcdjDeLlq5XezWSxWqgbcRhX/9uw+vZBNJ2YQl+z4P/DOpkXnQPb9fYnhw4dx44030qRJE7MjiZRqUVFR1K5Vi7j4eIfv28vTk527duVYhHTq1IkTJ05gtVrx9fXlvffeo1GjRjnuf/z48XzxxRfs3buXH374gW7dul3zulFRUQwdOpQ9e/ZgsVgYOnQow4YN4/z58/Ts2ZPTp0/Tpk0bpk2bBkBMTAyRkZEsXboUV9eindhGBYhIMWQYBo8MfoTde3cx6rPqePvpo1otoDM3hj+Gn3sFs6NIJlaLC7VD7qFGUFe2n/qWLSc/Iym1aFfVLW56PVOBQzv2ce+9d7Np02b8/f3NjiRSap0+fZq4+Hhm3H03NwQHO2y/e06fZvD333P69OkcC5A5c+akfw8sWLCAQYMGsWnTphzv49Zbb6V3797ZLmB4NcMw6NmzJ6NHjyYyMhLDMDh58iQAM2fOpH379owZM4YOHTqwfft26tWrx4gRI5gwYUKRFx+gAkSkWHrvvfeY9fUsHh5fhQo1SveCecFedWhT6T8Ee9UyO4rkwMXqQaOwgdQK7smG6GnsPD3X7EimcXW3MnhCZV7rv4eBAwcwf/4CLBa1YoqY6YbgYBqFh5ty31f/CBEbG5vrRQdbtGiRq+stX74cT09PIiMjAbBYLISFhQHg6upKXFwcdrudxMRE3NzcWLJkCQEBAbRs2TJvD8RBNAhdpJjZtm0bzz33LLfeF0Lz2wPNjmMaq8WVZuFPcFfNz1R8OBkPlzK0rvQ8Xap/gI9b6R27FFLBnYGvVGThwh945513zI4jIiZ74IEHqFixIi+++CJffPGFQ/e9Y8cOQkJC6NOnD40bN6Znz54cOHAAgH79+rFv3z4aN25Mx44dKV++PK+99hqvvfaaQzPkhVpARIqRxMRE+vfvS0hFN+4eVt7sOKYJ9qpDu8qvEOBZzewoUgDl/ZpzT+3ZrD82pdS2hjRq589t/csyatRIWrZsyU033WR2JBExyZdffgnAF198wXPPPcfixYsdtu/k5GSWLVvG2rVrqVu3LjNmzKBPnz6sX78eHx8f5s79/+/gp556ilGjRrFv3z7Gjx8PwIsvvkjDhg0dlicnagERKUZefvllduzcwaD/VsTVvfR9PK9u9VDxUTK42bxLfWtIzyfKE1HPm969I7lw4YLZcUTEZAMGDGDlypWcOXPGYfusXLkyjRs3pm7dugD079+fjRs3kpqamuF669evJyYmhm7dujF8+HAmTpzIm2++yfDhwx2WJTdK3xGOSDH1+++/8+abb3Lno2FUrFn6xn0Ee9WhZ62ZNAp7EKtFjbMlzZXWkNrB95odpci5uFp48L8VOXM2hmeffdbsOCJSxC5cuEB0dHT6+fnz5xMUFERgYFo36+eff56pU6cW6D46d+7MsWPHOHbsGABLliyhXr162Gy29OskJyczcuRIJk2aBMDly5exWCxYrVYuXSraiUP0V16kGLh48SL339+P6g19uf2BULPjFCmrxZWm5R6lQej9KjxKuCutIRH+t7I6ahyXko6bHanIBIe703N4GB9N+IhevXrRsWNHsyOJlDp7HLwOSG73Fxsbyz333EN8fDxWq5WQkBAWLVqUPjHF1q1badq0aba3ff3113n//feJiYlh4MCBeHh48PfffxMSEsKYMWMIDw/nsccew9vbm2nTptG1a1cMw8Df359Zs2Zl2NfEiRMZMGAAoaFpxxnjxo2jS5cu6duKksXQUq0ipnvooYeY9e2XvDirJmUrupsdp8h4u4bRqdrbGmReCiWlXuLXQ2M4HLvK7ChFxm43mPz4AeJO+rJ9+w58fX3NjiRS4iQkJHDw4EEiIiLw8PAAisc6INdit9tp1aoVa9asyfXMWMVBds9zXqgAETHZDz/8wF133cX9L1aiTU/HzU9e3IV6N6Jj1Te1oGApZhh2Nh6fzt8nPjE7SpE5fSyRcX12M/CBh/nggw/MjiNS4lzrwFgroTuWChARJxYTE0OdurUoX9vg8UlVSs06ATWDenBzxdHYrEW/+JEUP/vP/sKqw+NINRLMjlIkVs6J4Zs3jrBixQrat29vdhyREqWgB8aSOwV9np2nrUekBBrxzAgSki5x/4sVSkXxYcHGTRWe45bKL6n4kHTVAm/nzpof4+1aOsY/tb03mJpN/Rg0aGCRD/wUESkOVICImGTlypXM/Gomdw8Pwy+o5B+Mu9vK0Ln6VOqW7WN2FCmGQrxq06PWl4R6F9089GaxWi3c/1JFjp+I5vnnnzc7johIkVMBImKCxMREHntsMDUa+XFT95I/BiLAoyo9an1Jeb/mZkeRYszLNZiuNaZzQ1B3s6MUurIV3enxRBhTp07ljz/+MDuOiEiRUgEiYoK33nqL/QcOcN/o8litJbvrVSW/NnSv+Rl+7hXMjiJOwGZ1o23ll2lZ4RmgZH822vcOoWo9X4YOHZJlsTARkZJMk+6LFLHDhw/z31fHcWvfYCrU8DQ7TqGqFnA77aqM0/oekmf1y/bFw8WfVYdexsBudpxCYbVa6P1cOK8P2MZHH33EY489ZnYkkRJLs2AVLzoqEClizzw7Ai9fK90eLmd2lEJVI/BObqn8ElaLLecri2SjRmAXbBY3Vhz8DwYpZscpFBH1vLm5exAv/Gc0kZGRBAWV/C6ZIkUtKiqKmjVrk5AQ5/B9e3h4sXv3zusWIQkJCfTp04cdO3bg5eVFWFgY06dPp0qVKgAYhsHYsWOZNWsWbm5uBAcH8+uvv+Z433FxcTz00EP89ddfWK1WJkyYwN13353lepcvX6ZDhw4kJKTNNFiuXLn0+09OTiYyMpKDBw9SrVo15syZg4uLCwkJCXTq1ImFCxcSEBCQr+fmetQFS6QIrVy5knlzv6fn8FA8vEvugXmt4LtpW3mMig8psKoBHbmt6ptYLSV3ooaeT4STmBTHSy+9ZHYUkRLp9OnT/xYfM4GNDjzNJCEhLlctK4MHD2b37t1s3ryZbt26MXjw4PRtU6ZMYdu2bWzfvp3t27fzzTff5OpxvfXWW7i7u7Nv3z5++eUXHn/8cc6dO5flep6enixbtowtW7awZcsW7rjjDkaMGAHAL7/8QmBgIFu2bMHf358lS5YAaaukP/HEE4VSfIAKEJEik5KSwhPDhlKtgS8tOgeaHafQ1AmOpE2l/2Cx6OtFHKOyf1s6VZ1UYosQvyBXujxclg8//JAdO3aYHUekBKsNNHHgqXau7tXDw4MuXbqkT7ffsmVLDhw4kL594sSJvPHGG7i5uQFpLRS5MXv2bIYOHQpAREQEt9xyCwsXLsxyPavViq+vL5DW2nLhwoX0VdddXV2Ji0trGYqLi8PNzY1t27axe/duevXqlasc+aEjBJEi8vHHH7Nzxy76jCxfYtf8qBnUk5sqjjQ7hpRAFcvcRMeIN7CU0J7D7XuHEBzuwbPPPmN2FBEpZFOmTOHOO+8E4MKFC8TExDB//nxatmxJy5YtmT17dq72ExUVReXKldPPV6lShaioqGtev2PHjoSFhTFnzhymTJkCwG233Yavry8NGzakTJkydOjQgREjRvDuu+8W4BHmTAWISBGIj49n3LhXaNE5kMq1vcyOUyiqB3ahdaXn1fIhhaayf1s6RLyGpQT+6XJ1s9LjiVB+/nkJy5YtMzuOiBSS8ePHs3fvXl577TUAkpOTSUpKIj4+nrVr1zJnzhxGjBjB9u3bc7W/q3/QNAzjutddtmwZx48fp3fv3rz66qtAWuvIRx99xJYtW/jwww+ZOnUqPXr0ICUlhb59+3LPPfewYsWKfD7aayt53+IixdCHH37IyVOn6Da4ZK70XNX/NtpWflljPqTQVQ3oSNsqYymJU/Q27ehP9YZ+jBjxlKblFSmB3nrrLb7//nt+/vlnvLzSfowMCgrCx8eH/v37A1CpUiVuvvlmNmzYkOP+KlWqxKFDh9LPHz58OMcZuaxWK4888ghfffVVlm2HDx9m8eLFDBkyhJdeeonBgwfz+eefM2zYsDw8ytxRASJSyC5dusT48a9yU7dAylb0MDuOw4X7NKN9xKuaaleKTI3ALrSq8KzZMRzOYrFw79Pl2LbtH7799luz44iIA02aNIlvvvmGpUuX4u/vn2Hbfffdlz74+9y5c6xfv54GDRoAMHXqVJ5//vls9xkZGcn7778PwMGDB1m1ahXdu2ddyPXkyZOcPXs2/fy3336bvv+rPfnkk7zzzjtYrVYuX76MxWJJ/7ej6YhBpJBNnTqVc+fP0fWR3A1Wcya+buW5teoEFR9S5OqV7cPZ+L3sPrPA7CgOVbW+N/Vb+/Pqq+O477770geKiogj7DRlf0ePHuWZZ56hatWqtG/fHgB3d3fWrVsHpHXLevDBB5k2bRoAzz//PE2aNEm7h507iYiIyHa/zz33HIMGDaJ69epYrVbef/99AgPTJrmZPn060dHRjBs3jqNHj/LII4+QkpKCYRhUq1aNmTNnZtjXrFmzaNiwIXXr1gVg9OjRPPLIIyQlJRXKDH0WI6cOYyKSb7GxsVSJqESj29zpO6qi2XEcytXqRfeanxHoWd3sKFJKpdqT+GnvEE5e3mx2FIc6sO0yEwbuZs6cOURGRpodR8SpJCQkcPDgQSIiIvDwSOt1YPY6IAXRtm1bFi1alD6LVXGR3fOcF/rZUqQQvfPOO8TFXabLoJK2SqqF9lVeVfEhprJZ3ehY9U0W7HqAy8knzI7jMFXre1OnRRn++9+x3HPPPWoFESmgSpUqsXv3TqdcCX3VqlWFtm8zqQARKSRnzpzh7Ulv0fbeIPxD3MyO41A3hj9OZf+2ZscQwcs1iE7V3uaH3Q+RaiSYHcdhujxclrce+Ycff/yRu+66y+w4Ik6vUqVKhVooSN7oZxWRQjJx4kRSUhO5fWDJmvmqakAnGocNMjuGSLpgr1q0q/KK2TEc6oYmvtRs6se4ca/kOLWmiIizUQEiUgjOnTvHe1On0L53EH6BJWf15mDPWrSt/LLZMUSyqBpwG43DHjY7hkN1ebgsmzZt5ueffzY7ioiIQ6kAESkEn3zyCUlJiXToU9bsKA7j6RLEbdXexsVa8qYSlpKhablHqVymndkxHKZWM1+qN1AriIiUPCpARBwsJSWF9957lxs7BVAmuOS0fnSIGI+PW5jZMUSuyWKx0q7KOHzdypsdxSEsFgudHw5h3bq/WL58udlxREQcRoPQRRzshx9+ICrqKPePr2V2FIepG9KHcN8bzY4hkiM3mze3VB7DT3sfNTuKQ9S7yY/KtX14662JdOzY0ew4Ik4rKirK1Fmw9u7dy4ABAzh9+jT+/v58/vnn1KlTJ8fbnTp1igceeID9+/fj7u7O9OnTad26dZbrHTx4kHvvvZfU1FRSU1OpVasWM2bMICAggPPnz9OzZ09Onz5NmzZt0tcbiYmJITIykqVLl+LqWrQ/mGodEBEHa9PmZk5e3s5zH5eMKWr93Ctwd61vcbV5mh1FJNf+OPIGO2LmmB3DIf744Qxfjoti3759VK1a1ew4IsXatdYBqV2zNnGFsA6Il4cXO3OxDkiHDh144IEHGDhwIHPnzuXtt99mzZo1Oe5/0KBBVKpUiVdeeYW//vqLe++9l/379+PikrENITExEbvdjqdn2t/qp556CqvVyqRJk5g6dSpnz55lzJgxdOjQgSlTplCvXj3uv/9+hg4dSsuWLfP8uLUOiEgxsmnTJn7//U8efTP7VUud0S2VXlbxIU6nefgwjsT+wcWkY2ZHKbAbbwtg7jvH+fDDD3njjTfMjiPidE6fPk1cQhwzmUltajtsvzvZSf+E/pw+ffq6BcipU6fYtGkT//vf/wC45557eOKJJzh06BBVqlS57n3MmTOHgwcPAtCsWTNCQ0P5/fffadeuXYbrubu7p/87NTWVS5cu4e/vD4CrqytxcXHY7XYSExNxc3NjyZIlBAQE5Kv4cAQVICIO9O67kwku50mjtv5mR3GIuiF9KOfbxOwYInnmavMqMV2x3D2ttOzmzyeffsS4ceMyHGiISO7VpjZNKPq/aUeOHCE8PDy91cJisVCpUiWioqKuW4CcOXMGu91OSEhI+mVVqlQhKioq2+snJSXRvHlzDh8+TMOGDfnhhx8A6NevHwMHDqRx48b06NGD8uXL89BDD7F48WLHPcg80iB0EQc5efIk3377LW17BWJzsZgdp8D83CvQLPwJs2OI5Fu4743UCelldgyHaHtPMGdOn2Pu3LlmRxGRfLBYMh4X5HYERF5u5+bmxubNmzl58iQ1a9Zk+vTpAPj4+DB37ly2bNnC2LFj+c9//sOoUaPYt28fkZGRREZGsmXLljw+ooJRASLiINOnT8diM2jdI8jsKA6hrldSEjQPH1YiZsUKq+JB7eZlmDZtqtlRRCSPKlasyNGjR0lJSQHSiogjR47kOG4kKCjteCImJib9ssOHD+d4Ozc3Nx588EG++uqrLNvWr19PTEwM3bp1Y/jw4UycOJE333yT4cOH5/VhFYgKEBEHSE1NZfr0abTs4o+3n/P3bFTXKykprnTFKgluuTeQP/9cy9atW82OIiJ5ULZsWRo3bszMmTMBmDdvHlWqVEnvfvX8888zdWr2Py5ERkby/vvvA/DXX39x4sSJbGfBioqK4vLlywDY7XbmzJlDgwYNMlwnOTmZkSNHMmnSJAAuX76MxWLBarVy6dIlhzzW3HL+IyWRYmDFihWcOHGKQXfVNDtKgfm6qeuVlCxXumI5+6xYDW/xJyDEgw8++IAPPvjA7DgiTmcnO03b34cffsjAgQMZP348fn5+fPHFF+nbtm7dStOmTbO93RtvvMH9999PjRo1cHNz46uvvkofSzJmzBjCw8N57LHH2L59O6NHjwbSCpAmTZowZcqUDPuaOHEiAwYMIDQ0FIBx48bRpUuX9G1FSdPwijjAgAEDWLpqHq/MuyFLf01nc1vVt6ni387sGCIOlZhykdn/dCcx9YLZUQrkh+nRrPzmAsejT+Dr62t2HJFip7hOw3stdrudVq1asWbNGqxW5+mYpGl4RUx2+fJl5n0/l1v7l3H64qOsd30VH1Iiubv40jDsQdYfe9fsKAXSpmcwP318gu+++45BgwaZHUfEKVSqVImdu3eauhDhtVitVtatW+fARM5BBYhIAS1cuJDLl+Jo0dn51/5oHj7M7AgihaZuSC/+OfUtl5NPmh0l3wJC3ajZtAyzZ3+rAkQkDypVqlSgQkEcy3naekSKqa+++pLqDf0IqeDcc/NX9LuZcr7Z90EVKQlcrB40LTfY7BgF1qSjH8uXL+fMmTNmRxERyRcVICIFcPLkSZYuXUrzzmXMjlJgzcKHmh1BpNDVCOqGv0cVs2MUSJMO/hiGwfz5882OIiKSLypARApg9uzZWKxw420BZkcpkGoBnQnycv4ZvERyYrW4cKOTF9t+Qa7UvNGPb7/9xuwoIsWW3W43O0KJVtA5rDQGRKQAvvzqC+rd7IePv/N+lCy4cGP4Y2bHECkyEf4dKOtVj1Nx282Okm9NOvrxzYRfiYmJISQkxOw4IsWGm5sbVquV6OhoQkJCcHNzc/oJYoobwzCIiYnBYrHg6uqar30471GTiMn27dvHxg2bGDzBuQef1w65Gz/3CmbHEClSzcoP46e9j5odI9+adPDnmzeO8v333/Poo877OEQczWq1EhERwfHjx4mOjjY7TollsVioUKECNpstX7dXASKST4sWLcLF1Ur91n5mR8k3F6snjcMeNjuGSJEL972RCn6tOHphjdlR8sU3wJVazfyYPftbFSAimbi5uVGpUiVSUlJITU01O06J5Orqmu/iA1SAiOTbTz8tomZTX9w98/8BNFvNoB54uQaZHUPEFI3DHnLaAgSgaccyfD1+NSdPnkxf2VhE0lzpHpTfLkJSuDQIXSQfLl26xOrVq6l3s3OvRFwn5F6zI4iYJsynMYGe1c2OkW+N2/uDRbNhiYjzUQEikg8rVqwgKSmZek7c/Srct7nTT0cqUlB1giPNjpBvPv4uVGvgyy//+8XsKCIieaICRCQffv75Z8IqeRNaycPsKPlWJ8R5D7xEHKVaYGdcrd5mx8i3Ws29WbFimfq5i4hTUQEikkeGYbDopx+oc5OX2VHyzcs1hMplbjE7hojp3Gze1AjqanaMfKvTwpcLsZfYuHGj2VFERHJNBYhIHu3YsYOjR6Kpd7Pzdr+qHXwPVovmoBABqBPsvGOhKtfxxtPblWXLlpkdRUQk11SAiOTR4sWLcfdw4YYmzjkA3YILNYN6mB1DpNgI8KxGOZ+mZsfIFxdXCzc09Wbp0v+ZHUVEJNdUgIjk0U8/LaLmjT64eTjnxyfCvz3eblo5WeRqzjwmqlZzH/7880/i4uLMjiIikivOeQQlYpLExETWrFlD7RY+ZkfJt9qaelcki8pl2uHpEmx2jHyp3cKXpKRkfvvtN7OjiIjkigoQkTzYvHkzSUnJVGvonLPmlHGvQrjvjWbHECl2bFZXagXfZXaMfCkX4UFAiIfGgYiI01ABIpIHa9euxdXNRoUbPM2Oki8RAR3MjiBSbFXxd87Ph8VioWZzL/63VOuBiIhzUAEikgdr166lcm1vXFyd86NTuUxbsyOIFFvBXrXwdg01O0a+1LzRl61btnHhwgWzo4iI5Mg5j6JETPLHn78RUc85Fx/0dAkixKuO2TFEijVnXR+ncu20VtnNmzebG0REJBdUgIjk0vHjxzkSdYyI+s45/qNSmTZYLPrIi1xPJSctQMpFeOLmbmPTpk1mRxERyZGORkRyad26dQBUddICxFl/2RUpSuG+N+Jq9TI7Rp7ZXCxUqOGlFdFFxCmoABHJpbVr1xJY1pOAUFezo+SZzeJOeb8WZscQKfZsVjcq+LUyO0a+VKzlzoaN682OISKSIxUgIrm0Zs2fVKnvgcViMTtKnpX3a4GL1TnHrogUNWdtLaxc24s9u/dx+fJls6OIiFyXChCRXEhNTeWvDX8RUc/5umaAZr8SyYuKZVpjccI/j5VqeWG32zUQXUSKPef7hhUxQVRUFPFxCVSo7pzrf1Qq09rsCCJOw8PFn1DvBmbHyLPwah64uFo1EF1Eij0VICK5sHv3bgBCK7ubnCTvgj1r4eUabHYMEadSsUwbsyPkmYurlYo3eGsguogUeypARHJh9+7duLrZCAxzMztKnpX1rm92BBGnU9a7rtkR8qVCTQ1EF5HiTwWISC7s3r2bsEqeWG3ONwA92Ku22RFEnE6QZy2zI+RLuQgP9u07gGEYZkcREbkmFSAiubBr905CKruYHSNfVICI5J27iy9+7hXNjpFnweXdSExI5MSJE2ZHERG5JhUgIrmwa9dOpxz/YbO4EeBZ1ewYIk7JGYv3kPJp31MHDx40OYmIyLWpABHJwaVLlzgefZKwys63jkag5w1YLc7ZciNiNmcsQILC08apHThwwOQkIiLXpgJEJAd79uwBINQJC5AQJzyAEikunPHz4+Flo0yQhwoQESnWVICI5ODKFLxhVZyvC5Yz/oIrUlw460D04HA3dcESkWJNBYhIDvbt24dfgDtevs7XlUkFiEj+pQ1Er2B2jDwLCrexf/9es2OIiFyTChCRHJw8eZIywc63/ocGoIsUnDMW8UHl3ThwUF2wRKT4UgEikoNTp07hE+B8H5VAzxoagC5SQMFO2A0rpLw70cdOkJiYaHYUEZFsOd9RlUgRO3nyOL5OWID4uoWbHUHE6fm4O9/nKCjcDcMwOHLkiNlRRESy5XxHVSJF7OSpE/gGOl9LgpdrsNkRRJyet2uI2RHyzMc/7fvq7NmzJicREcmeChCRHMScOo1foKvZMfJMBYhIwXm6ON/n6MqEGefOnTM5iYhI9lSAiFxHSkoKZ8+eVwuISCnljJ8jbz8boAJERIovFSAi13H69GkAJy1AnK/riEhx42rzxNXqY3aMPHH3smK1WTh//rzZUUREsqUCROQ6Tp06BYBvgLpgiZRW3m7O9VmyWCx4+7qpBUREii0VICLXcaUA8VMLiEip5eXifJ8lbz8XFSAiUmypABG5jiuzyHj5OVcBYrO44e7iZ3YMkRLBy8laQAC8fG3qgiUixZYKEJHrSEhIAMDNw7k+Kup+JeI4Xk44E5aHrwahi0jx5VxHVSJFLCEhAavVgs25GkDU/UrEgZzx8+Tla+XsuTNmxxARyZYKEJHriI+Px9XdhsViMTtKnrjZfM2OIFJiOGN3Rk8fG7Gx582OISKSLRUgIteRkJCAm5vN7Bh5ZrU4WZONSDFmsTjhd4DNQkpKitkxRESypQJE5DqSkpJwcXW+j4nVCQ+YRIorK873ebLaLKSmppodQ0QkW853ZCVShFJTU3HGY3m1gIg4jjN+nqxWSE1VC4iIFE/O960qUoRSU1OxWp1r/Ac4Z5cRkeLqxMFk5r571OwYebJvy2VcEr3NjiEiki0VICLXYbfbsThhO6FFjZsiDnP6WDL/+/KU2THyrGzAZbMjiIhkSwWIyHU4awuIgfp+izhK69TWbGITrv/+54Zb+r9dcMFC8fuOeJZn+c33N7NjiIhkSwWIyHVYrVbsdsPsGHlmN1SAiDjK8pTlRBJ5ze0uV/13pSjJXKxc+b877rj9+5877unXy1zYZD5/vW3ZXXc3u7E44Y8nIlI6qAARuQ5vb2+S4u1mx8gzu6HBpyKOkpxcH3gdSPz3lPDv/5OAJFJIJOXff0PyVf+/ckr59zaX/z2f+u9ldiykYsWOBQMLdizYAePfkx3jqv8b//7fTu6+k8pdCnfQMyAi4lgqQESuw8fHh4R45zuYN9QCIuIwKSkbgTcAT8AbC94Y+AC+gPe/p4B//++V6f/ZXfb/2wy8SM3XNL9JQNy/p3jSipv4q07PExiqFhARKZ5UgIhch7e3N4nxKdjthlONBUk1ks2OIFJihHm506FaEHFJScQnXyI+5TyJKSkkpqaSlGInKdUgxQ4pdjt2I+0EV0654Qp4kFaYXClOfP49+XLtAia7IscfKA8E4+OT4JDHLyLiaCpARK7Dx8cHgKQEOx5ezjO1bULKObMjiJQYbUJDaX7//Xm+XVJKCmfj4jgbH8/Z+HjOxcVxPiGB8wkJXEhI4GJiIhcTE7mclJR2Sk4mPjmR+ORLJKQcIyklhcRUO0mpkGI3SLEb2P8tctImmrh+gRMbWyefj1hEpHCpABG5Dm/vtHn0k+KdqwCJSz5tdgSREsO4dClft3NzcSHMz48wPz8HJ0qTardzLj4+vcg5Fx9PbHw85xMS+HDdOmrUqFYo9ysiUlAqQESu40oLSEKcHb8gk8PkQXzyWexGKlYtSChSYPaLF82OkC2b1UqwtzfB3lkXHFywcyeBgYEmpBIRyZlWKxO5jvQWkATnGtRtkKpuWCIOYhTTAuR6LiUn4+vra3YMEZFsqQARuY4rLSCJcc43Fa+6YYk4RnFtAbmei4mJKkBEpNhSASJyHVdaQBKdcC0QFSAijpHfMSBmOnP5MiEhIWbHEBHJlgoQkeu40of60nnnWwtEBYhIwRnx8ZDiXJ//uKQkLiUkqAARkWJLBYjIdfj6+uLr5825U863roYKEJGCszth68fpuDgAypYta3ISEZHsqQARyUGFCuU5dzLJ7Bh5FpccY3YEEaeXcO4cdrtzdcE8ffkygFpARKTY0jS8IjmoWKEKMadOmR0jz9QCIlJw369bx8OvvUZEYCA3BAdTPSiIqoGBVAsKolpgIGV9fLBYLGbHzOD4v4Pmw8PDTU4iIpI9FSAiOahYsSL71q01O0aexSYeNjuCiNNL8StH1dadOXtkPyuOneSXfftISv7/Lplerq5EBAZSMziYqv8WJdWCgqgeFESgl5cpmU9cvIjNZlMLiIgUWypARHJQoUIFzv3gfGNAziccIjk1DlebOQdBIiWBT712DHinbYbL4mLPcnDTb0RtXceJfds5efQAh6KOkrR7N8lXDVj3dXen6lXFSfV/C5SqQUGU8fAotMzHL16kXGgoVqt6WYtI8aQCRCQHFSpU4PzpeFKSDVxci1dXi+szOBO/hzCfRmYHEXFax+OMLJd5lQmkbvu7qNv+rizbLpw+wcGNqzm6fT0n9v3D0WOH2HvwMMk7dpCc+v8Lmvp7eFA9OJgbgoPTW02qBgZSNTAQH3f3AmU+GhtL+fLlC7QPEZHCpAJEJAcVK1bEMCD2dDJB5dzMjpMnp+N2qgARyacLSQZxeZyB1y84jIa396Lh7b2ybDsfHcWBTas5sn09pw7sZH/0If7Zs4/khDhSrhroHuTlxQ3BwdT4tzi50rUrIjAQT1fXHDMcjo2l2k035S24iEgRUgEikoMKFSoAcP5UklMWICKSPyezaf0oCP/wSjQJ70+Tbv2zbIs5vDet5WTHBk4d2MmOE0fYvHM3SYnxpP5bnFiAUF9fagQHUyPTYPgqAQG4uaT9ST947hwdq1VzaHYREUdSASKSgysFyJkTSVRraHKYPFIBIpJ/J+IdW4BcT0jlGoRUrkHzux/KcLndbufk/n84tOl3ju3YyKlDu9ly4ggbjv9DYmICdiMto8ViobyfHzWCgzkRG0tERESRZRcRySsVICI5KFOmDMHBgZw4lGB2lDw7l3BQA9FF8umEg1tA8sNqtVKuRn3K1aifZVtKSgrHd/3Noc1/EL1zMzGHd7Pu2CFsFgvlypUzIa2ISO6oABHJhfoNGhC9b7PZMfJBA9FF8qs4FCDX4+LiQsV6zahYr1n6ZduWzmXWqL40a9bsOrcUETGX5ugTyYUG9RsSvd/5puIFdcMSyY+LSQaX8zgAvTiIObyHgMAggoKCzI4iInJNKkBEcqFBgwacjLpMYrw95ysXMypARPJu14HDnI7ah2EU71aQzGIO7qZWrVpmxxARuS4VICK5UL9+fQwDjh+INztKnp24tNnsCCJOZ+5nH/B2jzq83qkSs18cwIYFn3P26IFiX5DE7N9Ovbp1zI4hInJdGgMikgt169bFYrFwdF88Vep6mx0nTy4mHeNc/AECPKuaHUXEaTx594+4X4TFq0+ya9V3bF78DQB+IeWo3rIjVZu2peqNbQkIr2xy0v+XkpTIiQM7afzUELOjiIhclwoQkVzw8vIiomplju2LMztKvhyOXa0CRCS3kvYSXmYn44bDuOEAKRw6Ch/NhZ9XH2fX8m/Y9ONXAJQJrUD1FrdS9ca0gsQ/rKJpsU/u30FqSgqNGjUyLYOISG6oABHJpYYNGrFr30qzY+TL4dhVNAobaHYMEedw6ccsF1WpAK89lXaCFPYfTitIlvx+lB3LZrHxhy8A8C9XKb0gqdasHX4h4UUW+/juLVgsFho0aFBk9ykikh8qQERyqX79BqxYvcTsGPly6vI24pPP4ukaaHYUkeIvmwIks2qVYcIzaSdIZvdB+Pg7+OX3KP75ZSYbFnwGQEB4FWq07EjVZm2p2rQtvsFhhRb76M6N3FCzFt7eztVNVERKHxUgIrnUoEEDYs8kcD4mCf8QN7Pj5JFB1IXfqRnU3ewgIsVb6lmI+y3PN6sZARNHpp0gmX/2pRUkS/88xNbFX7D++48BCKpYLUOXLZ/Asg6LHv3PX3Ro0dxh+xMRKSwqQERy6eabbwZg79+XaNbJ+VoSos6vVgEikpNLPwOpBd5N3erwzvNXziWzdRd8PBeWrdnP5kVRrJs7A4DgyjWo3qIjVW+8hapN2+IdEJyv+0tJSiR67zaaPT6owNlFRAqbxSjucwqKFCM1bqhGhUYX6Du6ktlR8szF6sH9DZbjYvUwO4pI8XWsN1ycU+h3s2E7fDYflq+BQ9GuJCamLXRaNqIW1VrcSrUb21KlSRu8/XO3oGDUtvV8MKA169ato3lztYKISPGmFhCRPGjXtgNLVn5rdox8SbEnEH1xA5XKtDY7ikjxZCTB5Z+L5K5urJd2SpPMui3w2fewYt0uNs7fz5pv3weLhdCqtdNbSCKatMHTLyDb/R36+3c8vbw0A5aIOAUVICJ50LZtWz7++GMunkvBN8D5Pj5RsatVgIhcS9xqsF805a5bNEw7pUnmj03w+XyDlet2sH7uXv6YNQUsFsKq1/23IGlLROPWePiWAeDQpt9o1aoVbm7ONj5NREoj5zuCEjHRLbfcAsC+vy/RuIO/uWHy4eD55bSq8Cw2qw5SRLK48I3ZCdLd3CTtBGAYyfy2AT6bb7D6r+2sm72L32dOxmKxUO6GhlRr3oFDm36jz3PPmBtaRCSXNAZEJI8qV6lIjZuT6P1MBbOj5Ev7Kq9RPfAOs2OIFC+p52BfeTDizU6SI7sdfl0PXyyA1Rvg6CkXUlMNFv+0iDvu0GdbRIo/q9kBRJxNu7Yd2Lep+B+kXMuOmO/MjiBS/MR+4RTFB4DVCh1awhcT4OAyGP9kCh7uLrRv397saCIiuaICRCSP2rZtS9Tui8RdTDE7Sr6cvLyZM3F7zI4hUnwYdjg3zewU+bZsjZW2t7TF3d3d7CgiIrmiAkQkj2655RYMA/b9fdnsKPm247RaQUTSxS2H5L1mp8iXhET4bSN0vK2T2VFERHJNBYhIHlWrVo2KlSqw/c9Ys6Pk276zi0lKvWR2DJHiwYlbP9ZshvgEOx07djQ7iohIrqkAEckji8XC3T3vYevqy9jtzjmHQ4o9gb1nFpkdQ8R0R44cYcCwH/h7h9lJ8mfpnxASEkD9+vXNjiIikmsqQETyoUePHpw9GU/Uzjizo+SbumGJwKoZM5j9o50m90DrfjB/KaSmmp0q95b87kLHjndgterPuYg4D31jieRD69atCQz05++V582Okm/nEw4RfXGD2TFEzJOURP+PPuJ8KjwL/LMF7h4OVTrCO59DrDlrEubagSPw944UevbsaXYUEZE8UQEikg8uLi50796DLaucexzFPzGzzY4gYp558+DkSTyAicC5VPgCcD0Bz7wJ5W6B4a/BvsMm57yGef8DDw83OnfubHYUEZE8UQEikk89evQg+sBlThxKMDtKvh06v4IzcbvNjiFS9FJSYNy4LBc/ABwANhjQNAGmfwM3dIZuj8GKtVCclu6dt9RG585d8PHxMTuKiEieqAARyadOnTrh6eXB5l/Pmx2lQP6Kft/sCCJF78svYdeua25uAvwGnEiFAQb8+gfc+iDUuxM+nZc2/a2ZoqJh3ZZU7r030twgIiL5oAJEJJ88PT25/fY7nL4b1pELf3D84kazY4gUnfh4ePnlXF01EPgMuJACbwFnD8JDL0J4WxgzBY6fKsyg1/b9UnBzc6Fbt27mBBARKQAVICIFcHfPu9m/9QLnY5LMjlIg66PfMzuCSNF5/304ejRPN7ECzwDH7bAUqBQL4z+ESh2g/0jY+E9hBL22Ob/Y6NSpE35+fkV7xyIiDqACRKQAunbtiouLjY3LzpsdpUBOXd7GofO/mh1DpPCdPw/jxxdoFx2BzcB+O3RJhbk/w433wk33pQ0MT0lxQM7rOHAE1vydSr9+9xfuHYmIFBIVICIFEBgYyJ3d7+TPH85jFKfRqfnwV/RU7EYhHzmJmG3iRDh3ziG7qgwsJK171khg1za498m0aXzf/gzOX3DI3WTx9Y/g4+NJ9+7dC+cOREQKmQoQkQJ6+KFHOLLnEoedeFFCgPMJB9l7drHZMUQKz/Hj8M47Dt+tG/AGcDYVZgIeJ+G5iRB+Cwx7FfYectx9GQbMXOTC3XdH4uXl5bgdi4gUIRUgIgV0++23Ex4exh8LzpgdpcA2Rn9Iit3k6X1ECsu4cWkD0AtRP2AfsNmAZonw4bdp0/h2eRSW/VnwaXw3/gN7DqbQr18/R8QVETGFChCRArLZbDz44EP89UssifF2s+MUyOXkE+yI+c7sGCKOt3cvfPRRkd1dA2AVcCoVBgGr/4TbHoI6XeHj7yA+n8sHzfwBwsKC6dChgwPTiogULRUgIg4waNAg4i4ls2mFY/qWm2nT8Q+5mBhtdgwRx7Hb4dFHITW1yO/aH/iEtHEi7wCxh+CRMWnds16cDNF5mMY3IRFmLrLRt+8DuLi4FEZcEZEioQJExAGqVq1Ku3Zt+XPhebOjFFiyPY7VUf81O4aI43z4IaxcaWoEK/AUEG3AcqDKRZjwEVRqD/2eg7+25byP2T/DmXOpPPbYY4UbVkSkkKkAEXGQhx9+hN0bYzkZlc++FcVI9MX17IyZZ3YMkYI7eBCee87sFBl0AP4GDtnhTjt8vwSa94KWfeC7Jdeexvf9WTZu79SRGjVqFGVcERGHUwEi4iB33303fmV8+WOh8w9GB1h3bLK6Yolzs9vhoYfg8mWzk2SrAjAfiE2B0cDe7dDr6bTFDSd+Audi//+667fCX9tSeWLYkyalFRFxHBUgIg7i6elJ/373s+bH8yQnOfdgdFBXLCkBikHXq9xwA14HzqTCt4B3DIx+O22cyONjYdcBmPo1RFSpSOfOnU1OKyJScCpARBxo2LBhXDibxLrFZ82O4hDqiiVOqxh2vcqN3sBeYIsBLZPSZsyq3TVt8cEhjw/DZrOZHVFEpMBUgIg4UK1ateje/U6WfnUGu925V0a/Ql2xxOkU865XuVEPWAmcToWmgNVq4/777zc5lYiIY6gAEXGw0aOf5/ihy2z5NTbnKzsBdcUSp+MkXa9yww044uLC4EcfJSwszOw4IiIOYTGMgq7LKiKZtWlzM9Gx2xj1WXUsFovZcRzipgojqVu2t9kxRK5vzx5o0sSpWz+u9gnwiMXC7t27NfuViJQYagERKQSjR7/AgW0X2fv3JbOjOMyao5M4fnGj2TFEri02Frp3LzHFRyrwtosL3bt1U/EhIiWKWkBECoFhGNSrXxdbwHGGvVvV7DgO427zp2etL/F1L292FJGMUlPhzjvh55/NTuIws4E+wJo1a2jZsqXZcUREHEYtICKFwGKxMHrU82z7/TxH98abHcdhElPP878DI0hOjTM7ikhGL7xQooqPVGCsiwudb79dxYeIlDhqAREpJMnJyVStFkGFBgkMGlfZ7DgOVcW/PR0j3sRi0W8YUgzMnAklbIaob4C+wLp162jevLnZcUREHEpHDyKFxNXVlWefeY6/fjnHqSOJZsdxqEPnV7LpxEdmxxCB9evh4YfNTuFQqcA4Fxe63HGHig8RKZHUAiJSiOLi4qhevSoVGybz8GtVzI7jcLdGvEHVgI5mx5DSKjoabrwRjh83O4lDzQL6odYPESm51AIiUoi8vLwYO/a/rF9yliO7S964iVWHX+ZM3G6zY0hplJAAPXuWuOLjSutH186dVXyISImlFhCRQpaSkkLtOrXwDD1TombEusLHLYzuN3yOt1uI2VGktLDb4YEH4OuvzU7icDOB+4H169fTrFkzs+OIiBQKtYCIFDIXFxfGv/Y6234/z+6NF82O43CXkk6weN8Q4pPPmh1FSouhQ0tk8REPvODiwl133qniQ0RKNLWAiBQBu91O8xbNOBu3l1FfVMdqLRmro18t0LM6XWt8iIeLv9lRpCR76il4912zUxSKV0nrfvXPjh1aeFBESjS1gIgUAavVyjuTJnNwx0XWLymZLQVn4/fx874nSEwpea08Ukw8/3yJLT6OAa9brTz51FMqPkSkxFMLiEgRuvuenqz+8xfGzquJm0fJrP/LetXjjupTcXfxNTuKlCRjxsB//2t2ikIzAPg5IIC9Bw9SpkwZs+OIiBSqknkEJFJMvfnGRC6cSWbZrFNmRyk0p+K2s3jfEBJSYs2OIiXFqFEluvj4C/gS+O/rr6v4EJFSQQWISBGqXr06w4YN5+dPT3E6umQtTni103E7+Wnvo8QnnzM7iji7J5+EN980O0WhMYCnbDYa1KnDwyVsQUURkWtRFyyRInbx4kXq1KmFf6U4hk2JwGIpeQPSrwjwqEqXGh/g5RpsdhRxNnY7DBkCM2aYnaRQfQP0BZYvX06HDh3MjiMiUiTUAiJSxHx9fZk2bTrb/zzPX7+U7BaCcwkHWLh7IGfi95odRZzJpUtw770lvvg4S1rrx909eqj4EJFSRS0gIiaJ7BXJ/5b/yNi5NfEu42J2nELlYvWkXZVxRPjrIEtycPAg3HUXbNtmdpJC9yAw38eHHbt3Ex4ebnYcEZEioxYQEZNMeXcKpLox991os6MUuhR7PMsOPMfG4zMwDLvZcaS4+vVXaNasVBQfS4HPgbfeeUfFh4iUOipARExSrlw53pr4Nn8sPM2uv0rH2hmbjn/I8oOjSU6NMzuKFDcffAC33QZnzpidpNBdBga7uND+llt46KGHzI4jIlLk1AVLxER2u522bduw78hmXpx1Q4ldGySzQM8adKo6CV93/fJb6iUlpc10NX262UmKzAjgAzc3tv3zD9WrVzc7johIkSsdRzsixZTVamXGjI85ezyZxZ+eMDtOkTkbv5cFu+/n+MVNZkcRM8XEQKdOpar4WA+8a7Ew7tVXVXyISKmlAkTEZLVr1+aFF/7DL1+c4tCOy2bHKTIJKef5ae8Q/omZY3YUMcOmTdC8OaxaZXaSIpMADLLZaNygAU8//bTZcURETKMuWCLFQFJSEjfd1JKjp3bzn69r4OFtMztSkarg24o2lV/Exy3M7ChS2JKS4NVXYfx4SE01O02RGgZ85OrKXxs3Ur9+fbPjiIiYRi0gIsWAm5sb3347h0vnYNaEo2bHKXJHL65h7o5e7Do93+woUpg2bYIbb4T//rfUFR8/AlOBtyZNUvEhIqWeWkBEipGvv/6a/v378+DYyrTqFmR2HFOoNaQEKsWtHgDRQAObjZvuuIOFP/6IxWIxO5KIiKlUgIgUMw8MeIDv5n7Df2beQGhlD7PjmMLV6k3LCiOoFdzD7ChSUJs2wcCBpWJtj+zYgU5WKzuCgti6YwfBwcFmRxIRMZ26YIkUM+9PfZ/y4ZX4+D9RJCeVzkX7ku2X+S3qvzww+C6ioqLMjiP5kZQEY8akDTQvpcUHwERghWHw1TffqPgQEfmXChCRYsbX15fZ384hel8C86eW/FXSr2Xj8nPM/OgH5tSrB+++C4mJZkeS3FqxotSO9bjaX8CLFgsjR47k1ltvNTuOiEixoS5YIsXUO++8w4gRIxj2bjXqty5jdpwilZJi57n22wiPS2U74AZQuTKMGwf9+oGtdM0S5jQ2bYLRo2HpUrOTmC4GuNHFhdAGDfhj7VpcXV3NjiQiUmyoBUSkmHrqqafo3PkOPn/5CDFHS9ev/1/9N4rLcanM4N/iA+DwYRgwABo1gkWLzAsnWe3dC336QNOmKj6AZKCX1Uq8nx/zFixQ8SEikokKEJFiymKx8NVXMwkJDGfa04eIv1Q6urIcP5TAX4vO0h9ol90Vtm+HO++E1q3h99+LNpxkdPw4DBkCderA7Nlmpyk2ngF+t1iYt2ABFStWNDuOiEixowJEpBgLCgpi0aLFXDht4eP/HMaeWvJ7TE57ah+ewNs5XfGPP6BNm7RipBQPcjbF+fPwwgtQrRpMnw4pKWYnKjY+A94Dprz3Hm3atDE7johIsaQCRKSYq127Nt/Nmcs/f15g3rvHzI5TqFbOieHkkSQmAmVze6NFi6Bhw7QuQGoRKVxHjsBLL0HVqvD66xAfb3aiYmUd8JjVyiMPP8xjjz1mdhwRkWJLg9BFnMSUKVN48skneeClSrTuUfKm80yMt/Nc+y3USzZYRwF+HalfHx5/PG2wuq+vAxOWUnY7LF8O06bBDz+knZcsjpM26LxK06asWLUKd3d3syOJiBRbKkBEnIRhGDz22GN8+tnHPDWtGjc0KVkH11OG7+OfPy6wEWjsiB36+sIDD6SNUahb1xF7LF3OnYPPP4cPPkgbZC7XdBlob7NxLCiIDZs3U65cObMjiYgUaypARJxIcnIynTrdxsbNaxj9RQ1CKpSMX1n3bbnI24P2Mgx4pzDuoG3btFaRnj1BMxJd38aNaa0d33yjLla5kAzcZbXym7s7q37/nSZNmpgdSUSk2FMBIuJkzpw5Q/PmN5JIDM99Wg0vXxezIxXYyE5bcT+Twl6gUNt1wsLg3nuhe/e0osTNLefblAb//JPWvWrevLQCRHLFAB4EZrm48NPixdx2221mRxIRcQoqQESc0K5du7jp5pYEVrDz5PtV8fBy3oX55r9/jJ8/PckcILIo79jPD+64I60Y6dwZAgOL8t7NlZwMv/2WVnT88AMcPGh2Iqf0PDAB+Prrr+nbt6/ZcUREnIYKEBEn9ddff9Hh1vZUrO3CE5MjcHV3vkntLpxN4oXbt9PODksAi1lBbLa0dUW6d087Va9uVpLCc/48LFmSVnAsXgyxsWYncmpTgCeBt99+mxEjRpgdR0TEqagAEXFiq1ev5vY7OlGzmRePvlkFF1fTDuHz5fUBuzi2PY4dQDWzw1ytVq20gqRp07RTgwbgbLMa7duX1p1q40ZYtw7+/FPrdTjIHKAP8MyzzzJx4kSz44iIOB0VICJO7pdffuHOO7vRqL0fD71aGavNOYqQv1eeZ/qzBxgLvGR2mJy4uKRN73ulICluRcnVxcaGDbBpk1o4CslioKfVSmSfPnz51VdYrc7X8igiYjYVICIlwPfff0+vXpG07BbI/S9WxGot3kWI3W7nmXbbCLucyj9AMTmMz5srRckNN0C5chAenvb/q//t71/w+0lIgOPH007R0Rn/ffgw/P23io0icqX46Ny1K3PmzsVNkxiIiOSLChCREmLmzJk88MADtO8dTO9nK2CxFN8i5Itxh/lj4RmWAx3MDlOYPD3/vygpWzZt1i0Xl7SpgF1c0k52e9qg8JSUtFNyctp4jSvFxrlzZj8KQcWHiIgjOf/8nSICQP/+/bl8+TKPPfYY7l5WejweXiyLkJOHE1i38Az3UcKLD0hbR+PAgbSTOC0VHyIijqUCRKQEefTRR7l06RLPPvssSfF2IkdUKHbdsaY+vR8PYJLZQURyQcWHiIjjqQARKWGeeeYZvLy8GDp0KJcv2HngpUrFZnasVfNiOHk4kfeBMLPDiORAxYeISOHQGBCREurbb7/l/vv7U/cmPx55vTJuHubO1pMYb+e59luonWzwF+C8SydKafAt8IDFQpdu3VR8iIg4mOYPFCmh+vTpw48/LmLPhnjeG3aAuIuppub56PkDJCYbfISKDyne3gP6An369eO7efNUfIiIOJgKEJES7I477mDZ0uWcOADvPLafC2eTTclxYNsl/vntAk8ATU1JIJIzg7Q1aYYDI555hs+/+AJXV1eTU4mIlDzqgiVSCmzbto1OnTqC+yWGT40gOLxoV94Ydfs2XE4nsxcoU6T3LJI7ycBg4HPgjTfeYOTIkeYGEhEpwdQCIlIK1K9fnz/+WIOXrSxvPbyfwzvjiuy+f5gezbnTybyHig8pni4A3axWvnZxYebMmSo+REQKmQoQkVKiatWq/PHHGiIq1Oath/exfsnZQr/Pi+dS+N8nJ7gV6FXo9yaSd4eAW2w21np6suSXX+jXr5/ZkURESjwVICKlSFhYGL/99geRkX34+D+HmDflGPbUwuuFOW3Efgw7fAAUj4mARf7fCuBGm40L4eH8sXYtHTqU+KUxRUSKBRUgIqWMp6cnX37xJZMmTWLpVzFMfeogcRdTHH4/W387z4Gtl/kPUMPhexfJPwN4F+hksdD4llv46++/qVevntmxRERKDQ1CFynFli5dSq/e9+Lhl8KQtytTLsLTIfu12+08234bwZdS2Ql4OGSvIgUXDzxmsfClYfDss8/y+uuv4+KiNXlFRIqSWkBESrHbbruNDX9tIsC7EhMG7GPL6vMO2e/Xrx/h0qVUZqDiQ4qPI6SN95jj6srXX3/NxIkTVXyIiJhABYhIKVetWjXWrV1Pp46dmTbiIItmHC/QuJBTRxJYM/8MvYHbHBdTpECWkjbe41RoKH+sWUPfvn3NjiQiUmqpABERfH19+f77+bzyyiv8OOMEkx7dz5njifna1/tP78fdgHccnFEkP5KA54BOQMN27diweTNNmjQxOZWISOmmAkREALBarYwZM4ZVq1aRcMaP//bZw7qf8zZV72/zT3P8YCITgHKFE1Mk1/YArWw23nVx4a233mLJ//5HSEiI2bFEREo9DUIXkSxiY2N5fOgQZn39Dc3vCKTv6Ip4+dque5ukBDvPtt9KrSQ7G4DrX1uk8BikrWg+zGolvHJlvvnuO5o2bWpyKhERuUItICKSRZkyZfh65iy+/vprdv6ZxKt997D370vXvc3H/zlIYpKdj1DxIeY5D/SxWBgE9Bk4kE1bt6r4EBEpZlSAiMg19e3bl61btlEzohFvD97L/PePkZKctdH00D+X2fZrLEOAG4s+pggAi4D6Li784u3N7Nmz+fiTT/Dx8TE7loiIZKIuWCKSo9TUVN544w1efnkM5Wt4cv+LFahUyyt9+6g7tmGLSWYv4G9aSimtTgJPWizMNgw6334702fMoFKlSmbHEhGRa1ALiIjkyGaz8cILL/Dnn2vwtVVi/AO7+e6doyTGp7Loo+Oci0nmXVR8SNG6Mtajts3GsjJlmDlzJj/9/LOKDxGRYk4tICKSJ8nJyUyaNImXXxmDT4CViycTuNkOywGL2eGk1DgAPGq1ssxup3+/fkx65x3NcCUi4iTUAiIieeLq6sqoUaP4Z/sOakY0JskONouFKLODSamQALwB1Lda2RMWxuLFi/lq5kwVHyIiTkQFiIjkS7Vq1fjtt9/55ptv2BESQm2rlfFA/pYvFLk+A5gH1HFx4T9WK48MG8b2Xbvo3Lmz2dFERCSPVICISL5ZrVb69OnDrn37ePzppxljtVLLxYVZgN3scFJibALaWa3cC9Tu2JFt27czefJkfH19zY4mIiL5oAJERArM19eXt956i23bt9PgjjvoBzSz2VhmdjBxaseBQaRN7Xy6enWWLFnCTz//TO3atU1OJiIiBaECREQcpnbt2iz88Ud+++033Jo04TbgdquVzWYHE6dyHhgL1LBa+cHfn6nvv8+Wf/7h9ttvNzmZiIg4ggoQEXG41q1b8+e6dcybN49DVarQBLjfYuGg2cGkWDsPjAMibDYmuLnx6FNPsffAAR5//HFcXFxMTiciIo6iaXhFpFAlJyfzySef8MqLL3L67Fn6GQajgDpmB5NiIxZ4F3jHZiPBZuOxxx9n5MiRlCtXzuxoIiJSCFSAiEiRuHz5Mp988gkTX3+doydO0NNi4XnDoJnZwcQ0KjxEREonFSAiUqSSkpKYOXMmE159lb0HD3Kb1coLdjtt0UKGpcUB4D3gE5uNZJuNR4cMYdSoUSo8RERKCRUgImKK1NRU5s2bx/hx49jyzz+0sNkYmppKJOBhdjhxOAP4FXjXYuEHwyCwTBkeHTqUJ554QoWHiEgpowJERExlGAY///wzk99+m6UrVhBkszEoNZVHgWpmh5MCSwC+ASbbbGxNTaVuzZo89eyz9OvXD09PT7PjiYiICVSAiEixsWfPHj788EM++/hjzl24wB1WK0PsdroCNrPDSZ5sBb4AvnJx4XRqKl07d+apESPo0KEDFos624mIlGYqQESk2ImPj2f27Nl88N57rN+0iUouLjyQkkJfQEvQFV8xwCzgCxcX/k5JISQggP4DBzJkyBBq1KhhdjwRESkmVICISLG2ceNGPvzwQ7779lvOX7xIQxcX+qak0AeoZHY4IQlYDHxusfATYLHZuLNbNwY8+CCdO3fG1dXV5IQiIlLcqAAREaeQmJjIkiVLmPX11/ywcCEJSUm0ttno++/A9WCzA5YiCcAyYB6w0GbjXGoqTRs2ZODDD9OnTx+Cg/VqiIjItakAERGnc/HiRRYsWMCsmTNZumwZht1OK5uNrqmpdAXqoyl9He0c8DPwA7DYZuNiaiq1qlfnnt696d27N/Xr1zc5oYiIOAsVICLi1GJiYliwYAE//fgjy5Yu5XJCAhVdXOiSkkJXoAPgbXZIJ5QKbAJWAj/bbPxmt5NqGDRt2JC77rmHe+65hzp1tJ69iIjknQoQESkxEhMTWb16NT/99BM/LVjAvsOHcbdaaQ20sdtpA7RABUl27MA2YAWw0mJhtdVKbGoqXh4etGvXjjvvuotu3bpRoUIFk5OKiIizUwEiIiXWnj17+Omnn1ixbBl//PYb5y5exGax0MRmo3VKCq2Bm4FQs4OaIBb4G9gIrAF+dXHhTEoK7q6u3NSqFR1uu4327dvTrFkz3NzczA0rIiIligoQESkV7HY7O3fu5Pfff087rVzJoWPHAKji6kr9lBQaGAYNgAZAdcDFzMAOFEtad6qNV06uruxNTgbAy8ODJo0b075jR9q3b0+rVq3w8NBa9CIiUnhUgIhIqXX06FF+//13Nm3axLYtW9j6999Ex8QA4GG1UsdqpUFKCrWBqqStzF4VKGNi5muJB/YDe68+Wa3stdmIvqrYaNyoEU2bN6dp06Y0bdqUWrVqYbNpmUcRESk6KkBERK5y+vRptm3bxtatW9NOmzaxZ+9eLly+nH4df5uNilYrlVJSqGgYlAMCr3EqQ/5WcU8mraiIAy4CJ686nbj6vIsLxywWjiYnc+XL3NfLixrVqlG9dm1q1KhBzZo1adKkiYoNEREpFlSAiIjkwDAMzp49y4EDB9i/fz9RUVFpp8OHiTpwgFOnTnEmNpakf1sarmYBvG02XCwWXADXf/9/9Qn+LTYMg3jDIO7fGaey42KzERoURGhoKKHlyxMaFkZ4eDjVq1enRo0a1KhRg7Jly2KxaCJiEREpnlSAiIg4gGEYxMfHc/bs2SynixcvkpKSku0p+d+ixdPTEy8vLzw9PTP828vLCx8fH8qWLUtYWBgBAQEqLkRExKmpABERERERkSJjNTuAiIiIiIiUHipARERERESkyKgAERERERGRIqMCREREREREiowKEBERERERKTIqQEREREREpMioABERERERkSKjAkRERERERIqMChARERERESkyKkBERERERKTIqAAREREREZEiowJERERERESKjAoQEREREREpMipARERERESkyKgAERERERGRIqMCREREREREiowKEBERERERKTIqQEREREREpMioABERERERkSKjAkRERERERIqMChARERERESkyKkBERERERKTIqAAREREREZEiowJERERERESKjAoQEREREREpMipARERERESkyKgAERERERGRIqMCREREREREisz/ATwJbmRm2I4yAAAAAElFTkSuQmCC' width=800.0/>\n",
       "            </div>\n",
       "        "
      ],
      "text/plain": [
       "Canvas(toolbar=Toolbar(toolitems=[('Home', 'Reset original view', 'home', 'home'), ('Back', 'Back to previous …"
      ]
     },
     "metadata": {},
     "output_type": "display_data"
    }
   ],
   "source": [
    "fig, ax = plt.subplots()\n",
    "fig.set_size_inches(8,4)\n",
    "fig.suptitle(\"Number of get in to/out of the Buses\", fontsize=16, fontweight='bold')\n",
    "\n",
    "sizes = df_kataster['Steige'].value_counts()\n",
    "labels = df_kataster['Steige'].unique()\n",
    "# cm = mcolors.TABLEAU_COLORS\n",
    "cm = ['yellowgreen','red','gold','lightskyblue','lightcoral',\n",
    "          'blue','magenta','cyan','violet']\n",
    "\n",
    "\n",
    "ax.pie(sizes, labels=None, colors=cm, wedgeprops = {'linewidth': 1, 'edgecolor' : 'black'},\n",
    "      textprops = {'fontsize': 15}, labeldistance=1.1, pctdistance=0.5)\n",
    "\n",
    "\n",
    "#draw circle\n",
    "centre_circle = plt.Circle((0,0),0.70,fc='white')\n",
    "fig = plt.gcf()\n",
    "fig.gca().add_artist(centre_circle)\n",
    "\n",
    "# Equal aspect ratio ensures that pie is drawn as a circle\n",
    "ax.axis('equal')  \n",
    "\n",
    "\n",
    "labels = [f'{l}, {s:0.1f}%' for l, s in zip(labels, (sizes*100)/sizes.sum())]\n",
    "plt.legend(bbox_to_anchor=(1, 1), loc='upper left', labels=labels, fontsize=8)\n",
    "\n",
    "plt.tight_layout()\n",
    "plt.show()"
   ]
  },
  {
   "cell_type": "code",
   "execution_count": 80,
   "id": "5a8e0dfa-f214-44aa-a1dc-a5e959c4ebd7",
   "metadata": {},
   "outputs": [
    {
     "data": {
      "text/plain": [
       "array([nan, 'gibt es nicht mehr'], dtype=object)"
      ]
     },
     "execution_count": 80,
     "metadata": {},
     "output_type": "execute_result"
    }
   ],
   "source": [
    "df_kataster['Sonstiges'].unique()"
   ]
  },
  {
   "cell_type": "code",
   "execution_count": 81,
   "id": "0116540d-857e-4d6d-8041-aaec536aa111",
   "metadata": {},
   "outputs": [
    {
     "data": {
      "text/plain": [
       "array([nan])"
      ]
     },
     "execution_count": 81,
     "metadata": {},
     "output_type": "execute_result"
    }
   ],
   "source": [
    "df_kataster['Weitere Namen'].unique()"
   ]
  },
  {
   "cell_type": "code",
   "execution_count": 84,
   "id": "98abfd41-87d5-4102-b767-b8b3f50df2f1",
   "metadata": {},
   "outputs": [
    {
     "data": {
      "text/plain": [
       "array([nan])"
      ]
     },
     "execution_count": 84,
     "metadata": {},
     "output_type": "execute_result"
    }
   ],
   "source": [
    "df_kataster['Winterdienst'].unique()"
   ]
  },
  {
   "cell_type": "code",
   "execution_count": 85,
   "id": "925d3f1e-f319-4114-a7d2-4792869b298b",
   "metadata": {},
   "outputs": [
    {
     "data": {
      "text/plain": [
       "array([nan])"
      ]
     },
     "execution_count": 85,
     "metadata": {},
     "output_type": "execute_result"
    }
   ],
   "source": [
    "df_kataster['WartungDurch'].unique()"
   ]
  },
  {
   "cell_type": "code",
   "execution_count": 86,
   "id": "fd94d437-766f-42ab-8440-86568ad50be9",
   "metadata": {},
   "outputs": [
    {
     "data": {
      "text/plain": [
       "array([nan])"
      ]
     },
     "execution_count": 86,
     "metadata": {},
     "output_type": "execute_result"
    }
   ],
   "source": [
    "df_kataster['Reinigungsaufträge'].unique()"
   ]
  },
  {
   "cell_type": "code",
   "execution_count": 87,
   "id": "59a1172a-cc27-4e35-9738-bde8bbb49052",
   "metadata": {},
   "outputs": [
    {
     "data": {
      "text/plain": [
       "array([nan, 'Bild 1'], dtype=object)"
      ]
     },
     "execution_count": 87,
     "metadata": {},
     "output_type": "execute_result"
    }
   ],
   "source": [
    "df_kataster['Haltestellen Bild 1'].unique()"
   ]
  },
  {
   "cell_type": "code",
   "execution_count": 98,
   "id": "bde4b3ea-67cd-4457-9f9d-bec588837462",
   "metadata": {},
   "outputs": [
    {
     "data": {
      "text/html": [
       "<div>\n",
       "<style scoped>\n",
       "    .dataframe tbody tr th:only-of-type {\n",
       "        vertical-align: middle;\n",
       "    }\n",
       "\n",
       "    .dataframe tbody tr th {\n",
       "        vertical-align: top;\n",
       "    }\n",
       "\n",
       "    .dataframe thead th {\n",
       "        text-align: right;\n",
       "    }\n",
       "</style>\n",
       "<table border=\"1\" class=\"dataframe\">\n",
       "  <thead>\n",
       "    <tr style=\"text-align: right;\">\n",
       "      <th></th>\n",
       "      <th>Ort</th>\n",
       "      <th>Name</th>\n",
       "      <th>GlobaleID</th>\n",
       "      <th>Tarifzone</th>\n",
       "      <th>Kategorie</th>\n",
       "      <th>Aktiv</th>\n",
       "      <th>Ruftaxihaltestelle</th>\n",
       "      <th>Steige</th>\n",
       "      <th>Sonstiges</th>\n",
       "      <th>Weitere Namen</th>\n",
       "      <th>AGS</th>\n",
       "      <th>PLZ</th>\n",
       "      <th>Aufbaudatum</th>\n",
       "      <th>Reinigungsaufträge</th>\n",
       "      <th>Winterdienst</th>\n",
       "      <th>WartungDurch</th>\n",
       "      <th>Haltestellen Bild 1</th>\n",
       "      <th>Haltestellen Bild 2</th>\n",
       "      <th>Haltestellen Bild 3</th>\n",
       "      <th>Erhebungszeitpunkt</th>\n",
       "      <th>Erheber</th>\n",
       "    </tr>\n",
       "    <tr>\n",
       "      <th>Nr</th>\n",
       "      <th></th>\n",
       "      <th></th>\n",
       "      <th></th>\n",
       "      <th></th>\n",
       "      <th></th>\n",
       "      <th></th>\n",
       "      <th></th>\n",
       "      <th></th>\n",
       "      <th></th>\n",
       "      <th></th>\n",
       "      <th></th>\n",
       "      <th></th>\n",
       "      <th></th>\n",
       "      <th></th>\n",
       "      <th></th>\n",
       "      <th></th>\n",
       "      <th></th>\n",
       "      <th></th>\n",
       "      <th></th>\n",
       "      <th></th>\n",
       "      <th></th>\n",
       "    </tr>\n",
       "  </thead>\n",
       "  <tbody>\n",
       "    <tr>\n",
       "      <th>6226</th>\n",
       "      <td>Kaiserslautern</td>\n",
       "      <td>Stadtmitte</td>\n",
       "      <td>de:07312:6226</td>\n",
       "      <td>800</td>\n",
       "      <td>NaN</td>\n",
       "      <td>J</td>\n",
       "      <td>N</td>\n",
       "      <td>7</td>\n",
       "      <td>NaN</td>\n",
       "      <td>NaN</td>\n",
       "      <td>7312000</td>\n",
       "      <td>NaN</td>\n",
       "      <td>00:00:00</td>\n",
       "      <td>NaN</td>\n",
       "      <td>NaN</td>\n",
       "      <td>NaN</td>\n",
       "      <td>Bild 1</td>\n",
       "      <td>NaN</td>\n",
       "      <td>NaN</td>\n",
       "      <td>2021-06-17 00:00:00</td>\n",
       "      <td>Brass</td>\n",
       "    </tr>\n",
       "    <tr>\n",
       "      <th>8021</th>\n",
       "      <td>Kaiserslautern</td>\n",
       "      <td>Westbahnhof</td>\n",
       "      <td>de:07312:8021</td>\n",
       "      <td>800</td>\n",
       "      <td>NaN</td>\n",
       "      <td>J</td>\n",
       "      <td>N</td>\n",
       "      <td>3</td>\n",
       "      <td>NaN</td>\n",
       "      <td>NaN</td>\n",
       "      <td>7312000</td>\n",
       "      <td>NaN</td>\n",
       "      <td>00:00:00</td>\n",
       "      <td>NaN</td>\n",
       "      <td>NaN</td>\n",
       "      <td>NaN</td>\n",
       "      <td>Bild 1</td>\n",
       "      <td>Bild 2</td>\n",
       "      <td>NaN</td>\n",
       "      <td>2021-12-20 00:00:00</td>\n",
       "      <td>Brass</td>\n",
       "    </tr>\n",
       "    <tr>\n",
       "      <th>8125</th>\n",
       "      <td>Einsiedlerhof</td>\n",
       "      <td>Bahnhof</td>\n",
       "      <td>de:07312:8125</td>\n",
       "      <td>801</td>\n",
       "      <td>NaN</td>\n",
       "      <td>J</td>\n",
       "      <td>N</td>\n",
       "      <td>4</td>\n",
       "      <td>NaN</td>\n",
       "      <td>NaN</td>\n",
       "      <td>7312000</td>\n",
       "      <td>NaN</td>\n",
       "      <td>00:00:00</td>\n",
       "      <td>NaN</td>\n",
       "      <td>NaN</td>\n",
       "      <td>NaN</td>\n",
       "      <td>Bild 1</td>\n",
       "      <td>NaN</td>\n",
       "      <td>NaN</td>\n",
       "      <td>2021-12-16 00:00:00</td>\n",
       "      <td>Brass</td>\n",
       "    </tr>\n",
       "    <tr>\n",
       "      <th>8186</th>\n",
       "      <td>Kaiserslautern</td>\n",
       "      <td>Galgenschanze Bahnhof</td>\n",
       "      <td>de:07312:8186</td>\n",
       "      <td>800</td>\n",
       "      <td>NaN</td>\n",
       "      <td>J</td>\n",
       "      <td>N</td>\n",
       "      <td>1</td>\n",
       "      <td>NaN</td>\n",
       "      <td>NaN</td>\n",
       "      <td>7312000</td>\n",
       "      <td>NaN</td>\n",
       "      <td>00:00:00</td>\n",
       "      <td>NaN</td>\n",
       "      <td>NaN</td>\n",
       "      <td>NaN</td>\n",
       "      <td>Bild 1</td>\n",
       "      <td>NaN</td>\n",
       "      <td>NaN</td>\n",
       "      <td>2021-12-20 00:00:00</td>\n",
       "      <td>Brass</td>\n",
       "    </tr>\n",
       "    <tr>\n",
       "      <th>9035</th>\n",
       "      <td>Kaiserslautern</td>\n",
       "      <td>Hbf</td>\n",
       "      <td>de:07312:9035</td>\n",
       "      <td>800</td>\n",
       "      <td>NaN</td>\n",
       "      <td>J</td>\n",
       "      <td>N</td>\n",
       "      <td>26</td>\n",
       "      <td>NaN</td>\n",
       "      <td>NaN</td>\n",
       "      <td>7312000</td>\n",
       "      <td>NaN</td>\n",
       "      <td>00:00:00</td>\n",
       "      <td>NaN</td>\n",
       "      <td>NaN</td>\n",
       "      <td>NaN</td>\n",
       "      <td>Bild 1</td>\n",
       "      <td>Bild 2</td>\n",
       "      <td>NaN</td>\n",
       "      <td>2021-12-22 10:20:13.865000</td>\n",
       "      <td>Brass</td>\n",
       "    </tr>\n",
       "    <tr>\n",
       "      <th>91136</th>\n",
       "      <td>Hohenecken</td>\n",
       "      <td>Brücke</td>\n",
       "      <td>de:07312:91136</td>\n",
       "      <td>800</td>\n",
       "      <td>NaN</td>\n",
       "      <td>J</td>\n",
       "      <td>N</td>\n",
       "      <td>2</td>\n",
       "      <td>NaN</td>\n",
       "      <td>NaN</td>\n",
       "      <td>7312000</td>\n",
       "      <td>NaN</td>\n",
       "      <td>00:00:00</td>\n",
       "      <td>NaN</td>\n",
       "      <td>NaN</td>\n",
       "      <td>NaN</td>\n",
       "      <td>Bild 1</td>\n",
       "      <td>NaN</td>\n",
       "      <td>NaN</td>\n",
       "      <td>2021-06-14 00:00:00</td>\n",
       "      <td>Brass</td>\n",
       "    </tr>\n",
       "    <tr>\n",
       "      <th>91137</th>\n",
       "      <td>Hohenecken</td>\n",
       "      <td>Burg</td>\n",
       "      <td>de:07312:91137</td>\n",
       "      <td>800</td>\n",
       "      <td>NaN</td>\n",
       "      <td>J</td>\n",
       "      <td>N</td>\n",
       "      <td>2</td>\n",
       "      <td>NaN</td>\n",
       "      <td>NaN</td>\n",
       "      <td>7312000</td>\n",
       "      <td>NaN</td>\n",
       "      <td>00:00:00</td>\n",
       "      <td>NaN</td>\n",
       "      <td>NaN</td>\n",
       "      <td>NaN</td>\n",
       "      <td>Bild 1</td>\n",
       "      <td>Bild 2</td>\n",
       "      <td>NaN</td>\n",
       "      <td>2021-06-14 00:00:00</td>\n",
       "      <td>Brass</td>\n",
       "    </tr>\n",
       "    <tr>\n",
       "      <th>91229</th>\n",
       "      <td>Hohenecken</td>\n",
       "      <td>Hohenecken Bahnhof</td>\n",
       "      <td>de:07312:91229</td>\n",
       "      <td>800</td>\n",
       "      <td>NaN</td>\n",
       "      <td>J</td>\n",
       "      <td>N</td>\n",
       "      <td>3</td>\n",
       "      <td>NaN</td>\n",
       "      <td>NaN</td>\n",
       "      <td>7312000</td>\n",
       "      <td>NaN</td>\n",
       "      <td>00:00:00</td>\n",
       "      <td>NaN</td>\n",
       "      <td>NaN</td>\n",
       "      <td>NaN</td>\n",
       "      <td>Bild 1</td>\n",
       "      <td>Bild 2</td>\n",
       "      <td>NaN</td>\n",
       "      <td>2021-12-16 00:00:00</td>\n",
       "      <td>Brass</td>\n",
       "    </tr>\n",
       "    <tr>\n",
       "      <th>91310</th>\n",
       "      <td>Kaiserslautern</td>\n",
       "      <td>Uni Zentral</td>\n",
       "      <td>de:07312:91310</td>\n",
       "      <td>800</td>\n",
       "      <td>NaN</td>\n",
       "      <td>J</td>\n",
       "      <td>N</td>\n",
       "      <td>3</td>\n",
       "      <td>NaN</td>\n",
       "      <td>NaN</td>\n",
       "      <td>7312000</td>\n",
       "      <td>NaN</td>\n",
       "      <td>00:00:00</td>\n",
       "      <td>NaN</td>\n",
       "      <td>NaN</td>\n",
       "      <td>NaN</td>\n",
       "      <td>Bild 1</td>\n",
       "      <td>Bild 2</td>\n",
       "      <td>Bild 3</td>\n",
       "      <td>2021-06-15 00:00:00</td>\n",
       "      <td>Brass</td>\n",
       "    </tr>\n",
       "  </tbody>\n",
       "</table>\n",
       "</div>"
      ],
      "text/plain": [
       "                  Ort                   Name       GlobaleID  Tarifzone  \\\n",
       "Nr                                                                        \n",
       "6226   Kaiserslautern             Stadtmitte   de:07312:6226        800   \n",
       "8021   Kaiserslautern            Westbahnhof   de:07312:8021        800   \n",
       "8125    Einsiedlerhof                Bahnhof   de:07312:8125        801   \n",
       "8186   Kaiserslautern  Galgenschanze Bahnhof   de:07312:8186        800   \n",
       "9035   Kaiserslautern                    Hbf   de:07312:9035        800   \n",
       "91136      Hohenecken                 Brücke  de:07312:91136        800   \n",
       "91137      Hohenecken                   Burg  de:07312:91137        800   \n",
       "91229      Hohenecken     Hohenecken Bahnhof  de:07312:91229        800   \n",
       "91310  Kaiserslautern            Uni Zentral  de:07312:91310        800   \n",
       "\n",
       "       Kategorie Aktiv Ruftaxihaltestelle  Steige Sonstiges  Weitere Namen  \\\n",
       "Nr                                                                           \n",
       "6226         NaN     J                  N       7       NaN            NaN   \n",
       "8021         NaN     J                  N       3       NaN            NaN   \n",
       "8125         NaN     J                  N       4       NaN            NaN   \n",
       "8186         NaN     J                  N       1       NaN            NaN   \n",
       "9035         NaN     J                  N      26       NaN            NaN   \n",
       "91136        NaN     J                  N       2       NaN            NaN   \n",
       "91137        NaN     J                  N       2       NaN            NaN   \n",
       "91229        NaN     J                  N       3       NaN            NaN   \n",
       "91310        NaN     J                  N       3       NaN            NaN   \n",
       "\n",
       "           AGS  PLZ Aufbaudatum  Reinigungsaufträge  Winterdienst  \\\n",
       "Nr                                                                  \n",
       "6226   7312000  NaN    00:00:00                 NaN           NaN   \n",
       "8021   7312000  NaN    00:00:00                 NaN           NaN   \n",
       "8125   7312000  NaN    00:00:00                 NaN           NaN   \n",
       "8186   7312000  NaN    00:00:00                 NaN           NaN   \n",
       "9035   7312000  NaN    00:00:00                 NaN           NaN   \n",
       "91136  7312000  NaN    00:00:00                 NaN           NaN   \n",
       "91137  7312000  NaN    00:00:00                 NaN           NaN   \n",
       "91229  7312000  NaN    00:00:00                 NaN           NaN   \n",
       "91310  7312000  NaN    00:00:00                 NaN           NaN   \n",
       "\n",
       "       WartungDurch Haltestellen Bild 1 Haltestellen Bild 2  \\\n",
       "Nr                                                            \n",
       "6226            NaN              Bild 1                 NaN   \n",
       "8021            NaN              Bild 1              Bild 2   \n",
       "8125            NaN              Bild 1                 NaN   \n",
       "8186            NaN              Bild 1                 NaN   \n",
       "9035            NaN              Bild 1              Bild 2   \n",
       "91136           NaN              Bild 1                 NaN   \n",
       "91137           NaN              Bild 1              Bild 2   \n",
       "91229           NaN              Bild 1              Bild 2   \n",
       "91310           NaN              Bild 1              Bild 2   \n",
       "\n",
       "      Haltestellen Bild 3          Erhebungszeitpunkt Erheber  \n",
       "Nr                                                             \n",
       "6226                  NaN         2021-06-17 00:00:00   Brass  \n",
       "8021                  NaN         2021-12-20 00:00:00   Brass  \n",
       "8125                  NaN         2021-12-16 00:00:00   Brass  \n",
       "8186                  NaN         2021-12-20 00:00:00   Brass  \n",
       "9035                  NaN  2021-12-22 10:20:13.865000   Brass  \n",
       "91136                 NaN         2021-06-14 00:00:00   Brass  \n",
       "91137                 NaN         2021-06-14 00:00:00   Brass  \n",
       "91229                 NaN         2021-12-16 00:00:00   Brass  \n",
       "91310              Bild 3         2021-06-15 00:00:00   Brass  "
      ]
     },
     "execution_count": 98,
     "metadata": {},
     "output_type": "execute_result"
    }
   ],
   "source": [
    "df_kataster[df_kataster['Haltestellen Bild 1']=='Bild 1']"
   ]
  },
  {
   "cell_type": "markdown",
   "id": "5e419a6d-abe6-4cb6-8e6c-0d592e05534e",
   "metadata": {},
   "source": [
    "# routes"
   ]
  },
  {
   "cell_type": "code",
   "execution_count": 6,
   "id": "00b926ca-a63c-4648-ba5a-5a77a089ff21",
   "metadata": {},
   "outputs": [
    {
     "data": {
      "text/html": [
       "<div>\n",
       "<style scoped>\n",
       "    .dataframe tbody tr th:only-of-type {\n",
       "        vertical-align: middle;\n",
       "    }\n",
       "\n",
       "    .dataframe tbody tr th {\n",
       "        vertical-align: top;\n",
       "    }\n",
       "\n",
       "    .dataframe thead th {\n",
       "        text-align: right;\n",
       "    }\n",
       "</style>\n",
       "<table border=\"1\" class=\"dataframe\">\n",
       "  <thead>\n",
       "    <tr style=\"text-align: right;\">\n",
       "      <th></th>\n",
       "      <th>route_id</th>\n",
       "      <th>agency_id</th>\n",
       "      <th>route_short_name</th>\n",
       "      <th>route_long_name</th>\n",
       "      <th>route_type</th>\n",
       "      <th>route_color</th>\n",
       "      <th>route_text_color</th>\n",
       "    </tr>\n",
       "  </thead>\n",
       "  <tbody>\n",
       "    <tr>\n",
       "      <th>0</th>\n",
       "      <td>vrn-1-052x-1</td>\n",
       "      <td>vrn-99</td>\n",
       "      <td>SEV R52 SNCF</td>\n",
       "      <td>Strasbourg - Lauterbourg Erfassungslinie Fahrp...</td>\n",
       "      <td>3</td>\n",
       "      <td>0000FF</td>\n",
       "      <td>NaN</td>\n",
       "    </tr>\n",
       "    <tr>\n",
       "      <th>1</th>\n",
       "      <td>vrn-1-052y-1</td>\n",
       "      <td>vrn-99</td>\n",
       "      <td>R 52 SNCF</td>\n",
       "      <td>Strasbourg - Lauterbourg</td>\n",
       "      <td>2</td>\n",
       "      <td>NaN</td>\n",
       "      <td>NaN</td>\n",
       "    </tr>\n",
       "    <tr>\n",
       "      <th>2</th>\n",
       "      <td>vrn-1-053x-1</td>\n",
       "      <td>vrn-99</td>\n",
       "      <td>SEV R53 SNCF</td>\n",
       "      <td>(Strasbourg -) Wissembourg - Winden (- Neustad...</td>\n",
       "      <td>3</td>\n",
       "      <td>NaN</td>\n",
       "      <td>NaN</td>\n",
       "    </tr>\n",
       "    <tr>\n",
       "      <th>3</th>\n",
       "      <td>vrn-1-053y-1</td>\n",
       "      <td>vrn-99</td>\n",
       "      <td>R 53 SNCF</td>\n",
       "      <td>Strasbourg - Wissembourg</td>\n",
       "      <td>2</td>\n",
       "      <td>NaN</td>\n",
       "      <td>NaN</td>\n",
       "    </tr>\n",
       "    <tr>\n",
       "      <th>4</th>\n",
       "      <td>vrn-6-058-1</td>\n",
       "      <td>vrn-99</td>\n",
       "      <td>Kuckucksbähnel</td>\n",
       "      <td>Historischer Dampfzug \"Kuckucksbähnel\" Elmstei...</td>\n",
       "      <td>2</td>\n",
       "      <td>NaN</td>\n",
       "      <td>NaN</td>\n",
       "    </tr>\n",
       "  </tbody>\n",
       "</table>\n",
       "</div>"
      ],
      "text/plain": [
       "       route_id agency_id route_short_name  \\\n",
       "0  vrn-1-052x-1    vrn-99     SEV R52 SNCF   \n",
       "1  vrn-1-052y-1    vrn-99        R 52 SNCF   \n",
       "2  vrn-1-053x-1    vrn-99     SEV R53 SNCF   \n",
       "3  vrn-1-053y-1    vrn-99        R 53 SNCF   \n",
       "4   vrn-6-058-1    vrn-99   Kuckucksbähnel   \n",
       "\n",
       "                                     route_long_name  route_type route_color  \\\n",
       "0  Strasbourg - Lauterbourg Erfassungslinie Fahrp...           3      0000FF   \n",
       "1                           Strasbourg - Lauterbourg           2         NaN   \n",
       "2  (Strasbourg -) Wissembourg - Winden (- Neustad...           3         NaN   \n",
       "3                           Strasbourg - Wissembourg           2         NaN   \n",
       "4  Historischer Dampfzug \"Kuckucksbähnel\" Elmstei...           2         NaN   \n",
       "\n",
       "   route_text_color  \n",
       "0               NaN  \n",
       "1               NaN  \n",
       "2               NaN  \n",
       "3               NaN  \n",
       "4               NaN  "
      ]
     },
     "execution_count": 6,
     "metadata": {},
     "output_type": "execute_result"
    }
   ],
   "source": [
    "df_routes = pd.read_csv(\"datasets/Buses/routes.txt\")\n",
    "df_routes.head()"
   ]
  },
  {
   "cell_type": "code",
   "execution_count": 106,
   "id": "255c2060-190e-4a71-ba8e-20ae8590cdc2",
   "metadata": {},
   "outputs": [
    {
     "data": {
      "text/plain": [
       "1560"
      ]
     },
     "execution_count": 106,
     "metadata": {},
     "output_type": "execute_result"
    }
   ],
   "source": [
    "len(df_routes['route_id'].unique())"
   ]
  },
  {
   "cell_type": "code",
   "execution_count": 8,
   "id": "eba20f8b-40bb-4322-a15b-308504b2157c",
   "metadata": {},
   "outputs": [
    {
     "data": {
      "text/plain": [
       "array([3, 2, 0, 4, 7])"
      ]
     },
     "execution_count": 8,
     "metadata": {},
     "output_type": "execute_result"
    }
   ],
   "source": [
    "df_routes['route_type'].unique()"
   ]
  },
  {
   "cell_type": "markdown",
   "id": "d978e378-4e12-4c63-8b50-eadc4cd76c82",
   "metadata": {},
   "source": [
    "# shapes"
   ]
  },
  {
   "cell_type": "code",
   "execution_count": 107,
   "id": "88a957a5-26b8-4b31-b5f5-f27dd0f56a09",
   "metadata": {},
   "outputs": [
    {
     "data": {
      "text/html": [
       "<div>\n",
       "<style scoped>\n",
       "    .dataframe tbody tr th:only-of-type {\n",
       "        vertical-align: middle;\n",
       "    }\n",
       "\n",
       "    .dataframe tbody tr th {\n",
       "        vertical-align: top;\n",
       "    }\n",
       "\n",
       "    .dataframe thead th {\n",
       "        text-align: right;\n",
       "    }\n",
       "</style>\n",
       "<table border=\"1\" class=\"dataframe\">\n",
       "  <thead>\n",
       "    <tr style=\"text-align: right;\">\n",
       "      <th></th>\n",
       "      <th>shape_id</th>\n",
       "      <th>shape_pt_lat</th>\n",
       "      <th>shape_pt_lon</th>\n",
       "      <th>shape_pt_sequence</th>\n",
       "      <th>shape_dist_traveled</th>\n",
       "    </tr>\n",
       "  </thead>\n",
       "  <tbody>\n",
       "  </tbody>\n",
       "</table>\n",
       "</div>"
      ],
      "text/plain": [
       "Empty DataFrame\n",
       "Columns: [shape_id, shape_pt_lat, shape_pt_lon, shape_pt_sequence, shape_dist_traveled]\n",
       "Index: []"
      ]
     },
     "execution_count": 107,
     "metadata": {},
     "output_type": "execute_result"
    }
   ],
   "source": [
    "df_shapes = pd.read_csv(\"datasets/Buses/shapes.txt\")\n",
    "df_shapes.head()"
   ]
  },
  {
   "cell_type": "markdown",
   "id": "9dcc9b87-c1b8-42b0-8451-7cf5ffb67018",
   "metadata": {},
   "source": [
    "# stops"
   ]
  },
  {
   "cell_type": "code",
   "execution_count": 2,
   "id": "bf736e8a-6259-4111-96ed-e5349350c173",
   "metadata": {},
   "outputs": [
    {
     "data": {
      "text/html": [
       "<div>\n",
       "<style scoped>\n",
       "    .dataframe tbody tr th:only-of-type {\n",
       "        vertical-align: middle;\n",
       "    }\n",
       "\n",
       "    .dataframe tbody tr th {\n",
       "        vertical-align: top;\n",
       "    }\n",
       "\n",
       "    .dataframe thead th {\n",
       "        text-align: right;\n",
       "    }\n",
       "</style>\n",
       "<table border=\"1\" class=\"dataframe\">\n",
       "  <thead>\n",
       "    <tr style=\"text-align: right;\">\n",
       "      <th></th>\n",
       "      <th>stop_id</th>\n",
       "      <th>stop_code</th>\n",
       "      <th>stop_name</th>\n",
       "      <th>stop_lat</th>\n",
       "      <th>stop_lon</th>\n",
       "      <th>location_type</th>\n",
       "      <th>parent_station</th>\n",
       "    </tr>\n",
       "  </thead>\n",
       "  <tbody>\n",
       "    <tr>\n",
       "      <th>0</th>\n",
       "      <td>de:06411:11226:2</td>\n",
       "      <td>NaN</td>\n",
       "      <td>Darmstadt, Ost</td>\n",
       "      <td>49.874854</td>\n",
       "      <td>8.674222</td>\n",
       "      <td>NaN</td>\n",
       "      <td>NaN</td>\n",
       "    </tr>\n",
       "    <tr>\n",
       "      <th>1</th>\n",
       "      <td>de:06411:15972</td>\n",
       "      <td>NaN</td>\n",
       "      <td>Darmstadt, B. Forst. Jugendhof</td>\n",
       "      <td>49.864184</td>\n",
       "      <td>8.729972</td>\n",
       "      <td>NaN</td>\n",
       "      <td>NaN</td>\n",
       "    </tr>\n",
       "    <tr>\n",
       "      <th>2</th>\n",
       "      <td>de:06411:16014</td>\n",
       "      <td>NaN</td>\n",
       "      <td>Darmstadt, Kirschenallee</td>\n",
       "      <td>49.874779</td>\n",
       "      <td>8.638415</td>\n",
       "      <td>NaN</td>\n",
       "      <td>NaN</td>\n",
       "    </tr>\n",
       "    <tr>\n",
       "      <th>3</th>\n",
       "      <td>de:06411:16016</td>\n",
       "      <td>NaN</td>\n",
       "      <td>Darmstadt, Schloß</td>\n",
       "      <td>49.873106</td>\n",
       "      <td>8.656651</td>\n",
       "      <td>NaN</td>\n",
       "      <td>NaN</td>\n",
       "    </tr>\n",
       "    <tr>\n",
       "      <th>4</th>\n",
       "      <td>de:06411:16017</td>\n",
       "      <td>NaN</td>\n",
       "      <td>Darmstadt, Jugendstilbad</td>\n",
       "      <td>49.872782</td>\n",
       "      <td>8.662607</td>\n",
       "      <td>NaN</td>\n",
       "      <td>NaN</td>\n",
       "    </tr>\n",
       "  </tbody>\n",
       "</table>\n",
       "</div>"
      ],
      "text/plain": [
       "            stop_id  stop_code                       stop_name   stop_lat  \\\n",
       "0  de:06411:11226:2        NaN                  Darmstadt, Ost  49.874854   \n",
       "1    de:06411:15972        NaN  Darmstadt, B. Forst. Jugendhof  49.864184   \n",
       "2    de:06411:16014        NaN        Darmstadt, Kirschenallee  49.874779   \n",
       "3    de:06411:16016        NaN               Darmstadt, Schloß  49.873106   \n",
       "4    de:06411:16017        NaN        Darmstadt, Jugendstilbad  49.872782   \n",
       "\n",
       "   stop_lon  location_type parent_station  \n",
       "0  8.674222            NaN            NaN  \n",
       "1  8.729972            NaN            NaN  \n",
       "2  8.638415            NaN            NaN  \n",
       "3  8.656651            NaN            NaN  \n",
       "4  8.662607            NaN            NaN  "
      ]
     },
     "execution_count": 2,
     "metadata": {},
     "output_type": "execute_result"
    }
   ],
   "source": [
    "df_stops = pd.read_csv(\"datasets/Buses/stops.txt\")\n",
    "df_stops.head()"
   ]
  },
  {
   "cell_type": "code",
   "execution_count": 10,
   "id": "7468cf3a-f99c-41e4-9a80-a3987f362ca2",
   "metadata": {},
   "outputs": [
    {
     "data": {
      "text/plain": [
       "array([nan])"
      ]
     },
     "execution_count": 10,
     "metadata": {},
     "output_type": "execute_result"
    }
   ],
   "source": [
    "df_stops['stop_code'].unique()"
   ]
  },
  {
   "cell_type": "code",
   "execution_count": 21,
   "id": "5b91ec28-7ae8-458b-ab42-ff847ac4cec5",
   "metadata": {},
   "outputs": [
    {
     "data": {
      "text/html": [
       "<div>\n",
       "<style scoped>\n",
       "    .dataframe tbody tr th:only-of-type {\n",
       "        vertical-align: middle;\n",
       "    }\n",
       "\n",
       "    .dataframe tbody tr th {\n",
       "        vertical-align: top;\n",
       "    }\n",
       "\n",
       "    .dataframe thead th {\n",
       "        text-align: right;\n",
       "    }\n",
       "</style>\n",
       "<table border=\"1\" class=\"dataframe\">\n",
       "  <thead>\n",
       "    <tr style=\"text-align: right;\">\n",
       "      <th></th>\n",
       "      <th>stop_name</th>\n",
       "    </tr>\n",
       "  </thead>\n",
       "  <tbody>\n",
       "    <tr>\n",
       "      <th>0</th>\n",
       "      <td>Kaiserslautern, Marienkirche</td>\n",
       "    </tr>\n",
       "    <tr>\n",
       "      <th>1</th>\n",
       "      <td>Kaiserslautern, Synagogenplatz</td>\n",
       "    </tr>\n",
       "    <tr>\n",
       "      <th>2</th>\n",
       "      <td>Kaiserslautern, Kennedyplatz</td>\n",
       "    </tr>\n",
       "    <tr>\n",
       "      <th>3</th>\n",
       "      <td>Kaiserslautern, Kennedyplatz</td>\n",
       "    </tr>\n",
       "    <tr>\n",
       "      <th>4</th>\n",
       "      <td>Kaiserslautern, Nachtschicht</td>\n",
       "    </tr>\n",
       "  </tbody>\n",
       "</table>\n",
       "</div>"
      ],
      "text/plain": [
       "                        stop_name\n",
       "0    Kaiserslautern, Marienkirche\n",
       "1  Kaiserslautern, Synagogenplatz\n",
       "2    Kaiserslautern, Kennedyplatz\n",
       "3    Kaiserslautern, Kennedyplatz\n",
       "4    Kaiserslautern, Nachtschicht"
      ]
     },
     "execution_count": 21,
     "metadata": {},
     "output_type": "execute_result"
    }
   ],
   "source": [
    "df_kl = pd.DataFrame(data=df_stops[df_stops['stop_name'].str.contains(\"Kaiserslautern\")],\n",
    "                    columns=['stop_name'])\n",
    "\n",
    "df_kl.index = pd.RangeIndex(len(df_kl))\n",
    "df_kl.head()"
   ]
  },
  {
   "cell_type": "code",
   "execution_count": 27,
   "id": "7df93b4f-1bd3-4934-9b53-c5d3d2e7daac",
   "metadata": {},
   "outputs": [
    {
     "data": {
      "text/html": [
       "<div>\n",
       "<style scoped>\n",
       "    .dataframe tbody tr th:only-of-type {\n",
       "        vertical-align: middle;\n",
       "    }\n",
       "\n",
       "    .dataframe tbody tr th {\n",
       "        vertical-align: top;\n",
       "    }\n",
       "\n",
       "    .dataframe thead th {\n",
       "        text-align: right;\n",
       "    }\n",
       "</style>\n",
       "<table border=\"1\" class=\"dataframe\">\n",
       "  <thead>\n",
       "    <tr style=\"text-align: right;\">\n",
       "      <th></th>\n",
       "      <th>stop_name</th>\n",
       "      <th>stop_validation</th>\n",
       "      <th>in_out</th>\n",
       "      <th>stop_lat</th>\n",
       "      <th>stop_lon</th>\n",
       "    </tr>\n",
       "  </thead>\n",
       "  <tbody>\n",
       "    <tr>\n",
       "      <th>0</th>\n",
       "      <td>Kaiserslautern, Marienkirche</td>\n",
       "      <td>J</td>\n",
       "      <td>2</td>\n",
       "      <td>49.441865</td>\n",
       "      <td>7.762234</td>\n",
       "    </tr>\n",
       "    <tr>\n",
       "      <th>1</th>\n",
       "      <td>Kaiserslautern, Synagogenplatz</td>\n",
       "      <td>J</td>\n",
       "      <td>1</td>\n",
       "      <td>49.444622</td>\n",
       "      <td>7.774496</td>\n",
       "    </tr>\n",
       "    <tr>\n",
       "      <th>2</th>\n",
       "      <td>Kaiserslautern, Kennedyplatz</td>\n",
       "      <td>J</td>\n",
       "      <td>2</td>\n",
       "      <td>49.443413</td>\n",
       "      <td>7.778710</td>\n",
       "    </tr>\n",
       "    <tr>\n",
       "      <th>3</th>\n",
       "      <td>Kaiserslautern, Kennedyplatz</td>\n",
       "      <td>J</td>\n",
       "      <td>2</td>\n",
       "      <td>49.443518</td>\n",
       "      <td>7.778674</td>\n",
       "    </tr>\n",
       "    <tr>\n",
       "      <th>4</th>\n",
       "      <td>Kaiserslautern, Nachtschicht</td>\n",
       "      <td>J</td>\n",
       "      <td>4</td>\n",
       "      <td>49.433827</td>\n",
       "      <td>7.764148</td>\n",
       "    </tr>\n",
       "  </tbody>\n",
       "</table>\n",
       "</div>"
      ],
      "text/plain": [
       "                        stop_name stop_validation  in_out   stop_lat  stop_lon\n",
       "0    Kaiserslautern, Marienkirche               J       2  49.441865  7.762234\n",
       "1  Kaiserslautern, Synagogenplatz               J       1  49.444622  7.774496\n",
       "2    Kaiserslautern, Kennedyplatz               J       2  49.443413  7.778710\n",
       "3    Kaiserslautern, Kennedyplatz               J       2  49.443518  7.778674\n",
       "4    Kaiserslautern, Nachtschicht               J       4  49.433827  7.764148"
      ]
     },
     "execution_count": 27,
     "metadata": {},
     "output_type": "execute_result"
    }
   ],
   "source": [
    "df_kl['stop_validation'] = df_kataster['Aktiv']\n",
    "df_kl['in_out'] = df_kataster['Steige']\n",
    "lats = df_stops[df_stops['stop_name'].str.contains('Kaiserslautern')].filter(items=['stop_lat'])\n",
    "lats.index = pd.RangeIndex(len(lats))\n",
    "df_kl['stop_lat'] = lats\n",
    "lons = df_stops[df_stops['stop_name'].str.contains('Kaiserslautern')].filter(items=['stop_lon'])\n",
    "lons.index = pd.RangeIndex(len(lons))\n",
    "df_kl['stop_lon'] = lons\n",
    "    \n",
    "df_kl.head()"
   ]
  },
  {
   "cell_type": "code",
   "execution_count": 15,
   "id": "af78744f-5603-45cb-b235-3af1a0a9dc16",
   "metadata": {},
   "outputs": [
    {
     "data": {
      "text/plain": [
       "array([nan,  0.,  1.])"
      ]
     },
     "execution_count": 15,
     "metadata": {},
     "output_type": "execute_result"
    }
   ],
   "source": [
    "df_stops['location_type'].unique()"
   ]
  },
  {
   "cell_type": "code",
   "execution_count": 21,
   "id": "8b6ccf74-9ed6-4c15-99f4-8f8166b635db",
   "metadata": {},
   "outputs": [
    {
     "data": {
      "text/plain": [
       "260"
      ]
     },
     "execution_count": 21,
     "metadata": {},
     "output_type": "execute_result"
    }
   ],
   "source": [
    "len(df_stops['parent_station'].unique())"
   ]
  },
  {
   "cell_type": "code",
   "execution_count": 7,
   "id": "fa1320f6-6c89-4983-bf74-01b26d1796ba",
   "metadata": {},
   "outputs": [],
   "source": [
    "# import gmplot\n",
    "# lat = df_stops[df_stops['stop_name'].str.contains('Kaiserslautern')].filter(items=['stop_lat'])\n",
    "# lon = df_stops[df_stops['stop_name'].str.contains('Kaiserslautern')].filter(items=['stop_lon'])\n",
    "                                                                            \n",
    "# gmap1 = gmplot.GoogleMapPlotter(49.435954592775204, 7.759273872327303, 13)\n",
    "# gmap1.scatter(lat.values, lon.values, color='#3B0B39', size=20, marker=False)\n",
    "# # gmap1.marker(49.441865, 7.762234, color='cornflowerblue')\n",
    "# gmap1.draw(\"BusesMaps.html\")"
   ]
  },
  {
   "cell_type": "code",
   "execution_count": 8,
   "id": "7f7f9326-19a1-445e-b9f1-8205692cc5b7",
   "metadata": {},
   "outputs": [],
   "source": [
    "# import plotly.express as px\n",
    "\n",
    "# fig = px.scatter_geo(df_stops,lat='stop_lat',lon='stop_lon')\n",
    "# fig.update_layout(title = 'World map', title_x=0.5)\n",
    "# fig.show()\n",
    "# plt.savefig(\"map.png\")\n",
    "# plt.show()"
   ]
  },
  {
   "cell_type": "code",
   "execution_count": 46,
   "id": "260dcd5a-8888-40ef-821c-d9dac6918c1f",
   "metadata": {},
   "outputs": [
    {
     "data": {
      "application/vnd.plotly.v1+json": {
       "config": {
        "plotlyServerURL": "https://plot.ly"
       },
       "data": [
        {
         "hovertemplate": "<b>%{hovertext}</b><br><br>stop_validation=J<br>in_out=%{marker.size}<br>stop_lat=%{lat}<br>stop_lon=%{lon}<extra></extra>",
         "hovertext": [
          "Kaiserslautern, Marienkirche",
          "Kaiserslautern, Synagogenplatz",
          "Kaiserslautern, Kennedyplatz",
          "Kaiserslautern, Kennedyplatz",
          "Kaiserslautern, Nachtschicht",
          "Kaiserslautern, Nachtschicht",
          "Kaiserslautern, Pfaffplatz",
          "Kaiserslautern, Pfaffplatz",
          "Kaiserslautern, Pfaffplatz",
          "Kaiserslautern, Pfaffplatz",
          "Kaiserslautern, Pfaffplatz",
          "Kaiserslautern, Friedhof",
          "Kaiserslautern, Friedhof",
          "Kaiserslautern, Stadtmitte Bstg A",
          "Kaiserslautern, Stadtmitte Bstg B",
          "Kaiserslautern, Stadtmitte Bstg C",
          "Kaiserslautern, Stadtmitte Bstg F",
          "Kaiserslautern, Stadtmitte Bstg Max2",
          "Kaiserslautern, Stadtmitte Bstg MaxSt",
          "Kaiserslautern, Stadtmitte Bstg MLuth",
          "Kaiserslautern, Stadtmitte",
          "Kaiserslautern, Daennerkaserne",
          "Kaiserslautern, Daennerkaserne",
          "Kaiserslautern, Generaldepot",
          "Kaiserslautern, Pfaffwerk",
          "Kaiserslautern, Pfaffwerk",
          "Kaiserslautern, Pfalz-Center",
          "Kaiserslautern, Pfalz-Center",
          "Kaiserslautern, Panzerk. West",
          "Kaiserslautern, Panzerk. West",
          "Kaiserslautern, Zollamtstraße",
          "Kaiserslautern, Westbahnhof",
          "Kaiserslautern, Westbahnhof",
          "Kaiserslautern, Hbf Bstg C1",
          "Kaiserslautern, Hbf Bstg A",
          "Kaiserslautern, Hbf Bstg B",
          "Kaiserslautern, Hbf Bstg C2",
          "Kaiserslautern, Hbf Bstg C3",
          "Kaiserslautern, Hbf Bstg D1",
          "Kaiserslautern, Hbf Bstg D2",
          "Kaiserslautern, Hbf Bstg E1",
          "Kaiserslautern, Hbf Bstg E2",
          "Kaiserslautern, Hbf Bstg E3",
          "Kaiserslautern, Hbf Bstg F+G",
          "Kaiserslautern, Hbf",
          "Kaiserslautern, Hbf",
          "Kaiserslautern, Finanzamt",
          "Kaiserslautern, Finanzamt",
          "Kaiserslautern, Bismarckstraße",
          "Kaiserslautern, 23er Kaserne",
          "Kaiserslautern, 23er Kaserne",
          "Kaiserslautern, Abzw. Dansenb.",
          "Kaiserslautern, Abzw. Dansenb.",
          "Kaiserslautern, Alleestraße",
          "Kaiserslautern, Alleestraße",
          "Kaiserslautern, Alte Brücke",
          "Kaiserslautern, Alte Brücke",
          "Kaiserslautern, Altenheim",
          "Kaiserslautern, Altenheim",
          "Kaiserslautern, Altenwoogstr.",
          "Kaiserslautern, Altenwoogstr.",
          "Kaiserslautern, Alter Friedhof",
          "Kaiserslautern, Alter Friedhof",
          "Kaiserslautern, Volkspark",
          "Kaiserslautern, Volkspark",
          "Kaiserslautern, Am Hang",
          "Kaiserslautern, Am Hang",
          "Kaiserslautern, Am Harzhübel",
          "Kaiserslautern, Apostelkirche",
          "Kaiserslautern, Apostelkirche",
          "Kaiserslautern, SWR",
          "Kaiserslautern, SWR",
          "Kaiserslautern, Globus",
          "Kaiserslautern, Bahnheim",
          "Kaiserslautern, Bahnheim",
          "Kaiserslautern, Bahnheim West",
          "Kaiserslautern, Bahnheim West",
          "Kaiserslautern, Balbierstraße",
          "Kaiserslautern, Barbarossastr.",
          "Kaiserslautern, Barbarossastr.",
          "Kaiserslautern, Gersweilerhof",
          "Kaiserslautern, Gersweilerhof",
          "Kaiserslautern, Breslauer Str.",
          "Kaiserslautern, Breslauer Str.",
          "Kaiserslautern, Buchenloch",
          "Kaiserslautern, Caesarpark",
          "Kaiserslautern, Caesarpark",
          "Kaiserslautern, D.-Häberle-S.",
          "Kaiserslautern, D.-Häberle-S.",
          "Kaiserslautern, C.-Euler-Str.",
          "Kaiserslautern, C.-Euler-Str.",
          "Kaiserslautern, Davenportplatz",
          "Kaiserslautern, Davenportplatz",
          "Kaiserslautern, TÜV",
          "Kaiserslautern, TÜV",
          "Kaiserslautern, Dunkeltälchen",
          "Kaiserslautern, Dunkeltälchen",
          "Kaiserslautern, Dunkeltälchen",
          "Kaiserslautern, Dunkeltälchen",
          "Kaiserslautern, Dunkeltälchen",
          "Kaiserslautern, Dürerstraße",
          "Kaiserslautern, Dürerstraße",
          "Kaiserslautern, E-Werk",
          "Kaiserslautern, Engelshof",
          "Kaiserslautern, Engelshof",
          "Kaiserslautern, Erfenbach. Weg",
          "Kaiserslautern, Erfenbach. Weg",
          "Kaiserslautern, Erfenbach. Weg",
          "Kaiserslautern, Gersweilerweg",
          "Kaiserslautern, Fachhochschule",
          "Kaiserslautern, Fachhochschule",
          "Kaiserslautern, Fachhochschule",
          "Kaiserslautern, Fackelwoogstr",
          "Kaiserslautern, Fackelwoogstr",
          "Kaiserslautern, Flickerstal",
          "Kaiserslautern, Flickerstal",
          "Kaiserslautern, Fliegerstraße",
          "Kaiserslautern, Fliegerstraße",
          "Kaiserslautern, Goetheschule",
          "Kaiserslautern, Goetheschule",
          "Kaiserslautern, Goetheschule",
          "Kaiserslautern, Gusswerk",
          "Kaiserslautern, Gusswerk",
          "Kaiserslautern, Hartmannstraße",
          "Kaiserslautern, Hartmannstraße",
          "Kaiserslautern, Pfaffstraße",
          "Kaiserslautern, Pfaffstraße",
          "Kaiserslautern, Pfaffsiedlung",
          "Kaiserslautern, Pfaffsiedlung",
          "Kaiserslautern, Gärtnereistr.",
          "Kaiserslautern, Gärtnereistr.",
          "Kaiserslautern, Hackstraße",
          "Kaiserslautern, Hackstraße",
          "Kaiserslautern, Her.-Löns-Str.",
          "Kaiserslautern, Her.-Löns-Str.",
          "Kaiserslautern, Her.-Löns-Str.",
          "Kaiserslautern, Haspelstraße",
          "Kaiserslautern, Haspelstraße",
          "Kaiserslautern, Homburger Str.",
          "Kaiserslautern, Homburger Str.",
          "Kaiserslautern, Clara-Immerwahr-Str.",
          "Kaiserslautern, Hölzengraben",
          "Kaiserslautern, Hölzengraben",
          "Kaiserslautern, Kaiserberg",
          "Kaiserslautern, Kaisermühle",
          "Kaiserslautern, Kaisermühle",
          "Kaiserslautern, Kammgarn",
          "Kaiserslautern, Kammgarn",
          "Kaiserslautern, Kammgarn",
          "Kaiserslautern, Kammgarnstraße",
          "Kaiserslautern, Kreuzhof",
          "Kaiserslautern, Kreuzhof",
          "Kaiserslautern, Hohenst. Gymn.",
          "Kaiserslautern, Hohenst. Gymn.",
          "Kaiserslautern, Mainzer Straße",
          "Kaiserslautern, Mainzer Tor",
          "Kaiserslautern, Mainzer Tor",
          "Kaiserslautern, Marktstraße",
          "Kaiserslautern, Pfalzgalerie",
          "Kaiserslautern, Pfalzgalerie",
          "Kaiserslautern, Mennonitenstr.",
          "Kaiserslautern, Mennonitenstr.",
          "Kaiserslautern, Max und Moritz",
          "Kaiserslautern, Max und Moritz",
          "Kaiserslautern, Messeplatz",
          "Kaiserslautern, Messeplatz",
          "Kaiserslautern, Neue Brücke",
          "Kaiserslautern, Neue Brücke",
          "Kaiserslautern, Mühlstraße",
          "Kaiserslautern, Opelkreisel",
          "Kaiserslautern, Neumühle",
          "Kaiserslautern, Neumühle",
          "Kaiserslautern, Opel",
          "Kaiserslautern, PRE-Park",
          "Kaiserslautern, PRE-Park",
          "Kaiserslautern, RuheForst",
          "Kaiserslautern, Pariser Straße",
          "Kaiserslautern, Pariser Straße",
          "Kaiserslautern, Uni West",
          "Kaiserslautern, Uni West",
          "Kaiserslautern, Rote Hohl",
          "Kaiserslautern, Rote Hohl",
          "Kaiserslautern, Parkstraße",
          "Kaiserslautern, Europaallee",
          "Kaiserslautern, Pfaffenbergstr",
          "Kaiserslautern, Rosenstraße",
          "Kaiserslautern, Klinikum Süd",
          "Kaiserslautern, Klinikum Süd",
          "Kaiserslautern, Sonnenberg",
          "Kaiserslautern, Röchlingstraße",
          "Kaiserslautern, Röchlingstraße",
          "Kaiserslautern, Luxemburger St",
          "Kaiserslautern, Luxemburger St",
          "Kaiserslautern, W.-Gropius-Str",
          "Kaiserslautern, W.-Gropius-Str",
          "Kaiserslautern, Ziegelstraße",
          "Kaiserslautern, monte mare",
          "Kaiserslautern, Wasserwerk",
          "Kaiserslautern, Wasserwerk",
          "Kaiserslautern, Steig",
          "Kaiserslautern, Steig",
          "Kaiserslautern, Stiftsplatz",
          "Kaiserslautern, Stiftswaldstr.",
          "Kaiserslautern, Stiftswaldstr.",
          "Kaiserslautern, Storchenacker",
          "Kaiserslautern, T.-Heuss-Str.",
          "Kaiserslautern, T.-Heuss-Str.",
          "Kaiserslautern, Europahöhe",
          "Kaiserslautern, Europahöhe",
          "Kaiserslautern, Friedhof Eing.",
          "Kaiserslautern, Friedhof Eing.",
          "Kaiserslautern, US Wohnung",
          "Kaiserslautern, US Wohnung",
          "Kaiserslautern, CirComp",
          "Kaiserslautern, Uni Zentral",
          "Kaiserslautern, Uni Zentral",
          "Kaiserslautern, Uni Zentral",
          "Kaiserslautern, Uni Sporthalle",
          "Kaiserslautern, Uni Süd",
          "Kaiserslautern, Uni Süd",
          "Kaiserslautern, IKEA",
          "Kaiserslautern, Feuerbachstr.",
          "Kaiserslautern, Feuerbachstr.",
          "Kaiserslautern, Uni Ost",
          "Kaiserslautern, Vogelwoogstr.",
          "Kaiserslautern, Vogelwoogstr.",
          "Kaiserslautern, Waldstraße",
          "Kaiserslautern, Waldstraße",
          "Kaiserslautern, Warmfreibad",
          "Kaiserslautern, Warmfreibad",
          "Kaiserslautern, Denisstraße",
          "Kaiserslautern, Denisstraße",
          "Kaiserslautern, Zschockestraße",
          "Kaiserslautern, Zschockestraße",
          "Kaiserslautern, Zeppelinplatz",
          "Kaiserslautern, Zeppelinplatz",
          "Kaiserslautern, Licht-Luft",
          "Kaiserslautern, Herrenwiesent.",
          "Kaiserslautern, Herrenwiesent.",
          "Kaiserslautern, Rütschhof",
          "Kaiserslautern, Rütschhof",
          "Kaiserslautern, UCI Kinowelt",
          "Kaiserslautern, UCI Kinowelt",
          "Kaiserslautern, Feuerwache",
          "Kaiserslautern, Am Belzappel",
          "Kaiserslautern, Benzinoring",
          "Kaiserslautern, Amazon Nord",
          "Kaiserslautern, A. Stadtmauer",
          "Kaiserslautern, A. Stadtmauer",
          "Kaiserslautern, Ludwigstraße",
          "Kaiserslautern, Ludwigstraße",
          "Kaiserslautern, ID Logistik",
          "Kaiserslautern, Fraunh. Zent",
          "Kaiserslautern, Fraunh. Zent"
         ],
         "lat": [
          49.4418653,
          49.4446221,
          49.4434131,
          49.4435182,
          49.4338274,
          49.4344758,
          49.4434014,
          49.4428349,
          49.4432145,
          49.443711,
          49.4433722,
          49.4445929,
          49.4447798,
          49.4455508,
          49.4457319,
          49.4458603,
          49.445177,
          49.4464269,
          49.4462809,
          49.4465495,
          49.4454573,
          49.4433664,
          49.4436058,
          49.4462809,
          49.4360765,
          49.436205,
          49.4434657,
          49.4436292,
          49.4427122,
          49.4429575,
          49.4334067,
          49.4476066,
          49.4479629,
          49.4364094,
          49.4365613,
          49.4365321,
          49.4365087,
          49.4365905,
          49.4363919,
          49.4364737,
          49.4363569,
          49.4364503,
          49.4365555,
          49.4363218,
          49.4364328,
          49.4362751,
          49.4389505,
          49.4385825,
          49.4436175,
          49.4440322,
          49.4442074,
          49.4110325,
          49.4110384,
          49.4414097,
          49.4412928,
          49.4453931,
          49.4455099,
          49.4498259,
          49.4497442,
          49.4449434,
          49.4450427,
          49.4482082,
          49.4480096,
          49.4430218,
          49.4428816,
          49.4642371,
          49.4643247,
          49.4265828,
          49.444149,
          49.4442016,
          49.4514669,
          49.4513502,
          49.4407671,
          49.4387577,
          49.4387636,
          49.4383196,
          49.4384306,
          49.4316132,
          49.4394937,
          49.4396106,
          49.4740562,
          49.4740971,
          49.4510815,
          49.450883,
          49.4286686,
          49.4547372,
          49.4548481,
          49.4449667,
          49.445066,
          49.4333366,
          49.4332548,
          49.4258583,
          49.426016,
          49.4424961,
          49.4425603,
          49.4312451,
          49.4320864,
          49.4310114,
          49.4314321,
          49.4310815,
          49.4427122,
          49.442718,
          49.4350366,
          49.4567926,
          49.4565707,
          49.4629059,
          49.4629643,
          49.462976,
          49.4554846,
          49.4521619,
          49.452232,
          49.4523546,
          49.4435942,
          49.4436526,
          49.4567576,
          49.4568218,
          49.4504566,
          49.450445,
          49.4414914,
          49.4415732,
          49.4406386,
          49.4334768,
          49.4334885,
          49.440954,
          49.4404459,
          49.4378289,
          49.4383897,
          49.4325479,
          49.4326122,
          49.452156,
          49.4522962,
          49.4493645,
          49.4494755,
          49.4280668,
          49.4277922,
          49.4281077,
          49.4523604,
          49.4522787,
          49.4378932,
          49.4381385,
          49.4787666,
          49.4551284,
          49.4553153,
          49.4537386,
          49.4574583,
          49.4575167,
          49.4475891,
          49.4476066,
          49.4479454,
          49.4432963,
          49.4687616,
          49.4688258,
          49.4388862,
          49.4391374,
          49.4542817,
          49.4481264,
          49.4479746,
          49.4435708,
          49.4486696,
          49.4487513,
          49.450153,
          49.4501413,
          49.4492185,
          49.4500478,
          49.4437402,
          49.4439212,
          49.439669,
          49.4397683,
          49.4466897,
          49.4421631,
          49.4513969,
          49.4513093,
          49.4402706,
          49.4574992,
          49.4580772,
          49.4431911,
          49.4384014,
          49.4384949,
          49.4248357,
          49.4248416,
          49.4113014,
          49.4113481,
          49.4384131,
          49.4570087,
          49.4315723,
          49.4415148,
          49.4397157,
          49.4396398,
          49.455181,
          49.4426655,
          49.4427531,
          49.4554145,
          49.4554496,
          49.4512275,
          49.451321,
          49.4411351,
          49.4537853,
          49.4413279,
          49.4412111,
          49.4665198,
          49.4665315,
          49.4452938,
          49.4423209,
          49.4425078,
          49.4703086,
          49.4269392,
          49.4269684,
          49.4530028,
          49.4529269,
          49.4476884,
          49.44763,
          49.4240469,
          49.4240294,
          49.4814806,
          49.4238073,
          49.4241346,
          49.4240294,
          49.425905,
          49.4230477,
          49.4231237,
          49.4415323,
          49.4450018,
          49.4450543,
          49.4242748,
          49.4446163,
          49.4442191,
          49.442794,
          49.4427706,
          49.4398968,
          49.4402765,
          49.4432554,
          49.4432671,
          49.4530904,
          49.4532247,
          49.4497792,
          49.4500712,
          49.4382262,
          49.4636416,
          49.4636591,
          49.4664615,
          49.4662688,
          49.4573824,
          49.4570904,
          49.438857,
          49.4378698,
          49.4480797,
          49.4427472,
          49.4479863,
          49.4480388,
          49.4483542,
          49.4485469,
          49.4846904,
          49.4306784,
          49.43062
         ],
         "legendgroup": "J",
         "lon": [
          7.7622345,
          7.7744965,
          7.7787096,
          7.7786737,
          7.7641479,
          7.766762,
          7.7593779,
          7.7590545,
          7.7592791,
          7.7588838,
          7.7592521,
          7.7946547,
          7.7948973,
          7.7681365,
          7.7690887,
          7.7697624,
          7.7681365,
          7.7668429,
          7.7669327,
          7.7703643,
          7.7685227,
          7.8098632,
          7.8114622,
          7.8196908,
          7.7545629,
          7.7544012,
          7.815298,
          7.8137439,
          7.82968,
          7.8298956,
          7.7611296,
          7.7510146,
          7.7506463,
          7.7677951,
          7.7680826,
          7.7679388,
          7.7677412,
          7.7677142,
          7.7676424,
          7.7675975,
          7.7674717,
          7.7674448,
          7.7673819,
          7.7681724,
          7.7686934,
          7.7682622,
          7.7719273,
          7.7719633,
          7.772637,
          7.8015628,
          7.8016526,
          7.7200137,
          7.71987,
          7.7712356,
          7.7711907,
          7.7483286,
          7.7481849,
          7.7996224,
          7.7994248,
          7.7860938,
          7.7861028,
          7.7844588,
          7.7838929,
          7.7921305,
          7.7914747,
          7.7258168,
          7.7256282,
          7.7469542,
          7.7631239,
          7.76307,
          7.7694121,
          7.7686126,
          7.7073475,
          7.7341532,
          7.7323476,
          7.7295179,
          7.7289699,
          7.7593599,
          7.7794013,
          7.7792935,
          7.7887079,
          7.7886091,
          7.7414385,
          7.7412589,
          7.7577429,
          7.7590365,
          7.7590186,
          7.7908009,
          7.7912232,
          7.756135,
          7.7558116,
          7.7462535,
          7.7461906,
          7.7200317,
          7.719879,
          7.7718824,
          7.7719453,
          7.7717297,
          7.7710919,
          7.7717926,
          7.7392915,
          7.739076,
          7.762001,
          7.7480861,
          7.7479693,
          7.7228614,
          7.7230141,
          7.7233734,
          7.7781706,
          7.7640851,
          7.7638515,
          7.7643006,
          7.7651001,
          7.7651091,
          7.7974844,
          7.7973586,
          7.7650373,
          7.7649474,
          7.7535029,
          7.7532604,
          7.7546977,
          7.7496491,
          7.7475381,
          7.7605457,
          7.7596923,
          7.7563775,
          7.7567368,
          7.7428129,
          7.7427321,
          7.7925796,
          7.7926155,
          7.7733287,
          7.7733377,
          7.7604918,
          7.7595755,
          7.7604379,
          7.7733377,
          7.7733826,
          7.7186932,
          7.718235,
          7.6812065,
          7.7874053,
          7.7876748,
          7.749191,
          7.7423099,
          7.7423099,
          7.7549761,
          7.7540509,
          7.7538982,
          7.7551199,
          7.7362463,
          7.7361744,
          7.7516973,
          7.7519039,
          7.7924089,
          7.7770118,
          7.7768501,
          7.7700678,
          7.76996,
          7.769987,
          7.7886899,
          7.7884833,
          7.7799942,
          7.7807129,
          7.7821681,
          7.7821771,
          7.7401809,
          7.7396599,
          7.7619471,
          7.7080481,
          7.7491012,
          7.7489754,
          7.7067815,
          7.8012573,
          7.8022814,
          7.8373606,
          7.7392826,
          7.7390939,
          7.7495862,
          7.7492628,
          7.747565,
          7.7474213,
          7.7676514,
          7.8033235,
          7.7602942,
          7.7660613,
          7.7569884,
          7.7573207,
          7.7549761,
          7.7239843,
          7.7240022,
          7.8048775,
          7.8046979,
          7.8008261,
          7.8007992,
          7.7616596,
          7.8116508,
          7.7873963,
          7.7865878,
          7.7318715,
          7.7317188,
          7.7726999,
          7.8010238,
          7.8016975,
          7.7348988,
          7.7446545,
          7.744933,
          7.8157561,
          7.8157112,
          7.7968646,
          7.7974305,
          7.7217205,
          7.7215768,
          7.6872432,
          7.7548773,
          7.7557846,
          7.7549851,
          7.7508529,
          7.7505744,
          7.7506013,
          7.7006909,
          7.7459121,
          7.7459211,
          7.7563775,
          7.732105,
          7.7312876,
          7.7516703,
          7.7501971,
          7.7996583,
          7.7995775,
          7.7286645,
          7.7281524,
          7.7877646,
          7.787576,
          7.7768591,
          7.7764279,
          7.8033324,
          7.7297604,
          7.7299042,
          7.7335962,
          7.7336232,
          7.8028653,
          7.8023174,
          7.7446994,
          7.7255024,
          7.7681544,
          7.6798949,
          7.7730592,
          7.7725741,
          7.7765088,
          7.7764189,
          7.6841799,
          7.7530987,
          7.7528831
         ],
         "marker": {
          "color": "#636efa",
          "size": [
           2,
           1,
           2,
           2,
           4,
           2,
           7,
           2,
           2,
           2,
           2,
           2,
           1,
           1,
           3,
           4,
           2,
           2,
           1,
           26,
           2,
           1,
           2,
           2,
           1,
           2,
           2,
           2,
           2,
           2,
           2,
           2,
           2,
           2,
           2,
           1,
           2,
           2,
           2,
           1,
           2,
           1,
           2,
           2,
           1,
           2,
           2,
           2,
           1,
           2,
           2,
           1,
           2,
           1,
           1,
           1,
           2,
           2,
           2,
           2,
           2,
           2,
           2,
           1,
           2,
           2,
           4,
           2,
           1,
           2,
           1,
           2,
           2,
           1,
           2,
           1,
           2,
           2,
           1,
           2,
           2,
           4,
           2,
           2,
           2,
           2,
           2,
           1,
           2,
           2,
           0,
           3,
           2,
           2,
           2,
           2,
           2,
           2,
           1,
           2,
           2,
           4,
           1,
           2,
           2,
           2,
           2,
           2,
           2,
           2,
           2,
           2,
           2,
           2,
           2,
           1,
           2,
           3,
           1,
           2,
           1,
           2,
           2,
           2,
           2,
           2,
           1,
           2,
           2,
           1,
           2,
           2,
           2,
           2,
           2,
           1,
           2,
           2,
           2,
           2,
           2,
           3,
           1,
           2,
           1,
           1,
           2,
           1,
           1,
           2,
           2,
           2,
           2,
           2,
           1,
           2,
           2,
           3,
           2,
           2,
           2,
           2,
           2,
           1,
           1,
           2,
           2,
           2,
           2,
           1,
           2,
           2,
           2,
           2,
           2,
           2,
           2,
           2,
           2,
           0,
           1,
           1,
           2,
           2,
           3,
           1,
           1,
           2,
           1,
           2,
           2,
           2,
           2,
           2,
           2,
           2,
           1,
           2,
           1,
           2,
           2,
           1,
           2,
           1,
           2,
           2,
           1,
           2,
           2,
           1,
           2,
           2,
           2,
           2,
           2,
           2,
           2,
           2,
           1,
           2,
           2,
           2,
           2,
           2,
           2,
           1,
           1,
           2,
           2,
           2,
           2,
           2,
           1,
           2,
           1,
           1,
           2,
           1,
           2,
           2,
           1,
           2,
           1,
           1,
           2,
           2,
           2,
           2,
           2,
           1,
           2,
           1,
           3,
           1
          ],
          "sizemode": "area",
          "sizeref": 0.065
         },
         "mode": "markers",
         "name": "J",
         "showlegend": true,
         "subplot": "mapbox",
         "type": "scattermapbox"
        },
        {
         "hovertemplate": "<b>%{hovertext}</b><br><br>stop_validation=N<br>in_out=%{marker.size}<br>stop_lat=%{lat}<br>stop_lon=%{lon}<extra></extra>",
         "hovertext": [
          "Kaiserslautern, Kaiserberg",
          "Kaiserslautern, Am Belzappel",
          "Kaiserslautern, Kreisverw.",
          "Kaiserslautern, Benzinoring"
         ],
         "lat": [
          49.4539897,
          49.4380217,
          49.4472037,
          49.4477059
         ],
         "legendgroup": "N",
         "lon": [
          7.7489484,
          7.7252419,
          7.7665105,
          7.7682802
         ],
         "marker": {
          "color": "#EF553B",
          "size": [
           1,
           1,
           1,
           1
          ],
          "sizemode": "area",
          "sizeref": 0.065
         },
         "mode": "markers",
         "name": "N",
         "showlegend": true,
         "subplot": "mapbox",
         "type": "scattermapbox"
        }
       ],
       "layout": {
        "autosize": true,
        "legend": {
         "itemsizing": "constant",
         "title": {
          "text": "stop_validation"
         },
         "tracegroupgap": 0
        },
        "mapbox": {
         "bearing": 0,
         "center": {
          "lat": 49.45209770166002,
          "lon": 7.723004405884808
         },
         "domain": {
          "x": [
           0,
           1
          ],
          "y": [
           0,
           1
          ]
         },
         "pitch": 0,
         "style": "carto-positron",
         "zoom": 10.99794144263493
        },
        "margin": {
         "t": 60
        },
        "template": {
         "data": {
          "bar": [
           {
            "error_x": {
             "color": "#2a3f5f"
            },
            "error_y": {
             "color": "#2a3f5f"
            },
            "marker": {
             "line": {
              "color": "#E5ECF6",
              "width": 0.5
             },
             "pattern": {
              "fillmode": "overlay",
              "size": 10,
              "solidity": 0.2
             }
            },
            "type": "bar"
           }
          ],
          "barpolar": [
           {
            "marker": {
             "line": {
              "color": "#E5ECF6",
              "width": 0.5
             },
             "pattern": {
              "fillmode": "overlay",
              "size": 10,
              "solidity": 0.2
             }
            },
            "type": "barpolar"
           }
          ],
          "carpet": [
           {
            "aaxis": {
             "endlinecolor": "#2a3f5f",
             "gridcolor": "white",
             "linecolor": "white",
             "minorgridcolor": "white",
             "startlinecolor": "#2a3f5f"
            },
            "baxis": {
             "endlinecolor": "#2a3f5f",
             "gridcolor": "white",
             "linecolor": "white",
             "minorgridcolor": "white",
             "startlinecolor": "#2a3f5f"
            },
            "type": "carpet"
           }
          ],
          "choropleth": [
           {
            "colorbar": {
             "outlinewidth": 0,
             "ticks": ""
            },
            "type": "choropleth"
           }
          ],
          "contour": [
           {
            "colorbar": {
             "outlinewidth": 0,
             "ticks": ""
            },
            "colorscale": [
             [
              0,
              "#0d0887"
             ],
             [
              0.1111111111111111,
              "#46039f"
             ],
             [
              0.2222222222222222,
              "#7201a8"
             ],
             [
              0.3333333333333333,
              "#9c179e"
             ],
             [
              0.4444444444444444,
              "#bd3786"
             ],
             [
              0.5555555555555556,
              "#d8576b"
             ],
             [
              0.6666666666666666,
              "#ed7953"
             ],
             [
              0.7777777777777778,
              "#fb9f3a"
             ],
             [
              0.8888888888888888,
              "#fdca26"
             ],
             [
              1,
              "#f0f921"
             ]
            ],
            "type": "contour"
           }
          ],
          "contourcarpet": [
           {
            "colorbar": {
             "outlinewidth": 0,
             "ticks": ""
            },
            "type": "contourcarpet"
           }
          ],
          "heatmap": [
           {
            "colorbar": {
             "outlinewidth": 0,
             "ticks": ""
            },
            "colorscale": [
             [
              0,
              "#0d0887"
             ],
             [
              0.1111111111111111,
              "#46039f"
             ],
             [
              0.2222222222222222,
              "#7201a8"
             ],
             [
              0.3333333333333333,
              "#9c179e"
             ],
             [
              0.4444444444444444,
              "#bd3786"
             ],
             [
              0.5555555555555556,
              "#d8576b"
             ],
             [
              0.6666666666666666,
              "#ed7953"
             ],
             [
              0.7777777777777778,
              "#fb9f3a"
             ],
             [
              0.8888888888888888,
              "#fdca26"
             ],
             [
              1,
              "#f0f921"
             ]
            ],
            "type": "heatmap"
           }
          ],
          "heatmapgl": [
           {
            "colorbar": {
             "outlinewidth": 0,
             "ticks": ""
            },
            "colorscale": [
             [
              0,
              "#0d0887"
             ],
             [
              0.1111111111111111,
              "#46039f"
             ],
             [
              0.2222222222222222,
              "#7201a8"
             ],
             [
              0.3333333333333333,
              "#9c179e"
             ],
             [
              0.4444444444444444,
              "#bd3786"
             ],
             [
              0.5555555555555556,
              "#d8576b"
             ],
             [
              0.6666666666666666,
              "#ed7953"
             ],
             [
              0.7777777777777778,
              "#fb9f3a"
             ],
             [
              0.8888888888888888,
              "#fdca26"
             ],
             [
              1,
              "#f0f921"
             ]
            ],
            "type": "heatmapgl"
           }
          ],
          "histogram": [
           {
            "marker": {
             "pattern": {
              "fillmode": "overlay",
              "size": 10,
              "solidity": 0.2
             }
            },
            "type": "histogram"
           }
          ],
          "histogram2d": [
           {
            "colorbar": {
             "outlinewidth": 0,
             "ticks": ""
            },
            "colorscale": [
             [
              0,
              "#0d0887"
             ],
             [
              0.1111111111111111,
              "#46039f"
             ],
             [
              0.2222222222222222,
              "#7201a8"
             ],
             [
              0.3333333333333333,
              "#9c179e"
             ],
             [
              0.4444444444444444,
              "#bd3786"
             ],
             [
              0.5555555555555556,
              "#d8576b"
             ],
             [
              0.6666666666666666,
              "#ed7953"
             ],
             [
              0.7777777777777778,
              "#fb9f3a"
             ],
             [
              0.8888888888888888,
              "#fdca26"
             ],
             [
              1,
              "#f0f921"
             ]
            ],
            "type": "histogram2d"
           }
          ],
          "histogram2dcontour": [
           {
            "colorbar": {
             "outlinewidth": 0,
             "ticks": ""
            },
            "colorscale": [
             [
              0,
              "#0d0887"
             ],
             [
              0.1111111111111111,
              "#46039f"
             ],
             [
              0.2222222222222222,
              "#7201a8"
             ],
             [
              0.3333333333333333,
              "#9c179e"
             ],
             [
              0.4444444444444444,
              "#bd3786"
             ],
             [
              0.5555555555555556,
              "#d8576b"
             ],
             [
              0.6666666666666666,
              "#ed7953"
             ],
             [
              0.7777777777777778,
              "#fb9f3a"
             ],
             [
              0.8888888888888888,
              "#fdca26"
             ],
             [
              1,
              "#f0f921"
             ]
            ],
            "type": "histogram2dcontour"
           }
          ],
          "mesh3d": [
           {
            "colorbar": {
             "outlinewidth": 0,
             "ticks": ""
            },
            "type": "mesh3d"
           }
          ],
          "parcoords": [
           {
            "line": {
             "colorbar": {
              "outlinewidth": 0,
              "ticks": ""
             }
            },
            "type": "parcoords"
           }
          ],
          "pie": [
           {
            "automargin": true,
            "type": "pie"
           }
          ],
          "scatter": [
           {
            "fillpattern": {
             "fillmode": "overlay",
             "size": 10,
             "solidity": 0.2
            },
            "type": "scatter"
           }
          ],
          "scatter3d": [
           {
            "line": {
             "colorbar": {
              "outlinewidth": 0,
              "ticks": ""
             }
            },
            "marker": {
             "colorbar": {
              "outlinewidth": 0,
              "ticks": ""
             }
            },
            "type": "scatter3d"
           }
          ],
          "scattercarpet": [
           {
            "marker": {
             "colorbar": {
              "outlinewidth": 0,
              "ticks": ""
             }
            },
            "type": "scattercarpet"
           }
          ],
          "scattergeo": [
           {
            "marker": {
             "colorbar": {
              "outlinewidth": 0,
              "ticks": ""
             }
            },
            "type": "scattergeo"
           }
          ],
          "scattergl": [
           {
            "marker": {
             "colorbar": {
              "outlinewidth": 0,
              "ticks": ""
             }
            },
            "type": "scattergl"
           }
          ],
          "scattermapbox": [
           {
            "marker": {
             "colorbar": {
              "outlinewidth": 0,
              "ticks": ""
             }
            },
            "type": "scattermapbox"
           }
          ],
          "scatterpolar": [
           {
            "marker": {
             "colorbar": {
              "outlinewidth": 0,
              "ticks": ""
             }
            },
            "type": "scatterpolar"
           }
          ],
          "scatterpolargl": [
           {
            "marker": {
             "colorbar": {
              "outlinewidth": 0,
              "ticks": ""
             }
            },
            "type": "scatterpolargl"
           }
          ],
          "scatterternary": [
           {
            "marker": {
             "colorbar": {
              "outlinewidth": 0,
              "ticks": ""
             }
            },
            "type": "scatterternary"
           }
          ],
          "surface": [
           {
            "colorbar": {
             "outlinewidth": 0,
             "ticks": ""
            },
            "colorscale": [
             [
              0,
              "#0d0887"
             ],
             [
              0.1111111111111111,
              "#46039f"
             ],
             [
              0.2222222222222222,
              "#7201a8"
             ],
             [
              0.3333333333333333,
              "#9c179e"
             ],
             [
              0.4444444444444444,
              "#bd3786"
             ],
             [
              0.5555555555555556,
              "#d8576b"
             ],
             [
              0.6666666666666666,
              "#ed7953"
             ],
             [
              0.7777777777777778,
              "#fb9f3a"
             ],
             [
              0.8888888888888888,
              "#fdca26"
             ],
             [
              1,
              "#f0f921"
             ]
            ],
            "type": "surface"
           }
          ],
          "table": [
           {
            "cells": {
             "fill": {
              "color": "#EBF0F8"
             },
             "line": {
              "color": "white"
             }
            },
            "header": {
             "fill": {
              "color": "#C8D4E3"
             },
             "line": {
              "color": "white"
             }
            },
            "type": "table"
           }
          ]
         },
         "layout": {
          "annotationdefaults": {
           "arrowcolor": "#2a3f5f",
           "arrowhead": 0,
           "arrowwidth": 1
          },
          "autotypenumbers": "strict",
          "coloraxis": {
           "colorbar": {
            "outlinewidth": 0,
            "ticks": ""
           }
          },
          "colorscale": {
           "diverging": [
            [
             0,
             "#8e0152"
            ],
            [
             0.1,
             "#c51b7d"
            ],
            [
             0.2,
             "#de77ae"
            ],
            [
             0.3,
             "#f1b6da"
            ],
            [
             0.4,
             "#fde0ef"
            ],
            [
             0.5,
             "#f7f7f7"
            ],
            [
             0.6,
             "#e6f5d0"
            ],
            [
             0.7,
             "#b8e186"
            ],
            [
             0.8,
             "#7fbc41"
            ],
            [
             0.9,
             "#4d9221"
            ],
            [
             1,
             "#276419"
            ]
           ],
           "sequential": [
            [
             0,
             "#0d0887"
            ],
            [
             0.1111111111111111,
             "#46039f"
            ],
            [
             0.2222222222222222,
             "#7201a8"
            ],
            [
             0.3333333333333333,
             "#9c179e"
            ],
            [
             0.4444444444444444,
             "#bd3786"
            ],
            [
             0.5555555555555556,
             "#d8576b"
            ],
            [
             0.6666666666666666,
             "#ed7953"
            ],
            [
             0.7777777777777778,
             "#fb9f3a"
            ],
            [
             0.8888888888888888,
             "#fdca26"
            ],
            [
             1,
             "#f0f921"
            ]
           ],
           "sequentialminus": [
            [
             0,
             "#0d0887"
            ],
            [
             0.1111111111111111,
             "#46039f"
            ],
            [
             0.2222222222222222,
             "#7201a8"
            ],
            [
             0.3333333333333333,
             "#9c179e"
            ],
            [
             0.4444444444444444,
             "#bd3786"
            ],
            [
             0.5555555555555556,
             "#d8576b"
            ],
            [
             0.6666666666666666,
             "#ed7953"
            ],
            [
             0.7777777777777778,
             "#fb9f3a"
            ],
            [
             0.8888888888888888,
             "#fdca26"
            ],
            [
             1,
             "#f0f921"
            ]
           ]
          },
          "colorway": [
           "#636efa",
           "#EF553B",
           "#00cc96",
           "#ab63fa",
           "#FFA15A",
           "#19d3f3",
           "#FF6692",
           "#B6E880",
           "#FF97FF",
           "#FECB52"
          ],
          "font": {
           "color": "#2a3f5f"
          },
          "geo": {
           "bgcolor": "white",
           "lakecolor": "white",
           "landcolor": "#E5ECF6",
           "showlakes": true,
           "showland": true,
           "subunitcolor": "white"
          },
          "hoverlabel": {
           "align": "left"
          },
          "hovermode": "closest",
          "mapbox": {
           "style": "light"
          },
          "paper_bgcolor": "white",
          "plot_bgcolor": "#E5ECF6",
          "polar": {
           "angularaxis": {
            "gridcolor": "white",
            "linecolor": "white",
            "ticks": ""
           },
           "bgcolor": "#E5ECF6",
           "radialaxis": {
            "gridcolor": "white",
            "linecolor": "white",
            "ticks": ""
           }
          },
          "scene": {
           "xaxis": {
            "backgroundcolor": "#E5ECF6",
            "gridcolor": "white",
            "gridwidth": 2,
            "linecolor": "white",
            "showbackground": true,
            "ticks": "",
            "zerolinecolor": "white"
           },
           "yaxis": {
            "backgroundcolor": "#E5ECF6",
            "gridcolor": "white",
            "gridwidth": 2,
            "linecolor": "white",
            "showbackground": true,
            "ticks": "",
            "zerolinecolor": "white"
           },
           "zaxis": {
            "backgroundcolor": "#E5ECF6",
            "gridcolor": "white",
            "gridwidth": 2,
            "linecolor": "white",
            "showbackground": true,
            "ticks": "",
            "zerolinecolor": "white"
           }
          },
          "shapedefaults": {
           "line": {
            "color": "#2a3f5f"
           }
          },
          "ternary": {
           "aaxis": {
            "gridcolor": "white",
            "linecolor": "white",
            "ticks": ""
           },
           "baxis": {
            "gridcolor": "white",
            "linecolor": "white",
            "ticks": ""
           },
           "bgcolor": "#E5ECF6",
           "caxis": {
            "gridcolor": "white",
            "linecolor": "white",
            "ticks": ""
           }
          },
          "title": {
           "x": 0.05
          },
          "xaxis": {
           "automargin": true,
           "gridcolor": "white",
           "linecolor": "white",
           "ticks": "",
           "title": {
            "standoff": 15
           },
           "zerolinecolor": "white",
           "zerolinewidth": 2
          },
          "yaxis": {
           "automargin": true,
           "gridcolor": "white",
           "linecolor": "white",
           "ticks": "",
           "title": {
            "standoff": 15
           },
           "zerolinecolor": "white",
           "zerolinewidth": 2
          }
         }
        }
       }
      },
      "image/png": "[encoded data removed]",
      "text/html": [
       "<div>                            <div id=\"e2a044e2-25a9-46be-afdc-a455f5a5bc9c\" class=\"plotly-graph-div\" style=\"height:525px; width:100%;\"></div>            <script type=\"text/javascript\">                require([\"plotly\"], function(Plotly) {                    window.PLOTLYENV=window.PLOTLYENV || {};                                    if (document.getElementById(\"e2a044e2-25a9-46be-afdc-a455f5a5bc9c\")) {                    Plotly.newPlot(                        \"e2a044e2-25a9-46be-afdc-a455f5a5bc9c\",                        [{\"hovertemplate\":\"\\u003cb\\u003e%{hovertext}\\u003c\\u002fb\\u003e\\u003cbr\\u003e\\u003cbr\\u003estop_validation=J\\u003cbr\\u003ein_out=%{marker.size}\\u003cbr\\u003estop_lat=%{lat}\\u003cbr\\u003estop_lon=%{lon}\\u003cextra\\u003e\\u003c\\u002fextra\\u003e\",\"hovertext\":[\"Kaiserslautern, Marienkirche\",\"Kaiserslautern, Synagogenplatz\",\"Kaiserslautern, Kennedyplatz\",\"Kaiserslautern, Kennedyplatz\",\"Kaiserslautern, Nachtschicht\",\"Kaiserslautern, Nachtschicht\",\"Kaiserslautern, Pfaffplatz\",\"Kaiserslautern, Pfaffplatz\",\"Kaiserslautern, Pfaffplatz\",\"Kaiserslautern, Pfaffplatz\",\"Kaiserslautern, Pfaffplatz\",\"Kaiserslautern, Friedhof\",\"Kaiserslautern, Friedhof\",\"Kaiserslautern, Stadtmitte Bstg A\",\"Kaiserslautern, Stadtmitte Bstg B\",\"Kaiserslautern, Stadtmitte Bstg C\",\"Kaiserslautern, Stadtmitte Bstg F\",\"Kaiserslautern, Stadtmitte Bstg Max2\",\"Kaiserslautern, Stadtmitte Bstg MaxSt\",\"Kaiserslautern, Stadtmitte Bstg MLuth\",\"Kaiserslautern, Stadtmitte\",\"Kaiserslautern, Daennerkaserne\",\"Kaiserslautern, Daennerkaserne\",\"Kaiserslautern, Generaldepot\",\"Kaiserslautern, Pfaffwerk\",\"Kaiserslautern, Pfaffwerk\",\"Kaiserslautern, Pfalz-Center\",\"Kaiserslautern, Pfalz-Center\",\"Kaiserslautern, Panzerk. West\",\"Kaiserslautern, Panzerk. West\",\"Kaiserslautern, Zollamtstra\\u00dfe\",\"Kaiserslautern, Westbahnhof\",\"Kaiserslautern, Westbahnhof\",\"Kaiserslautern, Hbf Bstg C1\",\"Kaiserslautern, Hbf Bstg A\",\"Kaiserslautern, Hbf Bstg B\",\"Kaiserslautern, Hbf Bstg C2\",\"Kaiserslautern, Hbf Bstg C3\",\"Kaiserslautern, Hbf Bstg D1\",\"Kaiserslautern, Hbf Bstg D2\",\"Kaiserslautern, Hbf Bstg E1\",\"Kaiserslautern, Hbf Bstg E2\",\"Kaiserslautern, Hbf Bstg E3\",\"Kaiserslautern, Hbf Bstg F+G\",\"Kaiserslautern, Hbf\",\"Kaiserslautern, Hbf\",\"Kaiserslautern, Finanzamt\",\"Kaiserslautern, Finanzamt\",\"Kaiserslautern, Bismarckstra\\u00dfe\",\"Kaiserslautern, 23er Kaserne\",\"Kaiserslautern, 23er Kaserne\",\"Kaiserslautern, Abzw. Dansenb.\",\"Kaiserslautern, Abzw. Dansenb.\",\"Kaiserslautern, Alleestra\\u00dfe\",\"Kaiserslautern, Alleestra\\u00dfe\",\"Kaiserslautern, Alte Br\\u00fccke\",\"Kaiserslautern, Alte Br\\u00fccke\",\"Kaiserslautern, Altenheim\",\"Kaiserslautern, Altenheim\",\"Kaiserslautern, Altenwoogstr.\",\"Kaiserslautern, Altenwoogstr.\",\"Kaiserslautern, Alter Friedhof\",\"Kaiserslautern, Alter Friedhof\",\"Kaiserslautern, Volkspark\",\"Kaiserslautern, Volkspark\",\"Kaiserslautern, Am Hang\",\"Kaiserslautern, Am Hang\",\"Kaiserslautern, Am Harzh\\u00fcbel\",\"Kaiserslautern, Apostelkirche\",\"Kaiserslautern, Apostelkirche\",\"Kaiserslautern, SWR\",\"Kaiserslautern, SWR\",\"Kaiserslautern, Globus\",\"Kaiserslautern, Bahnheim\",\"Kaiserslautern, Bahnheim\",\"Kaiserslautern, Bahnheim West\",\"Kaiserslautern, Bahnheim West\",\"Kaiserslautern, Balbierstra\\u00dfe\",\"Kaiserslautern, Barbarossastr.\",\"Kaiserslautern, Barbarossastr.\",\"Kaiserslautern, Gersweilerhof\",\"Kaiserslautern, Gersweilerhof\",\"Kaiserslautern, Breslauer Str.\",\"Kaiserslautern, Breslauer Str.\",\"Kaiserslautern, Buchenloch\",\"Kaiserslautern, Caesarpark\",\"Kaiserslautern, Caesarpark\",\"Kaiserslautern, D.-H\\u00e4berle-S.\",\"Kaiserslautern, D.-H\\u00e4berle-S.\",\"Kaiserslautern, C.-Euler-Str.\",\"Kaiserslautern, C.-Euler-Str.\",\"Kaiserslautern, Davenportplatz\",\"Kaiserslautern, Davenportplatz\",\"Kaiserslautern, T\\u00dcV\",\"Kaiserslautern, T\\u00dcV\",\"Kaiserslautern, Dunkelt\\u00e4lchen\",\"Kaiserslautern, Dunkelt\\u00e4lchen\",\"Kaiserslautern, Dunkelt\\u00e4lchen\",\"Kaiserslautern, Dunkelt\\u00e4lchen\",\"Kaiserslautern, Dunkelt\\u00e4lchen\",\"Kaiserslautern, D\\u00fcrerstra\\u00dfe\",\"Kaiserslautern, D\\u00fcrerstra\\u00dfe\",\"Kaiserslautern, E-Werk\",\"Kaiserslautern, Engelshof\",\"Kaiserslautern, Engelshof\",\"Kaiserslautern, Erfenbach. Weg\",\"Kaiserslautern, Erfenbach. Weg\",\"Kaiserslautern, Erfenbach. Weg\",\"Kaiserslautern, Gersweilerweg\",\"Kaiserslautern, Fachhochschule\",\"Kaiserslautern, Fachhochschule\",\"Kaiserslautern, Fachhochschule\",\"Kaiserslautern, Fackelwoogstr\",\"Kaiserslautern, Fackelwoogstr\",\"Kaiserslautern, Flickerstal\",\"Kaiserslautern, Flickerstal\",\"Kaiserslautern, Fliegerstra\\u00dfe\",\"Kaiserslautern, Fliegerstra\\u00dfe\",\"Kaiserslautern, Goetheschule\",\"Kaiserslautern, Goetheschule\",\"Kaiserslautern, Goetheschule\",\"Kaiserslautern, Gusswerk\",\"Kaiserslautern, Gusswerk\",\"Kaiserslautern, Hartmannstra\\u00dfe\",\"Kaiserslautern, Hartmannstra\\u00dfe\",\"Kaiserslautern, Pfaffstra\\u00dfe\",\"Kaiserslautern, Pfaffstra\\u00dfe\",\"Kaiserslautern, Pfaffsiedlung\",\"Kaiserslautern, Pfaffsiedlung\",\"Kaiserslautern, G\\u00e4rtnereistr.\",\"Kaiserslautern, G\\u00e4rtnereistr.\",\"Kaiserslautern, Hackstra\\u00dfe\",\"Kaiserslautern, Hackstra\\u00dfe\",\"Kaiserslautern, Her.-L\\u00f6ns-Str.\",\"Kaiserslautern, Her.-L\\u00f6ns-Str.\",\"Kaiserslautern, Her.-L\\u00f6ns-Str.\",\"Kaiserslautern, Haspelstra\\u00dfe\",\"Kaiserslautern, Haspelstra\\u00dfe\",\"Kaiserslautern, Homburger Str.\",\"Kaiserslautern, Homburger Str.\",\"Kaiserslautern, Clara-Immerwahr-Str.\",\"Kaiserslautern, H\\u00f6lzengraben\",\"Kaiserslautern, H\\u00f6lzengraben\",\"Kaiserslautern, Kaiserberg\",\"Kaiserslautern, Kaiserm\\u00fchle\",\"Kaiserslautern, Kaiserm\\u00fchle\",\"Kaiserslautern, Kammgarn\",\"Kaiserslautern, Kammgarn\",\"Kaiserslautern, Kammgarn\",\"Kaiserslautern, Kammgarnstra\\u00dfe\",\"Kaiserslautern, Kreuzhof\",\"Kaiserslautern, Kreuzhof\",\"Kaiserslautern, Hohenst. Gymn.\",\"Kaiserslautern, Hohenst. Gymn.\",\"Kaiserslautern, Mainzer Stra\\u00dfe\",\"Kaiserslautern, Mainzer Tor\",\"Kaiserslautern, Mainzer Tor\",\"Kaiserslautern, Marktstra\\u00dfe\",\"Kaiserslautern, Pfalzgalerie\",\"Kaiserslautern, Pfalzgalerie\",\"Kaiserslautern, Mennonitenstr.\",\"Kaiserslautern, Mennonitenstr.\",\"Kaiserslautern, Max und Moritz\",\"Kaiserslautern, Max und Moritz\",\"Kaiserslautern, Messeplatz\",\"Kaiserslautern, Messeplatz\",\"Kaiserslautern, Neue Br\\u00fccke\",\"Kaiserslautern, Neue Br\\u00fccke\",\"Kaiserslautern, M\\u00fchlstra\\u00dfe\",\"Kaiserslautern, Opelkreisel\",\"Kaiserslautern, Neum\\u00fchle\",\"Kaiserslautern, Neum\\u00fchle\",\"Kaiserslautern, Opel\",\"Kaiserslautern, PRE-Park\",\"Kaiserslautern, PRE-Park\",\"Kaiserslautern, RuheForst\",\"Kaiserslautern, Pariser Stra\\u00dfe\",\"Kaiserslautern, Pariser Stra\\u00dfe\",\"Kaiserslautern, Uni West\",\"Kaiserslautern, Uni West\",\"Kaiserslautern, Rote Hohl\",\"Kaiserslautern, Rote Hohl\",\"Kaiserslautern, Parkstra\\u00dfe\",\"Kaiserslautern, Europaallee\",\"Kaiserslautern, Pfaffenbergstr\",\"Kaiserslautern, Rosenstra\\u00dfe\",\"Kaiserslautern, Klinikum S\\u00fcd\",\"Kaiserslautern, Klinikum S\\u00fcd\",\"Kaiserslautern, Sonnenberg\",\"Kaiserslautern, R\\u00f6chlingstra\\u00dfe\",\"Kaiserslautern, R\\u00f6chlingstra\\u00dfe\",\"Kaiserslautern, Luxemburger St\",\"Kaiserslautern, Luxemburger St\",\"Kaiserslautern, W.-Gropius-Str\",\"Kaiserslautern, W.-Gropius-Str\",\"Kaiserslautern, Ziegelstra\\u00dfe\",\"Kaiserslautern, monte mare\",\"Kaiserslautern, Wasserwerk\",\"Kaiserslautern, Wasserwerk\",\"Kaiserslautern, Steig\",\"Kaiserslautern, Steig\",\"Kaiserslautern, Stiftsplatz\",\"Kaiserslautern, Stiftswaldstr.\",\"Kaiserslautern, Stiftswaldstr.\",\"Kaiserslautern, Storchenacker\",\"Kaiserslautern, T.-Heuss-Str.\",\"Kaiserslautern, T.-Heuss-Str.\",\"Kaiserslautern, Europah\\u00f6he\",\"Kaiserslautern, Europah\\u00f6he\",\"Kaiserslautern, Friedhof Eing.\",\"Kaiserslautern, Friedhof Eing.\",\"Kaiserslautern, US Wohnung\",\"Kaiserslautern, US Wohnung\",\"Kaiserslautern, CirComp\",\"Kaiserslautern, Uni Zentral\",\"Kaiserslautern, Uni Zentral\",\"Kaiserslautern, Uni Zentral\",\"Kaiserslautern, Uni Sporthalle\",\"Kaiserslautern, Uni S\\u00fcd\",\"Kaiserslautern, Uni S\\u00fcd\",\"Kaiserslautern, IKEA\",\"Kaiserslautern, Feuerbachstr.\",\"Kaiserslautern, Feuerbachstr.\",\"Kaiserslautern, Uni Ost\",\"Kaiserslautern, Vogelwoogstr.\",\"Kaiserslautern, Vogelwoogstr.\",\"Kaiserslautern, Waldstra\\u00dfe\",\"Kaiserslautern, Waldstra\\u00dfe\",\"Kaiserslautern, Warmfreibad\",\"Kaiserslautern, Warmfreibad\",\"Kaiserslautern, Denisstra\\u00dfe\",\"Kaiserslautern, Denisstra\\u00dfe\",\"Kaiserslautern, Zschockestra\\u00dfe\",\"Kaiserslautern, Zschockestra\\u00dfe\",\"Kaiserslautern, Zeppelinplatz\",\"Kaiserslautern, Zeppelinplatz\",\"Kaiserslautern, Licht-Luft\",\"Kaiserslautern, Herrenwiesent.\",\"Kaiserslautern, Herrenwiesent.\",\"Kaiserslautern, R\\u00fctschhof\",\"Kaiserslautern, R\\u00fctschhof\",\"Kaiserslautern, UCI Kinowelt\",\"Kaiserslautern, UCI Kinowelt\",\"Kaiserslautern, Feuerwache\",\"Kaiserslautern, Am Belzappel\",\"Kaiserslautern, Benzinoring\",\"Kaiserslautern, Amazon Nord\",\"Kaiserslautern, A. Stadtmauer\",\"Kaiserslautern, A. Stadtmauer\",\"Kaiserslautern, Ludwigstra\\u00dfe\",\"Kaiserslautern, Ludwigstra\\u00dfe\",\"Kaiserslautern, ID Logistik\",\"Kaiserslautern, Fraunh. Zent\",\"Kaiserslautern, Fraunh. Zent\"],\"lat\":[49.4418653,49.4446221,49.4434131,49.4435182,49.4338274,49.4344758,49.4434014,49.4428349,49.4432145,49.443711,49.4433722,49.4445929,49.4447798,49.4455508,49.4457319,49.4458603,49.445177,49.4464269,49.4462809,49.4465495,49.4454573,49.4433664,49.4436058,49.4462809,49.4360765,49.436205,49.4434657,49.4436292,49.4427122,49.4429575,49.4334067,49.4476066,49.4479629,49.4364094,49.4365613,49.4365321,49.4365087,49.4365905,49.4363919,49.4364737,49.4363569,49.4364503,49.4365555,49.4363218,49.4364328,49.4362751,49.4389505,49.4385825,49.4436175,49.4440322,49.4442074,49.4110325,49.4110384,49.4414097,49.4412928,49.4453931,49.4455099,49.4498259,49.4497442,49.4449434,49.4450427,49.4482082,49.4480096,49.4430218,49.4428816,49.4642371,49.4643247,49.4265828,49.444149,49.4442016,49.4514669,49.4513502,49.4407671,49.4387577,49.4387636,49.4383196,49.4384306,49.4316132,49.4394937,49.4396106,49.4740562,49.4740971,49.4510815,49.450883,49.4286686,49.4547372,49.4548481,49.4449667,49.445066,49.4333366,49.4332548,49.4258583,49.426016,49.4424961,49.4425603,49.4312451,49.4320864,49.4310114,49.4314321,49.4310815,49.4427122,49.442718,49.4350366,49.4567926,49.4565707,49.4629059,49.4629643,49.462976,49.4554846,49.4521619,49.452232,49.4523546,49.4435942,49.4436526,49.4567576,49.4568218,49.4504566,49.450445,49.4414914,49.4415732,49.4406386,49.4334768,49.4334885,49.440954,49.4404459,49.4378289,49.4383897,49.4325479,49.4326122,49.452156,49.4522962,49.4493645,49.4494755,49.4280668,49.4277922,49.4281077,49.4523604,49.4522787,49.4378932,49.4381385,49.4787666,49.4551284,49.4553153,49.4537386,49.4574583,49.4575167,49.4475891,49.4476066,49.4479454,49.4432963,49.4687616,49.4688258,49.4388862,49.4391374,49.4542817,49.4481264,49.4479746,49.4435708,49.4486696,49.4487513,49.450153,49.4501413,49.4492185,49.4500478,49.4437402,49.4439212,49.439669,49.4397683,49.4466897,49.4421631,49.4513969,49.4513093,49.4402706,49.4574992,49.4580772,49.4431911,49.4384014,49.4384949,49.4248357,49.4248416,49.4113014,49.4113481,49.4384131,49.4570087,49.4315723,49.4415148,49.4397157,49.4396398,49.455181,49.4426655,49.4427531,49.4554145,49.4554496,49.4512275,49.451321,49.4411351,49.4537853,49.4413279,49.4412111,49.4665198,49.4665315,49.4452938,49.4423209,49.4425078,49.4703086,49.4269392,49.4269684,49.4530028,49.4529269,49.4476884,49.44763,49.4240469,49.4240294,49.4814806,49.4238073,49.4241346,49.4240294,49.425905,49.4230477,49.4231237,49.4415323,49.4450018,49.4450543,49.4242748,49.4446163,49.4442191,49.442794,49.4427706,49.4398968,49.4402765,49.4432554,49.4432671,49.4530904,49.4532247,49.4497792,49.4500712,49.4382262,49.4636416,49.4636591,49.4664615,49.4662688,49.4573824,49.4570904,49.438857,49.4378698,49.4480797,49.4427472,49.4479863,49.4480388,49.4483542,49.4485469,49.4846904,49.4306784,49.43062],\"legendgroup\":\"J\",\"lon\":[7.7622345,7.7744965,7.7787096,7.7786737,7.7641479,7.766762,7.7593779,7.7590545,7.7592791,7.7588838,7.7592521,7.7946547,7.7948973,7.7681365,7.7690887,7.7697624,7.7681365,7.7668429,7.7669327,7.7703643,7.7685227,7.8098632,7.8114622,7.8196908,7.7545629,7.7544012,7.815298,7.8137439,7.82968,7.8298956,7.7611296,7.7510146,7.7506463,7.7677951,7.7680826,7.7679388,7.7677412,7.7677142,7.7676424,7.7675975,7.7674717,7.7674448,7.7673819,7.7681724,7.7686934,7.7682622,7.7719273,7.7719633,7.772637,7.8015628,7.8016526,7.7200137,7.71987,7.7712356,7.7711907,7.7483286,7.7481849,7.7996224,7.7994248,7.7860938,7.7861028,7.7844588,7.7838929,7.7921305,7.7914747,7.7258168,7.7256282,7.7469542,7.7631239,7.76307,7.7694121,7.7686126,7.7073475,7.7341532,7.7323476,7.7295179,7.7289699,7.7593599,7.7794013,7.7792935,7.7887079,7.7886091,7.7414385,7.7412589,7.7577429,7.7590365,7.7590186,7.7908009,7.7912232,7.756135,7.7558116,7.7462535,7.7461906,7.7200317,7.719879,7.7718824,7.7719453,7.7717297,7.7710919,7.7717926,7.7392915,7.739076,7.762001,7.7480861,7.7479693,7.7228614,7.7230141,7.7233734,7.7781706,7.7640851,7.7638515,7.7643006,7.7651001,7.7651091,7.7974844,7.7973586,7.7650373,7.7649474,7.7535029,7.7532604,7.7546977,7.7496491,7.7475381,7.7605457,7.7596923,7.7563775,7.7567368,7.7428129,7.7427321,7.7925796,7.7926155,7.7733287,7.7733377,7.7604918,7.7595755,7.7604379,7.7733377,7.7733826,7.7186932,7.718235,7.6812065,7.7874053,7.7876748,7.749191,7.7423099,7.7423099,7.7549761,7.7540509,7.7538982,7.7551199,7.7362463,7.7361744,7.7516973,7.7519039,7.7924089,7.7770118,7.7768501,7.7700678,7.76996,7.769987,7.7886899,7.7884833,7.7799942,7.7807129,7.7821681,7.7821771,7.7401809,7.7396599,7.7619471,7.7080481,7.7491012,7.7489754,7.7067815,7.8012573,7.8022814,7.8373606,7.7392826,7.7390939,7.7495862,7.7492628,7.747565,7.7474213,7.7676514,7.8033235,7.7602942,7.7660613,7.7569884,7.7573207,7.7549761,7.7239843,7.7240022,7.8048775,7.8046979,7.8008261,7.8007992,7.7616596,7.8116508,7.7873963,7.7865878,7.7318715,7.7317188,7.7726999,7.8010238,7.8016975,7.7348988,7.7446545,7.744933,7.8157561,7.8157112,7.7968646,7.7974305,7.7217205,7.7215768,7.6872432,7.7548773,7.7557846,7.7549851,7.7508529,7.7505744,7.7506013,7.7006909,7.7459121,7.7459211,7.7563775,7.732105,7.7312876,7.7516703,7.7501971,7.7996583,7.7995775,7.7286645,7.7281524,7.7877646,7.787576,7.7768591,7.7764279,7.8033324,7.7297604,7.7299042,7.7335962,7.7336232,7.8028653,7.8023174,7.7446994,7.7255024,7.7681544,7.6798949,7.7730592,7.7725741,7.7765088,7.7764189,7.6841799,7.7530987,7.7528831],\"marker\":{\"color\":\"#636efa\",\"size\":[2,1,2,2,4,2,7,2,2,2,2,2,1,1,3,4,2,2,1,26,2,1,2,2,1,2,2,2,2,2,2,2,2,2,2,1,2,2,2,1,2,1,2,2,1,2,2,2,1,2,2,1,2,1,1,1,2,2,2,2,2,2,2,1,2,2,4,2,1,2,1,2,2,1,2,1,2,2,1,2,2,4,2,2,2,2,2,1,2,2,0,3,2,2,2,2,2,2,1,2,2,4,1,2,2,2,2,2,2,2,2,2,2,2,2,1,2,3,1,2,1,2,2,2,2,2,1,2,2,1,2,2,2,2,2,1,2,2,2,2,2,3,1,2,1,1,2,1,1,2,2,2,2,2,1,2,2,3,2,2,2,2,2,1,1,2,2,2,2,1,2,2,2,2,2,2,2,2,2,0,1,1,2,2,3,1,1,2,1,2,2,2,2,2,2,2,1,2,1,2,2,1,2,1,2,2,1,2,2,1,2,2,2,2,2,2,2,2,1,2,2,2,2,2,2,1,1,2,2,2,2,2,1,2,1,1,2,1,2,2,1,2,1,1,2,2,2,2,2,1,2,1,3,1],\"sizemode\":\"area\",\"sizeref\":0.065},\"mode\":\"markers\",\"name\":\"J\",\"showlegend\":true,\"subplot\":\"mapbox\",\"type\":\"scattermapbox\"},{\"hovertemplate\":\"\\u003cb\\u003e%{hovertext}\\u003c\\u002fb\\u003e\\u003cbr\\u003e\\u003cbr\\u003estop_validation=N\\u003cbr\\u003ein_out=%{marker.size}\\u003cbr\\u003estop_lat=%{lat}\\u003cbr\\u003estop_lon=%{lon}\\u003cextra\\u003e\\u003c\\u002fextra\\u003e\",\"hovertext\":[\"Kaiserslautern, Kaiserberg\",\"Kaiserslautern, Am Belzappel\",\"Kaiserslautern, Kreisverw.\",\"Kaiserslautern, Benzinoring\"],\"lat\":[49.4539897,49.4380217,49.4472037,49.4477059],\"legendgroup\":\"N\",\"lon\":[7.7489484,7.7252419,7.7665105,7.7682802],\"marker\":{\"color\":\"#EF553B\",\"size\":[1,1,1,1],\"sizemode\":\"area\",\"sizeref\":0.065},\"mode\":\"markers\",\"name\":\"N\",\"showlegend\":true,\"subplot\":\"mapbox\",\"type\":\"scattermapbox\"}],                        {\"template\":{\"data\":{\"histogram2dcontour\":[{\"type\":\"histogram2dcontour\",\"colorbar\":{\"outlinewidth\":0,\"ticks\":\"\"},\"colorscale\":[[0.0,\"#0d0887\"],[0.1111111111111111,\"#46039f\"],[0.2222222222222222,\"#7201a8\"],[0.3333333333333333,\"#9c179e\"],[0.4444444444444444,\"#bd3786\"],[0.5555555555555556,\"#d8576b\"],[0.6666666666666666,\"#ed7953\"],[0.7777777777777778,\"#fb9f3a\"],[0.8888888888888888,\"#fdca26\"],[1.0,\"#f0f921\"]]}],\"choropleth\":[{\"type\":\"choropleth\",\"colorbar\":{\"outlinewidth\":0,\"ticks\":\"\"}}],\"histogram2d\":[{\"type\":\"histogram2d\",\"colorbar\":{\"outlinewidth\":0,\"ticks\":\"\"},\"colorscale\":[[0.0,\"#0d0887\"],[0.1111111111111111,\"#46039f\"],[0.2222222222222222,\"#7201a8\"],[0.3333333333333333,\"#9c179e\"],[0.4444444444444444,\"#bd3786\"],[0.5555555555555556,\"#d8576b\"],[0.6666666666666666,\"#ed7953\"],[0.7777777777777778,\"#fb9f3a\"],[0.8888888888888888,\"#fdca26\"],[1.0,\"#f0f921\"]]}],\"heatmap\":[{\"type\":\"heatmap\",\"colorbar\":{\"outlinewidth\":0,\"ticks\":\"\"},\"colorscale\":[[0.0,\"#0d0887\"],[0.1111111111111111,\"#46039f\"],[0.2222222222222222,\"#7201a8\"],[0.3333333333333333,\"#9c179e\"],[0.4444444444444444,\"#bd3786\"],[0.5555555555555556,\"#d8576b\"],[0.6666666666666666,\"#ed7953\"],[0.7777777777777778,\"#fb9f3a\"],[0.8888888888888888,\"#fdca26\"],[1.0,\"#f0f921\"]]}],\"heatmapgl\":[{\"type\":\"heatmapgl\",\"colorbar\":{\"outlinewidth\":0,\"ticks\":\"\"},\"colorscale\":[[0.0,\"#0d0887\"],[0.1111111111111111,\"#46039f\"],[0.2222222222222222,\"#7201a8\"],[0.3333333333333333,\"#9c179e\"],[0.4444444444444444,\"#bd3786\"],[0.5555555555555556,\"#d8576b\"],[0.6666666666666666,\"#ed7953\"],[0.7777777777777778,\"#fb9f3a\"],[0.8888888888888888,\"#fdca26\"],[1.0,\"#f0f921\"]]}],\"contourcarpet\":[{\"type\":\"contourcarpet\",\"colorbar\":{\"outlinewidth\":0,\"ticks\":\"\"}}],\"contour\":[{\"type\":\"contour\",\"colorbar\":{\"outlinewidth\":0,\"ticks\":\"\"},\"colorscale\":[[0.0,\"#0d0887\"],[0.1111111111111111,\"#46039f\"],[0.2222222222222222,\"#7201a8\"],[0.3333333333333333,\"#9c179e\"],[0.4444444444444444,\"#bd3786\"],[0.5555555555555556,\"#d8576b\"],[0.6666666666666666,\"#ed7953\"],[0.7777777777777778,\"#fb9f3a\"],[0.8888888888888888,\"#fdca26\"],[1.0,\"#f0f921\"]]}],\"surface\":[{\"type\":\"surface\",\"colorbar\":{\"outlinewidth\":0,\"ticks\":\"\"},\"colorscale\":[[0.0,\"#0d0887\"],[0.1111111111111111,\"#46039f\"],[0.2222222222222222,\"#7201a8\"],[0.3333333333333333,\"#9c179e\"],[0.4444444444444444,\"#bd3786\"],[0.5555555555555556,\"#d8576b\"],[0.6666666666666666,\"#ed7953\"],[0.7777777777777778,\"#fb9f3a\"],[0.8888888888888888,\"#fdca26\"],[1.0,\"#f0f921\"]]}],\"mesh3d\":[{\"type\":\"mesh3d\",\"colorbar\":{\"outlinewidth\":0,\"ticks\":\"\"}}],\"scatter\":[{\"fillpattern\":{\"fillmode\":\"overlay\",\"size\":10,\"solidity\":0.2},\"type\":\"scatter\"}],\"parcoords\":[{\"type\":\"parcoords\",\"line\":{\"colorbar\":{\"outlinewidth\":0,\"ticks\":\"\"}}}],\"scatterpolargl\":[{\"type\":\"scatterpolargl\",\"marker\":{\"colorbar\":{\"outlinewidth\":0,\"ticks\":\"\"}}}],\"bar\":[{\"error_x\":{\"color\":\"#2a3f5f\"},\"error_y\":{\"color\":\"#2a3f5f\"},\"marker\":{\"line\":{\"color\":\"#E5ECF6\",\"width\":0.5},\"pattern\":{\"fillmode\":\"overlay\",\"size\":10,\"solidity\":0.2}},\"type\":\"bar\"}],\"scattergeo\":[{\"type\":\"scattergeo\",\"marker\":{\"colorbar\":{\"outlinewidth\":0,\"ticks\":\"\"}}}],\"scatterpolar\":[{\"type\":\"scatterpolar\",\"marker\":{\"colorbar\":{\"outlinewidth\":0,\"ticks\":\"\"}}}],\"histogram\":[{\"marker\":{\"pattern\":{\"fillmode\":\"overlay\",\"size\":10,\"solidity\":0.2}},\"type\":\"histogram\"}],\"scattergl\":[{\"type\":\"scattergl\",\"marker\":{\"colorbar\":{\"outlinewidth\":0,\"ticks\":\"\"}}}],\"scatter3d\":[{\"type\":\"scatter3d\",\"line\":{\"colorbar\":{\"outlinewidth\":0,\"ticks\":\"\"}},\"marker\":{\"colorbar\":{\"outlinewidth\":0,\"ticks\":\"\"}}}],\"scattermapbox\":[{\"type\":\"scattermapbox\",\"marker\":{\"colorbar\":{\"outlinewidth\":0,\"ticks\":\"\"}}}],\"scatterternary\":[{\"type\":\"scatterternary\",\"marker\":{\"colorbar\":{\"outlinewidth\":0,\"ticks\":\"\"}}}],\"scattercarpet\":[{\"type\":\"scattercarpet\",\"marker\":{\"colorbar\":{\"outlinewidth\":0,\"ticks\":\"\"}}}],\"carpet\":[{\"aaxis\":{\"endlinecolor\":\"#2a3f5f\",\"gridcolor\":\"white\",\"linecolor\":\"white\",\"minorgridcolor\":\"white\",\"startlinecolor\":\"#2a3f5f\"},\"baxis\":{\"endlinecolor\":\"#2a3f5f\",\"gridcolor\":\"white\",\"linecolor\":\"white\",\"minorgridcolor\":\"white\",\"startlinecolor\":\"#2a3f5f\"},\"type\":\"carpet\"}],\"table\":[{\"cells\":{\"fill\":{\"color\":\"#EBF0F8\"},\"line\":{\"color\":\"white\"}},\"header\":{\"fill\":{\"color\":\"#C8D4E3\"},\"line\":{\"color\":\"white\"}},\"type\":\"table\"}],\"barpolar\":[{\"marker\":{\"line\":{\"color\":\"#E5ECF6\",\"width\":0.5},\"pattern\":{\"fillmode\":\"overlay\",\"size\":10,\"solidity\":0.2}},\"type\":\"barpolar\"}],\"pie\":[{\"automargin\":true,\"type\":\"pie\"}]},\"layout\":{\"autotypenumbers\":\"strict\",\"colorway\":[\"#636efa\",\"#EF553B\",\"#00cc96\",\"#ab63fa\",\"#FFA15A\",\"#19d3f3\",\"#FF6692\",\"#B6E880\",\"#FF97FF\",\"#FECB52\"],\"font\":{\"color\":\"#2a3f5f\"},\"hovermode\":\"closest\",\"hoverlabel\":{\"align\":\"left\"},\"paper_bgcolor\":\"white\",\"plot_bgcolor\":\"#E5ECF6\",\"polar\":{\"bgcolor\":\"#E5ECF6\",\"angularaxis\":{\"gridcolor\":\"white\",\"linecolor\":\"white\",\"ticks\":\"\"},\"radialaxis\":{\"gridcolor\":\"white\",\"linecolor\":\"white\",\"ticks\":\"\"}},\"ternary\":{\"bgcolor\":\"#E5ECF6\",\"aaxis\":{\"gridcolor\":\"white\",\"linecolor\":\"white\",\"ticks\":\"\"},\"baxis\":{\"gridcolor\":\"white\",\"linecolor\":\"white\",\"ticks\":\"\"},\"caxis\":{\"gridcolor\":\"white\",\"linecolor\":\"white\",\"ticks\":\"\"}},\"coloraxis\":{\"colorbar\":{\"outlinewidth\":0,\"ticks\":\"\"}},\"colorscale\":{\"sequential\":[[0.0,\"#0d0887\"],[0.1111111111111111,\"#46039f\"],[0.2222222222222222,\"#7201a8\"],[0.3333333333333333,\"#9c179e\"],[0.4444444444444444,\"#bd3786\"],[0.5555555555555556,\"#d8576b\"],[0.6666666666666666,\"#ed7953\"],[0.7777777777777778,\"#fb9f3a\"],[0.8888888888888888,\"#fdca26\"],[1.0,\"#f0f921\"]],\"sequentialminus\":[[0.0,\"#0d0887\"],[0.1111111111111111,\"#46039f\"],[0.2222222222222222,\"#7201a8\"],[0.3333333333333333,\"#9c179e\"],[0.4444444444444444,\"#bd3786\"],[0.5555555555555556,\"#d8576b\"],[0.6666666666666666,\"#ed7953\"],[0.7777777777777778,\"#fb9f3a\"],[0.8888888888888888,\"#fdca26\"],[1.0,\"#f0f921\"]],\"diverging\":[[0,\"#8e0152\"],[0.1,\"#c51b7d\"],[0.2,\"#de77ae\"],[0.3,\"#f1b6da\"],[0.4,\"#fde0ef\"],[0.5,\"#f7f7f7\"],[0.6,\"#e6f5d0\"],[0.7,\"#b8e186\"],[0.8,\"#7fbc41\"],[0.9,\"#4d9221\"],[1,\"#276419\"]]},\"xaxis\":{\"gridcolor\":\"white\",\"linecolor\":\"white\",\"ticks\":\"\",\"title\":{\"standoff\":15},\"zerolinecolor\":\"white\",\"automargin\":true,\"zerolinewidth\":2},\"yaxis\":{\"gridcolor\":\"white\",\"linecolor\":\"white\",\"ticks\":\"\",\"title\":{\"standoff\":15},\"zerolinecolor\":\"white\",\"automargin\":true,\"zerolinewidth\":2},\"scene\":{\"xaxis\":{\"backgroundcolor\":\"#E5ECF6\",\"gridcolor\":\"white\",\"linecolor\":\"white\",\"showbackground\":true,\"ticks\":\"\",\"zerolinecolor\":\"white\",\"gridwidth\":2},\"yaxis\":{\"backgroundcolor\":\"#E5ECF6\",\"gridcolor\":\"white\",\"linecolor\":\"white\",\"showbackground\":true,\"ticks\":\"\",\"zerolinecolor\":\"white\",\"gridwidth\":2},\"zaxis\":{\"backgroundcolor\":\"#E5ECF6\",\"gridcolor\":\"white\",\"linecolor\":\"white\",\"showbackground\":true,\"ticks\":\"\",\"zerolinecolor\":\"white\",\"gridwidth\":2}},\"shapedefaults\":{\"line\":{\"color\":\"#2a3f5f\"}},\"annotationdefaults\":{\"arrowcolor\":\"#2a3f5f\",\"arrowhead\":0,\"arrowwidth\":1},\"geo\":{\"bgcolor\":\"white\",\"landcolor\":\"#E5ECF6\",\"subunitcolor\":\"white\",\"showland\":true,\"showlakes\":true,\"lakecolor\":\"white\"},\"title\":{\"x\":0.05},\"mapbox\":{\"style\":\"light\"}}},\"mapbox\":{\"domain\":{\"x\":[0.0,1.0],\"y\":[0.0,1.0]},\"center\":{\"lat\":49.44414750775194,\"lon\":7.762685351550387},\"zoom\":12,\"style\":\"carto-positron\"},\"legend\":{\"title\":{\"text\":\"stop_validation\"},\"tracegroupgap\":0,\"itemsizing\":\"constant\"},\"margin\":{\"t\":60}},                        {\"responsive\": true}                    ).then(function(){\n",
       "                            \n",
       "var gd = document.getElementById('e2a044e2-25a9-46be-afdc-a455f5a5bc9c');\n",
       "var x = new MutationObserver(function (mutations, observer) {{\n",
       "        var display = window.getComputedStyle(gd).display;\n",
       "        if (!display || display === 'none') {{\n",
       "            console.log([gd, 'removed!']);\n",
       "            Plotly.purge(gd);\n",
       "            observer.disconnect();\n",
       "        }}\n",
       "}});\n",
       "\n",
       "// Listen for the removal of the full notebook cells\n",
       "var notebookContainer = gd.closest('#notebook-container');\n",
       "if (notebookContainer) {{\n",
       "    x.observe(notebookContainer, {childList: true});\n",
       "}}\n",
       "\n",
       "// Listen for the clearing of the current output cell\n",
       "var outputEl = gd.closest('.output');\n",
       "if (outputEl) {{\n",
       "    x.observe(outputEl, {childList: true});\n",
       "}}\n",
       "\n",
       "                        })                };                });            </script>        </div>"
      ]
     },
     "metadata": {},
     "output_type": "display_data"
    }
   ],
   "source": [
    "import plotly.express as px\n",
    "\n",
    "fig = px.scatter_mapbox(df_kl, lat=\"stop_lat\", lon=\"stop_lon\", zoom=11, color='stop_validation',\n",
    "                  size='in_out', mapbox_style=\"carto-positron\", hover_name='stop_name')\n",
    "fig.show()\n",
    "fig.write_html(\"BusesMaps_carto-positron.html\")"
   ]
  },
  {
   "cell_type": "markdown",
   "id": "f0d20ac7-fd59-46e3-be6b-193353f38e73",
   "metadata": {},
   "source": [
    "# stop times"
   ]
  },
  {
   "cell_type": "code",
   "execution_count": 2,
   "id": "c73b8d83-9a31-4a37-ab5b-4d92dd6d34ee",
   "metadata": {},
   "outputs": [
    {
     "name": "stderr",
     "output_type": "stream",
     "text": [
      "/tmp/ipykernel_212335/4171897295.py:1: DtypeWarning: Columns (5) have mixed types. Specify dtype option on import or set low_memory=False.\n",
      "  df_stop_times = pd.read_csv(\"datasets/Buses/stop_times.txt\")\n"
     ]
    },
    {
     "data": {
      "text/html": [
       "<div>\n",
       "<style scoped>\n",
       "    .dataframe tbody tr th:only-of-type {\n",
       "        vertical-align: middle;\n",
       "    }\n",
       "\n",
       "    .dataframe tbody tr th {\n",
       "        vertical-align: top;\n",
       "    }\n",
       "\n",
       "    .dataframe thead th {\n",
       "        text-align: right;\n",
       "    }\n",
       "</style>\n",
       "<table border=\"1\" class=\"dataframe\">\n",
       "  <thead>\n",
       "    <tr style=\"text-align: right;\">\n",
       "      <th></th>\n",
       "      <th>trip_id</th>\n",
       "      <th>arrival_time</th>\n",
       "      <th>departure_time</th>\n",
       "      <th>stop_id</th>\n",
       "      <th>stop_sequence</th>\n",
       "      <th>stop_headsign</th>\n",
       "      <th>pickup_type</th>\n",
       "      <th>drop_off_type</th>\n",
       "      <th>shape_dist_traveled</th>\n",
       "    </tr>\n",
       "  </thead>\n",
       "  <tbody>\n",
       "    <tr>\n",
       "      <th>0</th>\n",
       "      <td>vrn-1-052x-1-1-30-R-1-Special-4-1</td>\n",
       "      <td>12:23:00</td>\n",
       "      <td>12:23:00</td>\n",
       "      <td>fr:24067:1284:1</td>\n",
       "      <td>1</td>\n",
       "      <td>NaN</td>\n",
       "      <td>0</td>\n",
       "      <td>0</td>\n",
       "      <td>NaN</td>\n",
       "    </tr>\n",
       "    <tr>\n",
       "      <th>1</th>\n",
       "      <td>vrn-1-052x-1-1-30-R-1-Special-4-1</td>\n",
       "      <td>12:40:00</td>\n",
       "      <td>12:40:00</td>\n",
       "      <td>fr:24067:1288</td>\n",
       "      <td>2</td>\n",
       "      <td>NaN</td>\n",
       "      <td>0</td>\n",
       "      <td>0</td>\n",
       "      <td>NaN</td>\n",
       "    </tr>\n",
       "    <tr>\n",
       "      <th>2</th>\n",
       "      <td>vrn-1-052x-1-1-30-R-1-Special-4-1</td>\n",
       "      <td>12:49:00</td>\n",
       "      <td>12:49:00</td>\n",
       "      <td>fr:24067:9790</td>\n",
       "      <td>3</td>\n",
       "      <td>NaN</td>\n",
       "      <td>0</td>\n",
       "      <td>0</td>\n",
       "      <td>NaN</td>\n",
       "    </tr>\n",
       "    <tr>\n",
       "      <th>3</th>\n",
       "      <td>vrn-1-052x-1-1-30-R-1-Special-4-1</td>\n",
       "      <td>13:00:00</td>\n",
       "      <td>13:00:00</td>\n",
       "      <td>fr:24067:41177</td>\n",
       "      <td>4</td>\n",
       "      <td>NaN</td>\n",
       "      <td>0</td>\n",
       "      <td>0</td>\n",
       "      <td>NaN</td>\n",
       "    </tr>\n",
       "    <tr>\n",
       "      <th>4</th>\n",
       "      <td>vrn-1-052x-1-1-30-R-1-Special-4-1</td>\n",
       "      <td>13:07:00</td>\n",
       "      <td>13:07:00</td>\n",
       "      <td>fr:24067:95</td>\n",
       "      <td>5</td>\n",
       "      <td>NaN</td>\n",
       "      <td>0</td>\n",
       "      <td>0</td>\n",
       "      <td>NaN</td>\n",
       "    </tr>\n",
       "  </tbody>\n",
       "</table>\n",
       "</div>"
      ],
      "text/plain": [
       "                             trip_id arrival_time departure_time  \\\n",
       "0  vrn-1-052x-1-1-30-R-1-Special-4-1     12:23:00       12:23:00   \n",
       "1  vrn-1-052x-1-1-30-R-1-Special-4-1     12:40:00       12:40:00   \n",
       "2  vrn-1-052x-1-1-30-R-1-Special-4-1     12:49:00       12:49:00   \n",
       "3  vrn-1-052x-1-1-30-R-1-Special-4-1     13:00:00       13:00:00   \n",
       "4  vrn-1-052x-1-1-30-R-1-Special-4-1     13:07:00       13:07:00   \n",
       "\n",
       "           stop_id  stop_sequence stop_headsign  pickup_type  drop_off_type  \\\n",
       "0  fr:24067:1284:1              1           NaN            0              0   \n",
       "1    fr:24067:1288              2           NaN            0              0   \n",
       "2    fr:24067:9790              3           NaN            0              0   \n",
       "3   fr:24067:41177              4           NaN            0              0   \n",
       "4      fr:24067:95              5           NaN            0              0   \n",
       "\n",
       "   shape_dist_traveled  \n",
       "0                  NaN  \n",
       "1                  NaN  \n",
       "2                  NaN  \n",
       "3                  NaN  \n",
       "4                  NaN  "
      ]
     },
     "execution_count": 2,
     "metadata": {},
     "output_type": "execute_result"
    }
   ],
   "source": [
    "df_stop_times = pd.read_csv(\"datasets/Buses/stop_times.txt\")\n",
    "df_stop_times.head()"
   ]
  },
  {
   "cell_type": "code",
   "execution_count": 6,
   "id": "9e1fa20f-2416-4a8c-86b3-afd4bbf62035",
   "metadata": {},
   "outputs": [
    {
     "data": {
      "text/plain": [
       "array(['vrn-1-052x-1-1-30-R-1-Special-4-1',\n",
       "       'vrn-1-052x-1-1-28-R-0-Special-8-2',\n",
       "       'vrn-1-052x-1-1-28-R-0-Special-1-3', ...,\n",
       "       'vrn-88-360-1-1-1-R-0-Special#92-25-40',\n",
       "       'vrn-88-360-1-1-1-R-0-Special#92-26-41',\n",
       "       'vrn-88-360-1-1-1-R-0-Special#92-157-42'], dtype=object)"
      ]
     },
     "execution_count": 6,
     "metadata": {},
     "output_type": "execute_result"
    }
   ],
   "source": [
    "df_stop_times['trip_id'].unique()"
   ]
  },
  {
   "cell_type": "code",
   "execution_count": 4,
   "id": "19f28a0a-3593-4106-8dea-15111538591e",
   "metadata": {},
   "outputs": [
    {
     "data": {
      "text/plain": [
       "132619"
      ]
     },
     "execution_count": 4,
     "metadata": {},
     "output_type": "execute_result"
    }
   ],
   "source": [
    "len(df_stop_times['trip_id'].unique())"
   ]
  },
  {
   "cell_type": "code",
   "execution_count": 7,
   "id": "ede8cb15-a834-4021-aea1-d6a552b7ab17",
   "metadata": {},
   "outputs": [
    {
     "data": {
      "text/html": [
       "<div>\n",
       "<style scoped>\n",
       "    .dataframe tbody tr th:only-of-type {\n",
       "        vertical-align: middle;\n",
       "    }\n",
       "\n",
       "    .dataframe tbody tr th {\n",
       "        vertical-align: top;\n",
       "    }\n",
       "\n",
       "    .dataframe thead th {\n",
       "        text-align: right;\n",
       "    }\n",
       "</style>\n",
       "<table border=\"1\" class=\"dataframe\">\n",
       "  <thead>\n",
       "    <tr style=\"text-align: right;\">\n",
       "      <th></th>\n",
       "      <th>trip_id</th>\n",
       "      <th>arrival_time</th>\n",
       "      <th>departure_time</th>\n",
       "      <th>stop_id</th>\n",
       "      <th>stop_sequence</th>\n",
       "      <th>stop_headsign</th>\n",
       "      <th>pickup_type</th>\n",
       "      <th>drop_off_type</th>\n",
       "      <th>shape_dist_traveled</th>\n",
       "    </tr>\n",
       "  </thead>\n",
       "  <tbody>\n",
       "    <tr>\n",
       "      <th>11</th>\n",
       "      <td>vrn-1-052x-1-1-28-R-0-Special-8-2</td>\n",
       "      <td>21:00:00</td>\n",
       "      <td>21:00:00</td>\n",
       "      <td>fr:24067:1284:1</td>\n",
       "      <td>1</td>\n",
       "      <td>NaN</td>\n",
       "      <td>0</td>\n",
       "      <td>0</td>\n",
       "      <td>NaN</td>\n",
       "    </tr>\n",
       "    <tr>\n",
       "      <th>12</th>\n",
       "      <td>vrn-1-052x-1-1-28-R-0-Special-8-2</td>\n",
       "      <td>21:17:00</td>\n",
       "      <td>21:17:00</td>\n",
       "      <td>fr:24067:1288</td>\n",
       "      <td>2</td>\n",
       "      <td>NaN</td>\n",
       "      <td>0</td>\n",
       "      <td>0</td>\n",
       "      <td>NaN</td>\n",
       "    </tr>\n",
       "    <tr>\n",
       "      <th>13</th>\n",
       "      <td>vrn-1-052x-1-1-28-R-0-Special-8-2</td>\n",
       "      <td>21:26:00</td>\n",
       "      <td>21:26:00</td>\n",
       "      <td>fr:24067:9790</td>\n",
       "      <td>3</td>\n",
       "      <td>NaN</td>\n",
       "      <td>0</td>\n",
       "      <td>0</td>\n",
       "      <td>NaN</td>\n",
       "    </tr>\n",
       "    <tr>\n",
       "      <th>14</th>\n",
       "      <td>vrn-1-052x-1-1-28-R-0-Special-8-2</td>\n",
       "      <td>21:37:00</td>\n",
       "      <td>21:37:00</td>\n",
       "      <td>fr:24067:41177</td>\n",
       "      <td>4</td>\n",
       "      <td>NaN</td>\n",
       "      <td>0</td>\n",
       "      <td>0</td>\n",
       "      <td>NaN</td>\n",
       "    </tr>\n",
       "    <tr>\n",
       "      <th>15</th>\n",
       "      <td>vrn-1-052x-1-1-28-R-0-Special-8-2</td>\n",
       "      <td>21:44:00</td>\n",
       "      <td>21:44:00</td>\n",
       "      <td>fr:24067:95</td>\n",
       "      <td>5</td>\n",
       "      <td>NaN</td>\n",
       "      <td>0</td>\n",
       "      <td>0</td>\n",
       "      <td>NaN</td>\n",
       "    </tr>\n",
       "  </tbody>\n",
       "</table>\n",
       "</div>"
      ],
      "text/plain": [
       "                              trip_id arrival_time departure_time  \\\n",
       "11  vrn-1-052x-1-1-28-R-0-Special-8-2     21:00:00       21:00:00   \n",
       "12  vrn-1-052x-1-1-28-R-0-Special-8-2     21:17:00       21:17:00   \n",
       "13  vrn-1-052x-1-1-28-R-0-Special-8-2     21:26:00       21:26:00   \n",
       "14  vrn-1-052x-1-1-28-R-0-Special-8-2     21:37:00       21:37:00   \n",
       "15  vrn-1-052x-1-1-28-R-0-Special-8-2     21:44:00       21:44:00   \n",
       "\n",
       "            stop_id  stop_sequence stop_headsign  pickup_type  drop_off_type  \\\n",
       "11  fr:24067:1284:1              1           NaN            0              0   \n",
       "12    fr:24067:1288              2           NaN            0              0   \n",
       "13    fr:24067:9790              3           NaN            0              0   \n",
       "14   fr:24067:41177              4           NaN            0              0   \n",
       "15      fr:24067:95              5           NaN            0              0   \n",
       "\n",
       "    shape_dist_traveled  \n",
       "11                  NaN  \n",
       "12                  NaN  \n",
       "13                  NaN  \n",
       "14                  NaN  \n",
       "15                  NaN  "
      ]
     },
     "execution_count": 7,
     "metadata": {},
     "output_type": "execute_result"
    }
   ],
   "source": [
    "df_stop_times[df_stop_times['trip_id']=='vrn-1-052x-1-1-28-R-0-Special-8-2']"
   ]
  },
  {
   "cell_type": "code",
   "execution_count": 9,
   "id": "f0013920-6f4c-48ae-9624-32bdbc6e3492",
   "metadata": {},
   "outputs": [
    {
     "data": {
      "text/plain": [
       "17330"
      ]
     },
     "execution_count": 9,
     "metadata": {},
     "output_type": "execute_result"
    }
   ],
   "source": [
    "len(df_stop_times['stop_id'].unique())"
   ]
  },
  {
   "cell_type": "code",
   "execution_count": 14,
   "id": "cf0c4fdf-bc29-445a-b6cc-ea41f2c15835",
   "metadata": {},
   "outputs": [
    {
     "data": {
      "text/plain": [
       "array(['fr:24067:1284:1', 'fr:24067:1288', 'fr:24067:9790', ...,\n",
       "       'de:07336:96320', 'de:07336:96423:0:1', 'de:07134:35019'],\n",
       "      dtype=object)"
      ]
     },
     "execution_count": 14,
     "metadata": {},
     "output_type": "execute_result"
    }
   ],
   "source": [
    "df_stop_times['stop_id'].unique()"
   ]
  },
  {
   "cell_type": "code",
   "execution_count": 15,
   "id": "bacde0d0-8b61-4300-9b2b-d38edc0280fb",
   "metadata": {},
   "outputs": [
    {
     "data": {
      "text/plain": [
       "array([nan, 'Ma Hbf - Heidelberg', 'Heidelberg',\n",
       "       'Heidelberg Bismarckplatz', 'Weinheim', 'Mannheim', 'Edingen',\n",
       "       'Käfertal', 'Schriesheim', 'Mannheim Hbf',\n",
       "       'Heidelberg Bismarckplatz - Mannheim', 'Mannheim Zentrum - Hbf',\n",
       "       'Viernheim', 'Mannheim Hbf - Käfertal', 'Weinheim - Heidelberg',\n",
       "       'Heidelberg Hbf', 'Käfertal - Viernheim', 'Frauenweiler-Rauenberg',\n",
       "       'Balzfeld', 'Rot-Malsch', 'Wiesloch, SZ/Busstraße',\n",
       "       'Waldangelloch', 'Dielheim', 'Eichtersheim, Bahnhof', 'Östringen',\n",
       "       'St. Leon-Rot', 'Walldorf, Sambugaweg', 'Wiesloch, Güterstraße',\n",
       "       'Wiesloch-Walldorf, Bf', 'Walldorf, IKEA', 'Walldorf, SAP Campus',\n",
       "       'Walldorf, Dietmar-Hopp-Allee', 'Schatthausen',\n",
       "       'Wiesloch, Ringstr.', 'Walldorf, Schwimmbad', 'Wiesloch, PZN',\n",
       "       'Rohrbach', 'Sinsheim, Hbf', 'LD, Quartier Vauban',\n",
       "       'LD, Uni/Alter Meßplatz', 'Uni/Alter Messplatz', 'Südring',\n",
       "       'Herxheim', 'Herxheim/Ld, Speiertsgasse', 'Jockgrim',\n",
       "       'Jockgrim, Trifelsstraße', 'Abzw. Dörrenbergstr.',\n",
       "       'Quartier Vauban', 'Neupotz', 'Neupotz, Hardtwald', 'Rülzheim',\n",
       "       'Rülzheim, Gutenbergstraße', 'Herxheim/Ld, Schulzentrum',\n",
       "       'Siegfried-Jantzer-Str.', 'Worms Hbf/ZOB', 'Pfiffligheim',\n",
       "       'Herrnsheim, Klinikum Worms', 'Heppenheim', 'Wiesoppenheim',\n",
       "       'Pfeddersheim', 'Pfeddersheim, Paternusschule', 'Leiselheim',\n",
       "       'Leiselheim, Pfrimmtal RS Plus', 'Neuhsn. - Klinikum',\n",
       "       'Hochhm. - Klinikum', 'Neustadt', 'Neustadt, Hauptbahnhof',\n",
       "       'Edenkoben', 'Edenkoben, Schafplatz', 'Edenkoben, Betriebshof',\n",
       "       'Edenkoben, Bahnhof', 'Edenkoben, Abzw. Ludwigshöhe',\n",
       "       'Edenkoben, Berufsschule', 'Edenkoben, Katholische Kirche',\n",
       "       'Speyer', 'Speyer Hbf', 'Heddesheim-Hirschberg, Bahnhof (DB)',\n",
       "       'Hohensachsen', 'Hohensachsen, Anetplatz',\n",
       "       'Theodor-Heuss-Str. - Bahnhof', 'Bahnhof', 'D.-Bonhoeffer-Schule',\n",
       "       'Laudenbach, Südring 1', 'HD, Bunsengymnasium',\n",
       "       'Kirchheim, Rathaus', 'Sandhausen, Schulzentrum Ost',\n",
       "       'Leimen, Kurpfalz-Centrum', 'Rohrbach, Süd', 'Neckargemünd, Bf',\n",
       "       'Eiterbach', 'Eiterbach, Ortsende', 'Heiligkreuzsteinach',\n",
       "       'Hilsenhain, Dell', 'Lampenhain, Rathaus', 'Langenzell', 'Gaiberg',\n",
       "       'Grein, Ort', 'Hettigenbeuern', 'Buchen Bf', 'Masseldorn',\n",
       "       'Mosbach', 'Reinheim, Bf', 'Reichelsheim',\n",
       "       'Reichelsheim, Schwimmbad', 'Reichelsheim, GS', 'Darmstadt',\n",
       "       'Darmstadt, Luisenplatz', 'Reichelsheim, Volksbank',\n",
       "       'Lorsch, Bahnhof', 'Bensheim, Bf', 'Lorsch', 'Bensheim, Bahnhof',\n",
       "       'Bensheim', 'Lampertheim', 'Lampertheim, Bahnhof',\n",
       "       'Viernheim, Heppenheimer Straße', 'Viernheim, Bahnhof', 'Alsbach',\n",
       "       'Alsbach, Am Hinkelstein', 'Gronau', 'Grünstadt',\n",
       "       'Grünstadt, Bahnhof', 'Walldürn Auerberg',\n",
       "       'Altheim, Pfarrer-Hauser-Platz', 'Ranschbach',\n",
       "       'Ranschbach, Ortsmitte', 'Ramberg', 'Ramberg, Nord', 'Annweiler',\n",
       "       'Annweiler, Schulzentrum', 'Annweiler, In den Bruchwiesen',\n",
       "       'Klingenmünster', 'Klingenmünster, Rathaus', 'Göcklingen',\n",
       "       'Göcklingen Rathaus', 'Mörzheim', 'Mörzheim, Linde',\n",
       "       'Westbf - Mörzheim', 'Mörzheim - LD Hbf', 'Landau Hauptbahnhof',\n",
       "       'Bornheim - Mörlheim', 'Mörlheim - LD Hbf', 'Westring - LD West',\n",
       "       'LD West - Hauptbahnhof', 'Südring - LD West', 'Queichheim',\n",
       "       'Zentrum - Deutsches Tor', 'Deutsches Tor - Hbf',\n",
       "       'Deutsches Tor - Zentrum', 'Zentrum - Hauptbahnhof',\n",
       "       'Q. Vauban - Klinikum', 'Klinikum - Hauptbahnhof',\n",
       "       'Klinikum - Q. Vauban', 'Q. Vauban - Hauptbahnhof', 'Horst',\n",
       "       'Berufsschule', 'Mörlheim', 'Mörlheim, Ort',\n",
       "       'Queichheim, Paulusstift', 'Dörrenberg', 'Nordring', 'Walsheim',\n",
       "       'Essingen', 'Essingen, Trifelsstraße', 'Venningen',\n",
       "       'Venningen, Kreisel', 'Bad Bergzabern', 'Bad Bergzabern, Bahnhof',\n",
       "       'Bad Bergzabern, Schulzentrum', 'Germersheim',\n",
       "       'Germersheim Bahnhof', 'Stadthalle', 'Westheim',\n",
       "       'Kleinfischlingen', 'Römerweg', 'Germersheim Römerweg',\n",
       "       'Germersheim, Römerweg', 'Hauptbahnhof', 'Arena', 'Gonsenheim',\n",
       "       'Finthen/Römerquelle//ü. Finthen/Layenhof', 'Finthen',\n",
       "       'Friedrich-/von-Pfeiffer-Weg', 'Hechtsheim', 'WI-Erbenheim',\n",
       "       'Erbenheim', 'Wiesbaden', 'Nordfriedhof', 'Wiesbaden Hbf',\n",
       "       'Wiesbaden Hauptbahnhof', 'Domäne Mechtildshausen/ü. Erbenheim',\n",
       "       'Domäne Mechtildshausen', 'Mainz-Neustadt/Bismarckplatz',\n",
       "       'Bitte/nicht einsteigen', 'Mainz Altstadt/Schusterstraße',\n",
       "       'Altstadt', 'MZ-Kastel', 'Kastel',\n",
       "       'Kostheim/Winterstraße//ü. Peter-Sander-Str.', 'Kostheim',\n",
       "       'Kostheim/Winterstraße//ü. Brunhildenstraße', 'Fasaneriestraße',\n",
       "       'Tierpark Fasanerie', 'Oberstadt', 'Zollhafen',\n",
       "       'Neustadt/Bismarckpl.//Anschluss Ri. Finthen',\n",
       "       'Gonsenheim/Elbestr.//Busanschluss', 'Marienborn',\n",
       "       'Hochschule Mainz', 'Bretzenheim', 'Gustavsburg',\n",
       "       'Mainz//Münchfeld', 'Lerchenberg',\n",
       "       'Klein-Winternheim/Bf.//ü. Ober-Olm', 'Klein-Winternheim',\n",
       "       'MZ-Lerchenberg', 'Mainz Altstadt/Landtag',\n",
       "       'Ginsheim/Fr.-Ebert-Pl.//ü. Bischofsheim', 'Ginsheim',\n",
       "       'MZ-Finthen', 'Wackernheim/Rathauspl.//ü. Finthen/Layenhof',\n",
       "       'Wackernheim', 'Ingelheim/Bahnhof//ü. Wackernheim', 'Ingelheim',\n",
       "       'MZ-Altstadt', 'Bischofsheim', 'Kisselberg', 'Mainz/Kisselberg',\n",
       "       'MZ Hauptbahnhof', 'Mainz/Arena//ü.Mainz Hbf', 'Betriebsfahrt',\n",
       "       'Platz d. Dt. Einheit', 'Gonsenheim/Wildpark//ü. Münchfeld',\n",
       "       'MZ-Gonsenheim', 'Münchfeld', 'Mainz-Kastel/Brückenkopf',\n",
       "       'Ginsheim/Neckarstr.//ü. Wormser Straße', 'MZ-Mombach', 'Mombach',\n",
       "       'Mainz Hbf/ü. Schusters.-Hindenbpl.', 'Mombacher Tor', 'Weisenau',\n",
       "       'Neustadt/Hindenburgpl.//ü.Goetheplatz',\n",
       "       'Gonsenheim/Wildpark//ü. Mombach', 'IGS Bretzenheim', 'Laubenheim',\n",
       "       'Hartenberg', 'Hauptbahnhof West',\n",
       "       'Zornh./Hahnheimer Str.//ü. Hechtsh./Gewerbegeb.', 'Zornheim',\n",
       "       'Nieder-Olm/Schulzentrum//ü. Hechtsh./Gewerbegeb.',\n",
       "       'Nieder-Olm/Schulzentr.//ü. Weinbergring', 'Nieder-Olm',\n",
       "       'Ebersheim/Zornheimer Straße', 'MZ-Hechtsheim',\n",
       "       'Hechtsheim/Mühldreieck//ü. Gewerbegebiet',\n",
       "       'Mainz Altstadt/Brückenplatz',\n",
       "       'Altstadt/Brückenplatz//ü.Hechtsh./Gewerbegeb.',\n",
       "       'Zornheim/Hahnheimer Str./Hält nicht überall',\n",
       "       'Hechtsheim/Barcelona-Allee // Hält nicht überall',\n",
       "       'Neustadt/Goethepl.//Hält nicht überall',\n",
       "       'Hochheim/Altenwohnheim//ü.Dresdener Ring', 'Hochheim',\n",
       "       'Hochheim/Altenwohnheim//ü.Wiesbadener Str.',\n",
       "       'Budenheim/Bahnhof ü. Gonsenheim', 'Budenheim',\n",
       "       'MZ-Hechtsh./Mühldreieck//ü.Bodenheim/Bahnhof',\n",
       "       'MZ-Hechtsh./Mühldreieck / ü. Lörzweiler',\n",
       "       'Bodenheim/Dolles//ü.Lörzweiler', 'Bodenheim',\n",
       "       'Bodenheim/Lange Ruthe//ü.Lörzweiler',\n",
       "       'Bodenheim/Lange Ruthe//ü.Bodenheim/Bahnhof',\n",
       "       'Finthen/Poststr.//ü. Lerchenberg',\n",
       "       'Finthen/Waldthausenstr//.ü. Lerchenberg',\n",
       "       'Finthen/Waldthausenstr.//ü. Poststraße',\n",
       "       'Lerchenb./Hindemithstr.//ü. Bretzenheim', 'Wi-Biebrich',\n",
       "       'Biebrich//Äppelallee-Center',\n",
       "       'Hechtsh./Mühldreieck//ü. Hochschule Mainz', 'MZ-Bretzenheim',\n",
       "       'Laubenh./Rüsselsh.Al.//ü.Friedrich-Ebert.Str.',\n",
       "       'Weisenau/Fr.-Ebert-Str.//ü.Frankenhöhe', 'Marienhaus Klinikum',\n",
       "       'Laubenh./Ginsheimer Str.//ü. Kurm.-Kas.-Frankenh.',\n",
       "       'Laubenh./Ginsheimer Str.//ü. Frankenhöhe',\n",
       "       'Mombach/Zwerchallee//ü.Münchfeld-Gonsenh.',\n",
       "       'Mombach/Zwerchallee//ü.Gonsenheim',\n",
       "       'Neustadt/Bismarckpl.//ü. Münchfeld - Mombach',\n",
       "       'Neustadt/Bismarckpl.//ü. Gonsenheim',\n",
       "       'Laubenh./Rüsselsh.Allee//ü.Frankenhöhe',\n",
       "       'Oberstadt/Jägerstr.//ohne Zwischenhalt',\n",
       "       'IGS Bretzenheim//ü.An der Bruchspitze',\n",
       "       'IGS Bretzenheim/ü. Friedrich-Ebert-Str.',\n",
       "       'MZ-Altstadt/Brückenplatz // ü. MZ-Gonsenheim',\n",
       "       'MZ-Altstadt/Brückenpl. // ü.Am Rehkampf', 'Uhlerborn',\n",
       "       'Ingelheim/Bf.//ü.Münchfeld-Finthen',\n",
       "       'Heidenfahrt/Kirchenweg//ü.Uhlerborn', 'Heidenfahrt', 'Heidesheim',\n",
       "       'MZ-Laubenheim/Riedweg//ü.An der Heßlerquelle', 'MZ-Laubenheim',\n",
       "       'MZ-Laubenheim/Riedweg//ü.Budenheim', 'MZ-Weisenau',\n",
       "       'Ingelheim/IGS', 'Budenh./Waldschwimmbad//ü.An der Heßlerquelle',\n",
       "       'Budenh./Waldschwimmbad//ü.Budenheim/Kirche', 'WI-Schierstein',\n",
       "       'Schierstein/Oderstraße',\n",
       "       'Schierstein/Oderstr.//ü. Friedr.-Bergius-Str.',\n",
       "       'WI-Schierst./Oderstr.//ü. Friedr.-Bergius-Str.',\n",
       "       'Amöneburg/Mudra-Kaserne//Anschluss nach Mainz',\n",
       "       'Laubenh./Rüsselsh. Allee//ü. Wormser Straße',\n",
       "       'Marienborn/Bahnhof//ü. Bretzenheim',\n",
       "       'Bretzenheim/Südring//ü. Albert-Stohr-Straße',\n",
       "       'Ginsheim/Fr.-Ebert-Pl.//ü.Kostheim/Uthmannstr.',\n",
       "       'Wackernheim/Rathauspl.//ü. Münchfeld',\n",
       "       'MZ-Finthen/Th-Heuss-Str.//ü. MZ Münchfeld',\n",
       "       'Finthen/Th.-Heuss-Str.//ü. Münchfeld',\n",
       "       'Fr.-v.-Pfeiffer-Weg//ü. Münchfeld',\n",
       "       'Finthen/Altrium Hotel//ü.Münchfeld',\n",
       "       'MZ-Finthen/Altrium Hotel//ü.Münchfeld',\n",
       "       'Hechtsheim/Frankenhöhe//ü. Hechtsheimer Str.',\n",
       "       'Lerchenb./Hindemithstr.//ü. Hartenberg - Drais',\n",
       "       'Ober-Olm/Forsthaus//ü.Hartenb.-Lerchenb.',\n",
       "       'Ober-Olm/Forsthaus//ü. Lerchenberg',\n",
       "       'Ober-Olm/Forsthaus//ü. Kl.-Winternheim', 'Ober-Olm',\n",
       "       'Stadtbahnhof', 'Sponsheim', 'Ingelheim IGS/MGH', 'Ockenheim',\n",
       "       'Mainzer Str./St. Martin', 'Kempten-Büdeshm.',\n",
       "       'Büdesheim - Bingen Stadtbf', 'Bingen Stadtbf',\n",
       "       'Büdeshm., TH Campus', 'Büdeshm.-Kempten',\n",
       "       'Kempten - Bingen Stadtbf', 'Hildegardishaus',\n",
       "       'Winzler Tor - Erlenteich', 'Erlenteich - Exerzierplatz',\n",
       "       'Exerzierplatz', 'Kreisverwaltung - Forsthaus',\n",
       "       'Forsthaus - Exerzierplatz', 'Kreisverwaltung - Sportpark',\n",
       "       'Sportpark - Exerzierplatz', 'Schachenstr. - Alte Winzler Str.',\n",
       "       'Alte Winzler Str. - Exerzierplatz',\n",
       "       'Alte Winzler Str. - Schachenstr.', 'Schachenstr. - Exerzierplatz',\n",
       "       'Wormser Straße', 'Kirchbergstraße - Winzler Tor',\n",
       "       'Winzler Tor - Exerzierplatz', 'Wasserturm - Forsthaus',\n",
       "       'Industriestr. Mitte', 'Kusel, Bahnhof',\n",
       "       'Krankenhaus - Kusel, Bahnhof', 'Burg Lichtenberg - Kusel Bahnhof',\n",
       "       'Haschbach, Remigiusberg'], dtype=object)"
      ]
     },
     "execution_count": 15,
     "metadata": {},
     "output_type": "execute_result"
    }
   ],
   "source": [
    "df_stop_times['stop_headsign'].unique()"
   ]
  },
  {
   "cell_type": "code",
   "execution_count": 28,
   "id": "9d86f452-8814-44e1-9f42-43847675a0fe",
   "metadata": {},
   "outputs": [
    {
     "data": {
      "text/html": [
       "<div>\n",
       "<style scoped>\n",
       "    .dataframe tbody tr th:only-of-type {\n",
       "        vertical-align: middle;\n",
       "    }\n",
       "\n",
       "    .dataframe tbody tr th {\n",
       "        vertical-align: top;\n",
       "    }\n",
       "\n",
       "    .dataframe thead th {\n",
       "        text-align: right;\n",
       "    }\n",
       "</style>\n",
       "<table border=\"1\" class=\"dataframe\">\n",
       "  <thead>\n",
       "    <tr style=\"text-align: right;\">\n",
       "      <th></th>\n",
       "      <th>trip_id</th>\n",
       "      <th>arrival_time</th>\n",
       "      <th>departure_time</th>\n",
       "      <th>stop_id</th>\n",
       "      <th>stop_sequence</th>\n",
       "      <th>stop_headsign</th>\n",
       "      <th>pickup_type</th>\n",
       "      <th>drop_off_type</th>\n",
       "      <th>shape_dist_traveled</th>\n",
       "    </tr>\n",
       "  </thead>\n",
       "  <tbody>\n",
       "    <tr>\n",
       "      <th>566077</th>\n",
       "      <td>vrn-32-591-1-1-4-H-0-Special#92-37-20</td>\n",
       "      <td>05:32:00</td>\n",
       "      <td>05:32:00</td>\n",
       "      <td>de:07313:8304:5:4</td>\n",
       "      <td>1</td>\n",
       "      <td>Speyer</td>\n",
       "      <td>0</td>\n",
       "      <td>0</td>\n",
       "      <td>NaN</td>\n",
       "    </tr>\n",
       "    <tr>\n",
       "      <th>566101</th>\n",
       "      <td>vrn-32-591-1-1-4-H-0-Special#177-8-21</td>\n",
       "      <td>06:27:00</td>\n",
       "      <td>06:27:00</td>\n",
       "      <td>de:07313:8304:5:4</td>\n",
       "      <td>1</td>\n",
       "      <td>Speyer</td>\n",
       "      <td>0</td>\n",
       "      <td>0</td>\n",
       "      <td>NaN</td>\n",
       "    </tr>\n",
       "    <tr>\n",
       "      <th>566125</th>\n",
       "      <td>vrn-32-591-1-1-4-H-0-Special#177-9-22</td>\n",
       "      <td>07:27:00</td>\n",
       "      <td>07:27:00</td>\n",
       "      <td>de:07313:8304:5:4</td>\n",
       "      <td>1</td>\n",
       "      <td>Speyer</td>\n",
       "      <td>0</td>\n",
       "      <td>0</td>\n",
       "      <td>NaN</td>\n",
       "    </tr>\n",
       "    <tr>\n",
       "      <th>566149</th>\n",
       "      <td>vrn-32-591-1-1-4-H-0-Special#702-5060001-23</td>\n",
       "      <td>08:27:00</td>\n",
       "      <td>08:27:00</td>\n",
       "      <td>de:07313:8304:5:4</td>\n",
       "      <td>1</td>\n",
       "      <td>Speyer</td>\n",
       "      <td>0</td>\n",
       "      <td>0</td>\n",
       "      <td>NaN</td>\n",
       "    </tr>\n",
       "    <tr>\n",
       "      <th>566173</th>\n",
       "      <td>vrn-32-591-1-1-4-H-0-Special#177-10-24</td>\n",
       "      <td>09:27:00</td>\n",
       "      <td>09:27:00</td>\n",
       "      <td>de:07313:8304:5:4</td>\n",
       "      <td>1</td>\n",
       "      <td>Speyer</td>\n",
       "      <td>0</td>\n",
       "      <td>0</td>\n",
       "      <td>NaN</td>\n",
       "    </tr>\n",
       "    <tr>\n",
       "      <th>566197</th>\n",
       "      <td>vrn-32-591-1-1-4-H-0-Special#147-3-25</td>\n",
       "      <td>10:27:00</td>\n",
       "      <td>10:27:00</td>\n",
       "      <td>de:07313:8304:5:4</td>\n",
       "      <td>1</td>\n",
       "      <td>Speyer</td>\n",
       "      <td>0</td>\n",
       "      <td>0</td>\n",
       "      <td>NaN</td>\n",
       "    </tr>\n",
       "    <tr>\n",
       "      <th>566221</th>\n",
       "      <td>vrn-32-591-1-1-4-H-0-Special#177-11-26</td>\n",
       "      <td>11:27:00</td>\n",
       "      <td>11:27:00</td>\n",
       "      <td>de:07313:8304:5:4</td>\n",
       "      <td>1</td>\n",
       "      <td>Speyer</td>\n",
       "      <td>0</td>\n",
       "      <td>0</td>\n",
       "      <td>NaN</td>\n",
       "    </tr>\n",
       "    <tr>\n",
       "      <th>566245</th>\n",
       "      <td>vrn-32-591-1-1-4-H-0-Special#147-4-27</td>\n",
       "      <td>12:27:00</td>\n",
       "      <td>12:27:00</td>\n",
       "      <td>de:07313:8304:5:4</td>\n",
       "      <td>1</td>\n",
       "      <td>Speyer</td>\n",
       "      <td>0</td>\n",
       "      <td>0</td>\n",
       "      <td>NaN</td>\n",
       "    </tr>\n",
       "    <tr>\n",
       "      <th>566269</th>\n",
       "      <td>vrn-32-591-1-1-4-H-0-Special#177-12-28</td>\n",
       "      <td>13:27:00</td>\n",
       "      <td>13:27:00</td>\n",
       "      <td>de:07313:8304:5:4</td>\n",
       "      <td>1</td>\n",
       "      <td>Speyer</td>\n",
       "      <td>0</td>\n",
       "      <td>0</td>\n",
       "      <td>NaN</td>\n",
       "    </tr>\n",
       "    <tr>\n",
       "      <th>566293</th>\n",
       "      <td>vrn-32-591-1-1-4-H-0-Special#147-5-29</td>\n",
       "      <td>14:27:00</td>\n",
       "      <td>14:27:00</td>\n",
       "      <td>de:07313:8304:5:4</td>\n",
       "      <td>1</td>\n",
       "      <td>Speyer</td>\n",
       "      <td>0</td>\n",
       "      <td>0</td>\n",
       "      <td>NaN</td>\n",
       "    </tr>\n",
       "    <tr>\n",
       "      <th>566317</th>\n",
       "      <td>vrn-32-591-1-1-4-H-0-Special#177-13-30</td>\n",
       "      <td>15:27:00</td>\n",
       "      <td>15:27:00</td>\n",
       "      <td>de:07313:8304:5:4</td>\n",
       "      <td>1</td>\n",
       "      <td>Speyer</td>\n",
       "      <td>0</td>\n",
       "      <td>0</td>\n",
       "      <td>NaN</td>\n",
       "    </tr>\n",
       "    <tr>\n",
       "      <th>566341</th>\n",
       "      <td>vrn-32-591-1-1-4-H-0-Special#147-6-31</td>\n",
       "      <td>16:27:00</td>\n",
       "      <td>16:27:00</td>\n",
       "      <td>de:07313:8304:5:4</td>\n",
       "      <td>1</td>\n",
       "      <td>Speyer</td>\n",
       "      <td>0</td>\n",
       "      <td>0</td>\n",
       "      <td>NaN</td>\n",
       "    </tr>\n",
       "    <tr>\n",
       "      <th>566365</th>\n",
       "      <td>vrn-32-591-1-1-4-H-0-Special#610-14-32</td>\n",
       "      <td>17:27:00</td>\n",
       "      <td>17:27:00</td>\n",
       "      <td>de:07313:8304:5:4</td>\n",
       "      <td>1</td>\n",
       "      <td>Speyer</td>\n",
       "      <td>0</td>\n",
       "      <td>0</td>\n",
       "      <td>NaN</td>\n",
       "    </tr>\n",
       "    <tr>\n",
       "      <th>566389</th>\n",
       "      <td>vrn-32-591-1-1-4-H-0-Special#493-7-33</td>\n",
       "      <td>18:27:00</td>\n",
       "      <td>18:27:00</td>\n",
       "      <td>de:07313:8304:5:4</td>\n",
       "      <td>1</td>\n",
       "      <td>Speyer</td>\n",
       "      <td>0</td>\n",
       "      <td>0</td>\n",
       "      <td>NaN</td>\n",
       "    </tr>\n",
       "    <tr>\n",
       "      <th>566413</th>\n",
       "      <td>vrn-32-591-1-1-4-H-0-Special#610-15-34</td>\n",
       "      <td>19:27:00</td>\n",
       "      <td>19:27:00</td>\n",
       "      <td>de:07313:8304:5:4</td>\n",
       "      <td>1</td>\n",
       "      <td>Speyer</td>\n",
       "      <td>0</td>\n",
       "      <td>0</td>\n",
       "      <td>NaN</td>\n",
       "    </tr>\n",
       "    <tr>\n",
       "      <th>566437</th>\n",
       "      <td>vrn-32-591-1-1-4-H-0-Special#493-1-35</td>\n",
       "      <td>20:27:00</td>\n",
       "      <td>20:27:00</td>\n",
       "      <td>de:07313:8304:5:4</td>\n",
       "      <td>1</td>\n",
       "      <td>Speyer</td>\n",
       "      <td>0</td>\n",
       "      <td>0</td>\n",
       "      <td>NaN</td>\n",
       "    </tr>\n",
       "    <tr>\n",
       "      <th>566461</th>\n",
       "      <td>vrn-32-591-1-1-4-H-0-Special#610-16-36</td>\n",
       "      <td>21:27:00</td>\n",
       "      <td>21:27:00</td>\n",
       "      <td>de:07313:8304:5:4</td>\n",
       "      <td>1</td>\n",
       "      <td>Speyer</td>\n",
       "      <td>0</td>\n",
       "      <td>0</td>\n",
       "      <td>NaN</td>\n",
       "    </tr>\n",
       "    <tr>\n",
       "      <th>566485</th>\n",
       "      <td>vrn-32-591-1-1-4-H-0-Special#493-2-37</td>\n",
       "      <td>22:33:00</td>\n",
       "      <td>22:33:00</td>\n",
       "      <td>de:07313:8304:5:4</td>\n",
       "      <td>1</td>\n",
       "      <td>Speyer</td>\n",
       "      <td>0</td>\n",
       "      <td>0</td>\n",
       "      <td>NaN</td>\n",
       "    </tr>\n",
       "    <tr>\n",
       "      <th>566509</th>\n",
       "      <td>vrn-32-591-1-1-4-H-0-Special#519-17-38</td>\n",
       "      <td>24:05:00</td>\n",
       "      <td>24:05:00</td>\n",
       "      <td>de:07313:8304:5:4</td>\n",
       "      <td>1</td>\n",
       "      <td>Speyer</td>\n",
       "      <td>0</td>\n",
       "      <td>0</td>\n",
       "      <td>NaN</td>\n",
       "    </tr>\n",
       "  </tbody>\n",
       "</table>\n",
       "</div>"
      ],
      "text/plain": [
       "                                            trip_id arrival_time  \\\n",
       "566077        vrn-32-591-1-1-4-H-0-Special#92-37-20     05:32:00   \n",
       "566101        vrn-32-591-1-1-4-H-0-Special#177-8-21     06:27:00   \n",
       "566125        vrn-32-591-1-1-4-H-0-Special#177-9-22     07:27:00   \n",
       "566149  vrn-32-591-1-1-4-H-0-Special#702-5060001-23     08:27:00   \n",
       "566173       vrn-32-591-1-1-4-H-0-Special#177-10-24     09:27:00   \n",
       "566197        vrn-32-591-1-1-4-H-0-Special#147-3-25     10:27:00   \n",
       "566221       vrn-32-591-1-1-4-H-0-Special#177-11-26     11:27:00   \n",
       "566245        vrn-32-591-1-1-4-H-0-Special#147-4-27     12:27:00   \n",
       "566269       vrn-32-591-1-1-4-H-0-Special#177-12-28     13:27:00   \n",
       "566293        vrn-32-591-1-1-4-H-0-Special#147-5-29     14:27:00   \n",
       "566317       vrn-32-591-1-1-4-H-0-Special#177-13-30     15:27:00   \n",
       "566341        vrn-32-591-1-1-4-H-0-Special#147-6-31     16:27:00   \n",
       "566365       vrn-32-591-1-1-4-H-0-Special#610-14-32     17:27:00   \n",
       "566389        vrn-32-591-1-1-4-H-0-Special#493-7-33     18:27:00   \n",
       "566413       vrn-32-591-1-1-4-H-0-Special#610-15-34     19:27:00   \n",
       "566437        vrn-32-591-1-1-4-H-0-Special#493-1-35     20:27:00   \n",
       "566461       vrn-32-591-1-1-4-H-0-Special#610-16-36     21:27:00   \n",
       "566485        vrn-32-591-1-1-4-H-0-Special#493-2-37     22:33:00   \n",
       "566509       vrn-32-591-1-1-4-H-0-Special#519-17-38     24:05:00   \n",
       "\n",
       "       departure_time            stop_id  stop_sequence stop_headsign  \\\n",
       "566077       05:32:00  de:07313:8304:5:4              1        Speyer   \n",
       "566101       06:27:00  de:07313:8304:5:4              1        Speyer   \n",
       "566125       07:27:00  de:07313:8304:5:4              1        Speyer   \n",
       "566149       08:27:00  de:07313:8304:5:4              1        Speyer   \n",
       "566173       09:27:00  de:07313:8304:5:4              1        Speyer   \n",
       "566197       10:27:00  de:07313:8304:5:4              1        Speyer   \n",
       "566221       11:27:00  de:07313:8304:5:4              1        Speyer   \n",
       "566245       12:27:00  de:07313:8304:5:4              1        Speyer   \n",
       "566269       13:27:00  de:07313:8304:5:4              1        Speyer   \n",
       "566293       14:27:00  de:07313:8304:5:4              1        Speyer   \n",
       "566317       15:27:00  de:07313:8304:5:4              1        Speyer   \n",
       "566341       16:27:00  de:07313:8304:5:4              1        Speyer   \n",
       "566365       17:27:00  de:07313:8304:5:4              1        Speyer   \n",
       "566389       18:27:00  de:07313:8304:5:4              1        Speyer   \n",
       "566413       19:27:00  de:07313:8304:5:4              1        Speyer   \n",
       "566437       20:27:00  de:07313:8304:5:4              1        Speyer   \n",
       "566461       21:27:00  de:07313:8304:5:4              1        Speyer   \n",
       "566485       22:33:00  de:07313:8304:5:4              1        Speyer   \n",
       "566509       24:05:00  de:07313:8304:5:4              1        Speyer   \n",
       "\n",
       "        pickup_type  drop_off_type  shape_dist_traveled  \n",
       "566077            0              0                  NaN  \n",
       "566101            0              0                  NaN  \n",
       "566125            0              0                  NaN  \n",
       "566149            0              0                  NaN  \n",
       "566173            0              0                  NaN  \n",
       "566197            0              0                  NaN  \n",
       "566221            0              0                  NaN  \n",
       "566245            0              0                  NaN  \n",
       "566269            0              0                  NaN  \n",
       "566293            0              0                  NaN  \n",
       "566317            0              0                  NaN  \n",
       "566341            0              0                  NaN  \n",
       "566365            0              0                  NaN  \n",
       "566389            0              0                  NaN  \n",
       "566413            0              0                  NaN  \n",
       "566437            0              0                  NaN  \n",
       "566461            0              0                  NaN  \n",
       "566485            0              0                  NaN  \n",
       "566509            0              0                  NaN  "
      ]
     },
     "execution_count": 28,
     "metadata": {},
     "output_type": "execute_result"
    }
   ],
   "source": [
    "df_stop_times[df_stop_times['stop_headsign']=='Speyer']"
   ]
  },
  {
   "cell_type": "code",
   "execution_count": 22,
   "id": "db2a91b2-32b0-477c-a749-c071b5a430e2",
   "metadata": {},
   "outputs": [
    {
     "data": {
      "text/plain": [
       "array([0, 1])"
      ]
     },
     "execution_count": 22,
     "metadata": {},
     "output_type": "execute_result"
    }
   ],
   "source": [
    "df_stop_times['pickup_type'].unique()"
   ]
  },
  {
   "cell_type": "code",
   "execution_count": 23,
   "id": "74ec9df0-4a7a-44d9-b256-f2a38c54463d",
   "metadata": {},
   "outputs": [
    {
     "data": {
      "text/plain": [
       "array([0, 1])"
      ]
     },
     "execution_count": 23,
     "metadata": {},
     "output_type": "execute_result"
    }
   ],
   "source": [
    "df_stop_times['drop_off_type'].unique()"
   ]
  },
  {
   "cell_type": "code",
   "execution_count": 24,
   "id": "d61dd3ae-0104-44bb-bfff-6b4dc96d6a95",
   "metadata": {},
   "outputs": [
    {
     "data": {
      "text/html": [
       "<div>\n",
       "<style scoped>\n",
       "    .dataframe tbody tr th:only-of-type {\n",
       "        vertical-align: middle;\n",
       "    }\n",
       "\n",
       "    .dataframe tbody tr th {\n",
       "        vertical-align: top;\n",
       "    }\n",
       "\n",
       "    .dataframe thead th {\n",
       "        text-align: right;\n",
       "    }\n",
       "</style>\n",
       "<table border=\"1\" class=\"dataframe\">\n",
       "  <thead>\n",
       "    <tr style=\"text-align: right;\">\n",
       "      <th></th>\n",
       "      <th>trip_id</th>\n",
       "      <th>arrival_time</th>\n",
       "      <th>departure_time</th>\n",
       "      <th>stop_id</th>\n",
       "      <th>stop_sequence</th>\n",
       "      <th>stop_headsign</th>\n",
       "      <th>pickup_type</th>\n",
       "      <th>drop_off_type</th>\n",
       "      <th>shape_dist_traveled</th>\n",
       "    </tr>\n",
       "  </thead>\n",
       "  <tbody>\n",
       "    <tr>\n",
       "      <th>266137</th>\n",
       "      <td>vrn-18-172-1-1-2-R-0-Special#292-6-1</td>\n",
       "      <td>03:46:00</td>\n",
       "      <td>03:46:00</td>\n",
       "      <td>de:07314:2203:1:Bus</td>\n",
       "      <td>1</td>\n",
       "      <td>NaN</td>\n",
       "      <td>0</td>\n",
       "      <td>1</td>\n",
       "      <td>NaN</td>\n",
       "    </tr>\n",
       "    <tr>\n",
       "      <th>266138</th>\n",
       "      <td>vrn-18-172-1-1-2-R-0-Special#292-6-1</td>\n",
       "      <td>03:47:00</td>\n",
       "      <td>03:47:00</td>\n",
       "      <td>de:07314:5152</td>\n",
       "      <td>2</td>\n",
       "      <td>NaN</td>\n",
       "      <td>0</td>\n",
       "      <td>1</td>\n",
       "      <td>NaN</td>\n",
       "    </tr>\n",
       "    <tr>\n",
       "      <th>266139</th>\n",
       "      <td>vrn-18-172-1-1-2-R-0-Special#292-6-1</td>\n",
       "      <td>03:48:00</td>\n",
       "      <td>03:48:00</td>\n",
       "      <td>de:07314:2202:0:BuRiO</td>\n",
       "      <td>3</td>\n",
       "      <td>NaN</td>\n",
       "      <td>0</td>\n",
       "      <td>1</td>\n",
       "      <td>NaN</td>\n",
       "    </tr>\n",
       "    <tr>\n",
       "      <th>266140</th>\n",
       "      <td>vrn-18-172-1-1-2-R-0-Special#292-6-1</td>\n",
       "      <td>03:48:00</td>\n",
       "      <td>03:48:00</td>\n",
       "      <td>de:07314:5157</td>\n",
       "      <td>4</td>\n",
       "      <td>NaN</td>\n",
       "      <td>0</td>\n",
       "      <td>1</td>\n",
       "      <td>NaN</td>\n",
       "    </tr>\n",
       "    <tr>\n",
       "      <th>266141</th>\n",
       "      <td>vrn-18-172-1-1-2-R-0-Special#292-6-1</td>\n",
       "      <td>03:49:00</td>\n",
       "      <td>03:49:00</td>\n",
       "      <td>de:07314:2206</td>\n",
       "      <td>5</td>\n",
       "      <td>NaN</td>\n",
       "      <td>0</td>\n",
       "      <td>1</td>\n",
       "      <td>NaN</td>\n",
       "    </tr>\n",
       "    <tr>\n",
       "      <th>...</th>\n",
       "      <td>...</td>\n",
       "      <td>...</td>\n",
       "      <td>...</td>\n",
       "      <td>...</td>\n",
       "      <td>...</td>\n",
       "      <td>...</td>\n",
       "      <td>...</td>\n",
       "      <td>...</td>\n",
       "      <td>...</td>\n",
       "    </tr>\n",
       "    <tr>\n",
       "      <th>3161811</th>\n",
       "      <td>vrn-88-360-1-1-1-R-0-Special#92-23-38</td>\n",
       "      <td>17:03:00</td>\n",
       "      <td>17:03:00</td>\n",
       "      <td>de:07134:35021:2:Bus</td>\n",
       "      <td>2</td>\n",
       "      <td>NaN</td>\n",
       "      <td>0</td>\n",
       "      <td>1</td>\n",
       "      <td>NaN</td>\n",
       "    </tr>\n",
       "    <tr>\n",
       "      <th>3161818</th>\n",
       "      <td>vrn-88-360-1-1-1-R-0-Special#610-24-39</td>\n",
       "      <td>18:03:00</td>\n",
       "      <td>18:03:00</td>\n",
       "      <td>de:07134:35021:2:Bus</td>\n",
       "      <td>2</td>\n",
       "      <td>NaN</td>\n",
       "      <td>0</td>\n",
       "      <td>1</td>\n",
       "      <td>NaN</td>\n",
       "    </tr>\n",
       "    <tr>\n",
       "      <th>3161825</th>\n",
       "      <td>vrn-88-360-1-1-1-R-0-Special#92-25-40</td>\n",
       "      <td>19:03:00</td>\n",
       "      <td>19:03:00</td>\n",
       "      <td>de:07134:35021:2:Bus</td>\n",
       "      <td>2</td>\n",
       "      <td>NaN</td>\n",
       "      <td>0</td>\n",
       "      <td>1</td>\n",
       "      <td>NaN</td>\n",
       "    </tr>\n",
       "    <tr>\n",
       "      <th>3161832</th>\n",
       "      <td>vrn-88-360-1-1-1-R-0-Special#92-26-41</td>\n",
       "      <td>20:03:00</td>\n",
       "      <td>20:03:00</td>\n",
       "      <td>de:07134:35021:2:Bus</td>\n",
       "      <td>2</td>\n",
       "      <td>NaN</td>\n",
       "      <td>0</td>\n",
       "      <td>1</td>\n",
       "      <td>NaN</td>\n",
       "    </tr>\n",
       "    <tr>\n",
       "      <th>3161839</th>\n",
       "      <td>vrn-88-360-1-1-1-R-0-Special#92-157-42</td>\n",
       "      <td>05:53:00</td>\n",
       "      <td>05:53:00</td>\n",
       "      <td>de:07134:35021:2:Bus</td>\n",
       "      <td>2</td>\n",
       "      <td>NaN</td>\n",
       "      <td>0</td>\n",
       "      <td>1</td>\n",
       "      <td>NaN</td>\n",
       "    </tr>\n",
       "  </tbody>\n",
       "</table>\n",
       "<p>32330 rows × 9 columns</p>\n",
       "</div>"
      ],
      "text/plain": [
       "                                        trip_id arrival_time departure_time  \\\n",
       "266137     vrn-18-172-1-1-2-R-0-Special#292-6-1     03:46:00       03:46:00   \n",
       "266138     vrn-18-172-1-1-2-R-0-Special#292-6-1     03:47:00       03:47:00   \n",
       "266139     vrn-18-172-1-1-2-R-0-Special#292-6-1     03:48:00       03:48:00   \n",
       "266140     vrn-18-172-1-1-2-R-0-Special#292-6-1     03:48:00       03:48:00   \n",
       "266141     vrn-18-172-1-1-2-R-0-Special#292-6-1     03:49:00       03:49:00   \n",
       "...                                         ...          ...            ...   \n",
       "3161811   vrn-88-360-1-1-1-R-0-Special#92-23-38     17:03:00       17:03:00   \n",
       "3161818  vrn-88-360-1-1-1-R-0-Special#610-24-39     18:03:00       18:03:00   \n",
       "3161825   vrn-88-360-1-1-1-R-0-Special#92-25-40     19:03:00       19:03:00   \n",
       "3161832   vrn-88-360-1-1-1-R-0-Special#92-26-41     20:03:00       20:03:00   \n",
       "3161839  vrn-88-360-1-1-1-R-0-Special#92-157-42     05:53:00       05:53:00   \n",
       "\n",
       "                       stop_id  stop_sequence stop_headsign  pickup_type  \\\n",
       "266137     de:07314:2203:1:Bus              1           NaN            0   \n",
       "266138           de:07314:5152              2           NaN            0   \n",
       "266139   de:07314:2202:0:BuRiO              3           NaN            0   \n",
       "266140           de:07314:5157              4           NaN            0   \n",
       "266141           de:07314:2206              5           NaN            0   \n",
       "...                        ...            ...           ...          ...   \n",
       "3161811   de:07134:35021:2:Bus              2           NaN            0   \n",
       "3161818   de:07134:35021:2:Bus              2           NaN            0   \n",
       "3161825   de:07134:35021:2:Bus              2           NaN            0   \n",
       "3161832   de:07134:35021:2:Bus              2           NaN            0   \n",
       "3161839   de:07134:35021:2:Bus              2           NaN            0   \n",
       "\n",
       "         drop_off_type  shape_dist_traveled  \n",
       "266137               1                  NaN  \n",
       "266138               1                  NaN  \n",
       "266139               1                  NaN  \n",
       "266140               1                  NaN  \n",
       "266141               1                  NaN  \n",
       "...                ...                  ...  \n",
       "3161811              1                  NaN  \n",
       "3161818              1                  NaN  \n",
       "3161825              1                  NaN  \n",
       "3161832              1                  NaN  \n",
       "3161839              1                  NaN  \n",
       "\n",
       "[32330 rows x 9 columns]"
      ]
     },
     "execution_count": 24,
     "metadata": {},
     "output_type": "execute_result"
    }
   ],
   "source": [
    "df_stop_times[df_stop_times['drop_off_type']==1]"
   ]
  },
  {
   "cell_type": "code",
   "execution_count": 25,
   "id": "e05c1e67-d931-4407-99c4-412db7502266",
   "metadata": {},
   "outputs": [
    {
     "data": {
      "text/plain": [
       "array([nan])"
      ]
     },
     "execution_count": 25,
     "metadata": {},
     "output_type": "execute_result"
    }
   ],
   "source": [
    "df_stop_times['shape_dist_traveled'].unique()"
   ]
  },
  {
   "cell_type": "markdown",
   "id": "4ba1aab0-33ed-4f0c-af0d-c96d92b17cfc",
   "metadata": {},
   "source": [
    "# transfers"
   ]
  },
  {
   "cell_type": "code",
   "execution_count": 29,
   "id": "980a4356-64fc-4def-a47d-fb215c62c749",
   "metadata": {},
   "outputs": [
    {
     "data": {
      "text/html": [
       "<div>\n",
       "<style scoped>\n",
       "    .dataframe tbody tr th:only-of-type {\n",
       "        vertical-align: middle;\n",
       "    }\n",
       "\n",
       "    .dataframe tbody tr th {\n",
       "        vertical-align: top;\n",
       "    }\n",
       "\n",
       "    .dataframe thead th {\n",
       "        text-align: right;\n",
       "    }\n",
       "</style>\n",
       "<table border=\"1\" class=\"dataframe\">\n",
       "  <thead>\n",
       "    <tr style=\"text-align: right;\">\n",
       "      <th></th>\n",
       "      <th>from_stop_id</th>\n",
       "      <th>to_stop_id</th>\n",
       "      <th>transfer_type</th>\n",
       "      <th>min_transfer_time</th>\n",
       "    </tr>\n",
       "  </thead>\n",
       "  <tbody>\n",
       "    <tr>\n",
       "      <th>0</th>\n",
       "      <td>de:07331:15:3:3</td>\n",
       "      <td>de:07331:15:3:3</td>\n",
       "      <td>2</td>\n",
       "      <td>180.0</td>\n",
       "    </tr>\n",
       "    <tr>\n",
       "      <th>1</th>\n",
       "      <td>de:08225:32:0:RiN</td>\n",
       "      <td>de:08225:32:0:RiN</td>\n",
       "      <td>2</td>\n",
       "      <td>0.0</td>\n",
       "    </tr>\n",
       "    <tr>\n",
       "      <th>2</th>\n",
       "      <td>de:08226:37:0:1</td>\n",
       "      <td>de:08226:38:0:1</td>\n",
       "      <td>2</td>\n",
       "      <td>60.0</td>\n",
       "    </tr>\n",
       "    <tr>\n",
       "      <th>3</th>\n",
       "      <td>de:08226:38:0:1</td>\n",
       "      <td>de:08226:37:0:1</td>\n",
       "      <td>2</td>\n",
       "      <td>60.0</td>\n",
       "    </tr>\n",
       "    <tr>\n",
       "      <th>4</th>\n",
       "      <td>de:07338:47:0:3</td>\n",
       "      <td>de:07338:50:0:Fähre</td>\n",
       "      <td>2</td>\n",
       "      <td>1260.0</td>\n",
       "    </tr>\n",
       "  </tbody>\n",
       "</table>\n",
       "</div>"
      ],
      "text/plain": [
       "        from_stop_id           to_stop_id  transfer_type  min_transfer_time\n",
       "0    de:07331:15:3:3      de:07331:15:3:3              2              180.0\n",
       "1  de:08225:32:0:RiN    de:08225:32:0:RiN              2                0.0\n",
       "2    de:08226:37:0:1      de:08226:38:0:1              2               60.0\n",
       "3    de:08226:38:0:1      de:08226:37:0:1              2               60.0\n",
       "4    de:07338:47:0:3  de:07338:50:0:Fähre              2             1260.0"
      ]
     },
     "execution_count": 29,
     "metadata": {},
     "output_type": "execute_result"
    }
   ],
   "source": [
    "df_transfers = pd.read_csv(\"datasets/Buses/transfers.txt\")\n",
    "df_transfers.head()"
   ]
  }
 ],
 "metadata": {
  "kernelspec": {
   "display_name": "Python 3 (ipykernel)",
   "language": "python",
   "name": "python3"
  },
  "language_info": {
   "codemirror_mode": {
    "name": "ipython",
    "version": 3
   },
   "file_extension": ".py",
   "mimetype": "text/x-python",
   "name": "python",
   "nbconvert_exporter": "python",
   "pygments_lexer": "ipython3",
   "version": "3.8.10"
  }
 },
 "nbformat": 4,
 "nbformat_minor": 5
}
