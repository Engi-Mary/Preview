{
 "cells": [
  {
   "cell_type": "code",
   "execution_count": 1,
   "id": "bfc78dd9-bd55-4c14-8e85-121861de7053",
   "metadata": {},
   "outputs": [
    {
     "name": "stderr",
     "output_type": "stream",
     "text": [
      "/home/maryam/.local/lib/python3.10/site-packages/tqdm/auto.py:21: TqdmWarning: IProgress not found. Please update jupyter and ipywidgets. See https://ipywidgets.readthedocs.io/en/stable/user_install.html\n",
      "  from .autonotebook import tqdm as notebook_tqdm\n"
     ]
    }
   ],
   "source": [
    "import gradio as gr\n",
    "import numpy as np\n",
    "from tkinter import *\n",
    "from tkcalendar import Calendar"
   ]
  },
  {
   "cell_type": "code",
   "execution_count": null,
   "id": "fdcc9884-cd8e-45b4-8c5d-48228266e3da",
   "metadata": {
    "jupyter": {
     "source_hidden": true
    }
   },
   "outputs": [],
   "source": [
    "\n",
    "\n",
    "# def greet(name):\n",
    "#     return \"Hello \" + name + \"!\"\n",
    "\n",
    "# demo = gr.Interface(fn=greet, inputs=\"text\", outputs=\"text\")\n",
    "    \n",
    "# if __name__ == \"__main__\":\n",
    "#     demo.launch(show_api=False)   "
   ]
  },
  {
   "cell_type": "code",
   "execution_count": 5,
   "id": "a5309c08-332e-4ff2-bd2a-c5e58d8405bd",
   "metadata": {
    "jupyter": {
     "source_hidden": true
    }
   },
   "outputs": [],
   "source": [
    "# def start(From, To):\n",
    "#     start_city=From\n",
    "#     destination_city=To\n",
    "#     return \"Starting Point: \" + start_city + \"\\n\" + \"Destination :\" + destination_city\n",
    "\n",
    "# demo = gr.Interface(fn=start, inputs=[gr.Textbox(placeholder=\"where do you want to start your journey?\"),\n",
    "#                                      gr.Textbox(placeholder=\"where do you want to go?\")],\n",
    "#                    outputs='label')\n",
    "# # demo = gr.Interface(fn=start, inputs=['text','text'], outputs='label')\n",
    "\n",
    "# demo.launch()"
   ]
  },
  {
   "cell_type": "code",
   "execution_count": 4,
   "id": "cdac4e30-9236-4cec-adfe-68a48ce5ff7b",
   "metadata": {
    "jupyter": {
     "source_hidden": true
    }
   },
   "outputs": [],
   "source": [
    "# def city(From, To):\n",
    "#     start_city=From\n",
    "#     destination_city=To\n",
    "#     return \"Starting Point: \" + start_city + \"\\t\" + \"Destination :\" + destination_city\n",
    "\n",
    "\n",
    "# with gr.Blocks() as demo:\n",
    "#     gr.Markdown(\"Enter the information about your trip.\")\n",
    "#     From = gr.Textbox(label=\"From\", placeholder=\"where do you want to start?\")\n",
    "#     To = gr.Textbox(label=\"To\", placeholder=\"where do you want to go?\")\n",
    "#     output = gr.Label(label=\"Your Information\")\n",
    "#     submit_btn = gr.Button(\"Submit\")\n",
    "#     submit_btn.click(fn=city, inputs=[From,To], outputs=output, api_name=\"Submit\")\n",
    "\n",
    "# demo.launch()"
   ]
  },
  {
   "cell_type": "code",
   "execution_count": 3,
   "id": "0e7e5e72-311f-4451-a050-3641e4a4d722",
   "metadata": {
    "jupyter": {
     "source_hidden": true
    }
   },
   "outputs": [],
   "source": [
    "# def city(From, To):\n",
    "#     start_city=From\n",
    "#     destination_city=To\n",
    "#     return \"Starting Point: \" + start_city + \"\\t\" + \"Destination :\" + destination_city\n",
    "\n",
    "\n",
    "# def calendar():\n",
    "#     # Create Object\n",
    "#     root = Tk()\n",
    "     \n",
    "#     # Set geometry\n",
    "#     root.geometry(\"500x500\")\n",
    "     \n",
    "#     # Add Calendar\n",
    "#     cal = Calendar(root, selectmode = 'day',\n",
    "#                    year = 2023, month = 12,\n",
    "#                    day = 8)\n",
    "     \n",
    "#     cal.pack(pady = 20)\n",
    "     \n",
    "#     def grad_date():\n",
    "#         date.config(text = \"Selected Date is: \" + cal.get_date())\n",
    "#         # dat\"Selected Date is: \" + cal.get_date())\n",
    "     \n",
    "#     # Add Button and Label\n",
    "#     Button(root, text = \"Get Date\",\n",
    "#            command = grad_date).pack(pady = 20)\n",
    "     \n",
    "#     date = Label(root, text = \"\")\n",
    "#     date.pack(pady = 20)\n",
    "     \n",
    "#     # Execute Tkinter\n",
    "#     root.mainloop()\n",
    "#     return \"Selected Date is: \" + date\n",
    "\n",
    "\n",
    "\n",
    "# with gr.Blocks() as demo:\n",
    "#     gr.Markdown(\"# Enter the information of your trip here:\")\n",
    "#     with gr.Row():\n",
    "#         text_input_from = gr.Textbox(label=\"From\", placeholder=\"where do you want to start?\")\n",
    "#         text_input_to = gr.Textbox(label=\"To\", placeholder=\"where do you want to go?\")\n",
    "#     text_button = gr.Button(\"Submit\")\n",
    "#     label_output_city = gr.Label()\n",
    "    \n",
    "#         # cal_input = gr.\n",
    "#     calendar_button = gr.Button(\"Choose the date\")\n",
    "#     # calendar_input = gr.grCalendar()\n",
    "#     label_output_date = gr.Label()\n",
    "    \n",
    "\n",
    "\n",
    "#     text_button.click(fn=city, inputs=[text_input_from, text_input_to], outputs=label_output_city)\n",
    "#     calendar_button.click(fn=calendar, outputs=label_output_date)\n",
    "\n",
    "# demo.launch()\n"
   ]
  },
  {
   "cell_type": "code",
   "execution_count": 69,
   "id": "e56e24de-cc7b-4b29-97dd-4b2721c28c5f",
   "metadata": {},
   "outputs": [
    {
     "name": "stdout",
     "output_type": "stream",
     "text": [
      "Running on local URL:  http://127.0.0.1:7890\n",
      "\n",
      "To create a public link, set `share=True` in `launch()`.\n"
     ]
    },
    {
     "data": {
      "text/html": [
       "<div><iframe src=\"http://127.0.0.1:7890/\" width=\"100%\" height=\"500\" allow=\"autoplay; camera; microphone; clipboard-read; clipboard-write;\" frameborder=\"0\" allowfullscreen></iframe></div>"
      ],
      "text/plain": [
       "<IPython.core.display.HTML object>"
      ]
     },
     "metadata": {},
     "output_type": "display_data"
    },
    {
     "data": {
      "text/plain": []
     },
     "execution_count": 69,
     "metadata": {},
     "output_type": "execute_result"
    }
   ],
   "source": [
    "def user_data(From,To,d,m,y):\n",
    "    start_city=From\n",
    "    destination_city=To\n",
    "    day=d\n",
    "    month=m\n",
    "    year=y\n",
    "    return \"Starting Point: \" + start_city + \"\\t\" + \"Destination :\" + destination_city + \"\\n\" + \"Selected Date: \" + str(day) + \".\" + month + \".\" + str(year)\n",
    "\n",
    "\n",
    "def filters(g,l,a1,a2,i):\n",
    "    gender=g\n",
    "    language=l\n",
    "    age_min=a1\n",
    "    age_max=a2\n",
    "    interests=i\n",
    "    return \"You want: \" + str(gender) + str(language) + str(age_min) + str(age_max) + str(interests)\n",
    "\n",
    "\n",
    "day = [i for i in range(1,32)]\n",
    "month = ['Jan', 'Feb', 'Mar', 'Apr', 'May', 'Jun', 'Jul', 'Aug', 'Sep', 'Oct', 'Nov', 'Dec']\n",
    "year = [2023, 2024, 2025]\n",
    "\n",
    "\n",
    "with gr.Blocks() as demo:\n",
    "    with gr.Tab(\"Your Data\"):\n",
    "        gr.Markdown(\"# Enter the information of your trip here:\")\n",
    "        with gr.Row():\n",
    "            text_input_from = gr.Textbox(label=\"From\", placeholder=\"where do you want to start?\")\n",
    "            text_input_to = gr.Textbox(label=\"To\", placeholder=\"where do you want to go?\")\n",
    "    \n",
    "        with gr.Row():\n",
    "            year_input = gr.Dropdown(year, label=\"Year\")\n",
    "            month_input = gr.Dropdown(month, label=\"Month\")\n",
    "            day_input = gr.Dropdown(day, label=\"Day\")\n",
    "        with gr.Row():\n",
    "            search_button = gr.Button(\"Search\")\n",
    "            clear_button = gr.ClearButton()\n",
    "        date_output = gr.Label()\n",
    "\n",
    "    gr.Tab.select([text_input_from,text_input_to,day_input,month_input,year_input])\n",
    "    search_button.click(fn=user_data, \n",
    "                          inputs=[text_input_from,text_input_to,day_input,month_input,year_input], \n",
    "                          outputs=date_output)\n",
    "    clear_button.add([year_input,month_input,day_input,text_input_from,text_input_to,date_output])\n",
    "    clear_button.click()\n",
    "    \n",
    "    with gr.Tab(\"Filters\"):\n",
    "        gr.Markdown(\"# Whom are you looking for?\")\n",
    "        gender = gr.Radio([\"Female\",\"Male\",\"Both\"], label=\"Gender\")\n",
    "        language = gr.Dropdown([\"Persian\",\"German\",\"English\",\"Spanish\",\"French\",\"All\"], label=\"Language\",\n",
    "                              multiselect=True)\n",
    "        age_min = gr.Slider(minimum=18, maximum=100, label=\"Minimum Age\", \n",
    "                            info=\"Specify the minimum age.\", interactive=True, step=1)\n",
    "        age_max = gr.Slider(minimum=18, maximum=100, label=\"Maximum Age\", \n",
    "                            info=\"Specify the maximum age.\", interactive=True, step=1)\n",
    "        interests = gr.CheckboxGroup([\"Everything\",\"Sport\",\"Politics\",\"Environment\",\"Technology\",\n",
    "                                      \"Travelling\",\"Food\",\"Art\",\"Books\",\"Movies\"])\n",
    "        with gr.Row():\n",
    "            save_button = gr.Button(\"Save\")\n",
    "            clear_button = gr.ClearButton()\n",
    "        filter_label = gr.Label()\n",
    "        \n",
    "\n",
    "\n",
    "    gr.Tab.select([gender,language, age_min, age_max])\n",
    "    save_button.click(fn=filters, inputs=([gender,language,age_min,age_max,interests]), \n",
    "                      outputs=filter_label)\n",
    "    clear_button.add([gender,language,age_min,age_max,interests,filter_label])\n",
    "    clear_button.click()\n",
    "  \n",
    "\n",
    "demo.launch()\n"
   ]
  },
  {
   "cell_type": "code",
   "execution_count": 6,
   "id": "71034558-362b-4ce6-a149-1b427bbee176",
   "metadata": {
    "jupyter": {
     "source_hidden": true
    }
   },
   "outputs": [],
   "source": [
    "# # Create Object\n",
    "# root = Tk()\n",
    " \n",
    "# # Set geometry\n",
    "# root.geometry(\"500x500\")\n",
    " \n",
    "# # Add Calendar\n",
    "# cal = Calendar(root, selectmode = 'day',\n",
    "#                year = 2020, month = 5,\n",
    "#                day = 22)\n",
    " \n",
    "# cal.pack(pady = 20)\n",
    " \n",
    "# def grad_date():\n",
    "#     date.config(text = \"Selected Date is: \" + cal.get_date())\n",
    "#     print(\"Selected Date is: \" + cal.get_date())\n",
    " \n",
    "# # Add Button and Label\n",
    "# Button(root, text = \"Get Date\",\n",
    "#        command = grad_date).pack(pady = 20)\n",
    " \n",
    "# date = Label(root, text = \"\")\n",
    "# date.pack(pady = 20)\n",
    " \n",
    "# # Execute Tkinter\n",
    "# root.mainloop()\n",
    "# return date"
   ]
  }
 ],
 "metadata": {
  "kernelspec": {
   "display_name": "Python 3 (ipykernel)",
   "language": "python",
   "name": "python3"
  },
  "language_info": {
   "codemirror_mode": {
    "name": "ipython",
    "version": 3
   },
   "file_extension": ".py",
   "mimetype": "text/x-python",
   "name": "python",
   "nbconvert_exporter": "python",
   "pygments_lexer": "ipython3",
   "version": "3.10.12"
  }
 },
 "nbformat": 4,
 "nbformat_minor": 5
}
