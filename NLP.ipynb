{
 "cells": [
  {
   "cell_type": "code",
   "execution_count": 1,
   "id": "1fa4d63d-3f38-406c-9078-42522b633a21",
   "metadata": {},
   "outputs": [],
   "source": [
    "import pandas as pd\n",
    "import numpy as np\n",
    "pd.set_option('display.max_colwidth',None)"
   ]
  },
  {
   "cell_type": "code",
   "execution_count": 2,
   "id": "4f3f222c-e05c-47f0-98e0-56770413a63f",
   "metadata": {},
   "outputs": [
    {
     "data": {
      "text/html": [
       "<div>\n",
       "<style scoped>\n",
       "    .dataframe tbody tr th:only-of-type {\n",
       "        vertical-align: middle;\n",
       "    }\n",
       "\n",
       "    .dataframe tbody tr th {\n",
       "        vertical-align: top;\n",
       "    }\n",
       "\n",
       "    .dataframe thead th {\n",
       "        text-align: right;\n",
       "    }\n",
       "</style>\n",
       "<table border=\"1\" class=\"dataframe\">\n",
       "  <thead>\n",
       "    <tr style=\"text-align: right;\">\n",
       "      <th></th>\n",
       "      <th>companyName</th>\n",
       "      <th>description</th>\n",
       "    </tr>\n",
       "  </thead>\n",
       "  <tbody>\n",
       "    <tr>\n",
       "      <th>0</th>\n",
       "      <td>Traton SE</td>\n",
       "      <td>Traton SE manufactures commercial vehicles worldwide. It operates in Industrial Business and Financial Services segments. The company offers light and heavy-duty commercial vehicles, such as trucks and bus chassis; vans; construction vehicles; city buses; and intercity and travel coaches, as well as spare parts and services. It also provides a cloud-based platform for freight transportation under the RIO brand name. The company offers its products and services under the MAN, Scania, Navistar, and Volkswagen Caminhões e Ônibus brands. In addition, it provides a range of financial solutions, including dealer and customer finance, leasing, and insurance products. The company was founded in 2015 and is based in Munich, Germany. Traton SE is a subsidiary of Volkswagen Finance Luxemburg S.A.</td>\n",
       "    </tr>\n",
       "    <tr>\n",
       "      <th>1</th>\n",
       "      <td>2G Energy AG</td>\n",
       "      <td>2G Energy AG, together with its subsidiaries, develops, manufactures, and installs combined heat and power (CHP) systems, and other systems for the recovery of electrical energy in Germany and internationally. It offers decentralized power and heat through gas motors driven by natural gas, biomethane, biogas, sewage gas, landfill gas, or hydrogen with an electrical output of 20 to 4,500 kW. The company's products include g-box, a natural gas CHP plant with the electrical output of 20 kW to 50 kW; aura, a CHP plant with the output range from 100 kW to 420 kW; patruus, a biogas and natural gas CHP plant with the output range from 50 kW to 263 kW; agenitor, a CHP plant with a capacity of 220 kW to 450 kW; and avus, a CHP plant with the electrical output range of 400 kW to 4.000 kW. It also engages in the rental and leasing of CHP plants. The company's products are used for various applications, such as biogas plants, office and administrative buildings, chemical and pharmaceutical industries, landfills, shopping centers, horticultural and agricultural holdings, hotels, industry and trade, sewage treatment plants, hospitals, food industry, public institutions, data processing centers, schools and universities, swimming pools, senior citizen centers, sports and leisure centers, heat grids, hydrogen, and residential buildings. The company was formerly known as 2G Bio-Energietechnik AG and changed its name to 2G Energy AG in 2011. 2G Energy AG was founded in 1995 and is headquartered in Heek, Germany.</td>\n",
       "    </tr>\n",
       "    <tr>\n",
       "      <th>2</th>\n",
       "      <td>MTU Aero Engines AG</td>\n",
       "      <td>MTU Aero Engines AG, together with its subsidiaries, develops, manufactures, markets, and maintains commercial and military engines, and aero derivative industrial gas turbines in Germany, other European countries, North America, Asia, and internationally. It operates through two segments, Commercial and Military Engine Business; and Commercial Maintenance Business. The company offers commercial aircraft engines for wide body jets, narrow body and regional jets, and business jets; military aircraft engines for fighter aircraft, helicopters, and transport aircraft; and industrial gas turbines. It also maintains, repairs, and overhauls commercial and military engines; and manufactures and markets various brush seals. The company was formerly known as MTU Aero Engines Holding AG and changed its name to MTU Aero Engines AG in May 2013. MTU Aero Engines AG was founded in 1913 and is headquartered in Munich, Germany.</td>\n",
       "    </tr>\n",
       "    <tr>\n",
       "      <th>3</th>\n",
       "      <td>Deutsche Lufthansa AG</td>\n",
       "      <td>Deutsche Lufthansa AG operates as an aviation company in Germany and internationally. The company's Network Airlines segment offers passenger services. Its Eurowings segment provides passenger services through a route network of more than 100 destinations in over 50 countries. The company's Logistics Business segment offers transport services for various cargoes, including general cargo, dangerous goods, valuables, vulnerable, perishables, live animals, courier, emergency, airmail/e-commerce, and temperature sensitive goods services approximately 300 destinations in 100 countries. Its Maintenance, Repair and Overhaul Services (MRO) segment provides maintenance, repair, and overhaul services for civilian commercial aircraft serving original equipment manufacturers and aircraft leasing companies, operators of VIP jets, and airlines. The company's Catering Business segment engages in-flight services and convenience retail, as well as other areas, such as retail and food producers. As of December 31, 2021, it had a fleet of 713 aircraft. Deutsche Lufthansa AG was founded in 1926 and is headquartered in Cologne, Germany.</td>\n",
       "    </tr>\n",
       "    <tr>\n",
       "      <th>4</th>\n",
       "      <td>Siemens Energy AG</td>\n",
       "      <td>Siemens Energy AG operates as an energy technology company worldwide. It operates in two segments, Gas and Power; and Siemens Gamesa Renewable Energy. The company provides gas and steam turbines, generators, gas engines, instrumentation and controls, and electrical systems, as well as performance enhancement, maintenance, customer training, and professional consulting services for central and distributed power generation; and transformers, air and gas-insulated switchgears, AC transmission systems, offshore windfarm grid connections, high voltage direct current transmission systems, high voltage substations, digital solutions and components, and other products. It also offers rotating equipment that includes industrial and aero-derivative gas turbines, turbo- and reciprocating compressors, power generation products, and compression trains and modules, as well as solutions in the fields of electrification, automation and digitization, plant safety, plant security, and water treatment. In addition, the company develops technologies in the fields of decarbonized energy and storage systems. Further, it offers onshore wind turbine design, engineering, manufacturing, and installation solutions for onshore markets; offshore wind turbine equipment design, manufacturing, and installation solutions; and operation and maintenance services for wind farms. The company serves utilities, independent power producers, project developers, oil and gas, transmission and distribution system operators, and industrial and infrastructure customers. Siemens Energy AG was founded in 1866 and is based in Munich, Germany.</td>\n",
       "    </tr>\n",
       "  </tbody>\n",
       "</table>\n",
       "</div>"
      ],
      "text/plain": [
       "             companyName  \\\n",
       "0              Traton SE   \n",
       "1           2G Energy AG   \n",
       "2    MTU Aero Engines AG   \n",
       "3  Deutsche Lufthansa AG   \n",
       "4      Siemens Energy AG   \n",
       "\n",
       "                                                                                                                                                                                                                                                                                                                                                                                                                                                                                                                                                                                                                                                                                                                                                                                                                                                                                                                                                                                                                                                                                                                                                                                                                                                                                                                                                                                                                                                                                                                                                                                                                                                                             description  \n",
       "0                                                                                                                                                                                                                                                                                                                                                                                                                                                                                                                                                                                                                                                                                                                                                                                                                                                           Traton SE manufactures commercial vehicles worldwide. It operates in Industrial Business and Financial Services segments. The company offers light and heavy-duty commercial vehicles, such as trucks and bus chassis; vans; construction vehicles; city buses; and intercity and travel coaches, as well as spare parts and services. It also provides a cloud-based platform for freight transportation under the RIO brand name. The company offers its products and services under the MAN, Scania, Navistar, and Volkswagen Caminhões e Ônibus brands. In addition, it provides a range of financial solutions, including dealer and customer finance, leasing, and insurance products. The company was founded in 2015 and is based in Munich, Germany. Traton SE is a subsidiary of Volkswagen Finance Luxemburg S.A.  \n",
       "1                                                                                                        2G Energy AG, together with its subsidiaries, develops, manufactures, and installs combined heat and power (CHP) systems, and other systems for the recovery of electrical energy in Germany and internationally. It offers decentralized power and heat through gas motors driven by natural gas, biomethane, biogas, sewage gas, landfill gas, or hydrogen with an electrical output of 20 to 4,500 kW. The company's products include g-box, a natural gas CHP plant with the electrical output of 20 kW to 50 kW; aura, a CHP plant with the output range from 100 kW to 420 kW; patruus, a biogas and natural gas CHP plant with the output range from 50 kW to 263 kW; agenitor, a CHP plant with a capacity of 220 kW to 450 kW; and avus, a CHP plant with the electrical output range of 400 kW to 4.000 kW. It also engages in the rental and leasing of CHP plants. The company's products are used for various applications, such as biogas plants, office and administrative buildings, chemical and pharmaceutical industries, landfills, shopping centers, horticultural and agricultural holdings, hotels, industry and trade, sewage treatment plants, hospitals, food industry, public institutions, data processing centers, schools and universities, swimming pools, senior citizen centers, sports and leisure centers, heat grids, hydrogen, and residential buildings. The company was formerly known as 2G Bio-Energietechnik AG and changed its name to 2G Energy AG in 2011. 2G Energy AG was founded in 1995 and is headquartered in Heek, Germany.  \n",
       "2                                                                                                                                                                                                                                                                                                                                                                                                                                                                                                                                                                                                                                                                                                                           MTU Aero Engines AG, together with its subsidiaries, develops, manufactures, markets, and maintains commercial and military engines, and aero derivative industrial gas turbines in Germany, other European countries, North America, Asia, and internationally. It operates through two segments, Commercial and Military Engine Business; and Commercial Maintenance Business. The company offers commercial aircraft engines for wide body jets, narrow body and regional jets, and business jets; military aircraft engines for fighter aircraft, helicopters, and transport aircraft; and industrial gas turbines. It also maintains, repairs, and overhauls commercial and military engines; and manufactures and markets various brush seals. The company was formerly known as MTU Aero Engines Holding AG and changed its name to MTU Aero Engines AG in May 2013. MTU Aero Engines AG was founded in 1913 and is headquartered in Munich, Germany.  \n",
       "3                                                                                                                                                                                                                                                                                                                                                                                                                                                                                                          Deutsche Lufthansa AG operates as an aviation company in Germany and internationally. The company's Network Airlines segment offers passenger services. Its Eurowings segment provides passenger services through a route network of more than 100 destinations in over 50 countries. The company's Logistics Business segment offers transport services for various cargoes, including general cargo, dangerous goods, valuables, vulnerable, perishables, live animals, courier, emergency, airmail/e-commerce, and temperature sensitive goods services approximately 300 destinations in 100 countries. Its Maintenance, Repair and Overhaul Services (MRO) segment provides maintenance, repair, and overhaul services for civilian commercial aircraft serving original equipment manufacturers and aircraft leasing companies, operators of VIP jets, and airlines. The company's Catering Business segment engages in-flight services and convenience retail, as well as other areas, such as retail and food producers. As of December 31, 2021, it had a fleet of 713 aircraft. Deutsche Lufthansa AG was founded in 1926 and is headquartered in Cologne, Germany.  \n",
       "4  Siemens Energy AG operates as an energy technology company worldwide. It operates in two segments, Gas and Power; and Siemens Gamesa Renewable Energy. The company provides gas and steam turbines, generators, gas engines, instrumentation and controls, and electrical systems, as well as performance enhancement, maintenance, customer training, and professional consulting services for central and distributed power generation; and transformers, air and gas-insulated switchgears, AC transmission systems, offshore windfarm grid connections, high voltage direct current transmission systems, high voltage substations, digital solutions and components, and other products. It also offers rotating equipment that includes industrial and aero-derivative gas turbines, turbo- and reciprocating compressors, power generation products, and compression trains and modules, as well as solutions in the fields of electrification, automation and digitization, plant safety, plant security, and water treatment. In addition, the company develops technologies in the fields of decarbonized energy and storage systems. Further, it offers onshore wind turbine design, engineering, manufacturing, and installation solutions for onshore markets; offshore wind turbine equipment design, manufacturing, and installation solutions; and operation and maintenance services for wind farms. The company serves utilities, independent power producers, project developers, oil and gas, transmission and distribution system operators, and industrial and infrastructure customers. Siemens Energy AG was founded in 1866 and is based in Munich, Germany.  "
      ]
     },
     "execution_count": 2,
     "metadata": {},
     "output_type": "execute_result"
    }
   ],
   "source": [
    "df = pd.read_csv(\"datasets/NLP/companies_data.csv\")\n",
    "df.head()"
   ]
  },
  {
   "cell_type": "code",
   "execution_count": 3,
   "id": "c37a5499-07b9-4fe3-9983-3987f824f640",
   "metadata": {},
   "outputs": [
    {
     "data": {
      "text/plain": [
       "(190, 2)"
      ]
     },
     "execution_count": 3,
     "metadata": {},
     "output_type": "execute_result"
    }
   ],
   "source": [
    "df.shape"
   ]
  },
  {
   "cell_type": "code",
   "execution_count": null,
   "id": "01804250-a512-4497-a152-fea82c9223d5",
   "metadata": {},
   "outputs": [],
   "source": [
    "# df.value_counts()"
   ]
  },
  {
   "cell_type": "markdown",
   "id": "53a2c6d3-6a2d-4002-abee-1a50d308fc8d",
   "metadata": {},
   "source": [
    "# Preprocessing"
   ]
  },
  {
   "cell_type": "markdown",
   "id": "af411299-0646-49b5-804c-1e8a89ff58e4",
   "metadata": {},
   "source": [
    "## Punctuation Removal"
   ]
  },
  {
   "cell_type": "code",
   "execution_count": 4,
   "id": "aeef0c59-fc3f-4d2f-a102-5daa8b87df0b",
   "metadata": {},
   "outputs": [],
   "source": [
    "import string"
   ]
  },
  {
   "cell_type": "code",
   "execution_count": 5,
   "id": "ec2a1265-f3b5-41d2-a92f-28cc5ef9426f",
   "metadata": {},
   "outputs": [
    {
     "data": {
      "text/html": [
       "<div>\n",
       "<style scoped>\n",
       "    .dataframe tbody tr th:only-of-type {\n",
       "        vertical-align: middle;\n",
       "    }\n",
       "\n",
       "    .dataframe tbody tr th {\n",
       "        vertical-align: top;\n",
       "    }\n",
       "\n",
       "    .dataframe thead th {\n",
       "        text-align: right;\n",
       "    }\n",
       "</style>\n",
       "<table border=\"1\" class=\"dataframe\">\n",
       "  <thead>\n",
       "    <tr style=\"text-align: right;\">\n",
       "      <th></th>\n",
       "      <th>companyName</th>\n",
       "      <th>description</th>\n",
       "      <th>puncFree</th>\n",
       "    </tr>\n",
       "  </thead>\n",
       "  <tbody>\n",
       "    <tr>\n",
       "      <th>0</th>\n",
       "      <td>Traton SE</td>\n",
       "      <td>Traton SE manufactures commercial vehicles worldwide. It operates in Industrial Business and Financial Services segments. The company offers light and heavy-duty commercial vehicles, such as trucks and bus chassis; vans; construction vehicles; city buses; and intercity and travel coaches, as well as spare parts and services. It also provides a cloud-based platform for freight transportation under the RIO brand name. The company offers its products and services under the MAN, Scania, Navistar, and Volkswagen Caminhões e Ônibus brands. In addition, it provides a range of financial solutions, including dealer and customer finance, leasing, and insurance products. The company was founded in 2015 and is based in Munich, Germany. Traton SE is a subsidiary of Volkswagen Finance Luxemburg S.A.</td>\n",
       "      <td>Traton SE manufactures commercial vehicles worldwide It operates in Industrial Business and Financial Services segments The company offers light and heavyduty commercial vehicles such as trucks and bus chassis vans construction vehicles city buses and intercity and travel coaches as well as spare parts and services It also provides a cloudbased platform for freight transportation under the RIO brand name The company offers its products and services under the MAN Scania Navistar and Volkswagen Caminhões e Ônibus brands In addition it provides a range of financial solutions including dealer and customer finance leasing and insurance products The company was founded in 2015 and is based in Munich Germany Traton SE is a subsidiary of Volkswagen Finance Luxemburg SA</td>\n",
       "    </tr>\n",
       "  </tbody>\n",
       "</table>\n",
       "</div>"
      ],
      "text/plain": [
       "  companyName  \\\n",
       "0   Traton SE   \n",
       "\n",
       "                                                                                                                                                                                                                                                                                                                                                                                                                                                                                                                                                                                                                                                                                                                                                                                                                    description  \\\n",
       "0  Traton SE manufactures commercial vehicles worldwide. It operates in Industrial Business and Financial Services segments. The company offers light and heavy-duty commercial vehicles, such as trucks and bus chassis; vans; construction vehicles; city buses; and intercity and travel coaches, as well as spare parts and services. It also provides a cloud-based platform for freight transportation under the RIO brand name. The company offers its products and services under the MAN, Scania, Navistar, and Volkswagen Caminhões e Ônibus brands. In addition, it provides a range of financial solutions, including dealer and customer finance, leasing, and insurance products. The company was founded in 2015 and is based in Munich, Germany. Traton SE is a subsidiary of Volkswagen Finance Luxemburg S.A.   \n",
       "\n",
       "                                                                                                                                                                                                                                                                                                                                                                                                                                                                                                                                                                                                                                                                                                                                                                                              puncFree  \n",
       "0  Traton SE manufactures commercial vehicles worldwide It operates in Industrial Business and Financial Services segments The company offers light and heavyduty commercial vehicles such as trucks and bus chassis vans construction vehicles city buses and intercity and travel coaches as well as spare parts and services It also provides a cloudbased platform for freight transportation under the RIO brand name The company offers its products and services under the MAN Scania Navistar and Volkswagen Caminhões e Ônibus brands In addition it provides a range of financial solutions including dealer and customer finance leasing and insurance products The company was founded in 2015 and is based in Munich Germany Traton SE is a subsidiary of Volkswagen Finance Luxemburg SA  "
      ]
     },
     "execution_count": 5,
     "metadata": {},
     "output_type": "execute_result"
    }
   ],
   "source": [
    "def remove_punctuation(text):\n",
    "    punctuationFree = \"\".join([i for i in text if i not in string.punctuation])\n",
    "    return punctuationFree\n",
    "\n",
    "df[\"puncFree\"] = df['description'].apply(lambda x:remove_punctuation(x))\n",
    "df['companyName'] = df['companyName'].apply(lambda x:remove_punctuation(x))\n",
    "\n",
    "df.head(1)"
   ]
  },
  {
   "cell_type": "markdown",
   "id": "d2c38ef5-d5e9-4713-8a2d-7bdc7e92c5b3",
   "metadata": {},
   "source": [
    "## Lowercasing"
   ]
  },
  {
   "cell_type": "code",
   "execution_count": 6,
   "id": "2311a1b5-9d4c-41cc-911a-c1d0ec126891",
   "metadata": {},
   "outputs": [
    {
     "data": {
      "text/html": [
       "<div>\n",
       "<style scoped>\n",
       "    .dataframe tbody tr th:only-of-type {\n",
       "        vertical-align: middle;\n",
       "    }\n",
       "\n",
       "    .dataframe tbody tr th {\n",
       "        vertical-align: top;\n",
       "    }\n",
       "\n",
       "    .dataframe thead th {\n",
       "        text-align: right;\n",
       "    }\n",
       "</style>\n",
       "<table border=\"1\" class=\"dataframe\">\n",
       "  <thead>\n",
       "    <tr style=\"text-align: right;\">\n",
       "      <th></th>\n",
       "      <th>companyName</th>\n",
       "      <th>description</th>\n",
       "      <th>puncFree</th>\n",
       "      <th>lowercased</th>\n",
       "    </tr>\n",
       "  </thead>\n",
       "  <tbody>\n",
       "    <tr>\n",
       "      <th>0</th>\n",
       "      <td>traton se</td>\n",
       "      <td>Traton SE manufactures commercial vehicles worldwide. It operates in Industrial Business and Financial Services segments. The company offers light and heavy-duty commercial vehicles, such as trucks and bus chassis; vans; construction vehicles; city buses; and intercity and travel coaches, as well as spare parts and services. It also provides a cloud-based platform for freight transportation under the RIO brand name. The company offers its products and services under the MAN, Scania, Navistar, and Volkswagen Caminhões e Ônibus brands. In addition, it provides a range of financial solutions, including dealer and customer finance, leasing, and insurance products. The company was founded in 2015 and is based in Munich, Germany. Traton SE is a subsidiary of Volkswagen Finance Luxemburg S.A.</td>\n",
       "      <td>Traton SE manufactures commercial vehicles worldwide It operates in Industrial Business and Financial Services segments The company offers light and heavyduty commercial vehicles such as trucks and bus chassis vans construction vehicles city buses and intercity and travel coaches as well as spare parts and services It also provides a cloudbased platform for freight transportation under the RIO brand name The company offers its products and services under the MAN Scania Navistar and Volkswagen Caminhões e Ônibus brands In addition it provides a range of financial solutions including dealer and customer finance leasing and insurance products The company was founded in 2015 and is based in Munich Germany Traton SE is a subsidiary of Volkswagen Finance Luxemburg SA</td>\n",
       "      <td>traton se manufactures commercial vehicles worldwide it operates in industrial business and financial services segments the company offers light and heavyduty commercial vehicles such as trucks and bus chassis vans construction vehicles city buses and intercity and travel coaches as well as spare parts and services it also provides a cloudbased platform for freight transportation under the rio brand name the company offers its products and services under the man scania navistar and volkswagen caminhões e ônibus brands in addition it provides a range of financial solutions including dealer and customer finance leasing and insurance products the company was founded in 2015 and is based in munich germany traton se is a subsidiary of volkswagen finance luxemburg sa</td>\n",
       "    </tr>\n",
       "  </tbody>\n",
       "</table>\n",
       "</div>"
      ],
      "text/plain": [
       "  companyName  \\\n",
       "0   traton se   \n",
       "\n",
       "                                                                                                                                                                                                                                                                                                                                                                                                                                                                                                                                                                                                                                                                                                                                                                                                                    description  \\\n",
       "0  Traton SE manufactures commercial vehicles worldwide. It operates in Industrial Business and Financial Services segments. The company offers light and heavy-duty commercial vehicles, such as trucks and bus chassis; vans; construction vehicles; city buses; and intercity and travel coaches, as well as spare parts and services. It also provides a cloud-based platform for freight transportation under the RIO brand name. The company offers its products and services under the MAN, Scania, Navistar, and Volkswagen Caminhões e Ônibus brands. In addition, it provides a range of financial solutions, including dealer and customer finance, leasing, and insurance products. The company was founded in 2015 and is based in Munich, Germany. Traton SE is a subsidiary of Volkswagen Finance Luxemburg S.A.   \n",
       "\n",
       "                                                                                                                                                                                                                                                                                                                                                                                                                                                                                                                                                                                                                                                                                                                                                                                              puncFree  \\\n",
       "0  Traton SE manufactures commercial vehicles worldwide It operates in Industrial Business and Financial Services segments The company offers light and heavyduty commercial vehicles such as trucks and bus chassis vans construction vehicles city buses and intercity and travel coaches as well as spare parts and services It also provides a cloudbased platform for freight transportation under the RIO brand name The company offers its products and services under the MAN Scania Navistar and Volkswagen Caminhões e Ônibus brands In addition it provides a range of financial solutions including dealer and customer finance leasing and insurance products The company was founded in 2015 and is based in Munich Germany Traton SE is a subsidiary of Volkswagen Finance Luxemburg SA   \n",
       "\n",
       "                                                                                                                                                                                                                                                                                                                                                                                                                                                                                                                                                                                                                                                                                                                                                                                            lowercased  \n",
       "0  traton se manufactures commercial vehicles worldwide it operates in industrial business and financial services segments the company offers light and heavyduty commercial vehicles such as trucks and bus chassis vans construction vehicles city buses and intercity and travel coaches as well as spare parts and services it also provides a cloudbased platform for freight transportation under the rio brand name the company offers its products and services under the man scania navistar and volkswagen caminhões e ônibus brands in addition it provides a range of financial solutions including dealer and customer finance leasing and insurance products the company was founded in 2015 and is based in munich germany traton se is a subsidiary of volkswagen finance luxemburg sa  "
      ]
     },
     "execution_count": 6,
     "metadata": {},
     "output_type": "execute_result"
    }
   ],
   "source": [
    "df[\"lowercased\"] = df[\"puncFree\"].apply(lambda x: x.lower())\n",
    "df['companyName'] = df['companyName'].apply(lambda x: x.lower())\n",
    "df.head(1)"
   ]
  },
  {
   "cell_type": "markdown",
   "id": "24fcd66f-0277-4aff-b99b-f0778268d678",
   "metadata": {},
   "source": [
    "## Tokenization"
   ]
  },
  {
   "cell_type": "code",
   "execution_count": 7,
   "id": "1683c022-5249-495b-b5a0-f0d4f7d6b3ca",
   "metadata": {},
   "outputs": [],
   "source": [
    "import re"
   ]
  },
  {
   "cell_type": "code",
   "execution_count": 8,
   "id": "0076a11c-6a16-496b-9400-d9444aebde82",
   "metadata": {},
   "outputs": [
    {
     "data": {
      "text/html": [
       "<div>\n",
       "<style scoped>\n",
       "    .dataframe tbody tr th:only-of-type {\n",
       "        vertical-align: middle;\n",
       "    }\n",
       "\n",
       "    .dataframe tbody tr th {\n",
       "        vertical-align: top;\n",
       "    }\n",
       "\n",
       "    .dataframe thead th {\n",
       "        text-align: right;\n",
       "    }\n",
       "</style>\n",
       "<table border=\"1\" class=\"dataframe\">\n",
       "  <thead>\n",
       "    <tr style=\"text-align: right;\">\n",
       "      <th></th>\n",
       "      <th>companyName</th>\n",
       "      <th>description</th>\n",
       "      <th>puncFree</th>\n",
       "      <th>lowercased</th>\n",
       "      <th>tokenized</th>\n",
       "    </tr>\n",
       "  </thead>\n",
       "  <tbody>\n",
       "    <tr>\n",
       "      <th>0</th>\n",
       "      <td>[traton, se]</td>\n",
       "      <td>Traton SE manufactures commercial vehicles worldwide. It operates in Industrial Business and Financial Services segments. The company offers light and heavy-duty commercial vehicles, such as trucks and bus chassis; vans; construction vehicles; city buses; and intercity and travel coaches, as well as spare parts and services. It also provides a cloud-based platform for freight transportation under the RIO brand name. The company offers its products and services under the MAN, Scania, Navistar, and Volkswagen Caminhões e Ônibus brands. In addition, it provides a range of financial solutions, including dealer and customer finance, leasing, and insurance products. The company was founded in 2015 and is based in Munich, Germany. Traton SE is a subsidiary of Volkswagen Finance Luxemburg S.A.</td>\n",
       "      <td>Traton SE manufactures commercial vehicles worldwide It operates in Industrial Business and Financial Services segments The company offers light and heavyduty commercial vehicles such as trucks and bus chassis vans construction vehicles city buses and intercity and travel coaches as well as spare parts and services It also provides a cloudbased platform for freight transportation under the RIO brand name The company offers its products and services under the MAN Scania Navistar and Volkswagen Caminhões e Ônibus brands In addition it provides a range of financial solutions including dealer and customer finance leasing and insurance products The company was founded in 2015 and is based in Munich Germany Traton SE is a subsidiary of Volkswagen Finance Luxemburg SA</td>\n",
       "      <td>traton se manufactures commercial vehicles worldwide it operates in industrial business and financial services segments the company offers light and heavyduty commercial vehicles such as trucks and bus chassis vans construction vehicles city buses and intercity and travel coaches as well as spare parts and services it also provides a cloudbased platform for freight transportation under the rio brand name the company offers its products and services under the man scania navistar and volkswagen caminhões e ônibus brands in addition it provides a range of financial solutions including dealer and customer finance leasing and insurance products the company was founded in 2015 and is based in munich germany traton se is a subsidiary of volkswagen finance luxemburg sa</td>\n",
       "      <td>[traton, se, manufactures, commercial, vehicles, worldwide, it, operates, in, industrial, business, and, financial, services, segments, the, company, offers, light, and, heavyduty, commercial, vehicles, such, as, trucks, and, bus, chassis, vans, construction, vehicles, city, buses, and, intercity, and, travel, coaches, as, well, as, spare, parts, and, services, it, also, provides, a, cloudbased, platform, for, freight, transportation, under, the, rio, brand, name, the, company, offers, its, products, and, services, under, the, man, scania, navistar, and, volkswagen, caminhões, e, ônibus, brands, in, addition, it, provides, a, range, of, financial, solutions, including, dealer, and, customer, finance, leasing, and, insurance, products, the, company, was, founded, ...]</td>\n",
       "    </tr>\n",
       "  </tbody>\n",
       "</table>\n",
       "</div>"
      ],
      "text/plain": [
       "    companyName  \\\n",
       "0  [traton, se]   \n",
       "\n",
       "                                                                                                                                                                                                                                                                                                                                                                                                                                                                                                                                                                                                                                                                                                                                                                                                                    description  \\\n",
       "0  Traton SE manufactures commercial vehicles worldwide. It operates in Industrial Business and Financial Services segments. The company offers light and heavy-duty commercial vehicles, such as trucks and bus chassis; vans; construction vehicles; city buses; and intercity and travel coaches, as well as spare parts and services. It also provides a cloud-based platform for freight transportation under the RIO brand name. The company offers its products and services under the MAN, Scania, Navistar, and Volkswagen Caminhões e Ônibus brands. In addition, it provides a range of financial solutions, including dealer and customer finance, leasing, and insurance products. The company was founded in 2015 and is based in Munich, Germany. Traton SE is a subsidiary of Volkswagen Finance Luxemburg S.A.   \n",
       "\n",
       "                                                                                                                                                                                                                                                                                                                                                                                                                                                                                                                                                                                                                                                                                                                                                                                              puncFree  \\\n",
       "0  Traton SE manufactures commercial vehicles worldwide It operates in Industrial Business and Financial Services segments The company offers light and heavyduty commercial vehicles such as trucks and bus chassis vans construction vehicles city buses and intercity and travel coaches as well as spare parts and services It also provides a cloudbased platform for freight transportation under the RIO brand name The company offers its products and services under the MAN Scania Navistar and Volkswagen Caminhões e Ônibus brands In addition it provides a range of financial solutions including dealer and customer finance leasing and insurance products The company was founded in 2015 and is based in Munich Germany Traton SE is a subsidiary of Volkswagen Finance Luxemburg SA   \n",
       "\n",
       "                                                                                                                                                                                                                                                                                                                                                                                                                                                                                                                                                                                                                                                                                                                                                                                            lowercased  \\\n",
       "0  traton se manufactures commercial vehicles worldwide it operates in industrial business and financial services segments the company offers light and heavyduty commercial vehicles such as trucks and bus chassis vans construction vehicles city buses and intercity and travel coaches as well as spare parts and services it also provides a cloudbased platform for freight transportation under the rio brand name the company offers its products and services under the man scania navistar and volkswagen caminhões e ônibus brands in addition it provides a range of financial solutions including dealer and customer finance leasing and insurance products the company was founded in 2015 and is based in munich germany traton se is a subsidiary of volkswagen finance luxemburg sa   \n",
       "\n",
       "                                                                                                                                                                                                                                                                                                                                                                                                                                                                                                                                                                                                                                                                                                                                                                                                   tokenized  \n",
       "0  [traton, se, manufactures, commercial, vehicles, worldwide, it, operates, in, industrial, business, and, financial, services, segments, the, company, offers, light, and, heavyduty, commercial, vehicles, such, as, trucks, and, bus, chassis, vans, construction, vehicles, city, buses, and, intercity, and, travel, coaches, as, well, as, spare, parts, and, services, it, also, provides, a, cloudbased, platform, for, freight, transportation, under, the, rio, brand, name, the, company, offers, its, products, and, services, under, the, man, scania, navistar, and, volkswagen, caminhões, e, ônibus, brands, in, addition, it, provides, a, range, of, financial, solutions, including, dealer, and, customer, finance, leasing, and, insurance, products, the, company, was, founded, ...]  "
      ]
     },
     "execution_count": 8,
     "metadata": {},
     "output_type": "execute_result"
    }
   ],
   "source": [
    "def tokenization(text):\n",
    "    tokens = re.split(\"\\W+\",text)\n",
    "    return tokens\n",
    "\n",
    "df[\"tokenized\"] = df[\"lowercased\"].apply(lambda x: tokenization(x))\n",
    "df['companyName'] = df['companyName'].apply(lambda x: tokenization(x))\n",
    "df.head(1)"
   ]
  },
  {
   "cell_type": "markdown",
   "id": "91915854-7574-4565-801c-7900c86dc986",
   "metadata": {},
   "source": [
    "## Stop-Word Removal"
   ]
  },
  {
   "cell_type": "code",
   "execution_count": 9,
   "id": "8ba718c8-d22a-4f4e-a6b7-9c9804ccd69d",
   "metadata": {},
   "outputs": [],
   "source": [
    "import nltk"
   ]
  },
  {
   "cell_type": "code",
   "execution_count": null,
   "id": "c613d111-7909-4dde-b8b6-364cac118cda",
   "metadata": {},
   "outputs": [],
   "source": [
    "nltk.download()"
   ]
  },
  {
   "cell_type": "code",
   "execution_count": 10,
   "id": "7b803c96-a8cd-4e1f-a2f3-efeda1e8e470",
   "metadata": {},
   "outputs": [
    {
     "data": {
      "text/plain": [
       "['The', 'Fulton', 'County', 'Grand', 'Jury', 'said', ...]"
      ]
     },
     "execution_count": 10,
     "metadata": {},
     "output_type": "execute_result"
    }
   ],
   "source": [
    "from nltk.corpus import brown\n",
    "brown.words()"
   ]
  },
  {
   "cell_type": "code",
   "execution_count": 11,
   "id": "90593cec-f2a4-4001-8414-33b69e8819b9",
   "metadata": {},
   "outputs": [
    {
     "data": {
      "text/plain": [
       "['i', 'me', 'my', 'myself', 'we', 'our', 'ours', 'ourselves', 'you', \"you're\"]"
      ]
     },
     "execution_count": 11,
     "metadata": {},
     "output_type": "execute_result"
    }
   ],
   "source": [
    "stopWords = nltk.corpus.stopwords.words('english')\n",
    "stopWords[0:10]"
   ]
  },
  {
   "cell_type": "code",
   "execution_count": 12,
   "id": "bb5d35db-92f0-4551-bb36-6dcfdc222601",
   "metadata": {},
   "outputs": [
    {
     "data": {
      "text/html": [
       "<div>\n",
       "<style scoped>\n",
       "    .dataframe tbody tr th:only-of-type {\n",
       "        vertical-align: middle;\n",
       "    }\n",
       "\n",
       "    .dataframe tbody tr th {\n",
       "        vertical-align: top;\n",
       "    }\n",
       "\n",
       "    .dataframe thead th {\n",
       "        text-align: right;\n",
       "    }\n",
       "</style>\n",
       "<table border=\"1\" class=\"dataframe\">\n",
       "  <thead>\n",
       "    <tr style=\"text-align: right;\">\n",
       "      <th></th>\n",
       "      <th>companyName</th>\n",
       "      <th>description</th>\n",
       "      <th>puncFree</th>\n",
       "      <th>lowercased</th>\n",
       "      <th>tokenized</th>\n",
       "      <th>no_stop_words</th>\n",
       "    </tr>\n",
       "  </thead>\n",
       "  <tbody>\n",
       "    <tr>\n",
       "      <th>0</th>\n",
       "      <td>[traton, se]</td>\n",
       "      <td>Traton SE manufactures commercial vehicles worldwide. It operates in Industrial Business and Financial Services segments. The company offers light and heavy-duty commercial vehicles, such as trucks and bus chassis; vans; construction vehicles; city buses; and intercity and travel coaches, as well as spare parts and services. It also provides a cloud-based platform for freight transportation under the RIO brand name. The company offers its products and services under the MAN, Scania, Navistar, and Volkswagen Caminhões e Ônibus brands. In addition, it provides a range of financial solutions, including dealer and customer finance, leasing, and insurance products. The company was founded in 2015 and is based in Munich, Germany. Traton SE is a subsidiary of Volkswagen Finance Luxemburg S.A.</td>\n",
       "      <td>Traton SE manufactures commercial vehicles worldwide It operates in Industrial Business and Financial Services segments The company offers light and heavyduty commercial vehicles such as trucks and bus chassis vans construction vehicles city buses and intercity and travel coaches as well as spare parts and services It also provides a cloudbased platform for freight transportation under the RIO brand name The company offers its products and services under the MAN Scania Navistar and Volkswagen Caminhões e Ônibus brands In addition it provides a range of financial solutions including dealer and customer finance leasing and insurance products The company was founded in 2015 and is based in Munich Germany Traton SE is a subsidiary of Volkswagen Finance Luxemburg SA</td>\n",
       "      <td>traton se manufactures commercial vehicles worldwide it operates in industrial business and financial services segments the company offers light and heavyduty commercial vehicles such as trucks and bus chassis vans construction vehicles city buses and intercity and travel coaches as well as spare parts and services it also provides a cloudbased platform for freight transportation under the rio brand name the company offers its products and services under the man scania navistar and volkswagen caminhões e ônibus brands in addition it provides a range of financial solutions including dealer and customer finance leasing and insurance products the company was founded in 2015 and is based in munich germany traton se is a subsidiary of volkswagen finance luxemburg sa</td>\n",
       "      <td>[traton, se, manufactures, commercial, vehicles, worldwide, it, operates, in, industrial, business, and, financial, services, segments, the, company, offers, light, and, heavyduty, commercial, vehicles, such, as, trucks, and, bus, chassis, vans, construction, vehicles, city, buses, and, intercity, and, travel, coaches, as, well, as, spare, parts, and, services, it, also, provides, a, cloudbased, platform, for, freight, transportation, under, the, rio, brand, name, the, company, offers, its, products, and, services, under, the, man, scania, navistar, and, volkswagen, caminhões, e, ônibus, brands, in, addition, it, provides, a, range, of, financial, solutions, including, dealer, and, customer, finance, leasing, and, insurance, products, the, company, was, founded, ...]</td>\n",
       "      <td>[traton, se, manufactures, commercial, vehicles, worldwide, operates, industrial, business, financial, services, segments, company, offers, light, heavyduty, commercial, vehicles, trucks, bus, chassis, vans, construction, vehicles, city, buses, intercity, travel, coaches, well, spare, parts, services, also, provides, cloudbased, platform, freight, transportation, rio, brand, name, company, offers, products, services, man, scania, navistar, volkswagen, caminhões, e, ônibus, brands, addition, provides, range, financial, solutions, including, dealer, customer, finance, leasing, insurance, products, company, founded, 2015, based, munich, germany, traton, se, subsidiary, volkswagen, finance, luxemburg, sa]</td>\n",
       "    </tr>\n",
       "  </tbody>\n",
       "</table>\n",
       "</div>"
      ],
      "text/plain": [
       "    companyName  \\\n",
       "0  [traton, se]   \n",
       "\n",
       "                                                                                                                                                                                                                                                                                                                                                                                                                                                                                                                                                                                                                                                                                                                                                                                                                    description  \\\n",
       "0  Traton SE manufactures commercial vehicles worldwide. It operates in Industrial Business and Financial Services segments. The company offers light and heavy-duty commercial vehicles, such as trucks and bus chassis; vans; construction vehicles; city buses; and intercity and travel coaches, as well as spare parts and services. It also provides a cloud-based platform for freight transportation under the RIO brand name. The company offers its products and services under the MAN, Scania, Navistar, and Volkswagen Caminhões e Ônibus brands. In addition, it provides a range of financial solutions, including dealer and customer finance, leasing, and insurance products. The company was founded in 2015 and is based in Munich, Germany. Traton SE is a subsidiary of Volkswagen Finance Luxemburg S.A.   \n",
       "\n",
       "                                                                                                                                                                                                                                                                                                                                                                                                                                                                                                                                                                                                                                                                                                                                                                                              puncFree  \\\n",
       "0  Traton SE manufactures commercial vehicles worldwide It operates in Industrial Business and Financial Services segments The company offers light and heavyduty commercial vehicles such as trucks and bus chassis vans construction vehicles city buses and intercity and travel coaches as well as spare parts and services It also provides a cloudbased platform for freight transportation under the RIO brand name The company offers its products and services under the MAN Scania Navistar and Volkswagen Caminhões e Ônibus brands In addition it provides a range of financial solutions including dealer and customer finance leasing and insurance products The company was founded in 2015 and is based in Munich Germany Traton SE is a subsidiary of Volkswagen Finance Luxemburg SA   \n",
       "\n",
       "                                                                                                                                                                                                                                                                                                                                                                                                                                                                                                                                                                                                                                                                                                                                                                                            lowercased  \\\n",
       "0  traton se manufactures commercial vehicles worldwide it operates in industrial business and financial services segments the company offers light and heavyduty commercial vehicles such as trucks and bus chassis vans construction vehicles city buses and intercity and travel coaches as well as spare parts and services it also provides a cloudbased platform for freight transportation under the rio brand name the company offers its products and services under the man scania navistar and volkswagen caminhões e ônibus brands in addition it provides a range of financial solutions including dealer and customer finance leasing and insurance products the company was founded in 2015 and is based in munich germany traton se is a subsidiary of volkswagen finance luxemburg sa   \n",
       "\n",
       "                                                                                                                                                                                                                                                                                                                                                                                                                                                                                                                                                                                                                                                                                                                                                                                                   tokenized  \\\n",
       "0  [traton, se, manufactures, commercial, vehicles, worldwide, it, operates, in, industrial, business, and, financial, services, segments, the, company, offers, light, and, heavyduty, commercial, vehicles, such, as, trucks, and, bus, chassis, vans, construction, vehicles, city, buses, and, intercity, and, travel, coaches, as, well, as, spare, parts, and, services, it, also, provides, a, cloudbased, platform, for, freight, transportation, under, the, rio, brand, name, the, company, offers, its, products, and, services, under, the, man, scania, navistar, and, volkswagen, caminhões, e, ônibus, brands, in, addition, it, provides, a, range, of, financial, solutions, including, dealer, and, customer, finance, leasing, and, insurance, products, the, company, was, founded, ...]   \n",
       "\n",
       "                                                                                                                                                                                                                                                                                                                                                                                                                                                                                                                                                                                                                                                                                                                            no_stop_words  \n",
       "0  [traton, se, manufactures, commercial, vehicles, worldwide, operates, industrial, business, financial, services, segments, company, offers, light, heavyduty, commercial, vehicles, trucks, bus, chassis, vans, construction, vehicles, city, buses, intercity, travel, coaches, well, spare, parts, services, also, provides, cloudbased, platform, freight, transportation, rio, brand, name, company, offers, products, services, man, scania, navistar, volkswagen, caminhões, e, ônibus, brands, addition, provides, range, financial, solutions, including, dealer, customer, finance, leasing, insurance, products, company, founded, 2015, based, munich, germany, traton, se, subsidiary, volkswagen, finance, luxemburg, sa]  "
      ]
     },
     "execution_count": 12,
     "metadata": {},
     "output_type": "execute_result"
    }
   ],
   "source": [
    "def remove_stopwords(text):\n",
    "    output = [i for i in text if i not in stopWords]\n",
    "    return output\n",
    "\n",
    "df[\"no_stop_words\"] = df[\"tokenized\"].apply(lambda x: remove_stopwords(x))\n",
    "df['companyName'] = df['companyName'].apply(lambda x: remove_stopwords(x))\n",
    "df.head(1)"
   ]
  },
  {
   "cell_type": "markdown",
   "id": "fb938595-0a62-49ef-ab1f-23135afdd426",
   "metadata": {},
   "source": [
    "## Stemming"
   ]
  },
  {
   "cell_type": "code",
   "execution_count": 13,
   "id": "0bdf2bd5-2cd7-407b-8cf6-ff621ceadf61",
   "metadata": {},
   "outputs": [],
   "source": [
    "from nltk.stem.porter import PorterStemmer"
   ]
  },
  {
   "cell_type": "code",
   "execution_count": 14,
   "id": "c24d0ab2-e64e-4264-8fab-cce0dd685f5b",
   "metadata": {},
   "outputs": [
    {
     "data": {
      "text/html": [
       "<div>\n",
       "<style scoped>\n",
       "    .dataframe tbody tr th:only-of-type {\n",
       "        vertical-align: middle;\n",
       "    }\n",
       "\n",
       "    .dataframe tbody tr th {\n",
       "        vertical-align: top;\n",
       "    }\n",
       "\n",
       "    .dataframe thead th {\n",
       "        text-align: right;\n",
       "    }\n",
       "</style>\n",
       "<table border=\"1\" class=\"dataframe\">\n",
       "  <thead>\n",
       "    <tr style=\"text-align: right;\">\n",
       "      <th></th>\n",
       "      <th>companyName</th>\n",
       "      <th>description</th>\n",
       "      <th>puncFree</th>\n",
       "      <th>lowercased</th>\n",
       "      <th>tokenized</th>\n",
       "      <th>no_stop_words</th>\n",
       "      <th>stemmed</th>\n",
       "    </tr>\n",
       "  </thead>\n",
       "  <tbody>\n",
       "    <tr>\n",
       "      <th>0</th>\n",
       "      <td>[traton, se]</td>\n",
       "      <td>Traton SE manufactures commercial vehicles worldwide. It operates in Industrial Business and Financial Services segments. The company offers light and heavy-duty commercial vehicles, such as trucks and bus chassis; vans; construction vehicles; city buses; and intercity and travel coaches, as well as spare parts and services. It also provides a cloud-based platform for freight transportation under the RIO brand name. The company offers its products and services under the MAN, Scania, Navistar, and Volkswagen Caminhões e Ônibus brands. In addition, it provides a range of financial solutions, including dealer and customer finance, leasing, and insurance products. The company was founded in 2015 and is based in Munich, Germany. Traton SE is a subsidiary of Volkswagen Finance Luxemburg S.A.</td>\n",
       "      <td>Traton SE manufactures commercial vehicles worldwide It operates in Industrial Business and Financial Services segments The company offers light and heavyduty commercial vehicles such as trucks and bus chassis vans construction vehicles city buses and intercity and travel coaches as well as spare parts and services It also provides a cloudbased platform for freight transportation under the RIO brand name The company offers its products and services under the MAN Scania Navistar and Volkswagen Caminhões e Ônibus brands In addition it provides a range of financial solutions including dealer and customer finance leasing and insurance products The company was founded in 2015 and is based in Munich Germany Traton SE is a subsidiary of Volkswagen Finance Luxemburg SA</td>\n",
       "      <td>traton se manufactures commercial vehicles worldwide it operates in industrial business and financial services segments the company offers light and heavyduty commercial vehicles such as trucks and bus chassis vans construction vehicles city buses and intercity and travel coaches as well as spare parts and services it also provides a cloudbased platform for freight transportation under the rio brand name the company offers its products and services under the man scania navistar and volkswagen caminhões e ônibus brands in addition it provides a range of financial solutions including dealer and customer finance leasing and insurance products the company was founded in 2015 and is based in munich germany traton se is a subsidiary of volkswagen finance luxemburg sa</td>\n",
       "      <td>[traton, se, manufactures, commercial, vehicles, worldwide, it, operates, in, industrial, business, and, financial, services, segments, the, company, offers, light, and, heavyduty, commercial, vehicles, such, as, trucks, and, bus, chassis, vans, construction, vehicles, city, buses, and, intercity, and, travel, coaches, as, well, as, spare, parts, and, services, it, also, provides, a, cloudbased, platform, for, freight, transportation, under, the, rio, brand, name, the, company, offers, its, products, and, services, under, the, man, scania, navistar, and, volkswagen, caminhões, e, ônibus, brands, in, addition, it, provides, a, range, of, financial, solutions, including, dealer, and, customer, finance, leasing, and, insurance, products, the, company, was, founded, ...]</td>\n",
       "      <td>[traton, se, manufactures, commercial, vehicles, worldwide, operates, industrial, business, financial, services, segments, company, offers, light, heavyduty, commercial, vehicles, trucks, bus, chassis, vans, construction, vehicles, city, buses, intercity, travel, coaches, well, spare, parts, services, also, provides, cloudbased, platform, freight, transportation, rio, brand, name, company, offers, products, services, man, scania, navistar, volkswagen, caminhões, e, ônibus, brands, addition, provides, range, financial, solutions, including, dealer, customer, finance, leasing, insurance, products, company, founded, 2015, based, munich, germany, traton, se, subsidiary, volkswagen, finance, luxemburg, sa]</td>\n",
       "      <td>[traton, se, manufactur, commerci, vehicl, worldwid, oper, industri, busi, financi, servic, segment, compani, offer, light, heavyduti, commerci, vehicl, truck, bu, chassi, van, construct, vehicl, citi, buse, interc, travel, coach, well, spare, part, servic, also, provid, cloudbas, platform, freight, transport, rio, brand, name, compani, offer, product, servic, man, scania, navistar, volkswagen, caminhõ, e, ônibu, brand, addit, provid, rang, financi, solut, includ, dealer, custom, financ, leas, insur, product, compani, found, 2015, base, munich, germani, traton, se, subsidiari, volkswagen, financ, luxemburg, sa]</td>\n",
       "    </tr>\n",
       "  </tbody>\n",
       "</table>\n",
       "</div>"
      ],
      "text/plain": [
       "    companyName  \\\n",
       "0  [traton, se]   \n",
       "\n",
       "                                                                                                                                                                                                                                                                                                                                                                                                                                                                                                                                                                                                                                                                                                                                                                                                                    description  \\\n",
       "0  Traton SE manufactures commercial vehicles worldwide. It operates in Industrial Business and Financial Services segments. The company offers light and heavy-duty commercial vehicles, such as trucks and bus chassis; vans; construction vehicles; city buses; and intercity and travel coaches, as well as spare parts and services. It also provides a cloud-based platform for freight transportation under the RIO brand name. The company offers its products and services under the MAN, Scania, Navistar, and Volkswagen Caminhões e Ônibus brands. In addition, it provides a range of financial solutions, including dealer and customer finance, leasing, and insurance products. The company was founded in 2015 and is based in Munich, Germany. Traton SE is a subsidiary of Volkswagen Finance Luxemburg S.A.   \n",
       "\n",
       "                                                                                                                                                                                                                                                                                                                                                                                                                                                                                                                                                                                                                                                                                                                                                                                              puncFree  \\\n",
       "0  Traton SE manufactures commercial vehicles worldwide It operates in Industrial Business and Financial Services segments The company offers light and heavyduty commercial vehicles such as trucks and bus chassis vans construction vehicles city buses and intercity and travel coaches as well as spare parts and services It also provides a cloudbased platform for freight transportation under the RIO brand name The company offers its products and services under the MAN Scania Navistar and Volkswagen Caminhões e Ônibus brands In addition it provides a range of financial solutions including dealer and customer finance leasing and insurance products The company was founded in 2015 and is based in Munich Germany Traton SE is a subsidiary of Volkswagen Finance Luxemburg SA   \n",
       "\n",
       "                                                                                                                                                                                                                                                                                                                                                                                                                                                                                                                                                                                                                                                                                                                                                                                            lowercased  \\\n",
       "0  traton se manufactures commercial vehicles worldwide it operates in industrial business and financial services segments the company offers light and heavyduty commercial vehicles such as trucks and bus chassis vans construction vehicles city buses and intercity and travel coaches as well as spare parts and services it also provides a cloudbased platform for freight transportation under the rio brand name the company offers its products and services under the man scania navistar and volkswagen caminhões e ônibus brands in addition it provides a range of financial solutions including dealer and customer finance leasing and insurance products the company was founded in 2015 and is based in munich germany traton se is a subsidiary of volkswagen finance luxemburg sa   \n",
       "\n",
       "                                                                                                                                                                                                                                                                                                                                                                                                                                                                                                                                                                                                                                                                                                                                                                                                   tokenized  \\\n",
       "0  [traton, se, manufactures, commercial, vehicles, worldwide, it, operates, in, industrial, business, and, financial, services, segments, the, company, offers, light, and, heavyduty, commercial, vehicles, such, as, trucks, and, bus, chassis, vans, construction, vehicles, city, buses, and, intercity, and, travel, coaches, as, well, as, spare, parts, and, services, it, also, provides, a, cloudbased, platform, for, freight, transportation, under, the, rio, brand, name, the, company, offers, its, products, and, services, under, the, man, scania, navistar, and, volkswagen, caminhões, e, ônibus, brands, in, addition, it, provides, a, range, of, financial, solutions, including, dealer, and, customer, finance, leasing, and, insurance, products, the, company, was, founded, ...]   \n",
       "\n",
       "                                                                                                                                                                                                                                                                                                                                                                                                                                                                                                                                                                                                                                                                                                                            no_stop_words  \\\n",
       "0  [traton, se, manufactures, commercial, vehicles, worldwide, operates, industrial, business, financial, services, segments, company, offers, light, heavyduty, commercial, vehicles, trucks, bus, chassis, vans, construction, vehicles, city, buses, intercity, travel, coaches, well, spare, parts, services, also, provides, cloudbased, platform, freight, transportation, rio, brand, name, company, offers, products, services, man, scania, navistar, volkswagen, caminhões, e, ônibus, brands, addition, provides, range, financial, solutions, including, dealer, customer, finance, leasing, insurance, products, company, founded, 2015, based, munich, germany, traton, se, subsidiary, volkswagen, finance, luxemburg, sa]   \n",
       "\n",
       "                                                                                                                                                                                                                                                                                                                                                                                                                                                                                                                                                                                                                                      stemmed  \n",
       "0  [traton, se, manufactur, commerci, vehicl, worldwid, oper, industri, busi, financi, servic, segment, compani, offer, light, heavyduti, commerci, vehicl, truck, bu, chassi, van, construct, vehicl, citi, buse, interc, travel, coach, well, spare, part, servic, also, provid, cloudbas, platform, freight, transport, rio, brand, name, compani, offer, product, servic, man, scania, navistar, volkswagen, caminhõ, e, ônibu, brand, addit, provid, rang, financi, solut, includ, dealer, custom, financ, leas, insur, product, compani, found, 2015, base, munich, germani, traton, se, subsidiari, volkswagen, financ, luxemburg, sa]  "
      ]
     },
     "execution_count": 14,
     "metadata": {},
     "output_type": "execute_result"
    }
   ],
   "source": [
    "porter_stemmer = PorterStemmer()\n",
    "\n",
    "def stemming(text):\n",
    "    stem_text = [porter_stemmer.stem(word) for word in text]\n",
    "    return stem_text\n",
    "\n",
    "df['stemmed'] = df['no_stop_words'].apply(lambda x: stemming(x))\n",
    "df.head(1)"
   ]
  },
  {
   "cell_type": "markdown",
   "id": "4c5ecd12-3133-479c-8eae-e1e081e8c45b",
   "metadata": {},
   "source": [
    "## Lemmatization "
   ]
  },
  {
   "cell_type": "code",
   "execution_count": 15,
   "id": "c30b5caf-6859-4065-b2fc-d5e692d55748",
   "metadata": {},
   "outputs": [],
   "source": [
    "from nltk.stem import WordNetLemmatizer"
   ]
  },
  {
   "cell_type": "code",
   "execution_count": 16,
   "id": "84ff6a41-d47d-4b53-827e-1fbbec7c1398",
   "metadata": {},
   "outputs": [
    {
     "data": {
      "text/html": [
       "<div>\n",
       "<style scoped>\n",
       "    .dataframe tbody tr th:only-of-type {\n",
       "        vertical-align: middle;\n",
       "    }\n",
       "\n",
       "    .dataframe tbody tr th {\n",
       "        vertical-align: top;\n",
       "    }\n",
       "\n",
       "    .dataframe thead th {\n",
       "        text-align: right;\n",
       "    }\n",
       "</style>\n",
       "<table border=\"1\" class=\"dataframe\">\n",
       "  <thead>\n",
       "    <tr style=\"text-align: right;\">\n",
       "      <th></th>\n",
       "      <th>companyName</th>\n",
       "      <th>description</th>\n",
       "      <th>puncFree</th>\n",
       "      <th>lowercased</th>\n",
       "      <th>tokenized</th>\n",
       "      <th>no_stop_words</th>\n",
       "      <th>stemmed</th>\n",
       "      <th>lemmatized</th>\n",
       "    </tr>\n",
       "  </thead>\n",
       "  <tbody>\n",
       "    <tr>\n",
       "      <th>0</th>\n",
       "      <td>[traton, se]</td>\n",
       "      <td>Traton SE manufactures commercial vehicles worldwide. It operates in Industrial Business and Financial Services segments. The company offers light and heavy-duty commercial vehicles, such as trucks and bus chassis; vans; construction vehicles; city buses; and intercity and travel coaches, as well as spare parts and services. It also provides a cloud-based platform for freight transportation under the RIO brand name. The company offers its products and services under the MAN, Scania, Navistar, and Volkswagen Caminhões e Ônibus brands. In addition, it provides a range of financial solutions, including dealer and customer finance, leasing, and insurance products. The company was founded in 2015 and is based in Munich, Germany. Traton SE is a subsidiary of Volkswagen Finance Luxemburg S.A.</td>\n",
       "      <td>Traton SE manufactures commercial vehicles worldwide It operates in Industrial Business and Financial Services segments The company offers light and heavyduty commercial vehicles such as trucks and bus chassis vans construction vehicles city buses and intercity and travel coaches as well as spare parts and services It also provides a cloudbased platform for freight transportation under the RIO brand name The company offers its products and services under the MAN Scania Navistar and Volkswagen Caminhões e Ônibus brands In addition it provides a range of financial solutions including dealer and customer finance leasing and insurance products The company was founded in 2015 and is based in Munich Germany Traton SE is a subsidiary of Volkswagen Finance Luxemburg SA</td>\n",
       "      <td>traton se manufactures commercial vehicles worldwide it operates in industrial business and financial services segments the company offers light and heavyduty commercial vehicles such as trucks and bus chassis vans construction vehicles city buses and intercity and travel coaches as well as spare parts and services it also provides a cloudbased platform for freight transportation under the rio brand name the company offers its products and services under the man scania navistar and volkswagen caminhões e ônibus brands in addition it provides a range of financial solutions including dealer and customer finance leasing and insurance products the company was founded in 2015 and is based in munich germany traton se is a subsidiary of volkswagen finance luxemburg sa</td>\n",
       "      <td>[traton, se, manufactures, commercial, vehicles, worldwide, it, operates, in, industrial, business, and, financial, services, segments, the, company, offers, light, and, heavyduty, commercial, vehicles, such, as, trucks, and, bus, chassis, vans, construction, vehicles, city, buses, and, intercity, and, travel, coaches, as, well, as, spare, parts, and, services, it, also, provides, a, cloudbased, platform, for, freight, transportation, under, the, rio, brand, name, the, company, offers, its, products, and, services, under, the, man, scania, navistar, and, volkswagen, caminhões, e, ônibus, brands, in, addition, it, provides, a, range, of, financial, solutions, including, dealer, and, customer, finance, leasing, and, insurance, products, the, company, was, founded, ...]</td>\n",
       "      <td>[traton, se, manufactures, commercial, vehicles, worldwide, operates, industrial, business, financial, services, segments, company, offers, light, heavyduty, commercial, vehicles, trucks, bus, chassis, vans, construction, vehicles, city, buses, intercity, travel, coaches, well, spare, parts, services, also, provides, cloudbased, platform, freight, transportation, rio, brand, name, company, offers, products, services, man, scania, navistar, volkswagen, caminhões, e, ônibus, brands, addition, provides, range, financial, solutions, including, dealer, customer, finance, leasing, insurance, products, company, founded, 2015, based, munich, germany, traton, se, subsidiary, volkswagen, finance, luxemburg, sa]</td>\n",
       "      <td>[traton, se, manufactur, commerci, vehicl, worldwid, oper, industri, busi, financi, servic, segment, compani, offer, light, heavyduti, commerci, vehicl, truck, bu, chassi, van, construct, vehicl, citi, buse, interc, travel, coach, well, spare, part, servic, also, provid, cloudbas, platform, freight, transport, rio, brand, name, compani, offer, product, servic, man, scania, navistar, volkswagen, caminhõ, e, ônibu, brand, addit, provid, rang, financi, solut, includ, dealer, custom, financ, leas, insur, product, compani, found, 2015, base, munich, germani, traton, se, subsidiari, volkswagen, financ, luxemburg, sa]</td>\n",
       "      <td>[traton, se, manufacture, commercial, vehicle, worldwide, operates, industrial, business, financial, service, segment, company, offer, light, heavyduty, commercial, vehicle, truck, bus, chassis, van, construction, vehicle, city, bus, intercity, travel, coach, well, spare, part, service, also, provides, cloudbased, platform, freight, transportation, rio, brand, name, company, offer, product, service, man, scania, navistar, volkswagen, caminhões, e, ônibus, brand, addition, provides, range, financial, solution, including, dealer, customer, finance, leasing, insurance, product, company, founded, 2015, based, munich, germany, traton, se, subsidiary, volkswagen, finance, luxemburg, sa]</td>\n",
       "    </tr>\n",
       "  </tbody>\n",
       "</table>\n",
       "</div>"
      ],
      "text/plain": [
       "    companyName  \\\n",
       "0  [traton, se]   \n",
       "\n",
       "                                                                                                                                                                                                                                                                                                                                                                                                                                                                                                                                                                                                                                                                                                                                                                                                                    description  \\\n",
       "0  Traton SE manufactures commercial vehicles worldwide. It operates in Industrial Business and Financial Services segments. The company offers light and heavy-duty commercial vehicles, such as trucks and bus chassis; vans; construction vehicles; city buses; and intercity and travel coaches, as well as spare parts and services. It also provides a cloud-based platform for freight transportation under the RIO brand name. The company offers its products and services under the MAN, Scania, Navistar, and Volkswagen Caminhões e Ônibus brands. In addition, it provides a range of financial solutions, including dealer and customer finance, leasing, and insurance products. The company was founded in 2015 and is based in Munich, Germany. Traton SE is a subsidiary of Volkswagen Finance Luxemburg S.A.   \n",
       "\n",
       "                                                                                                                                                                                                                                                                                                                                                                                                                                                                                                                                                                                                                                                                                                                                                                                              puncFree  \\\n",
       "0  Traton SE manufactures commercial vehicles worldwide It operates in Industrial Business and Financial Services segments The company offers light and heavyduty commercial vehicles such as trucks and bus chassis vans construction vehicles city buses and intercity and travel coaches as well as spare parts and services It also provides a cloudbased platform for freight transportation under the RIO brand name The company offers its products and services under the MAN Scania Navistar and Volkswagen Caminhões e Ônibus brands In addition it provides a range of financial solutions including dealer and customer finance leasing and insurance products The company was founded in 2015 and is based in Munich Germany Traton SE is a subsidiary of Volkswagen Finance Luxemburg SA   \n",
       "\n",
       "                                                                                                                                                                                                                                                                                                                                                                                                                                                                                                                                                                                                                                                                                                                                                                                            lowercased  \\\n",
       "0  traton se manufactures commercial vehicles worldwide it operates in industrial business and financial services segments the company offers light and heavyduty commercial vehicles such as trucks and bus chassis vans construction vehicles city buses and intercity and travel coaches as well as spare parts and services it also provides a cloudbased platform for freight transportation under the rio brand name the company offers its products and services under the man scania navistar and volkswagen caminhões e ônibus brands in addition it provides a range of financial solutions including dealer and customer finance leasing and insurance products the company was founded in 2015 and is based in munich germany traton se is a subsidiary of volkswagen finance luxemburg sa   \n",
       "\n",
       "                                                                                                                                                                                                                                                                                                                                                                                                                                                                                                                                                                                                                                                                                                                                                                                                   tokenized  \\\n",
       "0  [traton, se, manufactures, commercial, vehicles, worldwide, it, operates, in, industrial, business, and, financial, services, segments, the, company, offers, light, and, heavyduty, commercial, vehicles, such, as, trucks, and, bus, chassis, vans, construction, vehicles, city, buses, and, intercity, and, travel, coaches, as, well, as, spare, parts, and, services, it, also, provides, a, cloudbased, platform, for, freight, transportation, under, the, rio, brand, name, the, company, offers, its, products, and, services, under, the, man, scania, navistar, and, volkswagen, caminhões, e, ônibus, brands, in, addition, it, provides, a, range, of, financial, solutions, including, dealer, and, customer, finance, leasing, and, insurance, products, the, company, was, founded, ...]   \n",
       "\n",
       "                                                                                                                                                                                                                                                                                                                                                                                                                                                                                                                                                                                                                                                                                                                            no_stop_words  \\\n",
       "0  [traton, se, manufactures, commercial, vehicles, worldwide, operates, industrial, business, financial, services, segments, company, offers, light, heavyduty, commercial, vehicles, trucks, bus, chassis, vans, construction, vehicles, city, buses, intercity, travel, coaches, well, spare, parts, services, also, provides, cloudbased, platform, freight, transportation, rio, brand, name, company, offers, products, services, man, scania, navistar, volkswagen, caminhões, e, ônibus, brands, addition, provides, range, financial, solutions, including, dealer, customer, finance, leasing, insurance, products, company, founded, 2015, based, munich, germany, traton, se, subsidiary, volkswagen, finance, luxemburg, sa]   \n",
       "\n",
       "                                                                                                                                                                                                                                                                                                                                                                                                                                                                                                                                                                                                                                      stemmed  \\\n",
       "0  [traton, se, manufactur, commerci, vehicl, worldwid, oper, industri, busi, financi, servic, segment, compani, offer, light, heavyduti, commerci, vehicl, truck, bu, chassi, van, construct, vehicl, citi, buse, interc, travel, coach, well, spare, part, servic, also, provid, cloudbas, platform, freight, transport, rio, brand, name, compani, offer, product, servic, man, scania, navistar, volkswagen, caminhõ, e, ônibu, brand, addit, provid, rang, financi, solut, includ, dealer, custom, financ, leas, insur, product, compani, found, 2015, base, munich, germani, traton, se, subsidiari, volkswagen, financ, luxemburg, sa]   \n",
       "\n",
       "                                                                                                                                                                                                                                                                                                                                                                                                                                                                                                                                                                                                                                                                                                          lemmatized  \n",
       "0  [traton, se, manufacture, commercial, vehicle, worldwide, operates, industrial, business, financial, service, segment, company, offer, light, heavyduty, commercial, vehicle, truck, bus, chassis, van, construction, vehicle, city, bus, intercity, travel, coach, well, spare, part, service, also, provides, cloudbased, platform, freight, transportation, rio, brand, name, company, offer, product, service, man, scania, navistar, volkswagen, caminhões, e, ônibus, brand, addition, provides, range, financial, solution, including, dealer, customer, finance, leasing, insurance, product, company, founded, 2015, based, munich, germany, traton, se, subsidiary, volkswagen, finance, luxemburg, sa]  "
      ]
     },
     "execution_count": 16,
     "metadata": {},
     "output_type": "execute_result"
    }
   ],
   "source": [
    "wordnet_lemmatizer = WordNetLemmatizer()\n",
    "\n",
    "def lemmatizer(text):\n",
    "    lemm_text = [wordnet_lemmatizer.lemmatize(word) for word in text]\n",
    "    return lemm_text\n",
    "\n",
    "df['lemmatized'] = df['no_stop_words'].apply(lambda x:lemmatizer(x))\n",
    "df['companyName'] = df['companyName'].apply(lambda x: lemmatizer(x))\n",
    "df.head(1)"
   ]
  },
  {
   "cell_type": "markdown",
   "id": "47a9f227-df0e-4d19-a2f9-dac36c455911",
   "metadata": {},
   "source": [
    "# Model Training"
   ]
  },
  {
   "cell_type": "code",
   "execution_count": 19,
   "id": "4b3f36c0-1ca8-4fe0-8c06-df944e4d62d7",
   "metadata": {},
   "outputs": [],
   "source": [
    "import os\n",
    "\n",
    "os.environ[\"KERAS_BACKEND\"] = \"tensorflow\"\n",
    "\n",
    "import keras_nlp\n",
    "import tensorflow as tf\n",
    "import keras_core as keras\n",
    "import time"
   ]
  },
  {
   "cell_type": "code",
   "execution_count": 20,
   "id": "8ffa77aa-44b6-416e-a035-52269877b532",
   "metadata": {},
   "outputs": [],
   "source": [
    "preprocessor = keras_nlp.models.GPT2CausalLMPreprocessor.from_preset(\n",
    "    \"gpt2_base_en\", sequence_length=128)\n",
    "\n",
    "gpt2_lm = keras_nlp.models.GPT2CausalLM.from_preset(\n",
    "    \"gpt2_base_en\", preprocessor=preprocessor)"
   ]
  },
  {
   "cell_type": "code",
   "execution_count": null,
   "id": "0ddece6a-a11b-4633-b92a-2bb4a5523374",
   "metadata": {},
   "outputs": [],
   "source": [
    "start = time.time()\n",
    "\n",
    "output = gpt2_lm.generate(\"how is the weather today in Kaiserslautern?\",max_length=200)\n",
    "print(\"\\nGPT-2 OUTPUT:\")\n",
    "print(output)\n",
    "\n",
    "end = time.time()\n",
    "print(f\"TOTAL TIME ELAPSED: {end - start:.2f}s\")"
   ]
  },
  {
   "cell_type": "markdown",
   "id": "e9df40e8-2d7b-46b3-8064-0099ea5ab1f4",
   "metadata": {},
   "source": [
    "## Vectorization / Word Embedding"
   ]
  },
  {
   "cell_type": "code",
   "execution_count": 21,
   "id": "c7ec2317-ecac-4a3e-8028-72d9270062e3",
   "metadata": {},
   "outputs": [],
   "source": [
    "from sklearn.feature_extraction.text import CountVectorizer"
   ]
  },
  {
   "cell_type": "code",
   "execution_count": 22,
   "id": "d7634e81-346f-492d-af44-79ed7ef0c872",
   "metadata": {},
   "outputs": [
    {
     "data": {
      "text/html": [
       "<div>\n",
       "<style scoped>\n",
       "    .dataframe tbody tr th:only-of-type {\n",
       "        vertical-align: middle;\n",
       "    }\n",
       "\n",
       "    .dataframe tbody tr th {\n",
       "        vertical-align: top;\n",
       "    }\n",
       "\n",
       "    .dataframe thead th {\n",
       "        text-align: right;\n",
       "    }\n",
       "</style>\n",
       "<table border=\"1\" class=\"dataframe\">\n",
       "  <thead>\n",
       "    <tr style=\"text-align: right;\">\n",
       "      <th></th>\n",
       "      <th>companyName</th>\n",
       "      <th>lemmatized</th>\n",
       "    </tr>\n",
       "  </thead>\n",
       "  <tbody>\n",
       "    <tr>\n",
       "      <th>0</th>\n",
       "      <td>[traton, se]</td>\n",
       "      <td>[traton, se, manufacture, commercial, vehicle, worldwide, operates, industrial, business, financial, service, segment, company, offer, light, heavyduty, commercial, vehicle, truck, bus, chassis, van, construction, vehicle, city, bus, intercity, travel, coach, well, spare, part, service, also, provides, cloudbased, platform, freight, transportation, rio, brand, name, company, offer, product, service, man, scania, navistar, volkswagen, caminhões, e, ônibus, brand, addition, provides, range, financial, solution, including, dealer, customer, finance, leasing, insurance, product, company, founded, 2015, based, munich, germany, traton, se, subsidiary, volkswagen, finance, luxemburg, sa]</td>\n",
       "    </tr>\n",
       "    <tr>\n",
       "      <th>1</th>\n",
       "      <td>[2g, energy, ag]</td>\n",
       "      <td>[2g, energy, ag, together, subsidiary, develops, manufacture, installs, combined, heat, power, chp, system, system, recovery, electrical, energy, germany, internationally, offer, decentralized, power, heat, gas, motor, driven, natural, gas, biomethane, biogas, sewage, gas, landfill, gas, hydrogen, electrical, output, 20, 4500, kw, company, product, include, gbox, natural, gas, chp, plant, electrical, output, 20, kw, 50, kw, aura, chp, plant, output, range, 100, kw, 420, kw, patruus, biogas, natural, gas, chp, plant, output, range, 50, kw, 263, kw, agenitor, chp, plant, capacity, 220, kw, 450, kw, avus, chp, plant, electrical, output, range, 400, kw, 4000, kw, also, engages, rental, leasing, chp, plant, company, ...]</td>\n",
       "    </tr>\n",
       "    <tr>\n",
       "      <th>2</th>\n",
       "      <td>[mtu, aero, engine, ag]</td>\n",
       "      <td>[mtu, aero, engine, ag, together, subsidiary, develops, manufacture, market, maintains, commercial, military, engine, aero, derivative, industrial, gas, turbine, germany, european, country, north, america, asia, internationally, operates, two, segment, commercial, military, engine, business, commercial, maintenance, business, company, offer, commercial, aircraft, engine, wide, body, jet, narrow, body, regional, jet, business, jet, military, aircraft, engine, fighter, aircraft, helicopter, transport, aircraft, industrial, gas, turbine, also, maintains, repair, overhaul, commercial, military, engine, manufacture, market, various, brush, seal, company, formerly, known, mtu, aero, engine, holding, ag, changed, name, mtu, aero, engine, ag, may, 2013, mtu, aero, engine, ag, founded, 1913, headquartered, munich, germany]</td>\n",
       "    </tr>\n",
       "    <tr>\n",
       "      <th>3</th>\n",
       "      <td>[deutsche, lufthansa, ag]</td>\n",
       "      <td>[deutsche, lufthansa, ag, operates, aviation, company, germany, internationally, company, network, airline, segment, offer, passenger, service, eurowings, segment, provides, passenger, service, route, network, 100, destination, 50, country, company, logistics, business, segment, offer, transport, service, various, cargo, including, general, cargo, dangerous, good, valuable, vulnerable, perishable, live, animal, courier, emergency, airmailecommerce, temperature, sensitive, good, service, approximately, 300, destination, 100, country, maintenance, repair, overhaul, service, mro, segment, provides, maintenance, repair, overhaul, service, civilian, commercial, aircraft, serving, original, equipment, manufacturer, aircraft, leasing, company, operator, vip, jet, airline, company, catering, business, segment, engages, inflight, service, convenience, retail, well, area, retail, food, producer, december, 31, 2021, fleet, ...]</td>\n",
       "    </tr>\n",
       "    <tr>\n",
       "      <th>4</th>\n",
       "      <td>[siemens, energy, ag]</td>\n",
       "      <td>[siemens, energy, ag, operates, energy, technology, company, worldwide, operates, two, segment, gas, power, siemens, gamesa, renewable, energy, company, provides, gas, steam, turbine, generator, gas, engine, instrumentation, control, electrical, system, well, performance, enhancement, maintenance, customer, training, professional, consulting, service, central, distributed, power, generation, transformer, air, gasinsulated, switchgears, ac, transmission, system, offshore, windfarm, grid, connection, high, voltage, direct, current, transmission, system, high, voltage, substation, digital, solution, component, product, also, offer, rotating, equipment, includes, industrial, aeroderivative, gas, turbine, turbo, reciprocating, compressor, power, generation, product, compression, train, module, well, solution, field, electrification, automation, digitization, plant, safety, plant, security, water, treatment, addition, company, develops, technology, ...]</td>\n",
       "    </tr>\n",
       "  </tbody>\n",
       "</table>\n",
       "</div>"
      ],
      "text/plain": [
       "                 companyName  \\\n",
       "0               [traton, se]   \n",
       "1           [2g, energy, ag]   \n",
       "2    [mtu, aero, engine, ag]   \n",
       "3  [deutsche, lufthansa, ag]   \n",
       "4      [siemens, energy, ag]   \n",
       "\n",
       "                                                                                                                                                                                                                                                                                                                                                                                                                                                                                                                                                                                                                                                                                                                                                                                                                                                                                                                                                                                          lemmatized  \n",
       "0                                                                                                                                                                                                                                                                                  [traton, se, manufacture, commercial, vehicle, worldwide, operates, industrial, business, financial, service, segment, company, offer, light, heavyduty, commercial, vehicle, truck, bus, chassis, van, construction, vehicle, city, bus, intercity, travel, coach, well, spare, part, service, also, provides, cloudbased, platform, freight, transportation, rio, brand, name, company, offer, product, service, man, scania, navistar, volkswagen, caminhões, e, ônibus, brand, addition, provides, range, financial, solution, including, dealer, customer, finance, leasing, insurance, product, company, founded, 2015, based, munich, germany, traton, se, subsidiary, volkswagen, finance, luxemburg, sa]  \n",
       "1                                                                                                                                                                                                                                              [2g, energy, ag, together, subsidiary, develops, manufacture, installs, combined, heat, power, chp, system, system, recovery, electrical, energy, germany, internationally, offer, decentralized, power, heat, gas, motor, driven, natural, gas, biomethane, biogas, sewage, gas, landfill, gas, hydrogen, electrical, output, 20, 4500, kw, company, product, include, gbox, natural, gas, chp, plant, electrical, output, 20, kw, 50, kw, aura, chp, plant, output, range, 100, kw, 420, kw, patruus, biogas, natural, gas, chp, plant, output, range, 50, kw, 263, kw, agenitor, chp, plant, capacity, 220, kw, 450, kw, avus, chp, plant, electrical, output, range, 400, kw, 4000, kw, also, engages, rental, leasing, chp, plant, company, ...]  \n",
       "2                                                                                                                                          [mtu, aero, engine, ag, together, subsidiary, develops, manufacture, market, maintains, commercial, military, engine, aero, derivative, industrial, gas, turbine, germany, european, country, north, america, asia, internationally, operates, two, segment, commercial, military, engine, business, commercial, maintenance, business, company, offer, commercial, aircraft, engine, wide, body, jet, narrow, body, regional, jet, business, jet, military, aircraft, engine, fighter, aircraft, helicopter, transport, aircraft, industrial, gas, turbine, also, maintains, repair, overhaul, commercial, military, engine, manufacture, market, various, brush, seal, company, formerly, known, mtu, aero, engine, holding, ag, changed, name, mtu, aero, engine, ag, may, 2013, mtu, aero, engine, ag, founded, 1913, headquartered, munich, germany]  \n",
       "3                                 [deutsche, lufthansa, ag, operates, aviation, company, germany, internationally, company, network, airline, segment, offer, passenger, service, eurowings, segment, provides, passenger, service, route, network, 100, destination, 50, country, company, logistics, business, segment, offer, transport, service, various, cargo, including, general, cargo, dangerous, good, valuable, vulnerable, perishable, live, animal, courier, emergency, airmailecommerce, temperature, sensitive, good, service, approximately, 300, destination, 100, country, maintenance, repair, overhaul, service, mro, segment, provides, maintenance, repair, overhaul, service, civilian, commercial, aircraft, serving, original, equipment, manufacturer, aircraft, leasing, company, operator, vip, jet, airline, company, catering, business, segment, engages, inflight, service, convenience, retail, well, area, retail, food, producer, december, 31, 2021, fleet, ...]  \n",
       "4  [siemens, energy, ag, operates, energy, technology, company, worldwide, operates, two, segment, gas, power, siemens, gamesa, renewable, energy, company, provides, gas, steam, turbine, generator, gas, engine, instrumentation, control, electrical, system, well, performance, enhancement, maintenance, customer, training, professional, consulting, service, central, distributed, power, generation, transformer, air, gasinsulated, switchgears, ac, transmission, system, offshore, windfarm, grid, connection, high, voltage, direct, current, transmission, system, high, voltage, substation, digital, solution, component, product, also, offer, rotating, equipment, includes, industrial, aeroderivative, gas, turbine, turbo, reciprocating, compressor, power, generation, product, compression, train, module, well, solution, field, electrification, automation, digitization, plant, safety, plant, security, water, treatment, addition, company, develops, technology, ...]  "
      ]
     },
     "execution_count": 22,
     "metadata": {},
     "output_type": "execute_result"
    }
   ],
   "source": [
    "df_new = df.copy()\n",
    "df_new = df_new.drop(columns=['description','puncFree','lowercased','tokenized','no_stop_words','stemmed'])\n",
    "df_new.head()"
   ]
  },
  {
   "cell_type": "code",
   "execution_count": 23,
   "id": "0437b98c-9d86-4b86-9474-7ed0dc4fa9b9",
   "metadata": {},
   "outputs": [],
   "source": [
    "df_new['lemmatized'] = df_new['lemmatized'].apply(lambda x: ','.join(map(str, x)))\n",
    "df_new['companyName'] = df_new['companyName'].apply(lambda x: ','.join(map(str, x)))"
   ]
  },
  {
   "cell_type": "code",
   "execution_count": 24,
   "id": "a160e51e-3e00-49ec-a233-058791f1a165",
   "metadata": {},
   "outputs": [
    {
     "data": {
      "text/plain": [
       "0    traton,se,manufacture,commercial,vehicle,worldwide,operates,industrial,business,financial,service,segment,company,offer,light,heavyduty,commercial,vehicle,truck,bus,chassis,van,construction,vehicle,city,bus,intercity,travel,coach,well,spare,part,service,also,provides,cloudbased,platform,freight,transportation,rio,brand,name,company,offer,product,service,man,scania,navistar,volkswagen,caminhões,e,ônibus,brand,addition,provides,range,financial,solution,including,dealer,customer,finance,leasing,insurance,product,company,founded,2015,based,munich,germany,traton,se,subsidiary,volkswagen,finance,luxemburg,sa\n",
       "Name: lemmatized, dtype: object"
      ]
     },
     "execution_count": 24,
     "metadata": {},
     "output_type": "execute_result"
    }
   ],
   "source": [
    "df_new['lemmatized'].head(1)"
   ]
  },
  {
   "cell_type": "code",
   "execution_count": 25,
   "id": "cea4bb8e-304b-4888-a92e-28adf94e821d",
   "metadata": {},
   "outputs": [
    {
     "name": "stdout",
     "output_type": "stream",
     "text": [
      "[[0 0 0 ... 0 0 1]\n",
      " [0 1 0 ... 0 0 0]\n",
      " [0 0 0 ... 0 0 0]\n",
      " ...\n",
      " [0 0 0 ... 0 0 0]\n",
      " [0 0 0 ... 0 0 0]\n",
      " [0 0 0 ... 0 0 0]]\n"
     ]
    }
   ],
   "source": [
    "corpus = df_new['lemmatized']\n",
    "countvectorizer = CountVectorizer()\n",
    "x = countvectorizer.fit_transform(corpus)\n",
    "result1 = x.toarray()\n",
    "print(result1)"
   ]
  },
  {
   "cell_type": "code",
   "execution_count": 26,
   "id": "3443597c-0aea-42f1-8940-11bf94a8a3e6",
   "metadata": {},
   "outputs": [
    {
     "name": "stdout",
     "output_type": "stream",
     "text": [
      "[[0 0 0 ... 0 0 0]\n",
      " [1 0 0 ... 0 0 0]\n",
      " [0 0 0 ... 0 0 0]\n",
      " ...\n",
      " [0 0 0 ... 0 0 0]\n",
      " [0 0 0 ... 0 0 0]\n",
      " [0 0 0 ... 0 0 0]]\n"
     ]
    }
   ],
   "source": [
    "corpus = df_new['companyName']\n",
    "countvectorizer = CountVectorizer()\n",
    "x = countvectorizer.fit_transform(corpus)\n",
    "result2 = x.toarray()\n",
    "print(result2)"
   ]
  },
  {
   "cell_type": "code",
   "execution_count": null,
   "id": "93d77d35-7953-4b20-aa04-a093e920fe98",
   "metadata": {},
   "outputs": [],
   "source": [
    "# from sklearn.preprocessing import StandardScaler\n",
    "# scaler = StandardScaler().fit(result)\n",
    "# train = scaler.transform(result)"
   ]
  },
  {
   "cell_type": "code",
   "execution_count": null,
   "id": "3ee14d1c-cc40-4d60-9f75-5f7dffe10afd",
   "metadata": {},
   "outputs": [],
   "source": [
    "# mask = np.tile(1,(190, 2797))\n",
    "# mask.shape\n",
    "# mask = np.reshape(mask,(190,-1))\n",
    "# mask.shape"
   ]
  },
  {
   "cell_type": "code",
   "execution_count": null,
   "id": "44bddeff-d6a6-4f26-9f5b-72ea0e21e04c",
   "metadata": {},
   "outputs": [],
   "source": [
    "# sampleWeight = np.tile(1,(190, 2797))\n",
    "# sampleWeight = np.reshape(sampleWeight,(190,-1))"
   ]
  },
  {
   "cell_type": "code",
   "execution_count": 27,
   "id": "640d06b0-39a8-4f4e-b8bd-ec4fd95c89a5",
   "metadata": {},
   "outputs": [
    {
     "name": "stderr",
     "output_type": "stream",
     "text": [
      "2023-08-16 17:11:19.600355: I tensorflow/compiler/xla/service/service.cc:168] XLA service 0x7f75e80181a0 initialized for platform Host (this does not guarantee that XLA will be used). Devices:\n",
      "2023-08-16 17:11:19.600392: I tensorflow/compiler/xla/service/service.cc:176]   StreamExecutor device (0): Host, Default Version\n",
      "2023-08-16 17:11:20.112125: I tensorflow/compiler/mlir/tensorflow/utils/dump_mlir_util.cc:255] disabling MLIR crash reproducer, set env var `MLIR_CRASH_REPRODUCER_DIRECTORY` to enable.\n",
      "2023-08-16 17:11:20.721732: W tensorflow/compiler/tf2xla/kernels/assert_op.cc:38] Ignoring Assert operator compile_loss/sparse_categorical_crossentropy/SparseSoftmaxCrossEntropyWithLogits/assert_equal_1/Assert/Assert\n",
      "2023-08-16 17:11:45.984242: I ./tensorflow/compiler/jit/device_compiler.h:186] Compiled cluster using XLA!  This line is logged at most once for the lifetime of the process.\n"
     ]
    },
    {
     "name": "stdout",
     "output_type": "stream",
     "text": [
      "\u001b[1m5/6\u001b[0m \u001b[32m━━━━━━━━━━━━━━━━\u001b[0m\u001b[37m━━━━\u001b[0m \u001b[1m12s\u001b[0m 12s/step - accuracy: 0.2463 - loss: 5.1825"
     ]
    },
    {
     "name": "stderr",
     "output_type": "stream",
     "text": [
      "2023-08-16 17:12:49.025157: W tensorflow/compiler/tf2xla/kernels/assert_op.cc:38] Ignoring Assert operator compile_loss/sparse_categorical_crossentropy/SparseSoftmaxCrossEntropyWithLogits/assert_equal_1/Assert/Assert\n"
     ]
    },
    {
     "name": "stdout",
     "output_type": "stream",
     "text": [
      "\u001b[1m6/6\u001b[0m \u001b[32m━━━━━━━━━━━━━━━━━━━━\u001b[0m\u001b[37m\u001b[0m \u001b[1m142s\u001b[0m 18s/step - accuracy: 0.2477 - loss: 5.1195\n"
     ]
    },
    {
     "data": {
      "text/plain": [
       "<keras_core.src.callbacks.history.History at 0x7f765fb135e0>"
      ]
     },
     "execution_count": 27,
     "metadata": {},
     "output_type": "execute_result"
    }
   ],
   "source": [
    "x = df['description']\n",
    "# x = {\"token_ids\": result1, \"padding_mask\": mask,}\n",
    "# y = np.flip(result1)\n",
    "# sw = sampleWeight\n",
    "# x = result1\n",
    "# y = result2\n",
    "num_epochs = 1\n",
    "\n",
    "# Linearly decaying learning rate.\n",
    "# learning_rate = keras.optimizers.schedules.PolynomialDecay(\n",
    "#     5e-5,\n",
    "#     decay_steps=train_ds.cardinality() * num_epochs,\n",
    "#     end_learning_rate=0.0,\n",
    "# )\n",
    "loss = keras.losses.SparseCategoricalCrossentropy(from_logits=True)\n",
    "gpt2_lm.compile(\n",
    "    optimizer=keras.optimizers.Adam(),\n",
    "    loss=loss,\n",
    "    weighted_metrics=[\"accuracy\"],\n",
    ")\n",
    "\n",
    "gpt2_lm.fit(x=x, epochs=num_epochs, batch_size=32)\n"
   ]
  },
  {
   "cell_type": "code",
   "execution_count": 28,
   "id": "de5d5890-96cf-4e86-8fcf-e5b1c12f919a",
   "metadata": {},
   "outputs": [
    {
     "name": "stdout",
     "output_type": "stream",
     "text": [
      "\n",
      "GPT-2 output1:\n",
      "Siemens AG, Germany. The company also manufactures, and sells software. It manufactures and sells software solutions for software and software development software and testing. It also develops, and operates through the development, testing, and testing, testing, and\n",
      "\n",
      "GPT-2 output2:\n",
      "Lufthansa AG manufactures and sells industrial goods, such as coffee, coffee, coffee, and coffee shops, and coffee shops, as well as coffee shop services, provides coffee shops, coffee shops, and coffee shops in Germany, France\n"
     ]
    }
   ],
   "source": [
    "output1 = gpt2_lm.generate(\"Siemens\", max_length=50)\n",
    "print(\"\\nGPT-2 output1:\")\n",
    "print(output1)\n",
    "\n",
    "output2 = gpt2_lm.generate(\"Lufthansa\", max_length=50)\n",
    "print(\"\\nGPT-2 output2:\")\n",
    "print(output2)"
   ]
  }
 ],
 "metadata": {
  "kernelspec": {
   "display_name": "Python 3 (ipykernel)",
   "language": "python",
   "name": "python3"
  },
  "language_info": {
   "codemirror_mode": {
    "name": "ipython",
    "version": 3
   },
   "file_extension": ".py",
   "mimetype": "text/x-python",
   "name": "python",
   "nbconvert_exporter": "python",
   "pygments_lexer": "ipython3",
   "version": "3.10.12"
  }
 },
 "nbformat": 4,
 "nbformat_minor": 5
}
