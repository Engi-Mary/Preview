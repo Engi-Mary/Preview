{
 "cells": [
  {
   "cell_type": "code",
   "execution_count": 1,
   "id": "1fa4d63d-3f38-406c-9078-42522b633a21",
   "metadata": {},
   "outputs": [],
   "source": [
    "import pandas as pd\n",
    "import numpy as np\n",
    "pd.set_option('display.max_colwidth',None)"
   ]
  },
  {
   "cell_type": "code",
   "execution_count": 2,
   "id": "4f3f222c-e05c-47f0-98e0-56770413a63f",
   "metadata": {},
   "outputs": [
    {
     "data": {
      "text/html": [
       "<div>\n",
       "<style scoped>\n",
       "    .dataframe tbody tr th:only-of-type {\n",
       "        vertical-align: middle;\n",
       "    }\n",
       "\n",
       "    .dataframe tbody tr th {\n",
       "        vertical-align: top;\n",
       "    }\n",
       "\n",
       "    .dataframe thead th {\n",
       "        text-align: right;\n",
       "    }\n",
       "</style>\n",
       "<table border=\"1\" class=\"dataframe\">\n",
       "  <thead>\n",
       "    <tr style=\"text-align: right;\">\n",
       "      <th></th>\n",
       "      <th>companyName</th>\n",
       "      <th>description</th>\n",
       "    </tr>\n",
       "  </thead>\n",
       "  <tbody>\n",
       "    <tr>\n",
       "      <th>0</th>\n",
       "      <td>Traton SE</td>\n",
       "      <td>Traton SE manufactures commercial vehicles worldwide. It operates in Industrial Business and Financial Services segments. The company offers light and heavy-duty commercial vehicles, such as trucks and bus chassis; vans; construction vehicles; city buses; and intercity and travel coaches, as well as spare parts and services. It also provides a cloud-based platform for freight transportation under the RIO brand name. The company offers its products and services under the MAN, Scania, Navistar, and Volkswagen Caminhões e Ônibus brands. In addition, it provides a range of financial solutions, including dealer and customer finance, leasing, and insurance products. The company was founded in 2015 and is based in Munich, Germany. Traton SE is a subsidiary of Volkswagen Finance Luxemburg S.A.</td>\n",
       "    </tr>\n",
       "    <tr>\n",
       "      <th>1</th>\n",
       "      <td>2G Energy AG</td>\n",
       "      <td>2G Energy AG, together with its subsidiaries, develops, manufactures, and installs combined heat and power (CHP) systems, and other systems for the recovery of electrical energy in Germany and internationally. It offers decentralized power and heat through gas motors driven by natural gas, biomethane, biogas, sewage gas, landfill gas, or hydrogen with an electrical output of 20 to 4,500 kW. The company's products include g-box, a natural gas CHP plant with the electrical output of 20 kW to 50 kW; aura, a CHP plant with the output range from 100 kW to 420 kW; patruus, a biogas and natural gas CHP plant with the output range from 50 kW to 263 kW; agenitor, a CHP plant with a capacity of 220 kW to 450 kW; and avus, a CHP plant with the electrical output range of 400 kW to 4.000 kW. It also engages in the rental and leasing of CHP plants. The company's products are used for various applications, such as biogas plants, office and administrative buildings, chemical and pharmaceutical industries, landfills, shopping centers, horticultural and agricultural holdings, hotels, industry and trade, sewage treatment plants, hospitals, food industry, public institutions, data processing centers, schools and universities, swimming pools, senior citizen centers, sports and leisure centers, heat grids, hydrogen, and residential buildings. The company was formerly known as 2G Bio-Energietechnik AG and changed its name to 2G Energy AG in 2011. 2G Energy AG was founded in 1995 and is headquartered in Heek, Germany.</td>\n",
       "    </tr>\n",
       "    <tr>\n",
       "      <th>2</th>\n",
       "      <td>MTU Aero Engines AG</td>\n",
       "      <td>MTU Aero Engines AG, together with its subsidiaries, develops, manufactures, markets, and maintains commercial and military engines, and aero derivative industrial gas turbines in Germany, other European countries, North America, Asia, and internationally. It operates through two segments, Commercial and Military Engine Business; and Commercial Maintenance Business. The company offers commercial aircraft engines for wide body jets, narrow body and regional jets, and business jets; military aircraft engines for fighter aircraft, helicopters, and transport aircraft; and industrial gas turbines. It also maintains, repairs, and overhauls commercial and military engines; and manufactures and markets various brush seals. The company was formerly known as MTU Aero Engines Holding AG and changed its name to MTU Aero Engines AG in May 2013. MTU Aero Engines AG was founded in 1913 and is headquartered in Munich, Germany.</td>\n",
       "    </tr>\n",
       "    <tr>\n",
       "      <th>3</th>\n",
       "      <td>Deutsche Lufthansa AG</td>\n",
       "      <td>Deutsche Lufthansa AG operates as an aviation company in Germany and internationally. The company's Network Airlines segment offers passenger services. Its Eurowings segment provides passenger services through a route network of more than 100 destinations in over 50 countries. The company's Logistics Business segment offers transport services for various cargoes, including general cargo, dangerous goods, valuables, vulnerable, perishables, live animals, courier, emergency, airmail/e-commerce, and temperature sensitive goods services approximately 300 destinations in 100 countries. Its Maintenance, Repair and Overhaul Services (MRO) segment provides maintenance, repair, and overhaul services for civilian commercial aircraft serving original equipment manufacturers and aircraft leasing companies, operators of VIP jets, and airlines. The company's Catering Business segment engages in-flight services and convenience retail, as well as other areas, such as retail and food producers. As of December 31, 2021, it had a fleet of 713 aircraft. Deutsche Lufthansa AG was founded in 1926 and is headquartered in Cologne, Germany.</td>\n",
       "    </tr>\n",
       "    <tr>\n",
       "      <th>4</th>\n",
       "      <td>Siemens Energy AG</td>\n",
       "      <td>Siemens Energy AG operates as an energy technology company worldwide. It operates in two segments, Gas and Power; and Siemens Gamesa Renewable Energy. The company provides gas and steam turbines, generators, gas engines, instrumentation and controls, and electrical systems, as well as performance enhancement, maintenance, customer training, and professional consulting services for central and distributed power generation; and transformers, air and gas-insulated switchgears, AC transmission systems, offshore windfarm grid connections, high voltage direct current transmission systems, high voltage substations, digital solutions and components, and other products. It also offers rotating equipment that includes industrial and aero-derivative gas turbines, turbo- and reciprocating compressors, power generation products, and compression trains and modules, as well as solutions in the fields of electrification, automation and digitization, plant safety, plant security, and water treatment. In addition, the company develops technologies in the fields of decarbonized energy and storage systems. Further, it offers onshore wind turbine design, engineering, manufacturing, and installation solutions for onshore markets; offshore wind turbine equipment design, manufacturing, and installation solutions; and operation and maintenance services for wind farms. The company serves utilities, independent power producers, project developers, oil and gas, transmission and distribution system operators, and industrial and infrastructure customers. Siemens Energy AG was founded in 1866 and is based in Munich, Germany.</td>\n",
       "    </tr>\n",
       "  </tbody>\n",
       "</table>\n",
       "</div>"
      ],
      "text/plain": [
       "             companyName  \\\n",
       "0              Traton SE   \n",
       "1           2G Energy AG   \n",
       "2    MTU Aero Engines AG   \n",
       "3  Deutsche Lufthansa AG   \n",
       "4      Siemens Energy AG   \n",
       "\n",
       "                                                                                                                                                                                                                                                                                                                                                                                                                                                                                                                                                                                                                                                                                                                                                                                                                                                                                                                                                                                                                                                                                                                                                                                                                                                                                                                                                                                                                                                                                                                                                                                                                                                                             description  \n",
       "0                                                                                                                                                                                                                                                                                                                                                                                                                                                                                                                                                                                                                                                                                                                                                                                                                                                           Traton SE manufactures commercial vehicles worldwide. It operates in Industrial Business and Financial Services segments. The company offers light and heavy-duty commercial vehicles, such as trucks and bus chassis; vans; construction vehicles; city buses; and intercity and travel coaches, as well as spare parts and services. It also provides a cloud-based platform for freight transportation under the RIO brand name. The company offers its products and services under the MAN, Scania, Navistar, and Volkswagen Caminhões e Ônibus brands. In addition, it provides a range of financial solutions, including dealer and customer finance, leasing, and insurance products. The company was founded in 2015 and is based in Munich, Germany. Traton SE is a subsidiary of Volkswagen Finance Luxemburg S.A.  \n",
       "1                                                                                                        2G Energy AG, together with its subsidiaries, develops, manufactures, and installs combined heat and power (CHP) systems, and other systems for the recovery of electrical energy in Germany and internationally. It offers decentralized power and heat through gas motors driven by natural gas, biomethane, biogas, sewage gas, landfill gas, or hydrogen with an electrical output of 20 to 4,500 kW. The company's products include g-box, a natural gas CHP plant with the electrical output of 20 kW to 50 kW; aura, a CHP plant with the output range from 100 kW to 420 kW; patruus, a biogas and natural gas CHP plant with the output range from 50 kW to 263 kW; agenitor, a CHP plant with a capacity of 220 kW to 450 kW; and avus, a CHP plant with the electrical output range of 400 kW to 4.000 kW. It also engages in the rental and leasing of CHP plants. The company's products are used for various applications, such as biogas plants, office and administrative buildings, chemical and pharmaceutical industries, landfills, shopping centers, horticultural and agricultural holdings, hotels, industry and trade, sewage treatment plants, hospitals, food industry, public institutions, data processing centers, schools and universities, swimming pools, senior citizen centers, sports and leisure centers, heat grids, hydrogen, and residential buildings. The company was formerly known as 2G Bio-Energietechnik AG and changed its name to 2G Energy AG in 2011. 2G Energy AG was founded in 1995 and is headquartered in Heek, Germany.  \n",
       "2                                                                                                                                                                                                                                                                                                                                                                                                                                                                                                                                                                                                                                                                                                                           MTU Aero Engines AG, together with its subsidiaries, develops, manufactures, markets, and maintains commercial and military engines, and aero derivative industrial gas turbines in Germany, other European countries, North America, Asia, and internationally. It operates through two segments, Commercial and Military Engine Business; and Commercial Maintenance Business. The company offers commercial aircraft engines for wide body jets, narrow body and regional jets, and business jets; military aircraft engines for fighter aircraft, helicopters, and transport aircraft; and industrial gas turbines. It also maintains, repairs, and overhauls commercial and military engines; and manufactures and markets various brush seals. The company was formerly known as MTU Aero Engines Holding AG and changed its name to MTU Aero Engines AG in May 2013. MTU Aero Engines AG was founded in 1913 and is headquartered in Munich, Germany.  \n",
       "3                                                                                                                                                                                                                                                                                                                                                                                                                                                                                                          Deutsche Lufthansa AG operates as an aviation company in Germany and internationally. The company's Network Airlines segment offers passenger services. Its Eurowings segment provides passenger services through a route network of more than 100 destinations in over 50 countries. The company's Logistics Business segment offers transport services for various cargoes, including general cargo, dangerous goods, valuables, vulnerable, perishables, live animals, courier, emergency, airmail/e-commerce, and temperature sensitive goods services approximately 300 destinations in 100 countries. Its Maintenance, Repair and Overhaul Services (MRO) segment provides maintenance, repair, and overhaul services for civilian commercial aircraft serving original equipment manufacturers and aircraft leasing companies, operators of VIP jets, and airlines. The company's Catering Business segment engages in-flight services and convenience retail, as well as other areas, such as retail and food producers. As of December 31, 2021, it had a fleet of 713 aircraft. Deutsche Lufthansa AG was founded in 1926 and is headquartered in Cologne, Germany.  \n",
       "4  Siemens Energy AG operates as an energy technology company worldwide. It operates in two segments, Gas and Power; and Siemens Gamesa Renewable Energy. The company provides gas and steam turbines, generators, gas engines, instrumentation and controls, and electrical systems, as well as performance enhancement, maintenance, customer training, and professional consulting services for central and distributed power generation; and transformers, air and gas-insulated switchgears, AC transmission systems, offshore windfarm grid connections, high voltage direct current transmission systems, high voltage substations, digital solutions and components, and other products. It also offers rotating equipment that includes industrial and aero-derivative gas turbines, turbo- and reciprocating compressors, power generation products, and compression trains and modules, as well as solutions in the fields of electrification, automation and digitization, plant safety, plant security, and water treatment. In addition, the company develops technologies in the fields of decarbonized energy and storage systems. Further, it offers onshore wind turbine design, engineering, manufacturing, and installation solutions for onshore markets; offshore wind turbine equipment design, manufacturing, and installation solutions; and operation and maintenance services for wind farms. The company serves utilities, independent power producers, project developers, oil and gas, transmission and distribution system operators, and industrial and infrastructure customers. Siemens Energy AG was founded in 1866 and is based in Munich, Germany.  "
      ]
     },
     "execution_count": 2,
     "metadata": {},
     "output_type": "execute_result"
    }
   ],
   "source": [
    "df = pd.read_csv(\"datasets/NLP/companies_data.csv\")\n",
    "df.head()"
   ]
  },
  {
   "cell_type": "code",
   "execution_count": null,
   "id": "c37a5499-07b9-4fe3-9983-3987f824f640",
   "metadata": {},
   "outputs": [],
   "source": [
    "df.shape"
   ]
  },
  {
   "cell_type": "code",
   "execution_count": null,
   "id": "01804250-a512-4497-a152-fea82c9223d5",
   "metadata": {},
   "outputs": [],
   "source": [
    "# df.value_counts()"
   ]
  },
  {
   "cell_type": "markdown",
   "id": "53a2c6d3-6a2d-4002-abee-1a50d308fc8d",
   "metadata": {},
   "source": [
    "# Preprocessing"
   ]
  },
  {
   "cell_type": "markdown",
   "id": "af411299-0646-49b5-804c-1e8a89ff58e4",
   "metadata": {},
   "source": [
    "## Punctuation Removal"
   ]
  },
  {
   "cell_type": "code",
   "execution_count": 3,
   "id": "aeef0c59-fc3f-4d2f-a102-5daa8b87df0b",
   "metadata": {},
   "outputs": [],
   "source": [
    "import string"
   ]
  },
  {
   "cell_type": "code",
   "execution_count": 4,
   "id": "ec2a1265-f3b5-41d2-a92f-28cc5ef9426f",
   "metadata": {},
   "outputs": [
    {
     "data": {
      "text/html": [
       "<div>\n",
       "<style scoped>\n",
       "    .dataframe tbody tr th:only-of-type {\n",
       "        vertical-align: middle;\n",
       "    }\n",
       "\n",
       "    .dataframe tbody tr th {\n",
       "        vertical-align: top;\n",
       "    }\n",
       "\n",
       "    .dataframe thead th {\n",
       "        text-align: right;\n",
       "    }\n",
       "</style>\n",
       "<table border=\"1\" class=\"dataframe\">\n",
       "  <thead>\n",
       "    <tr style=\"text-align: right;\">\n",
       "      <th></th>\n",
       "      <th>companyName</th>\n",
       "      <th>description</th>\n",
       "      <th>puncFree</th>\n",
       "    </tr>\n",
       "  </thead>\n",
       "  <tbody>\n",
       "    <tr>\n",
       "      <th>0</th>\n",
       "      <td>Traton SE</td>\n",
       "      <td>Traton SE manufactures commercial vehicles worldwide. It operates in Industrial Business and Financial Services segments. The company offers light and heavy-duty commercial vehicles, such as trucks and bus chassis; vans; construction vehicles; city buses; and intercity and travel coaches, as well as spare parts and services. It also provides a cloud-based platform for freight transportation under the RIO brand name. The company offers its products and services under the MAN, Scania, Navistar, and Volkswagen Caminhões e Ônibus brands. In addition, it provides a range of financial solutions, including dealer and customer finance, leasing, and insurance products. The company was founded in 2015 and is based in Munich, Germany. Traton SE is a subsidiary of Volkswagen Finance Luxemburg S.A.</td>\n",
       "      <td>Traton SE manufactures commercial vehicles worldwide It operates in Industrial Business and Financial Services segments The company offers light and heavyduty commercial vehicles such as trucks and bus chassis vans construction vehicles city buses and intercity and travel coaches as well as spare parts and services It also provides a cloudbased platform for freight transportation under the RIO brand name The company offers its products and services under the MAN Scania Navistar and Volkswagen Caminhões e Ônibus brands In addition it provides a range of financial solutions including dealer and customer finance leasing and insurance products The company was founded in 2015 and is based in Munich Germany Traton SE is a subsidiary of Volkswagen Finance Luxemburg SA</td>\n",
       "    </tr>\n",
       "  </tbody>\n",
       "</table>\n",
       "</div>"
      ],
      "text/plain": [
       "  companyName  \\\n",
       "0   Traton SE   \n",
       "\n",
       "                                                                                                                                                                                                                                                                                                                                                                                                                                                                                                                                                                                                                                                                                                                                                                                                                    description  \\\n",
       "0  Traton SE manufactures commercial vehicles worldwide. It operates in Industrial Business and Financial Services segments. The company offers light and heavy-duty commercial vehicles, such as trucks and bus chassis; vans; construction vehicles; city buses; and intercity and travel coaches, as well as spare parts and services. It also provides a cloud-based platform for freight transportation under the RIO brand name. The company offers its products and services under the MAN, Scania, Navistar, and Volkswagen Caminhões e Ônibus brands. In addition, it provides a range of financial solutions, including dealer and customer finance, leasing, and insurance products. The company was founded in 2015 and is based in Munich, Germany. Traton SE is a subsidiary of Volkswagen Finance Luxemburg S.A.   \n",
       "\n",
       "                                                                                                                                                                                                                                                                                                                                                                                                                                                                                                                                                                                                                                                                                                                                                                                              puncFree  \n",
       "0  Traton SE manufactures commercial vehicles worldwide It operates in Industrial Business and Financial Services segments The company offers light and heavyduty commercial vehicles such as trucks and bus chassis vans construction vehicles city buses and intercity and travel coaches as well as spare parts and services It also provides a cloudbased platform for freight transportation under the RIO brand name The company offers its products and services under the MAN Scania Navistar and Volkswagen Caminhões e Ônibus brands In addition it provides a range of financial solutions including dealer and customer finance leasing and insurance products The company was founded in 2015 and is based in Munich Germany Traton SE is a subsidiary of Volkswagen Finance Luxemburg SA  "
      ]
     },
     "execution_count": 4,
     "metadata": {},
     "output_type": "execute_result"
    }
   ],
   "source": [
    "def remove_punctuation(text):\n",
    "    punctuationFree = \"\".join([i for i in text if i not in string.punctuation])\n",
    "    return punctuationFree\n",
    "\n",
    "df[\"puncFree\"] = df['description'].apply(lambda x:remove_punctuation(x))\n",
    "df['companyName'] = df['companyName'].apply(lambda x:remove_punctuation(x))\n",
    "\n",
    "df.head(1)"
   ]
  },
  {
   "cell_type": "markdown",
   "id": "d2c38ef5-d5e9-4713-8a2d-7bdc7e92c5b3",
   "metadata": {},
   "source": [
    "## Lowercasing"
   ]
  },
  {
   "cell_type": "code",
   "execution_count": 5,
   "id": "2311a1b5-9d4c-41cc-911a-c1d0ec126891",
   "metadata": {},
   "outputs": [
    {
     "data": {
      "text/html": [
       "<div>\n",
       "<style scoped>\n",
       "    .dataframe tbody tr th:only-of-type {\n",
       "        vertical-align: middle;\n",
       "    }\n",
       "\n",
       "    .dataframe tbody tr th {\n",
       "        vertical-align: top;\n",
       "    }\n",
       "\n",
       "    .dataframe thead th {\n",
       "        text-align: right;\n",
       "    }\n",
       "</style>\n",
       "<table border=\"1\" class=\"dataframe\">\n",
       "  <thead>\n",
       "    <tr style=\"text-align: right;\">\n",
       "      <th></th>\n",
       "      <th>companyName</th>\n",
       "      <th>description</th>\n",
       "      <th>puncFree</th>\n",
       "      <th>lowercased</th>\n",
       "    </tr>\n",
       "  </thead>\n",
       "  <tbody>\n",
       "    <tr>\n",
       "      <th>0</th>\n",
       "      <td>traton se</td>\n",
       "      <td>Traton SE manufactures commercial vehicles worldwide. It operates in Industrial Business and Financial Services segments. The company offers light and heavy-duty commercial vehicles, such as trucks and bus chassis; vans; construction vehicles; city buses; and intercity and travel coaches, as well as spare parts and services. It also provides a cloud-based platform for freight transportation under the RIO brand name. The company offers its products and services under the MAN, Scania, Navistar, and Volkswagen Caminhões e Ônibus brands. In addition, it provides a range of financial solutions, including dealer and customer finance, leasing, and insurance products. The company was founded in 2015 and is based in Munich, Germany. Traton SE is a subsidiary of Volkswagen Finance Luxemburg S.A.</td>\n",
       "      <td>Traton SE manufactures commercial vehicles worldwide It operates in Industrial Business and Financial Services segments The company offers light and heavyduty commercial vehicles such as trucks and bus chassis vans construction vehicles city buses and intercity and travel coaches as well as spare parts and services It also provides a cloudbased platform for freight transportation under the RIO brand name The company offers its products and services under the MAN Scania Navistar and Volkswagen Caminhões e Ônibus brands In addition it provides a range of financial solutions including dealer and customer finance leasing and insurance products The company was founded in 2015 and is based in Munich Germany Traton SE is a subsidiary of Volkswagen Finance Luxemburg SA</td>\n",
       "      <td>traton se manufactures commercial vehicles worldwide it operates in industrial business and financial services segments the company offers light and heavyduty commercial vehicles such as trucks and bus chassis vans construction vehicles city buses and intercity and travel coaches as well as spare parts and services it also provides a cloudbased platform for freight transportation under the rio brand name the company offers its products and services under the man scania navistar and volkswagen caminhões e ônibus brands in addition it provides a range of financial solutions including dealer and customer finance leasing and insurance products the company was founded in 2015 and is based in munich germany traton se is a subsidiary of volkswagen finance luxemburg sa</td>\n",
       "    </tr>\n",
       "  </tbody>\n",
       "</table>\n",
       "</div>"
      ],
      "text/plain": [
       "  companyName  \\\n",
       "0   traton se   \n",
       "\n",
       "                                                                                                                                                                                                                                                                                                                                                                                                                                                                                                                                                                                                                                                                                                                                                                                                                    description  \\\n",
       "0  Traton SE manufactures commercial vehicles worldwide. It operates in Industrial Business and Financial Services segments. The company offers light and heavy-duty commercial vehicles, such as trucks and bus chassis; vans; construction vehicles; city buses; and intercity and travel coaches, as well as spare parts and services. It also provides a cloud-based platform for freight transportation under the RIO brand name. The company offers its products and services under the MAN, Scania, Navistar, and Volkswagen Caminhões e Ônibus brands. In addition, it provides a range of financial solutions, including dealer and customer finance, leasing, and insurance products. The company was founded in 2015 and is based in Munich, Germany. Traton SE is a subsidiary of Volkswagen Finance Luxemburg S.A.   \n",
       "\n",
       "                                                                                                                                                                                                                                                                                                                                                                                                                                                                                                                                                                                                                                                                                                                                                                                              puncFree  \\\n",
       "0  Traton SE manufactures commercial vehicles worldwide It operates in Industrial Business and Financial Services segments The company offers light and heavyduty commercial vehicles such as trucks and bus chassis vans construction vehicles city buses and intercity and travel coaches as well as spare parts and services It also provides a cloudbased platform for freight transportation under the RIO brand name The company offers its products and services under the MAN Scania Navistar and Volkswagen Caminhões e Ônibus brands In addition it provides a range of financial solutions including dealer and customer finance leasing and insurance products The company was founded in 2015 and is based in Munich Germany Traton SE is a subsidiary of Volkswagen Finance Luxemburg SA   \n",
       "\n",
       "                                                                                                                                                                                                                                                                                                                                                                                                                                                                                                                                                                                                                                                                                                                                                                                            lowercased  \n",
       "0  traton se manufactures commercial vehicles worldwide it operates in industrial business and financial services segments the company offers light and heavyduty commercial vehicles such as trucks and bus chassis vans construction vehicles city buses and intercity and travel coaches as well as spare parts and services it also provides a cloudbased platform for freight transportation under the rio brand name the company offers its products and services under the man scania navistar and volkswagen caminhões e ônibus brands in addition it provides a range of financial solutions including dealer and customer finance leasing and insurance products the company was founded in 2015 and is based in munich germany traton se is a subsidiary of volkswagen finance luxemburg sa  "
      ]
     },
     "execution_count": 5,
     "metadata": {},
     "output_type": "execute_result"
    }
   ],
   "source": [
    "df[\"lowercased\"] = df[\"puncFree\"].apply(lambda x: x.lower())\n",
    "df['companyName'] = df['companyName'].apply(lambda x: x.lower())\n",
    "df.head(1)"
   ]
  },
  {
   "cell_type": "markdown",
   "id": "24fcd66f-0277-4aff-b99b-f0778268d678",
   "metadata": {},
   "source": [
    "## Tokenization"
   ]
  },
  {
   "cell_type": "code",
   "execution_count": 6,
   "id": "1683c022-5249-495b-b5a0-f0d4f7d6b3ca",
   "metadata": {},
   "outputs": [],
   "source": [
    "import re"
   ]
  },
  {
   "cell_type": "code",
   "execution_count": 7,
   "id": "0076a11c-6a16-496b-9400-d9444aebde82",
   "metadata": {},
   "outputs": [
    {
     "data": {
      "text/html": [
       "<div>\n",
       "<style scoped>\n",
       "    .dataframe tbody tr th:only-of-type {\n",
       "        vertical-align: middle;\n",
       "    }\n",
       "\n",
       "    .dataframe tbody tr th {\n",
       "        vertical-align: top;\n",
       "    }\n",
       "\n",
       "    .dataframe thead th {\n",
       "        text-align: right;\n",
       "    }\n",
       "</style>\n",
       "<table border=\"1\" class=\"dataframe\">\n",
       "  <thead>\n",
       "    <tr style=\"text-align: right;\">\n",
       "      <th></th>\n",
       "      <th>companyName</th>\n",
       "      <th>description</th>\n",
       "      <th>puncFree</th>\n",
       "      <th>lowercased</th>\n",
       "      <th>tokenized</th>\n",
       "    </tr>\n",
       "  </thead>\n",
       "  <tbody>\n",
       "    <tr>\n",
       "      <th>0</th>\n",
       "      <td>[traton, se]</td>\n",
       "      <td>Traton SE manufactures commercial vehicles worldwide. It operates in Industrial Business and Financial Services segments. The company offers light and heavy-duty commercial vehicles, such as trucks and bus chassis; vans; construction vehicles; city buses; and intercity and travel coaches, as well as spare parts and services. It also provides a cloud-based platform for freight transportation under the RIO brand name. The company offers its products and services under the MAN, Scania, Navistar, and Volkswagen Caminhões e Ônibus brands. In addition, it provides a range of financial solutions, including dealer and customer finance, leasing, and insurance products. The company was founded in 2015 and is based in Munich, Germany. Traton SE is a subsidiary of Volkswagen Finance Luxemburg S.A.</td>\n",
       "      <td>Traton SE manufactures commercial vehicles worldwide It operates in Industrial Business and Financial Services segments The company offers light and heavyduty commercial vehicles such as trucks and bus chassis vans construction vehicles city buses and intercity and travel coaches as well as spare parts and services It also provides a cloudbased platform for freight transportation under the RIO brand name The company offers its products and services under the MAN Scania Navistar and Volkswagen Caminhões e Ônibus brands In addition it provides a range of financial solutions including dealer and customer finance leasing and insurance products The company was founded in 2015 and is based in Munich Germany Traton SE is a subsidiary of Volkswagen Finance Luxemburg SA</td>\n",
       "      <td>traton se manufactures commercial vehicles worldwide it operates in industrial business and financial services segments the company offers light and heavyduty commercial vehicles such as trucks and bus chassis vans construction vehicles city buses and intercity and travel coaches as well as spare parts and services it also provides a cloudbased platform for freight transportation under the rio brand name the company offers its products and services under the man scania navistar and volkswagen caminhões e ônibus brands in addition it provides a range of financial solutions including dealer and customer finance leasing and insurance products the company was founded in 2015 and is based in munich germany traton se is a subsidiary of volkswagen finance luxemburg sa</td>\n",
       "      <td>[traton, se, manufactures, commercial, vehicles, worldwide, it, operates, in, industrial, business, and, financial, services, segments, the, company, offers, light, and, heavyduty, commercial, vehicles, such, as, trucks, and, bus, chassis, vans, construction, vehicles, city, buses, and, intercity, and, travel, coaches, as, well, as, spare, parts, and, services, it, also, provides, a, cloudbased, platform, for, freight, transportation, under, the, rio, brand, name, the, company, offers, its, products, and, services, under, the, man, scania, navistar, and, volkswagen, caminhões, e, ônibus, brands, in, addition, it, provides, a, range, of, financial, solutions, including, dealer, and, customer, finance, leasing, and, insurance, products, the, company, was, founded, ...]</td>\n",
       "    </tr>\n",
       "  </tbody>\n",
       "</table>\n",
       "</div>"
      ],
      "text/plain": [
       "    companyName  \\\n",
       "0  [traton, se]   \n",
       "\n",
       "                                                                                                                                                                                                                                                                                                                                                                                                                                                                                                                                                                                                                                                                                                                                                                                                                    description  \\\n",
       "0  Traton SE manufactures commercial vehicles worldwide. It operates in Industrial Business and Financial Services segments. The company offers light and heavy-duty commercial vehicles, such as trucks and bus chassis; vans; construction vehicles; city buses; and intercity and travel coaches, as well as spare parts and services. It also provides a cloud-based platform for freight transportation under the RIO brand name. The company offers its products and services under the MAN, Scania, Navistar, and Volkswagen Caminhões e Ônibus brands. In addition, it provides a range of financial solutions, including dealer and customer finance, leasing, and insurance products. The company was founded in 2015 and is based in Munich, Germany. Traton SE is a subsidiary of Volkswagen Finance Luxemburg S.A.   \n",
       "\n",
       "                                                                                                                                                                                                                                                                                                                                                                                                                                                                                                                                                                                                                                                                                                                                                                                              puncFree  \\\n",
       "0  Traton SE manufactures commercial vehicles worldwide It operates in Industrial Business and Financial Services segments The company offers light and heavyduty commercial vehicles such as trucks and bus chassis vans construction vehicles city buses and intercity and travel coaches as well as spare parts and services It also provides a cloudbased platform for freight transportation under the RIO brand name The company offers its products and services under the MAN Scania Navistar and Volkswagen Caminhões e Ônibus brands In addition it provides a range of financial solutions including dealer and customer finance leasing and insurance products The company was founded in 2015 and is based in Munich Germany Traton SE is a subsidiary of Volkswagen Finance Luxemburg SA   \n",
       "\n",
       "                                                                                                                                                                                                                                                                                                                                                                                                                                                                                                                                                                                                                                                                                                                                                                                            lowercased  \\\n",
       "0  traton se manufactures commercial vehicles worldwide it operates in industrial business and financial services segments the company offers light and heavyduty commercial vehicles such as trucks and bus chassis vans construction vehicles city buses and intercity and travel coaches as well as spare parts and services it also provides a cloudbased platform for freight transportation under the rio brand name the company offers its products and services under the man scania navistar and volkswagen caminhões e ônibus brands in addition it provides a range of financial solutions including dealer and customer finance leasing and insurance products the company was founded in 2015 and is based in munich germany traton se is a subsidiary of volkswagen finance luxemburg sa   \n",
       "\n",
       "                                                                                                                                                                                                                                                                                                                                                                                                                                                                                                                                                                                                                                                                                                                                                                                                   tokenized  \n",
       "0  [traton, se, manufactures, commercial, vehicles, worldwide, it, operates, in, industrial, business, and, financial, services, segments, the, company, offers, light, and, heavyduty, commercial, vehicles, such, as, trucks, and, bus, chassis, vans, construction, vehicles, city, buses, and, intercity, and, travel, coaches, as, well, as, spare, parts, and, services, it, also, provides, a, cloudbased, platform, for, freight, transportation, under, the, rio, brand, name, the, company, offers, its, products, and, services, under, the, man, scania, navistar, and, volkswagen, caminhões, e, ônibus, brands, in, addition, it, provides, a, range, of, financial, solutions, including, dealer, and, customer, finance, leasing, and, insurance, products, the, company, was, founded, ...]  "
      ]
     },
     "execution_count": 7,
     "metadata": {},
     "output_type": "execute_result"
    }
   ],
   "source": [
    "def tokenization(text):\n",
    "    tokens = re.split(\"\\W+\",text)\n",
    "    return tokens\n",
    "\n",
    "df[\"tokenized\"] = df[\"lowercased\"].apply(lambda x: tokenization(x))\n",
    "df['companyName'] = df['companyName'].apply(lambda x: tokenization(x))\n",
    "df.head(1)"
   ]
  },
  {
   "cell_type": "markdown",
   "id": "91915854-7574-4565-801c-7900c86dc986",
   "metadata": {},
   "source": [
    "## Stop-Word Removal"
   ]
  },
  {
   "cell_type": "code",
   "execution_count": 8,
   "id": "8ba718c8-d22a-4f4e-a6b7-9c9804ccd69d",
   "metadata": {},
   "outputs": [],
   "source": [
    "import nltk"
   ]
  },
  {
   "cell_type": "code",
   "execution_count": null,
   "id": "c613d111-7909-4dde-b8b6-364cac118cda",
   "metadata": {},
   "outputs": [],
   "source": [
    "nltk.download()"
   ]
  },
  {
   "cell_type": "code",
   "execution_count": 9,
   "id": "7b803c96-a8cd-4e1f-a2f3-efeda1e8e470",
   "metadata": {},
   "outputs": [
    {
     "data": {
      "text/plain": [
       "['The', 'Fulton', 'County', 'Grand', 'Jury', 'said', ...]"
      ]
     },
     "execution_count": 9,
     "metadata": {},
     "output_type": "execute_result"
    }
   ],
   "source": [
    "from nltk.corpus import brown\n",
    "brown.words()"
   ]
  },
  {
   "cell_type": "code",
   "execution_count": 10,
   "id": "90593cec-f2a4-4001-8414-33b69e8819b9",
   "metadata": {},
   "outputs": [
    {
     "data": {
      "text/plain": [
       "['i', 'me', 'my', 'myself', 'we', 'our', 'ours', 'ourselves', 'you', \"you're\"]"
      ]
     },
     "execution_count": 10,
     "metadata": {},
     "output_type": "execute_result"
    }
   ],
   "source": [
    "stopWords = nltk.corpus.stopwords.words('english')\n",
    "stopWords[0:10]"
   ]
  },
  {
   "cell_type": "code",
   "execution_count": 11,
   "id": "bb5d35db-92f0-4551-bb36-6dcfdc222601",
   "metadata": {},
   "outputs": [
    {
     "data": {
      "text/html": [
       "<div>\n",
       "<style scoped>\n",
       "    .dataframe tbody tr th:only-of-type {\n",
       "        vertical-align: middle;\n",
       "    }\n",
       "\n",
       "    .dataframe tbody tr th {\n",
       "        vertical-align: top;\n",
       "    }\n",
       "\n",
       "    .dataframe thead th {\n",
       "        text-align: right;\n",
       "    }\n",
       "</style>\n",
       "<table border=\"1\" class=\"dataframe\">\n",
       "  <thead>\n",
       "    <tr style=\"text-align: right;\">\n",
       "      <th></th>\n",
       "      <th>companyName</th>\n",
       "      <th>description</th>\n",
       "      <th>puncFree</th>\n",
       "      <th>lowercased</th>\n",
       "      <th>tokenized</th>\n",
       "      <th>no_stop_words</th>\n",
       "    </tr>\n",
       "  </thead>\n",
       "  <tbody>\n",
       "    <tr>\n",
       "      <th>0</th>\n",
       "      <td>[traton, se]</td>\n",
       "      <td>Traton SE manufactures commercial vehicles worldwide. It operates in Industrial Business and Financial Services segments. The company offers light and heavy-duty commercial vehicles, such as trucks and bus chassis; vans; construction vehicles; city buses; and intercity and travel coaches, as well as spare parts and services. It also provides a cloud-based platform for freight transportation under the RIO brand name. The company offers its products and services under the MAN, Scania, Navistar, and Volkswagen Caminhões e Ônibus brands. In addition, it provides a range of financial solutions, including dealer and customer finance, leasing, and insurance products. The company was founded in 2015 and is based in Munich, Germany. Traton SE is a subsidiary of Volkswagen Finance Luxemburg S.A.</td>\n",
       "      <td>Traton SE manufactures commercial vehicles worldwide It operates in Industrial Business and Financial Services segments The company offers light and heavyduty commercial vehicles such as trucks and bus chassis vans construction vehicles city buses and intercity and travel coaches as well as spare parts and services It also provides a cloudbased platform for freight transportation under the RIO brand name The company offers its products and services under the MAN Scania Navistar and Volkswagen Caminhões e Ônibus brands In addition it provides a range of financial solutions including dealer and customer finance leasing and insurance products The company was founded in 2015 and is based in Munich Germany Traton SE is a subsidiary of Volkswagen Finance Luxemburg SA</td>\n",
       "      <td>traton se manufactures commercial vehicles worldwide it operates in industrial business and financial services segments the company offers light and heavyduty commercial vehicles such as trucks and bus chassis vans construction vehicles city buses and intercity and travel coaches as well as spare parts and services it also provides a cloudbased platform for freight transportation under the rio brand name the company offers its products and services under the man scania navistar and volkswagen caminhões e ônibus brands in addition it provides a range of financial solutions including dealer and customer finance leasing and insurance products the company was founded in 2015 and is based in munich germany traton se is a subsidiary of volkswagen finance luxemburg sa</td>\n",
       "      <td>[traton, se, manufactures, commercial, vehicles, worldwide, it, operates, in, industrial, business, and, financial, services, segments, the, company, offers, light, and, heavyduty, commercial, vehicles, such, as, trucks, and, bus, chassis, vans, construction, vehicles, city, buses, and, intercity, and, travel, coaches, as, well, as, spare, parts, and, services, it, also, provides, a, cloudbased, platform, for, freight, transportation, under, the, rio, brand, name, the, company, offers, its, products, and, services, under, the, man, scania, navistar, and, volkswagen, caminhões, e, ônibus, brands, in, addition, it, provides, a, range, of, financial, solutions, including, dealer, and, customer, finance, leasing, and, insurance, products, the, company, was, founded, ...]</td>\n",
       "      <td>[traton, se, manufactures, commercial, vehicles, worldwide, operates, industrial, business, financial, services, segments, company, offers, light, heavyduty, commercial, vehicles, trucks, bus, chassis, vans, construction, vehicles, city, buses, intercity, travel, coaches, well, spare, parts, services, also, provides, cloudbased, platform, freight, transportation, rio, brand, name, company, offers, products, services, man, scania, navistar, volkswagen, caminhões, e, ônibus, brands, addition, provides, range, financial, solutions, including, dealer, customer, finance, leasing, insurance, products, company, founded, 2015, based, munich, germany, traton, se, subsidiary, volkswagen, finance, luxemburg, sa]</td>\n",
       "    </tr>\n",
       "  </tbody>\n",
       "</table>\n",
       "</div>"
      ],
      "text/plain": [
       "    companyName  \\\n",
       "0  [traton, se]   \n",
       "\n",
       "                                                                                                                                                                                                                                                                                                                                                                                                                                                                                                                                                                                                                                                                                                                                                                                                                    description  \\\n",
       "0  Traton SE manufactures commercial vehicles worldwide. It operates in Industrial Business and Financial Services segments. The company offers light and heavy-duty commercial vehicles, such as trucks and bus chassis; vans; construction vehicles; city buses; and intercity and travel coaches, as well as spare parts and services. It also provides a cloud-based platform for freight transportation under the RIO brand name. The company offers its products and services under the MAN, Scania, Navistar, and Volkswagen Caminhões e Ônibus brands. In addition, it provides a range of financial solutions, including dealer and customer finance, leasing, and insurance products. The company was founded in 2015 and is based in Munich, Germany. Traton SE is a subsidiary of Volkswagen Finance Luxemburg S.A.   \n",
       "\n",
       "                                                                                                                                                                                                                                                                                                                                                                                                                                                                                                                                                                                                                                                                                                                                                                                              puncFree  \\\n",
       "0  Traton SE manufactures commercial vehicles worldwide It operates in Industrial Business and Financial Services segments The company offers light and heavyduty commercial vehicles such as trucks and bus chassis vans construction vehicles city buses and intercity and travel coaches as well as spare parts and services It also provides a cloudbased platform for freight transportation under the RIO brand name The company offers its products and services under the MAN Scania Navistar and Volkswagen Caminhões e Ônibus brands In addition it provides a range of financial solutions including dealer and customer finance leasing and insurance products The company was founded in 2015 and is based in Munich Germany Traton SE is a subsidiary of Volkswagen Finance Luxemburg SA   \n",
       "\n",
       "                                                                                                                                                                                                                                                                                                                                                                                                                                                                                                                                                                                                                                                                                                                                                                                            lowercased  \\\n",
       "0  traton se manufactures commercial vehicles worldwide it operates in industrial business and financial services segments the company offers light and heavyduty commercial vehicles such as trucks and bus chassis vans construction vehicles city buses and intercity and travel coaches as well as spare parts and services it also provides a cloudbased platform for freight transportation under the rio brand name the company offers its products and services under the man scania navistar and volkswagen caminhões e ônibus brands in addition it provides a range of financial solutions including dealer and customer finance leasing and insurance products the company was founded in 2015 and is based in munich germany traton se is a subsidiary of volkswagen finance luxemburg sa   \n",
       "\n",
       "                                                                                                                                                                                                                                                                                                                                                                                                                                                                                                                                                                                                                                                                                                                                                                                                   tokenized  \\\n",
       "0  [traton, se, manufactures, commercial, vehicles, worldwide, it, operates, in, industrial, business, and, financial, services, segments, the, company, offers, light, and, heavyduty, commercial, vehicles, such, as, trucks, and, bus, chassis, vans, construction, vehicles, city, buses, and, intercity, and, travel, coaches, as, well, as, spare, parts, and, services, it, also, provides, a, cloudbased, platform, for, freight, transportation, under, the, rio, brand, name, the, company, offers, its, products, and, services, under, the, man, scania, navistar, and, volkswagen, caminhões, e, ônibus, brands, in, addition, it, provides, a, range, of, financial, solutions, including, dealer, and, customer, finance, leasing, and, insurance, products, the, company, was, founded, ...]   \n",
       "\n",
       "                                                                                                                                                                                                                                                                                                                                                                                                                                                                                                                                                                                                                                                                                                                            no_stop_words  \n",
       "0  [traton, se, manufactures, commercial, vehicles, worldwide, operates, industrial, business, financial, services, segments, company, offers, light, heavyduty, commercial, vehicles, trucks, bus, chassis, vans, construction, vehicles, city, buses, intercity, travel, coaches, well, spare, parts, services, also, provides, cloudbased, platform, freight, transportation, rio, brand, name, company, offers, products, services, man, scania, navistar, volkswagen, caminhões, e, ônibus, brands, addition, provides, range, financial, solutions, including, dealer, customer, finance, leasing, insurance, products, company, founded, 2015, based, munich, germany, traton, se, subsidiary, volkswagen, finance, luxemburg, sa]  "
      ]
     },
     "execution_count": 11,
     "metadata": {},
     "output_type": "execute_result"
    }
   ],
   "source": [
    "def remove_stopwords(text):\n",
    "    output = [i for i in text if i not in stopWords]\n",
    "    return output\n",
    "\n",
    "df[\"no_stop_words\"] = df[\"tokenized\"].apply(lambda x: remove_stopwords(x))\n",
    "df['companyName'] = df['companyName'].apply(lambda x: remove_stopwords(x))\n",
    "df.head(1)"
   ]
  },
  {
   "cell_type": "markdown",
   "id": "fb938595-0a62-49ef-ab1f-23135afdd426",
   "metadata": {},
   "source": [
    "## Stemming"
   ]
  },
  {
   "cell_type": "code",
   "execution_count": 12,
   "id": "0bdf2bd5-2cd7-407b-8cf6-ff621ceadf61",
   "metadata": {},
   "outputs": [],
   "source": [
    "from nltk.stem.porter import PorterStemmer"
   ]
  },
  {
   "cell_type": "code",
   "execution_count": 13,
   "id": "c24d0ab2-e64e-4264-8fab-cce0dd685f5b",
   "metadata": {},
   "outputs": [
    {
     "data": {
      "text/html": [
       "<div>\n",
       "<style scoped>\n",
       "    .dataframe tbody tr th:only-of-type {\n",
       "        vertical-align: middle;\n",
       "    }\n",
       "\n",
       "    .dataframe tbody tr th {\n",
       "        vertical-align: top;\n",
       "    }\n",
       "\n",
       "    .dataframe thead th {\n",
       "        text-align: right;\n",
       "    }\n",
       "</style>\n",
       "<table border=\"1\" class=\"dataframe\">\n",
       "  <thead>\n",
       "    <tr style=\"text-align: right;\">\n",
       "      <th></th>\n",
       "      <th>companyName</th>\n",
       "      <th>description</th>\n",
       "      <th>puncFree</th>\n",
       "      <th>lowercased</th>\n",
       "      <th>tokenized</th>\n",
       "      <th>no_stop_words</th>\n",
       "      <th>stemmed</th>\n",
       "    </tr>\n",
       "  </thead>\n",
       "  <tbody>\n",
       "    <tr>\n",
       "      <th>0</th>\n",
       "      <td>[traton, se]</td>\n",
       "      <td>Traton SE manufactures commercial vehicles worldwide. It operates in Industrial Business and Financial Services segments. The company offers light and heavy-duty commercial vehicles, such as trucks and bus chassis; vans; construction vehicles; city buses; and intercity and travel coaches, as well as spare parts and services. It also provides a cloud-based platform for freight transportation under the RIO brand name. The company offers its products and services under the MAN, Scania, Navistar, and Volkswagen Caminhões e Ônibus brands. In addition, it provides a range of financial solutions, including dealer and customer finance, leasing, and insurance products. The company was founded in 2015 and is based in Munich, Germany. Traton SE is a subsidiary of Volkswagen Finance Luxemburg S.A.</td>\n",
       "      <td>Traton SE manufactures commercial vehicles worldwide It operates in Industrial Business and Financial Services segments The company offers light and heavyduty commercial vehicles such as trucks and bus chassis vans construction vehicles city buses and intercity and travel coaches as well as spare parts and services It also provides a cloudbased platform for freight transportation under the RIO brand name The company offers its products and services under the MAN Scania Navistar and Volkswagen Caminhões e Ônibus brands In addition it provides a range of financial solutions including dealer and customer finance leasing and insurance products The company was founded in 2015 and is based in Munich Germany Traton SE is a subsidiary of Volkswagen Finance Luxemburg SA</td>\n",
       "      <td>traton se manufactures commercial vehicles worldwide it operates in industrial business and financial services segments the company offers light and heavyduty commercial vehicles such as trucks and bus chassis vans construction vehicles city buses and intercity and travel coaches as well as spare parts and services it also provides a cloudbased platform for freight transportation under the rio brand name the company offers its products and services under the man scania navistar and volkswagen caminhões e ônibus brands in addition it provides a range of financial solutions including dealer and customer finance leasing and insurance products the company was founded in 2015 and is based in munich germany traton se is a subsidiary of volkswagen finance luxemburg sa</td>\n",
       "      <td>[traton, se, manufactures, commercial, vehicles, worldwide, it, operates, in, industrial, business, and, financial, services, segments, the, company, offers, light, and, heavyduty, commercial, vehicles, such, as, trucks, and, bus, chassis, vans, construction, vehicles, city, buses, and, intercity, and, travel, coaches, as, well, as, spare, parts, and, services, it, also, provides, a, cloudbased, platform, for, freight, transportation, under, the, rio, brand, name, the, company, offers, its, products, and, services, under, the, man, scania, navistar, and, volkswagen, caminhões, e, ônibus, brands, in, addition, it, provides, a, range, of, financial, solutions, including, dealer, and, customer, finance, leasing, and, insurance, products, the, company, was, founded, ...]</td>\n",
       "      <td>[traton, se, manufactures, commercial, vehicles, worldwide, operates, industrial, business, financial, services, segments, company, offers, light, heavyduty, commercial, vehicles, trucks, bus, chassis, vans, construction, vehicles, city, buses, intercity, travel, coaches, well, spare, parts, services, also, provides, cloudbased, platform, freight, transportation, rio, brand, name, company, offers, products, services, man, scania, navistar, volkswagen, caminhões, e, ônibus, brands, addition, provides, range, financial, solutions, including, dealer, customer, finance, leasing, insurance, products, company, founded, 2015, based, munich, germany, traton, se, subsidiary, volkswagen, finance, luxemburg, sa]</td>\n",
       "      <td>[traton, se, manufactur, commerci, vehicl, worldwid, oper, industri, busi, financi, servic, segment, compani, offer, light, heavyduti, commerci, vehicl, truck, bu, chassi, van, construct, vehicl, citi, buse, interc, travel, coach, well, spare, part, servic, also, provid, cloudbas, platform, freight, transport, rio, brand, name, compani, offer, product, servic, man, scania, navistar, volkswagen, caminhõ, e, ônibu, brand, addit, provid, rang, financi, solut, includ, dealer, custom, financ, leas, insur, product, compani, found, 2015, base, munich, germani, traton, se, subsidiari, volkswagen, financ, luxemburg, sa]</td>\n",
       "    </tr>\n",
       "  </tbody>\n",
       "</table>\n",
       "</div>"
      ],
      "text/plain": [
       "    companyName  \\\n",
       "0  [traton, se]   \n",
       "\n",
       "                                                                                                                                                                                                                                                                                                                                                                                                                                                                                                                                                                                                                                                                                                                                                                                                                    description  \\\n",
       "0  Traton SE manufactures commercial vehicles worldwide. It operates in Industrial Business and Financial Services segments. The company offers light and heavy-duty commercial vehicles, such as trucks and bus chassis; vans; construction vehicles; city buses; and intercity and travel coaches, as well as spare parts and services. It also provides a cloud-based platform for freight transportation under the RIO brand name. The company offers its products and services under the MAN, Scania, Navistar, and Volkswagen Caminhões e Ônibus brands. In addition, it provides a range of financial solutions, including dealer and customer finance, leasing, and insurance products. The company was founded in 2015 and is based in Munich, Germany. Traton SE is a subsidiary of Volkswagen Finance Luxemburg S.A.   \n",
       "\n",
       "                                                                                                                                                                                                                                                                                                                                                                                                                                                                                                                                                                                                                                                                                                                                                                                              puncFree  \\\n",
       "0  Traton SE manufactures commercial vehicles worldwide It operates in Industrial Business and Financial Services segments The company offers light and heavyduty commercial vehicles such as trucks and bus chassis vans construction vehicles city buses and intercity and travel coaches as well as spare parts and services It also provides a cloudbased platform for freight transportation under the RIO brand name The company offers its products and services under the MAN Scania Navistar and Volkswagen Caminhões e Ônibus brands In addition it provides a range of financial solutions including dealer and customer finance leasing and insurance products The company was founded in 2015 and is based in Munich Germany Traton SE is a subsidiary of Volkswagen Finance Luxemburg SA   \n",
       "\n",
       "                                                                                                                                                                                                                                                                                                                                                                                                                                                                                                                                                                                                                                                                                                                                                                                            lowercased  \\\n",
       "0  traton se manufactures commercial vehicles worldwide it operates in industrial business and financial services segments the company offers light and heavyduty commercial vehicles such as trucks and bus chassis vans construction vehicles city buses and intercity and travel coaches as well as spare parts and services it also provides a cloudbased platform for freight transportation under the rio brand name the company offers its products and services under the man scania navistar and volkswagen caminhões e ônibus brands in addition it provides a range of financial solutions including dealer and customer finance leasing and insurance products the company was founded in 2015 and is based in munich germany traton se is a subsidiary of volkswagen finance luxemburg sa   \n",
       "\n",
       "                                                                                                                                                                                                                                                                                                                                                                                                                                                                                                                                                                                                                                                                                                                                                                                                   tokenized  \\\n",
       "0  [traton, se, manufactures, commercial, vehicles, worldwide, it, operates, in, industrial, business, and, financial, services, segments, the, company, offers, light, and, heavyduty, commercial, vehicles, such, as, trucks, and, bus, chassis, vans, construction, vehicles, city, buses, and, intercity, and, travel, coaches, as, well, as, spare, parts, and, services, it, also, provides, a, cloudbased, platform, for, freight, transportation, under, the, rio, brand, name, the, company, offers, its, products, and, services, under, the, man, scania, navistar, and, volkswagen, caminhões, e, ônibus, brands, in, addition, it, provides, a, range, of, financial, solutions, including, dealer, and, customer, finance, leasing, and, insurance, products, the, company, was, founded, ...]   \n",
       "\n",
       "                                                                                                                                                                                                                                                                                                                                                                                                                                                                                                                                                                                                                                                                                                                            no_stop_words  \\\n",
       "0  [traton, se, manufactures, commercial, vehicles, worldwide, operates, industrial, business, financial, services, segments, company, offers, light, heavyduty, commercial, vehicles, trucks, bus, chassis, vans, construction, vehicles, city, buses, intercity, travel, coaches, well, spare, parts, services, also, provides, cloudbased, platform, freight, transportation, rio, brand, name, company, offers, products, services, man, scania, navistar, volkswagen, caminhões, e, ônibus, brands, addition, provides, range, financial, solutions, including, dealer, customer, finance, leasing, insurance, products, company, founded, 2015, based, munich, germany, traton, se, subsidiary, volkswagen, finance, luxemburg, sa]   \n",
       "\n",
       "                                                                                                                                                                                                                                                                                                                                                                                                                                                                                                                                                                                                                                      stemmed  \n",
       "0  [traton, se, manufactur, commerci, vehicl, worldwid, oper, industri, busi, financi, servic, segment, compani, offer, light, heavyduti, commerci, vehicl, truck, bu, chassi, van, construct, vehicl, citi, buse, interc, travel, coach, well, spare, part, servic, also, provid, cloudbas, platform, freight, transport, rio, brand, name, compani, offer, product, servic, man, scania, navistar, volkswagen, caminhõ, e, ônibu, brand, addit, provid, rang, financi, solut, includ, dealer, custom, financ, leas, insur, product, compani, found, 2015, base, munich, germani, traton, se, subsidiari, volkswagen, financ, luxemburg, sa]  "
      ]
     },
     "execution_count": 13,
     "metadata": {},
     "output_type": "execute_result"
    }
   ],
   "source": [
    "porter_stemmer = PorterStemmer()\n",
    "\n",
    "def stemming(text):\n",
    "    stem_text = [porter_stemmer.stem(word) for word in text]\n",
    "    return stem_text\n",
    "\n",
    "df['stemmed'] = df['no_stop_words'].apply(lambda x: stemming(x))\n",
    "df.head(1)"
   ]
  },
  {
   "cell_type": "markdown",
   "id": "4c5ecd12-3133-479c-8eae-e1e081e8c45b",
   "metadata": {},
   "source": [
    "## Lemmatization "
   ]
  },
  {
   "cell_type": "code",
   "execution_count": 14,
   "id": "c30b5caf-6859-4065-b2fc-d5e692d55748",
   "metadata": {},
   "outputs": [],
   "source": [
    "from nltk.stem import WordNetLemmatizer"
   ]
  },
  {
   "cell_type": "code",
   "execution_count": 15,
   "id": "84ff6a41-d47d-4b53-827e-1fbbec7c1398",
   "metadata": {},
   "outputs": [
    {
     "data": {
      "text/html": [
       "<div>\n",
       "<style scoped>\n",
       "    .dataframe tbody tr th:only-of-type {\n",
       "        vertical-align: middle;\n",
       "    }\n",
       "\n",
       "    .dataframe tbody tr th {\n",
       "        vertical-align: top;\n",
       "    }\n",
       "\n",
       "    .dataframe thead th {\n",
       "        text-align: right;\n",
       "    }\n",
       "</style>\n",
       "<table border=\"1\" class=\"dataframe\">\n",
       "  <thead>\n",
       "    <tr style=\"text-align: right;\">\n",
       "      <th></th>\n",
       "      <th>companyName</th>\n",
       "      <th>description</th>\n",
       "      <th>puncFree</th>\n",
       "      <th>lowercased</th>\n",
       "      <th>tokenized</th>\n",
       "      <th>no_stop_words</th>\n",
       "      <th>stemmed</th>\n",
       "      <th>lemmatized</th>\n",
       "    </tr>\n",
       "  </thead>\n",
       "  <tbody>\n",
       "    <tr>\n",
       "      <th>0</th>\n",
       "      <td>[traton, se]</td>\n",
       "      <td>Traton SE manufactures commercial vehicles worldwide. It operates in Industrial Business and Financial Services segments. The company offers light and heavy-duty commercial vehicles, such as trucks and bus chassis; vans; construction vehicles; city buses; and intercity and travel coaches, as well as spare parts and services. It also provides a cloud-based platform for freight transportation under the RIO brand name. The company offers its products and services under the MAN, Scania, Navistar, and Volkswagen Caminhões e Ônibus brands. In addition, it provides a range of financial solutions, including dealer and customer finance, leasing, and insurance products. The company was founded in 2015 and is based in Munich, Germany. Traton SE is a subsidiary of Volkswagen Finance Luxemburg S.A.</td>\n",
       "      <td>Traton SE manufactures commercial vehicles worldwide It operates in Industrial Business and Financial Services segments The company offers light and heavyduty commercial vehicles such as trucks and bus chassis vans construction vehicles city buses and intercity and travel coaches as well as spare parts and services It also provides a cloudbased platform for freight transportation under the RIO brand name The company offers its products and services under the MAN Scania Navistar and Volkswagen Caminhões e Ônibus brands In addition it provides a range of financial solutions including dealer and customer finance leasing and insurance products The company was founded in 2015 and is based in Munich Germany Traton SE is a subsidiary of Volkswagen Finance Luxemburg SA</td>\n",
       "      <td>traton se manufactures commercial vehicles worldwide it operates in industrial business and financial services segments the company offers light and heavyduty commercial vehicles such as trucks and bus chassis vans construction vehicles city buses and intercity and travel coaches as well as spare parts and services it also provides a cloudbased platform for freight transportation under the rio brand name the company offers its products and services under the man scania navistar and volkswagen caminhões e ônibus brands in addition it provides a range of financial solutions including dealer and customer finance leasing and insurance products the company was founded in 2015 and is based in munich germany traton se is a subsidiary of volkswagen finance luxemburg sa</td>\n",
       "      <td>[traton, se, manufactures, commercial, vehicles, worldwide, it, operates, in, industrial, business, and, financial, services, segments, the, company, offers, light, and, heavyduty, commercial, vehicles, such, as, trucks, and, bus, chassis, vans, construction, vehicles, city, buses, and, intercity, and, travel, coaches, as, well, as, spare, parts, and, services, it, also, provides, a, cloudbased, platform, for, freight, transportation, under, the, rio, brand, name, the, company, offers, its, products, and, services, under, the, man, scania, navistar, and, volkswagen, caminhões, e, ônibus, brands, in, addition, it, provides, a, range, of, financial, solutions, including, dealer, and, customer, finance, leasing, and, insurance, products, the, company, was, founded, ...]</td>\n",
       "      <td>[traton, se, manufactures, commercial, vehicles, worldwide, operates, industrial, business, financial, services, segments, company, offers, light, heavyduty, commercial, vehicles, trucks, bus, chassis, vans, construction, vehicles, city, buses, intercity, travel, coaches, well, spare, parts, services, also, provides, cloudbased, platform, freight, transportation, rio, brand, name, company, offers, products, services, man, scania, navistar, volkswagen, caminhões, e, ônibus, brands, addition, provides, range, financial, solutions, including, dealer, customer, finance, leasing, insurance, products, company, founded, 2015, based, munich, germany, traton, se, subsidiary, volkswagen, finance, luxemburg, sa]</td>\n",
       "      <td>[traton, se, manufactur, commerci, vehicl, worldwid, oper, industri, busi, financi, servic, segment, compani, offer, light, heavyduti, commerci, vehicl, truck, bu, chassi, van, construct, vehicl, citi, buse, interc, travel, coach, well, spare, part, servic, also, provid, cloudbas, platform, freight, transport, rio, brand, name, compani, offer, product, servic, man, scania, navistar, volkswagen, caminhõ, e, ônibu, brand, addit, provid, rang, financi, solut, includ, dealer, custom, financ, leas, insur, product, compani, found, 2015, base, munich, germani, traton, se, subsidiari, volkswagen, financ, luxemburg, sa]</td>\n",
       "      <td>[traton, se, manufacture, commercial, vehicle, worldwide, operates, industrial, business, financial, service, segment, company, offer, light, heavyduty, commercial, vehicle, truck, bus, chassis, van, construction, vehicle, city, bus, intercity, travel, coach, well, spare, part, service, also, provides, cloudbased, platform, freight, transportation, rio, brand, name, company, offer, product, service, man, scania, navistar, volkswagen, caminhões, e, ônibus, brand, addition, provides, range, financial, solution, including, dealer, customer, finance, leasing, insurance, product, company, founded, 2015, based, munich, germany, traton, se, subsidiary, volkswagen, finance, luxemburg, sa]</td>\n",
       "    </tr>\n",
       "  </tbody>\n",
       "</table>\n",
       "</div>"
      ],
      "text/plain": [
       "    companyName  \\\n",
       "0  [traton, se]   \n",
       "\n",
       "                                                                                                                                                                                                                                                                                                                                                                                                                                                                                                                                                                                                                                                                                                                                                                                                                    description  \\\n",
       "0  Traton SE manufactures commercial vehicles worldwide. It operates in Industrial Business and Financial Services segments. The company offers light and heavy-duty commercial vehicles, such as trucks and bus chassis; vans; construction vehicles; city buses; and intercity and travel coaches, as well as spare parts and services. It also provides a cloud-based platform for freight transportation under the RIO brand name. The company offers its products and services under the MAN, Scania, Navistar, and Volkswagen Caminhões e Ônibus brands. In addition, it provides a range of financial solutions, including dealer and customer finance, leasing, and insurance products. The company was founded in 2015 and is based in Munich, Germany. Traton SE is a subsidiary of Volkswagen Finance Luxemburg S.A.   \n",
       "\n",
       "                                                                                                                                                                                                                                                                                                                                                                                                                                                                                                                                                                                                                                                                                                                                                                                              puncFree  \\\n",
       "0  Traton SE manufactures commercial vehicles worldwide It operates in Industrial Business and Financial Services segments The company offers light and heavyduty commercial vehicles such as trucks and bus chassis vans construction vehicles city buses and intercity and travel coaches as well as spare parts and services It also provides a cloudbased platform for freight transportation under the RIO brand name The company offers its products and services under the MAN Scania Navistar and Volkswagen Caminhões e Ônibus brands In addition it provides a range of financial solutions including dealer and customer finance leasing and insurance products The company was founded in 2015 and is based in Munich Germany Traton SE is a subsidiary of Volkswagen Finance Luxemburg SA   \n",
       "\n",
       "                                                                                                                                                                                                                                                                                                                                                                                                                                                                                                                                                                                                                                                                                                                                                                                            lowercased  \\\n",
       "0  traton se manufactures commercial vehicles worldwide it operates in industrial business and financial services segments the company offers light and heavyduty commercial vehicles such as trucks and bus chassis vans construction vehicles city buses and intercity and travel coaches as well as spare parts and services it also provides a cloudbased platform for freight transportation under the rio brand name the company offers its products and services under the man scania navistar and volkswagen caminhões e ônibus brands in addition it provides a range of financial solutions including dealer and customer finance leasing and insurance products the company was founded in 2015 and is based in munich germany traton se is a subsidiary of volkswagen finance luxemburg sa   \n",
       "\n",
       "                                                                                                                                                                                                                                                                                                                                                                                                                                                                                                                                                                                                                                                                                                                                                                                                   tokenized  \\\n",
       "0  [traton, se, manufactures, commercial, vehicles, worldwide, it, operates, in, industrial, business, and, financial, services, segments, the, company, offers, light, and, heavyduty, commercial, vehicles, such, as, trucks, and, bus, chassis, vans, construction, vehicles, city, buses, and, intercity, and, travel, coaches, as, well, as, spare, parts, and, services, it, also, provides, a, cloudbased, platform, for, freight, transportation, under, the, rio, brand, name, the, company, offers, its, products, and, services, under, the, man, scania, navistar, and, volkswagen, caminhões, e, ônibus, brands, in, addition, it, provides, a, range, of, financial, solutions, including, dealer, and, customer, finance, leasing, and, insurance, products, the, company, was, founded, ...]   \n",
       "\n",
       "                                                                                                                                                                                                                                                                                                                                                                                                                                                                                                                                                                                                                                                                                                                            no_stop_words  \\\n",
       "0  [traton, se, manufactures, commercial, vehicles, worldwide, operates, industrial, business, financial, services, segments, company, offers, light, heavyduty, commercial, vehicles, trucks, bus, chassis, vans, construction, vehicles, city, buses, intercity, travel, coaches, well, spare, parts, services, also, provides, cloudbased, platform, freight, transportation, rio, brand, name, company, offers, products, services, man, scania, navistar, volkswagen, caminhões, e, ônibus, brands, addition, provides, range, financial, solutions, including, dealer, customer, finance, leasing, insurance, products, company, founded, 2015, based, munich, germany, traton, se, subsidiary, volkswagen, finance, luxemburg, sa]   \n",
       "\n",
       "                                                                                                                                                                                                                                                                                                                                                                                                                                                                                                                                                                                                                                      stemmed  \\\n",
       "0  [traton, se, manufactur, commerci, vehicl, worldwid, oper, industri, busi, financi, servic, segment, compani, offer, light, heavyduti, commerci, vehicl, truck, bu, chassi, van, construct, vehicl, citi, buse, interc, travel, coach, well, spare, part, servic, also, provid, cloudbas, platform, freight, transport, rio, brand, name, compani, offer, product, servic, man, scania, navistar, volkswagen, caminhõ, e, ônibu, brand, addit, provid, rang, financi, solut, includ, dealer, custom, financ, leas, insur, product, compani, found, 2015, base, munich, germani, traton, se, subsidiari, volkswagen, financ, luxemburg, sa]   \n",
       "\n",
       "                                                                                                                                                                                                                                                                                                                                                                                                                                                                                                                                                                                                                                                                                                          lemmatized  \n",
       "0  [traton, se, manufacture, commercial, vehicle, worldwide, operates, industrial, business, financial, service, segment, company, offer, light, heavyduty, commercial, vehicle, truck, bus, chassis, van, construction, vehicle, city, bus, intercity, travel, coach, well, spare, part, service, also, provides, cloudbased, platform, freight, transportation, rio, brand, name, company, offer, product, service, man, scania, navistar, volkswagen, caminhões, e, ônibus, brand, addition, provides, range, financial, solution, including, dealer, customer, finance, leasing, insurance, product, company, founded, 2015, based, munich, germany, traton, se, subsidiary, volkswagen, finance, luxemburg, sa]  "
      ]
     },
     "execution_count": 15,
     "metadata": {},
     "output_type": "execute_result"
    }
   ],
   "source": [
    "wordnet_lemmatizer = WordNetLemmatizer()\n",
    "def lemmatizer(text):\n",
    "    lemm_text = [wordnet_lemmatizer.lemmatize(word) for word in text]\n",
    "    return lemm_text\n",
    "\n",
    "df['lemmatized'] = df['no_stop_words'].apply(lambda x:lemmatizer(x))\n",
    "df['companyName'] = df['companyName'].apply(lambda x: lemmatizer(x))\n",
    "df.head(1)"
   ]
  },
  {
   "cell_type": "markdown",
   "id": "47a9f227-df0e-4d19-a2f9-dac36c455911",
   "metadata": {},
   "source": [
    "# Model Training"
   ]
  },
  {
   "cell_type": "code",
   "execution_count": 17,
   "id": "4b3f36c0-1ca8-4fe0-8c06-df944e4d62d7",
   "metadata": {},
   "outputs": [
    {
     "name": "stdout",
     "output_type": "stream",
     "text": [
      "Using TensorFlow backend\n"
     ]
    },
    {
     "name": "stderr",
     "output_type": "stream",
     "text": [
      "2023-08-18 16:05:52.239299: I tensorflow/core/util/port.cc:110] oneDNN custom operations are on. You may see slightly different numerical results due to floating-point round-off errors from different computation orders. To turn them off, set the environment variable `TF_ENABLE_ONEDNN_OPTS=0`.\n",
      "2023-08-18 16:05:52.240780: I tensorflow/tsl/cuda/cudart_stub.cc:28] Could not find cuda drivers on your machine, GPU will not be used.\n",
      "2023-08-18 16:05:52.270067: I tensorflow/tsl/cuda/cudart_stub.cc:28] Could not find cuda drivers on your machine, GPU will not be used.\n",
      "2023-08-18 16:05:52.270582: I tensorflow/core/platform/cpu_feature_guard.cc:182] This TensorFlow binary is optimized to use available CPU instructions in performance-critical operations.\n",
      "To enable the following instructions: AVX2 AVX512F AVX512_VNNI FMA, in other operations, rebuild TensorFlow with the appropriate compiler flags.\n",
      "2023-08-18 16:05:52.757901: W tensorflow/compiler/tf2tensorrt/utils/py_utils.cc:38] TF-TRT Warning: Could not find TensorRT\n"
     ]
    }
   ],
   "source": [
    "import os\n",
    "\n",
    "os.environ[\"KERAS_BACKEND\"] = \"tensorflow\"\n",
    "\n",
    "import keras_nlp\n",
    "import tensorflow as tf\n",
    "import keras_core as keras\n",
    "import time"
   ]
  },
  {
   "cell_type": "code",
   "execution_count": null,
   "id": "a0f1409a-1192-4f63-a1ba-9ebc5b119f20",
   "metadata": {},
   "outputs": [],
   "source": [
    "keras_nlp.__version__"
   ]
  },
  {
   "cell_type": "code",
   "execution_count": 18,
   "id": "8ffa77aa-44b6-416e-a035-52269877b532",
   "metadata": {},
   "outputs": [
    {
     "name": "stderr",
     "output_type": "stream",
     "text": [
      "2023-08-18 16:06:12.495691: E tensorflow/compiler/xla/stream_executor/cuda/cuda_driver.cc:266] failed call to cuInit: CUDA_ERROR_NO_DEVICE: no CUDA-capable device is detected\n"
     ]
    }
   ],
   "source": [
    "preprocessor = keras_nlp.models.GPT2CausalLMPreprocessor.from_preset(\n",
    "    \"gpt2_base_en\", sequence_length=128)\n",
    "\n",
    "gpt2_lm = keras_nlp.models.GPT2CausalLM.from_preset(\n",
    "    \"gpt2_base_en\", preprocessor=None)"
   ]
  },
  {
   "cell_type": "code",
   "execution_count": 19,
   "id": "5c6cb65a-ff1a-4a6b-8dac-217176a2fc79",
   "metadata": {},
   "outputs": [
    {
     "data": {
      "text/html": [
       "<pre style=\"white-space:pre;overflow-x:auto;line-height:normal;font-family:Menlo,'DejaVu Sans Mono',consolas,'Courier New',monospace\"><span style=\"font-weight: bold\">Model: \"gpt2_causal_lm\"</span>\n",
       "</pre>\n"
      ],
      "text/plain": [
       "\u001b[1mModel: \"gpt2_causal_lm\"\u001b[0m\n"
      ]
     },
     "metadata": {},
     "output_type": "display_data"
    },
    {
     "data": {
      "text/html": [
       "<pre style=\"white-space:pre;overflow-x:auto;line-height:normal;font-family:Menlo,'DejaVu Sans Mono',consolas,'Courier New',monospace\">┏━━━━━━━━━━━━━━━━━━━━━━━━━━━━━━━┳━━━━━━━━━━━━━━━━━━━━━━━━━━━┳━━━━━━━━━━━━━┳━━━━━━━━━━━━━━━━━━━━━━━━━━━━━━━━┓\n",
       "┃<span style=\"font-weight: bold\"> Layer (type)                  </span>┃<span style=\"font-weight: bold\"> Output Shape              </span>┃<span style=\"font-weight: bold\">     Param # </span>┃<span style=\"font-weight: bold\"> Connected to                   </span>┃\n",
       "┡━━━━━━━━━━━━━━━━━━━━━━━━━━━━━━━╇━━━━━━━━━━━━━━━━━━━━━━━━━━━╇━━━━━━━━━━━━━╇━━━━━━━━━━━━━━━━━━━━━━━━━━━━━━━━┩\n",
       "│ padding_mask (<span style=\"color: #0087ff; text-decoration-color: #0087ff\">InputLayer</span>)     │ (<span style=\"color: #00d7ff; text-decoration-color: #00d7ff\">None</span>, <span style=\"color: #00d7ff; text-decoration-color: #00d7ff\">None</span>)              │           <span style=\"color: #00af00; text-decoration-color: #00af00\">0</span> │ -                              │\n",
       "├───────────────────────────────┼───────────────────────────┼─────────────┼────────────────────────────────┤\n",
       "│ token_ids (<span style=\"color: #0087ff; text-decoration-color: #0087ff\">InputLayer</span>)        │ (<span style=\"color: #00d7ff; text-decoration-color: #00d7ff\">None</span>, <span style=\"color: #00d7ff; text-decoration-color: #00d7ff\">None</span>)              │           <span style=\"color: #00af00; text-decoration-color: #00af00\">0</span> │ -                              │\n",
       "├───────────────────────────────┼───────────────────────────┼─────────────┼────────────────────────────────┤\n",
       "│ gpt2_backbone (<span style=\"color: #0087ff; text-decoration-color: #0087ff\">GPT2Backbone</span>)  │ (<span style=\"color: #00d7ff; text-decoration-color: #00d7ff\">None</span>, <span style=\"color: #00d7ff; text-decoration-color: #00d7ff\">None</span>, <span style=\"color: #00af00; text-decoration-color: #00af00\">768</span>)         │ <span style=\"color: #00af00; text-decoration-color: #00af00\">124,439,808</span> │ padding_mask[<span style=\"color: #00af00; text-decoration-color: #00af00\">0</span>][<span style=\"color: #00af00; text-decoration-color: #00af00\">0</span>],            │\n",
       "│                               │                           │             │ token_ids[<span style=\"color: #00af00; text-decoration-color: #00af00\">0</span>][<span style=\"color: #00af00; text-decoration-color: #00af00\">0</span>]                │\n",
       "├───────────────────────────────┼───────────────────────────┼─────────────┼────────────────────────────────┤\n",
       "│ reverse_embedding             │ (<span style=\"color: #00d7ff; text-decoration-color: #00d7ff\">None</span>, <span style=\"color: #00af00; text-decoration-color: #00af00\">50257</span>)             │  <span style=\"color: #00af00; text-decoration-color: #00af00\">38,597,376</span> │ gpt2_backbone[<span style=\"color: #00af00; text-decoration-color: #00af00\">0</span>][<span style=\"color: #00af00; text-decoration-color: #00af00\">0</span>]            │\n",
       "│ (<span style=\"color: #0087ff; text-decoration-color: #0087ff\">ReverseEmbedding</span>)            │                           │             │                                │\n",
       "└───────────────────────────────┴───────────────────────────┴─────────────┴────────────────────────────────┘\n",
       "</pre>\n"
      ],
      "text/plain": [
       "┏━━━━━━━━━━━━━━━━━━━━━━━━━━━━━━━┳━━━━━━━━━━━━━━━━━━━━━━━━━━━┳━━━━━━━━━━━━━┳━━━━━━━━━━━━━━━━━━━━━━━━━━━━━━━━┓\n",
       "┃\u001b[1m \u001b[0m\u001b[1mLayer (type)                 \u001b[0m\u001b[1m \u001b[0m┃\u001b[1m \u001b[0m\u001b[1mOutput Shape             \u001b[0m\u001b[1m \u001b[0m┃\u001b[1m \u001b[0m\u001b[1m    Param #\u001b[0m\u001b[1m \u001b[0m┃\u001b[1m \u001b[0m\u001b[1mConnected to                  \u001b[0m\u001b[1m \u001b[0m┃\n",
       "┡━━━━━━━━━━━━━━━━━━━━━━━━━━━━━━━╇━━━━━━━━━━━━━━━━━━━━━━━━━━━╇━━━━━━━━━━━━━╇━━━━━━━━━━━━━━━━━━━━━━━━━━━━━━━━┩\n",
       "│ padding_mask (\u001b[38;5;33mInputLayer\u001b[0m)     │ (\u001b[38;5;45mNone\u001b[0m, \u001b[38;5;45mNone\u001b[0m)              │           \u001b[38;5;34m0\u001b[0m │ -                              │\n",
       "├───────────────────────────────┼───────────────────────────┼─────────────┼────────────────────────────────┤\n",
       "│ token_ids (\u001b[38;5;33mInputLayer\u001b[0m)        │ (\u001b[38;5;45mNone\u001b[0m, \u001b[38;5;45mNone\u001b[0m)              │           \u001b[38;5;34m0\u001b[0m │ -                              │\n",
       "├───────────────────────────────┼───────────────────────────┼─────────────┼────────────────────────────────┤\n",
       "│ gpt2_backbone (\u001b[38;5;33mGPT2Backbone\u001b[0m)  │ (\u001b[38;5;45mNone\u001b[0m, \u001b[38;5;45mNone\u001b[0m, \u001b[38;5;34m768\u001b[0m)         │ \u001b[38;5;34m124,439,808\u001b[0m │ padding_mask[\u001b[38;5;34m0\u001b[0m][\u001b[38;5;34m0\u001b[0m],            │\n",
       "│                               │                           │             │ token_ids[\u001b[38;5;34m0\u001b[0m][\u001b[38;5;34m0\u001b[0m]                │\n",
       "├───────────────────────────────┼───────────────────────────┼─────────────┼────────────────────────────────┤\n",
       "│ reverse_embedding             │ (\u001b[38;5;45mNone\u001b[0m, \u001b[38;5;34m50257\u001b[0m)             │  \u001b[38;5;34m38,597,376\u001b[0m │ gpt2_backbone[\u001b[38;5;34m0\u001b[0m][\u001b[38;5;34m0\u001b[0m]            │\n",
       "│ (\u001b[38;5;33mReverseEmbedding\u001b[0m)            │                           │             │                                │\n",
       "└───────────────────────────────┴───────────────────────────┴─────────────┴────────────────────────────────┘\n"
      ]
     },
     "metadata": {},
     "output_type": "display_data"
    },
    {
     "data": {
      "text/html": [
       "<pre style=\"white-space:pre;overflow-x:auto;line-height:normal;font-family:Menlo,'DejaVu Sans Mono',consolas,'Courier New',monospace\"><span style=\"font-weight: bold\"> Total params: </span><span style=\"color: #00af00; text-decoration-color: #00af00\">124,439,808</span> (3.71 GB)\n",
       "</pre>\n"
      ],
      "text/plain": [
       "\u001b[1m Total params: \u001b[0m\u001b[38;5;34m124,439,808\u001b[0m (3.71 GB)\n"
      ]
     },
     "metadata": {},
     "output_type": "display_data"
    },
    {
     "data": {
      "text/html": [
       "<pre style=\"white-space:pre;overflow-x:auto;line-height:normal;font-family:Menlo,'DejaVu Sans Mono',consolas,'Courier New',monospace\"><span style=\"font-weight: bold\"> Trainable params: </span><span style=\"color: #00af00; text-decoration-color: #00af00\">124,439,808</span> (3.71 GB)\n",
       "</pre>\n"
      ],
      "text/plain": [
       "\u001b[1m Trainable params: \u001b[0m\u001b[38;5;34m124,439,808\u001b[0m (3.71 GB)\n"
      ]
     },
     "metadata": {},
     "output_type": "display_data"
    },
    {
     "data": {
      "text/html": [
       "<pre style=\"white-space:pre;overflow-x:auto;line-height:normal;font-family:Menlo,'DejaVu Sans Mono',consolas,'Courier New',monospace\"><span style=\"font-weight: bold\"> Non-trainable params: </span><span style=\"color: #00af00; text-decoration-color: #00af00\">0</span> (0.00 B)\n",
       "</pre>\n"
      ],
      "text/plain": [
       "\u001b[1m Non-trainable params: \u001b[0m\u001b[38;5;34m0\u001b[0m (0.00 B)\n"
      ]
     },
     "metadata": {},
     "output_type": "display_data"
    }
   ],
   "source": [
    "gpt2_lm.summary()"
   ]
  },
  {
   "cell_type": "code",
   "execution_count": 20,
   "id": "b3b4a2e0-6c82-4dc6-8fa2-f46d609bf59c",
   "metadata": {},
   "outputs": [
    {
     "name": "stdout",
     "output_type": "stream",
     "text": [
      "(None, None) int32\n",
      "(None, None) int32\n"
     ]
    },
    {
     "data": {
      "text/plain": [
       "[None, None]"
      ]
     },
     "execution_count": 20,
     "metadata": {},
     "output_type": "execute_result"
    }
   ],
   "source": [
    "[print(i.shape, i.dtype) for i in gpt2_lm.inputs]"
   ]
  },
  {
   "cell_type": "code",
   "execution_count": null,
   "id": "0ddece6a-a11b-4633-b92a-2bb4a5523374",
   "metadata": {},
   "outputs": [],
   "source": [
    "# start = time.time()\n",
    "\n",
    "# output = gpt2_lm.generate(\"how is the weather today in Kaiserslautern?\",max_length=200)\n",
    "# print(\"\\nGPT-2 OUTPUT:\")\n",
    "# print(output)\n",
    "\n",
    "# end = time.time()\n",
    "# print(f\"TOTAL TIME ELAPSED: {end - start:.2f}s\")"
   ]
  },
  {
   "cell_type": "markdown",
   "id": "e9df40e8-2d7b-46b3-8064-0099ea5ab1f4",
   "metadata": {},
   "source": [
    "## Vectorization / Word Embedding"
   ]
  },
  {
   "cell_type": "code",
   "execution_count": null,
   "id": "c7ec2317-ecac-4a3e-8028-72d9270062e3",
   "metadata": {},
   "outputs": [],
   "source": [
    "from sklearn.feature_extraction.text import CountVectorizer"
   ]
  },
  {
   "cell_type": "code",
   "execution_count": 21,
   "id": "d7634e81-346f-492d-af44-79ed7ef0c872",
   "metadata": {},
   "outputs": [
    {
     "data": {
      "text/html": [
       "<div>\n",
       "<style scoped>\n",
       "    .dataframe tbody tr th:only-of-type {\n",
       "        vertical-align: middle;\n",
       "    }\n",
       "\n",
       "    .dataframe tbody tr th {\n",
       "        vertical-align: top;\n",
       "    }\n",
       "\n",
       "    .dataframe thead th {\n",
       "        text-align: right;\n",
       "    }\n",
       "</style>\n",
       "<table border=\"1\" class=\"dataframe\">\n",
       "  <thead>\n",
       "    <tr style=\"text-align: right;\">\n",
       "      <th></th>\n",
       "      <th>companyName</th>\n",
       "      <th>lemmatized</th>\n",
       "    </tr>\n",
       "  </thead>\n",
       "  <tbody>\n",
       "    <tr>\n",
       "      <th>0</th>\n",
       "      <td>[traton, se]</td>\n",
       "      <td>[traton, se, manufacture, commercial, vehicle, worldwide, operates, industrial, business, financial, service, segment, company, offer, light, heavyduty, commercial, vehicle, truck, bus, chassis, van, construction, vehicle, city, bus, intercity, travel, coach, well, spare, part, service, also, provides, cloudbased, platform, freight, transportation, rio, brand, name, company, offer, product, service, man, scania, navistar, volkswagen, caminhões, e, ônibus, brand, addition, provides, range, financial, solution, including, dealer, customer, finance, leasing, insurance, product, company, founded, 2015, based, munich, germany, traton, se, subsidiary, volkswagen, finance, luxemburg, sa]</td>\n",
       "    </tr>\n",
       "  </tbody>\n",
       "</table>\n",
       "</div>"
      ],
      "text/plain": [
       "    companyName  \\\n",
       "0  [traton, se]   \n",
       "\n",
       "                                                                                                                                                                                                                                                                                                                                                                                                                                                                                                                                                                                                                                                                                                          lemmatized  \n",
       "0  [traton, se, manufacture, commercial, vehicle, worldwide, operates, industrial, business, financial, service, segment, company, offer, light, heavyduty, commercial, vehicle, truck, bus, chassis, van, construction, vehicle, city, bus, intercity, travel, coach, well, spare, part, service, also, provides, cloudbased, platform, freight, transportation, rio, brand, name, company, offer, product, service, man, scania, navistar, volkswagen, caminhões, e, ônibus, brand, addition, provides, range, financial, solution, including, dealer, customer, finance, leasing, insurance, product, company, founded, 2015, based, munich, germany, traton, se, subsidiary, volkswagen, finance, luxemburg, sa]  "
      ]
     },
     "execution_count": 21,
     "metadata": {},
     "output_type": "execute_result"
    }
   ],
   "source": [
    "df_new = df.copy()\n",
    "df_new = df_new.drop(columns=['description','puncFree','lowercased','tokenized','no_stop_words','stemmed'])\n",
    "df_new.head(1)"
   ]
  },
  {
   "cell_type": "code",
   "execution_count": 22,
   "id": "0437b98c-9d86-4b86-9474-7ed0dc4fa9b9",
   "metadata": {},
   "outputs": [],
   "source": [
    "df_new['lemmatized'] = df_new['lemmatized'].apply(lambda x: ','.join(map(str, x)))\n",
    "df_new['companyName'] = df_new['companyName'].apply(lambda x: ','.join(map(str, x)))"
   ]
  },
  {
   "cell_type": "code",
   "execution_count": 23,
   "id": "a160e51e-3e00-49ec-a233-058791f1a165",
   "metadata": {},
   "outputs": [
    {
     "data": {
      "text/plain": [
       "0    traton,se,manufacture,commercial,vehicle,worldwide,operates,industrial,business,financial,service,segment,company,offer,light,heavyduty,commercial,vehicle,truck,bus,chassis,van,construction,vehicle,city,bus,intercity,travel,coach,well,spare,part,service,also,provides,cloudbased,platform,freight,transportation,rio,brand,name,company,offer,product,service,man,scania,navistar,volkswagen,caminhões,e,ônibus,brand,addition,provides,range,financial,solution,including,dealer,customer,finance,leasing,insurance,product,company,founded,2015,based,munich,germany,traton,se,subsidiary,volkswagen,finance,luxemburg,sa\n",
       "Name: lemmatized, dtype: object"
      ]
     },
     "execution_count": 23,
     "metadata": {},
     "output_type": "execute_result"
    }
   ],
   "source": [
    "df_new['lemmatized'].head(1)"
   ]
  },
  {
   "cell_type": "code",
   "execution_count": null,
   "id": "d6f8ccc2-5471-41eb-9cd6-6106c7a9892e",
   "metadata": {},
   "outputs": [],
   "source": [
    "df['lemmatized'].shape"
   ]
  },
  {
   "cell_type": "code",
   "execution_count": null,
   "id": "cea4bb8e-304b-4888-a92e-28adf94e821d",
   "metadata": {},
   "outputs": [],
   "source": [
    "corpus = df_new['lemmatized']\n",
    "countvectorizer = CountVectorizer()\n",
    "x = countvectorizer.fit_transform(corpus)\n",
    "result1 = x.toarray()\n",
    "print(result1)"
   ]
  },
  {
   "cell_type": "code",
   "execution_count": null,
   "id": "3443597c-0aea-42f1-8940-11bf94a8a3e6",
   "metadata": {},
   "outputs": [],
   "source": [
    "# corpus = df_new['companyName']\n",
    "# countvectorizer = CountVectorizer()\n",
    "# xx = countvectorizer.fit_transform(corpus)\n",
    "# result2 = xx.toarray()\n",
    "# print(result2)"
   ]
  },
  {
   "cell_type": "code",
   "execution_count": null,
   "id": "320f68f3-d17c-4816-8f90-af0cabc44edf",
   "metadata": {},
   "outputs": [],
   "source": [
    "np.unique(result1)"
   ]
  },
  {
   "cell_type": "code",
   "execution_count": null,
   "id": "e3004af8-bba7-4b2a-bdc7-455fad526e4f",
   "metadata": {},
   "outputs": [],
   "source": [
    "result1.shape"
   ]
  },
  {
   "cell_type": "code",
   "execution_count": null,
   "id": "c08d1564-1e08-4db9-9d23-5a3410e2215a",
   "metadata": {},
   "outputs": [],
   "source": [
    "# print(x)"
   ]
  },
  {
   "cell_type": "code",
   "execution_count": null,
   "id": "3e9b2b7b-04be-49a1-a029-538ad0cff91e",
   "metadata": {},
   "outputs": [],
   "source": [
    "x.shape"
   ]
  },
  {
   "cell_type": "code",
   "execution_count": null,
   "id": "6369015a-e0ca-4844-ab5a-e356ae1eb261",
   "metadata": {},
   "outputs": [],
   "source": [
    "# result2.shape"
   ]
  },
  {
   "cell_type": "code",
   "execution_count": null,
   "id": "93d77d35-7953-4b20-aa04-a093e920fe98",
   "metadata": {},
   "outputs": [],
   "source": [
    "# from sklearn.preprocessing import StandardScaler\n",
    "# scaler = StandardScaler().fit(result)\n",
    "# train = scaler.transform(result)"
   ]
  },
  {
   "cell_type": "code",
   "execution_count": null,
   "id": "15def422-86ec-478d-8002-efc4fa671b95",
   "metadata": {},
   "outputs": [],
   "source": [
    "# batch_size = 64\n",
    "\n",
    "# train_dataset = tf.data.Dataset.from_tensor_slices(text_train)\n",
    "# train_dataset = train_dataset.shuffle(buffer_size=256)\n",
    "# train_dataset = train_dataset.batch(batch_size)\n",
    "\n",
    "# test_dataset = tf.data.Dataset.from_tensor_slices(text_test)\n",
    "# test_dataset = test_dataset.shuffle(buffer_size=256)\n",
    "# test_dataset = test_dataset.batch(batch_size)\n",
    "\n",
    "# valid_dataset = tf.data.Dataset.from_tensor_slices(text_valid)\n",
    "# valid_dataset = valid_dataset.shuffle(buffer_size=256)\n",
    "# valid_dataset = valid_dataset.batch(batch_size)"
   ]
  },
  {
   "cell_type": "code",
   "execution_count": null,
   "id": "148d727e-c31c-4fa5-858b-b697e4949e7c",
   "metadata": {},
   "outputs": [],
   "source": [
    "tokenizer = keras_nlp.models.GPT2Tokenizer.from_preset(\"gpt2_base_en\")\n",
    "\n",
    "# Tokenize some input.\n",
    "tokID = tokenizer(df_new['lemmatized'])\n"
   ]
  },
  {
   "cell_type": "code",
   "execution_count": null,
   "id": "d01db574-309c-45ad-a9bf-2f96ca1726f8",
   "metadata": {},
   "outputs": [],
   "source": [
    "type(tokID)"
   ]
  },
  {
   "cell_type": "code",
   "execution_count": null,
   "id": "29dced2d-9492-43df-83a3-57fb1429fd71",
   "metadata": {},
   "outputs": [],
   "source": [
    "tokID.shape"
   ]
  },
  {
   "cell_type": "code",
   "execution_count": null,
   "id": "6bc2b32e-87d7-4225-8cb9-0962b74e6cc7",
   "metadata": {},
   "outputs": [],
   "source": [
    "tokID[0]"
   ]
  },
  {
   "cell_type": "code",
   "execution_count": null,
   "id": "eada77f8-99c8-4839-bf68-bee4a2037a14",
   "metadata": {},
   "outputs": [],
   "source": [
    "tok=tokID.numpy()"
   ]
  },
  {
   "cell_type": "code",
   "execution_count": null,
   "id": "f7454280-0321-49c5-8987-aca74f2a3ede",
   "metadata": {},
   "outputs": [],
   "source": [
    "len(tok)"
   ]
  },
  {
   "cell_type": "code",
   "execution_count": null,
   "id": "3c7b56c1-b43b-4662-9dc1-e0aecbd89bd3",
   "metadata": {},
   "outputs": [],
   "source": [
    "tok.shape"
   ]
  },
  {
   "cell_type": "code",
   "execution_count": null,
   "id": "933adcda-7be4-4c0a-be9c-8301953c24cb",
   "metadata": {},
   "outputs": [],
   "source": [
    "# tok"
   ]
  },
  {
   "cell_type": "code",
   "execution_count": null,
   "id": "28c8aa22-3619-4ce0-bc27-faa9897886cb",
   "metadata": {},
   "outputs": [],
   "source": [
    "type(tok)"
   ]
  },
  {
   "cell_type": "code",
   "execution_count": null,
   "id": "2d457b67-4598-407f-b797-995e77e4a028",
   "metadata": {},
   "outputs": [],
   "source": [
    "type(mask)"
   ]
  },
  {
   "cell_type": "code",
   "execution_count": null,
   "id": "2d7a9f89-9d53-46a3-9284-8819ce9708de",
   "metadata": {},
   "outputs": [],
   "source": [
    "flattened = [] \n",
    "for sublist in tok: \n",
    "    for val in sublist: \n",
    "        flattened.append(val) \n",
    "\n",
    "# flattened"
   ]
  },
  {
   "cell_type": "code",
   "execution_count": null,
   "id": "b51d2406-6951-4eb9-9b6d-507101d1cf24",
   "metadata": {},
   "outputs": [],
   "source": [
    "# tokID"
   ]
  },
  {
   "cell_type": "code",
   "execution_count": null,
   "id": "fae4de8b-3551-4a9b-b570-ff080298fac8",
   "metadata": {},
   "outputs": [],
   "source": [
    "# n = np.array(tokID)\n",
    "\n",
    "# n.shape"
   ]
  },
  {
   "cell_type": "code",
   "execution_count": null,
   "id": "9a48f7f5-cfe3-4b97-a4b3-d1360b53d5ca",
   "metadata": {},
   "outputs": [],
   "source": [
    "# mask = [[None]]*len(tok)\n",
    "mask = np.empty(190, dtype=\"int32\")\n",
    "a = []"
   ]
  },
  {
   "cell_type": "code",
   "execution_count": null,
   "id": "5c0f6545-98d3-42a4-8147-c2cb57690296",
   "metadata": {},
   "outputs": [],
   "source": [
    "type(mask)"
   ]
  },
  {
   "cell_type": "code",
   "execution_count": null,
   "id": "7dd1824d-39b9-4e5e-8a8b-e24a1416b848",
   "metadata": {},
   "outputs": [],
   "source": [
    "for i in range(len(tok)):\n",
    "    for j in range(len(tokID[i])):\n",
    "        a.append(1)\n",
    "        # print(len(a))\n",
    "    mask[i] = a"
   ]
  },
  {
   "cell_type": "code",
   "execution_count": null,
   "id": "e0f40042-bff3-4033-8a1a-e09e49a0c839",
   "metadata": {},
   "outputs": [],
   "source": [
    "mask.shape"
   ]
  },
  {
   "cell_type": "code",
   "execution_count": null,
   "id": "74f3ec84-b1f9-44cf-9b3e-55d05ec327a8",
   "metadata": {},
   "outputs": [],
   "source": [
    "# mask[0]"
   ]
  },
  {
   "cell_type": "code",
   "execution_count": null,
   "id": "0f59c61c-603b-4391-ab73-dbdc5b917097",
   "metadata": {},
   "outputs": [],
   "source": [
    "# mask = np.array(mask)"
   ]
  },
  {
   "cell_type": "code",
   "execution_count": null,
   "id": "5d6c808c-a4b9-465c-8747-29e9d22c1d95",
   "metadata": {},
   "outputs": [],
   "source": [
    "mask = np.ones((204,), dtype=\"int32\")"
   ]
  },
  {
   "cell_type": "code",
   "execution_count": null,
   "id": "2ed819c2-2c0b-4431-9944-0e4148910ea7",
   "metadata": {},
   "outputs": [],
   "source": [
    "mask2 = np.ones((416,), dtype=\"int32\")"
   ]
  },
  {
   "cell_type": "code",
   "execution_count": null,
   "id": "cf5d6c29-9b70-4117-8767-6186581e6b1c",
   "metadata": {},
   "outputs": [],
   "source": [
    "mask.shape"
   ]
  },
  {
   "cell_type": "code",
   "execution_count": null,
   "id": "6fc25e15-79b2-454b-96fe-5520c1aaa18e",
   "metadata": {},
   "outputs": [],
   "source": [
    "len(tokID[1])"
   ]
  },
  {
   "cell_type": "code",
   "execution_count": null,
   "id": "8a279346-420e-4072-914f-20307b4a87b8",
   "metadata": {},
   "outputs": [],
   "source": [
    "tok = np.asarray(tok[0]).astype('int32')\n",
    "mask = np.asarray(mask).astype('int32')"
   ]
  },
  {
   "cell_type": "code",
   "execution_count": null,
   "id": "3fa5bca7-7138-4d79-a74d-2c6ad5ce1a55",
   "metadata": {},
   "outputs": [],
   "source": [
    "x = {\n",
    "    \"token_ids\": [tokID[0]]*2,\n",
    "    \"padding_mask\": [mask]*2,\n",
    "}"
   ]
  },
  {
   "cell_type": "code",
   "execution_count": null,
   "id": "fe19b1eb-d6d1-4bb3-98ca-248362b3b7c7",
   "metadata": {},
   "outputs": [],
   "source": [
    "# tok[0]"
   ]
  },
  {
   "cell_type": "code",
   "execution_count": null,
   "id": "783b6076-d427-4a44-8e72-dbf016b208ad",
   "metadata": {},
   "outputs": [],
   "source": [
    "# len(mask[1])"
   ]
  },
  {
   "cell_type": "code",
   "execution_count": null,
   "id": "53ab9cb9-2e9a-4b94-ac5b-3215a1e04170",
   "metadata": {},
   "outputs": [],
   "source": [
    "# x"
   ]
  },
  {
   "cell_type": "code",
   "execution_count": null,
   "id": "53158ab5-95a6-4a98-990a-c4ec504cca59",
   "metadata": {},
   "outputs": [],
   "source": [
    "features = tf.constant(df_new['lemmatized'])\n",
    "ds = tf.data.Dataset.from_tensor_slices(features)\n",
    "ds = ds.map(preprocessor, num_parallel_calls=tf.data.AUTOTUNE)"
   ]
  },
  {
   "cell_type": "code",
   "execution_count": null,
   "id": "509f18db-c5e5-4a41-ba2d-4e816b3cbb13",
   "metadata": {},
   "outputs": [],
   "source": [
    "# tf.reshape(ds,(1,-1))"
   ]
  },
  {
   "cell_type": "code",
   "execution_count": 42,
   "id": "7c644abb-1446-467a-a08a-b8edbffe5288",
   "metadata": {},
   "outputs": [
    {
     "data": {
      "text/plain": [
       "{'padding_mask': array([[1, 1, 1, ..., 0, 0, 0],\n",
       "        [1, 1, 1, ..., 0, 0, 0],\n",
       "        [1, 1, 1, ..., 0, 0, 0],\n",
       "        ...,\n",
       "        [1, 1, 1, ..., 0, 0, 0],\n",
       "        [1, 1, 1, ..., 0, 0, 0],\n",
       "        [1, 1, 1, ..., 0, 0, 0]]),\n",
       " 'token_ids': array([[ 2213, 13951,    11, ..., 50257, 50257, 50257],\n",
       "        [   17,    70,    11, ..., 50257, 50257, 50257],\n",
       "        [16762,    84,    11, ..., 50257, 50257, 50257],\n",
       "        ...,\n",
       "        [12215, 23515,    11, ..., 50257, 50257, 50257],\n",
       "        [   74, 14852,    11, ..., 50257, 50257, 50257],\n",
       "        [14636,    67,    11, ..., 50257, 50257, 50257]])}"
      ]
     },
     "execution_count": 42,
     "metadata": {},
     "output_type": "execute_result"
    }
   ],
   "source": [
    "x"
   ]
  },
  {
   "cell_type": "code",
   "execution_count": 43,
   "id": "2776c8a2-b316-4eb5-abf2-eed1a5d9c0b4",
   "metadata": {},
   "outputs": [
    {
     "data": {
      "text/plain": [
       "{'padding_mask': array([[1, 1, 1, ..., 0, 0, 0],\n",
       "        [1, 1, 1, ..., 0, 0, 0],\n",
       "        [1, 1, 1, ..., 0, 0, 0],\n",
       "        ...,\n",
       "        [1, 1, 1, ..., 0, 0, 0],\n",
       "        [1, 1, 1, ..., 0, 0, 0],\n",
       "        [1, 1, 1, ..., 0, 0, 0]]),\n",
       " 'token_ids': array([[ 2213, 13951,    11, ..., 50257, 50257, 50257],\n",
       "        [   17,    70,    11, ..., 50257, 50257, 50257],\n",
       "        [16762,    84,    11, ..., 50257, 50257, 50257],\n",
       "        ...,\n",
       "        [12215, 23515,    11, ..., 50257, 50257, 50257],\n",
       "        [   74, 14852,    11, ..., 50257, 50257, 50257],\n",
       "        [14636,    67,    11, ..., 50257, 50257, 50257]])}"
      ]
     },
     "execution_count": 43,
     "metadata": {},
     "output_type": "execute_result"
    }
   ],
   "source": [
    "y"
   ]
  },
  {
   "cell_type": "code",
   "execution_count": 50,
   "id": "640d06b0-39a8-4f4e-b8bd-ec4fd95c89a5",
   "metadata": {},
   "outputs": [
    {
     "name": "stderr",
     "output_type": "stream",
     "text": [
      "2023-08-18 16:21:32.488444: I tensorflow/core/common_runtime/executor.cc:1197] [/device:CPU:0] (DEBUG INFO) Executor start aborting (this does not indicate an error and you can ignore this message): INVALID_ARGUMENT: You must feed a value for placeholder tensor 'Placeholder/_3' with dtype int64 and shape [190,26]\n",
      "\t [[{{node Placeholder/_3}}]]\n"
     ]
    },
    {
     "ename": "ValueError",
     "evalue": "No loss to compute. Provide a `loss` argument in `compile()`.",
     "output_type": "error",
     "traceback": [
      "\u001b[0;31m---------------------------------------------------------------------------\u001b[0m",
      "\u001b[0;31mValueError\u001b[0m                                Traceback (most recent call last)",
      "Cell \u001b[0;32mIn[50], line 18\u001b[0m\n\u001b[1;32m      9\u001b[0m gpt2_lm\u001b[38;5;241m.\u001b[39mcompile(\n\u001b[1;32m     10\u001b[0m     optimizer\u001b[38;5;241m=\u001b[39mkeras\u001b[38;5;241m.\u001b[39moptimizers\u001b[38;5;241m.\u001b[39mAdam(),\n\u001b[1;32m     11\u001b[0m     loss\u001b[38;5;241m=\u001b[39mloss,\n\u001b[1;32m     12\u001b[0m     weighted_metrics\u001b[38;5;241m=\u001b[39m[\u001b[38;5;124m\"\u001b[39m\u001b[38;5;124maccuracy\u001b[39m\u001b[38;5;124m\"\u001b[39m],\n\u001b[1;32m     13\u001b[0m )\n\u001b[1;32m     15\u001b[0m \u001b[38;5;66;03m# gpt2_lm.fit(x = tf.data.Dataset.from_tensor_slices(x), epochs=num_epochs, batch_size=32)\u001b[39;00m\n\u001b[1;32m     16\u001b[0m \u001b[38;5;66;03m# gpt2_lm.fit(x = x, y=np.flip([tokID[0]]*2), epochs=num_epochs, sample_weight=sw, batch_size=32)\u001b[39;00m\n\u001b[1;32m     17\u001b[0m \u001b[38;5;66;03m# gpt2_lm.fit(x = x, y = None, epochs=num_epochs, sample_weight=sw, batch_size=2)\u001b[39;00m\n\u001b[0;32m---> 18\u001b[0m \u001b[43mgpt2_lm\u001b[49m\u001b[38;5;241;43m.\u001b[39;49m\u001b[43mfit\u001b[49m\u001b[43m(\u001b[49m\u001b[43mx\u001b[49m\u001b[38;5;241;43m=\u001b[39;49m\u001b[43mx\u001b[49m\u001b[43m,\u001b[49m\u001b[43m \u001b[49m\u001b[43my\u001b[49m\u001b[38;5;241;43m=\u001b[39;49m\u001b[43my\u001b[49m\u001b[43m,\u001b[49m\u001b[43m \u001b[49m\u001b[43mepochs\u001b[49m\u001b[38;5;241;43m=\u001b[39;49m\u001b[43mnum_epochs\u001b[49m\u001b[43m)\u001b[49m\n",
      "File \u001b[0;32m~/anaconda3/envs/NLP2/lib/python3.11/site-packages/keras_nlp/src/utils/pipeline_model.py:202\u001b[0m, in \u001b[0;36mPipelineModel.fit\u001b[0;34m(self, x, y, batch_size, sample_weight, validation_data, validation_split, **kwargs)\u001b[0m\n\u001b[1;32m    195\u001b[0m         (vx, vy, vsw) \u001b[38;5;241m=\u001b[39m keras\u001b[38;5;241m.\u001b[39mutils\u001b[38;5;241m.\u001b[39munpack_x_y_sample_weight(\n\u001b[1;32m    196\u001b[0m             validation_data\n\u001b[1;32m    197\u001b[0m         )\n\u001b[1;32m    198\u001b[0m         validation_data \u001b[38;5;241m=\u001b[39m _convert_inputs_to_dataset(\n\u001b[1;32m    199\u001b[0m             vx, vy, vsw, batch_size\n\u001b[1;32m    200\u001b[0m         )\n\u001b[0;32m--> 202\u001b[0m \u001b[38;5;28;01mreturn\u001b[39;00m \u001b[38;5;28;43msuper\u001b[39;49m\u001b[43m(\u001b[49m\u001b[43m)\u001b[49m\u001b[38;5;241;43m.\u001b[39;49m\u001b[43mfit\u001b[49m\u001b[43m(\u001b[49m\n\u001b[1;32m    203\u001b[0m \u001b[43m    \u001b[49m\u001b[43mx\u001b[49m\u001b[38;5;241;43m=\u001b[39;49m\u001b[43mx\u001b[49m\u001b[43m,\u001b[49m\n\u001b[1;32m    204\u001b[0m \u001b[43m    \u001b[49m\u001b[43my\u001b[49m\u001b[38;5;241;43m=\u001b[39;49m\u001b[38;5;28;43;01mNone\u001b[39;49;00m\u001b[43m,\u001b[49m\n\u001b[1;32m    205\u001b[0m \u001b[43m    \u001b[49m\u001b[43mbatch_size\u001b[49m\u001b[38;5;241;43m=\u001b[39;49m\u001b[38;5;28;43;01mNone\u001b[39;49;00m\u001b[43m,\u001b[49m\n\u001b[1;32m    206\u001b[0m \u001b[43m    \u001b[49m\u001b[43msample_weight\u001b[49m\u001b[38;5;241;43m=\u001b[39;49m\u001b[38;5;28;43;01mNone\u001b[39;49;00m\u001b[43m,\u001b[49m\n\u001b[1;32m    207\u001b[0m \u001b[43m    \u001b[49m\u001b[43mvalidation_data\u001b[49m\u001b[38;5;241;43m=\u001b[39;49m\u001b[43mvalidation_data\u001b[49m\u001b[43m,\u001b[49m\n\u001b[1;32m    208\u001b[0m \u001b[43m    \u001b[49m\u001b[38;5;241;43m*\u001b[39;49m\u001b[38;5;241;43m*\u001b[39;49m\u001b[43mkwargs\u001b[49m\u001b[43m,\u001b[49m\n\u001b[1;32m    209\u001b[0m \u001b[43m\u001b[49m\u001b[43m)\u001b[49m\n",
      "File \u001b[0;32m~/anaconda3/envs/NLP2/lib/python3.11/site-packages/keras_core/src/utils/traceback_utils.py:123\u001b[0m, in \u001b[0;36mfilter_traceback.<locals>.error_handler\u001b[0;34m(*args, **kwargs)\u001b[0m\n\u001b[1;32m    120\u001b[0m     filtered_tb \u001b[38;5;241m=\u001b[39m _process_traceback_frames(e\u001b[38;5;241m.\u001b[39m__traceback__)\n\u001b[1;32m    121\u001b[0m     \u001b[38;5;66;03m# To get the full stack trace, call:\u001b[39;00m\n\u001b[1;32m    122\u001b[0m     \u001b[38;5;66;03m# `keras_core.config.disable_traceback_filtering()`\u001b[39;00m\n\u001b[0;32m--> 123\u001b[0m     \u001b[38;5;28;01mraise\u001b[39;00m e\u001b[38;5;241m.\u001b[39mwith_traceback(filtered_tb) \u001b[38;5;28;01mfrom\u001b[39;00m \u001b[38;5;28;01mNone\u001b[39;00m\n\u001b[1;32m    124\u001b[0m \u001b[38;5;28;01mfinally\u001b[39;00m:\n\u001b[1;32m    125\u001b[0m     \u001b[38;5;28;01mdel\u001b[39;00m filtered_tb\n",
      "File \u001b[0;32m~/anaconda3/envs/NLP2/lib/python3.11/site-packages/keras_core/src/trainers/trainer.py:206\u001b[0m, in \u001b[0;36mTrainer.compute_loss\u001b[0;34m(***failed resolving arguments***)\u001b[0m\n\u001b[1;32m    204\u001b[0m     losses\u001b[38;5;241m.\u001b[39mappend(ops\u001b[38;5;241m.\u001b[39mcast(loss, dtype\u001b[38;5;241m=\u001b[39mbackend\u001b[38;5;241m.\u001b[39mfloatx()))\n\u001b[1;32m    205\u001b[0m \u001b[38;5;28;01mif\u001b[39;00m \u001b[38;5;129;01mnot\u001b[39;00m allow_empty \u001b[38;5;129;01mand\u001b[39;00m \u001b[38;5;28mlen\u001b[39m(losses) \u001b[38;5;241m==\u001b[39m \u001b[38;5;241m0\u001b[39m:\n\u001b[0;32m--> 206\u001b[0m     \u001b[38;5;28;01mraise\u001b[39;00m \u001b[38;5;167;01mValueError\u001b[39;00m(\n\u001b[1;32m    207\u001b[0m         \u001b[38;5;124m\"\u001b[39m\u001b[38;5;124mNo loss to compute. Provide a `loss` argument in `compile()`.\u001b[39m\u001b[38;5;124m\"\u001b[39m\n\u001b[1;32m    208\u001b[0m     )\n\u001b[1;32m    209\u001b[0m \u001b[38;5;28;01mif\u001b[39;00m \u001b[38;5;28mlen\u001b[39m(losses) \u001b[38;5;241m==\u001b[39m \u001b[38;5;241m1\u001b[39m:\n\u001b[1;32m    210\u001b[0m     total_loss \u001b[38;5;241m=\u001b[39m losses[\u001b[38;5;241m0\u001b[39m]\n",
      "\u001b[0;31mValueError\u001b[0m: No loss to compute. Provide a `loss` argument in `compile()`."
     ]
    }
   ],
   "source": [
    "# x = df['description']\n",
    "x = tokenized_data_main\n",
    "y = tokenized_data_label\n",
    "num_epochs = 1\n",
    "# sw = [mask]*2\n",
    "\n",
    "\n",
    "loss = keras.losses.SparseCategoricalCrossentropy(from_logits=True)\n",
    "gpt2_lm.compile(\n",
    "    optimizer=keras.optimizers.Adam(),\n",
    "    loss=loss,\n",
    "    weighted_metrics=[\"accuracy\"],\n",
    ")\n",
    "\n",
    "# gpt2_lm.fit(x = tf.data.Dataset.from_tensor_slices(x), epochs=num_epochs, batch_size=32)\n",
    "# gpt2_lm.fit(x = x, y=np.flip([tokID[0]]*2), epochs=num_epochs, sample_weight=sw, batch_size=32)\n",
    "# gpt2_lm.fit(x = x, y = None, epochs=num_epochs, sample_weight=sw, batch_size=2)\n",
    "gpt2_lm.fit(x=x, y=y, epochs=num_epochs)\n"
   ]
  },
  {
   "cell_type": "code",
   "execution_count": null,
   "id": "9870e035-bf93-42a4-ae53-09a873aedb85",
   "metadata": {},
   "outputs": [],
   "source": [
    "preprocessor = keras_nlp.models.GPT2CausalLMPreprocessor.from_preset(\n",
    "    \"gpt2_base_en\", sequence_length=128)\n",
    "\n",
    "gpt2_gen = keras_nlp.models.GPT2CausalLM.from_preset(\n",
    "    \"gpt2_base_en\", preprocessor=preprocessor)"
   ]
  },
  {
   "cell_type": "code",
   "execution_count": null,
   "id": "de5d5890-96cf-4e86-8fcf-e5b1c12f919a",
   "metadata": {},
   "outputs": [],
   "source": [
    "prompt = {\n",
    "    \"token_ids\": (np.array([[2213, 13951, 0, 0, 0]] * 2)).astype('int32'),\n",
    "    \"padding_mask\": (np.array([[1, 1, 0, 0, 0]] * 2)).astype('int32'),\n",
    "}\n",
    "\n",
    "prompt = 'Siemens'\n",
    "\n",
    "output1 = gpt2_gen.generate_preprocess(inputs = prompt, max_length=50)\n",
    "\n",
    "# final = preprocessor.generate_postprocess(output1)\n",
    "\n",
    "print(\"\\nGPT-2 output1:\")\n",
    "print(output1)\n",
    "\n",
    "# output2 = gpt2_lm.generate(\"Lufthansa\", max_length=50)\n",
    "# print(\"\\nGPT-2 output2:\")\n",
    "# print(output2)"
   ]
  },
  {
   "cell_type": "code",
   "execution_count": 56,
   "id": "79bae7bc-0db0-4bb3-bc49-6946b25a9986",
   "metadata": {},
   "outputs": [],
   "source": [
    "from transformers import pipeline, set_seed, AutoTokenizer"
   ]
  },
  {
   "cell_type": "code",
   "execution_count": 58,
   "id": "cf3ad568-ad73-46c3-be26-a8d158782362",
   "metadata": {},
   "outputs": [],
   "source": [
    "from datasets import load_dataset\n",
    "\n",
    "# dataset = load_dataset(\"yelp_review_full\")\n",
    "\n",
    "# dataset[\"train\"][100]"
   ]
  },
  {
   "cell_type": "code",
   "execution_count": 59,
   "id": "8a181985-6769-43c1-a7ab-fbdabcd37df3",
   "metadata": {},
   "outputs": [
    {
     "name": "stderr",
     "output_type": "stream",
     "text": [
      "Using pad_token, but it is not set yet.\n"
     ]
    },
    {
     "ename": "AttributeError",
     "evalue": "'DataFrame' object has no attribute 'map'",
     "output_type": "error",
     "traceback": [
      "\u001b[0;31m---------------------------------------------------------------------------\u001b[0m",
      "\u001b[0;31mAttributeError\u001b[0m                            Traceback (most recent call last)",
      "\u001b[0;32m/tmp/ipykernel_249238/3898533162.py\u001b[0m in \u001b[0;36m?\u001b[0;34m()\u001b[0m\n\u001b[1;32m      6\u001b[0m \u001b[0;34m\u001b[0m\u001b[0m\n\u001b[1;32m      7\u001b[0m     \u001b[0;32mreturn\u001b[0m \u001b[0mtokenizer\u001b[0m\u001b[0;34m(\u001b[0m\u001b[0mexamples\u001b[0m\u001b[0;34m[\u001b[0m\u001b[0;34m\"text\"\u001b[0m\u001b[0;34m]\u001b[0m\u001b[0;34m,\u001b[0m \u001b[0mpadding\u001b[0m\u001b[0;34m=\u001b[0m\u001b[0;34m\"max_length\"\u001b[0m\u001b[0;34m,\u001b[0m \u001b[0mtruncation\u001b[0m\u001b[0;34m=\u001b[0m\u001b[0;32mTrue\u001b[0m\u001b[0;34m)\u001b[0m\u001b[0;34m\u001b[0m\u001b[0;34m\u001b[0m\u001b[0m\n\u001b[1;32m      8\u001b[0m \u001b[0;34m\u001b[0m\u001b[0m\n\u001b[1;32m      9\u001b[0m \u001b[0;34m\u001b[0m\u001b[0m\n\u001b[0;32m---> 10\u001b[0;31m \u001b[0mtokenized_datasets\u001b[0m \u001b[0;34m=\u001b[0m \u001b[0mdf_new\u001b[0m\u001b[0;34m.\u001b[0m\u001b[0mmap\u001b[0m\u001b[0;34m(\u001b[0m\u001b[0mtokenize_function\u001b[0m\u001b[0;34m,\u001b[0m \u001b[0mbatched\u001b[0m\u001b[0;34m=\u001b[0m\u001b[0;32mTrue\u001b[0m\u001b[0;34m)\u001b[0m\u001b[0;34m\u001b[0m\u001b[0;34m\u001b[0m\u001b[0m\n\u001b[0m",
      "\u001b[0;32m~/anaconda3/envs/NLP2/lib/python3.11/site-packages/pandas/core/generic.py\u001b[0m in \u001b[0;36m?\u001b[0;34m(self, name)\u001b[0m\n\u001b[1;32m   5985\u001b[0m             \u001b[0;32mand\u001b[0m \u001b[0mname\u001b[0m \u001b[0;32mnot\u001b[0m \u001b[0;32min\u001b[0m \u001b[0mself\u001b[0m\u001b[0;34m.\u001b[0m\u001b[0m_accessors\u001b[0m\u001b[0;34m\u001b[0m\u001b[0;34m\u001b[0m\u001b[0m\n\u001b[1;32m   5986\u001b[0m             \u001b[0;32mand\u001b[0m \u001b[0mself\u001b[0m\u001b[0;34m.\u001b[0m\u001b[0m_info_axis\u001b[0m\u001b[0;34m.\u001b[0m\u001b[0m_can_hold_identifiers_and_holds_name\u001b[0m\u001b[0;34m(\u001b[0m\u001b[0mname\u001b[0m\u001b[0;34m)\u001b[0m\u001b[0;34m\u001b[0m\u001b[0;34m\u001b[0m\u001b[0m\n\u001b[1;32m   5987\u001b[0m         ):\n\u001b[1;32m   5988\u001b[0m             \u001b[0;32mreturn\u001b[0m \u001b[0mself\u001b[0m\u001b[0;34m[\u001b[0m\u001b[0mname\u001b[0m\u001b[0;34m]\u001b[0m\u001b[0;34m\u001b[0m\u001b[0;34m\u001b[0m\u001b[0m\n\u001b[0;32m-> 5989\u001b[0;31m         \u001b[0;32mreturn\u001b[0m \u001b[0mobject\u001b[0m\u001b[0;34m.\u001b[0m\u001b[0m__getattribute__\u001b[0m\u001b[0;34m(\u001b[0m\u001b[0mself\u001b[0m\u001b[0;34m,\u001b[0m \u001b[0mname\u001b[0m\u001b[0;34m)\u001b[0m\u001b[0;34m\u001b[0m\u001b[0;34m\u001b[0m\u001b[0m\n\u001b[0m",
      "\u001b[0;31mAttributeError\u001b[0m: 'DataFrame' object has no attribute 'map'"
     ]
    }
   ],
   "source": [
    "\n",
    "tokenizer = AutoTokenizer.from_pretrained(\"gpt2\")\n",
    "if tokenizer.pad_token is None:\n",
    "    tokenizer.add_special_tokens({'pad_token': '[PAD]'})\n",
    "\n",
    "def tokenize_function(examples):\n",
    "\n",
    "    return tokenizer(examples[\"text\"], padding=\"max_length\", truncation=True)\n",
    "\n",
    "\n",
    "tokenized_datasets = df_new.map(tokenize_function, batched=True)"
   ]
  },
  {
   "cell_type": "code",
   "execution_count": null,
   "id": "674c01cf-c129-453d-92c3-da4923dc86bd",
   "metadata": {},
   "outputs": [],
   "source": [
    "small_train_dataset = tokenized_datasets[\"train\"].shuffle(seed=42).select(range(1000))\n",
    "small_eval_dataset = tokenized_datasets[\"test\"].shuffle(seed=42).select(range(1000))"
   ]
  },
  {
   "cell_type": "code",
   "execution_count": null,
   "id": "c0662a3c-ad3f-431c-861a-3c598bc15bb6",
   "metadata": {},
   "outputs": [],
   "source": [
    "from transformers import AutoModelForSequenceClassification\n",
    "\n",
    "model = AutoModelForSequenceClassification.from_pretrained(\"gpt2\", num_labels=5)"
   ]
  },
  {
   "cell_type": "code",
   "execution_count": null,
   "id": "c2dd04db-f1f3-46c1-8ff3-f2c7dd2d20c9",
   "metadata": {},
   "outputs": [],
   "source": [
    "from transformers import TrainingArguments\n",
    "\n",
    "training_args = TrainingArguments(output_dir=\"test_trainer\")"
   ]
  },
  {
   "cell_type": "code",
   "execution_count": null,
   "id": "d26af09b-9710-46f8-859f-4949b8093f04",
   "metadata": {},
   "outputs": [],
   "source": [
    "import numpy as np\n",
    "\n",
    "import evaluate\n",
    "\n",
    "metric = evaluate.load(\"accuracy\")"
   ]
  },
  {
   "cell_type": "code",
   "execution_count": null,
   "id": "c1614c85-7775-4bcf-af6d-5b56df419c7e",
   "metadata": {},
   "outputs": [],
   "source": [
    "def compute_metrics(eval_pred):\n",
    "    logits, labels = eval_pred\n",
    "    predictions = np.argmax(logits, axis=-1)\n",
    "    return metric.compute(predictions=predictions, references=labels)"
   ]
  },
  {
   "cell_type": "code",
   "execution_count": null,
   "id": "d861b5da-0552-4e72-8637-8e2afd10f723",
   "metadata": {},
   "outputs": [],
   "source": [
    "from transformers import TrainingArguments, Trainer\n",
    "\n",
    "training_args = TrainingArguments(output_dir=\"test_trainer\", evaluation_strategy=\"epoch\")"
   ]
  },
  {
   "cell_type": "code",
   "execution_count": null,
   "id": "0657e2c4-9581-4831-9df7-a82945b59cc3",
   "metadata": {},
   "outputs": [],
   "source": [
    "trainer = Trainer(\n",
    "    model=model,\n",
    "    args=training_args,\n",
    "    train_dataset=small_train_dataset,\n",
    "    eval_dataset=small_eval_dataset,\n",
    "    compute_metrics=compute_metrics,\n",
    ")"
   ]
  },
  {
   "cell_type": "code",
   "execution_count": null,
   "id": "f071c306-54ea-4908-9c99-0368d3e1fbb1",
   "metadata": {},
   "outputs": [],
   "source": [
    "trainer.train()"
   ]
  },
  {
   "cell_type": "code",
   "execution_count": 65,
   "id": "f5ff31ea-203e-49a2-807c-c38145847cc4",
   "metadata": {},
   "outputs": [
    {
     "name": "stderr",
     "output_type": "stream",
     "text": [
      "Using pad_token, but it is not set yet.\n"
     ]
    }
   ],
   "source": [
    "from transformers import AutoTokenizer\n",
    "\n",
    "tokenizer = AutoTokenizer.from_pretrained(\"gpt2\")\n",
    "if tokenizer.pad_token is None:\n",
    "    tokenizer.add_special_tokens({'pad_token': '[PAD]'})\n",
    "    \n",
    "tokenized_data_main = tokenizer([str(i) for i in df[\"lemmatized\"].values], return_tensors=\"np\", padding=True)\n",
    "tokenized_data_label = tokenizer([str(i) for i in df[\"companyName\"].values], return_tensors=\"np\", padding=True)\n",
    "\n",
    "# Tokenizer returns a BatchEncoding, but we convert that to a dict for Keras\n",
    "tokenized_data_main = dict(tokenized_data_main)\n",
    "tokenized_data_label = dict(tokenized_data_label)\n"
   ]
  },
  {
   "cell_type": "code",
   "execution_count": 70,
   "id": "b3244df4-4bba-4dde-8a8d-ca3e7a9d2d14",
   "metadata": {},
   "outputs": [
    {
     "data": {
      "text/plain": [
       "{'padding_mask': array([[1, 1, 1, ..., 0, 0, 0],\n",
       "        [1, 1, 1, ..., 0, 0, 0],\n",
       "        [1, 1, 1, ..., 0, 0, 0],\n",
       "        ...,\n",
       "        [1, 1, 1, ..., 0, 0, 0],\n",
       "        [1, 1, 1, ..., 0, 0, 0],\n",
       "        [1, 1, 1, ..., 0, 0, 0]]),\n",
       " 'token_ids': array([[17816,  2213, 13951, ..., 50257, 50257, 50257],\n",
       "        [17816,    17,    70, ..., 50257, 50257, 50257],\n",
       "        [17816, 16762,    84, ..., 50257, 50257, 50257],\n",
       "        ...,\n",
       "        [17816, 12215, 23515, ..., 50257, 50257, 50257],\n",
       "        [17816,    74, 14852, ..., 50257, 50257, 50257],\n",
       "        [17816, 14636,    67, ..., 50257, 50257, 50257]])}"
      ]
     },
     "execution_count": 70,
     "metadata": {},
     "output_type": "execute_result"
    }
   ],
   "source": [
    "tokenized_data_main"
   ]
  },
  {
   "cell_type": "code",
   "execution_count": 66,
   "id": "2edc3fc0-08cb-432b-9cec-15f6e4f01e32",
   "metadata": {},
   "outputs": [],
   "source": [
    "tokenized_data_main['padding_mask'] = tokenized_data_main['attention_mask']\n",
    "del tokenized_data_main['attention_mask']\n",
    "\n",
    "tokenized_data_main['token_ids'] = tokenized_data_main['input_ids']\n",
    "del tokenized_data_main['input_ids']\n",
    "\n",
    "tokenized_data_label['padding_mask'] = tokenized_data_label['attention_mask']\n",
    "del tokenized_data_label['attention_mask']\n",
    "\n",
    "tokenized_data_label['token_ids'] = tokenized_data_label['input_ids']\n",
    "del tokenized_data_label['input_ids']"
   ]
  },
  {
   "cell_type": "code",
   "execution_count": 67,
   "id": "45e79ad4-c022-4872-b786-b786979834f5",
   "metadata": {},
   "outputs": [
    {
     "name": "stderr",
     "output_type": "stream",
     "text": [
      "All PyTorch model weights were used when initializing TFGPT2ForSequenceClassification.\n",
      "\n",
      "Some weights or buffers of the TF 2.0 model TFGPT2ForSequenceClassification were not initialized from the PyTorch model and are newly initialized: ['score.weight']\n",
      "You should probably TRAIN this model on a down-stream task to be able to use it for predictions and inference.\n"
     ]
    },
    {
     "ename": "TypeError",
     "evalue": "in user code:\n\n    File \"/home/wondermary/anaconda3/envs/NLP2/lib/python3.11/site-packages/keras/engine/training.py\", line 1284, in train_function  *\n        return step_function(self, iterator)\n    File \"/home/wondermary/anaconda3/envs/NLP2/lib/python3.11/site-packages/keras/engine/training.py\", line 1268, in step_function  **\n        outputs = model.distribute_strategy.run(run_step, args=(data,))\n    File \"/home/wondermary/anaconda3/envs/NLP2/lib/python3.11/site-packages/keras/engine/training.py\", line 1249, in run_step  **\n        outputs = model.train_step(data)\n    File \"/home/wondermary/anaconda3/envs/NLP2/lib/python3.11/site-packages/transformers/modeling_tf_utils.py\", line 1642, in train_step\n        y_pred = self(x, training=True)\n    File \"/home/wondermary/anaconda3/envs/NLP2/lib/python3.11/site-packages/keras/utils/traceback_utils.py\", line 70, in error_handler\n        raise e.with_traceback(filtered_tb) from None\n    File \"/tmp/__autograph_generated_file75w1q8cf.py\", line 40, in tf__run_call_with_unpacked_inputs\n        raise\n\n    TypeError: Exception encountered when calling layer 'tfgpt2_for_sequence_classification_5' (type TFGPT2ForSequenceClassification).\n    \n    in user code:\n    \n        File \"/home/wondermary/anaconda3/envs/NLP2/lib/python3.11/site-packages/transformers/modeling_tf_utils.py\", line 1050, in run_call_with_unpacked_inputs  *\n            return func(self, **unpacked_inputs)\n    \n        TypeError: outer_factory.<locals>.inner_factory.<locals>.tf__call() got an unexpected keyword argument 'padding_mask'\n    \n    \n    Call arguments received by layer 'tfgpt2_for_sequence_classification_5' (type TFGPT2ForSequenceClassification):\n      • input_ids={'padding_mask': 'tf.Tensor(shape=(None, 723), dtype=int64)', 'token_ids': 'tf.Tensor(shape=(None, 723), dtype=int64)'}\n      • past_key_values=None\n      • attention_mask=None\n      • token_type_ids=None\n      • position_ids=None\n      • head_mask=None\n      • inputs_embeds=None\n      • use_cache=None\n      • output_attentions=None\n      • output_hidden_states=None\n      • return_dict=None\n      • labels=None\n      • training=True\n",
     "output_type": "error",
     "traceback": [
      "\u001b[0;31m---------------------------------------------------------------------------\u001b[0m",
      "\u001b[0;31mTypeError\u001b[0m                                 Traceback (most recent call last)",
      "Cell \u001b[0;32mIn[67], line 9\u001b[0m\n\u001b[1;32m      6\u001b[0m \u001b[38;5;66;03m# Lower learning rates are often better for fine-tuning transformers\u001b[39;00m\n\u001b[1;32m      7\u001b[0m model\u001b[38;5;241m.\u001b[39mcompile(optimizer\u001b[38;5;241m=\u001b[39mAdam(\u001b[38;5;241m3e-5\u001b[39m))  \u001b[38;5;66;03m# No loss argument!\u001b[39;00m\n\u001b[0;32m----> 9\u001b[0m \u001b[43mmodel\u001b[49m\u001b[38;5;241;43m.\u001b[39;49m\u001b[43mfit\u001b[49m\u001b[43m(\u001b[49m\u001b[43mtokenized_data_main\u001b[49m\u001b[43m,\u001b[49m\u001b[43m \u001b[49m\u001b[43mtokenized_data_label\u001b[49m\u001b[43m)\u001b[49m\n",
      "File \u001b[0;32m~/anaconda3/envs/NLP2/lib/python3.11/site-packages/keras/utils/traceback_utils.py:70\u001b[0m, in \u001b[0;36mfilter_traceback.<locals>.error_handler\u001b[0;34m(*args, **kwargs)\u001b[0m\n\u001b[1;32m     67\u001b[0m     filtered_tb \u001b[38;5;241m=\u001b[39m _process_traceback_frames(e\u001b[38;5;241m.\u001b[39m__traceback__)\n\u001b[1;32m     68\u001b[0m     \u001b[38;5;66;03m# To get the full stack trace, call:\u001b[39;00m\n\u001b[1;32m     69\u001b[0m     \u001b[38;5;66;03m# `tf.debugging.disable_traceback_filtering()`\u001b[39;00m\n\u001b[0;32m---> 70\u001b[0m     \u001b[38;5;28;01mraise\u001b[39;00m e\u001b[38;5;241m.\u001b[39mwith_traceback(filtered_tb) \u001b[38;5;28;01mfrom\u001b[39;00m \u001b[38;5;28;01mNone\u001b[39;00m\n\u001b[1;32m     71\u001b[0m \u001b[38;5;28;01mfinally\u001b[39;00m:\n\u001b[1;32m     72\u001b[0m     \u001b[38;5;28;01mdel\u001b[39;00m filtered_tb\n",
      "File \u001b[0;32m/tmp/__autograph_generated_file2migqss2.py:15\u001b[0m, in \u001b[0;36mouter_factory.<locals>.inner_factory.<locals>.tf__train_function\u001b[0;34m(iterator)\u001b[0m\n\u001b[1;32m     13\u001b[0m \u001b[38;5;28;01mtry\u001b[39;00m:\n\u001b[1;32m     14\u001b[0m     do_return \u001b[38;5;241m=\u001b[39m \u001b[38;5;28;01mTrue\u001b[39;00m\n\u001b[0;32m---> 15\u001b[0m     retval_ \u001b[38;5;241m=\u001b[39m ag__\u001b[38;5;241m.\u001b[39mconverted_call(ag__\u001b[38;5;241m.\u001b[39mld(step_function), (ag__\u001b[38;5;241m.\u001b[39mld(\u001b[38;5;28mself\u001b[39m), ag__\u001b[38;5;241m.\u001b[39mld(iterator)), \u001b[38;5;28;01mNone\u001b[39;00m, fscope)\n\u001b[1;32m     16\u001b[0m \u001b[38;5;28;01mexcept\u001b[39;00m:\n\u001b[1;32m     17\u001b[0m     do_return \u001b[38;5;241m=\u001b[39m \u001b[38;5;28;01mFalse\u001b[39;00m\n",
      "File \u001b[0;32m~/anaconda3/envs/NLP2/lib/python3.11/site-packages/transformers/modeling_tf_utils.py:1642\u001b[0m, in \u001b[0;36mTFPreTrainedModel.train_step\u001b[0;34m(self, data)\u001b[0m\n\u001b[1;32m   1640\u001b[0m     y_pred \u001b[38;5;241m=\u001b[39m \u001b[38;5;28mself\u001b[39m(x, training\u001b[38;5;241m=\u001b[39m\u001b[38;5;28;01mTrue\u001b[39;00m, return_loss\u001b[38;5;241m=\u001b[39m\u001b[38;5;28;01mTrue\u001b[39;00m)\n\u001b[1;32m   1641\u001b[0m \u001b[38;5;28;01melse\u001b[39;00m:\n\u001b[0;32m-> 1642\u001b[0m     y_pred \u001b[38;5;241m=\u001b[39m \u001b[38;5;28;43mself\u001b[39;49m\u001b[43m(\u001b[49m\u001b[43mx\u001b[49m\u001b[43m,\u001b[49m\u001b[43m \u001b[49m\u001b[43mtraining\u001b[49m\u001b[38;5;241;43m=\u001b[39;49m\u001b[38;5;28;43;01mTrue\u001b[39;49;00m\u001b[43m)\u001b[49m\n\u001b[1;32m   1643\u001b[0m \u001b[38;5;28;01mif\u001b[39;00m \u001b[38;5;28mself\u001b[39m\u001b[38;5;241m.\u001b[39m_using_dummy_loss:\n\u001b[1;32m   1644\u001b[0m     loss \u001b[38;5;241m=\u001b[39m \u001b[38;5;28mself\u001b[39m\u001b[38;5;241m.\u001b[39mcompiled_loss(y_pred\u001b[38;5;241m.\u001b[39mloss, y_pred\u001b[38;5;241m.\u001b[39mloss, sample_weight, regularization_losses\u001b[38;5;241m=\u001b[39m\u001b[38;5;28mself\u001b[39m\u001b[38;5;241m.\u001b[39mlosses)\n",
      "File \u001b[0;32m/tmp/__autograph_generated_file75w1q8cf.py:37\u001b[0m, in \u001b[0;36mouter_factory.<locals>.inner_factory.<locals>.tf__run_call_with_unpacked_inputs\u001b[0;34m(self, *args, **kwargs)\u001b[0m\n\u001b[1;32m     35\u001b[0m \u001b[38;5;28;01mtry\u001b[39;00m:\n\u001b[1;32m     36\u001b[0m     do_return \u001b[38;5;241m=\u001b[39m \u001b[38;5;28;01mTrue\u001b[39;00m\n\u001b[0;32m---> 37\u001b[0m     retval_ \u001b[38;5;241m=\u001b[39m ag__\u001b[38;5;241m.\u001b[39mconverted_call(ag__\u001b[38;5;241m.\u001b[39mld(func), (ag__\u001b[38;5;241m.\u001b[39mld(\u001b[38;5;28mself\u001b[39m),), \u001b[38;5;28mdict\u001b[39m(\u001b[38;5;241m*\u001b[39m\u001b[38;5;241m*\u001b[39mag__\u001b[38;5;241m.\u001b[39mld(unpacked_inputs)), fscope)\n\u001b[1;32m     38\u001b[0m \u001b[38;5;28;01mexcept\u001b[39;00m:\n\u001b[1;32m     39\u001b[0m     do_return \u001b[38;5;241m=\u001b[39m \u001b[38;5;28;01mFalse\u001b[39;00m\n",
      "\u001b[0;31mTypeError\u001b[0m: in user code:\n\n    File \"/home/wondermary/anaconda3/envs/NLP2/lib/python3.11/site-packages/keras/engine/training.py\", line 1284, in train_function  *\n        return step_function(self, iterator)\n    File \"/home/wondermary/anaconda3/envs/NLP2/lib/python3.11/site-packages/keras/engine/training.py\", line 1268, in step_function  **\n        outputs = model.distribute_strategy.run(run_step, args=(data,))\n    File \"/home/wondermary/anaconda3/envs/NLP2/lib/python3.11/site-packages/keras/engine/training.py\", line 1249, in run_step  **\n        outputs = model.train_step(data)\n    File \"/home/wondermary/anaconda3/envs/NLP2/lib/python3.11/site-packages/transformers/modeling_tf_utils.py\", line 1642, in train_step\n        y_pred = self(x, training=True)\n    File \"/home/wondermary/anaconda3/envs/NLP2/lib/python3.11/site-packages/keras/utils/traceback_utils.py\", line 70, in error_handler\n        raise e.with_traceback(filtered_tb) from None\n    File \"/tmp/__autograph_generated_file75w1q8cf.py\", line 40, in tf__run_call_with_unpacked_inputs\n        raise\n\n    TypeError: Exception encountered when calling layer 'tfgpt2_for_sequence_classification_5' (type TFGPT2ForSequenceClassification).\n    \n    in user code:\n    \n        File \"/home/wondermary/anaconda3/envs/NLP2/lib/python3.11/site-packages/transformers/modeling_tf_utils.py\", line 1050, in run_call_with_unpacked_inputs  *\n            return func(self, **unpacked_inputs)\n    \n        TypeError: outer_factory.<locals>.inner_factory.<locals>.tf__call() got an unexpected keyword argument 'padding_mask'\n    \n    \n    Call arguments received by layer 'tfgpt2_for_sequence_classification_5' (type TFGPT2ForSequenceClassification):\n      • input_ids={'padding_mask': 'tf.Tensor(shape=(None, 723), dtype=int64)', 'token_ids': 'tf.Tensor(shape=(None, 723), dtype=int64)'}\n      • past_key_values=None\n      • attention_mask=None\n      • token_type_ids=None\n      • position_ids=None\n      • head_mask=None\n      • inputs_embeds=None\n      • use_cache=None\n      • output_attentions=None\n      • output_hidden_states=None\n      • return_dict=None\n      • labels=None\n      • training=True\n"
     ]
    }
   ],
   "source": [
    "from transformers import TFAutoModelForSequenceClassification\n",
    "from tensorflow.keras.optimizers import Adam\n",
    "\n",
    "# Load and compile our model\n",
    "model = TFAutoModelForSequenceClassification.from_pretrained(\"gpt2\")\n",
    "# Lower learning rates are often better for fine-tuning transformers\n",
    "model.compile(optimizer=Adam(3e-5))  # No loss argument!\n",
    "\n",
    "model.fit(tokenized_data_main, tokenized_data_label)"
   ]
  },
  {
   "cell_type": "code",
   "execution_count": 61,
   "id": "132ecb79-0118-4cdc-8194-3e5540a7aa76",
   "metadata": {},
   "outputs": [
    {
     "ename": "NameError",
     "evalue": "name 'dataset' is not defined",
     "output_type": "error",
     "traceback": [
      "\u001b[0;31m---------------------------------------------------------------------------\u001b[0m",
      "\u001b[0;31mNameError\u001b[0m                                 Traceback (most recent call last)",
      "Cell \u001b[0;32mIn[61], line 6\u001b[0m\n\u001b[1;32m      1\u001b[0m \u001b[38;5;28;01mdef\u001b[39;00m \u001b[38;5;21mtokenize_dataset\u001b[39m(data):\n\u001b[1;32m      2\u001b[0m     \u001b[38;5;66;03m# Keys of the returned dictionary will be added to the dataset as columns\u001b[39;00m\n\u001b[1;32m      3\u001b[0m     \u001b[38;5;28;01mreturn\u001b[39;00m tokenizer(data[\u001b[38;5;124m\"\u001b[39m\u001b[38;5;124mtext\u001b[39m\u001b[38;5;124m\"\u001b[39m])\n\u001b[0;32m----> 6\u001b[0m dataset \u001b[38;5;241m=\u001b[39m \u001b[43mdataset\u001b[49m\u001b[38;5;241m.\u001b[39mmap(tokenize_dataset)\n",
      "\u001b[0;31mNameError\u001b[0m: name 'dataset' is not defined"
     ]
    }
   ],
   "source": [
    "def tokenize_dataset(data):\n",
    "    # Keys of the returned dictionary will be added to the dataset as columns\n",
    "    return tokenizer(data[\"text\"])\n",
    "\n",
    "\n",
    "dataset = dataset.map(tokenize_dataset)"
   ]
  },
  {
   "cell_type": "code",
   "execution_count": null,
   "id": "c3dc1a86-4990-460f-945e-82e5b4742c70",
   "metadata": {},
   "outputs": [],
   "source": []
  },
  {
   "cell_type": "code",
   "execution_count": null,
   "id": "55a7d753-fea7-4634-b5e9-b6da76beca69",
   "metadata": {},
   "outputs": [],
   "source": []
  },
  {
   "cell_type": "code",
   "execution_count": 74,
   "id": "cbcd3c59-8d46-418b-a8cd-503ac87b41b0",
   "metadata": {},
   "outputs": [],
   "source": [
    "import os\n",
    "import time\n",
    "import datetime\n",
    "# from google.colab import drive\n",
    "\n",
    "import pandas as pd\n",
    "import seaborn as sns\n",
    "import numpy as np\n",
    "import random\n",
    "\n",
    "import matplotlib.pyplot as plt\n",
    "%matplotlib inline\n",
    "\n",
    "import torch\n",
    "from torch.utils.data import Dataset, DataLoader, random_split, RandomSampler, SequentialSampler\n",
    "torch.manual_seed(42)\n",
    "\n",
    "from transformers import GPT2LMHeadModel,  GPT2Tokenizer, GPT2Config, GPT2LMHeadModel\n",
    "from transformers import AdamW, get_linear_schedule_with_warmup\n",
    "\n",
    "import nltk\n",
    "# nltk.download('punkt')"
   ]
  },
  {
   "cell_type": "code",
   "execution_count": 75,
   "id": "c80b6624-e9ee-4ecd-a702-7795fe0d6a4a",
   "metadata": {},
   "outputs": [
    {
     "name": "stdout",
     "output_type": "stream",
     "text": [
      "huggingface/tokenizers: The current process just got forked, after parallelism has already been used. Disabling parallelism to avoid deadlocks...\n",
      "To disable this warning, you can either:\n",
      "\t- Avoid using `tokenizers` before the fork if possible\n",
      "\t- Explicitly set the environment variable TOKENIZERS_PARALLELISM=(true | false)\n",
      "NVIDIA-SMI has failed because it couldn't communicate with the NVIDIA driver. Make sure that the latest NVIDIA driver is installed and running.\n",
      "\n"
     ]
    }
   ],
   "source": [
    "!nvidia-smi"
   ]
  },
  {
   "cell_type": "code",
   "execution_count": 76,
   "id": "c154121c-f8af-40b1-8217-8b809b9df12a",
   "metadata": {},
   "outputs": [
    {
     "name": "stderr",
     "output_type": "stream",
     "text": [
      "Special tokens have been added in the vocabulary, make sure the associated word embeddings are fine-tuned or trained.\n"
     ]
    }
   ],
   "source": [
    "tokenizer = GPT2Tokenizer.from_pretrained('gpt2', bos_token='<|startoftext|>', \n",
    "                                          eos_token='<|endoftext|>', pad_token='<|pad|>') #gpt2-medium\n"
   ]
  },
  {
   "cell_type": "code",
   "execution_count": 77,
   "id": "bfe2f0c6-4a95-4514-9810-b52320a4514b",
   "metadata": {},
   "outputs": [
    {
     "name": "stdout",
     "output_type": "stream",
     "text": [
      "The max model length is 1024 for this model, although the actual embedding size for GPT small is 768\n",
      "The beginning of sequence token <|startoftext|> token has the id 50257\n",
      "The end of sequence token <|endoftext|> has the id 50256\n",
      "The padding token <|pad|> has the id 50258\n"
     ]
    }
   ],
   "source": [
    "print(\"The max model length is {} for this model, although the actual embedding size for GPT small is 768\".format(tokenizer.model_max_length))\n",
    "print(\"The beginning of sequence token {} token has the id {}\".format(tokenizer.convert_ids_to_tokens(tokenizer.bos_token_id), tokenizer.bos_token_id))\n",
    "print(\"The end of sequence token {} has the id {}\".format(tokenizer.convert_ids_to_tokens(tokenizer.eos_token_id), tokenizer.eos_token_id))\n",
    "print(\"The padding token {} has the id {}\".format(tokenizer.convert_ids_to_tokens(tokenizer.pad_token_id), tokenizer.pad_token_id))"
   ]
  },
  {
   "cell_type": "code",
   "execution_count": 78,
   "id": "5b8fa714-6551-49c5-9e62-5c72f4d491ea",
   "metadata": {},
   "outputs": [],
   "source": [
    "batch_size = 2"
   ]
  },
  {
   "cell_type": "code",
   "execution_count": 79,
   "id": "bc7dfa80-a8c7-4ad5-b2c4-a592562bc4f8",
   "metadata": {},
   "outputs": [],
   "source": [
    "class GPT2Dataset(Dataset):\n",
    "\n",
    "  def __init__(self, txt_list, tokenizer, gpt2_type=\"gpt2\", max_length=768):\n",
    "\n",
    "    self.tokenizer = tokenizer\n",
    "    self.input_ids = []\n",
    "    self.attn_masks = []\n",
    "\n",
    "    for txt in txt_list:\n",
    "\n",
    "      encodings_dict = tokenizer('<|startoftext|>'+ txt + '<|endoftext|>', truncation=True, max_length=max_length, padding=\"max_length\")\n",
    "\n",
    "      self.input_ids.append(torch.tensor(encodings_dict['input_ids']))\n",
    "      self.attn_masks.append(torch.tensor(encodings_dict['attention_mask']))\n",
    "    \n",
    "  def __len__(self):\n",
    "    return len(self.input_ids)\n",
    "\n",
    "  def __getitem__(self, idx):\n",
    "    return self.input_ids[idx], self.attn_masks[idx] "
   ]
  },
  {
   "cell_type": "code",
   "execution_count": 83,
   "id": "707d005a-a48a-4ab5-a613-cb7c94c669fc",
   "metadata": {},
   "outputs": [
    {
     "name": "stdout",
     "output_type": "stream",
     "text": [
      "  171 training samples\n",
      "   19 validation samples\n"
     ]
    }
   ],
   "source": [
    "dataset = GPT2Dataset(df_new['lemmatized'], tokenizer, max_length=768)\n",
    "\n",
    "# Split into training and validation sets\n",
    "train_size = int(0.9 * len(df_new))\n",
    "val_size = len(df_new) - train_size\n",
    "\n",
    "train_dataset, val_dataset = random_split(dataset, [train_size, val_size])\n",
    "\n",
    "print('{:>5,} training samples'.format(train_size))\n",
    "print('{:>5,} validation samples'.format(val_size))"
   ]
  },
  {
   "cell_type": "code",
   "execution_count": 84,
   "id": "3222ee60-efe8-48a8-95e3-f0c57e4a10ce",
   "metadata": {},
   "outputs": [],
   "source": [
    "# Create the DataLoaders for our training and validation datasets.\n",
    "# We'll take training samples in random order. \n",
    "train_dataloader = DataLoader(\n",
    "            train_dataset,  # The training samples.\n",
    "            sampler = RandomSampler(train_dataset), # Select batches randomly\n",
    "            batch_size = batch_size # Trains with this batch size.\n",
    "        )\n",
    "\n",
    "# For validation the order doesn't matter, so we'll just read them sequentially.\n",
    "validation_dataloader = DataLoader(\n",
    "            val_dataset, # The validation samples.\n",
    "            sampler = SequentialSampler(val_dataset), # Pull out batches sequentially.\n",
    "            batch_size = batch_size # Evaluate with this batch size.\n",
    "        )"
   ]
  },
  {
   "cell_type": "code",
   "execution_count": 93,
   "id": "785aa660-542e-4621-b2f2-8d3bd38324ed",
   "metadata": {},
   "outputs": [],
   "source": [
    "# I'm not really doing anything with the config buheret\n",
    "configuration = GPT2Config.from_pretrained('gpt2', output_hidden_states=False)\n",
    "\n",
    "# instantiate the model\n",
    "model = GPT2LMHeadModel.from_pretrained(\"gpt2\", config=configuration)\n",
    "\n",
    "# this step is necessary because I've added some tokens (bos_token, etc) to the embeddings\n",
    "# otherwise the tokenizer and model tensors won't match up\n",
    "model.resize_token_embeddings(len(tokenizer))\n",
    "\n",
    "# Tell pytorch to run this model on the GPU.\n",
    "device = torch.device(\"cuda\")\n",
    "# model.cuda()\n",
    "\n",
    "# Set the seed value all over the place to make this reproducible.\n",
    "seed_val = 42\n",
    "\n",
    "# random.seed(seed_val)\n",
    "# np.random.seed(seed_val)\n",
    "# torch.manual_seed(seed_val)\n",
    "# torch.cuda.manual_seed_all(seed_val)"
   ]
  },
  {
   "cell_type": "code",
   "execution_count": 87,
   "id": "fc7e4719-d099-4602-9594-84faa2d8cadf",
   "metadata": {},
   "outputs": [],
   "source": [
    "# some parameters I cooked up that work reasonably well\n",
    "\n",
    "epochs = 5\n",
    "learning_rate = 5e-4\n",
    "warmup_steps = 1e2\n",
    "epsilon = 1e-8\n",
    "\n",
    "# this produces sample output every 100 steps\n",
    "sample_every = 100"
   ]
  },
  {
   "cell_type": "code",
   "execution_count": 88,
   "id": "a1fcc475-2d8b-4dfd-9088-5949c799a4cf",
   "metadata": {},
   "outputs": [
    {
     "name": "stderr",
     "output_type": "stream",
     "text": [
      "/home/wondermary/anaconda3/envs/NLP2/lib/python3.11/site-packages/transformers/optimization.py:411: FutureWarning: This implementation of AdamW is deprecated and will be removed in a future version. Use the PyTorch implementation torch.optim.AdamW instead, or set `no_deprecation_warning=True` to disable this warning\n",
      "  warnings.warn(\n"
     ]
    }
   ],
   "source": [
    "# Note: AdamW is a class from the huggingface library (as opposed to pytorch) \n",
    "optimizer = AdamW(model.parameters(),\n",
    "                  lr = learning_rate,\n",
    "                  eps = epsilon\n",
    "                )"
   ]
  },
  {
   "cell_type": "code",
   "execution_count": 89,
   "id": "c24e37c1-e47f-4be7-9f86-91ae06b397e4",
   "metadata": {},
   "outputs": [],
   "source": [
    "# Total number of training steps is [number of batches] x [number of epochs]. \n",
    "# (Note that this is not the same as the number of training samples).\n",
    "total_steps = len(train_dataloader) * epochs\n",
    "\n",
    "# Create the learning rate scheduler.\n",
    "# This changes the learning rate as the training loop progresses\n",
    "scheduler = get_linear_schedule_with_warmup(optimizer, \n",
    "                                            num_warmup_steps = warmup_steps, \n",
    "                                            num_training_steps = total_steps)"
   ]
  },
  {
   "cell_type": "code",
   "execution_count": 94,
   "id": "7c021819-e9db-4aa7-a78d-898739db32af",
   "metadata": {},
   "outputs": [
    {
     "ename": "RuntimeError",
     "evalue": "No CUDA GPUs are available",
     "output_type": "error",
     "traceback": [
      "\u001b[0;31m---------------------------------------------------------------------------\u001b[0m",
      "\u001b[0;31mRuntimeError\u001b[0m                              Traceback (most recent call last)",
      "Cell \u001b[0;32mIn[94], line 5\u001b[0m\n\u001b[1;32m      1\u001b[0m total_t0 \u001b[38;5;241m=\u001b[39m time\u001b[38;5;241m.\u001b[39mtime()\n\u001b[1;32m      3\u001b[0m training_stats \u001b[38;5;241m=\u001b[39m []\n\u001b[0;32m----> 5\u001b[0m model \u001b[38;5;241m=\u001b[39m \u001b[43mmodel\u001b[49m\u001b[38;5;241;43m.\u001b[39;49m\u001b[43mto\u001b[49m\u001b[43m(\u001b[49m\u001b[43mdevice\u001b[49m\u001b[43m)\u001b[49m\n\u001b[1;32m      7\u001b[0m \u001b[38;5;28;01mfor\u001b[39;00m epoch_i \u001b[38;5;129;01min\u001b[39;00m \u001b[38;5;28mrange\u001b[39m(\u001b[38;5;241m0\u001b[39m, epochs):\n\u001b[1;32m      8\u001b[0m \n\u001b[1;32m      9\u001b[0m     \u001b[38;5;66;03m# ========================================\u001b[39;00m\n\u001b[1;32m     10\u001b[0m     \u001b[38;5;66;03m#               Training\u001b[39;00m\n\u001b[1;32m     11\u001b[0m     \u001b[38;5;66;03m# ========================================\u001b[39;00m\n\u001b[1;32m     13\u001b[0m     \u001b[38;5;28mprint\u001b[39m(\u001b[38;5;124m\"\u001b[39m\u001b[38;5;124m\"\u001b[39m)\n",
      "File \u001b[0;32m~/anaconda3/envs/NLP2/lib/python3.11/site-packages/transformers/modeling_utils.py:1900\u001b[0m, in \u001b[0;36mPreTrainedModel.to\u001b[0;34m(self, *args, **kwargs)\u001b[0m\n\u001b[1;32m   1895\u001b[0m     \u001b[38;5;28;01mraise\u001b[39;00m \u001b[38;5;167;01mValueError\u001b[39;00m(\n\u001b[1;32m   1896\u001b[0m         \u001b[38;5;124m\"\u001b[39m\u001b[38;5;124m`.to` is not supported for `4-bit` or `8-bit` models. Please use the model as it is, since the\u001b[39m\u001b[38;5;124m\"\u001b[39m\n\u001b[1;32m   1897\u001b[0m         \u001b[38;5;124m\"\u001b[39m\u001b[38;5;124m model has already been set to the correct devices and casted to the correct `dtype`.\u001b[39m\u001b[38;5;124m\"\u001b[39m\n\u001b[1;32m   1898\u001b[0m     )\n\u001b[1;32m   1899\u001b[0m \u001b[38;5;28;01melse\u001b[39;00m:\n\u001b[0;32m-> 1900\u001b[0m     \u001b[38;5;28;01mreturn\u001b[39;00m \u001b[38;5;28;43msuper\u001b[39;49m\u001b[43m(\u001b[49m\u001b[43m)\u001b[49m\u001b[38;5;241;43m.\u001b[39;49m\u001b[43mto\u001b[49m\u001b[43m(\u001b[49m\u001b[38;5;241;43m*\u001b[39;49m\u001b[43margs\u001b[49m\u001b[43m,\u001b[49m\u001b[43m \u001b[49m\u001b[38;5;241;43m*\u001b[39;49m\u001b[38;5;241;43m*\u001b[39;49m\u001b[43mkwargs\u001b[49m\u001b[43m)\u001b[49m\n",
      "File \u001b[0;32m~/anaconda3/envs/NLP2/lib/python3.11/site-packages/torch/nn/modules/module.py:1145\u001b[0m, in \u001b[0;36mModule.to\u001b[0;34m(self, *args, **kwargs)\u001b[0m\n\u001b[1;32m   1141\u001b[0m         \u001b[38;5;28;01mreturn\u001b[39;00m t\u001b[38;5;241m.\u001b[39mto(device, dtype \u001b[38;5;28;01mif\u001b[39;00m t\u001b[38;5;241m.\u001b[39mis_floating_point() \u001b[38;5;129;01mor\u001b[39;00m t\u001b[38;5;241m.\u001b[39mis_complex() \u001b[38;5;28;01melse\u001b[39;00m \u001b[38;5;28;01mNone\u001b[39;00m,\n\u001b[1;32m   1142\u001b[0m                     non_blocking, memory_format\u001b[38;5;241m=\u001b[39mconvert_to_format)\n\u001b[1;32m   1143\u001b[0m     \u001b[38;5;28;01mreturn\u001b[39;00m t\u001b[38;5;241m.\u001b[39mto(device, dtype \u001b[38;5;28;01mif\u001b[39;00m t\u001b[38;5;241m.\u001b[39mis_floating_point() \u001b[38;5;129;01mor\u001b[39;00m t\u001b[38;5;241m.\u001b[39mis_complex() \u001b[38;5;28;01melse\u001b[39;00m \u001b[38;5;28;01mNone\u001b[39;00m, non_blocking)\n\u001b[0;32m-> 1145\u001b[0m \u001b[38;5;28;01mreturn\u001b[39;00m \u001b[38;5;28;43mself\u001b[39;49m\u001b[38;5;241;43m.\u001b[39;49m\u001b[43m_apply\u001b[49m\u001b[43m(\u001b[49m\u001b[43mconvert\u001b[49m\u001b[43m)\u001b[49m\n",
      "File \u001b[0;32m~/anaconda3/envs/NLP2/lib/python3.11/site-packages/torch/nn/modules/module.py:797\u001b[0m, in \u001b[0;36mModule._apply\u001b[0;34m(self, fn)\u001b[0m\n\u001b[1;32m    795\u001b[0m \u001b[38;5;28;01mdef\u001b[39;00m \u001b[38;5;21m_apply\u001b[39m(\u001b[38;5;28mself\u001b[39m, fn):\n\u001b[1;32m    796\u001b[0m     \u001b[38;5;28;01mfor\u001b[39;00m module \u001b[38;5;129;01min\u001b[39;00m \u001b[38;5;28mself\u001b[39m\u001b[38;5;241m.\u001b[39mchildren():\n\u001b[0;32m--> 797\u001b[0m         \u001b[43mmodule\u001b[49m\u001b[38;5;241;43m.\u001b[39;49m\u001b[43m_apply\u001b[49m\u001b[43m(\u001b[49m\u001b[43mfn\u001b[49m\u001b[43m)\u001b[49m\n\u001b[1;32m    799\u001b[0m     \u001b[38;5;28;01mdef\u001b[39;00m \u001b[38;5;21mcompute_should_use_set_data\u001b[39m(tensor, tensor_applied):\n\u001b[1;32m    800\u001b[0m         \u001b[38;5;28;01mif\u001b[39;00m torch\u001b[38;5;241m.\u001b[39m_has_compatible_shallow_copy_type(tensor, tensor_applied):\n\u001b[1;32m    801\u001b[0m             \u001b[38;5;66;03m# If the new tensor has compatible tensor type as the existing tensor,\u001b[39;00m\n\u001b[1;32m    802\u001b[0m             \u001b[38;5;66;03m# the current behavior is to change the tensor in-place using `.data =`,\u001b[39;00m\n\u001b[0;32m   (...)\u001b[0m\n\u001b[1;32m    807\u001b[0m             \u001b[38;5;66;03m# global flag to let the user control whether they want the future\u001b[39;00m\n\u001b[1;32m    808\u001b[0m             \u001b[38;5;66;03m# behavior of overwriting the existing tensor or not.\u001b[39;00m\n",
      "File \u001b[0;32m~/anaconda3/envs/NLP2/lib/python3.11/site-packages/torch/nn/modules/module.py:797\u001b[0m, in \u001b[0;36mModule._apply\u001b[0;34m(self, fn)\u001b[0m\n\u001b[1;32m    795\u001b[0m \u001b[38;5;28;01mdef\u001b[39;00m \u001b[38;5;21m_apply\u001b[39m(\u001b[38;5;28mself\u001b[39m, fn):\n\u001b[1;32m    796\u001b[0m     \u001b[38;5;28;01mfor\u001b[39;00m module \u001b[38;5;129;01min\u001b[39;00m \u001b[38;5;28mself\u001b[39m\u001b[38;5;241m.\u001b[39mchildren():\n\u001b[0;32m--> 797\u001b[0m         \u001b[43mmodule\u001b[49m\u001b[38;5;241;43m.\u001b[39;49m\u001b[43m_apply\u001b[49m\u001b[43m(\u001b[49m\u001b[43mfn\u001b[49m\u001b[43m)\u001b[49m\n\u001b[1;32m    799\u001b[0m     \u001b[38;5;28;01mdef\u001b[39;00m \u001b[38;5;21mcompute_should_use_set_data\u001b[39m(tensor, tensor_applied):\n\u001b[1;32m    800\u001b[0m         \u001b[38;5;28;01mif\u001b[39;00m torch\u001b[38;5;241m.\u001b[39m_has_compatible_shallow_copy_type(tensor, tensor_applied):\n\u001b[1;32m    801\u001b[0m             \u001b[38;5;66;03m# If the new tensor has compatible tensor type as the existing tensor,\u001b[39;00m\n\u001b[1;32m    802\u001b[0m             \u001b[38;5;66;03m# the current behavior is to change the tensor in-place using `.data =`,\u001b[39;00m\n\u001b[0;32m   (...)\u001b[0m\n\u001b[1;32m    807\u001b[0m             \u001b[38;5;66;03m# global flag to let the user control whether they want the future\u001b[39;00m\n\u001b[1;32m    808\u001b[0m             \u001b[38;5;66;03m# behavior of overwriting the existing tensor or not.\u001b[39;00m\n",
      "File \u001b[0;32m~/anaconda3/envs/NLP2/lib/python3.11/site-packages/torch/nn/modules/module.py:820\u001b[0m, in \u001b[0;36mModule._apply\u001b[0;34m(self, fn)\u001b[0m\n\u001b[1;32m    816\u001b[0m \u001b[38;5;66;03m# Tensors stored in modules are graph leaves, and we don't want to\u001b[39;00m\n\u001b[1;32m    817\u001b[0m \u001b[38;5;66;03m# track autograd history of `param_applied`, so we have to use\u001b[39;00m\n\u001b[1;32m    818\u001b[0m \u001b[38;5;66;03m# `with torch.no_grad():`\u001b[39;00m\n\u001b[1;32m    819\u001b[0m \u001b[38;5;28;01mwith\u001b[39;00m torch\u001b[38;5;241m.\u001b[39mno_grad():\n\u001b[0;32m--> 820\u001b[0m     param_applied \u001b[38;5;241m=\u001b[39m \u001b[43mfn\u001b[49m\u001b[43m(\u001b[49m\u001b[43mparam\u001b[49m\u001b[43m)\u001b[49m\n\u001b[1;32m    821\u001b[0m should_use_set_data \u001b[38;5;241m=\u001b[39m compute_should_use_set_data(param, param_applied)\n\u001b[1;32m    822\u001b[0m \u001b[38;5;28;01mif\u001b[39;00m should_use_set_data:\n",
      "File \u001b[0;32m~/anaconda3/envs/NLP2/lib/python3.11/site-packages/torch/nn/modules/module.py:1143\u001b[0m, in \u001b[0;36mModule.to.<locals>.convert\u001b[0;34m(t)\u001b[0m\n\u001b[1;32m   1140\u001b[0m \u001b[38;5;28;01mif\u001b[39;00m convert_to_format \u001b[38;5;129;01mis\u001b[39;00m \u001b[38;5;129;01mnot\u001b[39;00m \u001b[38;5;28;01mNone\u001b[39;00m \u001b[38;5;129;01mand\u001b[39;00m t\u001b[38;5;241m.\u001b[39mdim() \u001b[38;5;129;01min\u001b[39;00m (\u001b[38;5;241m4\u001b[39m, \u001b[38;5;241m5\u001b[39m):\n\u001b[1;32m   1141\u001b[0m     \u001b[38;5;28;01mreturn\u001b[39;00m t\u001b[38;5;241m.\u001b[39mto(device, dtype \u001b[38;5;28;01mif\u001b[39;00m t\u001b[38;5;241m.\u001b[39mis_floating_point() \u001b[38;5;129;01mor\u001b[39;00m t\u001b[38;5;241m.\u001b[39mis_complex() \u001b[38;5;28;01melse\u001b[39;00m \u001b[38;5;28;01mNone\u001b[39;00m,\n\u001b[1;32m   1142\u001b[0m                 non_blocking, memory_format\u001b[38;5;241m=\u001b[39mconvert_to_format)\n\u001b[0;32m-> 1143\u001b[0m \u001b[38;5;28;01mreturn\u001b[39;00m \u001b[43mt\u001b[49m\u001b[38;5;241;43m.\u001b[39;49m\u001b[43mto\u001b[49m\u001b[43m(\u001b[49m\u001b[43mdevice\u001b[49m\u001b[43m,\u001b[49m\u001b[43m \u001b[49m\u001b[43mdtype\u001b[49m\u001b[43m \u001b[49m\u001b[38;5;28;43;01mif\u001b[39;49;00m\u001b[43m \u001b[49m\u001b[43mt\u001b[49m\u001b[38;5;241;43m.\u001b[39;49m\u001b[43mis_floating_point\u001b[49m\u001b[43m(\u001b[49m\u001b[43m)\u001b[49m\u001b[43m \u001b[49m\u001b[38;5;129;43;01mor\u001b[39;49;00m\u001b[43m \u001b[49m\u001b[43mt\u001b[49m\u001b[38;5;241;43m.\u001b[39;49m\u001b[43mis_complex\u001b[49m\u001b[43m(\u001b[49m\u001b[43m)\u001b[49m\u001b[43m \u001b[49m\u001b[38;5;28;43;01melse\u001b[39;49;00m\u001b[43m \u001b[49m\u001b[38;5;28;43;01mNone\u001b[39;49;00m\u001b[43m,\u001b[49m\u001b[43m \u001b[49m\u001b[43mnon_blocking\u001b[49m\u001b[43m)\u001b[49m\n",
      "File \u001b[0;32m~/anaconda3/envs/NLP2/lib/python3.11/site-packages/torch/cuda/__init__.py:247\u001b[0m, in \u001b[0;36m_lazy_init\u001b[0;34m()\u001b[0m\n\u001b[1;32m    245\u001b[0m \u001b[38;5;28;01mif\u001b[39;00m \u001b[38;5;124m'\u001b[39m\u001b[38;5;124mCUDA_MODULE_LOADING\u001b[39m\u001b[38;5;124m'\u001b[39m \u001b[38;5;129;01mnot\u001b[39;00m \u001b[38;5;129;01min\u001b[39;00m os\u001b[38;5;241m.\u001b[39menviron:\n\u001b[1;32m    246\u001b[0m     os\u001b[38;5;241m.\u001b[39menviron[\u001b[38;5;124m'\u001b[39m\u001b[38;5;124mCUDA_MODULE_LOADING\u001b[39m\u001b[38;5;124m'\u001b[39m] \u001b[38;5;241m=\u001b[39m \u001b[38;5;124m'\u001b[39m\u001b[38;5;124mLAZY\u001b[39m\u001b[38;5;124m'\u001b[39m\n\u001b[0;32m--> 247\u001b[0m \u001b[43mtorch\u001b[49m\u001b[38;5;241;43m.\u001b[39;49m\u001b[43m_C\u001b[49m\u001b[38;5;241;43m.\u001b[39;49m\u001b[43m_cuda_init\u001b[49m\u001b[43m(\u001b[49m\u001b[43m)\u001b[49m\n\u001b[1;32m    248\u001b[0m \u001b[38;5;66;03m# Some of the queued calls may reentrantly call _lazy_init();\u001b[39;00m\n\u001b[1;32m    249\u001b[0m \u001b[38;5;66;03m# we need to just return without initializing in that case.\u001b[39;00m\n\u001b[1;32m    250\u001b[0m \u001b[38;5;66;03m# However, we must not let any *other* threads in!\u001b[39;00m\n\u001b[1;32m    251\u001b[0m _tls\u001b[38;5;241m.\u001b[39mis_initializing \u001b[38;5;241m=\u001b[39m \u001b[38;5;28;01mTrue\u001b[39;00m\n",
      "\u001b[0;31mRuntimeError\u001b[0m: No CUDA GPUs are available"
     ]
    }
   ],
   "source": [
    "total_t0 = time.time()\n",
    "\n",
    "training_stats = []\n",
    "\n",
    "model = model.to(device)\n",
    "\n",
    "for epoch_i in range(0, epochs):\n",
    "\n",
    "    # ========================================\n",
    "    #               Training\n",
    "    # ========================================\n",
    "\n",
    "    print(\"\")\n",
    "    print('======== Epoch {:} / {:} ========'.format(epoch_i + 1, epochs))\n",
    "    print('Training...')\n",
    "\n",
    "    t0 = time.time()\n",
    "\n",
    "    total_train_loss = 0\n",
    "\n",
    "    model.train()\n",
    "\n",
    "    for step, batch in enumerate(train_dataloader):\n",
    "\n",
    "        b_input_ids = batch[0].to(device)\n",
    "        b_labels = batch[0].to(device)\n",
    "        b_masks = batch[1].to(device)\n",
    "\n",
    "        model.zero_grad()        \n",
    "\n",
    "        outputs = model(  b_input_ids,\n",
    "                          labels=b_labels, \n",
    "                          attention_mask = b_masks,\n",
    "                          token_type_ids=None\n",
    "                        )\n",
    "\n",
    "        loss = outputs[0]  \n",
    "\n",
    "        batch_loss = loss.item()\n",
    "        total_train_loss += batch_loss\n",
    "\n",
    "        # Get sample every x batches.\n",
    "        if step % sample_every == 0 and not step == 0:\n",
    "\n",
    "            elapsed = format_time(time.time() - t0)\n",
    "            print('  Batch {:>5,}  of  {:>5,}. Loss: {:>5,}.   Elapsed: {:}.'.format(step, len(train_dataloader), batch_loss, elapsed))\n",
    "\n",
    "            model.eval()\n",
    "\n",
    "            sample_outputs = model.generate(\n",
    "                                    bos_token_id=random.randint(1,30000),\n",
    "                                    do_sample=True,   \n",
    "                                    top_k=50, \n",
    "                                    max_length = 200,\n",
    "                                    top_p=0.95, \n",
    "                                    num_return_sequences=1\n",
    "                                )\n",
    "            for i, sample_output in enumerate(sample_outputs):\n",
    "                  print(\"{}: {}\".format(i, tokenizer.decode(sample_output, skip_special_tokens=True)))\n",
    "            \n",
    "            model.train()\n",
    "\n",
    "        loss.backward()\n",
    "\n",
    "        optimizer.step()\n",
    "\n",
    "        scheduler.step()\n",
    "\n",
    "    # Calculate the average loss over all of the batches.\n",
    "    avg_train_loss = total_train_loss / len(train_dataloader)       \n",
    "    \n",
    "    # Measure how long this epoch took.\n",
    "    training_time = format_time(time.time() - t0)\n",
    "\n",
    "    print(\"\")\n",
    "    print(\"  Average training loss: {0:.2f}\".format(avg_train_loss))\n",
    "    print(\"  Training epoch took: {:}\".format(training_time))\n",
    "        \n",
    "    # ========================================\n",
    "    #               Validation\n",
    "    # ========================================\n",
    "\n",
    "    print(\"\")\n",
    "    print(\"Running Validation...\")\n",
    "\n",
    "    t0 = time.time()\n",
    "\n",
    "    model.eval()\n",
    "\n",
    "    total_eval_loss = 0\n",
    "    nb_eval_steps = 0\n",
    "\n",
    "    # Evaluate data for one epoch\n",
    "    for batch in validation_dataloader:\n",
    "        \n",
    "        b_input_ids = batch[0].to(device)\n",
    "        b_labels = batch[0].to(device)\n",
    "        b_masks = batch[1].to(device)\n",
    "        \n",
    "        with torch.no_grad():        \n",
    "\n",
    "            outputs  = model(b_input_ids, \n",
    "#                            token_type_ids=None, \n",
    "                             attention_mask = b_masks,\n",
    "                            labels=b_labels)\n",
    "          \n",
    "            loss = outputs[0]  \n",
    "            \n",
    "        batch_loss = loss.item()\n",
    "        total_eval_loss += batch_loss        \n",
    "\n",
    "    avg_val_loss = total_eval_loss / len(validation_dataloader)\n",
    "    \n",
    "    validation_time = format_time(time.time() - t0)    \n",
    "\n",
    "    print(\"  Validation Loss: {0:.2f}\".format(avg_val_loss))\n",
    "    print(\"  Validation took: {:}\".format(validation_time))\n",
    "\n",
    "    # Record all statistics from this epoch.\n",
    "    training_stats.append(\n",
    "        {\n",
    "            'epoch': epoch_i + 1,\n",
    "            'Training Loss': avg_train_loss,\n",
    "            'Valid. Loss': avg_val_loss,\n",
    "            'Training Time': training_time,\n",
    "            'Validation Time': validation_time\n",
    "        }\n",
    "    )\n",
    "\n",
    "print(\"\")\n",
    "print(\"Training complete!\")\n",
    "print(\"Total training took {:} (h:mm:ss)\".format(format_time(time.time()-total_t0)))"
   ]
  },
  {
   "cell_type": "code",
   "execution_count": null,
   "id": "3c6e13a9-bea0-4ba4-b144-35ec500b75cd",
   "metadata": {},
   "outputs": [],
   "source": []
  }
 ],
 "metadata": {
  "kernelspec": {
   "display_name": "Python 3 (ipykernel)",
   "language": "python",
   "name": "python3"
  },
  "language_info": {
   "codemirror_mode": {
    "name": "ipython",
    "version": 3
   },
   "file_extension": ".py",
   "mimetype": "text/x-python",
   "name": "python",
   "nbconvert_exporter": "python",
   "pygments_lexer": "ipython3",
   "version": "3.11.4"
  }
 },
 "nbformat": 4,
 "nbformat_minor": 5
}
